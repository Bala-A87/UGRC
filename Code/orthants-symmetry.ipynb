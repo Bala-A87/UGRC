{
 "cells": [
  {
   "attachments": {},
   "cell_type": "markdown",
   "metadata": {},
   "source": [
    "## Goal"
   ]
  },
  {
   "attachments": {},
   "cell_type": "markdown",
   "metadata": {},
   "source": [
    "To produce datapoints in 7d space by building 7-spheres in all orthants (2 concentric spheres of radii, say, 1 and 2 in all orthants,\n",
    "centered at say, a distance of 4 from all axes) in a non-uniform fashion, i.e., some orthants would have fewer points and some more points\n",
    "(say, 25% of the orthants have fewer points, perhaps ~25 points in most orthants and ~4 points in the rarer orthants).\n",
    "\n",
    "We wish to determine the performance of a neural network for different orthants - does it perform equally well or similar in all orthants,\n",
    "determining that there is symmetry present in the data? Or does it fail to do so, doing well only in the orthants with more data? We use a\n",
    "validation set of say, 4 points per orthant to quantify each orthant's performance."
   ]
  },
  {
   "attachments": {},
   "cell_type": "markdown",
   "metadata": {},
   "source": [
    "## Data"
   ]
  },
  {
   "attachments": {},
   "cell_type": "markdown",
   "metadata": {},
   "source": [
    "### Defining constants"
   ]
  },
  {
   "cell_type": "code",
   "execution_count": 1,
   "metadata": {},
   "outputs": [],
   "source": [
    "import torch\n",
    "import numpy as np\n",
    "import matplotlib.pyplot as plt\n",
    "from sklearn.model_selection import train_test_split"
   ]
  },
  {
   "cell_type": "code",
   "execution_count": 2,
   "metadata": {},
   "outputs": [
    {
     "data": {
      "text/plain": [
       "torch.Size([128, 7])"
      ]
     },
     "execution_count": 2,
     "metadata": {},
     "output_type": "execute_result"
    }
   ],
   "source": [
    "SIGNS = [-1., 1.] \n",
    "\n",
    "ORTHANTS = torch.stack(\n",
    "    [torch.tensor([s1, s2, s3, s4, s5, s6, s7])\n",
    "    for s1 in SIGNS\n",
    "    for s2 in SIGNS\n",
    "    for s3 in SIGNS\n",
    "    for s4 in SIGNS\n",
    "    for s5 in SIGNS\n",
    "    for s6 in SIGNS\n",
    "    for s7 in SIGNS])   # Representing each orthant as the sign of each of its 7 coordinates/wrt each of its 7 axes\n",
    "ORTHANTS.shape"
   ]
  },
  {
   "cell_type": "code",
   "execution_count": 3,
   "metadata": {},
   "outputs": [],
   "source": [
    "LOW_COUNT = 4   # Average no. of points in a \"rare\" orthant\n",
    "HIGH_COUNT = 25 # Average no. of points in a \"typical\" orthant\n",
    "LOW_SPREAD = 2  # Allowed unidirectional deviation for no. of points in a \"rare\" orthant (i.e., 2 to 6 points)\n",
    "HIGH_SPREAD = 8 # Allowed unidirectional deviation for no. of points in a \"typical\" orthant (i.e., 17 to 33 points)\n",
    "VAL_COUNT = 4   # Validation data points per orthant\n",
    "TEST_COUNT = 10 # Test data points per orthant, for final pattern\n",
    "LOW_FRAC = 0.25 # Number of \"rare\" orthants"
   ]
  },
  {
   "cell_type": "code",
   "execution_count": 4,
   "metadata": {},
   "outputs": [
    {
     "data": {
      "text/plain": [
       "(torch.Size([96, 7]), torch.Size([32, 7]))"
      ]
     },
     "execution_count": 4,
     "metadata": {},
     "output_type": "execute_result"
    }
   ],
   "source": [
    "HIGH_ORTHANTS, LOW_ORTHANTS = train_test_split(ORTHANTS, test_size=LOW_FRAC)\n",
    "# Randomly choosing the \"rare\" orthants\n",
    "HIGH_ORTHANTS.shape, LOW_ORTHANTS.shape"
   ]
  },
  {
   "cell_type": "code",
   "execution_count": 5,
   "metadata": {},
   "outputs": [
    {
     "data": {
      "text/plain": [
       "tensor([4., 4., 4., 4., 4., 4., 4.])"
      ]
     },
     "execution_count": 5,
     "metadata": {},
     "output_type": "execute_result"
    }
   ],
   "source": [
    "CENTRE = 4 * torch.ones(7)\n",
    "# The centre of the 7-spheres, without orthant-specificity, which can be included using ORTHANTS\n",
    "CENTRE"
   ]
  },
  {
   "cell_type": "code",
   "execution_count": 6,
   "metadata": {},
   "outputs": [],
   "source": [
    "LOW_RADIUS = 1. # Radius of the inner sphere (say, label 0) in each orthant\n",
    "HIGH_RADIUS = 2.    # Radius of the outer sphere (say, label 1) in each orthant"
   ]
  },
  {
   "attachments": {},
   "cell_type": "markdown",
   "metadata": {},
   "source": [
    "### Data generation"
   ]
  },
  {
   "attachments": {},
   "cell_type": "markdown",
   "metadata": {},
   "source": [
    "Now, we describe a 7-sphere using the standard notation. <br>\n",
    "Say, it is centered at $C = (C_1, C_2, ..., C_7)$ and has radius $r$. Each point can be described with the help of 6 angles, <br>\n",
    "$\\phi_1$, $\\phi_2$, $\\phi_3$, $\\phi_4$, $\\phi_5$, and $\\phi_6$, where $\\phi_6 \\in [0, 2\\pi)$ and $\\phi_1, ..., \\phi_5 \\in [0, \\pi]$ <br>\n",
    "Any point $x = (x_1, x_2, ..., x_7)$ on the sphere can be described as follows: <br>\n",
    "$x_1 = C_1 + r\\cos(\\phi_1)$ <br>\n",
    "$x_2 = C_2 + r\\sin(\\phi_1)\\cos(\\phi_2)$ <br>\n",
    "$x_3 = C_3 + r\\sin(\\phi_1)\\sin(\\phi_2)\\cos(\\phi_3)$ <br>\n",
    "$x_4 = C_4 + r\\sin(\\phi_1)\\sin(\\phi_2)\\sin(\\phi_3)\\cos(\\phi_4)$ <br>\n",
    "$x_5 = C_5 + r\\sin(\\phi_1)\\sin(\\phi_2)\\sin(\\phi_3)\\sin(\\phi_4)\\cos(\\phi_5)$ <br>\n",
    "$x_6 = C_6 + r\\sin(\\phi_1)\\sin(\\phi_2)\\sin(\\phi_3)\\sin(\\phi_4)\\sin(\\phi_5)\\cos(\\phi_6)$ <br>\n",
    "$x_7 = C_7 + r\\sin(\\phi_1)\\sin(\\phi_2)\\sin(\\phi_3)\\sin(\\phi_4)\\sin(\\phi_5)\\sin(\\phi_6)$\n",
    "<br>\n",
    "\n",
    "Hence, each datapoint will be sampled by randomly generating the 6 angles from appropriate uniform distributions and \n",
    "performing the mentioned transformation"
   ]
  },
  {
   "cell_type": "code",
   "execution_count": 7,
   "metadata": {},
   "outputs": [],
   "source": [
    "def generate_point(\n",
    "    radius: float,\n",
    "    orthant: torch.Tensor\n",
    ") -> torch.Tensor:\n",
    "    \"\"\"\n",
    "    Generates a point on a 7-sphere of centre orthant * CENTRE (global) with radius radius, where\n",
    "    orthant denotes the signs wrt all 7 axes\n",
    "\n",
    "    Args:\n",
    "        radius (float): radius of the 7-sphere\n",
    "        orthant (torch.Tensor): signs wrt the 7 axes for the resulting point, of shape (7,)\n",
    "    \n",
    "    Returns:\n",
    "        x (torch.Tensor): a point on the specified sphere, of shape (7,)\n",
    "    \n",
    "    Example usage:\n",
    "    >>> generate_point(2, tensor([1., 1., 1., 1., 1., 1., 1.]))\n",
    "    tensor([2., 4., 4., 4., 4., 4., 4.])\n",
    "    \"\"\"\n",
    "    phi = torch.rand((6,)) * torch.pi\n",
    "    phi[5] *= 2\n",
    "    diff_unit = torch.tensor([\n",
    "        torch.cos(phi[0]),\n",
    "        torch.sin(phi[0])*torch.cos(phi[1]),\n",
    "        torch.sin(phi[0])*torch.sin(phi[1])*torch.cos(phi[2]),\n",
    "        torch.sin(phi[0])*torch.sin(phi[1])*torch.sin(phi[2])*torch.cos(phi[3]),\n",
    "        torch.sin(phi[0])*torch.sin(phi[1])*torch.sin(phi[2])*torch.sin(phi[3])*torch.cos(phi[4]),\n",
    "        torch.sin(phi[0])*torch.sin(phi[1])*torch.sin(phi[2])*torch.sin(phi[3])*torch.sin(phi[4])*torch.cos(phi[5]),\n",
    "        torch.sin(phi[0])*torch.sin(phi[1])*torch.sin(phi[2])*torch.sin(phi[3])*torch.sin(phi[4])*torch.sin(phi[5])\n",
    "    ])\n",
    "    return torch.mul(CENTRE + radius * diff_unit, orthant)\n",
    "    "
   ]
  },
  {
   "cell_type": "code",
   "execution_count": 8,
   "metadata": {},
   "outputs": [
    {
     "data": {
      "text/plain": [
       "(tensor([-5.7414, -3.1962, -3.5890, -4.2922, -3.7538, -3.9889, -4.0810]),\n",
       " tensor(2.0000))"
      ]
     },
     "execution_count": 8,
     "metadata": {},
     "output_type": "execute_result"
    }
   ],
   "source": [
    "# Testing correctness\n",
    "\n",
    "random_point = generate_point(2, ORTHANTS[0])\n",
    "random_point, ((random_point - ORTHANTS[0]*CENTRE)**2).sum().sqrt()"
   ]
  },
  {
   "attachments": {},
   "cell_type": "markdown",
   "metadata": {},
   "source": [
    "#### Train data"
   ]
  },
  {
   "cell_type": "code",
   "execution_count": 9,
   "metadata": {},
   "outputs": [
    {
     "data": {
      "text/plain": [
       "(torch.Size([115, 7]),\n",
       " torch.Size([114, 7]),\n",
       " torch.Size([2263, 7]),\n",
       " torch.Size([2394, 7]))"
      ]
     },
     "execution_count": 9,
     "metadata": {},
     "output_type": "execute_result"
    }
   ],
   "source": [
    "X_train_low_0 = torch.cat([\n",
    "    torch.cat([\n",
    "        generate_point(1, orthant).reshape(1, -1) for i in range(int((2*torch.rand(1) - 1) * LOW_SPREAD + LOW_COUNT))\n",
    "    ]) for orthant in LOW_ORTHANTS\n",
    "])\n",
    "X_train_low_1 = torch.cat([\n",
    "    torch.cat([\n",
    "        generate_point(2, orthant).reshape(1, -1) for i in range(int((2*torch.rand(1) - 1) * LOW_SPREAD + LOW_COUNT))\n",
    "    ]) for orthant in LOW_ORTHANTS\n",
    "])\n",
    "X_train_high_0 = torch.cat([\n",
    "    torch.cat([\n",
    "        generate_point(1, orthant).reshape(1, -1) for i in range(int((2*torch.rand(1) - 1) * HIGH_SPREAD + HIGH_COUNT))\n",
    "    ]) for orthant in HIGH_ORTHANTS\n",
    "])\n",
    "X_train_high_1 = torch.cat([\n",
    "    torch.cat([\n",
    "        generate_point(2, orthant).reshape(1, -1) for i in range(int((2*torch.rand(1) - 1) * HIGH_SPREAD + HIGH_COUNT))\n",
    "    ]) for orthant in HIGH_ORTHANTS\n",
    "])\n",
    "X_train_low_0.shape, X_train_low_1.shape, X_train_high_0.shape, X_train_high_1.shape"
   ]
  },
  {
   "cell_type": "code",
   "execution_count": 10,
   "metadata": {},
   "outputs": [
    {
     "data": {
      "text/plain": [
       "(torch.Size([115, 1]),\n",
       " torch.Size([114, 1]),\n",
       " torch.Size([2263, 1]),\n",
       " torch.Size([2394, 1]))"
      ]
     },
     "execution_count": 10,
     "metadata": {},
     "output_type": "execute_result"
    }
   ],
   "source": [
    "Y_train_low_0 = torch.zeros(len(X_train_low_0), 1)\n",
    "Y_train_low_1 = torch.ones(len(X_train_low_1), 1)\n",
    "Y_train_high_0 = torch.zeros(len(X_train_high_0), 1)\n",
    "Y_train_high_1 = torch.ones(len(X_train_high_1), 1)\n",
    "Y_train_low_0.shape, Y_train_low_1.shape, Y_train_high_0.shape, Y_train_high_1.shape"
   ]
  },
  {
   "cell_type": "code",
   "execution_count": 11,
   "metadata": {},
   "outputs": [
    {
     "data": {
      "text/plain": [
       "(torch.Size([4886, 7]), torch.Size([4886, 1]))"
      ]
     },
     "execution_count": 11,
     "metadata": {},
     "output_type": "execute_result"
    }
   ],
   "source": [
    "X_train = torch.cat([\n",
    "    X_train_low_0,\n",
    "    X_train_low_1,\n",
    "    X_train_high_0,\n",
    "    X_train_high_1\n",
    "])\n",
    "Y_train = torch.cat([\n",
    "    Y_train_low_0,\n",
    "    Y_train_low_1,\n",
    "    Y_train_high_0,\n",
    "    Y_train_high_1\n",
    "])\n",
    "X_train.shape, Y_train.shape"
   ]
  },
  {
   "cell_type": "code",
   "execution_count": 12,
   "metadata": {},
   "outputs": [],
   "source": [
    "def find_orthant(point: torch.Tensor) -> int:\n",
    "    \"\"\"\n",
    "    Given a point, determines the orthant it lies in as an index of ORTHANTS\n",
    "\n",
    "    Args:\n",
    "        point (torch.Tensor): A random point in 7d space, a tensor of shape (7,)\n",
    "    \n",
    "    Returns:\n",
    "        orthant_no (int): The index of ORTHANTS corresponding to the orthant point lies in\n",
    "            i.e., orthant_no satisfies ORTHANTS[orthant_no] == torch.sign(point)\n",
    "    \n",
    "    Example usage:\n",
    "    >>> find_orthant(tensor([1., 3., -2., -4., 3., 2.2, -9.]))\n",
    "    102\n",
    "    \"\"\"\n",
    "    orthant_no = 0\n",
    "    for dim in point:\n",
    "        orthant_no *= 2\n",
    "        if dim > 0:\n",
    "            orthant_no += 1\n",
    "    return int(orthant_no)"
   ]
  },
  {
   "cell_type": "code",
   "execution_count": 13,
   "metadata": {},
   "outputs": [
    {
     "data": {
      "text/plain": [
       "[<matplotlib.lines.Line2D at 0x7f7570c741c0>]"
      ]
     },
     "execution_count": 13,
     "metadata": {},
     "output_type": "execute_result"
    },
    {
     "data": {
      "image/png": "[encoded data removed]",
      "text/plain": [
       "<Figure size 640x480 with 1 Axes>"
      ]
     },
     "metadata": {},
     "output_type": "display_data"
    }
   ],
   "source": [
    "orthant_counts = torch.zeros(128)\n",
    "for x in X_train:\n",
    "    orthant_counts[find_orthant(x)] += 1\n",
    "plt.plot(range(128), torch.sort(orthant_counts).values)"
   ]
  },
  {
   "attachments": {},
   "cell_type": "markdown",
   "metadata": {},
   "source": [
    "#### Validation data"
   ]
  },
  {
   "cell_type": "code",
   "execution_count": 14,
   "metadata": {},
   "outputs": [
    {
     "data": {
      "text/plain": [
       "(torch.Size([512, 7]),\n",
       " torch.Size([512, 7]),\n",
       " torch.Size([512, 1]),\n",
       " torch.Size([512, 1]))"
      ]
     },
     "execution_count": 14,
     "metadata": {},
     "output_type": "execute_result"
    }
   ],
   "source": [
    "X_val_0 = torch.cat([\n",
    "    torch.cat([\n",
    "        generate_point(1, orthant).reshape(1, -1) for i in range(VAL_COUNT)\n",
    "    ]) for orthant in ORTHANTS\n",
    "])\n",
    "X_val_1 = torch.cat([\n",
    "    torch.cat([\n",
    "        generate_point(2, orthant).reshape(1, -1) for i in range(VAL_COUNT)\n",
    "    ]) for orthant in ORTHANTS\n",
    "])\n",
    "Y_val_0 = torch.zeros(len(X_val_0), 1)\n",
    "Y_val_1 = torch.ones(len(X_val_1), 1)\n",
    "X_val_0.shape, X_val_1.shape, Y_val_0.shape, Y_val_1.shape"
   ]
  },
  {
   "cell_type": "code",
   "execution_count": 15,
   "metadata": {},
   "outputs": [
    {
     "data": {
      "text/plain": [
       "(torch.Size([1024, 7]), torch.Size([1024, 1]))"
      ]
     },
     "execution_count": 15,
     "metadata": {},
     "output_type": "execute_result"
    }
   ],
   "source": [
    "X_val = torch.cat([X_val_0, X_val_1])\n",
    "Y_val = torch.cat([Y_val_0, Y_val_1])\n",
    "X_val.shape, Y_val.shape"
   ]
  },
  {
   "attachments": {},
   "cell_type": "markdown",
   "metadata": {},
   "source": [
    "#### Test data"
   ]
  },
  {
   "cell_type": "code",
   "execution_count": 16,
   "metadata": {},
   "outputs": [
    {
     "data": {
      "text/plain": [
       "(torch.Size([128, 20, 7]), torch.Size([128, 20, 1]))"
      ]
     },
     "execution_count": 16,
     "metadata": {},
     "output_type": "execute_result"
    }
   ],
   "source": [
    "X_test = torch.cat([\n",
    "    torch.cat([\n",
    "        torch.cat([\n",
    "            generate_point(1, orthant).reshape(1, -1) for i in range(TEST_COUNT)\n",
    "        ]),\n",
    "        torch.cat([\n",
    "            generate_point(2, orthant).reshape(1, -1) for i in range(TEST_COUNT)\n",
    "        ])\n",
    "    ]).reshape(1, 2*TEST_COUNT, 7) for orthant in ORTHANTS\n",
    "])\n",
    "Y_test = torch.cat([\n",
    "    torch.cat([\n",
    "        torch.zeros(TEST_COUNT, 1),\n",
    "        torch.ones(TEST_COUNT, 1)\n",
    "    ]).reshape(1, 2*TEST_COUNT, 1) for orthant in ORTHANTS\n",
    "])\n",
    "X_test.shape, Y_test.shape"
   ]
  },
  {
   "attachments": {},
   "cell_type": "markdown",
   "metadata": {},
   "source": [
    "## Model"
   ]
  },
  {
   "cell_type": "code",
   "execution_count": 17,
   "metadata": {},
   "outputs": [],
   "source": [
    "device = 'cpu'"
   ]
  },
  {
   "cell_type": "code",
   "execution_count": 28,
   "metadata": {},
   "outputs": [],
   "source": [
    "from torch import nn\n",
    "\n",
    "class SimpleNN(nn.Module):\n",
    "    def __init__(\n",
    "        self,\n",
    "        hidden_layers: int = 2,\n",
    "        hidden_units: int = 32\n",
    "    ) -> None:\n",
    "        super().__init__()\n",
    "        self.input = nn.Sequential(\n",
    "            nn.Linear(in_features=7, out_features=hidden_units),\n",
    "            nn.ReLU()\n",
    "        )\n",
    "        self.hidden = nn.Sequential()\n",
    "        for i in range(hidden_layers):\n",
    "            self.hidden.append(nn.Linear(in_features=hidden_units, out_features=hidden_units))\n",
    "            self.hidden.append(nn.ReLU())\n",
    "        self.output = nn.Sequential(\n",
    "            nn.Linear(in_features=hidden_units, out_features=1),\n",
    "            nn.Sigmoid()\n",
    "        )\n",
    "    \n",
    "    def forward(self, x):\n",
    "        return self.output(self.hidden(self.input(x)))\n"
   ]
  },
  {
   "cell_type": "code",
   "execution_count": 30,
   "metadata": {},
   "outputs": [],
   "source": [
    "from scripts.utils import make_dataloader\n",
    "\n",
    "train_dataloader, val_dataloader = make_dataloader(X_train, Y_train, batch_size=32, shuffle=True), make_dataloader(X_val, Y_val, batch_size=32, shuffle=True)"
   ]
  },
  {
   "cell_type": "code",
   "execution_count": 49,
   "metadata": {},
   "outputs": [],
   "source": [
    "depths = [1, 2, 3]\n",
    "widths = [16, 32, 64]\n",
    "lambdas = [0, 1e-4, 1e-3]\n",
    "etas = [1e-2, 1e-3, 1e-4]\n",
    "betass = [(0.9, 0.999), (0.8, 0.9)]"
   ]
  },
  {
   "cell_type": "code",
   "execution_count": 50,
   "metadata": {},
   "outputs": [],
   "source": [
    "best_depth = None\n",
    "best_width = None\n",
    "best_lambda = None\n",
    "best_eta = None\n",
    "best_betas = None\n",
    "best_score = -1"
   ]
  },
  {
   "cell_type": "code",
   "execution_count": 51,
   "metadata": {},
   "outputs": [
    {
     "name": "stdout",
     "output_type": "stream",
     "text": [
      "Model 1 / 162 trained. Validation accuracy: 0.76953125\n",
      "Model 2 / 162 trained. Validation accuracy: 0.8173828125\n",
      "Model 3 / 162 trained. Validation accuracy: 0.59765625\n",
      "Model 4 / 162 trained. Validation accuracy: 0.53125\n",
      "Model 5 / 162 trained. Validation accuracy: 0.5078125\n",
      "Model 6 / 162 trained. Validation accuracy: 0.5068359375\n",
      "Model 7 / 162 trained. Validation accuracy: 0.638671875\n",
      "Model 8 / 162 trained. Validation accuracy: 0.87109375\n",
      "Model 9 / 162 trained. Validation accuracy: 0.5302734375\n",
      "Model 10 / 162 trained. Validation accuracy: 0.5380859375\n",
      "Model 11 / 162 trained. Validation accuracy: 0.5048828125\n",
      "Model 12 / 162 trained. Validation accuracy: 0.5068359375\n",
      "Model 13 / 162 trained. Validation accuracy: 0.5\n",
      "Model 14 / 162 trained. Validation accuracy: 0.671875\n",
      "Model 15 / 162 trained. Validation accuracy: 0.591796875\n",
      "Model 16 / 162 trained. Validation accuracy: 0.5283203125\n",
      "Model 17 / 162 trained. Validation accuracy: 0.4951171875\n",
      "Model 18 / 162 trained. Validation accuracy: 0.4970703125\n",
      "Model 19 / 162 trained. Validation accuracy: 0.560546875\n",
      "Model 20 / 162 trained. Validation accuracy: 0.7666015625\n",
      "Model 21 / 162 trained. Validation accuracy: 0.6337890625\n",
      "Model 22 / 162 trained. Validation accuracy: 0.556640625\n",
      "Model 23 / 162 trained. Validation accuracy: 0.51171875\n",
      "Model 24 / 162 trained. Validation accuracy: 0.5166015625\n",
      "Model 25 / 162 trained. Validation accuracy: 0.498046875\n",
      "Model 26 / 162 trained. Validation accuracy: 0.7568359375\n",
      "Model 27 / 162 trained. Validation accuracy: 0.7646484375\n",
      "Model 28 / 162 trained. Validation accuracy: 0.6123046875\n",
      "Model 29 / 162 trained. Validation accuracy: 0.501953125\n",
      "Model 30 / 162 trained. Validation accuracy: 0.494140625\n",
      "Model 31 / 162 trained. Validation accuracy: 0.5009765625\n",
      "Model 32 / 162 trained. Validation accuracy: 0.498046875\n",
      "Model 33 / 162 trained. Validation accuracy: 0.57421875\n",
      "Model 34 / 162 trained. Validation accuracy: 0.6728515625\n",
      "Model 35 / 162 trained. Validation accuracy: 0.4951171875\n",
      "Model 36 / 162 trained. Validation accuracy: 0.513671875\n",
      "Model 37 / 162 trained. Validation accuracy: 0.5\n",
      "Model 38 / 162 trained. Validation accuracy: 0.5\n",
      "Model 39 / 162 trained. Validation accuracy: 0.7431640625\n",
      "Model 40 / 162 trained. Validation accuracy: 0.751953125\n",
      "Model 41 / 162 trained. Validation accuracy: 0.5126953125\n",
      "Model 42 / 162 trained. Validation accuracy: 0.5302734375\n",
      "Model 43 / 162 trained. Validation accuracy: 0.5\n",
      "Model 44 / 162 trained. Validation accuracy: 0.494140625\n",
      "Model 45 / 162 trained. Validation accuracy: 0.7294921875\n",
      "Model 46 / 162 trained. Validation accuracy: 0.7578125\n",
      "Model 47 / 162 trained. Validation accuracy: 0.5244140625\n",
      "Model 48 / 162 trained. Validation accuracy: 0.517578125\n",
      "Model 49 / 162 trained. Validation accuracy: 0.4921875\n",
      "Model 50 / 162 trained. Validation accuracy: 0.501953125\n",
      "Model 51 / 162 trained. Validation accuracy: 0.6884765625\n",
      "Model 52 / 162 trained. Validation accuracy: 0.6962890625\n",
      "Model 53 / 162 trained. Validation accuracy: 0.513671875\n",
      "Model 54 / 162 trained. Validation accuracy: 0.517578125\n",
      "Model 55 / 162 trained. Validation accuracy: 0.61328125\n",
      "Model 56 / 162 trained. Validation accuracy: 0.8515625\n",
      "Model 57 / 162 trained. Validation accuracy: 0.5654296875\n",
      "Model 58 / 162 trained. Validation accuracy: 0.541015625\n",
      "Model 59 / 162 trained. Validation accuracy: 0.5009765625\n",
      "Model 60 / 162 trained. Validation accuracy: 0.494140625\n",
      "Model 61 / 162 trained. Validation accuracy: 0.6884765625\n",
      "Model 62 / 162 trained. Validation accuracy: 0.814453125\n",
      "Model 63 / 162 trained. Validation accuracy: 0.5654296875\n",
      "Model 64 / 162 trained. Validation accuracy: 0.5380859375\n",
      "Model 65 / 162 trained. Validation accuracy: 0.5087890625\n",
      "Model 66 / 162 trained. Validation accuracy: 0.501953125\n",
      "Model 67 / 162 trained. Validation accuracy: 0.5\n",
      "Model 68 / 162 trained. Validation accuracy: 0.5\n",
      "Model 69 / 162 trained. Validation accuracy: 0.546875\n",
      "Model 70 / 162 trained. Validation accuracy: 0.572265625\n",
      "Model 71 / 162 trained. Validation accuracy: 0.5009765625\n",
      "Model 72 / 162 trained. Validation accuracy: 0.501953125\n",
      "Model 73 / 162 trained. Validation accuracy: 0.5\n",
      "Model 74 / 162 trained. Validation accuracy: 0.8349609375\n",
      "Model 75 / 162 trained. Validation accuracy: 0.7529296875\n",
      "Model 76 / 162 trained. Validation accuracy: 0.7060546875\n",
      "Model 77 / 162 trained. Validation accuracy: 0.5068359375\n",
      "Model 78 / 162 trained. Validation accuracy: 0.525390625\n",
      "Model 79 / 162 trained. Validation accuracy: 0.7138671875\n",
      "Model 80 / 162 trained. Validation accuracy: 0.845703125\n",
      "Model 81 / 162 trained. Validation accuracy: 0.728515625\n",
      "Model 82 / 162 trained. Validation accuracy: 0.6298828125\n",
      "Model 83 / 162 trained. Validation accuracy: 0.5068359375\n",
      "Model 84 / 162 trained. Validation accuracy: 0.5087890625\n",
      "Model 85 / 162 trained. Validation accuracy: 0.5\n",
      "Model 86 / 162 trained. Validation accuracy: 0.5\n",
      "Model 87 / 162 trained. Validation accuracy: 0.779296875\n",
      "Model 88 / 162 trained. Validation accuracy: 0.5498046875\n",
      "Model 89 / 162 trained. Validation accuracy: 0.5185546875\n",
      "Model 90 / 162 trained. Validation accuracy: 0.515625\n",
      "Model 91 / 162 trained. Validation accuracy: 0.5\n",
      "Model 92 / 162 trained. Validation accuracy: 0.712890625\n",
      "Model 93 / 162 trained. Validation accuracy: 0.890625\n",
      "Model 94 / 162 trained. Validation accuracy: 0.8017578125\n",
      "Model 95 / 162 trained. Validation accuracy: 0.5380859375\n",
      "Model 96 / 162 trained. Validation accuracy: 0.5146484375\n",
      "Model 97 / 162 trained. Validation accuracy: 0.5\n",
      "Model 98 / 162 trained. Validation accuracy: 0.5\n",
      "Model 99 / 162 trained. Validation accuracy: 0.8369140625\n",
      "Model 100 / 162 trained. Validation accuracy: 0.7509765625\n",
      "Model 101 / 162 trained. Validation accuracy: 0.529296875\n",
      "Model 102 / 162 trained. Validation accuracy: 0.5205078125\n",
      "Model 103 / 162 trained. Validation accuracy: 0.5\n",
      "Model 104 / 162 trained. Validation accuracy: 0.5\n",
      "Model 105 / 162 trained. Validation accuracy: 0.75\n",
      "Model 106 / 162 trained. Validation accuracy: 0.77734375\n",
      "Model 107 / 162 trained. Validation accuracy: 0.521484375\n",
      "Model 108 / 162 trained. Validation accuracy: 0.5244140625\n",
      "Model 109 / 162 trained. Validation accuracy: 0.5\n",
      "Model 110 / 162 trained. Validation accuracy: 0.77734375\n",
      "Model 111 / 162 trained. Validation accuracy: 0.78515625\n",
      "Model 112 / 162 trained. Validation accuracy: 0.556640625\n",
      "Model 113 / 162 trained. Validation accuracy: 0.5009765625\n",
      "Model 114 / 162 trained. Validation accuracy: 0.4990234375\n",
      "Model 115 / 162 trained. Validation accuracy: 0.5\n",
      "Model 116 / 162 trained. Validation accuracy: 0.8046875\n",
      "Model 117 / 162 trained. Validation accuracy: 0.6201171875\n",
      "Model 118 / 162 trained. Validation accuracy: 0.6884765625\n",
      "Model 119 / 162 trained. Validation accuracy: 0.5\n",
      "Model 120 / 162 trained. Validation accuracy: 0.4951171875\n",
      "Model 121 / 162 trained. Validation accuracy: 0.5\n",
      "Model 122 / 162 trained. Validation accuracy: 0.5\n",
      "Model 123 / 162 trained. Validation accuracy: 0.5478515625\n",
      "Model 124 / 162 trained. Validation accuracy: 0.548828125\n",
      "Model 125 / 162 trained. Validation accuracy: 0.5087890625\n",
      "Model 126 / 162 trained. Validation accuracy: 0.5\n",
      "Model 127 / 162 trained. Validation accuracy: 0.5\n",
      "Model 128 / 162 trained. Validation accuracy: 0.5\n",
      "Model 129 / 162 trained. Validation accuracy: 0.767578125\n",
      "Model 130 / 162 trained. Validation accuracy: 0.732421875\n",
      "Model 131 / 162 trained. Validation accuracy: 0.51953125\n",
      "Model 132 / 162 trained. Validation accuracy: 0.509765625\n",
      "Model 133 / 162 trained. Validation accuracy: 0.5\n",
      "Model 134 / 162 trained. Validation accuracy: 0.5\n",
      "Model 135 / 162 trained. Validation accuracy: 0.751953125\n",
      "Model 136 / 162 trained. Validation accuracy: 0.736328125\n",
      "Model 137 / 162 trained. Validation accuracy: 0.513671875\n",
      "Model 138 / 162 trained. Validation accuracy: 0.5107421875\n",
      "Model 139 / 162 trained. Validation accuracy: 0.5\n",
      "Model 140 / 162 trained. Validation accuracy: 0.5\n",
      "Model 141 / 162 trained. Validation accuracy: 0.7900390625\n",
      "Model 142 / 162 trained. Validation accuracy: 0.677734375\n",
      "Model 143 / 162 trained. Validation accuracy: 0.505859375\n",
      "Model 144 / 162 trained. Validation accuracy: 0.5\n",
      "Model 145 / 162 trained. Validation accuracy: 0.5\n",
      "Model 146 / 162 trained. Validation accuracy: 0.5\n",
      "Model 147 / 162 trained. Validation accuracy: 0.82421875\n",
      "Model 148 / 162 trained. Validation accuracy: 0.8740234375\n",
      "Model 149 / 162 trained. Validation accuracy: 0.5400390625\n",
      "Model 150 / 162 trained. Validation accuracy: 0.525390625\n",
      "Model 151 / 162 trained. Validation accuracy: 0.5\n",
      "Model 152 / 162 trained. Validation accuracy: 0.5\n",
      "Model 153 / 162 trained. Validation accuracy: 0.8857421875\n",
      "Model 154 / 162 trained. Validation accuracy: 0.818359375\n",
      "Model 155 / 162 trained. Validation accuracy: 0.5283203125\n",
      "Model 156 / 162 trained. Validation accuracy: 0.544921875\n",
      "Model 157 / 162 trained. Validation accuracy: 0.5\n",
      "Model 158 / 162 trained. Validation accuracy: 0.5\n",
      "Model 159 / 162 trained. Validation accuracy: 0.798828125\n",
      "Model 160 / 162 trained. Validation accuracy: 0.796875\n",
      "Model 161 / 162 trained. Validation accuracy: 0.5244140625\n",
      "Model 162 / 162 trained. Validation accuracy: 0.5078125\n",
      "Results:\n",
      "Depth: 2\n",
      "Width: 64\n",
      "Lambda: 0\n",
      "Eta: 0.001\n",
      "Betas: (0.9, 0.999)\n",
      "Accuracy after 32 epochs: 0.890625\n"
     ]
    }
   ],
   "source": [
    "from scripts.metrics import BinaryAccuracy\n",
    "from scripts.train import train_model\n",
    "from scripts.test import predict\n",
    "\n",
    "count = 0\n",
    "total = len(depths) * len(widths) * len(lambdas) * len(etas) * len(betass)\n",
    "EPOCHS = 32\n",
    "for depth in depths:\n",
    "    for width in widths:\n",
    "        for lambda_i in lambdas:\n",
    "            for eta in etas:\n",
    "                for betas in betass:\n",
    "                    model = SimpleNN(hidden_layers=depth, hidden_units=width).to(device)\n",
    "                    loss_fn = torch.nn.BCELoss()\n",
    "                    optimizer = torch.optim.Adam(params=model.parameters(), lr=eta, betas=betas, weight_decay=lambda_i)\n",
    "                    metric = BinaryAccuracy()\n",
    "                    history = train_model(\n",
    "                        model=model,\n",
    "                        train_dataloader=train_dataloader,\n",
    "                        val_dataloader=val_dataloader,\n",
    "                        loss_fn=loss_fn,\n",
    "                        optimizer=optimizer,\n",
    "                        metric=metric,\n",
    "                        epochs=EPOCHS,\n",
    "                        verbose=0,\n",
    "                        device=device\n",
    "                    )\n",
    "                    count += 1\n",
    "                    score = history['val_score'][-1]\n",
    "                    print(f'Model {count} of {total} trained. Validation accuracy: {score}')\n",
    "                    if score > best_score:\n",
    "                        best_score = score\n",
    "                        best_depth = depth\n",
    "                        best_width = width\n",
    "                        best_lambda = lambda_i\n",
    "                        best_eta = eta\n",
    "                        best_betas = betas\n",
    "\n",
    "print(f'Results:\\nDepth: {best_depth}\\nWidth: {best_width}\\nLambda: {best_lambda}\\nEta: {best_eta}\\nBetas: {best_betas}\\nAccuracy after {EPOCHS} epochs: {best_score}')"
   ]
  },
  {
   "cell_type": "code",
   "execution_count": 52,
   "metadata": {},
   "outputs": [],
   "source": [
    "best_model = SimpleNN(hidden_layers=best_depth, hidden_units=best_width).to(device)"
   ]
  },
  {
   "cell_type": "code",
   "execution_count": 53,
   "metadata": {},
   "outputs": [],
   "source": [
    "from scripts.metrics import BinaryAccuracy\n",
    "\n",
    "loss_fn = torch.nn.BCELoss()\n",
    "optimizer = torch.optim.Adam(params=best_model.parameters(), lr=best_eta, betas=best_betas, weight_decay=best_lambda)\n",
    "metric = BinaryAccuracy()"
   ]
  },
  {
   "cell_type": "code",
   "execution_count": 54,
   "metadata": {},
   "outputs": [],
   "source": [
    "from scripts.utils import EarlyStopping\n",
    "\n",
    "early_stop = EarlyStopping(patience=20, min_delta=1e-4)"
   ]
  },
  {
   "cell_type": "code",
   "execution_count": 55,
   "metadata": {},
   "outputs": [
    {
     "name": "stdout",
     "output_type": "stream",
     "text": [
      "Training model for 200 epochs. Early stopping enabled.\n",
      "Epoch: 1 => Train loss: 0.695051, Train score: 0.502247, Val loss: 0.696149, Val score: 0.505859\n",
      "Epoch: 2 => Train loss: 0.691054, Train score: 0.530897, Val loss: 0.695234, Val score: 0.513672\n",
      "Epoch: 3 => Train loss: 0.690187, Train score: 0.536356, Val loss: 0.693460, Val score: 0.500977\n",
      "Epoch: 4 => Train loss: 0.688437, Train score: 0.541852, Val loss: 0.692837, Val score: 0.525391\n",
      "Epoch: 5 => Train loss: 0.686218, Train score: 0.543598, Val loss: 0.689367, Val score: 0.531250\n",
      "Epoch: 6 => Train loss: 0.679450, Train score: 0.555017, Val loss: 0.682071, Val score: 0.538086\n",
      "Epoch: 7 => Train loss: 0.666943, Train score: 0.574031, Val loss: 0.686912, Val score: 0.564453\n",
      "Epoch: 8 => Train loss: 0.650720, Train score: 0.598021, Val loss: 0.661860, Val score: 0.567383\n",
      "Epoch: 9 => Train loss: 0.633394, Train score: 0.628342, Val loss: 0.665979, Val score: 0.571289\n",
      "Epoch: 10 => Train loss: 0.616157, Train score: 0.642138, Val loss: 0.639190, Val score: 0.617188\n",
      "Epoch: 11 => Train loss: 0.596500, Train score: 0.664476, Val loss: 0.600833, Val score: 0.657227\n",
      "Epoch: 12 => Train loss: 0.573336, Train score: 0.681131, Val loss: 0.581571, Val score: 0.674805\n",
      "Epoch: 13 => Train loss: 0.544454, Train score: 0.714331, Val loss: 0.589088, Val score: 0.660156\n",
      "Epoch: 14 => Train loss: 0.528987, Train score: 0.726976, Val loss: 0.596105, Val score: 0.686523\n",
      "Epoch: 15 => Train loss: 0.507434, Train score: 0.737207, Val loss: 0.550035, Val score: 0.721680\n",
      "Epoch: 16 => Train loss: 0.493320, Train score: 0.746769, Val loss: 0.536664, Val score: 0.726562\n",
      "Epoch: 17 => Train loss: 0.482387, Train score: 0.757483, Val loss: 0.508796, Val score: 0.750977\n",
      "Epoch: 18 => Train loss: 0.469887, Train score: 0.767213, Val loss: 0.570372, Val score: 0.721680\n",
      "Epoch: 19 => Train loss: 0.462859, Train score: 0.773024, Val loss: 0.519321, Val score: 0.749023\n",
      "Epoch: 20 => Train loss: 0.452600, Train score: 0.774974, Val loss: 0.521604, Val score: 0.750000\n",
      "Epoch: 21 => Train loss: 0.444530, Train score: 0.781287, Val loss: 0.504796, Val score: 0.756836\n",
      "Epoch: 22 => Train loss: 0.434725, Train score: 0.788529, Val loss: 0.498105, Val score: 0.752930\n",
      "Epoch: 23 => Train loss: 0.420749, Train score: 0.796067, Val loss: 0.495029, Val score: 0.763672\n",
      "Epoch: 24 => Train loss: 0.411455, Train score: 0.803959, Val loss: 0.478934, Val score: 0.776367\n",
      "Epoch: 25 => Train loss: 0.399880, Train score: 0.815081, Val loss: 0.479290, Val score: 0.791992\n",
      "Epoch: 26 => Train loss: 0.383965, Train score: 0.827150, Val loss: 0.482579, Val score: 0.778320\n",
      "Epoch: 27 => Train loss: 0.375335, Train score: 0.834225, Val loss: 0.446857, Val score: 0.800781\n",
      "Epoch: 28 => Train loss: 0.359854, Train score: 0.838700, Val loss: 0.439464, Val score: 0.810547\n",
      "Epoch: 29 => Train loss: 0.342366, Train score: 0.853053, Val loss: 0.421113, Val score: 0.817383\n",
      "Epoch: 30 => Train loss: 0.324248, Train score: 0.864193, Val loss: 0.435883, Val score: 0.816406\n",
      "Epoch: 31 => Train loss: 0.306652, Train score: 0.877358, Val loss: 0.392763, Val score: 0.833008\n",
      "Epoch: 32 => Train loss: 0.296140, Train score: 0.881350, Val loss: 0.377068, Val score: 0.855469\n",
      "Epoch: 33 => Train loss: 0.289083, Train score: 0.881759, Val loss: 0.374319, Val score: 0.837891\n",
      "Epoch: 34 => Train loss: 0.270018, Train score: 0.894014, Val loss: 0.372741, Val score: 0.854492\n",
      "Epoch: 35 => Train loss: 0.260213, Train score: 0.897077, Val loss: 0.358040, Val score: 0.870117\n",
      "Epoch: 36 => Train loss: 0.246788, Train score: 0.906863, Val loss: 0.349353, Val score: 0.873047\n",
      "Epoch: 37 => Train loss: 0.240944, Train score: 0.912377, Val loss: 0.364520, Val score: 0.848633\n",
      "Epoch: 38 => Train loss: 0.241349, Train score: 0.910149, Val loss: 0.338901, Val score: 0.872070\n",
      "Epoch: 39 => Train loss: 0.229676, Train score: 0.913826, Val loss: 0.359011, Val score: 0.871094\n",
      "Epoch: 40 => Train loss: 0.236426, Train score: 0.912600, Val loss: 0.343164, Val score: 0.879883\n",
      "Epoch: 41 => Train loss: 0.222285, Train score: 0.916574, Val loss: 0.350356, Val score: 0.855469\n",
      "Epoch: 42 => Train loss: 0.218678, Train score: 0.920473, Val loss: 0.319725, Val score: 0.874023\n",
      "Epoch: 43 => Train loss: 0.219355, Train score: 0.918431, Val loss: 0.331234, Val score: 0.867188\n",
      "Epoch: 44 => Train loss: 0.211744, Train score: 0.918431, Val loss: 0.324153, Val score: 0.881836\n",
      "Epoch: 45 => Train loss: 0.210361, Train score: 0.923333, Val loss: 0.322869, Val score: 0.886719\n",
      "Epoch: 46 => Train loss: 0.200309, Train score: 0.924855, Val loss: 0.326687, Val score: 0.878906\n",
      "Epoch: 47 => Train loss: 0.204053, Train score: 0.924447, Val loss: 0.335001, Val score: 0.872070\n",
      "Epoch: 48 => Train loss: 0.205815, Train score: 0.921476, Val loss: 0.340897, Val score: 0.894531\n",
      "Epoch: 49 => Train loss: 0.199557, Train score: 0.925171, Val loss: 0.341528, Val score: 0.883789\n",
      "Epoch: 50 => Train loss: 0.193193, Train score: 0.931168, Val loss: 0.360795, Val score: 0.884766\n",
      "Epoch: 51 => Train loss: 0.189730, Train score: 0.932505, Val loss: 0.333329, Val score: 0.877930\n",
      "Epoch: 52 => Train loss: 0.183253, Train score: 0.932097, Val loss: 0.337041, Val score: 0.880859\n",
      "Epoch: 53 => Train loss: 0.188544, Train score: 0.928327, Val loss: 0.366518, Val score: 0.885742\n",
      "Epoch: 54 => Train loss: 0.178822, Train score: 0.932431, Val loss: 0.324625, Val score: 0.888672\n",
      "Epoch: 55 => Train loss: 0.189354, Train score: 0.926285, Val loss: 0.330075, Val score: 0.889648\n",
      "Epoch: 56 => Train loss: 0.175615, Train score: 0.935365, Val loss: 0.366903, Val score: 0.868164\n",
      "Epoch: 57 => Train loss: 0.179626, Train score: 0.932301, Val loss: 0.349983, Val score: 0.880859\n",
      "Epoch: 58 => Train loss: 0.177854, Train score: 0.935866, Val loss: 0.330200, Val score: 0.888672\n",
      "Epoch: 59 => Train loss: 0.177413, Train score: 0.934752, Val loss: 0.343458, Val score: 0.876953\n",
      "Epoch: 60 => Train loss: 0.167367, Train score: 0.939338, Val loss: 0.335203, Val score: 0.879883\n",
      "Epoch: 61 => Train loss: 0.165073, Train score: 0.938428, Val loss: 0.340672, Val score: 0.883789\n",
      "Epoch: 62 => Train loss: 0.165649, Train score: 0.936999, Val loss: 0.330149, Val score: 0.892578\n",
      "Training stopped.\n"
     ]
    }
   ],
   "source": [
    "from scripts.train import train_model\n",
    "\n",
    "history = train_model(\n",
    "    model=best_model,\n",
    "    train_dataloader=train_dataloader,\n",
    "    val_dataloader=val_dataloader,\n",
    "    loss_fn=loss_fn,\n",
    "    optimizer=optimizer,\n",
    "    metric=metric,\n",
    "    epochs=200,\n",
    "    early_stopping=early_stop,\n",
    "    device=device\n",
    ")"
   ]
  },
  {
   "cell_type": "code",
   "execution_count": 56,
   "metadata": {},
   "outputs": [
    {
     "data": {
      "image/png": "[encoded data removed]",
      "text/plain": [
       "<Figure size 1200x600 with 2 Axes>"
      ]
     },
     "metadata": {},
     "output_type": "display_data"
    }
   ],
   "source": [
    "from scripts.utils import plot_train_history\n",
    "\n",
    "plot_train_history(history)"
   ]
  },
  {
   "cell_type": "code",
   "execution_count": 57,
   "metadata": {},
   "outputs": [],
   "source": [
    "from scripts.test import predict\n",
    "\n",
    "scores = torch.tensor([\n",
    "    metric(\n",
    "        predict(best_model, X_test[i], device),\n",
    "        Y_test[i]\n",
    "    ) for i in range(128)\n",
    "])"
   ]
  },
  {
   "attachments": {},
   "cell_type": "markdown",
   "metadata": {},
   "source": [
    "## Orthant performance plot"
   ]
  },
  {
   "cell_type": "code",
   "execution_count": 58,
   "metadata": {},
   "outputs": [
    {
     "data": {
      "text/plain": [
       "Text(0.5, 1.0, 'Score vs no. of points for each orthant')"
      ]
     },
     "execution_count": 58,
     "metadata": {},
     "output_type": "execute_result"
    },
    {
     "data": {
      "image/png": "[encoded data removed]",
      "text/plain": [
       "<Figure size 650x600 with 1 Axes>"
      ]
     },
     "metadata": {},
     "output_type": "display_data"
    }
   ],
   "source": [
    "plt.figure(figsize=(6.5, 6))\n",
    "plt.scatter(orthant_counts, scores)\n",
    "plt.xlabel('Number of points')\n",
    "plt.ylabel('Binary accuracy')\n",
    "plt.title('Score vs no. of points for each orthant')"
   ]
  },
  {
   "cell_type": "code",
   "execution_count": 59,
   "metadata": {},
   "outputs": [
    {
     "data": {
      "text/plain": [
       "0.2098120922554635"
      ]
     },
     "execution_count": 59,
     "metadata": {},
     "output_type": "execute_result"
    }
   ],
   "source": [
    "from scipy.stats import pearsonr\n",
    "\n",
    "pearsonr(orthant_counts, scores).statistic"
   ]
  },
  {
   "cell_type": "code",
   "execution_count": null,
   "metadata": {},
   "outputs": [],
   "source": []
  }
 ],
 "metadata": {
  "kernelspec": {
   "display_name": "Python 3",
   "language": "python",
   "name": "python3"
  },
  "language_info": {
   "codemirror_mode": {
    "name": "ipython",
    "version": 3
   },
   "file_extension": ".py",
   "mimetype": "text/x-python",
   "name": "python",
   "nbconvert_exporter": "python",
   "pygments_lexer": "ipython3",
   "version": "3.10.6"
  },
  "orig_nbformat": 4,
  "vscode": {
   "interpreter": {
    "hash": "916dbcbb3f70747c44a77c7bcd40155683ae19c65e1c03b4aa3499c5328201f1"
   }
  }
 },
 "nbformat": 4,
 "nbformat_minor": 2
}
