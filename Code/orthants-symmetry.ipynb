{
 "cells": [
  {
   "attachments": {},
   "cell_type": "markdown",
   "metadata": {},
   "source": [
    "## Goal"
   ]
  },
  {
   "attachments": {},
   "cell_type": "markdown",
   "metadata": {},
   "source": [
    "To produce datapoints in 7d space by building 7-spheres in all orthants (2 concentric spheres of radii, say, 1 and 2 in all orthants,\n",
    "centered at say, a distance of 4 from all axes) in a non-uniform fashion, i.e., some orthants would have fewer points and some more points\n",
    "(say, 25% of the orthants have fewer points, perhaps ~25 points in most orthants and ~4 points in the rarer orthants).\n",
    "\n",
    "We wish to determine the performance of a neural network for different orthants - does it perform equally well or similar in all orthants,\n",
    "determining that there is symmetry present in the data? Or does it fail to do so, doing well only in the orthants with more data? We use a\n",
    "test set of say, 128 points per orthant to quantify each orthant's performance."
   ]
  },
  {
   "attachments": {},
   "cell_type": "markdown",
   "metadata": {},
   "source": [
    "## Data"
   ]
  },
  {
   "attachments": {},
   "cell_type": "markdown",
   "metadata": {},
   "source": [
    "### Defining constants"
   ]
  },
  {
   "cell_type": "code",
   "execution_count": 1,
   "metadata": {},
   "outputs": [],
   "source": [
    "import torch\n",
    "import numpy as np\n",
    "import matplotlib.pyplot as plt\n",
    "from sklearn.model_selection import train_test_split"
   ]
  },
  {
   "cell_type": "code",
   "execution_count": 2,
   "metadata": {},
   "outputs": [
    {
     "data": {
      "text/plain": [
       "torch.Size([128, 7])"
      ]
     },
     "execution_count": 2,
     "metadata": {},
     "output_type": "execute_result"
    }
   ],
   "source": [
    "SIGNS = [-1., 1.] \n",
    "\n",
    "ORTHANTS = torch.stack(\n",
    "    [torch.tensor([s1, s2, s3, s4, s5, s6, s7])\n",
    "    for s1 in SIGNS\n",
    "    for s2 in SIGNS\n",
    "    for s3 in SIGNS\n",
    "    for s4 in SIGNS\n",
    "    for s5 in SIGNS\n",
    "    for s6 in SIGNS\n",
    "    for s7 in SIGNS])   # Representing each orthant as the sign of each of its 7 coordinates/wrt each of its 7 axes\n",
    "ORTHANTS.shape"
   ]
  },
  {
   "cell_type": "code",
   "execution_count": 3,
   "metadata": {},
   "outputs": [],
   "source": [
    "LOW_COUNT = 4   # Average no. of points in a \"rare\" orthant\n",
    "HIGH_COUNT = 25 # Average no. of points in a \"typical\" orthant\n",
    "LOW_SPREAD = 2  # Allowed unidirectional deviation for no. of points in a \"rare\" orthant (i.e., 2 to 6 points)\n",
    "HIGH_SPREAD = 8 # Allowed unidirectional deviation for no. of points in a \"typical\" orthant (i.e., 17 to 33 points)\n",
    "VAL_COUNT = 4   # Validation data points per orthant\n",
    "TEST_COUNT = 64 # Test data points per orthant, for final pattern\n",
    "LOW_FRAC = 0.25 # Fraction of \"rare\" orthants\n",
    "ZERO_FRAC = 0.25    # Fraction of empty orthants from rare orthants"
   ]
  },
  {
   "cell_type": "code",
   "execution_count": 4,
   "metadata": {},
   "outputs": [
    {
     "data": {
      "text/plain": [
       "((96,), (24,), (8,))"
      ]
     },
     "execution_count": 4,
     "metadata": {},
     "output_type": "execute_result"
    }
   ],
   "source": [
    "# HIGH_ORTHANTS, LOWER_ORTHANTS = train_test_split(ORTHANTS, test_size=LOW_FRAC)\n",
    "# # Randomly choosing the \"rare\" orthants\n",
    "# LOW_ORTHANTS, ZERO_ORTHANTS = train_test_split(LOWER_ORTHANTS, test_size=ZERO_FRAC)\n",
    "# HIGH_ORTHANTS.shape, LOW_ORTHANTS.shape, ZERO_ORTHANTS.shape\n",
    "\n",
    "HIGH_ORTHANT_INDICES, LOWER_ORTHANT_INDICES = train_test_split(np.arange(128), test_size=LOW_FRAC)\n",
    "LOW_ORTHANT_INDICES, ZERO_ORTHANT_INDICES = train_test_split(LOWER_ORTHANT_INDICES, test_size=ZERO_FRAC)\n",
    "HIGH_ORTHANT_INDICES.shape, LOW_ORTHANT_INDICES.shape, ZERO_ORTHANT_INDICES.shape"
   ]
  },
  {
   "cell_type": "code",
   "execution_count": 5,
   "metadata": {},
   "outputs": [
    {
     "data": {
      "text/plain": [
       "tensor([4., 4., 4., 4., 4., 4., 4.])"
      ]
     },
     "execution_count": 5,
     "metadata": {},
     "output_type": "execute_result"
    }
   ],
   "source": [
    "CENTRE = 4 * torch.ones(7)\n",
    "# The centre of the 7-spheres, without orthant-specificity, which can be included using ORTHANTS\n",
    "CENTRE"
   ]
  },
  {
   "cell_type": "code",
   "execution_count": 6,
   "metadata": {},
   "outputs": [],
   "source": [
    "LOW_RADIUS = 1. # Radius of the inner sphere (say, label 0) in each orthant\n",
    "HIGH_RADIUS = 2.    # Radius of the outer sphere (say, label 1) in each orthant"
   ]
  },
  {
   "attachments": {},
   "cell_type": "markdown",
   "metadata": {},
   "source": [
    "### Data generation"
   ]
  },
  {
   "attachments": {},
   "cell_type": "markdown",
   "metadata": {},
   "source": [
    "Now, we describe a 7-sphere using the standard notation. <br>\n",
    "Say, it is centered at $C = (C_1, C_2, ..., C_7)$ and has radius $r$. Each point can be described with the help of 6 angles, <br>\n",
    "$\\phi_1$, $\\phi_2$, $\\phi_3$, $\\phi_4$, $\\phi_5$, and $\\phi_6$, where $\\phi_6 \\in [0, 2\\pi)$ and $\\phi_1, ..., \\phi_5 \\in [0, \\pi]$ <br>\n",
    "Any point $x = (x_1, x_2, ..., x_7)$ on the sphere can be described as follows: <br>\n",
    "$x_1 = C_1 + r\\cos(\\phi_1)$ <br>\n",
    "$x_2 = C_2 + r\\sin(\\phi_1)\\cos(\\phi_2)$ <br>\n",
    "$x_3 = C_3 + r\\sin(\\phi_1)\\sin(\\phi_2)\\cos(\\phi_3)$ <br>\n",
    "$x_4 = C_4 + r\\sin(\\phi_1)\\sin(\\phi_2)\\sin(\\phi_3)\\cos(\\phi_4)$ <br>\n",
    "$x_5 = C_5 + r\\sin(\\phi_1)\\sin(\\phi_2)\\sin(\\phi_3)\\sin(\\phi_4)\\cos(\\phi_5)$ <br>\n",
    "$x_6 = C_6 + r\\sin(\\phi_1)\\sin(\\phi_2)\\sin(\\phi_3)\\sin(\\phi_4)\\sin(\\phi_5)\\cos(\\phi_6)$ <br>\n",
    "$x_7 = C_7 + r\\sin(\\phi_1)\\sin(\\phi_2)\\sin(\\phi_3)\\sin(\\phi_4)\\sin(\\phi_5)\\sin(\\phi_6)$\n",
    "<br>\n",
    "\n",
    "Hence, each datapoint will be sampled by randomly generating the 6 angles from appropriate uniform distributions and \n",
    "performing the mentioned transformation"
   ]
  },
  {
   "cell_type": "code",
   "execution_count": 7,
   "metadata": {},
   "outputs": [],
   "source": [
    "def generate_point(\n",
    "    radius: float,\n",
    "    orthant: torch.Tensor\n",
    ") -> torch.Tensor:\n",
    "    \"\"\"\n",
    "    Generates a point on a 7-sphere of centre orthant * CENTRE (global) with radius radius, where\n",
    "    orthant denotes the signs wrt all 7 axes\n",
    "\n",
    "    Args:\n",
    "        radius (float): radius of the 7-sphere\n",
    "        orthant (torch.Tensor): signs wrt the 7 axes for the resulting point, of shape (7,)\n",
    "    \n",
    "    Returns:\n",
    "        x (torch.Tensor): a point on the specified sphere, of shape (7,)\n",
    "    \n",
    "    Example usage:\n",
    "    >>> generate_point(2, tensor([1., 1., 1., 1., 1., 1., 1.]))\n",
    "    tensor([2., 4., 4., 4., 4., 4., 4.])\n",
    "    \"\"\"\n",
    "    phi = torch.rand((6,)) * torch.pi\n",
    "    phi[5] *= 2\n",
    "    diff_unit = torch.tensor([\n",
    "        torch.cos(phi[0]),\n",
    "        torch.sin(phi[0])*torch.cos(phi[1]),\n",
    "        torch.sin(phi[0])*torch.sin(phi[1])*torch.cos(phi[2]),\n",
    "        torch.sin(phi[0])*torch.sin(phi[1])*torch.sin(phi[2])*torch.cos(phi[3]),\n",
    "        torch.sin(phi[0])*torch.sin(phi[1])*torch.sin(phi[2])*torch.sin(phi[3])*torch.cos(phi[4]),\n",
    "        torch.sin(phi[0])*torch.sin(phi[1])*torch.sin(phi[2])*torch.sin(phi[3])*torch.sin(phi[4])*torch.cos(phi[5]),\n",
    "        torch.sin(phi[0])*torch.sin(phi[1])*torch.sin(phi[2])*torch.sin(phi[3])*torch.sin(phi[4])*torch.sin(phi[5])\n",
    "    ])\n",
    "    return torch.mul(CENTRE + radius * diff_unit, orthant)\n",
    "    "
   ]
  },
  {
   "cell_type": "code",
   "execution_count": 8,
   "metadata": {},
   "outputs": [
    {
     "data": {
      "text/plain": [
       "(tensor([-3.1439, -4.9384, -2.7714, -4.7471, -3.5062, -3.7271, -4.0244]),\n",
       " tensor(2.0000))"
      ]
     },
     "execution_count": 8,
     "metadata": {},
     "output_type": "execute_result"
    }
   ],
   "source": [
    "# Testing correctness\n",
    "\n",
    "random_point = generate_point(2, ORTHANTS[0])\n",
    "random_point, ((random_point - ORTHANTS[0]*CENTRE)**2).sum().sqrt()"
   ]
  },
  {
   "cell_type": "code",
   "execution_count": 9,
   "metadata": {},
   "outputs": [
    {
     "data": {
      "text/plain": [
       "((32,), (96,))"
      ]
     },
     "execution_count": 9,
     "metadata": {},
     "output_type": "execute_result"
    }
   ],
   "source": [
    "from numpy.random import choice\n",
    "\n",
    "elements = [-1., 1.]\n",
    "probas = [0.2, 0.8]\n",
    "\n",
    "FLIP_MULS = choice(a=elements, size=128, p=probas)\n",
    "FLIP_MULS[FLIP_MULS==-1].shape, FLIP_MULS[FLIP_MULS==1].shape"
   ]
  },
  {
   "attachments": {},
   "cell_type": "markdown",
   "metadata": {},
   "source": [
    "#### Train data"
   ]
  },
  {
   "cell_type": "code",
   "execution_count": 10,
   "metadata": {},
   "outputs": [
    {
     "data": {
      "text/plain": [
       "(torch.Size([83, 7]),\n",
       " torch.Size([81, 7]),\n",
       " torch.Size([2372, 7]),\n",
       " torch.Size([2337, 7]))"
      ]
     },
     "execution_count": 10,
     "metadata": {},
     "output_type": "execute_result"
    }
   ],
   "source": [
    "X_training_low_0 = torch.cat([\n",
    "    torch.cat([\n",
    "        generate_point(1, orthant).reshape(1, -1) for i in range(int((2*torch.rand(1) - 1) * LOW_SPREAD + LOW_COUNT))\n",
    "    ]) for orthant in ORTHANTS[LOW_ORTHANT_INDICES]\n",
    "])\n",
    "X_training_low_1 = torch.cat([\n",
    "    torch.cat([\n",
    "        generate_point(2, orthant).reshape(1, -1) for i in range(int((2*torch.rand(1) - 1) * LOW_SPREAD + LOW_COUNT))\n",
    "    ]) for orthant in ORTHANTS[LOW_ORTHANT_INDICES]\n",
    "])\n",
    "X_training_high_0 = torch.cat([\n",
    "    torch.cat([\n",
    "        generate_point(1, orthant).reshape(1, -1) for i in range(int((2*torch.rand(1) - 1) * HIGH_SPREAD + HIGH_COUNT))\n",
    "    ]) for orthant in ORTHANTS[HIGH_ORTHANT_INDICES]\n",
    "])\n",
    "X_training_high_1 = torch.cat([\n",
    "    torch.cat([\n",
    "        generate_point(2, orthant).reshape(1, -1) for i in range(int((2*torch.rand(1) - 1) * HIGH_SPREAD + HIGH_COUNT))\n",
    "    ]) for orthant in ORTHANTS[HIGH_ORTHANT_INDICES]\n",
    "])\n",
    "X_training_low_0.shape, X_training_low_1.shape, X_training_high_0.shape, X_training_high_1.shape"
   ]
  },
  {
   "cell_type": "code",
   "execution_count": 11,
   "metadata": {},
   "outputs": [
    {
     "data": {
      "text/plain": [
       "(torch.Size([83, 1]),\n",
       " torch.Size([81, 1]),\n",
       " torch.Size([2372, 1]),\n",
       " torch.Size([2337, 1]))"
      ]
     },
     "execution_count": 11,
     "metadata": {},
     "output_type": "execute_result"
    }
   ],
   "source": [
    "Y_training_low_0 = torch.zeros(len(X_training_low_0), 1)\n",
    "Y_training_low_1 = torch.ones(len(X_training_low_1), 1)\n",
    "Y_training_high_0 = torch.zeros(len(X_training_high_0), 1)\n",
    "Y_training_high_1 = torch.ones(len(X_training_high_1), 1)\n",
    "Y_training_low_0.shape, Y_training_low_1.shape, Y_training_high_0.shape, Y_training_high_1.shape"
   ]
  },
  {
   "cell_type": "code",
   "execution_count": 12,
   "metadata": {},
   "outputs": [
    {
     "data": {
      "text/plain": [
       "(torch.Size([4873, 7]), torch.Size([4873, 1]))"
      ]
     },
     "execution_count": 12,
     "metadata": {},
     "output_type": "execute_result"
    }
   ],
   "source": [
    "X_training = torch.cat([\n",
    "    X_training_low_0,\n",
    "    X_training_low_1,\n",
    "    X_training_high_0,\n",
    "    X_training_high_1\n",
    "])\n",
    "Y_training = torch.cat([\n",
    "    Y_training_low_0,\n",
    "    Y_training_low_1,\n",
    "    Y_training_high_0,\n",
    "    Y_training_high_1\n",
    "])\n",
    "X_training.shape, Y_training.shape"
   ]
  },
  {
   "cell_type": "code",
   "execution_count": 13,
   "metadata": {},
   "outputs": [],
   "source": [
    "def find_orthant(point: torch.Tensor) -> int:\n",
    "    \"\"\"\n",
    "    Given a point, determines the orthant it lies in as an index of ORTHANTS\n",
    "\n",
    "    Args:\n",
    "        point (torch.Tensor): A random point in 7d space, a tensor of shape (7,)\n",
    "    \n",
    "    Returns:\n",
    "        orthant_no (int): The index of ORTHANTS corresponding to the orthant point lies in\n",
    "            i.e., orthant_no satisfies ORTHANTS[orthant_no] == torch.sign(point)\n",
    "    \n",
    "    Example usage:\n",
    "    >>> find_orthant(tensor([1., 3., -2., -4., 3., 2.2, -9.]))\n",
    "    102\n",
    "    \"\"\"\n",
    "    orthant_no = 0\n",
    "    for dim in point:\n",
    "        orthant_no *= 2\n",
    "        if dim > 0:\n",
    "            orthant_no += 1\n",
    "    return int(orthant_no)"
   ]
  },
  {
   "cell_type": "code",
   "execution_count": 14,
   "metadata": {},
   "outputs": [
    {
     "data": {
      "text/plain": [
       "[<matplotlib.lines.Line2D at 0x7f85ed09c1f0>]"
      ]
     },
     "execution_count": 14,
     "metadata": {},
     "output_type": "execute_result"
    },
    {
     "data": {
      "image/png": "[encoded data removed]",
      "text/plain": [
       "<Figure size 640x480 with 1 Axes>"
      ]
     },
     "metadata": {},
     "output_type": "display_data"
    }
   ],
   "source": [
    "orthant_counts = torch.zeros(128)\n",
    "for x in X_training:\n",
    "    orthant_counts[find_orthant(x)] += 1\n",
    "plt.plot(range(128), torch.sort(orthant_counts).values)"
   ]
  },
  {
   "cell_type": "code",
   "execution_count": 15,
   "metadata": {},
   "outputs": [
    {
     "data": {
      "text/plain": [
       "(torch.Size([4873, 7]), torch.Size([4873, 1]))"
      ]
     },
     "execution_count": 15,
     "metadata": {},
     "output_type": "execute_result"
    }
   ],
   "source": [
    "X_training_flip = torch.clone(X_training)\n",
    "# Y_training_flip = torch.tensor([Y_training[i] * FLIP_MULS[find_orthant(X_training[i])] for i in range(len(Y_training))]).reshape(-1, 1)\n",
    "Y_training_flip = torch.tensor([Y_training[i] if FLIP_MULS[find_orthant(X_training[i])] == 1 else 1-Y_training[i] for i in range(len(Y_training))]).reshape(-1, 1)\n",
    "X_training_flip.shape, Y_training_flip.shape"
   ]
  },
  {
   "cell_type": "code",
   "execution_count": 16,
   "metadata": {},
   "outputs": [],
   "source": [
    "# ZERO_ORTHANT_INDICES = [find_orthant(orthant) for orthant in ZERO_ORTHANTS]\n",
    "# LOW_ORTHANT_INDICES = [find_orthant(orthant) for orthant in LOW_ORTHANTS]\n",
    "# HIGH_ORTHANT_INDICES = [find_orthant(orthant) for orthant in HIGH_ORTHANTS]"
   ]
  },
  {
   "attachments": {},
   "cell_type": "markdown",
   "metadata": {},
   "source": [
    "#### Train-Validation split"
   ]
  },
  {
   "cell_type": "code",
   "execution_count": 17,
   "metadata": {},
   "outputs": [
    {
     "data": {
      "text/plain": [
       "(torch.Size([3898, 7]),\n",
       " torch.Size([975, 7]),\n",
       " torch.Size([3898, 1]),\n",
       " torch.Size([975, 1]))"
      ]
     },
     "execution_count": 17,
     "metadata": {},
     "output_type": "execute_result"
    }
   ],
   "source": [
    "X_train, X_val, Y_train, Y_val = train_test_split(X_training, Y_training, test_size=0.2)\n",
    "X_train.shape, X_val.shape, Y_train.shape, Y_val.shape"
   ]
  },
  {
   "cell_type": "code",
   "execution_count": 18,
   "metadata": {},
   "outputs": [
    {
     "data": {
      "text/plain": [
       "(torch.Size([3898, 7]),\n",
       " torch.Size([975, 7]),\n",
       " torch.Size([3898, 1]),\n",
       " torch.Size([975, 1]))"
      ]
     },
     "execution_count": 18,
     "metadata": {},
     "output_type": "execute_result"
    }
   ],
   "source": [
    "X_train_flip, X_val_flip, Y_train_flip, Y_val_flip = train_test_split(X_training_flip, Y_training_flip, test_size=0.2)\n",
    "X_train_flip.shape, X_val_flip.shape, Y_train_flip.shape, Y_val_flip.shape"
   ]
  },
  {
   "attachments": {},
   "cell_type": "markdown",
   "metadata": {},
   "source": [
    "#### Test data"
   ]
  },
  {
   "cell_type": "code",
   "execution_count": 19,
   "metadata": {},
   "outputs": [
    {
     "data": {
      "text/plain": [
       "(torch.Size([128, 128, 7]), torch.Size([128, 128, 1]))"
      ]
     },
     "execution_count": 19,
     "metadata": {},
     "output_type": "execute_result"
    }
   ],
   "source": [
    "X_test = torch.cat([\n",
    "    torch.cat([\n",
    "        torch.cat([\n",
    "            generate_point(1, orthant).reshape(1, -1) for i in range(TEST_COUNT)\n",
    "        ]),\n",
    "        torch.cat([\n",
    "            generate_point(2, orthant).reshape(1, -1) for i in range(TEST_COUNT)\n",
    "        ])\n",
    "    ]).reshape(1, 2*TEST_COUNT, 7) for orthant in ORTHANTS\n",
    "])\n",
    "Y_test = torch.cat([\n",
    "    torch.cat([\n",
    "        torch.zeros(TEST_COUNT, 1),\n",
    "        torch.ones(TEST_COUNT, 1)\n",
    "    ]).reshape(1, 2*TEST_COUNT, 1) for orthant in ORTHANTS\n",
    "])\n",
    "X_test.shape, Y_test.shape"
   ]
  },
  {
   "cell_type": "code",
   "execution_count": 20,
   "metadata": {},
   "outputs": [
    {
     "data": {
      "text/plain": [
       "(torch.Size([128, 128, 7]), torch.Size([128, 128, 1]))"
      ]
     },
     "execution_count": 20,
     "metadata": {},
     "output_type": "execute_result"
    }
   ],
   "source": [
    "X_test_flip = torch.clone(X_test)\n",
    "# Y_test_flip = torch.cat([(Y_test[i] * FLIP_MULS[i]).reshape(1, 128, 1) for i in range(len(Y_test))])\n",
    "Y_test_flip = torch.cat([(Y_test[i] if FLIP_MULS[i] == 1 else 1 - Y_test[i]).reshape(1, 2*TEST_COUNT, 1) for i in range(len(Y_test))])\n",
    "X_test_flip.shape, Y_test_flip.shape"
   ]
  },
  {
   "attachments": {},
   "cell_type": "markdown",
   "metadata": {},
   "source": [
    "#### Data for hyperparameter tuning"
   ]
  },
  {
   "cell_type": "code",
   "execution_count": 21,
   "metadata": {},
   "outputs": [
    {
     "data": {
      "text/plain": [
       "(torch.Size([779, 7]),\n",
       " torch.Size([195, 7]),\n",
       " torch.Size([779, 1]),\n",
       " torch.Size([195, 1]))"
      ]
     },
     "execution_count": 21,
     "metadata": {},
     "output_type": "execute_result"
    }
   ],
   "source": [
    "from sklearn.utils import resample\n",
    "\n",
    "X_train_cv, Y_train_cv = resample(X_train, Y_train, replace=False, n_samples=len(X_train)//5)\n",
    "X_val_cv, Y_val_cv = resample(X_val, Y_val, replace=False, n_samples=len(X_val)//5)\n",
    "X_train_cv.shape, X_val_cv.shape, Y_train_cv.shape, Y_val_cv.shape"
   ]
  },
  {
   "cell_type": "code",
   "execution_count": 22,
   "metadata": {},
   "outputs": [
    {
     "data": {
      "text/plain": [
       "(torch.Size([779, 7]),\n",
       " torch.Size([195, 7]),\n",
       " torch.Size([779, 1]),\n",
       " torch.Size([195, 1]))"
      ]
     },
     "execution_count": 22,
     "metadata": {},
     "output_type": "execute_result"
    }
   ],
   "source": [
    "X_train_flip_cv, Y_train_flip_cv = resample(X_train_flip, Y_train_flip, replace=False, n_samples=len(X_train_flip)//5)\n",
    "X_val_flip_cv, Y_val_flip_cv = resample(X_val_flip, Y_val_flip, replace=False, n_samples=len(X_val_flip)//5)\n",
    "X_train_flip_cv.shape, X_val_flip_cv.shape, Y_train_flip_cv.shape, Y_val_flip_cv.shape"
   ]
  },
  {
   "attachments": {},
   "cell_type": "markdown",
   "metadata": {},
   "source": [
    "## Neural network"
   ]
  },
  {
   "cell_type": "code",
   "execution_count": 23,
   "metadata": {},
   "outputs": [],
   "source": [
    "device = 'cpu'"
   ]
  },
  {
   "cell_type": "code",
   "execution_count": 24,
   "metadata": {},
   "outputs": [],
   "source": [
    "from torch import nn\n",
    "\n",
    "class SimpleNN(nn.Module):\n",
    "    def __init__(\n",
    "        self,\n",
    "        hidden_layers: int = 2,\n",
    "        hidden_units: int = 32\n",
    "    ) -> None:\n",
    "        super().__init__()\n",
    "        self.input = nn.Sequential(\n",
    "            nn.Linear(in_features=7, out_features=hidden_units),\n",
    "            nn.ReLU()\n",
    "        )\n",
    "        self.hidden = nn.Sequential()\n",
    "        for i in range(hidden_layers):\n",
    "            self.hidden.append(nn.Linear(in_features=hidden_units, out_features=hidden_units))\n",
    "            self.hidden.append(nn.ReLU())\n",
    "        self.output = nn.Sequential(\n",
    "            nn.Linear(in_features=hidden_units, out_features=1),\n",
    "            nn.Sigmoid()\n",
    "        )\n",
    "    \n",
    "    def forward(self, x):\n",
    "        return self.output(self.hidden(self.input(x)))\n"
   ]
  },
  {
   "cell_type": "code",
   "execution_count": 25,
   "metadata": {},
   "outputs": [],
   "source": [
    "from scripts.utils import make_dataloader\n",
    "\n",
    "train_dataloader, val_dataloader = make_dataloader(X_train, Y_train, batch_size=32, shuffle=True), make_dataloader(X_val, Y_val, batch_size=32, shuffle=True)\n",
    "train_cv_dataloader, val_cv_dataloader = make_dataloader(X_train_cv, Y_train_cv, batch_size=32, shuffle=True), make_dataloader(X_val_cv, Y_val_cv, batch_size=32, shuffle=True)\n",
    "train_flip_dataloader, val_flip_dataloader = make_dataloader(X_train_flip, Y_train_flip, batch_size=32, shuffle=True), make_dataloader(X_val_flip, Y_val_flip, batch_size=32, shuffle=True)\n",
    "train_flip_cv_dataloader, val_flip_cv_dataloader = make_dataloader(X_train_flip_cv, Y_train_flip_cv, batch_size=32, shuffle=True), make_dataloader(X_val_flip_cv, Y_val_flip_cv, batch_size=32, shuffle=True)"
   ]
  },
  {
   "cell_type": "code",
   "execution_count": 26,
   "metadata": {},
   "outputs": [],
   "source": [
    "depths = [1, 2, 3, 4, 5]\n",
    "widths = [16, 32, 64]\n",
    "lambdas = [0, 1e-6, 1e-5, 1e-4]\n",
    "etas = [1e-2, 1e-3, 1e-4]\n",
    "betass = [(0.9, 0.999), (0.8, 0.9)]"
   ]
  },
  {
   "attachments": {},
   "cell_type": "markdown",
   "metadata": {},
   "source": [
    "### Without class flipping"
   ]
  },
  {
   "cell_type": "code",
   "execution_count": 27,
   "metadata": {},
   "outputs": [],
   "source": [
    "best_depth = None\n",
    "best_width = None\n",
    "best_lambda = None\n",
    "best_eta = None\n",
    "best_betas = None\n",
    "best_score = -1"
   ]
  },
  {
   "cell_type": "code",
   "execution_count": 28,
   "metadata": {},
   "outputs": [
    {
     "name": "stdout",
     "output_type": "stream",
     "text": [
      "Model 1 of 360 trained. Validation accuracy: 0.550595223903656\n",
      "Model 2 of 360 trained. Validation accuracy: 0.5327380895614624\n",
      "Model 3 of 360 trained. Validation accuracy: 0.5416666865348816\n",
      "Model 4 of 360 trained. Validation accuracy: 0.5416666865348816\n",
      "Model 5 of 360 trained. Validation accuracy: 0.4851190447807312\n",
      "Model 6 of 360 trained. Validation accuracy: 0.375\n",
      "Model 7 of 360 trained. Validation accuracy: 0.5639880895614624\n",
      "Model 8 of 360 trained. Validation accuracy: 0.550595223903656\n",
      "Model 9 of 360 trained. Validation accuracy: 0.6026785969734192\n",
      "Model 10 of 360 trained. Validation accuracy: 0.555059552192688\n",
      "Model 11 of 360 trained. Validation accuracy: 0.5461309552192688\n",
      "Model 12 of 360 trained. Validation accuracy: 0.4806547462940216\n",
      "Model 13 of 360 trained. Validation accuracy: 0.4985118806362152\n",
      "Model 14 of 360 trained. Validation accuracy: 0.4851190447807312\n",
      "Model 15 of 360 trained. Validation accuracy: 0.5416666865348816\n",
      "Model 16 of 360 trained. Validation accuracy: 0.6160714030265808\n",
      "Model 17 of 360 trained. Validation accuracy: 0.507440447807312\n",
      "Model 18 of 360 trained. Validation accuracy: 0.6071428656578064\n",
      "Model 19 of 360 trained. Validation accuracy: 0.555059552192688\n",
      "Model 20 of 360 trained. Validation accuracy: 0.6160714030265808\n",
      "Model 21 of 360 trained. Validation accuracy: 0.5252975821495056\n",
      "Model 22 of 360 trained. Validation accuracy: 0.4375\n",
      "Model 23 of 360 trained. Validation accuracy: 0.4806547462940216\n",
      "Model 24 of 360 trained. Validation accuracy: 0.5863094925880432\n",
      "Model 25 of 360 trained. Validation accuracy: 0.5029761791229248\n",
      "Model 26 of 360 trained. Validation accuracy: 0.550595223903656\n",
      "Model 27 of 360 trained. Validation accuracy: 0.5252975821495056\n",
      "Model 28 of 360 trained. Validation accuracy: 0.5982142686843872\n",
      "Model 29 of 360 trained. Validation accuracy: 0.4538690447807312\n",
      "Model 30 of 360 trained. Validation accuracy: 0.511904776096344\n",
      "Model 31 of 360 trained. Validation accuracy: 0.6086309552192688\n",
      "Model 32 of 360 trained. Validation accuracy: 0.4776785671710968\n",
      "Model 33 of 360 trained. Validation accuracy: 0.5059524178504944\n",
      "Model 34 of 360 trained. Validation accuracy: 0.4821428656578064\n",
      "Model 35 of 360 trained. Validation accuracy: 0.5282738208770752\n",
      "Model 36 of 360 trained. Validation accuracy: 0.4270833134651184\n",
      "Model 37 of 360 trained. Validation accuracy: 0.5892857313156128\n",
      "Model 38 of 360 trained. Validation accuracy: 0.5610119104385376\n",
      "Model 39 of 360 trained. Validation accuracy: 0.507440447807312\n",
      "Model 40 of 360 trained. Validation accuracy: 0.5163690447807312\n",
      "Model 41 of 360 trained. Validation accuracy: 0.5535714030265808\n",
      "Model 42 of 360 trained. Validation accuracy: 0.5163690447807312\n",
      "Model 43 of 360 trained. Validation accuracy: 0.550595223903656\n",
      "Model 44 of 360 trained. Validation accuracy: 0.543154776096344\n",
      "Model 45 of 360 trained. Validation accuracy: 0.511904776096344\n",
      "Model 46 of 360 trained. Validation accuracy: 0.4642857015132904\n",
      "Model 47 of 360 trained. Validation accuracy: 0.6339285969734192\n",
      "Model 48 of 360 trained. Validation accuracy: 0.5580357313156128\n",
      "Model 49 of 360 trained. Validation accuracy: 0.5952380895614624\n",
      "Model 50 of 360 trained. Validation accuracy: 0.5520833134651184\n",
      "Model 51 of 360 trained. Validation accuracy: 0.5297619104385376\n",
      "Model 52 of 360 trained. Validation accuracy: 0.5416666865348816\n",
      "Model 53 of 360 trained. Validation accuracy: 0.4895833134651184\n",
      "Model 54 of 360 trained. Validation accuracy: 0.5669642686843872\n",
      "Model 55 of 360 trained. Validation accuracy: 0.5773809552192688\n",
      "Model 56 of 360 trained. Validation accuracy: 0.5163690447807312\n",
      "Model 57 of 360 trained. Validation accuracy: 0.5639880895614624\n",
      "Model 58 of 360 trained. Validation accuracy: 0.5327380895614624\n",
      "Model 59 of 360 trained. Validation accuracy: 0.4985118806362152\n",
      "Model 60 of 360 trained. Validation accuracy: 0.507440447807312\n",
      "Model 61 of 360 trained. Validation accuracy: 0.581845223903656\n",
      "Model 62 of 360 trained. Validation accuracy: 0.5639880895614624\n",
      "Model 63 of 360 trained. Validation accuracy: 0.4895833134651184\n",
      "Model 64 of 360 trained. Validation accuracy: 0.5684524178504944\n",
      "Model 65 of 360 trained. Validation accuracy: 0.5773809552192688\n",
      "Model 66 of 360 trained. Validation accuracy: 0.5892857313156128\n",
      "Model 67 of 360 trained. Validation accuracy: 0.5416666865348816\n",
      "Model 68 of 360 trained. Validation accuracy: 0.538690447807312\n",
      "Model 69 of 360 trained. Validation accuracy: 0.5684524178504944\n",
      "Model 70 of 360 trained. Validation accuracy: 0.511904776096344\n",
      "Model 71 of 360 trained. Validation accuracy: 0.543154776096344\n",
      "Model 72 of 360 trained. Validation accuracy: 0.5907737612724304\n",
      "Model 73 of 360 trained. Validation accuracy: 0.4910714328289032\n",
      "Model 74 of 360 trained. Validation accuracy: 0.5595238208770752\n",
      "Model 75 of 360 trained. Validation accuracy: 0.511904776096344\n",
      "Model 76 of 360 trained. Validation accuracy: 0.511904776096344\n",
      "Model 77 of 360 trained. Validation accuracy: 0.5252975821495056\n",
      "Model 78 of 360 trained. Validation accuracy: 0.523809552192688\n",
      "Model 79 of 360 trained. Validation accuracy: 0.5297619104385376\n",
      "Model 80 of 360 trained. Validation accuracy: 0.5610119104385376\n",
      "Model 81 of 360 trained. Validation accuracy: 0.5163690447807312\n",
      "Model 82 of 360 trained. Validation accuracy: 0.5773809552192688\n",
      "Model 83 of 360 trained. Validation accuracy: 0.4895833134651184\n",
      "Model 84 of 360 trained. Validation accuracy: 0.4642857015132904\n",
      "Model 85 of 360 trained. Validation accuracy: 0.4851190447807312\n",
      "Model 86 of 360 trained. Validation accuracy: 0.5178571343421936\n",
      "Model 87 of 360 trained. Validation accuracy: 0.5773809552192688\n",
      "Model 88 of 360 trained. Validation accuracy: 0.4895833134651184\n",
      "Model 89 of 360 trained. Validation accuracy: 0.507440447807312\n",
      "Model 90 of 360 trained. Validation accuracy: 0.6041666269302368\n",
      "Model 91 of 360 trained. Validation accuracy: 0.5610119104385376\n",
      "Model 92 of 360 trained. Validation accuracy: 0.5595238208770752\n",
      "Model 93 of 360 trained. Validation accuracy: 0.494047611951828\n",
      "Model 94 of 360 trained. Validation accuracy: 0.4375\n",
      "Model 95 of 360 trained. Validation accuracy: 0.511904776096344\n",
      "Model 96 of 360 trained. Validation accuracy: 0.511904776096344\n",
      "Model 97 of 360 trained. Validation accuracy: 0.5044642686843872\n",
      "Model 98 of 360 trained. Validation accuracy: 0.581845223903656\n",
      "Model 99 of 360 trained. Validation accuracy: 0.5684524178504944\n",
      "Model 100 of 360 trained. Validation accuracy: 0.5416666865348816\n",
      "Model 101 of 360 trained. Validation accuracy: 0.5669642686843872\n",
      "Model 102 of 360 trained. Validation accuracy: 0.5773809552192688\n",
      "Model 103 of 360 trained. Validation accuracy: 0.5907737612724304\n",
      "Model 104 of 360 trained. Validation accuracy: 0.6220237612724304\n",
      "Model 105 of 360 trained. Validation accuracy: 0.5372024178504944\n",
      "Model 106 of 360 trained. Validation accuracy: 0.4553571343421936\n",
      "Model 107 of 360 trained. Validation accuracy: 0.507440447807312\n",
      "Model 108 of 360 trained. Validation accuracy: 0.5327380895614624\n",
      "Model 109 of 360 trained. Validation accuracy: 0.5163690447807312\n",
      "Model 110 of 360 trained. Validation accuracy: 0.555059552192688\n",
      "Model 111 of 360 trained. Validation accuracy: 0.5595238208770752\n",
      "Model 112 of 360 trained. Validation accuracy: 0.4895833134651184\n",
      "Model 113 of 360 trained. Validation accuracy: 0.5297619104385376\n",
      "Model 114 of 360 trained. Validation accuracy: 0.555059552192688\n",
      "Model 115 of 360 trained. Validation accuracy: 0.5520833134651184\n",
      "Model 116 of 360 trained. Validation accuracy: 0.5029761791229248\n",
      "Model 117 of 360 trained. Validation accuracy: 0.511904776096344\n",
      "Model 118 of 360 trained. Validation accuracy: 0.507440447807312\n",
      "Model 119 of 360 trained. Validation accuracy: 0.5982142686843872\n",
      "Model 120 of 360 trained. Validation accuracy: 0.5982142686843872\n",
      "Model 121 of 360 trained. Validation accuracy: 0.5982142686843872\n",
      "Model 122 of 360 trained. Validation accuracy: 0.5907737612724304\n",
      "Model 123 of 360 trained. Validation accuracy: 0.5773809552192688\n",
      "Model 124 of 360 trained. Validation accuracy: 0.5029761791229248\n",
      "Model 125 of 360 trained. Validation accuracy: 0.5416666865348816\n",
      "Model 126 of 360 trained. Validation accuracy: 0.6071428656578064\n",
      "Model 127 of 360 trained. Validation accuracy: 0.6160714030265808\n",
      "Model 128 of 360 trained. Validation accuracy: 0.5297619104385376\n",
      "Model 129 of 360 trained. Validation accuracy: 0.538690447807312\n",
      "Model 130 of 360 trained. Validation accuracy: 0.6026785969734192\n",
      "Model 131 of 360 trained. Validation accuracy: 0.5461309552192688\n",
      "Model 132 of 360 trained. Validation accuracy: 0.5416666865348816\n",
      "Model 133 of 360 trained. Validation accuracy: 0.5982142686843872\n",
      "Model 134 of 360 trained. Validation accuracy: 0.6383928656578064\n",
      "Model 135 of 360 trained. Validation accuracy: 0.4851190447807312\n",
      "Model 136 of 360 trained. Validation accuracy: 0.5014880895614624\n",
      "Model 137 of 360 trained. Validation accuracy: 0.507440447807312\n",
      "Model 138 of 360 trained. Validation accuracy: 0.5625\n",
      "Model 139 of 360 trained. Validation accuracy: 0.538690447807312\n",
      "Model 140 of 360 trained. Validation accuracy: 0.555059552192688\n",
      "Model 141 of 360 trained. Validation accuracy: 0.46875\n",
      "Model 142 of 360 trained. Validation accuracy: 0.5282738208770752\n",
      "Model 143 of 360 trained. Validation accuracy: 0.555059552192688\n",
      "Model 144 of 360 trained. Validation accuracy: 0.4761904776096344\n",
      "Model 145 of 360 trained. Validation accuracy: 0.5208333134651184\n",
      "Model 146 of 360 trained. Validation accuracy: 0.511904776096344\n",
      "Model 147 of 360 trained. Validation accuracy: 0.4851190447807312\n",
      "Model 148 of 360 trained. Validation accuracy: 0.5982142686843872\n",
      "Model 149 of 360 trained. Validation accuracy: 0.5401785969734192\n",
      "Model 150 of 360 trained. Validation accuracy: 0.4553571343421936\n",
      "Model 151 of 360 trained. Validation accuracy: 0.5372024178504944\n",
      "Model 152 of 360 trained. Validation accuracy: 0.5327380895614624\n",
      "Model 153 of 360 trained. Validation accuracy: 0.4985118806362152\n",
      "Model 154 of 360 trained. Validation accuracy: 0.523809552192688\n",
      "Model 155 of 360 trained. Validation accuracy: 0.550595223903656\n",
      "Model 156 of 360 trained. Validation accuracy: 0.5059524178504944\n",
      "Model 157 of 360 trained. Validation accuracy: 0.5595238208770752\n",
      "Model 158 of 360 trained. Validation accuracy: 0.5729166269302368\n",
      "Model 159 of 360 trained. Validation accuracy: 0.5208333134651184\n",
      "Model 160 of 360 trained. Validation accuracy: 0.555059552192688\n",
      "Model 161 of 360 trained. Validation accuracy: 0.5148809552192688\n",
      "Model 162 of 360 trained. Validation accuracy: 0.4672618806362152\n",
      "Model 163 of 360 trained. Validation accuracy: 0.4910714328289032\n",
      "Model 164 of 360 trained. Validation accuracy: 0.5461309552192688\n",
      "Model 165 of 360 trained. Validation accuracy: 0.550595223903656\n",
      "Model 166 of 360 trained. Validation accuracy: 0.5252975821495056\n",
      "Model 167 of 360 trained. Validation accuracy: 0.5639880895614624\n",
      "Model 168 of 360 trained. Validation accuracy: 0.6339285969734192\n",
      "Model 169 of 360 trained. Validation accuracy: 0.5952380895614624\n",
      "Model 170 of 360 trained. Validation accuracy: 0.5863094925880432\n",
      "Model 171 of 360 trained. Validation accuracy: 0.5342261791229248\n",
      "Model 172 of 360 trained. Validation accuracy: 0.555059552192688\n",
      "Model 173 of 360 trained. Validation accuracy: 0.5892857313156128\n",
      "Model 174 of 360 trained. Validation accuracy: 0.5595238208770752\n",
      "Model 175 of 360 trained. Validation accuracy: 0.5520833134651184\n",
      "Model 176 of 360 trained. Validation accuracy: 0.543154776096344\n",
      "Model 177 of 360 trained. Validation accuracy: 0.581845223903656\n",
      "Model 178 of 360 trained. Validation accuracy: 0.5297619104385376\n",
      "Model 179 of 360 trained. Validation accuracy: 0.4761904776096344\n",
      "Model 180 of 360 trained. Validation accuracy: 0.494047611951828\n",
      "Model 181 of 360 trained. Validation accuracy: 0.5297619104385376\n",
      "Model 182 of 360 trained. Validation accuracy: 0.581845223903656\n",
      "Model 183 of 360 trained. Validation accuracy: 0.4985118806362152\n",
      "Model 184 of 360 trained. Validation accuracy: 0.511904776096344\n",
      "Model 185 of 360 trained. Validation accuracy: 0.6383928656578064\n",
      "Model 186 of 360 trained. Validation accuracy: 0.4508928656578064\n",
      "Model 187 of 360 trained. Validation accuracy: 0.507440447807312\n",
      "Model 188 of 360 trained. Validation accuracy: 0.6264880895614624\n",
      "Model 189 of 360 trained. Validation accuracy: 0.4464285671710968\n",
      "Model 190 of 360 trained. Validation accuracy: 0.5297619104385376\n",
      "Model 191 of 360 trained. Validation accuracy: 0.4806547462940216\n",
      "Model 192 of 360 trained. Validation accuracy: 0.4985118806362152\n",
      "Model 193 of 360 trained. Validation accuracy: 0.6339285969734192\n",
      "Model 194 of 360 trained. Validation accuracy: 0.6339285969734192\n",
      "Model 195 of 360 trained. Validation accuracy: 0.4955357015132904\n",
      "Model 196 of 360 trained. Validation accuracy: 0.5297619104385376\n",
      "Model 197 of 360 trained. Validation accuracy: 0.5461309552192688\n",
      "Model 198 of 360 trained. Validation accuracy: 0.5327380895614624\n",
      "Model 199 of 360 trained. Validation accuracy: 0.494047611951828\n",
      "Model 200 of 360 trained. Validation accuracy: 0.5863094925880432\n",
      "Model 201 of 360 trained. Validation accuracy: 0.5252975821495056\n",
      "Model 202 of 360 trained. Validation accuracy: 0.5416666865348816\n",
      "Model 203 of 360 trained. Validation accuracy: 0.4851190447807312\n",
      "Model 204 of 360 trained. Validation accuracy: 0.5907737612724304\n",
      "Model 205 of 360 trained. Validation accuracy: 0.555059552192688\n",
      "Model 206 of 360 trained. Validation accuracy: 0.574404776096344\n",
      "Model 207 of 360 trained. Validation accuracy: 0.5327380895614624\n",
      "Model 208 of 360 trained. Validation accuracy: 0.581845223903656\n",
      "Model 209 of 360 trained. Validation accuracy: 0.5029761791229248\n",
      "Model 210 of 360 trained. Validation accuracy: 0.5252975821495056\n",
      "Model 211 of 360 trained. Validation accuracy: 0.6041666269302368\n",
      "Model 212 of 360 trained. Validation accuracy: 0.569940447807312\n",
      "Model 213 of 360 trained. Validation accuracy: 0.625\n",
      "Model 214 of 360 trained. Validation accuracy: 0.4553571343421936\n",
      "Model 215 of 360 trained. Validation accuracy: 0.5163690447807312\n",
      "Model 216 of 360 trained. Validation accuracy: 0.5669642686843872\n",
      "Model 217 of 360 trained. Validation accuracy: 0.4895833134651184\n",
      "Model 218 of 360 trained. Validation accuracy: 0.4419642984867096\n",
      "Model 219 of 360 trained. Validation accuracy: 0.4776785671710968\n",
      "Model 220 of 360 trained. Validation accuracy: 0.5282738208770752\n",
      "Model 221 of 360 trained. Validation accuracy: 0.5416666865348816\n",
      "Model 222 of 360 trained. Validation accuracy: 0.5416666865348816\n",
      "Model 223 of 360 trained. Validation accuracy: 0.5461309552192688\n",
      "Model 224 of 360 trained. Validation accuracy: 0.5029761791229248\n",
      "Model 225 of 360 trained. Validation accuracy: 0.5208333134651184\n",
      "Model 226 of 360 trained. Validation accuracy: 0.494047611951828\n",
      "Model 227 of 360 trained. Validation accuracy: 0.4583333134651184\n",
      "Model 228 of 360 trained. Validation accuracy: 0.59375\n",
      "Model 229 of 360 trained. Validation accuracy: 0.5863094925880432\n",
      "Model 230 of 360 trained. Validation accuracy: 0.511904776096344\n",
      "Model 231 of 360 trained. Validation accuracy: 0.4330357015132904\n",
      "Model 232 of 360 trained. Validation accuracy: 0.4985118806362152\n",
      "Model 233 of 360 trained. Validation accuracy: 0.4985118806362152\n",
      "Model 234 of 360 trained. Validation accuracy: 0.4985118806362152\n",
      "Model 235 of 360 trained. Validation accuracy: 0.5208333134651184\n",
      "Model 236 of 360 trained. Validation accuracy: 0.5208333134651184\n",
      "Model 237 of 360 trained. Validation accuracy: 0.5639880895614624\n",
      "Model 238 of 360 trained. Validation accuracy: 0.5595238208770752\n",
      "Model 239 of 360 trained. Validation accuracy: 0.5416666865348816\n",
      "Model 240 of 360 trained. Validation accuracy: 0.4583333134651184\n",
      "Model 241 of 360 trained. Validation accuracy: 0.5163690447807312\n",
      "Model 242 of 360 trained. Validation accuracy: 0.581845223903656\n",
      "Model 243 of 360 trained. Validation accuracy: 0.5863094925880432\n",
      "Model 244 of 360 trained. Validation accuracy: 0.5372024178504944\n",
      "Model 245 of 360 trained. Validation accuracy: 0.5059524178504944\n",
      "Model 246 of 360 trained. Validation accuracy: 0.4732142984867096\n",
      "Model 247 of 360 trained. Validation accuracy: 0.5461309552192688\n",
      "Model 248 of 360 trained. Validation accuracy: 0.5029761791229248\n",
      "Model 249 of 360 trained. Validation accuracy: 0.5803571343421936\n",
      "Model 250 of 360 trained. Validation accuracy: 0.4508928656578064\n",
      "Model 251 of 360 trained. Validation accuracy: 0.5729166269302368\n",
      "Model 252 of 360 trained. Validation accuracy: 0.5163690447807312\n",
      "Model 253 of 360 trained. Validation accuracy: 0.494047611951828\n",
      "Model 254 of 360 trained. Validation accuracy: 0.507440447807312\n",
      "Model 255 of 360 trained. Validation accuracy: 0.5372024178504944\n",
      "Model 256 of 360 trained. Validation accuracy: 0.4776785671710968\n",
      "Model 257 of 360 trained. Validation accuracy: 0.5416666865348816\n",
      "Model 258 of 360 trained. Validation accuracy: 0.5029761791229248\n",
      "Model 259 of 360 trained. Validation accuracy: 0.5297619104385376\n",
      "Model 260 of 360 trained. Validation accuracy: 0.4880952537059784\n",
      "Model 261 of 360 trained. Validation accuracy: 0.538690447807312\n",
      "Model 262 of 360 trained. Validation accuracy: 0.5684524178504944\n",
      "Model 263 of 360 trained. Validation accuracy: 0.5729166269302368\n",
      "Model 264 of 360 trained. Validation accuracy: 0.4464285671710968\n",
      "Model 265 of 360 trained. Validation accuracy: 0.40625\n",
      "Model 266 of 360 trained. Validation accuracy: 0.511904776096344\n",
      "Model 267 of 360 trained. Validation accuracy: 0.543154776096344\n",
      "Model 268 of 360 trained. Validation accuracy: 0.5982142686843872\n",
      "Model 269 of 360 trained. Validation accuracy: 0.5029761791229248\n",
      "Model 270 of 360 trained. Validation accuracy: 0.4598214328289032\n",
      "Model 271 of 360 trained. Validation accuracy: 0.5982142686843872\n",
      "Model 272 of 360 trained. Validation accuracy: 0.5342261791229248\n",
      "Model 273 of 360 trained. Validation accuracy: 0.5863094925880432\n",
      "Model 274 of 360 trained. Validation accuracy: 0.5029761791229248\n",
      "Model 275 of 360 trained. Validation accuracy: 0.5595238208770752\n",
      "Model 276 of 360 trained. Validation accuracy: 0.5282738208770752\n",
      "Model 277 of 360 trained. Validation accuracy: 0.4732142984867096\n",
      "Model 278 of 360 trained. Validation accuracy: 0.5684524178504944\n",
      "Model 279 of 360 trained. Validation accuracy: 0.6086309552192688\n",
      "Model 280 of 360 trained. Validation accuracy: 0.4598214328289032\n",
      "Model 281 of 360 trained. Validation accuracy: 0.4895833134651184\n",
      "Model 282 of 360 trained. Validation accuracy: 0.4806547462940216\n",
      "Model 283 of 360 trained. Validation accuracy: 0.5163690447807312\n",
      "Model 284 of 360 trained. Validation accuracy: 0.511904776096344\n",
      "Model 285 of 360 trained. Validation accuracy: 0.5729166269302368\n",
      "Model 286 of 360 trained. Validation accuracy: 0.511904776096344\n",
      "Model 287 of 360 trained. Validation accuracy: 0.550595223903656\n",
      "Model 288 of 360 trained. Validation accuracy: 0.550595223903656\n",
      "Model 289 of 360 trained. Validation accuracy: 0.5520833134651184\n",
      "Model 290 of 360 trained. Validation accuracy: 0.5982142686843872\n",
      "Model 291 of 360 trained. Validation accuracy: 0.5610119104385376\n",
      "Model 292 of 360 trained. Validation accuracy: 0.5372024178504944\n",
      "Model 293 of 360 trained. Validation accuracy: 0.5773809552192688\n",
      "Model 294 of 360 trained. Validation accuracy: 0.5163690447807312\n",
      "Model 295 of 360 trained. Validation accuracy: 0.538690447807312\n",
      "Model 296 of 360 trained. Validation accuracy: 0.507440447807312\n",
      "Model 297 of 360 trained. Validation accuracy: 0.4732142984867096\n",
      "Model 298 of 360 trained. Validation accuracy: 0.4672618806362152\n",
      "Model 299 of 360 trained. Validation accuracy: 0.4776785671710968\n",
      "Model 300 of 360 trained. Validation accuracy: 0.5461309552192688\n",
      "Model 301 of 360 trained. Validation accuracy: 0.5148809552192688\n",
      "Model 302 of 360 trained. Validation accuracy: 0.555059552192688\n",
      "Model 303 of 360 trained. Validation accuracy: 0.543154776096344\n",
      "Model 304 of 360 trained. Validation accuracy: 0.613095223903656\n",
      "Model 305 of 360 trained. Validation accuracy: 0.4985118806362152\n",
      "Model 306 of 360 trained. Validation accuracy: 0.4717261791229248\n",
      "Model 307 of 360 trained. Validation accuracy: 0.5684524178504944\n",
      "Model 308 of 360 trained. Validation accuracy: 0.511904776096344\n",
      "Model 309 of 360 trained. Validation accuracy: 0.5907737612724304\n",
      "Model 310 of 360 trained. Validation accuracy: 0.494047611951828\n",
      "Model 311 of 360 trained. Validation accuracy: 0.4806547462940216\n",
      "Model 312 of 360 trained. Validation accuracy: 0.5639880895614624\n",
      "Model 313 of 360 trained. Validation accuracy: 0.4598214328289032\n",
      "Model 314 of 360 trained. Validation accuracy: 0.507440447807312\n",
      "Model 315 of 360 trained. Validation accuracy: 0.511904776096344\n",
      "Model 316 of 360 trained. Validation accuracy: 0.494047611951828\n",
      "Model 317 of 360 trained. Validation accuracy: 0.625\n",
      "Model 318 of 360 trained. Validation accuracy: 0.5952380895614624\n",
      "Model 319 of 360 trained. Validation accuracy: 0.538690447807312\n",
      "Model 320 of 360 trained. Validation accuracy: 0.5029761791229248\n",
      "Model 321 of 360 trained. Validation accuracy: 0.5654761791229248\n",
      "Model 322 of 360 trained. Validation accuracy: 0.5297619104385376\n",
      "Model 323 of 360 trained. Validation accuracy: 0.4151785671710968\n",
      "Model 324 of 360 trained. Validation accuracy: 0.511904776096344\n",
      "Model 325 of 360 trained. Validation accuracy: 0.6026785969734192\n",
      "Model 326 of 360 trained. Validation accuracy: 0.5773809552192688\n",
      "Model 327 of 360 trained. Validation accuracy: 0.5684524178504944\n",
      "Model 328 of 360 trained. Validation accuracy: 0.5952380895614624\n",
      "Model 329 of 360 trained. Validation accuracy: 0.4672618806362152\n",
      "Model 330 of 360 trained. Validation accuracy: 0.4732142984867096\n",
      "Model 331 of 360 trained. Validation accuracy: 0.581845223903656\n",
      "Model 332 of 360 trained. Validation accuracy: 0.4851190447807312\n",
      "Model 333 of 360 trained. Validation accuracy: 0.581845223903656\n",
      "Model 334 of 360 trained. Validation accuracy: 0.5729166269302368\n",
      "Model 335 of 360 trained. Validation accuracy: 0.494047611951828\n",
      "Model 336 of 360 trained. Validation accuracy: 0.550595223903656\n",
      "Model 337 of 360 trained. Validation accuracy: 0.5104166865348816\n",
      "Model 338 of 360 trained. Validation accuracy: 0.511904776096344\n",
      "Model 339 of 360 trained. Validation accuracy: 0.555059552192688\n",
      "Model 340 of 360 trained. Validation accuracy: 0.574404776096344\n",
      "Model 341 of 360 trained. Validation accuracy: 0.5252975821495056\n",
      "Model 342 of 360 trained. Validation accuracy: 0.5669642686843872\n",
      "Model 343 of 360 trained. Validation accuracy: 0.6294642686843872\n",
      "Model 344 of 360 trained. Validation accuracy: 0.5029761791229248\n",
      "Model 345 of 360 trained. Validation accuracy: 0.4821428656578064\n",
      "Model 346 of 360 trained. Validation accuracy: 0.511904776096344\n",
      "Model 347 of 360 trained. Validation accuracy: 0.5773809552192688\n",
      "Model 348 of 360 trained. Validation accuracy: 0.550595223903656\n",
      "Model 349 of 360 trained. Validation accuracy: 0.507440447807312\n",
      "Model 350 of 360 trained. Validation accuracy: 0.5595238208770752\n",
      "Model 351 of 360 trained. Validation accuracy: 0.5997023582458496\n",
      "Model 352 of 360 trained. Validation accuracy: 0.5639880895614624\n",
      "Model 353 of 360 trained. Validation accuracy: 0.5342261791229248\n",
      "Model 354 of 360 trained. Validation accuracy: 0.5282738208770752\n",
      "Model 355 of 360 trained. Validation accuracy: 0.5416666865348816\n",
      "Model 356 of 360 trained. Validation accuracy: 0.5565475821495056\n",
      "Model 357 of 360 trained. Validation accuracy: 0.550595223903656\n",
      "Model 358 of 360 trained. Validation accuracy: 0.511904776096344\n",
      "Model 359 of 360 trained. Validation accuracy: 0.5059524178504944\n",
      "Model 360 of 360 trained. Validation accuracy: 0.5595238208770752\n",
      "Results:\n",
      "Depth: 2\n",
      "Width: 64\n",
      "Lambda: 1e-05\n",
      "Eta: 0.01\n",
      "Betas: (0.8, 0.9)\n",
      "Accuracy after 32 epochs: 0.6383928656578064\n"
     ]
    }
   ],
   "source": [
    "from scripts.metrics import BinaryAccuracy\n",
    "from scripts.train import train_model\n",
    "from scripts.test import predict\n",
    "\n",
    "count = 0\n",
    "total = len(depths) * len(widths) * len(lambdas) * len(etas) * len(betass)\n",
    "EPOCHS = 32\n",
    "for depth in depths:\n",
    "    for width in widths:\n",
    "        for lambda_i in lambdas:\n",
    "            for eta in etas:\n",
    "                for betas in betass:\n",
    "                    model = SimpleNN(hidden_layers=depth, hidden_units=width).to(device)\n",
    "                    loss_fn = torch.nn.BCELoss()\n",
    "                    optimizer = torch.optim.Adam(params=model.parameters(), lr=eta, betas=betas, weight_decay=lambda_i)\n",
    "                    metric = BinaryAccuracy()\n",
    "                    history = train_model(\n",
    "                        model=model,\n",
    "                        train_dataloader=train_cv_dataloader,\n",
    "                        val_dataloader=val_cv_dataloader,\n",
    "                        loss_fn=loss_fn,\n",
    "                        optimizer=optimizer,\n",
    "                        metric=metric,\n",
    "                        epochs=EPOCHS,\n",
    "                        verbose=0,\n",
    "                        device=device\n",
    "                    )\n",
    "                    count += 1\n",
    "                    score = history['val_score'][-1]\n",
    "                    print(f'Model {count} of {total} trained. Validation accuracy: {score}')\n",
    "                    if score > best_score:\n",
    "                        best_score = score\n",
    "                        best_depth = depth\n",
    "                        best_width = width\n",
    "                        best_lambda = lambda_i\n",
    "                        best_eta = eta\n",
    "                        best_betas = betas\n",
    "\n",
    "print(f'Results:\\nDepth: {best_depth}\\nWidth: {best_width}\\nLambda: {best_lambda}\\nEta: {best_eta}\\nBetas: {best_betas}\\nAccuracy after {EPOCHS} epochs: {best_score}')"
   ]
  },
  {
   "cell_type": "code",
   "execution_count": 29,
   "metadata": {},
   "outputs": [],
   "source": [
    "best_model_nn = SimpleNN(hidden_layers=best_depth, hidden_units=best_width).to(device)"
   ]
  },
  {
   "cell_type": "code",
   "execution_count": 30,
   "metadata": {},
   "outputs": [],
   "source": [
    "from scripts.metrics import BinaryAccuracy\n",
    "\n",
    "loss_fn = torch.nn.BCELoss()\n",
    "optimizer = torch.optim.Adam(params=best_model_nn.parameters(), lr=best_eta, betas=best_betas, weight_decay=best_lambda)\n",
    "metric = BinaryAccuracy()"
   ]
  },
  {
   "cell_type": "code",
   "execution_count": 31,
   "metadata": {},
   "outputs": [],
   "source": [
    "from scripts.utils import EarlyStopping\n",
    "\n",
    "early_stop = EarlyStopping(patience=20, min_delta=1e-4)"
   ]
  },
  {
   "cell_type": "code",
   "execution_count": 32,
   "metadata": {},
   "outputs": [
    {
     "name": "stdout",
     "output_type": "stream",
     "text": [
      "Training model for 500 epochs. Early stopping enabled.\n",
      "Epoch: 1 => Train loss: 0.696978, Train score: 0.502029, Val loss: 0.716274, Val score: 0.511290\n",
      "Epoch: 2 => Train loss: 0.695664, Train score: 0.500039, Val loss: 0.694005, Val score: 0.491129\n",
      "Epoch: 3 => Train loss: 0.694157, Train score: 0.496867, Val loss: 0.695655, Val score: 0.492003\n",
      "Epoch: 4 => Train loss: 0.693710, Train score: 0.506601, Val loss: 0.695073, Val score: 0.486828\n",
      "Epoch: 5 => Train loss: 0.693625, Train score: 0.516531, Val loss: 0.695714, Val score: 0.481250\n",
      "Epoch: 6 => Train loss: 0.693578, Train score: 0.517418, Val loss: 0.699713, Val score: 0.468683\n",
      "Epoch: 7 => Train loss: 0.692678, Train score: 0.519132, Val loss: 0.697140, Val score: 0.492608\n",
      "Epoch: 8 => Train loss: 0.692359, Train score: 0.518127, Val loss: 0.695859, Val score: 0.497648\n",
      "Epoch: 9 => Train loss: 0.685965, Train score: 0.541279, Val loss: 0.689041, Val score: 0.529436\n",
      "Epoch: 10 => Train loss: 0.677195, Train score: 0.548865, Val loss: 0.685643, Val score: 0.525134\n",
      "Epoch: 11 => Train loss: 0.669052, Train score: 0.562677, Val loss: 0.680420, Val score: 0.532056\n",
      "Epoch: 12 => Train loss: 0.660308, Train score: 0.571524, Val loss: 0.666878, Val score: 0.595833\n",
      "Epoch: 13 => Train loss: 0.620126, Train score: 0.630616, Val loss: 0.614307, Val score: 0.618145\n",
      "Epoch: 14 => Train loss: 0.576328, Train score: 0.679087, Val loss: 0.580619, Val score: 0.670565\n",
      "Epoch: 15 => Train loss: 0.553632, Train score: 0.704051, Val loss: 0.519111, Val score: 0.720363\n",
      "Epoch: 16 => Train loss: 0.526526, Train score: 0.730375, Val loss: 0.549579, Val score: 0.727419\n",
      "Epoch: 17 => Train loss: 0.514602, Train score: 0.742394, Val loss: 0.632655, Val score: 0.721371\n",
      "Epoch: 18 => Train loss: 0.523538, Train score: 0.732740, Val loss: 0.534433, Val score: 0.731183\n",
      "Epoch: 19 => Train loss: 0.508560, Train score: 0.744956, Val loss: 0.542046, Val score: 0.705847\n",
      "Epoch: 20 => Train loss: 0.506620, Train score: 0.750355, Val loss: 0.520028, Val score: 0.734610\n",
      "Epoch: 21 => Train loss: 0.502855, Train score: 0.745921, Val loss: 0.517787, Val score: 0.735484\n",
      "Epoch: 22 => Train loss: 0.494542, Train score: 0.756896, Val loss: 0.508182, Val score: 0.738642\n",
      "Epoch: 23 => Train loss: 0.495969, Train score: 0.756620, Val loss: 0.515489, Val score: 0.737970\n",
      "Epoch: 24 => Train loss: 0.491371, Train score: 0.757527, Val loss: 0.529300, Val score: 0.727688\n",
      "Epoch: 25 => Train loss: 0.479206, Train score: 0.769310, Val loss: 0.508762, Val score: 0.750605\n",
      "Epoch: 26 => Train loss: 0.484667, Train score: 0.762394, Val loss: 0.542518, Val score: 0.722849\n",
      "Epoch: 27 => Train loss: 0.479276, Train score: 0.764384, Val loss: 0.479964, Val score: 0.766599\n",
      "Epoch: 28 => Train loss: 0.480663, Train score: 0.766492, Val loss: 0.556500, Val score: 0.715793\n",
      "Epoch: 29 => Train loss: 0.481453, Train score: 0.762847, Val loss: 0.496839, Val score: 0.744556\n",
      "Epoch: 30 => Train loss: 0.476507, Train score: 0.769625, Val loss: 0.484551, Val score: 0.743548\n",
      "Epoch: 31 => Train loss: 0.476635, Train score: 0.770393, Val loss: 0.517918, Val score: 0.749328\n",
      "Epoch: 32 => Train loss: 0.472145, Train score: 0.771359, Val loss: 0.491407, Val score: 0.764180\n",
      "Epoch: 33 => Train loss: 0.470609, Train score: 0.774413, Val loss: 0.486464, Val score: 0.751210\n",
      "Epoch: 34 => Train loss: 0.479012, Train score: 0.774058, Val loss: 0.492761, Val score: 0.755511\n",
      "Epoch: 35 => Train loss: 0.470586, Train score: 0.774689, Val loss: 0.479197, Val score: 0.757258\n",
      "Epoch: 36 => Train loss: 0.464325, Train score: 0.775083, Val loss: 0.487877, Val score: 0.761828\n",
      "Epoch: 37 => Train loss: 0.460519, Train score: 0.778905, Val loss: 0.479600, Val score: 0.776949\n",
      "Epoch: 38 => Train loss: 0.462272, Train score: 0.774551, Val loss: 0.503978, Val score: 0.749933\n",
      "Epoch: 39 => Train loss: 0.458680, Train score: 0.775950, Val loss: 0.482211, Val score: 0.758804\n",
      "Epoch: 40 => Train loss: 0.455357, Train score: 0.779477, Val loss: 0.479288, Val score: 0.775538\n",
      "Epoch: 41 => Train loss: 0.451089, Train score: 0.781999, Val loss: 0.487837, Val score: 0.762433\n",
      "Epoch: 42 => Train loss: 0.454525, Train score: 0.777743, Val loss: 0.545912, Val score: 0.726882\n",
      "Epoch: 43 => Train loss: 0.454942, Train score: 0.781920, Val loss: 0.501174, Val score: 0.740255\n",
      "Epoch: 44 => Train loss: 0.456081, Train score: 0.781230, Val loss: 0.470488, Val score: 0.778831\n",
      "Epoch: 45 => Train loss: 0.453851, Train score: 0.779555, Val loss: 0.488297, Val score: 0.757258\n",
      "Epoch: 46 => Train loss: 0.438350, Train score: 0.793762, Val loss: 0.456370, Val score: 0.782124\n",
      "Epoch: 47 => Train loss: 0.440066, Train score: 0.794412, Val loss: 0.465274, Val score: 0.782124\n",
      "Epoch: 48 => Train loss: 0.425861, Train score: 0.805860, Val loss: 0.508894, Val score: 0.753226\n",
      "Epoch: 49 => Train loss: 0.424495, Train score: 0.802609, Val loss: 0.500658, Val score: 0.752755\n",
      "Epoch: 50 => Train loss: 0.417912, Train score: 0.805170, Val loss: 0.484668, Val score: 0.768884\n",
      "Epoch: 51 => Train loss: 0.418440, Train score: 0.806116, Val loss: 0.480787, Val score: 0.772917\n",
      "Epoch: 52 => Train loss: 0.412854, Train score: 0.808283, Val loss: 0.457327, Val score: 0.779704\n",
      "Epoch: 53 => Train loss: 0.417339, Train score: 0.805742, Val loss: 0.451158, Val score: 0.779704\n",
      "Epoch: 54 => Train loss: 0.417775, Train score: 0.803357, Val loss: 0.492420, Val score: 0.766599\n",
      "Epoch: 55 => Train loss: 0.409449, Train score: 0.813209, Val loss: 0.445041, Val score: 0.777083\n",
      "Epoch: 56 => Train loss: 0.407149, Train score: 0.810608, Val loss: 0.455169, Val score: 0.774798\n",
      "Epoch: 57 => Train loss: 0.395572, Train score: 0.822647, Val loss: 0.428113, Val score: 0.790927\n",
      "Epoch: 58 => Train loss: 0.385322, Train score: 0.827002, Val loss: 0.467351, Val score: 0.803024\n",
      "Epoch: 59 => Train loss: 0.374890, Train score: 0.835632, Val loss: 0.396400, Val score: 0.829234\n",
      "Epoch: 60 => Train loss: 0.355076, Train score: 0.844676, Val loss: 0.380518, Val score: 0.830376\n",
      "Epoch: 61 => Train loss: 0.335305, Train score: 0.859966, Val loss: 0.387462, Val score: 0.831519\n",
      "Epoch: 62 => Train loss: 0.316935, Train score: 0.874310, Val loss: 0.332072, Val score: 0.870833\n",
      "Epoch: 63 => Train loss: 0.308782, Train score: 0.875965, Val loss: 0.320711, Val score: 0.881048\n",
      "Epoch: 64 => Train loss: 0.301076, Train score: 0.882192, Val loss: 0.307937, Val score: 0.881653\n",
      "Epoch: 65 => Train loss: 0.297229, Train score: 0.885640, Val loss: 0.316460, Val score: 0.878024\n",
      "Epoch: 66 => Train loss: 0.289315, Train score: 0.886684, Val loss: 0.352122, Val score: 0.847648\n",
      "Epoch: 67 => Train loss: 0.290818, Train score: 0.883808, Val loss: 0.416526, Val score: 0.857460\n",
      "Epoch: 68 => Train loss: 0.289671, Train score: 0.890704, Val loss: 0.276581, Val score: 0.893884\n",
      "Epoch: 69 => Train loss: 0.284310, Train score: 0.890389, Val loss: 0.345044, Val score: 0.852688\n",
      "Epoch: 70 => Train loss: 0.281660, Train score: 0.892694, Val loss: 0.290055, Val score: 0.888105\n",
      "Epoch: 71 => Train loss: 0.274025, Train score: 0.891531, Val loss: 0.319287, Val score: 0.871573\n",
      "Epoch: 72 => Train loss: 0.276521, Train score: 0.892930, Val loss: 0.310051, Val score: 0.874866\n",
      "Epoch: 73 => Train loss: 0.275415, Train score: 0.898250, Val loss: 0.347928, Val score: 0.861895\n",
      "Epoch: 74 => Train loss: 0.270093, Train score: 0.897561, Val loss: 0.346428, Val score: 0.859745\n",
      "Epoch: 75 => Train loss: 0.268124, Train score: 0.897876, Val loss: 0.324769, Val score: 0.870833\n",
      "Epoch: 76 => Train loss: 0.280707, Train score: 0.891925, Val loss: 0.321883, Val score: 0.869422\n",
      "Epoch: 77 => Train loss: 0.266882, Train score: 0.899669, Val loss: 0.366245, Val score: 0.855578\n",
      "Epoch: 78 => Train loss: 0.262522, Train score: 0.902861, Val loss: 0.296953, Val score: 0.883938\n",
      "Epoch: 79 => Train loss: 0.269561, Train score: 0.899413, Val loss: 0.313931, Val score: 0.884073\n",
      "Epoch: 80 => Train loss: 0.267459, Train score: 0.897305, Val loss: 0.354200, Val score: 0.867675\n",
      "Epoch: 81 => Train loss: 0.278207, Train score: 0.893324, Val loss: 0.350111, Val score: 0.862769\n",
      "Epoch: 82 => Train loss: 0.266849, Train score: 0.898447, Val loss: 0.325460, Val score: 0.866532\n",
      "Epoch: 83 => Train loss: 0.257937, Train score: 0.903767, Val loss: 0.289416, Val score: 0.892137\n",
      "Epoch: 84 => Train loss: 0.255478, Train score: 0.902605, Val loss: 0.293951, Val score: 0.887970\n",
      "Epoch: 85 => Train loss: 0.261108, Train score: 0.903255, Val loss: 0.288441, Val score: 0.898051\n",
      "Epoch: 86 => Train loss: 0.259883, Train score: 0.900181, Val loss: 0.326028, Val score: 0.883938\n",
      "Epoch: 87 => Train loss: 0.271540, Train score: 0.898901, Val loss: 0.294493, Val score: 0.885685\n",
      "Epoch: 88 => Train loss: 0.250758, Train score: 0.906250, Val loss: 0.283625, Val score: 0.893011\n",
      "Training stopped.\n"
     ]
    }
   ],
   "source": [
    "from scripts.train import train_model\n",
    "\n",
    "history = train_model(\n",
    "    model=best_model_nn,\n",
    "    train_dataloader=train_dataloader,\n",
    "    val_dataloader=val_dataloader,\n",
    "    loss_fn=loss_fn,\n",
    "    optimizer=optimizer,\n",
    "    metric=metric,\n",
    "    epochs=500,\n",
    "    early_stopping=early_stop,\n",
    "    device=device\n",
    ")"
   ]
  },
  {
   "cell_type": "code",
   "execution_count": 33,
   "metadata": {},
   "outputs": [
    {
     "data": {
      "image/png": "[encoded data removed]",
      "text/plain": [
       "<Figure size 1200x600 with 2 Axes>"
      ]
     },
     "metadata": {},
     "output_type": "display_data"
    }
   ],
   "source": [
    "from scripts.utils import plot_train_history\n",
    "\n",
    "plot_train_history(history)"
   ]
  },
  {
   "cell_type": "code",
   "execution_count": 34,
   "metadata": {},
   "outputs": [],
   "source": [
    "from scripts.test import predict\n",
    "\n",
    "scores_nn = torch.tensor([\n",
    "    metric(\n",
    "        predict(best_model_nn, X_test[i], device),\n",
    "        Y_test[i]\n",
    "    ) for i in range(128)\n",
    "])"
   ]
  },
  {
   "attachments": {},
   "cell_type": "markdown",
   "metadata": {},
   "source": [
    "### With class flipping in random orthants"
   ]
  },
  {
   "cell_type": "code",
   "execution_count": 35,
   "metadata": {},
   "outputs": [],
   "source": [
    "best_depth_flip = None\n",
    "best_width_flip = None\n",
    "best_lambda_flip = None\n",
    "best_eta_flip = None\n",
    "best_betas_flip = None\n",
    "best_score_flip = -1"
   ]
  },
  {
   "cell_type": "code",
   "execution_count": 38,
   "metadata": {},
   "outputs": [
    {
     "name": "stdout",
     "output_type": "stream",
     "text": [
      "Model 1 of 360 trained. Validation accuracy: 0.5029761791229248\n",
      "Model 2 of 360 trained. Validation accuracy: 0.4672618806362152\n",
      "Model 3 of 360 trained. Validation accuracy: 0.4538690447807312\n",
      "Model 4 of 360 trained. Validation accuracy: 0.462797611951828\n",
      "Model 5 of 360 trained. Validation accuracy: 0.4151785671710968\n",
      "Model 6 of 360 trained. Validation accuracy: 0.507440447807312\n",
      "Model 7 of 360 trained. Validation accuracy: 0.5282738208770752\n",
      "Model 8 of 360 trained. Validation accuracy: 0.4583333134651184\n",
      "Model 9 of 360 trained. Validation accuracy: 0.4895833134651184\n",
      "Model 10 of 360 trained. Validation accuracy: 0.4925595223903656\n",
      "Model 11 of 360 trained. Validation accuracy: 0.5580357313156128\n",
      "Model 12 of 360 trained. Validation accuracy: 0.4196428656578064\n",
      "Model 13 of 360 trained. Validation accuracy: 0.4761904776096344\n",
      "Model 14 of 360 trained. Validation accuracy: 0.5208333134651184\n",
      "Model 15 of 360 trained. Validation accuracy: 0.4672618806362152\n",
      "Model 16 of 360 trained. Validation accuracy: 0.4419642984867096\n",
      "Model 17 of 360 trained. Validation accuracy: 0.5416666865348816\n",
      "Model 18 of 360 trained. Validation accuracy: 0.5669642686843872\n",
      "Model 19 of 360 trained. Validation accuracy: 0.4464285671710968\n",
      "Model 20 of 360 trained. Validation accuracy: 0.4583333134651184\n",
      "Model 21 of 360 trained. Validation accuracy: 0.4375\n",
      "Model 22 of 360 trained. Validation accuracy: 0.5535714030265808\n",
      "Model 23 of 360 trained. Validation accuracy: 0.4791666865348816\n",
      "Model 24 of 360 trained. Validation accuracy: 0.5595238208770752\n",
      "Model 25 of 360 trained. Validation accuracy: 0.550595223903656\n",
      "Model 26 of 360 trained. Validation accuracy: 0.4553571343421936\n",
      "Model 27 of 360 trained. Validation accuracy: 0.53125\n",
      "Model 28 of 360 trained. Validation accuracy: 0.4806547462940216\n",
      "Model 29 of 360 trained. Validation accuracy: 0.4017857015132904\n",
      "Model 30 of 360 trained. Validation accuracy: 0.5372024178504944\n",
      "Model 31 of 360 trained. Validation accuracy: 0.5282738208770752\n",
      "Model 32 of 360 trained. Validation accuracy: 0.5401785969734192\n",
      "Model 33 of 360 trained. Validation accuracy: 0.5372024178504944\n",
      "Model 34 of 360 trained. Validation accuracy: 0.3928571343421936\n",
      "Model 35 of 360 trained. Validation accuracy: 0.4494047462940216\n",
      "Model 36 of 360 trained. Validation accuracy: 0.4449404776096344\n",
      "Model 37 of 360 trained. Validation accuracy: 0.5104166865348816\n",
      "Model 38 of 360 trained. Validation accuracy: 0.4851190447807312\n",
      "Model 39 of 360 trained. Validation accuracy: 0.4583333134651184\n",
      "Model 40 of 360 trained. Validation accuracy: 0.4806547462940216\n",
      "Model 41 of 360 trained. Validation accuracy: 0.5014880895614624\n",
      "Model 42 of 360 trained. Validation accuracy: 0.5625\n",
      "Model 43 of 360 trained. Validation accuracy: 0.5104166865348816\n",
      "Model 44 of 360 trained. Validation accuracy: 0.4761904776096344\n",
      "Model 45 of 360 trained. Validation accuracy: 0.494047611951828\n",
      "Model 46 of 360 trained. Validation accuracy: 0.4717261791229248\n",
      "Model 47 of 360 trained. Validation accuracy: 0.5104166865348816\n",
      "Model 48 of 360 trained. Validation accuracy: 0.5104166865348816\n",
      "Model 49 of 360 trained. Validation accuracy: 0.5372024178504944\n",
      "Model 50 of 360 trained. Validation accuracy: 0.4761904776096344\n",
      "Model 51 of 360 trained. Validation accuracy: 0.5282738208770752\n",
      "Model 52 of 360 trained. Validation accuracy: 0.4895833134651184\n",
      "Model 53 of 360 trained. Validation accuracy: 0.5059524178504944\n",
      "Model 54 of 360 trained. Validation accuracy: 0.4761904776096344\n",
      "Model 55 of 360 trained. Validation accuracy: 0.5104166865348816\n",
      "Model 56 of 360 trained. Validation accuracy: 0.5803571343421936\n",
      "Model 57 of 360 trained. Validation accuracy: 0.5401785969734192\n",
      "Model 58 of 360 trained. Validation accuracy: 0.4241071343421936\n",
      "Model 59 of 360 trained. Validation accuracy: 0.4806547462940216\n",
      "Model 60 of 360 trained. Validation accuracy: 0.4851190447807312\n",
      "Model 61 of 360 trained. Validation accuracy: 0.519345223903656\n",
      "Model 62 of 360 trained. Validation accuracy: 0.4761904776096344\n",
      "Model 63 of 360 trained. Validation accuracy: 0.5625\n",
      "Model 64 of 360 trained. Validation accuracy: 0.519345223903656\n",
      "Model 65 of 360 trained. Validation accuracy: 0.4672618806362152\n",
      "Model 66 of 360 trained. Validation accuracy: 0.4925595223903656\n",
      "Model 67 of 360 trained. Validation accuracy: 0.4672618806362152\n",
      "Model 68 of 360 trained. Validation accuracy: 0.5357142686843872\n",
      "Model 69 of 360 trained. Validation accuracy: 0.5282738208770752\n",
      "Model 70 of 360 trained. Validation accuracy: 0.5029761791229248\n",
      "Model 71 of 360 trained. Validation accuracy: 0.5729166269302368\n",
      "Model 72 of 360 trained. Validation accuracy: 0.5059524178504944\n",
      "Model 73 of 360 trained. Validation accuracy: 0.550595223903656\n",
      "Model 74 of 360 trained. Validation accuracy: 0.555059552192688\n",
      "Model 75 of 360 trained. Validation accuracy: 0.4583333134651184\n",
      "Model 76 of 360 trained. Validation accuracy: 0.4583333134651184\n",
      "Model 77 of 360 trained. Validation accuracy: 0.4970238208770752\n",
      "Model 78 of 360 trained. Validation accuracy: 0.5208333134651184\n",
      "Model 79 of 360 trained. Validation accuracy: 0.4107142984867096\n",
      "Model 80 of 360 trained. Validation accuracy: 0.4672618806362152\n",
      "Model 81 of 360 trained. Validation accuracy: 0.4151785671710968\n",
      "Model 82 of 360 trained. Validation accuracy: 0.4836309552192688\n",
      "Model 83 of 360 trained. Validation accuracy: 0.4925595223903656\n",
      "Model 84 of 360 trained. Validation accuracy: 0.523809552192688\n",
      "Model 85 of 360 trained. Validation accuracy: 0.4761904776096344\n",
      "Model 86 of 360 trained. Validation accuracy: 0.5669642686843872\n",
      "Model 87 of 360 trained. Validation accuracy: 0.4583333134651184\n",
      "Model 88 of 360 trained. Validation accuracy: 0.4017857015132904\n",
      "Model 89 of 360 trained. Validation accuracy: 0.4970238208770752\n",
      "Model 90 of 360 trained. Validation accuracy: 0.5104166865348816\n",
      "Model 91 of 360 trained. Validation accuracy: 0.4375\n",
      "Model 92 of 360 trained. Validation accuracy: 0.5327380895614624\n",
      "Model 93 of 360 trained. Validation accuracy: 0.5282738208770752\n",
      "Model 94 of 360 trained. Validation accuracy: 0.5282738208770752\n",
      "Model 95 of 360 trained. Validation accuracy: 0.4136904776096344\n",
      "Model 96 of 360 trained. Validation accuracy: 0.4375\n",
      "Model 97 of 360 trained. Validation accuracy: 0.5625\n",
      "Model 98 of 360 trained. Validation accuracy: 0.4538690447807312\n",
      "Model 99 of 360 trained. Validation accuracy: 0.4583333134651184\n",
      "Model 100 of 360 trained. Validation accuracy: 0.4449404776096344\n",
      "Model 101 of 360 trained. Validation accuracy: 0.5104166865348816\n",
      "Model 102 of 360 trained. Validation accuracy: 0.5282738208770752\n",
      "Model 103 of 360 trained. Validation accuracy: 0.4404761791229248\n",
      "Model 104 of 360 trained. Validation accuracy: 0.4851190447807312\n",
      "Model 105 of 360 trained. Validation accuracy: 0.4717261791229248\n",
      "Model 106 of 360 trained. Validation accuracy: 0.550595223903656\n",
      "Model 107 of 360 trained. Validation accuracy: 0.5148809552192688\n",
      "Model 108 of 360 trained. Validation accuracy: 0.519345223903656\n",
      "Model 109 of 360 trained. Validation accuracy: 0.4508928656578064\n",
      "Model 110 of 360 trained. Validation accuracy: 0.5372024178504944\n",
      "Model 111 of 360 trained. Validation accuracy: 0.5148809552192688\n",
      "Model 112 of 360 trained. Validation accuracy: 0.5282738208770752\n",
      "Model 113 of 360 trained. Validation accuracy: 0.5416666865348816\n",
      "Model 114 of 360 trained. Validation accuracy: 0.5669642686843872\n",
      "Model 115 of 360 trained. Validation accuracy: 0.555059552192688\n",
      "Model 116 of 360 trained. Validation accuracy: 0.519345223903656\n",
      "Model 117 of 360 trained. Validation accuracy: 0.4330357015132904\n",
      "Model 118 of 360 trained. Validation accuracy: 0.5669642686843872\n",
      "Model 119 of 360 trained. Validation accuracy: 0.4464285671710968\n",
      "Model 120 of 360 trained. Validation accuracy: 0.4806547462940216\n",
      "Model 121 of 360 trained. Validation accuracy: 0.4806547462940216\n",
      "Model 122 of 360 trained. Validation accuracy: 0.5282738208770752\n",
      "Model 123 of 360 trained. Validation accuracy: 0.555059552192688\n",
      "Model 124 of 360 trained. Validation accuracy: 0.4717261791229248\n",
      "Model 125 of 360 trained. Validation accuracy: 0.5848214030265808\n",
      "Model 126 of 360 trained. Validation accuracy: 0.4330357015132904\n",
      "Model 127 of 360 trained. Validation accuracy: 0.4196428656578064\n",
      "Model 128 of 360 trained. Validation accuracy: 0.4851190447807312\n",
      "Model 129 of 360 trained. Validation accuracy: 0.5669642686843872\n",
      "Model 130 of 360 trained. Validation accuracy: 0.507440447807312\n",
      "Model 131 of 360 trained. Validation accuracy: 0.4895833134651184\n",
      "Model 132 of 360 trained. Validation accuracy: 0.4925595223903656\n",
      "Model 133 of 360 trained. Validation accuracy: 0.4375\n",
      "Model 134 of 360 trained. Validation accuracy: 0.4970238208770752\n",
      "Model 135 of 360 trained. Validation accuracy: 0.5372024178504944\n",
      "Model 136 of 360 trained. Validation accuracy: 0.4761904776096344\n",
      "Model 137 of 360 trained. Validation accuracy: 0.5669642686843872\n",
      "Model 138 of 360 trained. Validation accuracy: 0.4895833134651184\n",
      "Model 139 of 360 trained. Validation accuracy: 0.4285714328289032\n",
      "Model 140 of 360 trained. Validation accuracy: 0.4151785671710968\n",
      "Model 141 of 360 trained. Validation accuracy: 0.5282738208770752\n",
      "Model 142 of 360 trained. Validation accuracy: 0.523809552192688\n",
      "Model 143 of 360 trained. Validation accuracy: 0.5104166865348816\n",
      "Model 144 of 360 trained. Validation accuracy: 0.375\n",
      "Model 145 of 360 trained. Validation accuracy: 0.462797611951828\n",
      "Model 146 of 360 trained. Validation accuracy: 0.5625\n",
      "Model 147 of 360 trained. Validation accuracy: 0.519345223903656\n",
      "Model 148 of 360 trained. Validation accuracy: 0.4970238208770752\n",
      "Model 149 of 360 trained. Validation accuracy: 0.5014880895614624\n",
      "Model 150 of 360 trained. Validation accuracy: 0.4806547462940216\n",
      "Model 151 of 360 trained. Validation accuracy: 0.4895833134651184\n",
      "Model 152 of 360 trained. Validation accuracy: 0.523809552192688\n",
      "Model 153 of 360 trained. Validation accuracy: 0.4851190447807312\n",
      "Model 154 of 360 trained. Validation accuracy: 0.3928571343421936\n",
      "Model 155 of 360 trained. Validation accuracy: 0.4107142984867096\n",
      "Model 156 of 360 trained. Validation accuracy: 0.494047611951828\n",
      "Model 157 of 360 trained. Validation accuracy: 0.4970238208770752\n",
      "Model 158 of 360 trained. Validation accuracy: 0.523809552192688\n",
      "Model 159 of 360 trained. Validation accuracy: 0.5282738208770752\n",
      "Model 160 of 360 trained. Validation accuracy: 0.4851190447807312\n",
      "Model 161 of 360 trained. Validation accuracy: 0.4196428656578064\n",
      "Model 162 of 360 trained. Validation accuracy: 0.4107142984867096\n",
      "Model 163 of 360 trained. Validation accuracy: 0.5029761791229248\n",
      "Model 164 of 360 trained. Validation accuracy: 0.4151785671710968\n",
      "Model 165 of 360 trained. Validation accuracy: 0.4538690447807312\n",
      "Model 166 of 360 trained. Validation accuracy: 0.5535714030265808\n",
      "Model 167 of 360 trained. Validation accuracy: 0.4761904776096344\n",
      "Model 168 of 360 trained. Validation accuracy: 0.5461309552192688\n",
      "Model 169 of 360 trained. Validation accuracy: 0.5104166865348816\n",
      "Model 170 of 360 trained. Validation accuracy: 0.523809552192688\n",
      "Model 171 of 360 trained. Validation accuracy: 0.4642857015132904\n",
      "Model 172 of 360 trained. Validation accuracy: 0.5684524178504944\n",
      "Model 173 of 360 trained. Validation accuracy: 0.4151785671710968\n",
      "Model 174 of 360 trained. Validation accuracy: 0.4717261791229248\n",
      "Model 175 of 360 trained. Validation accuracy: 0.4806547462940216\n",
      "Model 176 of 360 trained. Validation accuracy: 0.5282738208770752\n",
      "Model 177 of 360 trained. Validation accuracy: 0.4985118806362152\n",
      "Model 178 of 360 trained. Validation accuracy: 0.4761904776096344\n",
      "Model 179 of 360 trained. Validation accuracy: 0.5372024178504944\n",
      "Model 180 of 360 trained. Validation accuracy: 0.4717261791229248\n",
      "Model 181 of 360 trained. Validation accuracy: 0.523809552192688\n",
      "Model 182 of 360 trained. Validation accuracy: 0.5282738208770752\n",
      "Model 183 of 360 trained. Validation accuracy: 0.4880952537059784\n",
      "Model 184 of 360 trained. Validation accuracy: 0.5669642686843872\n",
      "Model 185 of 360 trained. Validation accuracy: 0.3928571343421936\n",
      "Model 186 of 360 trained. Validation accuracy: 0.519345223903656\n",
      "Model 187 of 360 trained. Validation accuracy: 0.4464285671710968\n",
      "Model 188 of 360 trained. Validation accuracy: 0.4806547462940216\n",
      "Model 189 of 360 trained. Validation accuracy: 0.4598214328289032\n",
      "Model 190 of 360 trained. Validation accuracy: 0.4985118806362152\n",
      "Model 191 of 360 trained. Validation accuracy: 0.5148809552192688\n",
      "Model 192 of 360 trained. Validation accuracy: 0.5595238208770752\n",
      "Model 193 of 360 trained. Validation accuracy: 0.5148809552192688\n",
      "Model 194 of 360 trained. Validation accuracy: 0.494047611951828\n",
      "Model 195 of 360 trained. Validation accuracy: 0.5595238208770752\n",
      "Model 196 of 360 trained. Validation accuracy: 0.5297619104385376\n",
      "Model 197 of 360 trained. Validation accuracy: 0.5148809552192688\n",
      "Model 198 of 360 trained. Validation accuracy: 0.4836309552192688\n",
      "Model 199 of 360 trained. Validation accuracy: 0.4851190447807312\n",
      "Model 200 of 360 trained. Validation accuracy: 0.462797611951828\n",
      "Model 201 of 360 trained. Validation accuracy: 0.5416666865348816\n",
      "Model 202 of 360 trained. Validation accuracy: 0.462797611951828\n",
      "Model 203 of 360 trained. Validation accuracy: 0.4717261791229248\n",
      "Model 204 of 360 trained. Validation accuracy: 0.4925595223903656\n",
      "Model 205 of 360 trained. Validation accuracy: 0.523809552192688\n",
      "Model 206 of 360 trained. Validation accuracy: 0.4672618806362152\n",
      "Model 207 of 360 trained. Validation accuracy: 0.523809552192688\n",
      "Model 208 of 360 trained. Validation accuracy: 0.5595238208770752\n",
      "Model 209 of 360 trained. Validation accuracy: 0.4806547462940216\n",
      "Model 210 of 360 trained. Validation accuracy: 0.5327380895614624\n",
      "Model 211 of 360 trained. Validation accuracy: 0.5714285969734192\n",
      "Model 212 of 360 trained. Validation accuracy: 0.4895833134651184\n",
      "Model 213 of 360 trained. Validation accuracy: 0.4895833134651184\n",
      "Model 214 of 360 trained. Validation accuracy: 0.507440447807312\n",
      "Model 215 of 360 trained. Validation accuracy: 0.4449404776096344\n",
      "Model 216 of 360 trained. Validation accuracy: 0.462797611951828\n",
      "Model 217 of 360 trained. Validation accuracy: 0.4583333134651184\n",
      "Model 218 of 360 trained. Validation accuracy: 0.4895833134651184\n",
      "Model 219 of 360 trained. Validation accuracy: 0.5148809552192688\n",
      "Model 220 of 360 trained. Validation accuracy: 0.4107142984867096\n",
      "Model 221 of 360 trained. Validation accuracy: 0.4970238208770752\n",
      "Model 222 of 360 trained. Validation accuracy: 0.4107142984867096\n",
      "Model 223 of 360 trained. Validation accuracy: 0.5148809552192688\n",
      "Model 224 of 360 trained. Validation accuracy: 0.5491071343421936\n",
      "Model 225 of 360 trained. Validation accuracy: 0.5714285969734192\n",
      "Model 226 of 360 trained. Validation accuracy: 0.462797611951828\n",
      "Model 227 of 360 trained. Validation accuracy: 0.4107142984867096\n",
      "Model 228 of 360 trained. Validation accuracy: 0.5029761791229248\n",
      "Model 229 of 360 trained. Validation accuracy: 0.4017857015132904\n",
      "Model 230 of 360 trained. Validation accuracy: 0.4806547462940216\n",
      "Model 231 of 360 trained. Validation accuracy: 0.4717261791229248\n",
      "Model 232 of 360 trained. Validation accuracy: 0.5029761791229248\n",
      "Model 233 of 360 trained. Validation accuracy: 0.4970238208770752\n",
      "Model 234 of 360 trained. Validation accuracy: 0.4404761791229248\n",
      "Model 235 of 360 trained. Validation accuracy: 0.5208333134651184\n",
      "Model 236 of 360 trained. Validation accuracy: 0.555059552192688\n",
      "Model 237 of 360 trained. Validation accuracy: 0.4717261791229248\n",
      "Model 238 of 360 trained. Validation accuracy: 0.431547611951828\n",
      "Model 239 of 360 trained. Validation accuracy: 0.4895833134651184\n",
      "Model 240 of 360 trained. Validation accuracy: 0.5029761791229248\n",
      "Model 241 of 360 trained. Validation accuracy: 0.5684524178504944\n",
      "Model 242 of 360 trained. Validation accuracy: 0.5714285969734192\n",
      "Model 243 of 360 trained. Validation accuracy: 0.5461309552192688\n",
      "Model 244 of 360 trained. Validation accuracy: 0.507440447807312\n",
      "Model 245 of 360 trained. Validation accuracy: 0.4404761791229248\n",
      "Model 246 of 360 trained. Validation accuracy: 0.5357142686843872\n",
      "Model 247 of 360 trained. Validation accuracy: 0.4895833134651184\n",
      "Model 248 of 360 trained. Validation accuracy: 0.4360118806362152\n",
      "Model 249 of 360 trained. Validation accuracy: 0.4672618806362152\n",
      "Model 250 of 360 trained. Validation accuracy: 0.5535714030265808\n",
      "Model 251 of 360 trained. Validation accuracy: 0.5327380895614624\n",
      "Model 252 of 360 trained. Validation accuracy: 0.4806547462940216\n",
      "Model 253 of 360 trained. Validation accuracy: 0.494047611951828\n",
      "Model 254 of 360 trained. Validation accuracy: 0.4285714328289032\n",
      "Model 255 of 360 trained. Validation accuracy: 0.4508928656578064\n",
      "Model 256 of 360 trained. Validation accuracy: 0.507440447807312\n",
      "Model 257 of 360 trained. Validation accuracy: 0.5535714030265808\n",
      "Model 258 of 360 trained. Validation accuracy: 0.5401785969734192\n",
      "Model 259 of 360 trained. Validation accuracy: 0.4836309552192688\n",
      "Model 260 of 360 trained. Validation accuracy: 0.5446428656578064\n",
      "Model 261 of 360 trained. Validation accuracy: 0.5461309552192688\n",
      "Model 262 of 360 trained. Validation accuracy: 0.59375\n",
      "Model 263 of 360 trained. Validation accuracy: 0.5148809552192688\n",
      "Model 264 of 360 trained. Validation accuracy: 0.462797611951828\n",
      "Model 265 of 360 trained. Validation accuracy: 0.511904776096344\n",
      "Model 266 of 360 trained. Validation accuracy: 0.5059524178504944\n",
      "Model 267 of 360 trained. Validation accuracy: 0.4761904776096344\n",
      "Model 268 of 360 trained. Validation accuracy: 0.507440447807312\n",
      "Model 269 of 360 trained. Validation accuracy: 0.4761904776096344\n",
      "Model 270 of 360 trained. Validation accuracy: 0.5669642686843872\n",
      "Model 271 of 360 trained. Validation accuracy: 0.4285714328289032\n",
      "Model 272 of 360 trained. Validation accuracy: 0.4583333134651184\n",
      "Model 273 of 360 trained. Validation accuracy: 0.5029761791229248\n",
      "Model 274 of 360 trained. Validation accuracy: 0.5892857313156128\n",
      "Model 275 of 360 trained. Validation accuracy: 0.5327380895614624\n",
      "Model 276 of 360 trained. Validation accuracy: 0.4330357015132904\n",
      "Model 277 of 360 trained. Validation accuracy: 0.523809552192688\n",
      "Model 278 of 360 trained. Validation accuracy: 0.4970238208770752\n",
      "Model 279 of 360 trained. Validation accuracy: 0.4717261791229248\n",
      "Model 280 of 360 trained. Validation accuracy: 0.5595238208770752\n",
      "Model 281 of 360 trained. Validation accuracy: 0.4538690447807312\n",
      "Model 282 of 360 trained. Validation accuracy: 0.4538690447807312\n",
      "Model 283 of 360 trained. Validation accuracy: 0.5148809552192688\n",
      "Model 284 of 360 trained. Validation accuracy: 0.474702388048172\n",
      "Model 285 of 360 trained. Validation accuracy: 0.5252975821495056\n",
      "Model 286 of 360 trained. Validation accuracy: 0.5416666865348816\n",
      "Model 287 of 360 trained. Validation accuracy: 0.4880952537059784\n",
      "Model 288 of 360 trained. Validation accuracy: 0.4538690447807312\n",
      "Model 289 of 360 trained. Validation accuracy: 0.5059524178504944\n",
      "Model 290 of 360 trained. Validation accuracy: 0.5669642686843872\n",
      "Model 291 of 360 trained. Validation accuracy: 0.4761904776096344\n",
      "Model 292 of 360 trained. Validation accuracy: 0.4717261791229248\n",
      "Model 293 of 360 trained. Validation accuracy: 0.4970238208770752\n",
      "Model 294 of 360 trained. Validation accuracy: 0.4970238208770752\n",
      "Model 295 of 360 trained. Validation accuracy: 0.4851190447807312\n",
      "Model 296 of 360 trained. Validation accuracy: 0.5580357313156128\n",
      "Model 297 of 360 trained. Validation accuracy: 0.4583333134651184\n",
      "Model 298 of 360 trained. Validation accuracy: 0.4494047462940216\n",
      "Model 299 of 360 trained. Validation accuracy: 0.4538690447807312\n",
      "Model 300 of 360 trained. Validation accuracy: 0.4538690447807312\n",
      "Model 301 of 360 trained. Validation accuracy: 0.5848214030265808\n",
      "Model 302 of 360 trained. Validation accuracy: 0.5535714030265808\n",
      "Model 303 of 360 trained. Validation accuracy: 0.523809552192688\n",
      "Model 304 of 360 trained. Validation accuracy: 0.4375\n",
      "Model 305 of 360 trained. Validation accuracy: 0.5014880895614624\n",
      "Model 306 of 360 trained. Validation accuracy: 0.4538690447807312\n",
      "Model 307 of 360 trained. Validation accuracy: 0.4107142984867096\n",
      "Model 308 of 360 trained. Validation accuracy: 0.4598214328289032\n",
      "Model 309 of 360 trained. Validation accuracy: 0.5014880895614624\n",
      "Model 310 of 360 trained. Validation accuracy: 0.4285714328289032\n",
      "Model 311 of 360 trained. Validation accuracy: 0.5401785969734192\n",
      "Model 312 of 360 trained. Validation accuracy: 0.5461309552192688\n",
      "Model 313 of 360 trained. Validation accuracy: 0.4107142984867096\n",
      "Model 314 of 360 trained. Validation accuracy: 0.5461309552192688\n",
      "Model 315 of 360 trained. Validation accuracy: 0.494047611951828\n",
      "Model 316 of 360 trained. Validation accuracy: 0.5372024178504944\n",
      "Model 317 of 360 trained. Validation accuracy: 0.375\n",
      "Model 318 of 360 trained. Validation accuracy: 0.4925595223903656\n",
      "Model 319 of 360 trained. Validation accuracy: 0.5148809552192688\n",
      "Model 320 of 360 trained. Validation accuracy: 0.4404761791229248\n",
      "Model 321 of 360 trained. Validation accuracy: 0.507440447807312\n",
      "Model 322 of 360 trained. Validation accuracy: 0.5773809552192688\n",
      "Model 323 of 360 trained. Validation accuracy: 0.523809552192688\n",
      "Model 324 of 360 trained. Validation accuracy: 0.4598214328289032\n",
      "Model 325 of 360 trained. Validation accuracy: 0.462797611951828\n",
      "Model 326 of 360 trained. Validation accuracy: 0.4851190447807312\n",
      "Model 327 of 360 trained. Validation accuracy: 0.4375\n",
      "Model 328 of 360 trained. Validation accuracy: 0.5327380895614624\n",
      "Model 329 of 360 trained. Validation accuracy: 0.5148809552192688\n",
      "Model 330 of 360 trained. Validation accuracy: 0.4375\n",
      "Model 331 of 360 trained. Validation accuracy: 0.4538690447807312\n",
      "Model 332 of 360 trained. Validation accuracy: 0.4538690447807312\n",
      "Model 333 of 360 trained. Validation accuracy: 0.46875\n",
      "Model 334 of 360 trained. Validation accuracy: 0.5669642686843872\n",
      "Model 335 of 360 trained. Validation accuracy: 0.4806547462940216\n",
      "Model 336 of 360 trained. Validation accuracy: 0.5625\n",
      "Model 337 of 360 trained. Validation accuracy: 0.511904776096344\n",
      "Model 338 of 360 trained. Validation accuracy: 0.523809552192688\n",
      "Model 339 of 360 trained. Validation accuracy: 0.5416666865348816\n",
      "Model 340 of 360 trained. Validation accuracy: 0.4508928656578064\n",
      "Model 341 of 360 trained. Validation accuracy: 0.5059524178504944\n",
      "Model 342 of 360 trained. Validation accuracy: 0.4851190447807312\n",
      "Model 343 of 360 trained. Validation accuracy: 0.4107142984867096\n",
      "Model 344 of 360 trained. Validation accuracy: 0.5327380895614624\n",
      "Model 345 of 360 trained. Validation accuracy: 0.5595238208770752\n",
      "Model 346 of 360 trained. Validation accuracy: 0.5372024178504944\n",
      "Model 347 of 360 trained. Validation accuracy: 0.5014880895614624\n",
      "Model 348 of 360 trained. Validation accuracy: 0.494047611951828\n",
      "Model 349 of 360 trained. Validation accuracy: 0.4538690447807312\n",
      "Model 350 of 360 trained. Validation accuracy: 0.5535714030265808\n",
      "Model 351 of 360 trained. Validation accuracy: 0.5342261791229248\n",
      "Model 352 of 360 trained. Validation accuracy: 0.5461309552192688\n",
      "Model 353 of 360 trained. Validation accuracy: 0.4151785671710968\n",
      "Model 354 of 360 trained. Validation accuracy: 0.462797611951828\n",
      "Model 355 of 360 trained. Validation accuracy: 0.5372024178504944\n",
      "Model 356 of 360 trained. Validation accuracy: 0.5148809552192688\n",
      "Model 357 of 360 trained. Validation accuracy: 0.59375\n",
      "Model 358 of 360 trained. Validation accuracy: 0.4761904776096344\n",
      "Model 359 of 360 trained. Validation accuracy: 0.4970238208770752\n",
      "Model 360 of 360 trained. Validation accuracy: 0.4761904776096344\n",
      "Results:\n",
      "Depth: 4\n",
      "Width: 32\n",
      "Lambda: 0.0001\n",
      "Eta: 0.001\n",
      "Betas: (0.8, 0.9)\n",
      "Accuracy after 32 epochs: 0.59375\n"
     ]
    }
   ],
   "source": [
    "count = 0\n",
    "total = len(depths) * len(widths) * len(lambdas) * len(etas) * len(betass)\n",
    "EPOCHS = 32\n",
    "for depth in depths:\n",
    "    for width in widths:\n",
    "        for lambda_i in lambdas:\n",
    "            for eta in etas:\n",
    "                for betas in betass:\n",
    "                    model = SimpleNN(hidden_layers=depth, hidden_units=width).to(device)\n",
    "                    loss_fn = torch.nn.BCELoss()\n",
    "                    optimizer = torch.optim.Adam(params=model.parameters(), lr=eta, betas=betas, weight_decay=lambda_i)\n",
    "                    metric = BinaryAccuracy()\n",
    "                    history = train_model(\n",
    "                        model=model,\n",
    "                        train_dataloader=train_flip_cv_dataloader,\n",
    "                        val_dataloader=val_flip_cv_dataloader,\n",
    "                        loss_fn=loss_fn,\n",
    "                        optimizer=optimizer,\n",
    "                        metric=metric,\n",
    "                        epochs=EPOCHS,\n",
    "                        verbose=0,\n",
    "                        device=device\n",
    "                    )\n",
    "                    count += 1\n",
    "                    score = history['val_score'][-1]\n",
    "                    print(f'Model {count} of {total} trained. Validation accuracy: {score}')\n",
    "                    if score > best_score_flip:\n",
    "                        best_score_flip = score\n",
    "                        best_depth_flip = depth\n",
    "                        best_width_flip = width\n",
    "                        best_lambda_flip = lambda_i\n",
    "                        best_eta_flip = eta\n",
    "                        best_betas_flip = betas\n",
    "\n",
    "print(f'Results:\\nDepth: {best_depth_flip}\\nWidth: {best_width_flip}\\nLambda: {best_lambda_flip}\\nEta: {best_eta_flip}\\nBetas: {best_betas_flip}\\nAccuracy after {EPOCHS} epochs: {best_score_flip}')"
   ]
  },
  {
   "cell_type": "code",
   "execution_count": 39,
   "metadata": {},
   "outputs": [],
   "source": [
    "best_model_flip_nn = SimpleNN(hidden_layers=best_depth_flip, hidden_units=best_width_flip).to(device)"
   ]
  },
  {
   "cell_type": "code",
   "execution_count": 40,
   "metadata": {},
   "outputs": [],
   "source": [
    "loss_fn = torch.nn.BCELoss()\n",
    "optimizer = torch.optim.Adam(params=best_model_flip_nn.parameters(), lr=best_eta_flip, betas=best_betas_flip, weight_decay=best_lambda_flip)\n",
    "metric = BinaryAccuracy()"
   ]
  },
  {
   "cell_type": "code",
   "execution_count": 41,
   "metadata": {},
   "outputs": [],
   "source": [
    "early_stop = EarlyStopping(patience=20, min_delta=1e-4)"
   ]
  },
  {
   "cell_type": "code",
   "execution_count": 42,
   "metadata": {},
   "outputs": [
    {
     "name": "stdout",
     "output_type": "stream",
     "text": [
      "Training model for 500 epochs. Early stopping enabled.\n",
      "Epoch: 1 => Train loss: 0.693364, Train score: 0.501793, Val loss: 0.693354, Val score: 0.498925\n",
      "Epoch: 2 => Train loss: 0.692841, Train score: 0.509221, Val loss: 0.694070, Val score: 0.483065\n",
      "Epoch: 3 => Train loss: 0.692152, Train score: 0.518186, Val loss: 0.693981, Val score: 0.506519\n",
      "Epoch: 4 => Train loss: 0.691272, Train score: 0.526758, Val loss: 0.695071, Val score: 0.501075\n",
      "Epoch: 5 => Train loss: 0.690293, Train score: 0.530718, Val loss: 0.694318, Val score: 0.506989\n",
      "Epoch: 6 => Train loss: 0.688823, Train score: 0.541555, Val loss: 0.694966, Val score: 0.517339\n",
      "Epoch: 7 => Train loss: 0.686787, Train score: 0.543407, Val loss: 0.694778, Val score: 0.516935\n",
      "Epoch: 8 => Train loss: 0.684960, Train score: 0.555702, Val loss: 0.706781, Val score: 0.499059\n",
      "Epoch: 9 => Train loss: 0.683168, Train score: 0.552963, Val loss: 0.698113, Val score: 0.517473\n",
      "Epoch: 10 => Train loss: 0.682411, Train score: 0.563840, Val loss: 0.700931, Val score: 0.507124\n",
      "Epoch: 11 => Train loss: 0.679846, Train score: 0.575859, Val loss: 0.699956, Val score: 0.513306\n",
      "Epoch: 12 => Train loss: 0.677786, Train score: 0.572293, Val loss: 0.694364, Val score: 0.528159\n",
      "Epoch: 13 => Train loss: 0.676260, Train score: 0.581888, Val loss: 0.698173, Val score: 0.522984\n",
      "Epoch: 14 => Train loss: 0.673493, Train score: 0.584115, Val loss: 0.701973, Val score: 0.542271\n",
      "Epoch: 15 => Train loss: 0.670469, Train score: 0.586696, Val loss: 0.705949, Val score: 0.529167\n",
      "Epoch: 16 => Train loss: 0.667433, Train score: 0.598597, Val loss: 0.696404, Val score: 0.549731\n",
      "Epoch: 17 => Train loss: 0.662754, Train score: 0.606715, Val loss: 0.702928, Val score: 0.533199\n",
      "Epoch: 18 => Train loss: 0.661520, Train score: 0.607424, Val loss: 0.692643, Val score: 0.559677\n",
      "Epoch: 19 => Train loss: 0.656700, Train score: 0.612370, Val loss: 0.693484, Val score: 0.561425\n",
      "Epoch: 20 => Train loss: 0.653914, Train score: 0.618833, Val loss: 0.711706, Val score: 0.551344\n",
      "Epoch: 21 => Train loss: 0.647443, Train score: 0.635463, Val loss: 0.692605, Val score: 0.575941\n",
      "Epoch: 22 => Train loss: 0.644451, Train score: 0.636428, Val loss: 0.703896, Val score: 0.567339\n",
      "Epoch: 23 => Train loss: 0.636364, Train score: 0.642457, Val loss: 0.688405, Val score: 0.562231\n",
      "Epoch: 24 => Train loss: 0.631666, Train score: 0.656605, Val loss: 0.692235, Val score: 0.581452\n",
      "Epoch: 25 => Train loss: 0.623565, Train score: 0.656880, Val loss: 0.695706, Val score: 0.586290\n",
      "Epoch: 26 => Train loss: 0.618874, Train score: 0.653807, Val loss: 0.676414, Val score: 0.585753\n",
      "Epoch: 27 => Train loss: 0.612497, Train score: 0.664742, Val loss: 0.689074, Val score: 0.589046\n",
      "Epoch: 28 => Train loss: 0.600306, Train score: 0.684781, Val loss: 0.673485, Val score: 0.594220\n",
      "Epoch: 29 => Train loss: 0.594600, Train score: 0.680761, Val loss: 0.670781, Val score: 0.603159\n",
      "Epoch: 30 => Train loss: 0.585793, Train score: 0.686002, Val loss: 0.661434, Val score: 0.614987\n",
      "Epoch: 31 => Train loss: 0.579495, Train score: 0.694061, Val loss: 0.666060, Val score: 0.628360\n",
      "Epoch: 32 => Train loss: 0.573257, Train score: 0.702199, Val loss: 0.640436, Val score: 0.646237\n",
      "Epoch: 33 => Train loss: 0.560104, Train score: 0.713036, Val loss: 0.642941, Val score: 0.642608\n",
      "Epoch: 34 => Train loss: 0.551006, Train score: 0.724602, Val loss: 0.630033, Val score: 0.663508\n",
      "Epoch: 35 => Train loss: 0.547798, Train score: 0.720267, Val loss: 0.648090, Val score: 0.670968\n",
      "Epoch: 36 => Train loss: 0.539915, Train score: 0.729725, Val loss: 0.663904, Val score: 0.654436\n",
      "Epoch: 37 => Train loss: 0.535536, Train score: 0.736897, Val loss: 0.639941, Val score: 0.661492\n",
      "Epoch: 38 => Train loss: 0.526604, Train score: 0.742276, Val loss: 0.611255, Val score: 0.681922\n",
      "Epoch: 39 => Train loss: 0.520996, Train score: 0.743931, Val loss: 0.603531, Val score: 0.680645\n",
      "Epoch: 40 => Train loss: 0.513409, Train score: 0.753685, Val loss: 0.637278, Val score: 0.672312\n",
      "Epoch: 41 => Train loss: 0.508590, Train score: 0.758236, Val loss: 0.597897, Val score: 0.692876\n",
      "Epoch: 42 => Train loss: 0.501157, Train score: 0.755675, Val loss: 0.618033, Val score: 0.663777\n",
      "Epoch: 43 => Train loss: 0.490654, Train score: 0.757645, Val loss: 0.615464, Val score: 0.701075\n",
      "Epoch: 44 => Train loss: 0.489660, Train score: 0.761625, Val loss: 0.587832, Val score: 0.704099\n",
      "Epoch: 45 => Train loss: 0.483939, Train score: 0.768088, Val loss: 0.603684, Val score: 0.708468\n",
      "Epoch: 46 => Train loss: 0.470202, Train score: 0.776462, Val loss: 0.632105, Val score: 0.680780\n",
      "Epoch: 47 => Train loss: 0.471338, Train score: 0.780265, Val loss: 0.599510, Val score: 0.711156\n",
      "Epoch: 48 => Train loss: 0.465120, Train score: 0.783004, Val loss: 0.635771, Val score: 0.680040\n",
      "Epoch: 49 => Train loss: 0.458499, Train score: 0.790944, Val loss: 0.567347, Val score: 0.740390\n",
      "Epoch: 50 => Train loss: 0.458622, Train score: 0.789604, Val loss: 0.590722, Val score: 0.722110\n",
      "Epoch: 51 => Train loss: 0.455167, Train score: 0.793427, Val loss: 0.555465, Val score: 0.730780\n",
      "Epoch: 52 => Train loss: 0.438209, Train score: 0.798688, Val loss: 0.555193, Val score: 0.748454\n",
      "Epoch: 53 => Train loss: 0.434387, Train score: 0.809643, Val loss: 0.551483, Val score: 0.750470\n",
      "Epoch: 54 => Train loss: 0.435039, Train score: 0.798570, Val loss: 0.526013, Val score: 0.783602\n",
      "Epoch: 55 => Train loss: 0.420320, Train score: 0.816480, Val loss: 0.595406, Val score: 0.712903\n",
      "Epoch: 56 => Train loss: 0.418498, Train score: 0.810273, Val loss: 0.550381, Val score: 0.760685\n",
      "Epoch: 57 => Train loss: 0.412680, Train score: 0.820066, Val loss: 0.534345, Val score: 0.767608\n",
      "Epoch: 58 => Train loss: 0.419210, Train score: 0.814963, Val loss: 0.538786, Val score: 0.753898\n",
      "Epoch: 59 => Train loss: 0.406580, Train score: 0.820776, Val loss: 0.544485, Val score: 0.763844\n",
      "Epoch: 60 => Train loss: 0.393914, Train score: 0.826667, Val loss: 0.554240, Val score: 0.749597\n",
      "Epoch: 61 => Train loss: 0.390557, Train score: 0.826352, Val loss: 0.546822, Val score: 0.762567\n",
      "Epoch: 62 => Train loss: 0.385789, Train score: 0.832755, Val loss: 0.545367, Val score: 0.761425\n",
      "Epoch: 63 => Train loss: 0.380412, Train score: 0.840046, Val loss: 0.542972, Val score: 0.765188\n",
      "Epoch: 64 => Train loss: 0.381349, Train score: 0.836282, Val loss: 0.523374, Val score: 0.789919\n",
      "Epoch: 65 => Train loss: 0.380264, Train score: 0.834154, Val loss: 0.519225, Val score: 0.788911\n",
      "Epoch: 66 => Train loss: 0.375648, Train score: 0.842430, Val loss: 0.555195, Val score: 0.758400\n",
      "Epoch: 67 => Train loss: 0.376928, Train score: 0.832420, Val loss: 0.516895, Val score: 0.789785\n",
      "Epoch: 68 => Train loss: 0.365370, Train score: 0.844420, Val loss: 0.533876, Val score: 0.775806\n",
      "Epoch: 69 => Train loss: 0.364305, Train score: 0.848518, Val loss: 0.522513, Val score: 0.790927\n",
      "Epoch: 70 => Train loss: 0.361068, Train score: 0.848439, Val loss: 0.515961, Val score: 0.793212\n",
      "Epoch: 71 => Train loss: 0.351970, Train score: 0.848183, Val loss: 0.554909, Val score: 0.766465\n",
      "Epoch: 72 => Train loss: 0.351360, Train score: 0.851001, Val loss: 0.540382, Val score: 0.782997\n",
      "Epoch: 73 => Train loss: 0.343823, Train score: 0.852282, Val loss: 0.535724, Val score: 0.780847\n",
      "Epoch: 74 => Train loss: 0.349069, Train score: 0.854784, Val loss: 0.509051, Val score: 0.783871\n",
      "Epoch: 75 => Train loss: 0.347168, Train score: 0.855178, Val loss: 0.530851, Val score: 0.776815\n",
      "Epoch: 76 => Train loss: 0.336191, Train score: 0.865286, Val loss: 0.534614, Val score: 0.782124\n",
      "Epoch: 77 => Train loss: 0.330515, Train score: 0.858567, Val loss: 0.503527, Val score: 0.792809\n",
      "Epoch: 78 => Train loss: 0.332662, Train score: 0.861562, Val loss: 0.530899, Val score: 0.786492\n",
      "Epoch: 79 => Train loss: 0.342175, Train score: 0.862666, Val loss: 0.677271, Val score: 0.706384\n",
      "Epoch: 80 => Train loss: 0.327953, Train score: 0.861582, Val loss: 0.536347, Val score: 0.788038\n",
      "Epoch: 81 => Train loss: 0.331883, Train score: 0.865857, Val loss: 0.550523, Val score: 0.766734\n",
      "Epoch: 82 => Train loss: 0.315514, Train score: 0.869187, Val loss: 0.517517, Val score: 0.794220\n",
      "Epoch: 83 => Train loss: 0.317357, Train score: 0.866252, Val loss: 0.532099, Val score: 0.790927\n",
      "Epoch: 84 => Train loss: 0.321079, Train score: 0.867651, Val loss: 0.526467, Val score: 0.793548\n",
      "Epoch: 85 => Train loss: 0.312149, Train score: 0.875217, Val loss: 0.490121, Val score: 0.813105\n",
      "Epoch: 86 => Train loss: 0.313070, Train score: 0.870015, Val loss: 0.532888, Val score: 0.794220\n",
      "Epoch: 87 => Train loss: 0.310100, Train score: 0.874310, Val loss: 0.548841, Val score: 0.788777\n",
      "Epoch: 88 => Train loss: 0.302761, Train score: 0.875532, Val loss: 0.561570, Val score: 0.783871\n",
      "Epoch: 89 => Train loss: 0.297835, Train score: 0.882054, Val loss: 0.530029, Val score: 0.795699\n",
      "Epoch: 90 => Train loss: 0.313463, Train score: 0.872537, Val loss: 0.523188, Val score: 0.805040\n",
      "Epoch: 91 => Train loss: 0.303054, Train score: 0.878350, Val loss: 0.496602, Val score: 0.811089\n",
      "Epoch: 92 => Train loss: 0.296673, Train score: 0.880773, Val loss: 0.484333, Val score: 0.805175\n",
      "Epoch: 93 => Train loss: 0.300541, Train score: 0.879630, Val loss: 0.500984, Val score: 0.812366\n",
      "Epoch: 94 => Train loss: 0.289127, Train score: 0.888083, Val loss: 0.518255, Val score: 0.813239\n",
      "Epoch: 95 => Train loss: 0.295183, Train score: 0.879177, Val loss: 0.516753, Val score: 0.820161\n",
      "Epoch: 96 => Train loss: 0.294713, Train score: 0.885522, Val loss: 0.528610, Val score: 0.778696\n",
      "Epoch: 97 => Train loss: 0.297644, Train score: 0.879059, Val loss: 0.479672, Val score: 0.822177\n",
      "Epoch: 98 => Train loss: 0.281518, Train score: 0.889541, Val loss: 0.526761, Val score: 0.790188\n",
      "Epoch: 99 => Train loss: 0.284605, Train score: 0.888911, Val loss: 0.535589, Val score: 0.794825\n",
      "Epoch: 100 => Train loss: 0.277004, Train score: 0.886093, Val loss: 0.529786, Val score: 0.804301\n",
      "Epoch: 101 => Train loss: 0.270473, Train score: 0.892871, Val loss: 0.503976, Val score: 0.821304\n",
      "Epoch: 102 => Train loss: 0.282453, Train score: 0.888142, Val loss: 0.559107, Val score: 0.785349\n",
      "Epoch: 103 => Train loss: 0.283421, Train score: 0.881345, Val loss: 0.530502, Val score: 0.803024\n",
      "Epoch: 104 => Train loss: 0.282151, Train score: 0.888142, Val loss: 0.510808, Val score: 0.808065\n",
      "Epoch: 105 => Train loss: 0.283761, Train score: 0.888261, Val loss: 0.537173, Val score: 0.808938\n",
      "Epoch: 106 => Train loss: 0.283684, Train score: 0.887118, Val loss: 0.640325, Val score: 0.769758\n",
      "Epoch: 107 => Train loss: 0.280743, Train score: 0.885522, Val loss: 0.499366, Val score: 0.812231\n",
      "Epoch: 108 => Train loss: 0.269296, Train score: 0.890980, Val loss: 0.572809, Val score: 0.793952\n",
      "Epoch: 109 => Train loss: 0.264670, Train score: 0.893324, Val loss: 0.522822, Val score: 0.805175\n",
      "Epoch: 110 => Train loss: 0.265934, Train score: 0.891847, Val loss: 0.505218, Val score: 0.813508\n",
      "Epoch: 111 => Train loss: 0.260895, Train score: 0.895078, Val loss: 0.478542, Val score: 0.829099\n",
      "Epoch: 112 => Train loss: 0.256139, Train score: 0.902487, Val loss: 0.535882, Val score: 0.794691\n",
      "Epoch: 113 => Train loss: 0.253448, Train score: 0.899354, Val loss: 0.519275, Val score: 0.814247\n",
      "Epoch: 114 => Train loss: 0.250119, Train score: 0.900122, Val loss: 0.546256, Val score: 0.806048\n",
      "Epoch: 115 => Train loss: 0.252209, Train score: 0.904851, Val loss: 0.520152, Val score: 0.822043\n",
      "Epoch: 116 => Train loss: 0.253405, Train score: 0.894605, Val loss: 0.554417, Val score: 0.809341\n",
      "Epoch: 117 => Train loss: 0.248713, Train score: 0.897305, Val loss: 0.511300, Val score: 0.831384\n",
      "Epoch: 118 => Train loss: 0.248692, Train score: 0.900260, Val loss: 0.532677, Val score: 0.821909\n",
      "Epoch: 119 => Train loss: 0.247657, Train score: 0.906585, Val loss: 0.505286, Val score: 0.823051\n",
      "Epoch: 120 => Train loss: 0.239649, Train score: 0.905166, Val loss: 0.577453, Val score: 0.788777\n",
      "Epoch: 121 => Train loss: 0.255732, Train score: 0.902171, Val loss: 0.479486, Val score: 0.836290\n",
      "Epoch: 122 => Train loss: 0.240867, Train score: 0.908319, Val loss: 0.472673, Val score: 0.826478\n",
      "Epoch: 123 => Train loss: 0.238123, Train score: 0.903137, Val loss: 0.502631, Val score: 0.815390\n",
      "Epoch: 124 => Train loss: 0.241776, Train score: 0.903058, Val loss: 0.558454, Val score: 0.807056\n",
      "Epoch: 125 => Train loss: 0.236186, Train score: 0.906959, Val loss: 0.508007, Val score: 0.822312\n",
      "Epoch: 126 => Train loss: 0.238278, Train score: 0.911767, Val loss: 0.506136, Val score: 0.831519\n",
      "Epoch: 127 => Train loss: 0.238589, Train score: 0.904221, Val loss: 0.536968, Val score: 0.809812\n",
      "Epoch: 128 => Train loss: 0.229525, Train score: 0.909206, Val loss: 0.506862, Val score: 0.832258\n",
      "Epoch: 129 => Train loss: 0.235654, Train score: 0.911058, Val loss: 0.498446, Val score: 0.839583\n",
      "Epoch: 130 => Train loss: 0.227805, Train score: 0.910999, Val loss: 0.533576, Val score: 0.811962\n",
      "Epoch: 131 => Train loss: 0.230979, Train score: 0.907294, Val loss: 0.501811, Val score: 0.831519\n",
      "Epoch: 132 => Train loss: 0.232199, Train score: 0.906388, Val loss: 0.519473, Val score: 0.829234\n",
      "Epoch: 133 => Train loss: 0.229050, Train score: 0.908260, Val loss: 0.571966, Val score: 0.815121\n",
      "Epoch: 134 => Train loss: 0.224274, Train score: 0.906014, Val loss: 0.544960, Val score: 0.816129\n",
      "Epoch: 135 => Train loss: 0.228411, Train score: 0.912279, Val loss: 0.538730, Val score: 0.815524\n",
      "Epoch: 136 => Train loss: 0.219152, Train score: 0.916378, Val loss: 0.529546, Val score: 0.821169\n",
      "Epoch: 137 => Train loss: 0.223756, Train score: 0.911511, Val loss: 0.569830, Val score: 0.813105\n",
      "Epoch: 138 => Train loss: 0.224034, Train score: 0.913816, Val loss: 0.546530, Val score: 0.823454\n",
      "Epoch: 139 => Train loss: 0.221784, Train score: 0.910171, Val loss: 0.540309, Val score: 0.827352\n",
      "Epoch: 140 => Train loss: 0.221635, Train score: 0.908949, Val loss: 0.599803, Val score: 0.819019\n",
      "Epoch: 141 => Train loss: 0.222464, Train score: 0.912595, Val loss: 0.553516, Val score: 0.832527\n",
      "Epoch: 142 => Train loss: 0.219531, Train score: 0.909718, Val loss: 0.530510, Val score: 0.822312\n",
      "Training stopped.\n"
     ]
    }
   ],
   "source": [
    "history = train_model(\n",
    "    model=best_model_flip_nn,\n",
    "    train_dataloader=train_flip_dataloader,\n",
    "    val_dataloader=val_flip_dataloader,\n",
    "    loss_fn=loss_fn,\n",
    "    optimizer=optimizer,\n",
    "    metric=metric,\n",
    "    epochs=500,\n",
    "    early_stopping=early_stop,\n",
    "    device=device\n",
    ")"
   ]
  },
  {
   "cell_type": "code",
   "execution_count": 43,
   "metadata": {},
   "outputs": [
    {
     "data": {
      "image/png": "[encoded data removed]",
      "text/plain": [
       "<Figure size 1200x600 with 2 Axes>"
      ]
     },
     "metadata": {},
     "output_type": "display_data"
    }
   ],
   "source": [
    "plot_train_history(history)"
   ]
  },
  {
   "cell_type": "code",
   "execution_count": 44,
   "metadata": {},
   "outputs": [],
   "source": [
    "scores_flip_nn = torch.tensor([\n",
    "    metric(\n",
    "        predict(best_model_flip_nn, X_test_flip[i], device),\n",
    "        Y_test_flip[i]\n",
    "    ) for i in range(128)\n",
    "])"
   ]
  },
  {
   "attachments": {},
   "cell_type": "markdown",
   "metadata": {},
   "source": [
    "### Orthant performance plot"
   ]
  },
  {
   "cell_type": "code",
   "execution_count": 45,
   "metadata": {},
   "outputs": [
    {
     "data": {
      "text/plain": [
       "Text(0.5, 0.98, 'Score vs no. of points for each orthant, NN')"
      ]
     },
     "execution_count": 45,
     "metadata": {},
     "output_type": "execute_result"
    },
    {
     "data": {
      "image/png": "[encoded data removed]",
      "text/plain": [
       "<Figure size 1300x600 with 2 Axes>"
      ]
     },
     "metadata": {},
     "output_type": "display_data"
    }
   ],
   "source": [
    "plt.figure(figsize=(13, 6))\n",
    "\n",
    "plt.subplot(121)\n",
    "plt.scatter(orthant_counts, scores_nn)\n",
    "plt.xlabel('Number of points')\n",
    "plt.ylabel('Binary accuracy')\n",
    "plt.title('No class filps')\n",
    "\n",
    "plt.subplot(122)\n",
    "plt.scatter(orthant_counts, scores_flip_nn)\n",
    "plt.xlabel('Number of points')\n",
    "plt.ylabel('Binary accuracy')\n",
    "plt.title('Random class filps')\n",
    "\n",
    "plt.suptitle('Score vs no. of points for each orthant, NN')"
   ]
  },
  {
   "cell_type": "code",
   "execution_count": 46,
   "metadata": {},
   "outputs": [
    {
     "data": {
      "text/plain": [
       "(0.004157272030579041, 0.6532355650367617)"
      ]
     },
     "execution_count": 46,
     "metadata": {},
     "output_type": "execute_result"
    }
   ],
   "source": [
    "from scipy.stats import pearsonr\n",
    "\n",
    "pearsonr(orthant_counts, scores_nn).statistic, pearsonr(orthant_counts, scores_flip_nn).statistic"
   ]
  },
  {
   "cell_type": "code",
   "execution_count": 47,
   "metadata": {},
   "outputs": [
    {
     "data": {
      "text/plain": [
       "(tensor(0.9041), tensor(0.7741))"
      ]
     },
     "execution_count": 47,
     "metadata": {},
     "output_type": "execute_result"
    }
   ],
   "source": [
    "scores_nn.mean(), scores_flip_nn.mean()"
   ]
  },
  {
   "cell_type": "code",
   "execution_count": 48,
   "metadata": {},
   "outputs": [
    {
     "name": "stdout",
     "output_type": "stream",
     "text": [
      "Performance in empty orthants:  tensor(0.8955) tensor(0.5283)\n",
      "Performance in rare orthants:  tensor(0.9082) tensor(0.6859)\n",
      "Performance in typical orthants:  tensor(0.9038) tensor(0.8167)\n"
     ]
    }
   ],
   "source": [
    "print('Performance in empty orthants: ', scores_nn[ZERO_ORTHANT_INDICES].mean(), scores_flip_nn[ZERO_ORTHANT_INDICES].mean())\n",
    "print('Performance in rare orthants: ', scores_nn[LOW_ORTHANT_INDICES].mean(), scores_flip_nn[LOW_ORTHANT_INDICES].mean())\n",
    "print('Performance in typical orthants: ', scores_nn[HIGH_ORTHANT_INDICES].mean(), scores_flip_nn[HIGH_ORTHANT_INDICES].mean())"
   ]
  },
  {
   "attachments": {},
   "cell_type": "markdown",
   "metadata": {},
   "source": [
    "Okay, maybe a neural network can find symmetry? Can an SVM do this too? Is the test data too similar to training?"
   ]
  },
  {
   "attachments": {},
   "cell_type": "markdown",
   "metadata": {},
   "source": [
    "## SVM"
   ]
  },
  {
   "cell_type": "code",
   "execution_count": 49,
   "metadata": {},
   "outputs": [],
   "source": [
    "from sklearn.svm import SVC\n",
    "from sklearn.metrics import accuracy_score, make_scorer\n",
    "from scripts.ntk import NTK\n",
    "from sklearn.model_selection import GridSearchCV"
   ]
  },
  {
   "cell_type": "code",
   "execution_count": 50,
   "metadata": {},
   "outputs": [],
   "source": [
    "ntk = NTK(best_model_nn).get_ntk"
   ]
  },
  {
   "cell_type": "code",
   "execution_count": 51,
   "metadata": {},
   "outputs": [],
   "source": [
    "model_base = SVC(kernel=ntk)\n",
    "params = {\n",
    "    'C': np.logspace(-5, 5, 11)\n",
    "}\n",
    "scorer = make_scorer(accuracy_score)"
   ]
  },
  {
   "attachments": {},
   "cell_type": "markdown",
   "metadata": {},
   "source": [
    "### Without class flipping"
   ]
  },
  {
   "cell_type": "code",
   "execution_count": 52,
   "metadata": {},
   "outputs": [
    {
     "name": "stdout",
     "output_type": "stream",
     "text": [
      "Fitting 5 folds for each of 11 candidates, totalling 55 fits\n",
      "[CV 1/5] END ...........................C=1e-05;, score=0.513 total time=   1.1s\n",
      "[CV 2/5] END ...........................C=1e-05;, score=0.513 total time=   1.1s\n",
      "[CV 3/5] END ...........................C=1e-05;, score=0.513 total time=   1.1s\n",
      "[CV 5/5] END ...........................C=1e-05;, score=0.516 total time=   1.1s\n",
      "[CV 4/5] END ...........................C=1e-05;, score=0.513 total time=   1.1s\n",
      "[CV 2/5] END ..........................C=0.0001;, score=0.513 total time=   1.1s\n",
      "[CV 3/5] END ..........................C=0.0001;, score=0.513 total time=   1.1s\n",
      "[CV 1/5] END ..........................C=0.0001;, score=0.513 total time=   1.1s\n",
      "[CV 4/5] END ..........................C=0.0001;, score=0.513 total time=   1.1s\n",
      "[CV 5/5] END ..........................C=0.0001;, score=0.516 total time=   1.1s\n",
      "[CV 1/5] END ...........................C=0.001;, score=0.513 total time=   1.1s\n",
      "[CV 2/5] END ...........................C=0.001;, score=0.513 total time=   1.1s\n",
      "[CV 4/5] END ...........................C=0.001;, score=0.513 total time=   1.1s\n",
      "[CV 5/5] END ...........................C=0.001;, score=0.516 total time=   1.1s\n",
      "[CV 3/5] END ...........................C=0.001;, score=0.513 total time=   1.2s\n",
      "[CV 1/5] END ............................C=0.01;, score=0.545 total time=   1.1s\n",
      "[CV 2/5] END ............................C=0.01;, score=0.545 total time=   1.1s\n",
      "[CV 3/5] END ............................C=0.01;, score=0.545 total time=   1.1s\n",
      "[CV 5/5] END ............................C=0.01;, score=0.555 total time=   1.1s\n",
      "[CV 4/5] END ............................C=0.01;, score=0.545 total time=   1.1s\n",
      "[CV 1/5] END .............................C=0.1;, score=0.897 total time=   1.1s\n",
      "[CV 2/5] END .............................C=0.1;, score=0.859 total time=   1.1s\n",
      "[CV 3/5] END .............................C=0.1;, score=0.891 total time=   1.1s\n",
      "[CV 4/5] END .............................C=0.1;, score=0.897 total time=   1.1s\n",
      "[CV 5/5] END .............................C=0.1;, score=0.800 total time=   1.1s\n",
      "[CV 1/5] END .............................C=1.0;, score=0.917 total time=   1.1s\n",
      "[CV 3/5] END .............................C=1.0;, score=0.891 total time=   1.1s\n",
      "[CV 2/5] END .............................C=1.0;, score=0.897 total time=   1.1s\n",
      "[CV 4/5] END .............................C=1.0;, score=0.910 total time=   1.1s\n",
      "[CV 5/5] END .............................C=1.0;, score=0.897 total time=   1.1s\n",
      "[CV 1/5] END ............................C=10.0;, score=0.897 total time=   1.1s\n",
      "[CV 2/5] END ............................C=10.0;, score=0.904 total time=   1.1s\n",
      "[CV 3/5] END ............................C=10.0;, score=0.904 total time=   1.1s\n",
      "[CV 4/5] END ............................C=10.0;, score=0.897 total time=   1.1s\n",
      "[CV 5/5] END ............................C=10.0;, score=0.877 total time=   1.1s\n",
      "[CV 1/5] END ...........................C=100.0;, score=0.865 total time=   1.1s\n",
      "[CV 2/5] END ...........................C=100.0;, score=0.878 total time=   1.1s\n",
      "[CV 3/5] END ...........................C=100.0;, score=0.878 total time=   1.1s\n",
      "[CV 4/5] END ...........................C=100.0;, score=0.910 total time=   1.1s\n",
      "[CV 5/5] END ...........................C=100.0;, score=0.858 total time=   1.1s\n",
      "[CV 1/5] END ..........................C=1000.0;, score=0.853 total time=   1.1s\n",
      "[CV 2/5] END ..........................C=1000.0;, score=0.872 total time=   1.1s\n",
      "[CV 3/5] END ..........................C=1000.0;, score=0.865 total time=   1.1s\n",
      "[CV 4/5] END ..........................C=1000.0;, score=0.878 total time=   1.1s\n",
      "[CV 5/5] END ..........................C=1000.0;, score=0.826 total time=   1.1s\n",
      "[CV 1/5] END .........................C=10000.0;, score=0.833 total time=   1.1s\n",
      "[CV 2/5] END .........................C=10000.0;, score=0.808 total time=   1.1s\n",
      "[CV 3/5] END .........................C=10000.0;, score=0.814 total time=   1.1s\n",
      "[CV 4/5] END .........................C=10000.0;, score=0.795 total time=   1.1s\n",
      "[CV 5/5] END .........................C=10000.0;, score=0.794 total time=   1.1s\n",
      "[CV 1/5] END ........................C=100000.0;, score=0.821 total time=   1.0s\n",
      "[CV 2/5] END ........................C=100000.0;, score=0.821 total time=   1.1s\n",
      "[CV 3/5] END ........................C=100000.0;, score=0.814 total time=   1.1s\n",
      "[CV 4/5] END ........................C=100000.0;, score=0.840 total time=   1.0s\n",
      "[CV 5/5] END ........................C=100000.0;, score=0.832 total time=   1.1s\n"
     ]
    },
    {
     "data": {
      "text/plain": [
       "{'C': 1.0}"
      ]
     },
     "execution_count": 52,
     "metadata": {},
     "output_type": "execute_result"
    }
   ],
   "source": [
    "model_cv = GridSearchCV(\n",
    "    estimator=model_base,\n",
    "    param_grid=params,\n",
    "    scoring=scorer,\n",
    "    n_jobs=5,\n",
    "    refit=False,\n",
    "    verbose=3\n",
    ")\n",
    "model_cv.fit(X_train_cv, Y_train_cv.squeeze())\n",
    "best_params = model_cv.best_params_\n",
    "best_params"
   ]
  },
  {
   "cell_type": "code",
   "execution_count": 53,
   "metadata": {},
   "outputs": [],
   "source": [
    "best_model_km = SVC(C=best_params['C'], kernel=ntk)"
   ]
  },
  {
   "cell_type": "code",
   "execution_count": 54,
   "metadata": {},
   "outputs": [
    {
     "data": {
      "text/html": [
       "<style>#sk-container-id-1 {color: black;background-color: white;}#sk-container-id-1 pre{padding: 0;}#sk-container-id-1 div.sk-toggleable {background-color: white;}#sk-container-id-1 label.sk-toggleable__label {cursor: pointer;display: block;width: 100%;margin-bottom: 0;padding: 0.3em;box-sizing: border-box;text-align: center;}#sk-container-id-1 label.sk-toggleable__label-arrow:before {content: \"▸\";float: left;margin-right: 0.25em;color: #696969;}#sk-container-id-1 label.sk-toggleable__label-arrow:hover:before {color: black;}#sk-container-id-1 div.sk-estimator:hover label.sk-toggleable__label-arrow:before {color: black;}#sk-container-id-1 div.sk-toggleable__content {max-height: 0;max-width: 0;overflow: hidden;text-align: left;background-color: #f0f8ff;}#sk-container-id-1 div.sk-toggleable__content pre {margin: 0.2em;color: black;border-radius: 0.25em;background-color: #f0f8ff;}#sk-container-id-1 input.sk-toggleable__control:checked~div.sk-toggleable__content {max-height: 200px;max-width: 100%;overflow: auto;}#sk-container-id-1 input.sk-toggleable__control:checked~label.sk-toggleable__label-arrow:before {content: \"▾\";}#sk-container-id-1 div.sk-estimator input.sk-toggleable__control:checked~label.sk-toggleable__label {background-color: #d4ebff;}#sk-container-id-1 div.sk-label input.sk-toggleable__control:checked~label.sk-toggleable__label {background-color: #d4ebff;}#sk-container-id-1 input.sk-hidden--visually {border: 0;clip: rect(1px 1px 1px 1px);clip: rect(1px, 1px, 1px, 1px);height: 1px;margin: -1px;overflow: hidden;padding: 0;position: absolute;width: 1px;}#sk-container-id-1 div.sk-estimator {font-family: monospace;background-color: #f0f8ff;border: 1px dotted black;border-radius: 0.25em;box-sizing: border-box;margin-bottom: 0.5em;}#sk-container-id-1 div.sk-estimator:hover {background-color: #d4ebff;}#sk-container-id-1 div.sk-parallel-item::after {content: \"\";width: 100%;border-bottom: 1px solid gray;flex-grow: 1;}#sk-container-id-1 div.sk-label:hover label.sk-toggleable__label {background-color: #d4ebff;}#sk-container-id-1 div.sk-serial::before {content: \"\";position: absolute;border-left: 1px solid gray;box-sizing: border-box;top: 0;bottom: 0;left: 50%;z-index: 0;}#sk-container-id-1 div.sk-serial {display: flex;flex-direction: column;align-items: center;background-color: white;padding-right: 0.2em;padding-left: 0.2em;position: relative;}#sk-container-id-1 div.sk-item {position: relative;z-index: 1;}#sk-container-id-1 div.sk-parallel {display: flex;align-items: stretch;justify-content: center;background-color: white;position: relative;}#sk-container-id-1 div.sk-item::before, #sk-container-id-1 div.sk-parallel-item::before {content: \"\";position: absolute;border-left: 1px solid gray;box-sizing: border-box;top: 0;bottom: 0;left: 50%;z-index: -1;}#sk-container-id-1 div.sk-parallel-item {display: flex;flex-direction: column;z-index: 1;position: relative;background-color: white;}#sk-container-id-1 div.sk-parallel-item:first-child::after {align-self: flex-end;width: 50%;}#sk-container-id-1 div.sk-parallel-item:last-child::after {align-self: flex-start;width: 50%;}#sk-container-id-1 div.sk-parallel-item:only-child::after {width: 0;}#sk-container-id-1 div.sk-dashed-wrapped {border: 1px dashed gray;margin: 0 0.4em 0.5em 0.4em;box-sizing: border-box;padding-bottom: 0.4em;background-color: white;}#sk-container-id-1 div.sk-label label {font-family: monospace;font-weight: bold;display: inline-block;line-height: 1.2em;}#sk-container-id-1 div.sk-label-container {text-align: center;}#sk-container-id-1 div.sk-container {/* jupyter's `normalize.less` sets `[hidden] { display: none; }` but bootstrap.min.css set `[hidden] { display: none !important; }` so we also need the `!important` here to be able to override the default hidden behavior on the sphinx rendered scikit-learn.org. See: https://github.com/scikit-learn/scikit-learn/issues/21755 */display: inline-block !important;position: relative;}#sk-container-id-1 div.sk-text-repr-fallback {display: none;}</style><div id=\"sk-container-id-1\" class=\"sk-top-container\"><div class=\"sk-text-repr-fallback\"><pre>SVC(kernel=&lt;bound method NTK.get_ntk of &lt;scripts.ntk.NTK object at 0x7f85e8137b20&gt;&gt;)</pre><b>In a Jupyter environment, please rerun this cell to show the HTML representation or trust the notebook. <br />On GitHub, the HTML representation is unable to render, please try loading this page with nbviewer.org.</b></div><div class=\"sk-container\" hidden><div class=\"sk-item\"><div class=\"sk-estimator sk-toggleable\"><input class=\"sk-toggleable__control sk-hidden--visually\" id=\"sk-estimator-id-1\" type=\"checkbox\" checked><label for=\"sk-estimator-id-1\" class=\"sk-toggleable__label sk-toggleable__label-arrow\">SVC</label><div class=\"sk-toggleable__content\"><pre>SVC(kernel=&lt;bound method NTK.get_ntk of &lt;scripts.ntk.NTK object at 0x7f85e8137b20&gt;&gt;)</pre></div></div></div></div></div>"
      ],
      "text/plain": [
       "SVC(kernel=<bound method NTK.get_ntk of <scripts.ntk.NTK object at 0x7f85e8137b20>>)"
      ]
     },
     "execution_count": 54,
     "metadata": {},
     "output_type": "execute_result"
    }
   ],
   "source": [
    "best_model_km.fit(X_train, Y_train.squeeze())"
   ]
  },
  {
   "cell_type": "code",
   "execution_count": 55,
   "metadata": {},
   "outputs": [
    {
     "data": {
      "text/plain": [
       "(0.9443304258594151, 0.9015384615384615)"
      ]
     },
     "execution_count": 55,
     "metadata": {},
     "output_type": "execute_result"
    }
   ],
   "source": [
    "preds_train, preds_val = best_model_km.predict(X_train), best_model_km.predict(X_val)\n",
    "score_train, score_val = accuracy_score(Y_train.squeeze(), preds_train), accuracy_score(Y_val.squeeze(), preds_val)\n",
    "score_train, score_val"
   ]
  },
  {
   "cell_type": "code",
   "execution_count": 56,
   "metadata": {},
   "outputs": [],
   "source": [
    "scores_km = np.array([\n",
    "    accuracy_score(\n",
    "        best_model_km.predict(X_test[i]),\n",
    "        Y_test[i].squeeze()\n",
    "    ) for i in range(128)\n",
    "])"
   ]
  },
  {
   "attachments": {},
   "cell_type": "markdown",
   "metadata": {},
   "source": [
    "### With class flipping in random orthants"
   ]
  },
  {
   "cell_type": "code",
   "execution_count": 57,
   "metadata": {},
   "outputs": [
    {
     "name": "stdout",
     "output_type": "stream",
     "text": [
      "Fitting 5 folds for each of 11 candidates, totalling 55 fits\n",
      "[CV 2/5] END ...........................C=1e-05;, score=0.513 total time=   1.1s\n",
      "[CV 1/5] END ...........................C=1e-05;, score=0.513 total time=   1.1s\n",
      "[CV 3/5] END ...........................C=1e-05;, score=0.506 total time=   1.1s\n",
      "[CV 5/5] END ...........................C=1e-05;, score=0.510 total time=   1.1s\n",
      "[CV 4/5] END ...........................C=1e-05;, score=0.506 total time=   1.1s\n",
      "[CV 1/5] END ..........................C=0.0001;, score=0.513 total time=   1.1s\n",
      "[CV 2/5] END ..........................C=0.0001;, score=0.513 total time=   1.1s\n",
      "[CV 3/5] END ..........................C=0.0001;, score=0.506 total time=   1.2s\n",
      "[CV 4/5] END ..........................C=0.0001;, score=0.506 total time=   1.2s\n",
      "[CV 5/5] END ..........................C=0.0001;, score=0.510 total time=   1.2s\n",
      "[CV 2/5] END ...........................C=0.001;, score=0.513 total time=   1.2s\n",
      "[CV 3/5] END ...........................C=0.001;, score=0.506 total time=   1.1s\n",
      "[CV 4/5] END ...........................C=0.001;, score=0.506 total time=   1.2s\n",
      "[CV 1/5] END ...........................C=0.001;, score=0.513 total time=   1.2s\n",
      "[CV 5/5] END ...........................C=0.001;, score=0.510 total time=   1.2s\n",
      "[CV 1/5] END ............................C=0.01;, score=0.513 total time=   1.1s\n",
      "[CV 3/5] END ............................C=0.01;, score=0.494 total time=   1.1s\n",
      "[CV 4/5] END ............................C=0.01;, score=0.506 total time=   1.1s\n",
      "[CV 2/5] END ............................C=0.01;, score=0.500 total time=   1.2s\n",
      "[CV 5/5] END ............................C=0.01;, score=0.510 total time=   1.2s\n",
      "[CV 1/5] END .............................C=0.1;, score=0.583 total time=   1.1s\n",
      "[CV 3/5] END .............................C=0.1;, score=0.500 total time=   1.1s\n",
      "[CV 2/5] END .............................C=0.1;, score=0.481 total time=   1.2s\n",
      "[CV 4/5] END .............................C=0.1;, score=0.564 total time=   1.2s\n",
      "[CV 5/5] END .............................C=0.1;, score=0.723 total time=   1.1s\n",
      "[CV 1/5] END .............................C=1.0;, score=0.641 total time=   1.1s\n",
      "[CV 2/5] END .............................C=1.0;, score=0.692 total time=   1.1s\n",
      "[CV 4/5] END .............................C=1.0;, score=0.647 total time=   1.1s\n",
      "[CV 3/5] END .............................C=1.0;, score=0.692 total time=   1.2s\n",
      "[CV 5/5] END .............................C=1.0;, score=0.723 total time=   1.1s\n",
      "[CV 1/5] END ............................C=10.0;, score=0.654 total time=   1.1s\n",
      "[CV 2/5] END ............................C=10.0;, score=0.705 total time=   1.1s\n",
      "[CV 3/5] END ............................C=10.0;, score=0.679 total time=   1.1s\n",
      "[CV 4/5] END ............................C=10.0;, score=0.699 total time=   1.2s\n",
      "[CV 5/5] END ............................C=10.0;, score=0.755 total time=   1.1s\n",
      "[CV 1/5] END ...........................C=100.0;, score=0.622 total time=   1.2s\n",
      "[CV 2/5] END ...........................C=100.0;, score=0.712 total time=   1.2s\n",
      "[CV 3/5] END ...........................C=100.0;, score=0.654 total time=   1.2s\n",
      "[CV 5/5] END ...........................C=100.0;, score=0.729 total time=   1.2s\n",
      "[CV 4/5] END ...........................C=100.0;, score=0.679 total time=   1.2s\n",
      "[CV 2/5] END ..........................C=1000.0;, score=0.737 total time=   1.2s\n",
      "[CV 1/5] END ..........................C=1000.0;, score=0.583 total time=   1.3s\n",
      "[CV 3/5] END ..........................C=1000.0;, score=0.673 total time=   1.3s\n",
      "[CV 5/5] END ..........................C=1000.0;, score=0.723 total time=   1.4s\n",
      "[CV 4/5] END ..........................C=1000.0;, score=0.699 total time=   1.4s\n",
      "[CV 1/5] END .........................C=10000.0;, score=0.622 total time=   1.5s\n",
      "[CV 2/5] END .........................C=10000.0;, score=0.731 total time=   1.7s\n",
      "[CV 3/5] END .........................C=10000.0;, score=0.679 total time=   1.6s\n",
      "[CV 5/5] END .........................C=10000.0;, score=0.716 total time=   1.6s\n",
      "[CV 4/5] END .........................C=10000.0;, score=0.724 total time=   1.7s\n",
      "[CV 1/5] END ........................C=100000.0;, score=0.635 total time=   1.8s\n",
      "[CV 2/5] END ........................C=100000.0;, score=0.667 total time=   1.6s\n",
      "[CV 3/5] END ........................C=100000.0;, score=0.628 total time=   1.7s\n",
      "[CV 4/5] END ........................C=100000.0;, score=0.660 total time=   1.7s\n",
      "[CV 5/5] END ........................C=100000.0;, score=0.735 total time=   1.6s\n"
     ]
    },
    {
     "data": {
      "text/plain": [
       "{'C': 10.0}"
      ]
     },
     "execution_count": 57,
     "metadata": {},
     "output_type": "execute_result"
    }
   ],
   "source": [
    "model_cv = GridSearchCV(\n",
    "    estimator=model_base,\n",
    "    param_grid=params,\n",
    "    scoring=scorer,\n",
    "    n_jobs=5,\n",
    "    refit=False,\n",
    "    verbose=3\n",
    ")\n",
    "model_cv.fit(X_train_flip_cv, Y_train_flip_cv.squeeze())\n",
    "best_params_flip = model_cv.best_params_\n",
    "best_params_flip"
   ]
  },
  {
   "cell_type": "code",
   "execution_count": 58,
   "metadata": {},
   "outputs": [],
   "source": [
    "best_model_flip_km = SVC(C=best_params_flip['C'], kernel=ntk)"
   ]
  },
  {
   "cell_type": "code",
   "execution_count": 59,
   "metadata": {},
   "outputs": [
    {
     "data": {
      "text/html": [
       "<style>#sk-container-id-2 {color: black;background-color: white;}#sk-container-id-2 pre{padding: 0;}#sk-container-id-2 div.sk-toggleable {background-color: white;}#sk-container-id-2 label.sk-toggleable__label {cursor: pointer;display: block;width: 100%;margin-bottom: 0;padding: 0.3em;box-sizing: border-box;text-align: center;}#sk-container-id-2 label.sk-toggleable__label-arrow:before {content: \"▸\";float: left;margin-right: 0.25em;color: #696969;}#sk-container-id-2 label.sk-toggleable__label-arrow:hover:before {color: black;}#sk-container-id-2 div.sk-estimator:hover label.sk-toggleable__label-arrow:before {color: black;}#sk-container-id-2 div.sk-toggleable__content {max-height: 0;max-width: 0;overflow: hidden;text-align: left;background-color: #f0f8ff;}#sk-container-id-2 div.sk-toggleable__content pre {margin: 0.2em;color: black;border-radius: 0.25em;background-color: #f0f8ff;}#sk-container-id-2 input.sk-toggleable__control:checked~div.sk-toggleable__content {max-height: 200px;max-width: 100%;overflow: auto;}#sk-container-id-2 input.sk-toggleable__control:checked~label.sk-toggleable__label-arrow:before {content: \"▾\";}#sk-container-id-2 div.sk-estimator input.sk-toggleable__control:checked~label.sk-toggleable__label {background-color: #d4ebff;}#sk-container-id-2 div.sk-label input.sk-toggleable__control:checked~label.sk-toggleable__label {background-color: #d4ebff;}#sk-container-id-2 input.sk-hidden--visually {border: 0;clip: rect(1px 1px 1px 1px);clip: rect(1px, 1px, 1px, 1px);height: 1px;margin: -1px;overflow: hidden;padding: 0;position: absolute;width: 1px;}#sk-container-id-2 div.sk-estimator {font-family: monospace;background-color: #f0f8ff;border: 1px dotted black;border-radius: 0.25em;box-sizing: border-box;margin-bottom: 0.5em;}#sk-container-id-2 div.sk-estimator:hover {background-color: #d4ebff;}#sk-container-id-2 div.sk-parallel-item::after {content: \"\";width: 100%;border-bottom: 1px solid gray;flex-grow: 1;}#sk-container-id-2 div.sk-label:hover label.sk-toggleable__label {background-color: #d4ebff;}#sk-container-id-2 div.sk-serial::before {content: \"\";position: absolute;border-left: 1px solid gray;box-sizing: border-box;top: 0;bottom: 0;left: 50%;z-index: 0;}#sk-container-id-2 div.sk-serial {display: flex;flex-direction: column;align-items: center;background-color: white;padding-right: 0.2em;padding-left: 0.2em;position: relative;}#sk-container-id-2 div.sk-item {position: relative;z-index: 1;}#sk-container-id-2 div.sk-parallel {display: flex;align-items: stretch;justify-content: center;background-color: white;position: relative;}#sk-container-id-2 div.sk-item::before, #sk-container-id-2 div.sk-parallel-item::before {content: \"\";position: absolute;border-left: 1px solid gray;box-sizing: border-box;top: 0;bottom: 0;left: 50%;z-index: -1;}#sk-container-id-2 div.sk-parallel-item {display: flex;flex-direction: column;z-index: 1;position: relative;background-color: white;}#sk-container-id-2 div.sk-parallel-item:first-child::after {align-self: flex-end;width: 50%;}#sk-container-id-2 div.sk-parallel-item:last-child::after {align-self: flex-start;width: 50%;}#sk-container-id-2 div.sk-parallel-item:only-child::after {width: 0;}#sk-container-id-2 div.sk-dashed-wrapped {border: 1px dashed gray;margin: 0 0.4em 0.5em 0.4em;box-sizing: border-box;padding-bottom: 0.4em;background-color: white;}#sk-container-id-2 div.sk-label label {font-family: monospace;font-weight: bold;display: inline-block;line-height: 1.2em;}#sk-container-id-2 div.sk-label-container {text-align: center;}#sk-container-id-2 div.sk-container {/* jupyter's `normalize.less` sets `[hidden] { display: none; }` but bootstrap.min.css set `[hidden] { display: none !important; }` so we also need the `!important` here to be able to override the default hidden behavior on the sphinx rendered scikit-learn.org. See: https://github.com/scikit-learn/scikit-learn/issues/21755 */display: inline-block !important;position: relative;}#sk-container-id-2 div.sk-text-repr-fallback {display: none;}</style><div id=\"sk-container-id-2\" class=\"sk-top-container\"><div class=\"sk-text-repr-fallback\"><pre>SVC(C=10.0,\n",
       "    kernel=&lt;bound method NTK.get_ntk of &lt;scripts.ntk.NTK object at 0x7f85e8137b20&gt;&gt;)</pre><b>In a Jupyter environment, please rerun this cell to show the HTML representation or trust the notebook. <br />On GitHub, the HTML representation is unable to render, please try loading this page with nbviewer.org.</b></div><div class=\"sk-container\" hidden><div class=\"sk-item\"><div class=\"sk-estimator sk-toggleable\"><input class=\"sk-toggleable__control sk-hidden--visually\" id=\"sk-estimator-id-2\" type=\"checkbox\" checked><label for=\"sk-estimator-id-2\" class=\"sk-toggleable__label sk-toggleable__label-arrow\">SVC</label><div class=\"sk-toggleable__content\"><pre>SVC(C=10.0,\n",
       "    kernel=&lt;bound method NTK.get_ntk of &lt;scripts.ntk.NTK object at 0x7f85e8137b20&gt;&gt;)</pre></div></div></div></div></div>"
      ],
      "text/plain": [
       "SVC(C=10.0,\n",
       "    kernel=<bound method NTK.get_ntk of <scripts.ntk.NTK object at 0x7f85e8137b20>>)"
      ]
     },
     "execution_count": 59,
     "metadata": {},
     "output_type": "execute_result"
    }
   ],
   "source": [
    "best_model_flip_km.fit(X_train_flip, Y_train_flip.squeeze())"
   ]
  },
  {
   "cell_type": "code",
   "execution_count": 60,
   "metadata": {},
   "outputs": [
    {
     "data": {
      "text/plain": [
       "(0.7878399179066188, 0.7394871794871795)"
      ]
     },
     "execution_count": 60,
     "metadata": {},
     "output_type": "execute_result"
    }
   ],
   "source": [
    "preds_train, preds_val = best_model_flip_km.predict(X_train_flip), best_model_flip_km.predict(X_val_flip)\n",
    "score_train, score_val = accuracy_score(Y_train_flip.squeeze(), preds_train), accuracy_score(Y_val_flip.squeeze(), preds_val)\n",
    "score_train, score_val"
   ]
  },
  {
   "cell_type": "code",
   "execution_count": 61,
   "metadata": {},
   "outputs": [],
   "source": [
    "scores_flip_km = np.array([\n",
    "    accuracy_score(\n",
    "        best_model_flip_km.predict(X_test_flip[i]),\n",
    "        Y_test_flip[i].squeeze()\n",
    "    ) for i in range(128)\n",
    "])"
   ]
  },
  {
   "attachments": {},
   "cell_type": "markdown",
   "metadata": {},
   "source": [
    "### Orthant performance plot"
   ]
  },
  {
   "cell_type": "code",
   "execution_count": 62,
   "metadata": {},
   "outputs": [
    {
     "data": {
      "text/plain": [
       "Text(0.5, 0.98, 'Score vs no. of points for each orthant, SVM')"
      ]
     },
     "execution_count": 62,
     "metadata": {},
     "output_type": "execute_result"
    },
    {
     "data": {
      "image/png": "[encoded data removed]",
      "text/plain": [
       "<Figure size 1300x600 with 2 Axes>"
      ]
     },
     "metadata": {},
     "output_type": "display_data"
    }
   ],
   "source": [
    "plt.figure(figsize=(13, 6))\n",
    "\n",
    "plt.subplot(121)\n",
    "plt.scatter(orthant_counts, scores_km)\n",
    "plt.xlabel('Number of points')\n",
    "plt.ylabel('Binary accuracy')\n",
    "plt.title('No class filps')\n",
    "\n",
    "plt.subplot(122)\n",
    "plt.scatter(orthant_counts, scores_flip_km)\n",
    "plt.xlabel('Number of points')\n",
    "plt.ylabel('Binary accuracy')\n",
    "plt.title('Random class filps')\n",
    "\n",
    "plt.suptitle('Score vs no. of points for each orthant, SVM')"
   ]
  },
  {
   "cell_type": "code",
   "execution_count": 63,
   "metadata": {},
   "outputs": [
    {
     "data": {
      "text/plain": [
       "(-0.030811604277895026, 0.012572953018726768)"
      ]
     },
     "execution_count": 63,
     "metadata": {},
     "output_type": "execute_result"
    }
   ],
   "source": [
    "from scipy.stats import pearsonr\n",
    "\n",
    "pearsonr(orthant_counts, scores_km).statistic, pearsonr(orthant_counts, scores_flip_km).statistic"
   ]
  },
  {
   "cell_type": "code",
   "execution_count": 64,
   "metadata": {},
   "outputs": [
    {
     "data": {
      "text/plain": [
       "(0.9219970703125, 0.72784423828125)"
      ]
     },
     "execution_count": 64,
     "metadata": {},
     "output_type": "execute_result"
    }
   ],
   "source": [
    "scores_km.mean(), scores_flip_km.mean()"
   ]
  },
  {
   "cell_type": "code",
   "execution_count": 65,
   "metadata": {},
   "outputs": [
    {
     "name": "stdout",
     "output_type": "stream",
     "text": [
      "Performance in empty orthants:  0.9208984375 0.595703125\n",
      "Performance in rare orthants:  0.9244791666666666 0.7649739583333334\n",
      "Performance in typical orthants:  0.9214680989583334 0.7295735677083334\n"
     ]
    }
   ],
   "source": [
    "print('Performance in empty orthants: ', scores_km[ZERO_ORTHANT_INDICES].mean(), scores_flip_km[ZERO_ORTHANT_INDICES].mean())\n",
    "print('Performance in rare orthants: ', scores_km[LOW_ORTHANT_INDICES].mean(), scores_flip_km[LOW_ORTHANT_INDICES].mean())\n",
    "print('Performance in typical orthants: ', scores_km[HIGH_ORTHANT_INDICES].mean(), scores_flip_km[HIGH_ORTHANT_INDICES].mean())"
   ]
  }
 ],
 "metadata": {
  "kernelspec": {
   "display_name": "Python 3",
   "language": "python",
   "name": "python3"
  },
  "language_info": {
   "codemirror_mode": {
    "name": "ipython",
    "version": 3
   },
   "file_extension": ".py",
   "mimetype": "text/x-python",
   "name": "python",
   "nbconvert_exporter": "python",
   "pygments_lexer": "ipython3",
   "version": "3.10.6"
  },
  "orig_nbformat": 4,
  "vscode": {
   "interpreter": {
    "hash": "916dbcbb3f70747c44a77c7bcd40155683ae19c65e1c03b4aa3499c5328201f1"
   }
  }
 },
 "nbformat": 4,
 "nbformat_minor": 2
}
