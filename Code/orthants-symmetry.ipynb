{
 "cells": [
  {
   "attachments": {},
   "cell_type": "markdown",
   "metadata": {},
   "source": [
    "## Goal"
   ]
  },
  {
   "attachments": {},
   "cell_type": "markdown",
   "metadata": {},
   "source": [
    "To produce datapoints in 7d space by building 7-spheres in all orthants (2 concentric spheres of radii, say, 1 and 2 in all orthants,\n",
    "centered at say, a distance of 4 from all axes) in a non-uniform fashion, i.e., some orthants would have fewer points and some more points\n",
    "(say, 25% of the orthants have fewer points, perhaps ~25 points in most orthants and ~4 points in the rarer orthants).\n",
    "\n",
    "We wish to determine the performance of a neural network for different orthants - does it perform equally well or similar in all orthants,\n",
    "determining that there is symmetry present in the data? Or does it fail to do so, doing well only in the orthants with more data? We use a\n",
    "validation set of say, 4 points per orthant to quantify each orthant's performance."
   ]
  },
  {
   "attachments": {},
   "cell_type": "markdown",
   "metadata": {},
   "source": [
    "## Data"
   ]
  },
  {
   "attachments": {},
   "cell_type": "markdown",
   "metadata": {},
   "source": [
    "### Defining constants"
   ]
  },
  {
   "cell_type": "code",
   "execution_count": 10,
   "metadata": {},
   "outputs": [],
   "source": [
    "import torch\n",
    "import numpy as np\n",
    "import matplotlib.pyplot as plt\n",
    "from sklearn.model_selection import train_test_split"
   ]
  },
  {
   "cell_type": "code",
   "execution_count": 6,
   "metadata": {},
   "outputs": [
    {
     "data": {
      "text/plain": [
       "torch.Size([128, 7])"
      ]
     },
     "execution_count": 6,
     "metadata": {},
     "output_type": "execute_result"
    }
   ],
   "source": [
    "SIGNS = [-1., 1.] \n",
    "\n",
    "ORTHANTS = torch.stack(\n",
    "    [torch.tensor([s1, s2, s3, s4, s5, s6, s7])\n",
    "    for s1 in SIGNS\n",
    "    for s2 in SIGNS\n",
    "    for s3 in SIGNS\n",
    "    for s4 in SIGNS\n",
    "    for s5 in SIGNS\n",
    "    for s6 in SIGNS\n",
    "    for s7 in SIGNS])   # Representing each orthant as the sign of each of its 7 coordinates/wrt each of its 7 axes\n",
    "ORTHANTS.shape"
   ]
  },
  {
   "cell_type": "code",
   "execution_count": 64,
   "metadata": {},
   "outputs": [],
   "source": [
    "LOW_COUNT = 4   # Average no. of points in a \"rare\" orthant\n",
    "HIGH_COUNT = 25 # Average no. of points in a \"typical\" orthant\n",
    "LOW_SPREAD = 2  # Allowed unidirectional deviation for no. of points in a \"rare\" orthant (i.e., 2 to 6 points)\n",
    "HIGH_SPREAD = 8 # Allowed unidirectional deviation for no. of points in a \"typical\" orthant (i.e., 17 to 33 points)\n",
    "VAL_COUNT = 4   # Validation data points per orthant\n",
    "TEST_COUNT = 10 # Test data points per orthant, for final pattern\n",
    "LOW_FRAC = 0.25 # Number of \"rare\" orthants"
   ]
  },
  {
   "cell_type": "code",
   "execution_count": 12,
   "metadata": {},
   "outputs": [
    {
     "data": {
      "text/plain": [
       "(torch.Size([96, 7]), torch.Size([32, 7]))"
      ]
     },
     "execution_count": 12,
     "metadata": {},
     "output_type": "execute_result"
    }
   ],
   "source": [
    "HIGH_ORTHANTS, LOW_ORTHANTS = train_test_split(ORTHANTS, test_size=LOW_FRAC)\n",
    "# Randomly choosing the \"rare\" orthants\n",
    "HIGH_ORTHANTS.shape, LOW_ORTHANTS.shape"
   ]
  },
  {
   "cell_type": "code",
   "execution_count": 14,
   "metadata": {},
   "outputs": [
    {
     "data": {
      "text/plain": [
       "tensor([4., 4., 4., 4., 4., 4., 4.])"
      ]
     },
     "execution_count": 14,
     "metadata": {},
     "output_type": "execute_result"
    }
   ],
   "source": [
    "CENTRE = 4 * torch.ones(7)\n",
    "# The centre of the 7-spheres, without orthant-specificity, which can be included using ORTHANTS\n",
    "CENTRE"
   ]
  },
  {
   "cell_type": "code",
   "execution_count": 15,
   "metadata": {},
   "outputs": [],
   "source": [
    "LOW_RADIUS = 1. # Radius of the inner sphere (say, label 0) in each orthant\n",
    "HIGH_RADIUS = 2.    # Radius of the outer sphere (say, label 1) in each orthant"
   ]
  },
  {
   "attachments": {},
   "cell_type": "markdown",
   "metadata": {},
   "source": [
    "### Data generation"
   ]
  },
  {
   "attachments": {},
   "cell_type": "markdown",
   "metadata": {},
   "source": [
    "Now, we describe a 7-sphere using the standard notation. <br>\n",
    "Say, it is centered at $C = (C_1, C_2, ..., C_7)$ and has radius $r$. Each point can be described with the help of 6 angles, <br>\n",
    "$\\phi_1$, $\\phi_2$, $\\phi_3$, $\\phi_4$, $\\phi_5$, and $\\phi_6$, where $\\phi_6 \\in [0, 2\\pi)$ and $\\phi_1, ..., \\phi_5 \\in [0, \\pi]$ <br>\n",
    "Any point $x = (x_1, x_2, ..., x_7)$ on the sphere can be described as follows: <br>\n",
    "$x_1 = C_1 + r\\cos(\\phi_1)$ <br>\n",
    "$x_2 = C_2 + r\\sin(\\phi_1)\\cos(\\phi_2)$ <br>\n",
    "$x_3 = C_3 + r\\sin(\\phi_1)\\sin(\\phi_2)\\cos(\\phi_3)$ <br>\n",
    "$x_4 = C_4 + r\\sin(\\phi_1)\\sin(\\phi_2)\\sin(\\phi_3)\\cos(\\phi_4)$ <br>\n",
    "$x_5 = C_5 + r\\sin(\\phi_1)\\sin(\\phi_2)\\sin(\\phi_3)\\sin(\\phi_4)\\cos(\\phi_5)$ <br>\n",
    "$x_6 = C_6 + r\\sin(\\phi_1)\\sin(\\phi_2)\\sin(\\phi_3)\\sin(\\phi_4)\\sin(\\phi_5)\\cos(\\phi_6)$ <br>\n",
    "$x_7 = C_7 + r\\sin(\\phi_1)\\sin(\\phi_2)\\sin(\\phi_3)\\sin(\\phi_4)\\sin(\\phi_5)\\sin(\\phi_6)$\n",
    "<br>\n",
    "\n",
    "Hence, each datapoint will be sampled by randomly generating the 6 angles from appropriate uniform distributions and \n",
    "performing the mentioned transformation"
   ]
  },
  {
   "cell_type": "code",
   "execution_count": 16,
   "metadata": {},
   "outputs": [],
   "source": [
    "def generate_point(\n",
    "    radius: float,\n",
    "    orthant: torch.Tensor\n",
    ") -> torch.Tensor:\n",
    "    \"\"\"\n",
    "    Generates a point on a 7-sphere of centre orthant * CENTRE (global) with radius radius, where\n",
    "    orthant denotes the signs wrt all 7 axes\n",
    "\n",
    "    Args:\n",
    "        radius (float): radius of the 7-sphere\n",
    "        orthant (torch.Tensor): signs wrt the 7 axes for the resulting point, of shape (7,)\n",
    "    \n",
    "    Returns:\n",
    "        x (torch.Tensor): a point on the specified sphere, of shape (7,)\n",
    "    \n",
    "    Example usage:\n",
    "    >>> generate_point(2, tensor([1., 1., 1., 1., 1., 1., 1.]))\n",
    "    tensor([2., 4., 4., 4., 4., 4., 4.])\n",
    "    \"\"\"\n",
    "    phi = torch.rand((6,)) * torch.pi\n",
    "    phi[5] *= 2\n",
    "    diff_unit = torch.tensor([\n",
    "        torch.cos(phi[0]),\n",
    "        torch.sin(phi[0])*torch.cos(phi[1]),\n",
    "        torch.sin(phi[0])*torch.sin(phi[1])*torch.cos(phi[2]),\n",
    "        torch.sin(phi[0])*torch.sin(phi[1])*torch.sin(phi[2])*torch.cos(phi[3]),\n",
    "        torch.sin(phi[0])*torch.sin(phi[1])*torch.sin(phi[2])*torch.sin(phi[3])*torch.cos(phi[4]),\n",
    "        torch.sin(phi[0])*torch.sin(phi[1])*torch.sin(phi[2])*torch.sin(phi[3])*torch.sin(phi[4])*torch.cos(phi[5]),\n",
    "        torch.sin(phi[0])*torch.sin(phi[1])*torch.sin(phi[2])*torch.sin(phi[3])*torch.sin(phi[4])*torch.sin(phi[5])\n",
    "    ])\n",
    "    return torch.mul(CENTRE + radius * diff_unit, orthant)\n",
    "    "
   ]
  },
  {
   "cell_type": "code",
   "execution_count": 30,
   "metadata": {},
   "outputs": [
    {
     "data": {
      "text/plain": [
       "(tensor([-5.0321, -2.6003, -4.9444, -3.9641, -3.8374, -4.2178, -4.0930]),\n",
       " tensor(2.0000))"
      ]
     },
     "execution_count": 30,
     "metadata": {},
     "output_type": "execute_result"
    }
   ],
   "source": [
    "# Testing correctness\n",
    "\n",
    "random_point = generate_point(2, ORTHANTS[0])\n",
    "random_point, ((random_point - ORTHANTS[0]*CENTRE)**2).sum().sqrt()"
   ]
  },
  {
   "attachments": {},
   "cell_type": "markdown",
   "metadata": {},
   "source": [
    "#### Train data"
   ]
  },
  {
   "cell_type": "code",
   "execution_count": 37,
   "metadata": {},
   "outputs": [
    {
     "data": {
      "text/plain": [
       "(torch.Size([108, 7]),\n",
       " torch.Size([116, 7]),\n",
       " torch.Size([2297, 7]),\n",
       " torch.Size([2377, 7]))"
      ]
     },
     "execution_count": 37,
     "metadata": {},
     "output_type": "execute_result"
    }
   ],
   "source": [
    "X_train_low_0 = torch.cat([\n",
    "    torch.cat([\n",
    "        generate_point(1, orthant).reshape(1, -1) for i in range(int((2*torch.rand(1) - 1) * LOW_SPREAD + LOW_COUNT))\n",
    "    ]) for orthant in LOW_ORTHANTS\n",
    "])\n",
    "X_train_low_1 = torch.cat([\n",
    "    torch.cat([\n",
    "        generate_point(2, orthant).reshape(1, -1) for i in range(int((2*torch.rand(1) - 1) * LOW_SPREAD + LOW_COUNT))\n",
    "    ]) for orthant in LOW_ORTHANTS\n",
    "])\n",
    "X_train_high_0 = torch.cat([\n",
    "    torch.cat([\n",
    "        generate_point(1, orthant).reshape(1, -1) for i in range(int((2*torch.rand(1) - 1) * HIGH_SPREAD + HIGH_COUNT))\n",
    "    ]) for orthant in HIGH_ORTHANTS\n",
    "])\n",
    "X_train_high_1 = torch.cat([\n",
    "    torch.cat([\n",
    "        generate_point(2, orthant).reshape(1, -1) for i in range(int((2*torch.rand(1) - 1) * HIGH_SPREAD + HIGH_COUNT))\n",
    "    ]) for orthant in HIGH_ORTHANTS\n",
    "])\n",
    "X_train_low_0.shape, X_train_low_1.shape, X_train_high_0.shape, X_train_high_1.shape"
   ]
  },
  {
   "cell_type": "code",
   "execution_count": 39,
   "metadata": {},
   "outputs": [
    {
     "data": {
      "text/plain": [
       "(torch.Size([108, 1]),\n",
       " torch.Size([116, 1]),\n",
       " torch.Size([2297, 1]),\n",
       " torch.Size([2377, 1]))"
      ]
     },
     "execution_count": 39,
     "metadata": {},
     "output_type": "execute_result"
    }
   ],
   "source": [
    "Y_train_low_0 = torch.zeros(len(X_train_low_0), 1)\n",
    "Y_train_low_1 = torch.ones(len(X_train_low_1), 1)\n",
    "Y_train_high_0 = torch.zeros(len(X_train_high_0), 1)\n",
    "Y_train_high_1 = torch.ones(len(X_train_high_1), 1)\n",
    "Y_train_low_0.shape, Y_train_low_1.shape, Y_train_high_0.shape, Y_train_high_1.shape"
   ]
  },
  {
   "cell_type": "code",
   "execution_count": 40,
   "metadata": {},
   "outputs": [
    {
     "data": {
      "text/plain": [
       "(torch.Size([4898, 7]), torch.Size([4898, 1]))"
      ]
     },
     "execution_count": 40,
     "metadata": {},
     "output_type": "execute_result"
    }
   ],
   "source": [
    "X_train = torch.cat([\n",
    "    X_train_low_0,\n",
    "    X_train_low_1,\n",
    "    X_train_high_0,\n",
    "    X_train_high_1\n",
    "])\n",
    "Y_train = torch.cat([\n",
    "    Y_train_low_0,\n",
    "    Y_train_low_1,\n",
    "    Y_train_high_0,\n",
    "    Y_train_high_1\n",
    "])\n",
    "X_train.shape, Y_train.shape"
   ]
  },
  {
   "cell_type": "code",
   "execution_count": 53,
   "metadata": {},
   "outputs": [],
   "source": [
    "def find_orthant(point: torch.Tensor) -> int:\n",
    "    \"\"\"\n",
    "    Given a point, determines the orthant it lies in as an index of ORTHANTS\n",
    "\n",
    "    Args:\n",
    "        point (torch.Tensor): A random point in 7d space, a tensor of shape (7,)\n",
    "    \n",
    "    Returns:\n",
    "        orthant_no (int): The index of ORTHANTS corresponding to the orthant point lies in\n",
    "            i.e., orthant_no satisfies ORTHANTS[orthant_no] == torch.sign(point)\n",
    "    \n",
    "    Example usage:\n",
    "    >>> find_orthant(tensor([1., 3., -2., -4., 3., 2.2, -9.]))\n",
    "    102\n",
    "    \"\"\"\n",
    "    orthant_no = 0\n",
    "    for dim in point:\n",
    "        orthant_no *= 2\n",
    "        if dim > 0:\n",
    "            orthant_no += 1\n",
    "    return int(orthant_no)"
   ]
  },
  {
   "cell_type": "code",
   "execution_count": 59,
   "metadata": {},
   "outputs": [
    {
     "data": {
      "text/plain": [
       "[<matplotlib.lines.Line2D at 0x7fe175ea4310>]"
      ]
     },
     "execution_count": 59,
     "metadata": {},
     "output_type": "execute_result"
    },
    {
     "data": {
      "image/png": "[encoded data removed]",
      "text/plain": [
       "<Figure size 640x480 with 1 Axes>"
      ]
     },
     "metadata": {},
     "output_type": "display_data"
    }
   ],
   "source": [
    "orthant_counts = torch.zeros(128)\n",
    "for x in X_train:\n",
    "    orthant_counts[find_orthant(x)] += 1\n",
    "plt.plot(range(128), torch.sort(orthant_counts).values)"
   ]
  },
  {
   "attachments": {},
   "cell_type": "markdown",
   "metadata": {},
   "source": [
    "#### Validation data"
   ]
  },
  {
   "cell_type": "code",
   "execution_count": 67,
   "metadata": {},
   "outputs": [
    {
     "data": {
      "text/plain": [
       "(torch.Size([512, 7]),\n",
       " torch.Size([512, 7]),\n",
       " torch.Size([512, 1]),\n",
       " torch.Size([512, 1]))"
      ]
     },
     "execution_count": 67,
     "metadata": {},
     "output_type": "execute_result"
    }
   ],
   "source": [
    "X_val_0 = torch.cat([\n",
    "    torch.cat([\n",
    "        generate_point(1, orthant).reshape(1, -1) for i in range(VAL_COUNT)\n",
    "    ]) for orthant in ORTHANTS\n",
    "])\n",
    "X_val_1 = torch.cat([\n",
    "    torch.cat([\n",
    "        generate_point(2, orthant).reshape(1, -1) for i in range(VAL_COUNT)\n",
    "    ]) for orthant in ORTHANTS\n",
    "])\n",
    "Y_val_0 = torch.zeros(len(X_val_0), 1)\n",
    "Y_val_1 = torch.ones(len(X_val_1), 1)\n",
    "X_val_0.shape, X_val_1.shape, Y_val_0.shape, Y_val_1.shape"
   ]
  },
  {
   "cell_type": "code",
   "execution_count": 68,
   "metadata": {},
   "outputs": [
    {
     "data": {
      "text/plain": [
       "(torch.Size([1024, 7]), torch.Size([1024, 1]))"
      ]
     },
     "execution_count": 68,
     "metadata": {},
     "output_type": "execute_result"
    }
   ],
   "source": [
    "X_val = torch.cat([X_val_0, X_val_1])\n",
    "Y_val = torch.cat([Y_val_0, Y_val_1])\n",
    "X_val.shape, Y_val.shape"
   ]
  },
  {
   "attachments": {},
   "cell_type": "markdown",
   "metadata": {},
   "source": [
    "#### Test data"
   ]
  },
  {
   "cell_type": "code",
   "execution_count": 69,
   "metadata": {},
   "outputs": [
    {
     "data": {
      "text/plain": [
       "(torch.Size([1280, 7]),\n",
       " torch.Size([1280, 7]),\n",
       " torch.Size([1280, 1]),\n",
       " torch.Size([1280, 1]))"
      ]
     },
     "execution_count": 69,
     "metadata": {},
     "output_type": "execute_result"
    }
   ],
   "source": [
    "# Modify to split into data per orthant \n",
    "\n",
    "X_test_0 = torch.cat([\n",
    "    torch.cat([\n",
    "        generate_point(1, orthant).reshape(1, -1) for i in range(TEST_COUNT)\n",
    "    ]) for orthant in ORTHANTS\n",
    "])\n",
    "X_test_1 = torch.cat([\n",
    "    torch.cat([\n",
    "        generate_point(2, orthant).reshape(1, -1) for i in range(TEST_COUNT)\n",
    "    ]) for orthant in ORTHANTS\n",
    "])\n",
    "Y_test_0 = torch.zeros(len(X_test_0), 1)\n",
    "Y_test_1 = torch.ones(len(X_test_1), 1)\n",
    "X_test_0.shape, X_test_1.shape, Y_test_0.shape, Y_test_1.shape"
   ]
  },
  {
   "cell_type": "code",
   "execution_count": 73,
   "metadata": {},
   "outputs": [
    {
     "data": {
      "text/plain": [
       "(torch.Size([128, 20, 7]), torch.Size([128, 20, 1]))"
      ]
     },
     "execution_count": 73,
     "metadata": {},
     "output_type": "execute_result"
    }
   ],
   "source": [
    "X_test = torch.cat([\n",
    "    torch.cat([\n",
    "        torch.cat([\n",
    "            generate_point(1, orthant).reshape(1, -1) for i in range(TEST_COUNT)\n",
    "        ]),\n",
    "        torch.cat([\n",
    "            generate_point(2, orthant).reshape(1, -1) for i in range(TEST_COUNT)\n",
    "        ])\n",
    "    ]).reshape(1, 2*TEST_COUNT, 7) for orthant in ORTHANTS\n",
    "])\n",
    "Y_test = torch.cat([\n",
    "    torch.cat([\n",
    "        torch.zeros(TEST_COUNT, 1),\n",
    "        torch.ones(TEST_COUNT, 1)\n",
    "    ]).reshape(1, 2*TEST_COUNT, 1) for orthant in ORTHANTS\n",
    "])\n",
    "X_test.shape, Y_test.shape"
   ]
  },
  {
   "attachments": {},
   "cell_type": "markdown",
   "metadata": {},
   "source": [
    "## Model"
   ]
  },
  {
   "cell_type": "code",
   "execution_count": 75,
   "metadata": {},
   "outputs": [],
   "source": [
    "device = 'cpu'"
   ]
  },
  {
   "cell_type": "code",
   "execution_count": 76,
   "metadata": {},
   "outputs": [],
   "source": [
    "from torch import nn\n",
    "\n",
    "class SimpleNN(nn.Module):\n",
    "    def __init__(self) -> None:\n",
    "        super().__init__()\n",
    "        self.layers = nn.Sequential(\n",
    "            nn.Linear(in_features=7, out_features=32),\n",
    "            nn.ReLU(),\n",
    "            nn.Linear(in_features=32, out_features=32),\n",
    "            nn.ReLU(),\n",
    "            nn.Linear(in_features=32, out_features=32),\n",
    "            nn.ReLU(),\n",
    "            nn.Linear(in_features=32, out_features=1),\n",
    "            nn.Sigmoid()\n",
    "        )\n",
    "    \n",
    "    def forward(self, x):\n",
    "        return self.layers(x)\n"
   ]
  },
  {
   "cell_type": "code",
   "execution_count": 77,
   "metadata": {},
   "outputs": [],
   "source": [
    "from scripts.utils import make_dataloader\n",
    "\n",
    "train_dataloader, val_dataloader = make_dataloader(X_train, Y_train, batch_size=32, shuffle=True), make_dataloader(X_val, Y_val, batch_size=32, shuffle=True)"
   ]
  },
  {
   "cell_type": "code",
   "execution_count": 78,
   "metadata": {},
   "outputs": [],
   "source": [
    "model = SimpleNN().to(device)"
   ]
  },
  {
   "cell_type": "code",
   "execution_count": 79,
   "metadata": {},
   "outputs": [],
   "source": [
    "from scripts.metrics import BinaryAccuracy\n",
    "\n",
    "loss_fn = torch.nn.BCELoss()\n",
    "optimizer = torch.optim.Adam(params=model.parameters())\n",
    "metric = BinaryAccuracy()"
   ]
  },
  {
   "cell_type": "code",
   "execution_count": 80,
   "metadata": {},
   "outputs": [
    {
     "name": "stdout",
     "output_type": "stream",
     "text": [
      "Training model for 100 epochs. Early stopping not enabled.\n",
      "Epoch: 1 => Train loss: 0.694026, Train score: 0.502029, Val loss: 0.693231, Val score: 0.503906\n",
      "Epoch: 2 => Train loss: 0.692005, Train score: 0.524959, Val loss: 0.693258, Val score: 0.501953\n",
      "Epoch: 3 => Train loss: 0.691476, Train score: 0.529627, Val loss: 0.692815, Val score: 0.531250\n",
      "Epoch: 4 => Train loss: 0.689647, Train score: 0.539570, Val loss: 0.694257, Val score: 0.503906\n",
      "Epoch: 5 => Train loss: 0.688970, Train score: 0.533279, Val loss: 0.693494, Val score: 0.514648\n",
      "Epoch: 6 => Train loss: 0.688169, Train score: 0.542411, Val loss: 0.692934, Val score: 0.494141\n",
      "Epoch: 7 => Train loss: 0.686990, Train score: 0.545657, Val loss: 0.693583, Val score: 0.506836\n",
      "Epoch: 8 => Train loss: 0.685243, Train score: 0.554789, Val loss: 0.694396, Val score: 0.502930\n",
      "Epoch: 9 => Train loss: 0.684640, Train score: 0.556209, Val loss: 0.693830, Val score: 0.502930\n",
      "Epoch: 10 => Train loss: 0.682718, Train score: 0.553166, Val loss: 0.693419, Val score: 0.522461\n",
      "Epoch: 11 => Train loss: 0.682588, Train score: 0.559253, Val loss: 0.694555, Val score: 0.514648\n",
      "Epoch: 12 => Train loss: 0.679072, Train score: 0.568588, Val loss: 0.692046, Val score: 0.542969\n",
      "Epoch: 13 => Train loss: 0.678132, Train score: 0.578531, Val loss: 0.688635, Val score: 0.543945\n",
      "Epoch: 14 => Train loss: 0.675941, Train score: 0.566558, Val loss: 0.688375, Val score: 0.541016\n",
      "Epoch: 15 => Train loss: 0.670765, Train score: 0.594156, Val loss: 0.687430, Val score: 0.542969\n",
      "Epoch: 16 => Train loss: 0.669335, Train score: 0.593344, Val loss: 0.686491, Val score: 0.546875\n",
      "Epoch: 17 => Train loss: 0.662846, Train score: 0.607549, Val loss: 0.679402, Val score: 0.555664\n",
      "Epoch: 18 => Train loss: 0.659298, Train score: 0.600244, Val loss: 0.677785, Val score: 0.560547\n",
      "Epoch: 19 => Train loss: 0.653106, Train score: 0.620739, Val loss: 0.667420, Val score: 0.564453\n",
      "Epoch: 20 => Train loss: 0.642825, Train score: 0.624188, Val loss: 0.663524, Val score: 0.571289\n",
      "Epoch: 21 => Train loss: 0.629813, Train score: 0.651786, Val loss: 0.658243, Val score: 0.608398\n",
      "Epoch: 22 => Train loss: 0.619700, Train score: 0.651786, Val loss: 0.640614, Val score: 0.623047\n",
      "Epoch: 23 => Train loss: 0.606015, Train score: 0.685065, Val loss: 0.619538, Val score: 0.648438\n",
      "Epoch: 24 => Train loss: 0.586505, Train score: 0.693588, Val loss: 0.610344, Val score: 0.672852\n",
      "Epoch: 25 => Train loss: 0.569193, Train score: 0.697849, Val loss: 0.590946, Val score: 0.659180\n",
      "Epoch: 26 => Train loss: 0.559283, Train score: 0.709213, Val loss: 0.583345, Val score: 0.675781\n",
      "Epoch: 27 => Train loss: 0.539286, Train score: 0.730114, Val loss: 0.564934, Val score: 0.718750\n",
      "Epoch: 28 => Train loss: 0.527180, Train score: 0.741680, Val loss: 0.560702, Val score: 0.714844\n",
      "Epoch: 29 => Train loss: 0.510266, Train score: 0.758117, Val loss: 0.529076, Val score: 0.745117\n",
      "Epoch: 30 => Train loss: 0.509257, Train score: 0.755682, Val loss: 0.536177, Val score: 0.723633\n",
      "Epoch: 31 => Train loss: 0.509180, Train score: 0.756291, Val loss: 0.519542, Val score: 0.743164\n",
      "Epoch: 32 => Train loss: 0.480919, Train score: 0.775162, Val loss: 0.510605, Val score: 0.738281\n",
      "Epoch: 33 => Train loss: 0.472860, Train score: 0.772119, Val loss: 0.514933, Val score: 0.738281\n",
      "Epoch: 34 => Train loss: 0.465189, Train score: 0.783888, Val loss: 0.512421, Val score: 0.744141\n",
      "Epoch: 35 => Train loss: 0.459646, Train score: 0.792411, Val loss: 0.521657, Val score: 0.730469\n",
      "Epoch: 36 => Train loss: 0.453853, Train score: 0.784497, Val loss: 0.511270, Val score: 0.735352\n",
      "Epoch: 37 => Train loss: 0.444445, Train score: 0.797687, Val loss: 0.484569, Val score: 0.773438\n",
      "Epoch: 38 => Train loss: 0.440600, Train score: 0.795252, Val loss: 0.491688, Val score: 0.768555\n",
      "Epoch: 39 => Train loss: 0.433554, Train score: 0.804383, Val loss: 0.481420, Val score: 0.778320\n",
      "Epoch: 40 => Train loss: 0.419058, Train score: 0.815341, Val loss: 0.484462, Val score: 0.781250\n",
      "Epoch: 41 => Train loss: 0.417295, Train score: 0.816153, Val loss: 0.473702, Val score: 0.786133\n",
      "Epoch: 42 => Train loss: 0.410922, Train score: 0.823458, Val loss: 0.470779, Val score: 0.791992\n",
      "Epoch: 43 => Train loss: 0.403772, Train score: 0.829343, Val loss: 0.483339, Val score: 0.771484\n",
      "Epoch: 44 => Train loss: 0.404774, Train score: 0.820820, Val loss: 0.466972, Val score: 0.781250\n",
      "Epoch: 45 => Train loss: 0.394428, Train score: 0.831372, Val loss: 0.466918, Val score: 0.790039\n",
      "Epoch: 46 => Train loss: 0.386850, Train score: 0.836851, Val loss: 0.452108, Val score: 0.792969\n",
      "Epoch: 47 => Train loss: 0.381630, Train score: 0.838474, Val loss: 0.454907, Val score: 0.782227\n",
      "Epoch: 48 => Train loss: 0.381808, Train score: 0.840503, Val loss: 0.452472, Val score: 0.789062\n",
      "Epoch: 49 => Train loss: 0.376185, Train score: 0.840097, Val loss: 0.461979, Val score: 0.784180\n",
      "Epoch: 50 => Train loss: 0.370487, Train score: 0.842532, Val loss: 0.448255, Val score: 0.794922\n",
      "Epoch: 51 => Train loss: 0.378478, Train score: 0.838677, Val loss: 0.447955, Val score: 0.800781\n",
      "Epoch: 52 => Train loss: 0.361537, Train score: 0.849026, Val loss: 0.440753, Val score: 0.791016\n",
      "Epoch: 53 => Train loss: 0.356195, Train score: 0.848214, Val loss: 0.437641, Val score: 0.803711\n",
      "Epoch: 54 => Train loss: 0.352720, Train score: 0.858563, Val loss: 0.433431, Val score: 0.805664\n",
      "Epoch: 55 => Train loss: 0.347587, Train score: 0.862216, Val loss: 0.434068, Val score: 0.810547\n",
      "Epoch: 56 => Train loss: 0.344154, Train score: 0.855114, Val loss: 0.434192, Val score: 0.816406\n",
      "Epoch: 57 => Train loss: 0.337638, Train score: 0.859984, Val loss: 0.445629, Val score: 0.806641\n",
      "Epoch: 58 => Train loss: 0.335629, Train score: 0.858766, Val loss: 0.424659, Val score: 0.819336\n",
      "Epoch: 59 => Train loss: 0.328547, Train score: 0.866071, Val loss: 0.452272, Val score: 0.795898\n",
      "Epoch: 60 => Train loss: 0.330195, Train score: 0.868912, Val loss: 0.434453, Val score: 0.811523\n",
      "Epoch: 61 => Train loss: 0.341763, Train score: 0.860795, Val loss: 0.435756, Val score: 0.812500\n",
      "Epoch: 62 => Train loss: 0.318684, Train score: 0.873580, Val loss: 0.411161, Val score: 0.834961\n",
      "Epoch: 63 => Train loss: 0.327895, Train score: 0.864448, Val loss: 0.424048, Val score: 0.822266\n",
      "Epoch: 64 => Train loss: 0.313792, Train score: 0.875812, Val loss: 0.420843, Val score: 0.825195\n",
      "Epoch: 65 => Train loss: 0.309355, Train score: 0.879261, Val loss: 0.417093, Val score: 0.825195\n",
      "Epoch: 66 => Train loss: 0.321162, Train score: 0.871550, Val loss: 0.413481, Val score: 0.825195\n",
      "Epoch: 67 => Train loss: 0.310365, Train score: 0.871956, Val loss: 0.400685, Val score: 0.830078\n",
      "Epoch: 68 => Train loss: 0.302784, Train score: 0.882102, Val loss: 0.403566, Val score: 0.836914\n",
      "Epoch: 69 => Train loss: 0.303477, Train score: 0.877841, Val loss: 0.411075, Val score: 0.836914\n",
      "Epoch: 70 => Train loss: 0.291012, Train score: 0.885755, Val loss: 0.421232, Val score: 0.814453\n",
      "Epoch: 71 => Train loss: 0.289060, Train score: 0.888596, Val loss: 0.411193, Val score: 0.827148\n",
      "Epoch: 72 => Train loss: 0.290406, Train score: 0.885146, Val loss: 0.413354, Val score: 0.830078\n",
      "Epoch: 73 => Train loss: 0.290201, Train score: 0.885958, Val loss: 0.397678, Val score: 0.830078\n",
      "Epoch: 74 => Train loss: 0.285411, Train score: 0.890828, Val loss: 0.429859, Val score: 0.814453\n",
      "Epoch: 75 => Train loss: 0.283888, Train score: 0.889002, Val loss: 0.396274, Val score: 0.838867\n",
      "Epoch: 76 => Train loss: 0.277629, Train score: 0.891031, Val loss: 0.389311, Val score: 0.846680\n",
      "Epoch: 77 => Train loss: 0.274283, Train score: 0.892654, Val loss: 0.411128, Val score: 0.817383\n",
      "Epoch: 78 => Train loss: 0.279630, Train score: 0.889002, Val loss: 0.392130, Val score: 0.833984\n",
      "Epoch: 79 => Train loss: 0.270226, Train score: 0.892857, Val loss: 0.393668, Val score: 0.844727\n",
      "Epoch: 80 => Train loss: 0.264453, Train score: 0.894886, Val loss: 0.431805, Val score: 0.819336\n",
      "Epoch: 81 => Train loss: 0.270190, Train score: 0.891640, Val loss: 0.408678, Val score: 0.841797\n",
      "Epoch: 82 => Train loss: 0.271496, Train score: 0.894278, Val loss: 0.444210, Val score: 0.807617\n",
      "Epoch: 83 => Train loss: 0.293433, Train score: 0.882711, Val loss: 0.397981, Val score: 0.838867\n",
      "Epoch: 84 => Train loss: 0.257727, Train score: 0.901989, Val loss: 0.418828, Val score: 0.832031\n",
      "Epoch: 85 => Train loss: 0.259799, Train score: 0.898742, Val loss: 0.397077, Val score: 0.832031\n",
      "Epoch: 86 => Train loss: 0.258145, Train score: 0.898539, Val loss: 0.377090, Val score: 0.847656\n",
      "Epoch: 87 => Train loss: 0.246759, Train score: 0.905641, Val loss: 0.371257, Val score: 0.850586\n",
      "Epoch: 88 => Train loss: 0.245130, Train score: 0.905235, Val loss: 0.391320, Val score: 0.844727\n",
      "Epoch: 89 => Train loss: 0.242968, Train score: 0.906453, Val loss: 0.399987, Val score: 0.842773\n",
      "Epoch: 90 => Train loss: 0.243058, Train score: 0.906453, Val loss: 0.382233, Val score: 0.856445\n",
      "Epoch: 91 => Train loss: 0.250613, Train score: 0.904221, Val loss: 0.433842, Val score: 0.826172\n",
      "Epoch: 92 => Train loss: 0.260881, Train score: 0.897524, Val loss: 0.414728, Val score: 0.836914\n",
      "Epoch: 93 => Train loss: 0.233886, Train score: 0.911323, Val loss: 0.400519, Val score: 0.843750\n",
      "Epoch: 94 => Train loss: 0.232920, Train score: 0.907670, Val loss: 0.382986, Val score: 0.845703\n",
      "Epoch: 95 => Train loss: 0.232724, Train score: 0.910714, Val loss: 0.393406, Val score: 0.840820\n",
      "Epoch: 96 => Train loss: 0.240786, Train score: 0.907468, Val loss: 0.385961, Val score: 0.846680\n",
      "Epoch: 97 => Train loss: 0.234431, Train score: 0.907468, Val loss: 0.384769, Val score: 0.848633\n",
      "Epoch: 98 => Train loss: 0.231464, Train score: 0.911526, Val loss: 0.420195, Val score: 0.818359\n",
      "Epoch: 99 => Train loss: 0.227293, Train score: 0.912135, Val loss: 0.407236, Val score: 0.836914\n",
      "Epoch: 100 => Train loss: 0.239210, Train score: 0.906250, Val loss: 0.387758, Val score: 0.840820\n",
      "Training complete.\n"
     ]
    }
   ],
   "source": [
    "from scripts.train import train_model\n",
    "\n",
    "history = train_model(\n",
    "    model=model,\n",
    "    train_dataloader=train_dataloader,\n",
    "    val_dataloader=val_dataloader,\n",
    "    loss_fn=loss_fn,\n",
    "    optimizer=optimizer,\n",
    "    metric=metric,\n",
    "    epochs=100,\n",
    "    device=device\n",
    ")"
   ]
  },
  {
   "cell_type": "code",
   "execution_count": 81,
   "metadata": {},
   "outputs": [
    {
     "data": {
      "image/png": "[encoded data removed]",
      "text/plain": [
       "<Figure size 1200x600 with 2 Axes>"
      ]
     },
     "metadata": {},
     "output_type": "display_data"
    }
   ],
   "source": [
    "from scripts.utils import plot_train_history\n",
    "\n",
    "plot_train_history(history)"
   ]
  },
  {
   "cell_type": "code",
   "execution_count": 82,
   "metadata": {},
   "outputs": [],
   "source": [
    "from scripts.test import predict\n",
    "\n",
    "scores = torch.tensor([\n",
    "    metric(\n",
    "        predict(model, X_test[i], device),\n",
    "        Y_test[i]\n",
    "    ) for i in range(128)\n",
    "])"
   ]
  },
  {
   "attachments": {},
   "cell_type": "markdown",
   "metadata": {},
   "source": [
    "## Orthant performance plot"
   ]
  },
  {
   "cell_type": "code",
   "execution_count": 95,
   "metadata": {},
   "outputs": [
    {
     "data": {
      "text/plain": [
       "Text(0.5, 1.0, 'Score vs no. of points for each orthant')"
      ]
     },
     "execution_count": 95,
     "metadata": {},
     "output_type": "execute_result"
    },
    {
     "data": {
      "image/png": "[encoded data removed]",
      "text/plain": [
       "<Figure size 650x600 with 1 Axes>"
      ]
     },
     "metadata": {},
     "output_type": "display_data"
    }
   ],
   "source": [
    "plt.figure(figsize=(6.5, 6))\n",
    "plt.scatter(orthant_counts, scores)\n",
    "plt.xlabel('Number of points')\n",
    "plt.ylabel('Binary accuracy')\n",
    "plt.title('Score vs no. of points for each orthant')"
   ]
  },
  {
   "cell_type": "code",
   "execution_count": 86,
   "metadata": {},
   "outputs": [
    {
     "data": {
      "text/plain": [
       "0.5717911081525837"
      ]
     },
     "execution_count": 86,
     "metadata": {},
     "output_type": "execute_result"
    }
   ],
   "source": [
    "from scipy.stats import pearsonr\n",
    "\n",
    "pearsonr(orthant_counts, scores).statistic"
   ]
  },
  {
   "cell_type": "code",
   "execution_count": null,
   "metadata": {},
   "outputs": [],
   "source": []
  }
 ],
 "metadata": {
  "kernelspec": {
   "display_name": "Python 3",
   "language": "python",
   "name": "python3"
  },
  "language_info": {
   "codemirror_mode": {
    "name": "ipython",
    "version": 3
   },
   "file_extension": ".py",
   "mimetype": "text/x-python",
   "name": "python",
   "nbconvert_exporter": "python",
   "pygments_lexer": "ipython3",
   "version": "3.10.6"
  },
  "orig_nbformat": 4,
  "vscode": {
   "interpreter": {
    "hash": "916dbcbb3f70747c44a77c7bcd40155683ae19c65e1c03b4aa3499c5328201f1"
   }
  }
 },
 "nbformat": 4,
 "nbformat_minor": 2
}
