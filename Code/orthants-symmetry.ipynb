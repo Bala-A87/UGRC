{
 "cells": [
  {
   "attachments": {},
   "cell_type": "markdown",
   "metadata": {},
   "source": [
    "## Goal"
   ]
  },
  {
   "attachments": {},
   "cell_type": "markdown",
   "metadata": {},
   "source": [
    "To produce datapoints in 7d space by building 7-spheres in all orthants (2 concentric spheres of radii, say, 1 and 2 in all orthants,\n",
    "centered at say, a distance of 4 from all axes) in a non-uniform fashion, i.e., some orthants would have fewer points and some more points\n",
    "(say, 25% of the orthants have fewer points, perhaps ~25 points in most orthants and ~4 points in the rarer orthants).\n",
    "\n",
    "We wish to determine the performance of a neural network for different orthants - does it perform equally well or similar in all orthants,\n",
    "determining that there is symmetry present in the data? Or does it fail to do so, doing well only in the orthants with more data? We use a\n",
    "validation set of say, 4 points per orthant to quantify each orthant's performance."
   ]
  },
  {
   "attachments": {},
   "cell_type": "markdown",
   "metadata": {},
   "source": [
    "## Data"
   ]
  },
  {
   "attachments": {},
   "cell_type": "markdown",
   "metadata": {},
   "source": [
    "### Defining constants"
   ]
  },
  {
   "cell_type": "code",
   "execution_count": 2,
   "metadata": {},
   "outputs": [],
   "source": [
    "import torch\n",
    "import numpy as np\n",
    "import matplotlib.pyplot as plt\n",
    "from sklearn.model_selection import train_test_split"
   ]
  },
  {
   "cell_type": "code",
   "execution_count": 3,
   "metadata": {},
   "outputs": [
    {
     "data": {
      "text/plain": [
       "torch.Size([128, 7])"
      ]
     },
     "execution_count": 3,
     "metadata": {},
     "output_type": "execute_result"
    }
   ],
   "source": [
    "SIGNS = [-1., 1.] \n",
    "\n",
    "ORTHANTS = torch.stack(\n",
    "    [torch.tensor([s1, s2, s3, s4, s5, s6, s7])\n",
    "    for s1 in SIGNS\n",
    "    for s2 in SIGNS\n",
    "    for s3 in SIGNS\n",
    "    for s4 in SIGNS\n",
    "    for s5 in SIGNS\n",
    "    for s6 in SIGNS\n",
    "    for s7 in SIGNS])   # Representing each orthant as the sign of each of its 7 coordinates/wrt each of its 7 axes\n",
    "ORTHANTS.shape"
   ]
  },
  {
   "cell_type": "code",
   "execution_count": 4,
   "metadata": {},
   "outputs": [],
   "source": [
    "LOW_COUNT = 4   # Average no. of points in a \"rare\" orthant\n",
    "HIGH_COUNT = 25 # Average no. of points in a \"typical\" orthant\n",
    "LOW_SPREAD = 2  # Allowed unidirectional deviation for no. of points in a \"rare\" orthant (i.e., 2 to 6 points)\n",
    "HIGH_SPREAD = 8 # Allowed unidirectional deviation for no. of points in a \"typical\" orthant (i.e., 17 to 33 points)\n",
    "VAL_COUNT = 4   # Validation data points per orthant\n",
    "TEST_COUNT = 64 # Test data points per orthant, for final pattern\n",
    "LOW_FRAC = 0.25 # Number of \"rare\" orthants"
   ]
  },
  {
   "cell_type": "code",
   "execution_count": 5,
   "metadata": {},
   "outputs": [
    {
     "data": {
      "text/plain": [
       "(torch.Size([96, 7]), torch.Size([32, 7]))"
      ]
     },
     "execution_count": 5,
     "metadata": {},
     "output_type": "execute_result"
    }
   ],
   "source": [
    "HIGH_ORTHANTS, LOW_ORTHANTS = train_test_split(ORTHANTS, test_size=LOW_FRAC)\n",
    "# Randomly choosing the \"rare\" orthants\n",
    "HIGH_ORTHANTS.shape, LOW_ORTHANTS.shape"
   ]
  },
  {
   "cell_type": "code",
   "execution_count": 6,
   "metadata": {},
   "outputs": [
    {
     "data": {
      "text/plain": [
       "tensor([4., 4., 4., 4., 4., 4., 4.])"
      ]
     },
     "execution_count": 6,
     "metadata": {},
     "output_type": "execute_result"
    }
   ],
   "source": [
    "CENTRE = 4 * torch.ones(7)\n",
    "# The centre of the 7-spheres, without orthant-specificity, which can be included using ORTHANTS\n",
    "CENTRE"
   ]
  },
  {
   "cell_type": "code",
   "execution_count": 7,
   "metadata": {},
   "outputs": [],
   "source": [
    "LOW_RADIUS = 1. # Radius of the inner sphere (say, label 0) in each orthant\n",
    "HIGH_RADIUS = 2.    # Radius of the outer sphere (say, label 1) in each orthant"
   ]
  },
  {
   "attachments": {},
   "cell_type": "markdown",
   "metadata": {},
   "source": [
    "### Data generation"
   ]
  },
  {
   "attachments": {},
   "cell_type": "markdown",
   "metadata": {},
   "source": [
    "Now, we describe a 7-sphere using the standard notation. <br>\n",
    "Say, it is centered at $C = (C_1, C_2, ..., C_7)$ and has radius $r$. Each point can be described with the help of 6 angles, <br>\n",
    "$\\phi_1$, $\\phi_2$, $\\phi_3$, $\\phi_4$, $\\phi_5$, and $\\phi_6$, where $\\phi_6 \\in [0, 2\\pi)$ and $\\phi_1, ..., \\phi_5 \\in [0, \\pi]$ <br>\n",
    "Any point $x = (x_1, x_2, ..., x_7)$ on the sphere can be described as follows: <br>\n",
    "$x_1 = C_1 + r\\cos(\\phi_1)$ <br>\n",
    "$x_2 = C_2 + r\\sin(\\phi_1)\\cos(\\phi_2)$ <br>\n",
    "$x_3 = C_3 + r\\sin(\\phi_1)\\sin(\\phi_2)\\cos(\\phi_3)$ <br>\n",
    "$x_4 = C_4 + r\\sin(\\phi_1)\\sin(\\phi_2)\\sin(\\phi_3)\\cos(\\phi_4)$ <br>\n",
    "$x_5 = C_5 + r\\sin(\\phi_1)\\sin(\\phi_2)\\sin(\\phi_3)\\sin(\\phi_4)\\cos(\\phi_5)$ <br>\n",
    "$x_6 = C_6 + r\\sin(\\phi_1)\\sin(\\phi_2)\\sin(\\phi_3)\\sin(\\phi_4)\\sin(\\phi_5)\\cos(\\phi_6)$ <br>\n",
    "$x_7 = C_7 + r\\sin(\\phi_1)\\sin(\\phi_2)\\sin(\\phi_3)\\sin(\\phi_4)\\sin(\\phi_5)\\sin(\\phi_6)$\n",
    "<br>\n",
    "\n",
    "Hence, each datapoint will be sampled by randomly generating the 6 angles from appropriate uniform distributions and \n",
    "performing the mentioned transformation"
   ]
  },
  {
   "cell_type": "code",
   "execution_count": 8,
   "metadata": {},
   "outputs": [],
   "source": [
    "def generate_point(\n",
    "    radius: float,\n",
    "    orthant: torch.Tensor\n",
    ") -> torch.Tensor:\n",
    "    \"\"\"\n",
    "    Generates a point on a 7-sphere of centre orthant * CENTRE (global) with radius radius, where\n",
    "    orthant denotes the signs wrt all 7 axes\n",
    "\n",
    "    Args:\n",
    "        radius (float): radius of the 7-sphere\n",
    "        orthant (torch.Tensor): signs wrt the 7 axes for the resulting point, of shape (7,)\n",
    "    \n",
    "    Returns:\n",
    "        x (torch.Tensor): a point on the specified sphere, of shape (7,)\n",
    "    \n",
    "    Example usage:\n",
    "    >>> generate_point(2, tensor([1., 1., 1., 1., 1., 1., 1.]))\n",
    "    tensor([2., 4., 4., 4., 4., 4., 4.])\n",
    "    \"\"\"\n",
    "    phi = torch.rand((6,)) * torch.pi\n",
    "    phi[5] *= 2\n",
    "    diff_unit = torch.tensor([\n",
    "        torch.cos(phi[0]),\n",
    "        torch.sin(phi[0])*torch.cos(phi[1]),\n",
    "        torch.sin(phi[0])*torch.sin(phi[1])*torch.cos(phi[2]),\n",
    "        torch.sin(phi[0])*torch.sin(phi[1])*torch.sin(phi[2])*torch.cos(phi[3]),\n",
    "        torch.sin(phi[0])*torch.sin(phi[1])*torch.sin(phi[2])*torch.sin(phi[3])*torch.cos(phi[4]),\n",
    "        torch.sin(phi[0])*torch.sin(phi[1])*torch.sin(phi[2])*torch.sin(phi[3])*torch.sin(phi[4])*torch.cos(phi[5]),\n",
    "        torch.sin(phi[0])*torch.sin(phi[1])*torch.sin(phi[2])*torch.sin(phi[3])*torch.sin(phi[4])*torch.sin(phi[5])\n",
    "    ])\n",
    "    return torch.mul(CENTRE + radius * diff_unit, orthant)\n",
    "    "
   ]
  },
  {
   "cell_type": "code",
   "execution_count": 9,
   "metadata": {},
   "outputs": [
    {
     "data": {
      "text/plain": [
       "(tensor([-5.7827, -4.4473, -3.2621, -3.8523, -4.0492, -4.1172, -3.8017]),\n",
       " tensor(2.))"
      ]
     },
     "execution_count": 9,
     "metadata": {},
     "output_type": "execute_result"
    }
   ],
   "source": [
    "# Testing correctness\n",
    "\n",
    "random_point = generate_point(2, ORTHANTS[0])\n",
    "random_point, ((random_point - ORTHANTS[0]*CENTRE)**2).sum().sqrt()"
   ]
  },
  {
   "attachments": {},
   "cell_type": "markdown",
   "metadata": {},
   "source": [
    "#### Train data"
   ]
  },
  {
   "cell_type": "code",
   "execution_count": 10,
   "metadata": {},
   "outputs": [
    {
     "data": {
      "text/plain": [
       "(torch.Size([124, 7]),\n",
       " torch.Size([114, 7]),\n",
       " torch.Size([2344, 7]),\n",
       " torch.Size([2313, 7]))"
      ]
     },
     "execution_count": 10,
     "metadata": {},
     "output_type": "execute_result"
    }
   ],
   "source": [
    "X_train_low_0 = torch.cat([\n",
    "    torch.cat([\n",
    "        generate_point(1, orthant).reshape(1, -1) for i in range(int((2*torch.rand(1) - 1) * LOW_SPREAD + LOW_COUNT))\n",
    "    ]) for orthant in LOW_ORTHANTS\n",
    "])\n",
    "X_train_low_1 = torch.cat([\n",
    "    torch.cat([\n",
    "        generate_point(2, orthant).reshape(1, -1) for i in range(int((2*torch.rand(1) - 1) * LOW_SPREAD + LOW_COUNT))\n",
    "    ]) for orthant in LOW_ORTHANTS\n",
    "])\n",
    "X_train_high_0 = torch.cat([\n",
    "    torch.cat([\n",
    "        generate_point(1, orthant).reshape(1, -1) for i in range(int((2*torch.rand(1) - 1) * HIGH_SPREAD + HIGH_COUNT))\n",
    "    ]) for orthant in HIGH_ORTHANTS\n",
    "])\n",
    "X_train_high_1 = torch.cat([\n",
    "    torch.cat([\n",
    "        generate_point(2, orthant).reshape(1, -1) for i in range(int((2*torch.rand(1) - 1) * HIGH_SPREAD + HIGH_COUNT))\n",
    "    ]) for orthant in HIGH_ORTHANTS\n",
    "])\n",
    "X_train_low_0.shape, X_train_low_1.shape, X_train_high_0.shape, X_train_high_1.shape"
   ]
  },
  {
   "cell_type": "code",
   "execution_count": 11,
   "metadata": {},
   "outputs": [
    {
     "data": {
      "text/plain": [
       "(torch.Size([124, 1]),\n",
       " torch.Size([114, 1]),\n",
       " torch.Size([2344, 1]),\n",
       " torch.Size([2313, 1]))"
      ]
     },
     "execution_count": 11,
     "metadata": {},
     "output_type": "execute_result"
    }
   ],
   "source": [
    "Y_train_low_0 = torch.zeros(len(X_train_low_0), 1)\n",
    "Y_train_low_1 = torch.ones(len(X_train_low_1), 1)\n",
    "Y_train_high_0 = torch.zeros(len(X_train_high_0), 1)\n",
    "Y_train_high_1 = torch.ones(len(X_train_high_1), 1)\n",
    "Y_train_low_0.shape, Y_train_low_1.shape, Y_train_high_0.shape, Y_train_high_1.shape"
   ]
  },
  {
   "cell_type": "code",
   "execution_count": 12,
   "metadata": {},
   "outputs": [
    {
     "data": {
      "text/plain": [
       "(torch.Size([4895, 7]), torch.Size([4895, 1]))"
      ]
     },
     "execution_count": 12,
     "metadata": {},
     "output_type": "execute_result"
    }
   ],
   "source": [
    "X_train = torch.cat([\n",
    "    X_train_low_0,\n",
    "    X_train_low_1,\n",
    "    X_train_high_0,\n",
    "    X_train_high_1\n",
    "])\n",
    "Y_train = torch.cat([\n",
    "    Y_train_low_0,\n",
    "    Y_train_low_1,\n",
    "    Y_train_high_0,\n",
    "    Y_train_high_1\n",
    "])\n",
    "X_train.shape, Y_train.shape"
   ]
  },
  {
   "cell_type": "code",
   "execution_count": 13,
   "metadata": {},
   "outputs": [],
   "source": [
    "def find_orthant(point: torch.Tensor) -> int:\n",
    "    \"\"\"\n",
    "    Given a point, determines the orthant it lies in as an index of ORTHANTS\n",
    "\n",
    "    Args:\n",
    "        point (torch.Tensor): A random point in 7d space, a tensor of shape (7,)\n",
    "    \n",
    "    Returns:\n",
    "        orthant_no (int): The index of ORTHANTS corresponding to the orthant point lies in\n",
    "            i.e., orthant_no satisfies ORTHANTS[orthant_no] == torch.sign(point)\n",
    "    \n",
    "    Example usage:\n",
    "    >>> find_orthant(tensor([1., 3., -2., -4., 3., 2.2, -9.]))\n",
    "    102\n",
    "    \"\"\"\n",
    "    orthant_no = 0\n",
    "    for dim in point:\n",
    "        orthant_no *= 2\n",
    "        if dim > 0:\n",
    "            orthant_no += 1\n",
    "    return int(orthant_no)"
   ]
  },
  {
   "cell_type": "code",
   "execution_count": 14,
   "metadata": {},
   "outputs": [
    {
     "data": {
      "text/plain": [
       "[<matplotlib.lines.Line2D at 0x7f1293175d50>]"
      ]
     },
     "execution_count": 14,
     "metadata": {},
     "output_type": "execute_result"
    },
    {
     "data": {
      "image/png": "[encoded data removed]",
      "text/plain": [
       "<Figure size 640x480 with 1 Axes>"
      ]
     },
     "metadata": {},
     "output_type": "display_data"
    }
   ],
   "source": [
    "orthant_counts = torch.zeros(128)\n",
    "for x in X_train:\n",
    "    orthant_counts[find_orthant(x)] += 1\n",
    "plt.plot(range(128), torch.sort(orthant_counts).values)"
   ]
  },
  {
   "cell_type": "code",
   "execution_count": 75,
   "metadata": {},
   "outputs": [],
   "source": [
    "LOW_ORTHANT_INDICES = [find_orthant(orthant) for orthant in LOW_ORTHANTS]\n",
    "HIGH_ORTHANT_INDICES = [find_orthant(orthant) for orthant in HIGH_ORTHANTS]"
   ]
  },
  {
   "attachments": {},
   "cell_type": "markdown",
   "metadata": {},
   "source": [
    "#### Validation data"
   ]
  },
  {
   "cell_type": "code",
   "execution_count": 15,
   "metadata": {},
   "outputs": [
    {
     "data": {
      "text/plain": [
       "(torch.Size([512, 7]),\n",
       " torch.Size([512, 7]),\n",
       " torch.Size([512, 1]),\n",
       " torch.Size([512, 1]))"
      ]
     },
     "execution_count": 15,
     "metadata": {},
     "output_type": "execute_result"
    }
   ],
   "source": [
    "X_val_0 = torch.cat([\n",
    "    torch.cat([\n",
    "        generate_point(1, orthant).reshape(1, -1) for i in range(VAL_COUNT)\n",
    "    ]) for orthant in ORTHANTS\n",
    "])\n",
    "X_val_1 = torch.cat([\n",
    "    torch.cat([\n",
    "        generate_point(2, orthant).reshape(1, -1) for i in range(VAL_COUNT)\n",
    "    ]) for orthant in ORTHANTS\n",
    "])\n",
    "Y_val_0 = torch.zeros(len(X_val_0), 1)\n",
    "Y_val_1 = torch.ones(len(X_val_1), 1)\n",
    "X_val_0.shape, X_val_1.shape, Y_val_0.shape, Y_val_1.shape"
   ]
  },
  {
   "cell_type": "code",
   "execution_count": 16,
   "metadata": {},
   "outputs": [
    {
     "data": {
      "text/plain": [
       "(torch.Size([1024, 7]), torch.Size([1024, 1]))"
      ]
     },
     "execution_count": 16,
     "metadata": {},
     "output_type": "execute_result"
    }
   ],
   "source": [
    "X_val = torch.cat([X_val_0, X_val_1])\n",
    "Y_val = torch.cat([Y_val_0, Y_val_1])\n",
    "X_val.shape, Y_val.shape"
   ]
  },
  {
   "attachments": {},
   "cell_type": "markdown",
   "metadata": {},
   "source": [
    "#### Test data"
   ]
  },
  {
   "cell_type": "code",
   "execution_count": 17,
   "metadata": {},
   "outputs": [
    {
     "data": {
      "text/plain": [
       "(torch.Size([128, 128, 7]), torch.Size([128, 128, 1]))"
      ]
     },
     "execution_count": 17,
     "metadata": {},
     "output_type": "execute_result"
    }
   ],
   "source": [
    "X_test = torch.cat([\n",
    "    torch.cat([\n",
    "        torch.cat([\n",
    "            generate_point(1, orthant).reshape(1, -1) for i in range(TEST_COUNT)\n",
    "        ]),\n",
    "        torch.cat([\n",
    "            generate_point(2, orthant).reshape(1, -1) for i in range(TEST_COUNT)\n",
    "        ])\n",
    "    ]).reshape(1, 2*TEST_COUNT, 7) for orthant in ORTHANTS\n",
    "])\n",
    "Y_test = torch.cat([\n",
    "    torch.cat([\n",
    "        torch.zeros(TEST_COUNT, 1),\n",
    "        torch.ones(TEST_COUNT, 1)\n",
    "    ]).reshape(1, 2*TEST_COUNT, 1) for orthant in ORTHANTS\n",
    "])\n",
    "X_test.shape, Y_test.shape"
   ]
  },
  {
   "attachments": {},
   "cell_type": "markdown",
   "metadata": {},
   "source": [
    "## Model"
   ]
  },
  {
   "cell_type": "code",
   "execution_count": 18,
   "metadata": {},
   "outputs": [],
   "source": [
    "device = 'cpu'"
   ]
  },
  {
   "cell_type": "code",
   "execution_count": 19,
   "metadata": {},
   "outputs": [],
   "source": [
    "from torch import nn\n",
    "\n",
    "class SimpleNN(nn.Module):\n",
    "    def __init__(\n",
    "        self,\n",
    "        hidden_layers: int = 2,\n",
    "        hidden_units: int = 32\n",
    "    ) -> None:\n",
    "        super().__init__()\n",
    "        self.input = nn.Sequential(\n",
    "            nn.Linear(in_features=7, out_features=hidden_units),\n",
    "            nn.ReLU()\n",
    "        )\n",
    "        self.hidden = nn.Sequential()\n",
    "        for i in range(hidden_layers):\n",
    "            self.hidden.append(nn.Linear(in_features=hidden_units, out_features=hidden_units))\n",
    "            self.hidden.append(nn.ReLU())\n",
    "        self.output = nn.Sequential(\n",
    "            nn.Linear(in_features=hidden_units, out_features=1),\n",
    "            nn.Sigmoid()\n",
    "        )\n",
    "    \n",
    "    def forward(self, x):\n",
    "        return self.output(self.hidden(self.input(x)))\n"
   ]
  },
  {
   "cell_type": "code",
   "execution_count": 20,
   "metadata": {},
   "outputs": [],
   "source": [
    "from scripts.utils import make_dataloader\n",
    "\n",
    "train_dataloader, val_dataloader = make_dataloader(X_train, Y_train, batch_size=32, shuffle=True), make_dataloader(X_val, Y_val, batch_size=32, shuffle=True)"
   ]
  },
  {
   "cell_type": "code",
   "execution_count": 25,
   "metadata": {},
   "outputs": [],
   "source": [
    "depths = [2, 3, 4]\n",
    "widths = [16, 32, 64]\n",
    "lambdas = [0, 1e-5]\n",
    "etas = [1e-3]\n",
    "betass = [(0.9, 0.999), (0.8, 0.9)]"
   ]
  },
  {
   "cell_type": "code",
   "execution_count": 26,
   "metadata": {},
   "outputs": [],
   "source": [
    "best_depth = None\n",
    "best_width = None\n",
    "best_lambda = None\n",
    "best_eta = None\n",
    "best_betas = None\n",
    "best_score = -1"
   ]
  },
  {
   "cell_type": "code",
   "execution_count": 27,
   "metadata": {},
   "outputs": [
    {
     "name": "stdout",
     "output_type": "stream",
     "text": [
      "Model 1 of 36 trained. Validation accuracy: 0.5712890625\n",
      "Model 2 of 36 trained. Validation accuracy: 0.5546875\n",
      "Model 3 of 36 trained. Validation accuracy: 0.5478515625\n",
      "Model 4 of 36 trained. Validation accuracy: 0.537109375\n",
      "Model 5 of 36 trained. Validation accuracy: 0.6767578125\n",
      "Model 6 of 36 trained. Validation accuracy: 0.564453125\n",
      "Model 7 of 36 trained. Validation accuracy: 0.7734375\n",
      "Model 8 of 36 trained. Validation accuracy: 0.740234375\n",
      "Model 9 of 36 trained. Validation accuracy: 0.8701171875\n",
      "Model 10 of 36 trained. Validation accuracy: 0.7822265625\n",
      "Model 11 of 36 trained. Validation accuracy: 0.8408203125\n",
      "Model 12 of 36 trained. Validation accuracy: 0.80078125\n",
      "Model 13 of 36 trained. Validation accuracy: 0.6337890625\n",
      "Model 14 of 36 trained. Validation accuracy: 0.6181640625\n",
      "Model 15 of 36 trained. Validation accuracy: 0.66015625\n",
      "Model 16 of 36 trained. Validation accuracy: 0.564453125\n",
      "Model 17 of 36 trained. Validation accuracy: 0.7734375\n",
      "Model 18 of 36 trained. Validation accuracy: 0.7578125\n",
      "Model 19 of 36 trained. Validation accuracy: 0.806640625\n",
      "Model 20 of 36 trained. Validation accuracy: 0.703125\n",
      "Model 21 of 36 trained. Validation accuracy: 0.763671875\n",
      "Model 22 of 36 trained. Validation accuracy: 0.787109375\n",
      "Model 23 of 36 trained. Validation accuracy: 0.84765625\n",
      "Model 24 of 36 trained. Validation accuracy: 0.8173828125\n",
      "Model 25 of 36 trained. Validation accuracy: 0.630859375\n",
      "Model 26 of 36 trained. Validation accuracy: 0.55859375\n",
      "Model 27 of 36 trained. Validation accuracy: 0.7958984375\n",
      "Model 28 of 36 trained. Validation accuracy: 0.54296875\n",
      "Model 29 of 36 trained. Validation accuracy: 0.7646484375\n",
      "Model 30 of 36 trained. Validation accuracy: 0.7861328125\n",
      "Model 31 of 36 trained. Validation accuracy: 0.8466796875\n",
      "Model 32 of 36 trained. Validation accuracy: 0.7333984375\n",
      "Model 33 of 36 trained. Validation accuracy: 0.802734375\n",
      "Model 34 of 36 trained. Validation accuracy: 0.8427734375\n",
      "Model 35 of 36 trained. Validation accuracy: 0.8017578125\n",
      "Model 36 of 36 trained. Validation accuracy: 0.806640625\n",
      "Results:\n",
      "Depth: 2\n",
      "Width: 64\n",
      "Lambda: 0\n",
      "Eta: 0.001\n",
      "Betas: (0.9, 0.999)\n",
      "Accuracy after 32 epochs: 0.8701171875\n"
     ]
    }
   ],
   "source": [
    "from scripts.metrics import BinaryAccuracy\n",
    "from scripts.train import train_model\n",
    "from scripts.test import predict\n",
    "\n",
    "count = 0\n",
    "total = len(depths) * len(widths) * len(lambdas) * len(etas) * len(betass)\n",
    "EPOCHS = 32\n",
    "for depth in depths:\n",
    "    for width in widths:\n",
    "        for lambda_i in lambdas:\n",
    "            for eta in etas:\n",
    "                for betas in betass:\n",
    "                    model = SimpleNN(hidden_layers=depth, hidden_units=width).to(device)\n",
    "                    loss_fn = torch.nn.BCELoss()\n",
    "                    optimizer = torch.optim.Adam(params=model.parameters(), lr=eta, betas=betas, weight_decay=lambda_i)\n",
    "                    metric = BinaryAccuracy()\n",
    "                    history = train_model(\n",
    "                        model=model,\n",
    "                        train_dataloader=train_dataloader,\n",
    "                        val_dataloader=val_dataloader,\n",
    "                        loss_fn=loss_fn,\n",
    "                        optimizer=optimizer,\n",
    "                        metric=metric,\n",
    "                        epochs=EPOCHS,\n",
    "                        verbose=0,\n",
    "                        device=device\n",
    "                    )\n",
    "                    count += 1\n",
    "                    score = history['val_score'][-1]\n",
    "                    print(f'Model {count} of {total} trained. Validation accuracy: {score}')\n",
    "                    if score > best_score:\n",
    "                        best_score = score\n",
    "                        best_depth = depth\n",
    "                        best_width = width\n",
    "                        best_lambda = lambda_i\n",
    "                        best_eta = eta\n",
    "                        best_betas = betas\n",
    "\n",
    "print(f'Results:\\nDepth: {best_depth}\\nWidth: {best_width}\\nLambda: {best_lambda}\\nEta: {best_eta}\\nBetas: {best_betas}\\nAccuracy after {EPOCHS} epochs: {best_score}')"
   ]
  },
  {
   "cell_type": "code",
   "execution_count": 28,
   "metadata": {},
   "outputs": [],
   "source": [
    "best_model = SimpleNN(hidden_layers=best_depth, hidden_units=best_width).to(device)"
   ]
  },
  {
   "cell_type": "code",
   "execution_count": 29,
   "metadata": {},
   "outputs": [],
   "source": [
    "from scripts.metrics import BinaryAccuracy\n",
    "\n",
    "loss_fn = torch.nn.BCELoss()\n",
    "optimizer = torch.optim.Adam(params=best_model.parameters(), lr=best_eta, betas=best_betas, weight_decay=best_lambda)\n",
    "metric = BinaryAccuracy()"
   ]
  },
  {
   "cell_type": "code",
   "execution_count": 30,
   "metadata": {},
   "outputs": [],
   "source": [
    "from scripts.utils import EarlyStopping\n",
    "\n",
    "early_stop = EarlyStopping(patience=20, min_delta=1e-4)"
   ]
  },
  {
   "cell_type": "code",
   "execution_count": 31,
   "metadata": {},
   "outputs": [
    {
     "name": "stdout",
     "output_type": "stream",
     "text": [
      "Training model for 500 epochs. Early stopping enabled.\n",
      "Epoch: 1 => Train loss: 0.696232, Train score: 0.504171, Val loss: 0.694596, Val score: 0.495117\n",
      "Epoch: 2 => Train loss: 0.693352, Train score: 0.515029, Val loss: 0.694245, Val score: 0.505859\n",
      "Epoch: 3 => Train loss: 0.691444, Train score: 0.534004, Val loss: 0.694190, Val score: 0.511719\n",
      "Epoch: 4 => Train loss: 0.690382, Train score: 0.539334, Val loss: 0.695352, Val score: 0.503906\n",
      "Epoch: 5 => Train loss: 0.690212, Train score: 0.534413, Val loss: 0.696530, Val score: 0.499023\n",
      "Epoch: 6 => Train loss: 0.688597, Train score: 0.536448, Val loss: 0.695470, Val score: 0.505859\n",
      "Epoch: 7 => Train loss: 0.685969, Train score: 0.552189, Val loss: 0.692830, Val score: 0.523438\n",
      "Epoch: 8 => Train loss: 0.682306, Train score: 0.560339, Val loss: 0.689466, Val score: 0.537109\n",
      "Epoch: 9 => Train loss: 0.670360, Train score: 0.597519, Val loss: 0.671873, Val score: 0.585938\n",
      "Epoch: 10 => Train loss: 0.645428, Train score: 0.626166, Val loss: 0.663282, Val score: 0.584961\n",
      "Epoch: 11 => Train loss: 0.601866, Train score: 0.678862, Val loss: 0.599784, Val score: 0.677734\n",
      "Epoch: 12 => Train loss: 0.560297, Train score: 0.710751, Val loss: 0.538379, Val score: 0.735352\n",
      "Epoch: 13 => Train loss: 0.517337, Train score: 0.747905, Val loss: 0.530216, Val score: 0.734375\n",
      "Epoch: 14 => Train loss: 0.496328, Train score: 0.755910, Val loss: 0.518456, Val score: 0.739258\n",
      "Epoch: 15 => Train loss: 0.483365, Train score: 0.766089, Val loss: 0.502923, Val score: 0.753906\n",
      "Epoch: 16 => Train loss: 0.463894, Train score: 0.782423, Val loss: 0.505435, Val score: 0.752930\n",
      "Epoch: 17 => Train loss: 0.453006, Train score: 0.785506, Val loss: 0.498831, Val score: 0.755859\n",
      "Epoch: 18 => Train loss: 0.447230, Train score: 0.788550, Val loss: 0.482992, Val score: 0.762695\n",
      "Epoch: 19 => Train loss: 0.436842, Train score: 0.795521, Val loss: 0.483434, Val score: 0.767578\n",
      "Epoch: 20 => Train loss: 0.433618, Train score: 0.793452, Val loss: 0.483809, Val score: 0.763672\n",
      "Epoch: 21 => Train loss: 0.427598, Train score: 0.797366, Val loss: 0.467296, Val score: 0.778320\n",
      "Epoch: 22 => Train loss: 0.425433, Train score: 0.799784, Val loss: 0.465979, Val score: 0.770508\n",
      "Epoch: 23 => Train loss: 0.420949, Train score: 0.803474, Val loss: 0.477237, Val score: 0.772461\n",
      "Epoch: 24 => Train loss: 0.416196, Train score: 0.805727, Val loss: 0.505974, Val score: 0.757812\n",
      "Epoch: 25 => Train loss: 0.413034, Train score: 0.800805, Val loss: 0.455507, Val score: 0.772461\n",
      "Epoch: 26 => Train loss: 0.402786, Train score: 0.809990, Val loss: 0.461448, Val score: 0.778320\n",
      "Epoch: 27 => Train loss: 0.401280, Train score: 0.815504, Val loss: 0.443334, Val score: 0.789062\n",
      "Epoch: 28 => Train loss: 0.398436, Train score: 0.812671, Val loss: 0.443096, Val score: 0.789062\n",
      "Epoch: 29 => Train loss: 0.392328, Train score: 0.815544, Val loss: 0.455994, Val score: 0.788086\n",
      "Epoch: 30 => Train loss: 0.383306, Train score: 0.824294, Val loss: 0.443902, Val score: 0.794922\n",
      "Epoch: 31 => Train loss: 0.383809, Train score: 0.826738, Val loss: 0.461708, Val score: 0.789062\n",
      "Epoch: 32 => Train loss: 0.371265, Train score: 0.834111, Val loss: 0.453533, Val score: 0.780273\n",
      "Epoch: 33 => Train loss: 0.367552, Train score: 0.837800, Val loss: 0.445306, Val score: 0.801758\n",
      "Epoch: 34 => Train loss: 0.360234, Train score: 0.837168, Val loss: 0.428947, Val score: 0.800781\n",
      "Epoch: 35 => Train loss: 0.353073, Train score: 0.844712, Val loss: 0.419024, Val score: 0.801758\n",
      "Epoch: 36 => Train loss: 0.343266, Train score: 0.850042, Val loss: 0.419729, Val score: 0.812500\n",
      "Epoch: 37 => Train loss: 0.332861, Train score: 0.856591, Val loss: 0.418610, Val score: 0.821289\n",
      "Epoch: 38 => Train loss: 0.321937, Train score: 0.859642, Val loss: 0.416338, Val score: 0.813477\n",
      "Epoch: 39 => Train loss: 0.319503, Train score: 0.863351, Val loss: 0.399621, Val score: 0.832031\n",
      "Epoch: 40 => Train loss: 0.311996, Train score: 0.867403, Val loss: 0.392288, Val score: 0.834961\n",
      "Epoch: 41 => Train loss: 0.288480, Train score: 0.881319, Val loss: 0.395315, Val score: 0.838867\n",
      "Epoch: 42 => Train loss: 0.282749, Train score: 0.883150, Val loss: 0.373668, Val score: 0.853516\n",
      "Epoch: 43 => Train loss: 0.271486, Train score: 0.891327, Val loss: 0.399360, Val score: 0.828125\n",
      "Epoch: 44 => Train loss: 0.263675, Train score: 0.895814, Val loss: 0.367851, Val score: 0.873047\n",
      "Epoch: 45 => Train loss: 0.256494, Train score: 0.898265, Val loss: 0.382392, Val score: 0.839844\n",
      "Epoch: 46 => Train loss: 0.242837, Train score: 0.904807, Val loss: 0.353783, Val score: 0.871094\n",
      "Epoch: 47 => Train loss: 0.238034, Train score: 0.908477, Val loss: 0.344739, Val score: 0.877930\n",
      "Epoch: 48 => Train loss: 0.225961, Train score: 0.914815, Val loss: 0.356183, Val score: 0.866211\n",
      "Epoch: 49 => Train loss: 0.228087, Train score: 0.910493, Val loss: 0.360439, Val score: 0.873047\n",
      "Epoch: 50 => Train loss: 0.220780, Train score: 0.918077, Val loss: 0.375336, Val score: 0.873047\n",
      "Epoch: 51 => Train loss: 0.225107, Train score: 0.913379, Val loss: 0.381602, Val score: 0.866211\n",
      "Epoch: 52 => Train loss: 0.219307, Train score: 0.916647, Val loss: 0.364250, Val score: 0.858398\n",
      "Epoch: 53 => Train loss: 0.203876, Train score: 0.922998, Val loss: 0.353731, Val score: 0.872070\n",
      "Epoch: 54 => Train loss: 0.195128, Train score: 0.927064, Val loss: 0.375561, Val score: 0.865234\n",
      "Epoch: 55 => Train loss: 0.186378, Train score: 0.933810, Val loss: 0.346216, Val score: 0.886719\n",
      "Epoch: 56 => Train loss: 0.197581, Train score: 0.925838, Val loss: 0.371987, Val score: 0.858398\n",
      "Epoch: 57 => Train loss: 0.185925, Train score: 0.933810, Val loss: 0.379801, Val score: 0.863281\n",
      "Epoch: 58 => Train loss: 0.188939, Train score: 0.926655, Val loss: 0.343288, Val score: 0.878906\n",
      "Epoch: 59 => Train loss: 0.171455, Train score: 0.938706, Val loss: 0.342856, Val score: 0.881836\n",
      "Epoch: 60 => Train loss: 0.166279, Train score: 0.939325, Val loss: 0.353828, Val score: 0.869141\n",
      "Epoch: 61 => Train loss: 0.162178, Train score: 0.941993, Val loss: 0.393984, Val score: 0.873047\n",
      "Epoch: 62 => Train loss: 0.159593, Train score: 0.942389, Val loss: 0.356031, Val score: 0.886719\n",
      "Epoch: 63 => Train loss: 0.166016, Train score: 0.935655, Val loss: 0.343192, Val score: 0.891602\n",
      "Epoch: 64 => Train loss: 0.156778, Train score: 0.944240, Val loss: 0.357746, Val score: 0.883789\n",
      "Epoch: 65 => Train loss: 0.162174, Train score: 0.940359, Val loss: 0.352626, Val score: 0.879883\n",
      "Epoch: 66 => Train loss: 0.151421, Train score: 0.942185, Val loss: 0.367476, Val score: 0.879883\n",
      "Epoch: 67 => Train loss: 0.153266, Train score: 0.942389, Val loss: 0.392342, Val score: 0.859375\n",
      "Epoch: 68 => Train loss: 0.146324, Train score: 0.944029, Val loss: 0.346889, Val score: 0.888672\n",
      "Epoch: 69 => Train loss: 0.133850, Train score: 0.951988, Val loss: 0.386270, Val score: 0.882812\n",
      "Epoch: 70 => Train loss: 0.137813, Train score: 0.947502, Val loss: 0.364072, Val score: 0.890625\n",
      "Epoch: 71 => Train loss: 0.131310, Train score: 0.954038, Val loss: 0.395059, Val score: 0.885742\n",
      "Epoch: 72 => Train loss: 0.130604, Train score: 0.953827, Val loss: 0.350110, Val score: 0.880859\n",
      "Epoch: 73 => Train loss: 0.129193, Train score: 0.952193, Val loss: 0.359178, Val score: 0.893555\n",
      "Epoch: 74 => Train loss: 0.127085, Train score: 0.953418, Val loss: 0.356533, Val score: 0.890625\n",
      "Epoch: 75 => Train loss: 0.120251, Train score: 0.960778, Val loss: 0.406692, Val score: 0.875977\n",
      "Epoch: 76 => Train loss: 0.132345, Train score: 0.951382, Val loss: 0.377879, Val score: 0.884766\n",
      "Epoch: 77 => Train loss: 0.117610, Train score: 0.955467, Val loss: 0.351371, Val score: 0.895508\n",
      "Epoch: 78 => Train loss: 0.118094, Train score: 0.956686, Val loss: 0.345214, Val score: 0.893555\n",
      "Epoch: 79 => Train loss: 0.112120, Train score: 0.963644, Val loss: 0.347263, Val score: 0.890625\n",
      "Training stopped.\n"
     ]
    }
   ],
   "source": [
    "from scripts.train import train_model\n",
    "\n",
    "history = train_model(\n",
    "    model=best_model,\n",
    "    train_dataloader=train_dataloader,\n",
    "    val_dataloader=val_dataloader,\n",
    "    loss_fn=loss_fn,\n",
    "    optimizer=optimizer,\n",
    "    metric=metric,\n",
    "    epochs=500,\n",
    "    early_stopping=early_stop,\n",
    "    device=device\n",
    ")"
   ]
  },
  {
   "cell_type": "code",
   "execution_count": 32,
   "metadata": {},
   "outputs": [
    {
     "data": {
      "image/png": "[encoded data removed]",
      "text/plain": [
       "<Figure size 1200x600 with 2 Axes>"
      ]
     },
     "metadata": {},
     "output_type": "display_data"
    }
   ],
   "source": [
    "from scripts.utils import plot_train_history\n",
    "\n",
    "plot_train_history(history)"
   ]
  },
  {
   "cell_type": "code",
   "execution_count": 79,
   "metadata": {},
   "outputs": [],
   "source": [
    "from scripts.test import predict\n",
    "\n",
    "scores = torch.tensor([\n",
    "    metric(\n",
    "        predict(best_model, X_test[i], device),\n",
    "        Y_test[i]\n",
    "    ) for i in range(128)\n",
    "])"
   ]
  },
  {
   "attachments": {},
   "cell_type": "markdown",
   "metadata": {},
   "source": [
    "## Orthant performance plot"
   ]
  },
  {
   "cell_type": "code",
   "execution_count": 80,
   "metadata": {},
   "outputs": [
    {
     "data": {
      "text/plain": [
       "Text(0.5, 1.0, 'Score vs no. of points for each orthant')"
      ]
     },
     "execution_count": 80,
     "metadata": {},
     "output_type": "execute_result"
    },
    {
     "data": {
      "image/png": "[encoded data removed]",
      "text/plain": [
       "<Figure size 650x600 with 1 Axes>"
      ]
     },
     "metadata": {},
     "output_type": "display_data"
    }
   ],
   "source": [
    "plt.figure(figsize=(6.5, 6))\n",
    "plt.scatter(orthant_counts, scores)\n",
    "plt.xlabel('Number of points')\n",
    "plt.ylabel('Binary accuracy')\n",
    "plt.title('Score vs no. of points for each orthant')"
   ]
  },
  {
   "cell_type": "code",
   "execution_count": 81,
   "metadata": {},
   "outputs": [
    {
     "data": {
      "text/plain": [
       "0.4069567613482996"
      ]
     },
     "execution_count": 81,
     "metadata": {},
     "output_type": "execute_result"
    }
   ],
   "source": [
    "from scipy.stats import pearsonr\n",
    "\n",
    "pearsonr(orthant_counts, scores).statistic"
   ]
  },
  {
   "cell_type": "code",
   "execution_count": 82,
   "metadata": {},
   "outputs": [
    {
     "data": {
      "text/plain": [
       "tensor(0.9043)"
      ]
     },
     "execution_count": 82,
     "metadata": {},
     "output_type": "execute_result"
    }
   ],
   "source": [
    "scores.mean() # also try getting score for LOW_ORTHANTS and HIGH_ORTHANTS"
   ]
  },
  {
   "cell_type": "code",
   "execution_count": 83,
   "metadata": {},
   "outputs": [
    {
     "name": "stdout",
     "output_type": "stream",
     "text": [
      "Performance in rare orthants:  tensor(0.8674)\n",
      "Performance in typical orthants:  tensor(0.9166)\n"
     ]
    }
   ],
   "source": [
    "print('Performance in rare orthants: ', scores[LOW_ORTHANT_INDICES].mean())\n",
    "print('Performance in typical orthants: ', scores[HIGH_ORTHANT_INDICES].mean())"
   ]
  },
  {
   "attachments": {},
   "cell_type": "markdown",
   "metadata": {},
   "source": [
    "Okay, maybe a neural network can find symmetry? Can an SVM do this too? Is the test data too similar to training?"
   ]
  },
  {
   "attachments": {},
   "cell_type": "markdown",
   "metadata": {},
   "source": [
    "## SVM"
   ]
  },
  {
   "cell_type": "code",
   "execution_count": 59,
   "metadata": {},
   "outputs": [],
   "source": [
    "from sklearn.svm import SVC\n",
    "from sklearn.metrics import accuracy_score, make_scorer\n",
    "from scripts.ntk import NTK\n",
    "from sklearn.model_selection import GridSearchCV"
   ]
  },
  {
   "cell_type": "code",
   "execution_count": 60,
   "metadata": {},
   "outputs": [],
   "source": [
    "ntk = NTK(best_model).get_ntk"
   ]
  },
  {
   "cell_type": "code",
   "execution_count": 61,
   "metadata": {},
   "outputs": [],
   "source": [
    "model_base = SVC(kernel=ntk)\n",
    "params = {\n",
    "    'C': np.logspace(-3, 3, 7)\n",
    "}\n",
    "scorer = make_scorer(accuracy_score)"
   ]
  },
  {
   "cell_type": "code",
   "execution_count": 64,
   "metadata": {},
   "outputs": [
    {
     "name": "stdout",
     "output_type": "stream",
     "text": [
      "Fitting 5 folds for each of 7 candidates, totalling 35 fits\n",
      "[CV 3/5] END ...........................C=0.001;, score=0.527 total time=  12.0s\n",
      "[CV 2/5] END ...........................C=0.001;, score=0.572 total time=  12.2s\n",
      "[CV 5/5] END ...........................C=0.001;, score=0.518 total time=  12.3s\n",
      "[CV 1/5] END ...........................C=0.001;, score=0.554 total time=  12.4s\n",
      "[CV 4/5] END ...........................C=0.001;, score=0.546 total time=  12.4s\n",
      "[CV 1/5] END ............................C=0.01;, score=0.600 total time=  11.5s\n",
      "[CV 5/5] END ............................C=0.01;, score=0.549 total time=  11.8s\n",
      "[CV 3/5] END ............................C=0.01;, score=0.558 total time=  12.0s\n",
      "[CV 4/5] END ............................C=0.01;, score=0.593 total time=  12.1s\n",
      "[CV 2/5] END ............................C=0.01;, score=0.609 total time=  12.3s\n",
      "[CV 1/5] END .............................C=0.1;, score=0.634 total time=  11.0s\n",
      "[CV 3/5] END .............................C=0.1;, score=0.582 total time=  11.7s\n",
      "[CV 2/5] END .............................C=0.1;, score=0.645 total time=  12.3s\n",
      "[CV 4/5] END .............................C=0.1;, score=0.654 total time=  12.3s\n",
      "[CV 5/5] END .............................C=0.1;, score=0.592 total time=  12.5s\n",
      "[CV 1/5] END .............................C=1.0;, score=0.709 total time=  11.8s\n",
      "[CV 2/5] END .............................C=1.0;, score=0.760 total time=  11.7s\n",
      "[CV 3/5] END .............................C=1.0;, score=0.671 total time=  12.2s\n",
      "[CV 4/5] END .............................C=1.0;, score=0.721 total time=  13.3s\n",
      "[CV 5/5] END .............................C=1.0;, score=0.696 total time=  13.2s\n",
      "[CV 1/5] END ............................C=10.0;, score=0.777 total time=  12.6s\n",
      "[CV 2/5] END ............................C=10.0;, score=0.832 total time=  12.5s\n",
      "[CV 3/5] END ............................C=10.0;, score=0.763 total time=  12.6s\n",
      "[CV 4/5] END ............................C=10.0;, score=0.818 total time=  13.4s\n",
      "[CV 5/5] END ............................C=10.0;, score=0.765 total time=  13.9s\n",
      "[CV 1/5] END ...........................C=100.0;, score=0.818 total time=  13.8s\n",
      "[CV 3/5] END ...........................C=100.0;, score=0.842 total time=  12.3s\n",
      "[CV 2/5] END ...........................C=100.0;, score=0.868 total time=  14.0s\n",
      "[CV 4/5] END ...........................C=100.0;, score=0.839 total time=  14.0s\n",
      "[CV 5/5] END ...........................C=100.0;, score=0.809 total time=  14.2s\n",
      "[CV 1/5] END ..........................C=1000.0;, score=0.856 total time=  13.9s\n",
      "[CV 3/5] END ..........................C=1000.0;, score=0.873 total time=  14.2s\n",
      "[CV 2/5] END ..........................C=1000.0;, score=0.874 total time=  15.4s\n",
      "[CV 4/5] END ..........................C=1000.0;, score=0.837 total time=  13.7s\n",
      "[CV 5/5] END ..........................C=1000.0;, score=0.858 total time=  13.5s\n"
     ]
    },
    {
     "data": {
      "text/plain": [
       "{'mean_fit_time': array([ 8.53114305,  8.25963769,  8.41696944,  8.74220028,  9.3415092 ,\n",
       "        10.20952868, 10.80746679]),\n",
       " 'std_fit_time': array([0.05142901, 0.22357577, 0.40626035, 0.68599528, 0.71963623,\n",
       "        0.66636705, 0.67545489]),\n",
       " 'mean_score_time': array([3.74027739, 3.69900303, 3.54811735, 3.67932692, 3.6407352 ,\n",
       "        3.45474143, 3.31378608]),\n",
       " 'std_score_time': array([0.16143654, 0.10571274, 0.23753848, 0.2823331 , 0.38085871,\n",
       "        0.08874535, 0.10980251]),\n",
       " 'param_C': masked_array(data=[0.001, 0.01, 0.1, 1.0, 10.0, 100.0, 1000.0],\n",
       "              mask=[False, False, False, False, False, False, False],\n",
       "        fill_value='?',\n",
       "             dtype=object),\n",
       " 'params': [{'C': 0.001},\n",
       "  {'C': 0.01},\n",
       "  {'C': 0.1},\n",
       "  {'C': 1.0},\n",
       "  {'C': 10.0},\n",
       "  {'C': 100.0},\n",
       "  {'C': 1000.0}],\n",
       " 'split0_test_score': array([0.55362615, 0.59959142, 0.63432074, 0.70888662, 0.7773238 ,\n",
       "        0.81818182, 0.85597549]),\n",
       " 'split1_test_score': array([0.57201226, 0.60878447, 0.64453524, 0.75995914, 0.83248212,\n",
       "        0.86823289, 0.87436159]),\n",
       " 'split2_test_score': array([0.52706844, 0.55771195, 0.58222676, 0.67109295, 0.76302349,\n",
       "        0.84167518, 0.87334014]),\n",
       " 'split3_test_score': array([0.546476  , 0.59346272, 0.65372829, 0.72114402, 0.81818182,\n",
       "        0.83861083, 0.83656793]),\n",
       " 'split4_test_score': array([0.51787538, 0.5485189 , 0.59244127, 0.69560776, 0.76506639,\n",
       "        0.80898876, 0.85801839]),\n",
       " 'mean_test_score': array([0.54341164, 0.58161389, 0.62145046, 0.7113381 , 0.79121553,\n",
       "        0.8351379 , 0.85965271]),\n",
       " 'std_test_score': array([0.01924018, 0.02395165, 0.02870694, 0.02943905, 0.02864144,\n",
       "        0.02059787, 0.01380433]),\n",
       " 'rank_test_score': array([7, 6, 5, 4, 3, 2, 1], dtype=int32)}"
      ]
     },
     "execution_count": 64,
     "metadata": {},
     "output_type": "execute_result"
    }
   ],
   "source": [
    "model_cv = GridSearchCV(\n",
    "    estimator=model_base,\n",
    "    param_grid=params,\n",
    "    scoring=scorer,\n",
    "    n_jobs=5,\n",
    "    verbose=3\n",
    ")\n",
    "model_cv.fit(X_train, Y_train.squeeze())\n",
    "model_cv.best_params_"
   ]
  },
  {
   "cell_type": "code",
   "execution_count": 65,
   "metadata": {},
   "outputs": [],
   "source": [
    "model = model_cv.best_estimator_"
   ]
  },
  {
   "cell_type": "code",
   "execution_count": 66,
   "metadata": {},
   "outputs": [
    {
     "data": {
      "text/html": [
       "<style>#sk-container-id-4 {color: black;background-color: white;}#sk-container-id-4 pre{padding: 0;}#sk-container-id-4 div.sk-toggleable {background-color: white;}#sk-container-id-4 label.sk-toggleable__label {cursor: pointer;display: block;width: 100%;margin-bottom: 0;padding: 0.3em;box-sizing: border-box;text-align: center;}#sk-container-id-4 label.sk-toggleable__label-arrow:before {content: \"▸\";float: left;margin-right: 0.25em;color: #696969;}#sk-container-id-4 label.sk-toggleable__label-arrow:hover:before {color: black;}#sk-container-id-4 div.sk-estimator:hover label.sk-toggleable__label-arrow:before {color: black;}#sk-container-id-4 div.sk-toggleable__content {max-height: 0;max-width: 0;overflow: hidden;text-align: left;background-color: #f0f8ff;}#sk-container-id-4 div.sk-toggleable__content pre {margin: 0.2em;color: black;border-radius: 0.25em;background-color: #f0f8ff;}#sk-container-id-4 input.sk-toggleable__control:checked~div.sk-toggleable__content {max-height: 200px;max-width: 100%;overflow: auto;}#sk-container-id-4 input.sk-toggleable__control:checked~label.sk-toggleable__label-arrow:before {content: \"▾\";}#sk-container-id-4 div.sk-estimator input.sk-toggleable__control:checked~label.sk-toggleable__label {background-color: #d4ebff;}#sk-container-id-4 div.sk-label input.sk-toggleable__control:checked~label.sk-toggleable__label {background-color: #d4ebff;}#sk-container-id-4 input.sk-hidden--visually {border: 0;clip: rect(1px 1px 1px 1px);clip: rect(1px, 1px, 1px, 1px);height: 1px;margin: -1px;overflow: hidden;padding: 0;position: absolute;width: 1px;}#sk-container-id-4 div.sk-estimator {font-family: monospace;background-color: #f0f8ff;border: 1px dotted black;border-radius: 0.25em;box-sizing: border-box;margin-bottom: 0.5em;}#sk-container-id-4 div.sk-estimator:hover {background-color: #d4ebff;}#sk-container-id-4 div.sk-parallel-item::after {content: \"\";width: 100%;border-bottom: 1px solid gray;flex-grow: 1;}#sk-container-id-4 div.sk-label:hover label.sk-toggleable__label {background-color: #d4ebff;}#sk-container-id-4 div.sk-serial::before {content: \"\";position: absolute;border-left: 1px solid gray;box-sizing: border-box;top: 0;bottom: 0;left: 50%;z-index: 0;}#sk-container-id-4 div.sk-serial {display: flex;flex-direction: column;align-items: center;background-color: white;padding-right: 0.2em;padding-left: 0.2em;position: relative;}#sk-container-id-4 div.sk-item {position: relative;z-index: 1;}#sk-container-id-4 div.sk-parallel {display: flex;align-items: stretch;justify-content: center;background-color: white;position: relative;}#sk-container-id-4 div.sk-item::before, #sk-container-id-4 div.sk-parallel-item::before {content: \"\";position: absolute;border-left: 1px solid gray;box-sizing: border-box;top: 0;bottom: 0;left: 50%;z-index: -1;}#sk-container-id-4 div.sk-parallel-item {display: flex;flex-direction: column;z-index: 1;position: relative;background-color: white;}#sk-container-id-4 div.sk-parallel-item:first-child::after {align-self: flex-end;width: 50%;}#sk-container-id-4 div.sk-parallel-item:last-child::after {align-self: flex-start;width: 50%;}#sk-container-id-4 div.sk-parallel-item:only-child::after {width: 0;}#sk-container-id-4 div.sk-dashed-wrapped {border: 1px dashed gray;margin: 0 0.4em 0.5em 0.4em;box-sizing: border-box;padding-bottom: 0.4em;background-color: white;}#sk-container-id-4 div.sk-label label {font-family: monospace;font-weight: bold;display: inline-block;line-height: 1.2em;}#sk-container-id-4 div.sk-label-container {text-align: center;}#sk-container-id-4 div.sk-container {/* jupyter's `normalize.less` sets `[hidden] { display: none; }` but bootstrap.min.css set `[hidden] { display: none !important; }` so we also need the `!important` here to be able to override the default hidden behavior on the sphinx rendered scikit-learn.org. See: https://github.com/scikit-learn/scikit-learn/issues/21755 */display: inline-block !important;position: relative;}#sk-container-id-4 div.sk-text-repr-fallback {display: none;}</style><div id=\"sk-container-id-4\" class=\"sk-top-container\"><div class=\"sk-text-repr-fallback\"><pre>SVC(C=1000.0,\n",
       "    kernel=&lt;bound method NTK.get_ntk of &lt;scripts.ntk.NTK object at 0x7f12c0fbb7f0&gt;&gt;)</pre><b>In a Jupyter environment, please rerun this cell to show the HTML representation or trust the notebook. <br />On GitHub, the HTML representation is unable to render, please try loading this page with nbviewer.org.</b></div><div class=\"sk-container\" hidden><div class=\"sk-item\"><div class=\"sk-estimator sk-toggleable\"><input class=\"sk-toggleable__control sk-hidden--visually\" id=\"sk-estimator-id-4\" type=\"checkbox\" checked><label for=\"sk-estimator-id-4\" class=\"sk-toggleable__label sk-toggleable__label-arrow\">SVC</label><div class=\"sk-toggleable__content\"><pre>SVC(C=1000.0,\n",
       "    kernel=&lt;bound method NTK.get_ntk of &lt;scripts.ntk.NTK object at 0x7f12c0fbb7f0&gt;&gt;)</pre></div></div></div></div></div>"
      ],
      "text/plain": [
       "SVC(C=1000.0,\n",
       "    kernel=<bound method NTK.get_ntk of <scripts.ntk.NTK object at 0x7f12c0fbb7f0>>)"
      ]
     },
     "execution_count": 66,
     "metadata": {},
     "output_type": "execute_result"
    }
   ],
   "source": [
    "model.fit(X_train, Y_train.squeeze())"
   ]
  },
  {
   "cell_type": "code",
   "execution_count": 67,
   "metadata": {},
   "outputs": [
    {
     "data": {
      "text/plain": [
       "(0.9867211440245148, 0.8701171875)"
      ]
     },
     "execution_count": 67,
     "metadata": {},
     "output_type": "execute_result"
    }
   ],
   "source": [
    "preds_train, preds_val = model.predict(X_train), model.predict(X_val)\n",
    "score_train, score_val = accuracy_score(Y_train.squeeze(), preds_train), accuracy_score(Y_val.squeeze(), preds_val)\n",
    "score_train, score_val"
   ]
  },
  {
   "cell_type": "code",
   "execution_count": 84,
   "metadata": {},
   "outputs": [],
   "source": [
    "scores = np.array([\n",
    "    accuracy_score(\n",
    "        model.predict(X_test[i]),\n",
    "        Y_test[i].squeeze()\n",
    "    ) for i in range(128)\n",
    "])"
   ]
  },
  {
   "cell_type": "code",
   "execution_count": 85,
   "metadata": {},
   "outputs": [
    {
     "data": {
      "text/plain": [
       "Text(0.5, 1.0, 'Score vs no. of points for each orthant')"
      ]
     },
     "execution_count": 85,
     "metadata": {},
     "output_type": "execute_result"
    },
    {
     "data": {
      "image/png": "[encoded data removed]",
      "text/plain": [
       "<Figure size 650x600 with 1 Axes>"
      ]
     },
     "metadata": {},
     "output_type": "display_data"
    }
   ],
   "source": [
    "plt.figure(figsize=(6.5, 6))\n",
    "plt.scatter(orthant_counts, scores)\n",
    "plt.xlabel('Number of points')\n",
    "plt.ylabel('Binary accuracy')\n",
    "plt.title('Score vs no. of points for each orthant')"
   ]
  },
  {
   "cell_type": "code",
   "execution_count": 86,
   "metadata": {},
   "outputs": [
    {
     "data": {
      "text/plain": [
       "0.5045467567022635"
      ]
     },
     "execution_count": 86,
     "metadata": {},
     "output_type": "execute_result"
    }
   ],
   "source": [
    "from scipy.stats import pearsonr\n",
    "\n",
    "pearsonr(orthant_counts, scores).statistic"
   ]
  },
  {
   "cell_type": "code",
   "execution_count": 87,
   "metadata": {},
   "outputs": [
    {
     "data": {
      "text/plain": [
       "0.84991455078125"
      ]
     },
     "execution_count": 87,
     "metadata": {},
     "output_type": "execute_result"
    }
   ],
   "source": [
    "scores.mean()"
   ]
  },
  {
   "cell_type": "code",
   "execution_count": 88,
   "metadata": {},
   "outputs": [
    {
     "name": "stdout",
     "output_type": "stream",
     "text": [
      "Performance in rare orthants:  0.78515625\n",
      "Performance in typical orthants:  0.8715006510416666\n"
     ]
    }
   ],
   "source": [
    "print('Performance in rare orthants: ', scores[LOW_ORTHANT_INDICES].mean())\n",
    "print('Performance in typical orthants: ', scores[HIGH_ORTHANT_INDICES].mean())"
   ]
  }
 ],
 "metadata": {
  "kernelspec": {
   "display_name": "Python 3",
   "language": "python",
   "name": "python3"
  },
  "language_info": {
   "codemirror_mode": {
    "name": "ipython",
    "version": 3
   },
   "file_extension": ".py",
   "mimetype": "text/x-python",
   "name": "python",
   "nbconvert_exporter": "python",
   "pygments_lexer": "ipython3",
   "version": "3.10.6"
  },
  "orig_nbformat": 4,
  "vscode": {
   "interpreter": {
    "hash": "916dbcbb3f70747c44a77c7bcd40155683ae19c65e1c03b4aa3499c5328201f1"
   }
  }
 },
 "nbformat": 4,
 "nbformat_minor": 2
}
