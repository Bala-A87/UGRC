{
 "cells": [
  {
   "attachments": {},
   "cell_type": "markdown",
   "metadata": {},
   "source": [
    "## Goal"
   ]
  },
  {
   "attachments": {},
   "cell_type": "markdown",
   "metadata": {},
   "source": [
    "To produce datapoints in 7d space by building 7-spheres in all orthants (2 concentric spheres of radii, say, 1 and 2 in all orthants,\n",
    "centered at say, a distance of 4 from all axes) in a non-uniform fashion, i.e., some orthants would have fewer points and some more points\n",
    "(say, 25% of the orthants have fewer points, perhaps ~25 points in most orthants and ~4 points in the rarer orthants).\n",
    "\n",
    "We wish to determine the performance of a neural network for different orthants - does it perform equally well or similar in all orthants,\n",
    "determining that there is symmetry present in the data? Or does it fail to do so, doing well only in the orthants with more data? We use a\n",
    "validation set of say, 4 points per orthant to quantify each orthant's performance."
   ]
  },
  {
   "attachments": {},
   "cell_type": "markdown",
   "metadata": {},
   "source": [
    "## Data"
   ]
  },
  {
   "attachments": {},
   "cell_type": "markdown",
   "metadata": {},
   "source": [
    "### Defining constants"
   ]
  },
  {
   "cell_type": "code",
   "execution_count": 10,
   "metadata": {},
   "outputs": [],
   "source": [
    "import torch\n",
    "import numpy as np\n",
    "import matplotlib.pyplot as plt\n",
    "from sklearn.model_selection import train_test_split"
   ]
  },
  {
   "cell_type": "code",
   "execution_count": 6,
   "metadata": {},
   "outputs": [
    {
     "data": {
      "text/plain": [
       "torch.Size([128, 7])"
      ]
     },
     "execution_count": 6,
     "metadata": {},
     "output_type": "execute_result"
    }
   ],
   "source": [
    "SIGNS = [-1., 1.] \n",
    "\n",
    "ORTHANTS = torch.stack(\n",
    "    [torch.tensor([s1, s2, s3, s4, s5, s6, s7])\n",
    "    for s1 in SIGNS\n",
    "    for s2 in SIGNS\n",
    "    for s3 in SIGNS\n",
    "    for s4 in SIGNS\n",
    "    for s5 in SIGNS\n",
    "    for s6 in SIGNS\n",
    "    for s7 in SIGNS])   # Representing each orthant as the sign of each of its 7 coordinates/wrt each of its 7 axes\n",
    "ORTHANTS.shape"
   ]
  },
  {
   "cell_type": "code",
   "execution_count": 64,
   "metadata": {},
   "outputs": [],
   "source": [
    "LOW_COUNT = 4   # Average no. of points in a \"rare\" orthant\n",
    "HIGH_COUNT = 25 # Average no. of points in a \"typical\" orthant\n",
    "LOW_SPREAD = 2  # Allowed unidirectional deviation for no. of points in a \"rare\" orthant (i.e., 2 to 6 points)\n",
    "HIGH_SPREAD = 8 # Allowed unidirectional deviation for no. of points in a \"typical\" orthant (i.e., 17 to 33 points)\n",
    "VAL_COUNT = 4   # Validation data points per orthant\n",
    "TEST_COUNT = 10 # Test data points per orthant, for final pattern\n",
    "LOW_FRAC = 0.25 # Number of \"rare\" orthants"
   ]
  },
  {
   "cell_type": "code",
   "execution_count": 12,
   "metadata": {},
   "outputs": [
    {
     "data": {
      "text/plain": [
       "(torch.Size([96, 7]), torch.Size([32, 7]))"
      ]
     },
     "execution_count": 12,
     "metadata": {},
     "output_type": "execute_result"
    }
   ],
   "source": [
    "HIGH_ORTHANTS, LOW_ORTHANTS = train_test_split(ORTHANTS, test_size=LOW_FRAC)\n",
    "# Randomly choosing the \"rare\" orthants\n",
    "HIGH_ORTHANTS.shape, LOW_ORTHANTS.shape"
   ]
  },
  {
   "cell_type": "code",
   "execution_count": 14,
   "metadata": {},
   "outputs": [
    {
     "data": {
      "text/plain": [
       "tensor([4., 4., 4., 4., 4., 4., 4.])"
      ]
     },
     "execution_count": 14,
     "metadata": {},
     "output_type": "execute_result"
    }
   ],
   "source": [
    "CENTRE = 4 * torch.ones(7)\n",
    "# The centre of the 7-spheres, without orthant-specificity, which can be included using ORTHANTS\n",
    "CENTRE"
   ]
  },
  {
   "cell_type": "code",
   "execution_count": 15,
   "metadata": {},
   "outputs": [],
   "source": [
    "LOW_RADIUS = 1. # Radius of the inner sphere (say, label 0) in each orthant\n",
    "HIGH_RADIUS = 2.    # Radius of the outer sphere (say, label 1) in each orthant"
   ]
  },
  {
   "attachments": {},
   "cell_type": "markdown",
   "metadata": {},
   "source": [
    "### Data generation"
   ]
  },
  {
   "attachments": {},
   "cell_type": "markdown",
   "metadata": {},
   "source": [
    "Now, we describe a 7-sphere using the standard notation. <br>\n",
    "Say, it is centered at $C = (C_1, C_2, ..., C_7)$ and has radius $r$. Each point can be described with the help of 6 angles, <br>\n",
    "$\\phi_1$, $\\phi_2$, $\\phi_3$, $\\phi_4$, $\\phi_5$, and $\\phi_6$, where $\\phi_6 \\in [0, 2\\pi)$ and $\\phi_1, ..., \\phi_5 \\in [0, \\pi]$ <br>\n",
    "Any point $x = (x_1, x_2, ..., x_7)$ on the sphere can be described as follows: <br>\n",
    "$x_1 = C_1 + r\\cos(\\phi_1)$ <br>\n",
    "$x_2 = C_2 + r\\sin(\\phi_1)\\cos(\\phi_2)$ <br>\n",
    "$x_3 = C_3 + r\\sin(\\phi_1)\\sin(\\phi_2)\\cos(\\phi_3)$ <br>\n",
    "$x_4 = C_4 + r\\sin(\\phi_1)\\sin(\\phi_2)\\sin(\\phi_3)\\cos(\\phi_4)$ <br>\n",
    "$x_5 = C_5 + r\\sin(\\phi_1)\\sin(\\phi_2)\\sin(\\phi_3)\\sin(\\phi_4)\\cos(\\phi_5)$ <br>\n",
    "$x_6 = C_6 + r\\sin(\\phi_1)\\sin(\\phi_2)\\sin(\\phi_3)\\sin(\\phi_4)\\sin(\\phi_5)\\cos(\\phi_6)$ <br>\n",
    "$x_7 = C_7 + r\\sin(\\phi_1)\\sin(\\phi_2)\\sin(\\phi_3)\\sin(\\phi_4)\\sin(\\phi_5)\\sin(\\phi_6)$\n",
    "<br>\n",
    "\n",
    "Hence, each datapoint will be sampled by randomly generating the 6 angles from appropriate uniform distributions and \n",
    "performing the mentioned transformation"
   ]
  },
  {
   "cell_type": "code",
   "execution_count": 16,
   "metadata": {},
   "outputs": [],
   "source": [
    "def generate_point(\n",
    "    radius: float,\n",
    "    orthant: torch.Tensor\n",
    ") -> torch.Tensor:\n",
    "    \"\"\"\n",
    "    Generates a point on a 7-sphere of centre orthant * CENTRE (global) with radius radius, where\n",
    "    orthant denotes the signs wrt all 7 axes\n",
    "\n",
    "    Args:\n",
    "        radius (float): radius of the 7-sphere\n",
    "        orthant (torch.Tensor): signs wrt the 7 axes for the resulting point, of shape (7,)\n",
    "    \n",
    "    Returns:\n",
    "        x (torch.Tensor): a point on the specified sphere, of shape (7,)\n",
    "    \n",
    "    Example usage:\n",
    "    >>> generate_point(2, tensor([1., 1., 1., 1., 1., 1., 1.]))\n",
    "    tensor([2., 4., 4., 4., 4., 4., 4.])\n",
    "    \"\"\"\n",
    "    phi = torch.rand((6,)) * torch.pi\n",
    "    phi[5] *= 2\n",
    "    diff_unit = torch.tensor([\n",
    "        torch.cos(phi[0]),\n",
    "        torch.sin(phi[0])*torch.cos(phi[1]),\n",
    "        torch.sin(phi[0])*torch.sin(phi[1])*torch.cos(phi[2]),\n",
    "        torch.sin(phi[0])*torch.sin(phi[1])*torch.sin(phi[2])*torch.cos(phi[3]),\n",
    "        torch.sin(phi[0])*torch.sin(phi[1])*torch.sin(phi[2])*torch.sin(phi[3])*torch.cos(phi[4]),\n",
    "        torch.sin(phi[0])*torch.sin(phi[1])*torch.sin(phi[2])*torch.sin(phi[3])*torch.sin(phi[4])*torch.cos(phi[5]),\n",
    "        torch.sin(phi[0])*torch.sin(phi[1])*torch.sin(phi[2])*torch.sin(phi[3])*torch.sin(phi[4])*torch.sin(phi[5])\n",
    "    ])\n",
    "    return torch.mul(CENTRE + radius * diff_unit, orthant)\n",
    "    "
   ]
  },
  {
   "cell_type": "code",
   "execution_count": 30,
   "metadata": {},
   "outputs": [
    {
     "data": {
      "text/plain": [
       "(tensor([-5.0321, -2.6003, -4.9444, -3.9641, -3.8374, -4.2178, -4.0930]),\n",
       " tensor(2.0000))"
      ]
     },
     "execution_count": 30,
     "metadata": {},
     "output_type": "execute_result"
    }
   ],
   "source": [
    "# Testing correctness\n",
    "\n",
    "random_point = generate_point(2, ORTHANTS[0])\n",
    "random_point, ((random_point - ORTHANTS[0]*CENTRE)**2).sum().sqrt()"
   ]
  },
  {
   "attachments": {},
   "cell_type": "markdown",
   "metadata": {},
   "source": [
    "#### Train data"
   ]
  },
  {
   "cell_type": "code",
   "execution_count": 37,
   "metadata": {},
   "outputs": [
    {
     "data": {
      "text/plain": [
       "(torch.Size([108, 7]),\n",
       " torch.Size([116, 7]),\n",
       " torch.Size([2297, 7]),\n",
       " torch.Size([2377, 7]))"
      ]
     },
     "execution_count": 37,
     "metadata": {},
     "output_type": "execute_result"
    }
   ],
   "source": [
    "X_train_low_0 = torch.cat([\n",
    "    torch.cat([\n",
    "        generate_point(1, orthant).reshape(1, -1) for i in range(int((2*torch.rand(1) - 1) * LOW_SPREAD + LOW_COUNT))\n",
    "    ]) for orthant in LOW_ORTHANTS\n",
    "])\n",
    "X_train_low_1 = torch.cat([\n",
    "    torch.cat([\n",
    "        generate_point(2, orthant).reshape(1, -1) for i in range(int((2*torch.rand(1) - 1) * LOW_SPREAD + LOW_COUNT))\n",
    "    ]) for orthant in LOW_ORTHANTS\n",
    "])\n",
    "X_train_high_0 = torch.cat([\n",
    "    torch.cat([\n",
    "        generate_point(1, orthant).reshape(1, -1) for i in range(int((2*torch.rand(1) - 1) * HIGH_SPREAD + HIGH_COUNT))\n",
    "    ]) for orthant in HIGH_ORTHANTS\n",
    "])\n",
    "X_train_high_1 = torch.cat([\n",
    "    torch.cat([\n",
    "        generate_point(2, orthant).reshape(1, -1) for i in range(int((2*torch.rand(1) - 1) * HIGH_SPREAD + HIGH_COUNT))\n",
    "    ]) for orthant in HIGH_ORTHANTS\n",
    "])\n",
    "X_train_low_0.shape, X_train_low_1.shape, X_train_high_0.shape, X_train_high_1.shape"
   ]
  },
  {
   "cell_type": "code",
   "execution_count": 39,
   "metadata": {},
   "outputs": [
    {
     "data": {
      "text/plain": [
       "(torch.Size([108, 1]),\n",
       " torch.Size([116, 1]),\n",
       " torch.Size([2297, 1]),\n",
       " torch.Size([2377, 1]))"
      ]
     },
     "execution_count": 39,
     "metadata": {},
     "output_type": "execute_result"
    }
   ],
   "source": [
    "Y_train_low_0 = torch.zeros(len(X_train_low_0), 1)\n",
    "Y_train_low_1 = torch.ones(len(X_train_low_1), 1)\n",
    "Y_train_high_0 = torch.zeros(len(X_train_high_0), 1)\n",
    "Y_train_high_1 = torch.ones(len(X_train_high_1), 1)\n",
    "Y_train_low_0.shape, Y_train_low_1.shape, Y_train_high_0.shape, Y_train_high_1.shape"
   ]
  },
  {
   "cell_type": "code",
   "execution_count": 40,
   "metadata": {},
   "outputs": [
    {
     "data": {
      "text/plain": [
       "(torch.Size([4898, 7]), torch.Size([4898, 1]))"
      ]
     },
     "execution_count": 40,
     "metadata": {},
     "output_type": "execute_result"
    }
   ],
   "source": [
    "X_train = torch.cat([\n",
    "    X_train_low_0,\n",
    "    X_train_low_1,\n",
    "    X_train_high_0,\n",
    "    X_train_high_1\n",
    "])\n",
    "Y_train = torch.cat([\n",
    "    Y_train_low_0,\n",
    "    Y_train_low_1,\n",
    "    Y_train_high_0,\n",
    "    Y_train_high_1\n",
    "])\n",
    "X_train.shape, Y_train.shape"
   ]
  },
  {
   "cell_type": "code",
   "execution_count": 53,
   "metadata": {},
   "outputs": [],
   "source": [
    "def find_orthant(point: torch.Tensor) -> int:\n",
    "    \"\"\"\n",
    "    Given a point, determines the orthant it lies in as an index of ORTHANTS\n",
    "\n",
    "    Args:\n",
    "        point (torch.Tensor): A random point in 7d space, a tensor of shape (7,)\n",
    "    \n",
    "    Returns:\n",
    "        orthant_no (int): The index of ORTHANTS corresponding to the orthant point lies in\n",
    "            i.e., orthant_no satisfies ORTHANTS[orthant_no] == torch.sign(point)\n",
    "    \n",
    "    Example usage:\n",
    "    >>> find_orthant(tensor([1., 3., -2., -4., 3., 2.2, -9.]))\n",
    "    102\n",
    "    \"\"\"\n",
    "    orthant_no = 0\n",
    "    for dim in point:\n",
    "        orthant_no *= 2\n",
    "        if dim > 0:\n",
    "            orthant_no += 1\n",
    "    return int(orthant_no)"
   ]
  },
  {
   "cell_type": "code",
   "execution_count": 59,
   "metadata": {},
   "outputs": [
    {
     "data": {
      "text/plain": [
       "[<matplotlib.lines.Line2D at 0x7fe175ea4310>]"
      ]
     },
     "execution_count": 59,
     "metadata": {},
     "output_type": "execute_result"
    },
    {
     "data": {
      "image/png": "[encoded data removed]",
      "text/plain": [
       "<Figure size 640x480 with 1 Axes>"
      ]
     },
     "metadata": {},
     "output_type": "display_data"
    }
   ],
   "source": [
    "orthant_counts = torch.zeros(128)\n",
    "for x in X_train:\n",
    "    orthant_counts[find_orthant(x)] += 1\n",
    "plt.plot(range(128), torch.sort(orthant_counts).values)"
   ]
  },
  {
   "attachments": {},
   "cell_type": "markdown",
   "metadata": {},
   "source": [
    "#### Validation data"
   ]
  },
  {
   "cell_type": "code",
   "execution_count": 67,
   "metadata": {},
   "outputs": [
    {
     "data": {
      "text/plain": [
       "(torch.Size([512, 7]),\n",
       " torch.Size([512, 7]),\n",
       " torch.Size([512, 1]),\n",
       " torch.Size([512, 1]))"
      ]
     },
     "execution_count": 67,
     "metadata": {},
     "output_type": "execute_result"
    }
   ],
   "source": [
    "X_val_0 = torch.cat([\n",
    "    torch.cat([\n",
    "        generate_point(1, orthant).reshape(1, -1) for i in range(VAL_COUNT)\n",
    "    ]) for orthant in ORTHANTS\n",
    "])\n",
    "X_val_1 = torch.cat([\n",
    "    torch.cat([\n",
    "        generate_point(2, orthant).reshape(1, -1) for i in range(VAL_COUNT)\n",
    "    ]) for orthant in ORTHANTS\n",
    "])\n",
    "Y_val_0 = torch.zeros(len(X_val_0), 1)\n",
    "Y_val_1 = torch.ones(len(X_val_1), 1)\n",
    "X_val_0.shape, X_val_1.shape, Y_val_0.shape, Y_val_1.shape"
   ]
  },
  {
   "cell_type": "code",
   "execution_count": 68,
   "metadata": {},
   "outputs": [
    {
     "data": {
      "text/plain": [
       "(torch.Size([1024, 7]), torch.Size([1024, 1]))"
      ]
     },
     "execution_count": 68,
     "metadata": {},
     "output_type": "execute_result"
    }
   ],
   "source": [
    "X_val = torch.cat([X_val_0, X_val_1])\n",
    "Y_val = torch.cat([Y_val_0, Y_val_1])\n",
    "X_val.shape, Y_val.shape"
   ]
  },
  {
   "attachments": {},
   "cell_type": "markdown",
   "metadata": {},
   "source": [
    "#### Test data"
   ]
  },
  {
   "cell_type": "code",
   "execution_count": 69,
   "metadata": {},
   "outputs": [
    {
     "data": {
      "text/plain": [
       "(torch.Size([1280, 7]),\n",
       " torch.Size([1280, 7]),\n",
       " torch.Size([1280, 1]),\n",
       " torch.Size([1280, 1]))"
      ]
     },
     "execution_count": 69,
     "metadata": {},
     "output_type": "execute_result"
    }
   ],
   "source": [
    "X_test_0 = torch.cat([\n",
    "    torch.cat([\n",
    "        generate_point(1, orthant).reshape(1, -1) for i in range(TEST_COUNT)\n",
    "    ]) for orthant in ORTHANTS\n",
    "])\n",
    "X_test_1 = torch.cat([\n",
    "    torch.cat([\n",
    "        generate_point(2, orthant).reshape(1, -1) for i in range(TEST_COUNT)\n",
    "    ]) for orthant in ORTHANTS\n",
    "])\n",
    "Y_test_0 = torch.zeros(len(X_test_0), 1)\n",
    "Y_test_1 = torch.ones(len(X_test_1), 1)\n",
    "X_test_0.shape, X_test_1.shape, Y_test_0.shape, Y_test_1.shape"
   ]
  },
  {
   "cell_type": "code",
   "execution_count": 70,
   "metadata": {},
   "outputs": [
    {
     "data": {
      "text/plain": [
       "(torch.Size([2560, 7]), torch.Size([2560, 1]))"
      ]
     },
     "execution_count": 70,
     "metadata": {},
     "output_type": "execute_result"
    }
   ],
   "source": [
    "X_test = torch.cat([X_test_0, X_test_1])\n",
    "Y_test = torch.cat([Y_test_0, Y_test_1])\n",
    "X_test.shape, Y_test.shape"
   ]
  },
  {
   "cell_type": "code",
   "execution_count": null,
   "metadata": {},
   "outputs": [],
   "source": []
  }
 ],
 "metadata": {
  "kernelspec": {
   "display_name": "Python 3",
   "language": "python",
   "name": "python3"
  },
  "language_info": {
   "codemirror_mode": {
    "name": "ipython",
    "version": 3
   },
   "file_extension": ".py",
   "mimetype": "text/x-python",
   "name": "python",
   "nbconvert_exporter": "python",
   "pygments_lexer": "ipython3",
   "version": "3.10.6"
  },
  "orig_nbformat": 4,
  "vscode": {
   "interpreter": {
    "hash": "916dbcbb3f70747c44a77c7bcd40155683ae19c65e1c03b4aa3499c5328201f1"
   }
  }
 },
 "nbformat": 4,
 "nbformat_minor": 2
}
