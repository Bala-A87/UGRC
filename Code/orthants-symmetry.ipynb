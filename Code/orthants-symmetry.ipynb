{
 "cells": [
  {
   "attachments": {},
   "cell_type": "markdown",
   "metadata": {},
   "source": [
    "## Goal"
   ]
  },
  {
   "attachments": {},
   "cell_type": "markdown",
   "metadata": {},
   "source": [
    "To produce datapoints in 7d space by building 7-spheres in all orthants (2 concentric spheres of radii, say, 1 and 2 in all orthants,\n",
    "centered at say, a distance of 4 from all axes) in a non-uniform fashion, i.e., some orthants would have fewer points and some more points\n",
    "(say, 25% of the orthants have fewer points, perhaps ~25 points in most orthants and ~4 points in the rarer orthants).\n",
    "\n",
    "We wish to determine the performance of a neural network for different orthants - does it perform equally well or similar in all orthants,\n",
    "determining that there is symmetry present in the data? Or does it fail to do so, doing well only in the orthants with more data? We use a\n",
    "test set of say, 128 points per orthant to quantify each orthant's performance."
   ]
  },
  {
   "attachments": {},
   "cell_type": "markdown",
   "metadata": {},
   "source": [
    "## Data"
   ]
  },
  {
   "attachments": {},
   "cell_type": "markdown",
   "metadata": {},
   "source": [
    "### Defining constants"
   ]
  },
  {
   "cell_type": "code",
   "execution_count": 1,
   "metadata": {},
   "outputs": [],
   "source": [
    "import torch\n",
    "import numpy as np\n",
    "import matplotlib.pyplot as plt\n",
    "from sklearn.model_selection import train_test_split"
   ]
  },
  {
   "cell_type": "code",
   "execution_count": 3,
   "metadata": {},
   "outputs": [],
   "source": [
    "LOW_COUNT = 4   # Average no. of points in a \"rare\" orthant\n",
    "HIGH_COUNT = 25 # Average no. of points in a \"typical\" orthant\n",
    "LOW_SPREAD = 2  # Allowed unidirectional deviation for no. of points in a \"rare\" orthant (i.e., 2 to 6 points)\n",
    "HIGH_SPREAD = 8 # Allowed unidirectional deviation for no. of points in a \"typical\" orthant (i.e., 17 to 33 points)\n",
    "VAL_COUNT = 4   # Validation data points per orthant\n",
    "TEST_COUNT = 64 # Test data points per orthant, for final pattern\n",
    "LOW_FRAC = 0.25 # Fraction of \"rare\" orthants\n",
    "ZERO_FRAC = 0.25    # Fraction of empty orthants from rare orthants"
   ]
  },
  {
   "cell_type": "code",
   "execution_count": 73,
   "metadata": {},
   "outputs": [
    {
     "data": {
      "text/plain": [
       "tensor([4., 4., 4., 4., 4., 4., 4.])"
      ]
     },
     "execution_count": 73,
     "metadata": {},
     "output_type": "execute_result"
    }
   ],
   "source": [
    "CENTRE = 4 * torch.ones(7)\n",
    "# The centre of the 7-spheres, without orthant-specificity, which can be included using ORTHANTS\n",
    "CENTRE"
   ]
  },
  {
   "cell_type": "code",
   "execution_count": 6,
   "metadata": {},
   "outputs": [],
   "source": [
    "LOW_RADIUS = 1. # Radius of the inner sphere (say, label 0) in each orthant\n",
    "HIGH_RADIUS = 2.    # Radius of the outer sphere (say, label 1) in each orthant"
   ]
  },
  {
   "attachments": {},
   "cell_type": "markdown",
   "metadata": {},
   "source": [
    "### Data generation"
   ]
  },
  {
   "attachments": {},
   "cell_type": "markdown",
   "metadata": {},
   "source": [
    "Now, we describe a 7-sphere using the standard notation. <br>\n",
    "Say, it is centered at $C = (C_1, C_2, ..., C_7)$ and has radius $r$. Each point can be described with the help of 6 angles, <br>\n",
    "$\\phi_1$, $\\phi_2$, $\\phi_3$, $\\phi_4$, $\\phi_5$, and $\\phi_6$, where $\\phi_6 \\in [0, 2\\pi)$ and $\\phi_1, ..., \\phi_5 \\in [0, \\pi]$ <br>\n",
    "Any point $x = (x_1, x_2, ..., x_7)$ on the sphere can be described as follows: <br>\n",
    "$x_1 = C_1 + r\\cos(\\phi_1)$ <br>\n",
    "$x_2 = C_2 + r\\sin(\\phi_1)\\cos(\\phi_2)$ <br>\n",
    "$x_3 = C_3 + r\\sin(\\phi_1)\\sin(\\phi_2)\\cos(\\phi_3)$ <br>\n",
    "$x_4 = C_4 + r\\sin(\\phi_1)\\sin(\\phi_2)\\sin(\\phi_3)\\cos(\\phi_4)$ <br>\n",
    "$x_5 = C_5 + r\\sin(\\phi_1)\\sin(\\phi_2)\\sin(\\phi_3)\\sin(\\phi_4)\\cos(\\phi_5)$ <br>\n",
    "$x_6 = C_6 + r\\sin(\\phi_1)\\sin(\\phi_2)\\sin(\\phi_3)\\sin(\\phi_4)\\sin(\\phi_5)\\cos(\\phi_6)$ <br>\n",
    "$x_7 = C_7 + r\\sin(\\phi_1)\\sin(\\phi_2)\\sin(\\phi_3)\\sin(\\phi_4)\\sin(\\phi_5)\\sin(\\phi_6)$\n",
    "<br>\n",
    "\n",
    "Hence, each datapoint will be sampled by randomly generating the 6 angles from appropriate uniform distributions and \n",
    "performing the mentioned transformation"
   ]
  },
  {
   "attachments": {},
   "cell_type": "markdown",
   "metadata": {},
   "source": [
    "#### Train data"
   ]
  },
  {
   "cell_type": "code",
   "execution_count": 17,
   "metadata": {},
   "outputs": [],
   "source": [
    "from scripts.data.orthants import generate_train_data, generate_test_data, generate_flips"
   ]
  },
  {
   "cell_type": "code",
   "execution_count": 18,
   "metadata": {},
   "outputs": [],
   "source": [
    "flips = generate_flips(0.2)"
   ]
  },
  {
   "cell_type": "code",
   "execution_count": 19,
   "metadata": {},
   "outputs": [
    {
     "data": {
      "text/plain": [
       "(torch.Size([4835, 7]), torch.Size([4835, 1]))"
      ]
     },
     "execution_count": 19,
     "metadata": {},
     "output_type": "execute_result"
    }
   ],
   "source": [
    "X_training, Y_training, orthant_counts = generate_train_data()\n",
    "X_training.shape, Y_training.shape"
   ]
  },
  {
   "cell_type": "code",
   "execution_count": 20,
   "metadata": {},
   "outputs": [
    {
     "data": {
      "text/plain": [
       "[<matplotlib.lines.Line2D at 0x7fe2c440c130>]"
      ]
     },
     "execution_count": 20,
     "metadata": {},
     "output_type": "execute_result"
    },
    {
     "data": {
      "image/png": "[encoded data removed]",
      "text/plain": [
       "<Figure size 640x480 with 1 Axes>"
      ]
     },
     "metadata": {},
     "output_type": "display_data"
    }
   ],
   "source": [
    "plt.plot(range(128), torch.sort(orthant_counts).values)"
   ]
  },
  {
   "cell_type": "code",
   "execution_count": 21,
   "metadata": {},
   "outputs": [
    {
     "data": {
      "text/plain": [
       "(8, 24, 96)"
      ]
     },
     "execution_count": 21,
     "metadata": {},
     "output_type": "execute_result"
    }
   ],
   "source": [
    "ZERO_ORTHANT_INDICES, LOW_ORTHANT_INDICES, HIGH_ORTHANT_INDICES = [], [], []\n",
    "for i in range(128):\n",
    "    if orthant_counts[i] == 0:\n",
    "        ZERO_ORTHANT_INDICES.append(i)\n",
    "    elif orthant_counts[i] <= 10: # make it better!!\n",
    "        LOW_ORTHANT_INDICES.append(i)\n",
    "    else:\n",
    "        HIGH_ORTHANT_INDICES.append(i)\n",
    "len(ZERO_ORTHANT_INDICES), len(LOW_ORTHANT_INDICES), len(HIGH_ORTHANT_INDICES)"
   ]
  },
  {
   "cell_type": "code",
   "execution_count": 22,
   "metadata": {},
   "outputs": [
    {
     "data": {
      "text/plain": [
       "(8, 24, 96)"
      ]
     },
     "execution_count": 22,
     "metadata": {},
     "output_type": "execute_result"
    }
   ],
   "source": [
    "ZERO_ORTHANT_INDICES_FLIP, LOW_ORTHANT_INDICES_FLIP, HIGH_ORTHANT_INDICES_FLIP = [], [], []\n",
    "for i in range(128):\n",
    "    if orthant_counts[i] == 0:\n",
    "        ZERO_ORTHANT_INDICES_FLIP.append(i)\n",
    "    elif orthant_counts[i] <= 10: # make it better!!\n",
    "        LOW_ORTHANT_INDICES_FLIP.append(i)\n",
    "    else:\n",
    "        HIGH_ORTHANT_INDICES_FLIP.append(i)\n",
    "len(ZERO_ORTHANT_INDICES_FLIP), len(LOW_ORTHANT_INDICES_FLIP), len(HIGH_ORTHANT_INDICES_FLIP)"
   ]
  },
  {
   "cell_type": "code",
   "execution_count": 23,
   "metadata": {},
   "outputs": [
    {
     "data": {
      "text/plain": [
       "(torch.Size([4948, 7]),\n",
       " torch.Size([4948, 1]),\n",
       " tensor(23., dtype=torch.float64))"
      ]
     },
     "execution_count": 23,
     "metadata": {},
     "output_type": "execute_result"
    }
   ],
   "source": [
    "X_training_flip, Y_training_flip, orthant_counts_flip = generate_train_data(flips=flips)\n",
    "X_training_flip.shape, Y_training_flip.shape, flips.sum()"
   ]
  },
  {
   "attachments": {},
   "cell_type": "markdown",
   "metadata": {},
   "source": [
    "#### Train-Validation split"
   ]
  },
  {
   "cell_type": "code",
   "execution_count": 24,
   "metadata": {},
   "outputs": [
    {
     "data": {
      "text/plain": [
       "(torch.Size([3868, 7]),\n",
       " torch.Size([967, 7]),\n",
       " torch.Size([3868, 1]),\n",
       " torch.Size([967, 1]))"
      ]
     },
     "execution_count": 24,
     "metadata": {},
     "output_type": "execute_result"
    }
   ],
   "source": [
    "X_train, X_val, Y_train, Y_val = train_test_split(X_training, Y_training, test_size=0.2)\n",
    "X_train.shape, X_val.shape, Y_train.shape, Y_val.shape"
   ]
  },
  {
   "cell_type": "code",
   "execution_count": 25,
   "metadata": {},
   "outputs": [
    {
     "data": {
      "text/plain": [
       "(torch.Size([3958, 7]),\n",
       " torch.Size([990, 7]),\n",
       " torch.Size([3958, 1]),\n",
       " torch.Size([990, 1]))"
      ]
     },
     "execution_count": 25,
     "metadata": {},
     "output_type": "execute_result"
    }
   ],
   "source": [
    "X_train_flip, X_val_flip, Y_train_flip, Y_val_flip = train_test_split(X_training_flip, Y_training_flip, test_size=0.2)\n",
    "X_train_flip.shape, X_val_flip.shape, Y_train_flip.shape, Y_val_flip.shape"
   ]
  },
  {
   "attachments": {},
   "cell_type": "markdown",
   "metadata": {},
   "source": [
    "#### Test data"
   ]
  },
  {
   "cell_type": "code",
   "execution_count": 28,
   "metadata": {},
   "outputs": [
    {
     "data": {
      "text/plain": [
       "(torch.Size([128, 128, 7]), torch.Size([128, 128, 1]))"
      ]
     },
     "execution_count": 28,
     "metadata": {},
     "output_type": "execute_result"
    }
   ],
   "source": [
    "X_test, Y_test = generate_test_data()\n",
    "X_test.shape, Y_test.shape"
   ]
  },
  {
   "cell_type": "code",
   "execution_count": 29,
   "metadata": {},
   "outputs": [
    {
     "data": {
      "text/plain": [
       "(torch.Size([128, 128, 7]),\n",
       " torch.Size([128, 128, 1]),\n",
       " tensor(23., dtype=torch.float64))"
      ]
     },
     "execution_count": 29,
     "metadata": {},
     "output_type": "execute_result"
    }
   ],
   "source": [
    "X_test_flip, Y_test_flip = generate_test_data(flips=flips)\n",
    "X_test_flip.shape, Y_test_flip.shape, flips.sum()"
   ]
  },
  {
   "attachments": {},
   "cell_type": "markdown",
   "metadata": {},
   "source": [
    "#### Data for hyperparameter tuning"
   ]
  },
  {
   "cell_type": "code",
   "execution_count": 30,
   "metadata": {},
   "outputs": [
    {
     "data": {
      "text/plain": [
       "(torch.Size([773, 7]),\n",
       " torch.Size([193, 7]),\n",
       " torch.Size([773, 1]),\n",
       " torch.Size([193, 1]))"
      ]
     },
     "execution_count": 30,
     "metadata": {},
     "output_type": "execute_result"
    }
   ],
   "source": [
    "from sklearn.utils import resample\n",
    "\n",
    "X_train_cv, Y_train_cv = resample(X_train, Y_train, replace=False, n_samples=len(X_train)//5)\n",
    "X_val_cv, Y_val_cv = resample(X_val, Y_val, replace=False, n_samples=len(X_val)//5)\n",
    "X_train_cv.shape, X_val_cv.shape, Y_train_cv.shape, Y_val_cv.shape"
   ]
  },
  {
   "cell_type": "code",
   "execution_count": 31,
   "metadata": {},
   "outputs": [
    {
     "data": {
      "text/plain": [
       "(torch.Size([791, 7]),\n",
       " torch.Size([198, 7]),\n",
       " torch.Size([791, 1]),\n",
       " torch.Size([198, 1]))"
      ]
     },
     "execution_count": 31,
     "metadata": {},
     "output_type": "execute_result"
    }
   ],
   "source": [
    "X_train_flip_cv, Y_train_flip_cv = resample(X_train_flip, Y_train_flip, replace=False, n_samples=len(X_train_flip)//5)\n",
    "X_val_flip_cv, Y_val_flip_cv = resample(X_val_flip, Y_val_flip, replace=False, n_samples=len(X_val_flip)//5)\n",
    "X_train_flip_cv.shape, X_val_flip_cv.shape, Y_train_flip_cv.shape, Y_val_flip_cv.shape"
   ]
  },
  {
   "attachments": {},
   "cell_type": "markdown",
   "metadata": {},
   "source": [
    "## Neural network"
   ]
  },
  {
   "cell_type": "code",
   "execution_count": 32,
   "metadata": {},
   "outputs": [],
   "source": [
    "device = 'cpu'"
   ]
  },
  {
   "cell_type": "code",
   "execution_count": 33,
   "metadata": {},
   "outputs": [],
   "source": [
    "from torch import nn\n",
    "\n",
    "class SimpleNN(nn.Module):\n",
    "    def __init__(\n",
    "        self,\n",
    "        hidden_layers: int = 2,\n",
    "        hidden_units: int = 32\n",
    "    ) -> None:\n",
    "        super().__init__()\n",
    "        self.input = nn.Sequential(\n",
    "            nn.Linear(in_features=7, out_features=hidden_units),\n",
    "            nn.ReLU()\n",
    "        )\n",
    "        self.hidden = nn.Sequential()\n",
    "        for i in range(hidden_layers):\n",
    "            self.hidden.append(nn.Linear(in_features=hidden_units, out_features=hidden_units))\n",
    "            self.hidden.append(nn.ReLU())\n",
    "        self.output = nn.Sequential(\n",
    "            nn.Linear(in_features=hidden_units, out_features=1),\n",
    "            nn.Sigmoid()\n",
    "        )\n",
    "    \n",
    "    def forward(self, x):\n",
    "        return self.output(self.hidden(self.input(x)))\n"
   ]
  },
  {
   "cell_type": "code",
   "execution_count": 34,
   "metadata": {},
   "outputs": [],
   "source": [
    "from scripts.utils import make_dataloader\n",
    "\n",
    "train_dataloader, val_dataloader = make_dataloader(X_train, Y_train, batch_size=32, shuffle=True), make_dataloader(X_val, Y_val, batch_size=32, shuffle=True)\n",
    "train_cv_dataloader, val_cv_dataloader = make_dataloader(X_train_cv, Y_train_cv, batch_size=32, shuffle=True), make_dataloader(X_val_cv, Y_val_cv, batch_size=32, shuffle=True)\n",
    "train_flip_dataloader, val_flip_dataloader = make_dataloader(X_train_flip, Y_train_flip, batch_size=32, shuffle=True), make_dataloader(X_val_flip, Y_val_flip, batch_size=32, shuffle=True)\n",
    "train_flip_cv_dataloader, val_flip_cv_dataloader = make_dataloader(X_train_flip_cv, Y_train_flip_cv, batch_size=32, shuffle=True), make_dataloader(X_val_flip_cv, Y_val_flip_cv, batch_size=32, shuffle=True)"
   ]
  },
  {
   "cell_type": "code",
   "execution_count": 35,
   "metadata": {},
   "outputs": [],
   "source": [
    "depths = [1, 2, 3, 4, 5]\n",
    "widths = [16, 32, 64]\n",
    "lambdas = [0, 1e-6, 1e-5, 1e-4]\n",
    "etas = [1e-2, 1e-3, 1e-4]\n",
    "betass = [(0.9, 0.999), (0.8, 0.9)]"
   ]
  },
  {
   "attachments": {},
   "cell_type": "markdown",
   "metadata": {},
   "source": [
    "### Without class flipping"
   ]
  },
  {
   "cell_type": "code",
   "execution_count": 36,
   "metadata": {},
   "outputs": [],
   "source": [
    "best_depth = None\n",
    "best_width = None\n",
    "best_lambda = None\n",
    "best_eta = None\n",
    "best_betas = None\n",
    "best_score = -1"
   ]
  },
  {
   "cell_type": "code",
   "execution_count": 37,
   "metadata": {},
   "outputs": [
    {
     "name": "stderr",
     "output_type": "stream",
     "text": [
      "/home/balakrishnan/.local/lib/python3.10/site-packages/torch/autograd/__init__.py:197: UserWarning: CUDA initialization: CUDA unknown error - this may be due to an incorrectly set up environment, e.g. changing env variable CUDA_VISIBLE_DEVICES after program start. Setting the available devices to be zero. (Triggered internally at ../c10/cuda/CUDAFunctions.cpp:109.)\n",
      "  Variable._execution_engine.run_backward(  # Calls into the C++ engine to run the backward pass\n"
     ]
    },
    {
     "name": "stdout",
     "output_type": "stream",
     "text": [
      "Model 1 of 360 trained. Validation accuracy: 0.4508928656578064\n",
      "Model 2 of 360 trained. Validation accuracy: 0.5089285969734192\n",
      "Model 3 of 360 trained. Validation accuracy: 0.4866071343421936\n",
      "Model 4 of 360 trained. Validation accuracy: 0.4196428656578064\n",
      "Model 5 of 360 trained. Validation accuracy: 0.4464285671710968\n",
      "Model 6 of 360 trained. Validation accuracy: 0.4553571343421936\n",
      "Model 7 of 360 trained. Validation accuracy: 0.625\n",
      "Model 8 of 360 trained. Validation accuracy: 0.6116071343421936\n",
      "Model 9 of 360 trained. Validation accuracy: 0.59375\n",
      "Model 10 of 360 trained. Validation accuracy: 0.4375\n",
      "Model 11 of 360 trained. Validation accuracy: 0.6160714030265808\n",
      "Model 12 of 360 trained. Validation accuracy: 0.5267857313156128\n",
      "Model 13 of 360 trained. Validation accuracy: 0.5982142686843872\n",
      "Model 14 of 360 trained. Validation accuracy: 0.46875\n",
      "Model 15 of 360 trained. Validation accuracy: 0.59375\n",
      "Model 16 of 360 trained. Validation accuracy: 0.6026785969734192\n",
      "Model 17 of 360 trained. Validation accuracy: 0.4375\n",
      "Model 18 of 360 trained. Validation accuracy: 0.5982142686843872\n",
      "Model 19 of 360 trained. Validation accuracy: 0.6339285969734192\n",
      "Model 20 of 360 trained. Validation accuracy: 0.4508928656578064\n",
      "Model 21 of 360 trained. Validation accuracy: 0.4375\n",
      "Model 22 of 360 trained. Validation accuracy: 0.6294642686843872\n",
      "Model 23 of 360 trained. Validation accuracy: 0.4866071343421936\n",
      "Model 24 of 360 trained. Validation accuracy: 0.4508928656578064\n",
      "Model 25 of 360 trained. Validation accuracy: 0.5982142686843872\n",
      "Model 26 of 360 trained. Validation accuracy: 0.6339285969734192\n",
      "Model 27 of 360 trained. Validation accuracy: 0.4598214328289032\n",
      "Model 28 of 360 trained. Validation accuracy: 0.5982142686843872\n",
      "Model 29 of 360 trained. Validation accuracy: 0.4508928656578064\n",
      "Model 30 of 360 trained. Validation accuracy: 0.5535714030265808\n",
      "Model 31 of 360 trained. Validation accuracy: 0.4732142984867096\n",
      "Model 32 of 360 trained. Validation accuracy: 0.5223214030265808\n",
      "Model 33 of 360 trained. Validation accuracy: 0.4464285671710968\n",
      "Model 34 of 360 trained. Validation accuracy: 0.5758928656578064\n",
      "Model 35 of 360 trained. Validation accuracy: 0.59375\n",
      "Model 36 of 360 trained. Validation accuracy: 0.5625\n",
      "Model 37 of 360 trained. Validation accuracy: 0.6294642686843872\n",
      "Model 38 of 360 trained. Validation accuracy: 0.6294642686843872\n",
      "Model 39 of 360 trained. Validation accuracy: 0.4375\n",
      "Model 40 of 360 trained. Validation accuracy: 0.5758928656578064\n",
      "Model 41 of 360 trained. Validation accuracy: 0.40625\n",
      "Model 42 of 360 trained. Validation accuracy: 0.4821428656578064\n",
      "Model 43 of 360 trained. Validation accuracy: 0.6205357313156128\n",
      "Model 44 of 360 trained. Validation accuracy: 0.4553571343421936\n",
      "Model 45 of 360 trained. Validation accuracy: 0.6160714030265808\n",
      "Model 46 of 360 trained. Validation accuracy: 0.4464285671710968\n",
      "Model 47 of 360 trained. Validation accuracy: 0.625\n",
      "Model 48 of 360 trained. Validation accuracy: 0.46875\n",
      "Model 49 of 360 trained. Validation accuracy: 0.6160714030265808\n",
      "Model 50 of 360 trained. Validation accuracy: 0.6428571343421936\n",
      "Model 51 of 360 trained. Validation accuracy: 0.4508928656578064\n",
      "Model 52 of 360 trained. Validation accuracy: 0.6116071343421936\n",
      "Model 53 of 360 trained. Validation accuracy: 0.4642857015132904\n",
      "Model 54 of 360 trained. Validation accuracy: 0.5848214030265808\n",
      "Model 55 of 360 trained. Validation accuracy: 0.5982142686843872\n",
      "Model 56 of 360 trained. Validation accuracy: 0.4866071343421936\n",
      "Model 57 of 360 trained. Validation accuracy: 0.4821428656578064\n",
      "Model 58 of 360 trained. Validation accuracy: 0.4598214328289032\n",
      "Model 59 of 360 trained. Validation accuracy: 0.4821428656578064\n",
      "Model 60 of 360 trained. Validation accuracy: 0.4553571343421936\n",
      "Model 61 of 360 trained. Validation accuracy: 0.5044642686843872\n",
      "Model 62 of 360 trained. Validation accuracy: 0.6160714030265808\n",
      "Model 63 of 360 trained. Validation accuracy: 0.4642857015132904\n",
      "Model 64 of 360 trained. Validation accuracy: 0.6160714030265808\n",
      "Model 65 of 360 trained. Validation accuracy: 0.4017857015132904\n",
      "Model 66 of 360 trained. Validation accuracy: 0.6026785969734192\n",
      "Model 67 of 360 trained. Validation accuracy: 0.5669642686843872\n",
      "Model 68 of 360 trained. Validation accuracy: 0.5089285969734192\n",
      "Model 69 of 360 trained. Validation accuracy: 0.5982142686843872\n",
      "Model 70 of 360 trained. Validation accuracy: 0.6116071343421936\n",
      "Model 71 of 360 trained. Validation accuracy: 0.6071428656578064\n",
      "Model 72 of 360 trained. Validation accuracy: 0.4732142984867096\n",
      "Model 73 of 360 trained. Validation accuracy: 0.4732142984867096\n",
      "Model 74 of 360 trained. Validation accuracy: 0.53125\n",
      "Model 75 of 360 trained. Validation accuracy: 0.59375\n",
      "Model 76 of 360 trained. Validation accuracy: 0.5848214030265808\n",
      "Model 77 of 360 trained. Validation accuracy: 0.5982142686843872\n",
      "Model 78 of 360 trained. Validation accuracy: 0.4285714328289032\n",
      "Model 79 of 360 trained. Validation accuracy: 0.5848214030265808\n",
      "Model 80 of 360 trained. Validation accuracy: 0.6428571343421936\n",
      "Model 81 of 360 trained. Validation accuracy: 0.5758928656578064\n",
      "Model 82 of 360 trained. Validation accuracy: 0.6026785969734192\n",
      "Model 83 of 360 trained. Validation accuracy: 0.5625\n",
      "Model 84 of 360 trained. Validation accuracy: 0.5848214030265808\n",
      "Model 85 of 360 trained. Validation accuracy: 0.6026785969734192\n",
      "Model 86 of 360 trained. Validation accuracy: 0.4866071343421936\n",
      "Model 87 of 360 trained. Validation accuracy: 0.5982142686843872\n",
      "Model 88 of 360 trained. Validation accuracy: 0.5580357313156128\n",
      "Model 89 of 360 trained. Validation accuracy: 0.5714285969734192\n",
      "Model 90 of 360 trained. Validation accuracy: 0.59375\n",
      "Model 91 of 360 trained. Validation accuracy: 0.4821428656578064\n",
      "Model 92 of 360 trained. Validation accuracy: 0.6116071343421936\n",
      "Model 93 of 360 trained. Validation accuracy: 0.5580357313156128\n",
      "Model 94 of 360 trained. Validation accuracy: 0.4508928656578064\n",
      "Model 95 of 360 trained. Validation accuracy: 0.5446428656578064\n",
      "Model 96 of 360 trained. Validation accuracy: 0.5848214030265808\n",
      "Model 97 of 360 trained. Validation accuracy: 0.625\n",
      "Model 98 of 360 trained. Validation accuracy: 0.5892857313156128\n",
      "Model 99 of 360 trained. Validation accuracy: 0.4419642984867096\n",
      "Model 100 of 360 trained. Validation accuracy: 0.4642857015132904\n",
      "Model 101 of 360 trained. Validation accuracy: 0.5669642686843872\n",
      "Model 102 of 360 trained. Validation accuracy: 0.5491071343421936\n",
      "Model 103 of 360 trained. Validation accuracy: 0.6071428656578064\n",
      "Model 104 of 360 trained. Validation accuracy: 0.6696428656578064\n",
      "Model 105 of 360 trained. Validation accuracy: 0.59375\n",
      "Model 106 of 360 trained. Validation accuracy: 0.5892857313156128\n",
      "Model 107 of 360 trained. Validation accuracy: 0.6116071343421936\n",
      "Model 108 of 360 trained. Validation accuracy: 0.4330357015132904\n",
      "Model 109 of 360 trained. Validation accuracy: 0.4196428656578064\n",
      "Model 110 of 360 trained. Validation accuracy: 0.46875\n",
      "Model 111 of 360 trained. Validation accuracy: 0.4553571343421936\n",
      "Model 112 of 360 trained. Validation accuracy: 0.59375\n",
      "Model 113 of 360 trained. Validation accuracy: 0.5892857313156128\n",
      "Model 114 of 360 trained. Validation accuracy: 0.5803571343421936\n",
      "Model 115 of 360 trained. Validation accuracy: 0.5803571343421936\n",
      "Model 116 of 360 trained. Validation accuracy: 0.4955357015132904\n",
      "Model 117 of 360 trained. Validation accuracy: 0.4732142984867096\n",
      "Model 118 of 360 trained. Validation accuracy: 0.5982142686843872\n",
      "Model 119 of 360 trained. Validation accuracy: 0.5535714030265808\n",
      "Model 120 of 360 trained. Validation accuracy: 0.4419642984867096\n",
      "Model 121 of 360 trained. Validation accuracy: 0.6205357313156128\n",
      "Model 122 of 360 trained. Validation accuracy: 0.4776785671710968\n",
      "Model 123 of 360 trained. Validation accuracy: 0.6026785969734192\n",
      "Model 124 of 360 trained. Validation accuracy: 0.6294642686843872\n",
      "Model 125 of 360 trained. Validation accuracy: 0.5848214030265808\n",
      "Model 126 of 360 trained. Validation accuracy: 0.4821428656578064\n",
      "Model 127 of 360 trained. Validation accuracy: 0.4330357015132904\n",
      "Model 128 of 360 trained. Validation accuracy: 0.4955357015132904\n",
      "Model 129 of 360 trained. Validation accuracy: 0.6205357313156128\n",
      "Model 130 of 360 trained. Validation accuracy: 0.625\n",
      "Model 131 of 360 trained. Validation accuracy: 0.6116071343421936\n",
      "Model 132 of 360 trained. Validation accuracy: 0.4553571343421936\n",
      "Model 133 of 360 trained. Validation accuracy: 0.4642857015132904\n",
      "Model 134 of 360 trained. Validation accuracy: 0.4866071343421936\n",
      "Model 135 of 360 trained. Validation accuracy: 0.6473214030265808\n",
      "Model 136 of 360 trained. Validation accuracy: 0.6339285969734192\n",
      "Model 137 of 360 trained. Validation accuracy: 0.6071428656578064\n",
      "Model 138 of 360 trained. Validation accuracy: 0.4464285671710968\n",
      "Model 139 of 360 trained. Validation accuracy: 0.4553571343421936\n",
      "Model 140 of 360 trained. Validation accuracy: 0.6205357313156128\n",
      "Model 141 of 360 trained. Validation accuracy: 0.6116071343421936\n",
      "Model 142 of 360 trained. Validation accuracy: 0.625\n",
      "Model 143 of 360 trained. Validation accuracy: 0.4241071343421936\n",
      "Model 144 of 360 trained. Validation accuracy: 0.3928571343421936\n",
      "Model 145 of 360 trained. Validation accuracy: 0.6071428656578064\n",
      "Model 146 of 360 trained. Validation accuracy: 0.5446428656578064\n",
      "Model 147 of 360 trained. Validation accuracy: 0.5848214030265808\n",
      "Model 148 of 360 trained. Validation accuracy: 0.6026785969734192\n",
      "Model 149 of 360 trained. Validation accuracy: 0.5669642686843872\n",
      "Model 150 of 360 trained. Validation accuracy: 0.4285714328289032\n",
      "Model 151 of 360 trained. Validation accuracy: 0.5848214030265808\n",
      "Model 152 of 360 trained. Validation accuracy: 0.4464285671710968\n",
      "Model 153 of 360 trained. Validation accuracy: 0.59375\n",
      "Model 154 of 360 trained. Validation accuracy: 0.4732142984867096\n",
      "Model 155 of 360 trained. Validation accuracy: 0.6294642686843872\n",
      "Model 156 of 360 trained. Validation accuracy: 0.4508928656578064\n",
      "Model 157 of 360 trained. Validation accuracy: 0.5803571343421936\n",
      "Model 158 of 360 trained. Validation accuracy: 0.4866071343421936\n",
      "Model 159 of 360 trained. Validation accuracy: 0.6160714030265808\n",
      "Model 160 of 360 trained. Validation accuracy: 0.5669642686843872\n",
      "Model 161 of 360 trained. Validation accuracy: 0.4598214328289032\n",
      "Model 162 of 360 trained. Validation accuracy: 0.5625\n",
      "Model 163 of 360 trained. Validation accuracy: 0.5758928656578064\n",
      "Model 164 of 360 trained. Validation accuracy: 0.4553571343421936\n",
      "Model 165 of 360 trained. Validation accuracy: 0.6383928656578064\n",
      "Model 166 of 360 trained. Validation accuracy: 0.4107142984867096\n",
      "Model 167 of 360 trained. Validation accuracy: 0.59375\n",
      "Model 168 of 360 trained. Validation accuracy: 0.6205357313156128\n",
      "Model 169 of 360 trained. Validation accuracy: 0.4732142984867096\n",
      "Model 170 of 360 trained. Validation accuracy: 0.6517857313156128\n",
      "Model 171 of 360 trained. Validation accuracy: 0.5\n",
      "Model 172 of 360 trained. Validation accuracy: 0.5892857313156128\n",
      "Model 173 of 360 trained. Validation accuracy: 0.5535714030265808\n",
      "Model 174 of 360 trained. Validation accuracy: 0.4285714328289032\n",
      "Model 175 of 360 trained. Validation accuracy: 0.5535714030265808\n",
      "Model 176 of 360 trained. Validation accuracy: 0.5982142686843872\n",
      "Model 177 of 360 trained. Validation accuracy: 0.6339285969734192\n",
      "Model 178 of 360 trained. Validation accuracy: 0.6026785969734192\n",
      "Model 179 of 360 trained. Validation accuracy: 0.4553571343421936\n",
      "Model 180 of 360 trained. Validation accuracy: 0.4642857015132904\n",
      "Model 181 of 360 trained. Validation accuracy: 0.4375\n",
      "Model 182 of 360 trained. Validation accuracy: 0.4732142984867096\n",
      "Model 183 of 360 trained. Validation accuracy: 0.5178571343421936\n",
      "Model 184 of 360 trained. Validation accuracy: 0.5803571343421936\n",
      "Model 185 of 360 trained. Validation accuracy: 0.5982142686843872\n",
      "Model 186 of 360 trained. Validation accuracy: 0.4553571343421936\n",
      "Model 187 of 360 trained. Validation accuracy: 0.59375\n",
      "Model 188 of 360 trained. Validation accuracy: 0.4776785671710968\n",
      "Model 189 of 360 trained. Validation accuracy: 0.6473214030265808\n",
      "Model 190 of 360 trained. Validation accuracy: 0.6071428656578064\n",
      "Model 191 of 360 trained. Validation accuracy: 0.5491071343421936\n",
      "Model 192 of 360 trained. Validation accuracy: 0.5892857313156128\n",
      "Model 193 of 360 trained. Validation accuracy: 0.5982142686843872\n",
      "Model 194 of 360 trained. Validation accuracy: 0.5\n",
      "Model 195 of 360 trained. Validation accuracy: 0.6205357313156128\n",
      "Model 196 of 360 trained. Validation accuracy: 0.6517857313156128\n",
      "Model 197 of 360 trained. Validation accuracy: 0.4375\n",
      "Model 198 of 360 trained. Validation accuracy: 0.4553571343421936\n",
      "Model 199 of 360 trained. Validation accuracy: 0.4107142984867096\n",
      "Model 200 of 360 trained. Validation accuracy: 0.59375\n",
      "Model 201 of 360 trained. Validation accuracy: 0.4955357015132904\n",
      "Model 202 of 360 trained. Validation accuracy: 0.6428571343421936\n",
      "Model 203 of 360 trained. Validation accuracy: 0.5892857313156128\n",
      "Model 204 of 360 trained. Validation accuracy: 0.5\n",
      "Model 205 of 360 trained. Validation accuracy: 0.4375\n",
      "Model 206 of 360 trained. Validation accuracy: 0.4955357015132904\n",
      "Model 207 of 360 trained. Validation accuracy: 0.6205357313156128\n",
      "Model 208 of 360 trained. Validation accuracy: 0.6383928656578064\n",
      "Model 209 of 360 trained. Validation accuracy: 0.4241071343421936\n",
      "Model 210 of 360 trained. Validation accuracy: 0.59375\n",
      "Model 211 of 360 trained. Validation accuracy: 0.5892857313156128\n",
      "Model 212 of 360 trained. Validation accuracy: 0.6026785969734192\n",
      "Model 213 of 360 trained. Validation accuracy: 0.4866071343421936\n",
      "Model 214 of 360 trained. Validation accuracy: 0.6294642686843872\n",
      "Model 215 of 360 trained. Validation accuracy: 0.6071428656578064\n",
      "Model 216 of 360 trained. Validation accuracy: 0.4508928656578064\n",
      "Model 217 of 360 trained. Validation accuracy: 0.5758928656578064\n",
      "Model 218 of 360 trained. Validation accuracy: 0.6294642686843872\n",
      "Model 219 of 360 trained. Validation accuracy: 0.46875\n",
      "Model 220 of 360 trained. Validation accuracy: 0.4598214328289032\n",
      "Model 221 of 360 trained. Validation accuracy: 0.4285714328289032\n",
      "Model 222 of 360 trained. Validation accuracy: 0.4642857015132904\n",
      "Model 223 of 360 trained. Validation accuracy: 0.5669642686843872\n",
      "Model 224 of 360 trained. Validation accuracy: 0.46875\n",
      "Model 225 of 360 trained. Validation accuracy: 0.5803571343421936\n",
      "Model 226 of 360 trained. Validation accuracy: 0.4241071343421936\n",
      "Model 227 of 360 trained. Validation accuracy: 0.5669642686843872\n",
      "Model 228 of 360 trained. Validation accuracy: 0.4285714328289032\n",
      "Model 229 of 360 trained. Validation accuracy: 0.5803571343421936\n",
      "Model 230 of 360 trained. Validation accuracy: 0.4732142984867096\n",
      "Model 231 of 360 trained. Validation accuracy: 0.5625\n",
      "Model 232 of 360 trained. Validation accuracy: 0.4330357015132904\n",
      "Model 233 of 360 trained. Validation accuracy: 0.5848214030265808\n",
      "Model 234 of 360 trained. Validation accuracy: 0.4017857015132904\n",
      "Model 235 of 360 trained. Validation accuracy: 0.4866071343421936\n",
      "Model 236 of 360 trained. Validation accuracy: 0.4508928656578064\n",
      "Model 237 of 360 trained. Validation accuracy: 0.4866071343421936\n",
      "Model 238 of 360 trained. Validation accuracy: 0.5982142686843872\n",
      "Model 239 of 360 trained. Validation accuracy: 0.5714285969734192\n",
      "Model 240 of 360 trained. Validation accuracy: 0.4598214328289032\n",
      "Model 241 of 360 trained. Validation accuracy: 0.4285714328289032\n",
      "Model 242 of 360 trained. Validation accuracy: 0.5892857313156128\n",
      "Model 243 of 360 trained. Validation accuracy: 0.6473214030265808\n",
      "Model 244 of 360 trained. Validation accuracy: 0.6383928656578064\n",
      "Model 245 of 360 trained. Validation accuracy: 0.40625\n",
      "Model 246 of 360 trained. Validation accuracy: 0.4285714328289032\n",
      "Model 247 of 360 trained. Validation accuracy: 0.5803571343421936\n",
      "Model 248 of 360 trained. Validation accuracy: 0.6116071343421936\n",
      "Model 249 of 360 trained. Validation accuracy: 0.6116071343421936\n",
      "Model 250 of 360 trained. Validation accuracy: 0.4196428656578064\n",
      "Model 251 of 360 trained. Validation accuracy: 0.5892857313156128\n",
      "Model 252 of 360 trained. Validation accuracy: 0.5580357313156128\n",
      "Model 253 of 360 trained. Validation accuracy: 0.5892857313156128\n",
      "Model 254 of 360 trained. Validation accuracy: 0.4642857015132904\n",
      "Model 255 of 360 trained. Validation accuracy: 0.6160714030265808\n",
      "Model 256 of 360 trained. Validation accuracy: 0.6428571343421936\n",
      "Model 257 of 360 trained. Validation accuracy: 0.5758928656578064\n",
      "Model 258 of 360 trained. Validation accuracy: 0.5848214030265808\n",
      "Model 259 of 360 trained. Validation accuracy: 0.4598214328289032\n",
      "Model 260 of 360 trained. Validation accuracy: 0.5\n",
      "Model 261 of 360 trained. Validation accuracy: 0.4553571343421936\n",
      "Model 262 of 360 trained. Validation accuracy: 0.6651785969734192\n",
      "Model 263 of 360 trained. Validation accuracy: 0.4464285671710968\n",
      "Model 264 of 360 trained. Validation accuracy: 0.59375\n",
      "Model 265 of 360 trained. Validation accuracy: 0.5848214030265808\n",
      "Model 266 of 360 trained. Validation accuracy: 0.4553571343421936\n",
      "Model 267 of 360 trained. Validation accuracy: 0.6517857313156128\n",
      "Model 268 of 360 trained. Validation accuracy: 0.6607142686843872\n",
      "Model 269 of 360 trained. Validation accuracy: 0.6026785969734192\n",
      "Model 270 of 360 trained. Validation accuracy: 0.59375\n",
      "Model 271 of 360 trained. Validation accuracy: 0.4375\n",
      "Model 272 of 360 trained. Validation accuracy: 0.6517857313156128\n",
      "Model 273 of 360 trained. Validation accuracy: 0.6517857313156128\n",
      "Model 274 of 360 trained. Validation accuracy: 0.4732142984867096\n",
      "Model 275 of 360 trained. Validation accuracy: 0.5848214030265808\n",
      "Model 276 of 360 trained. Validation accuracy: 0.625\n",
      "Model 277 of 360 trained. Validation accuracy: 0.5714285969734192\n",
      "Model 278 of 360 trained. Validation accuracy: 0.46875\n",
      "Model 279 of 360 trained. Validation accuracy: 0.4910714328289032\n",
      "Model 280 of 360 trained. Validation accuracy: 0.5\n",
      "Model 281 of 360 trained. Validation accuracy: 0.4642857015132904\n",
      "Model 282 of 360 trained. Validation accuracy: 0.4285714328289032\n",
      "Model 283 of 360 trained. Validation accuracy: 0.4464285671710968\n",
      "Model 284 of 360 trained. Validation accuracy: 0.4553571343421936\n",
      "Model 285 of 360 trained. Validation accuracy: 0.6205357313156128\n",
      "Model 286 of 360 trained. Validation accuracy: 0.5848214030265808\n",
      "Model 287 of 360 trained. Validation accuracy: 0.4732142984867096\n",
      "Model 288 of 360 trained. Validation accuracy: 0.5714285969734192\n",
      "Model 289 of 360 trained. Validation accuracy: 0.4241071343421936\n",
      "Model 290 of 360 trained. Validation accuracy: 0.4285714328289032\n",
      "Model 291 of 360 trained. Validation accuracy: 0.5758928656578064\n",
      "Model 292 of 360 trained. Validation accuracy: 0.4642857015132904\n",
      "Model 293 of 360 trained. Validation accuracy: 0.5669642686843872\n",
      "Model 294 of 360 trained. Validation accuracy: 0.5669642686843872\n",
      "Model 295 of 360 trained. Validation accuracy: 0.4285714328289032\n",
      "Model 296 of 360 trained. Validation accuracy: 0.46875\n",
      "Model 297 of 360 trained. Validation accuracy: 0.4642857015132904\n",
      "Model 298 of 360 trained. Validation accuracy: 0.59375\n",
      "Model 299 of 360 trained. Validation accuracy: 0.3973214328289032\n",
      "Model 300 of 360 trained. Validation accuracy: 0.5669642686843872\n",
      "Model 301 of 360 trained. Validation accuracy: 0.4776785671710968\n",
      "Model 302 of 360 trained. Validation accuracy: 0.4776785671710968\n",
      "Model 303 of 360 trained. Validation accuracy: 0.4553571343421936\n",
      "Model 304 of 360 trained. Validation accuracy: 0.4732142984867096\n",
      "Model 305 of 360 trained. Validation accuracy: 0.5669642686843872\n",
      "Model 306 of 360 trained. Validation accuracy: 0.5669642686843872\n",
      "Model 307 of 360 trained. Validation accuracy: 0.5848214030265808\n",
      "Model 308 of 360 trained. Validation accuracy: 0.5669642686843872\n",
      "Model 309 of 360 trained. Validation accuracy: 0.6294642686843872\n",
      "Model 310 of 360 trained. Validation accuracy: 0.4866071343421936\n",
      "Model 311 of 360 trained. Validation accuracy: 0.5714285969734192\n",
      "Model 312 of 360 trained. Validation accuracy: 0.5669642686843872\n",
      "Model 313 of 360 trained. Validation accuracy: 0.5892857313156128\n",
      "Model 314 of 360 trained. Validation accuracy: 0.6160714030265808\n",
      "Model 315 of 360 trained. Validation accuracy: 0.5892857313156128\n",
      "Model 316 of 360 trained. Validation accuracy: 0.6294642686843872\n",
      "Model 317 of 360 trained. Validation accuracy: 0.4285714328289032\n",
      "Model 318 of 360 trained. Validation accuracy: 0.5848214030265808\n",
      "Model 319 of 360 trained. Validation accuracy: 0.4464285671710968\n",
      "Model 320 of 360 trained. Validation accuracy: 0.5848214030265808\n",
      "Model 321 of 360 trained. Validation accuracy: 0.6026785969734192\n",
      "Model 322 of 360 trained. Validation accuracy: 0.4776785671710968\n",
      "Model 323 of 360 trained. Validation accuracy: 0.6026785969734192\n",
      "Model 324 of 360 trained. Validation accuracy: 0.4330357015132904\n",
      "Model 325 of 360 trained. Validation accuracy: 0.6517857313156128\n",
      "Model 326 of 360 trained. Validation accuracy: 0.4464285671710968\n",
      "Model 327 of 360 trained. Validation accuracy: 0.625\n",
      "Model 328 of 360 trained. Validation accuracy: 0.6517857313156128\n",
      "Model 329 of 360 trained. Validation accuracy: 0.4553571343421936\n",
      "Model 330 of 360 trained. Validation accuracy: 0.6071428656578064\n",
      "Model 331 of 360 trained. Validation accuracy: 0.6116071343421936\n",
      "Model 332 of 360 trained. Validation accuracy: 0.5714285969734192\n",
      "Model 333 of 360 trained. Validation accuracy: 0.4955357015132904\n",
      "Model 334 of 360 trained. Validation accuracy: 0.4598214328289032\n",
      "Model 335 of 360 trained. Validation accuracy: 0.5535714030265808\n",
      "Model 336 of 360 trained. Validation accuracy: 0.5669642686843872\n",
      "Model 337 of 360 trained. Validation accuracy: 0.4285714328289032\n",
      "Model 338 of 360 trained. Validation accuracy: 0.6294642686843872\n",
      "Model 339 of 360 trained. Validation accuracy: 0.6294642686843872\n",
      "Model 340 of 360 trained. Validation accuracy: 0.4642857015132904\n",
      "Model 341 of 360 trained. Validation accuracy: 0.59375\n",
      "Model 342 of 360 trained. Validation accuracy: 0.4285714328289032\n",
      "Model 343 of 360 trained. Validation accuracy: 0.5848214030265808\n",
      "Model 344 of 360 trained. Validation accuracy: 0.46875\n",
      "Model 345 of 360 trained. Validation accuracy: 0.5089285969734192\n",
      "Model 346 of 360 trained. Validation accuracy: 0.6651785969734192\n",
      "Model 347 of 360 trained. Validation accuracy: 0.6026785969734192\n",
      "Model 348 of 360 trained. Validation accuracy: 0.6071428656578064\n",
      "Model 349 of 360 trained. Validation accuracy: 0.4107142984867096\n",
      "Model 350 of 360 trained. Validation accuracy: 0.4375\n",
      "Model 351 of 360 trained. Validation accuracy: 0.6741071343421936\n",
      "Model 352 of 360 trained. Validation accuracy: 0.4598214328289032\n",
      "Model 353 of 360 trained. Validation accuracy: 0.4285714328289032\n",
      "Model 354 of 360 trained. Validation accuracy: 0.4419642984867096\n",
      "Model 355 of 360 trained. Validation accuracy: 0.4330357015132904\n",
      "Model 356 of 360 trained. Validation accuracy: 0.5803571343421936\n",
      "Model 357 of 360 trained. Validation accuracy: 0.5089285969734192\n",
      "Model 358 of 360 trained. Validation accuracy: 0.6116071343421936\n",
      "Model 359 of 360 trained. Validation accuracy: 0.6205357313156128\n",
      "Model 360 of 360 trained. Validation accuracy: 0.4464285671710968\n",
      "Results:\n",
      "Depth: 5\n",
      "Width: 64\n",
      "Lambda: 1e-05\n",
      "Eta: 0.001\n",
      "Betas: (0.9, 0.999)\n",
      "Accuracy after 32 epochs: 0.6741071343421936\n"
     ]
    }
   ],
   "source": [
    "from scripts.metrics import BinaryAccuracy\n",
    "from scripts.train import train_model\n",
    "from scripts.test import predict\n",
    "\n",
    "count = 0\n",
    "total = len(depths) * len(widths) * len(lambdas) * len(etas) * len(betass)\n",
    "EPOCHS = 32\n",
    "for depth in depths:\n",
    "    for width in widths:\n",
    "        for lambda_i in lambdas:\n",
    "            for eta in etas:\n",
    "                for betas in betass:\n",
    "                    model = SimpleNN(hidden_layers=depth, hidden_units=width).to(device)\n",
    "                    loss_fn = torch.nn.BCELoss()\n",
    "                    optimizer = torch.optim.Adam(params=model.parameters(), lr=eta, betas=betas, weight_decay=lambda_i)\n",
    "                    metric = BinaryAccuracy()\n",
    "                    history = train_model(\n",
    "                        model=model,\n",
    "                        train_dataloader=train_cv_dataloader,\n",
    "                        val_dataloader=val_cv_dataloader,\n",
    "                        loss_fn=loss_fn,\n",
    "                        optimizer=optimizer,\n",
    "                        metric=metric,\n",
    "                        epochs=EPOCHS,\n",
    "                        verbose=0,\n",
    "                        device=device\n",
    "                    )\n",
    "                    count += 1\n",
    "                    score = history['val_score'][-1]\n",
    "                    print(f'Model {count} of {total} trained. Validation accuracy: {score}')\n",
    "                    if score > best_score:\n",
    "                        best_score = score\n",
    "                        best_depth = depth\n",
    "                        best_width = width\n",
    "                        best_lambda = lambda_i\n",
    "                        best_eta = eta\n",
    "                        best_betas = betas\n",
    "\n",
    "print(f'Results:\\nDepth: {best_depth}\\nWidth: {best_width}\\nLambda: {best_lambda}\\nEta: {best_eta}\\nBetas: {best_betas}\\nAccuracy after {EPOCHS} epochs: {best_score}')"
   ]
  },
  {
   "cell_type": "code",
   "execution_count": 38,
   "metadata": {},
   "outputs": [],
   "source": [
    "best_model_nn = SimpleNN(hidden_layers=best_depth, hidden_units=best_width).to(device)"
   ]
  },
  {
   "cell_type": "code",
   "execution_count": 39,
   "metadata": {},
   "outputs": [],
   "source": [
    "from scripts.metrics import BinaryAccuracy\n",
    "\n",
    "loss_fn = torch.nn.BCELoss()\n",
    "optimizer = torch.optim.Adam(params=best_model_nn.parameters(), lr=best_eta, betas=best_betas, weight_decay=best_lambda)\n",
    "metric = BinaryAccuracy()"
   ]
  },
  {
   "cell_type": "code",
   "execution_count": 40,
   "metadata": {},
   "outputs": [],
   "source": [
    "from scripts.utils import EarlyStopping\n",
    "\n",
    "early_stop = EarlyStopping(patience=20, min_delta=1e-4)"
   ]
  },
  {
   "cell_type": "code",
   "execution_count": 41,
   "metadata": {},
   "outputs": [
    {
     "name": "stdout",
     "output_type": "stream",
     "text": [
      "Training model for 500 epochs. Early stopping enabled.\n",
      "Epoch: 1 => Train loss: 0.693642, Train score: 0.498229, Val loss: 0.692886, Val score: 0.513249\n",
      "Epoch: 2 => Train loss: 0.692663, Train score: 0.517783, Val loss: 0.697859, Val score: 0.500288\n",
      "Epoch: 3 => Train loss: 0.692996, Train score: 0.516861, Val loss: 0.694209, Val score: 0.500288\n",
      "Epoch: 4 => Train loss: 0.691703, Train score: 0.529885, Val loss: 0.692485, Val score: 0.524050\n",
      "Epoch: 5 => Train loss: 0.690911, Train score: 0.532800, Val loss: 0.696352, Val score: 0.503168\n",
      "Epoch: 6 => Train loss: 0.690542, Train score: 0.532652, Val loss: 0.694658, Val score: 0.511953\n",
      "Epoch: 7 => Train loss: 0.688697, Train score: 0.540880, Val loss: 0.697549, Val score: 0.492224\n",
      "Epoch: 8 => Train loss: 0.688493, Train score: 0.549919, Val loss: 0.694699, Val score: 0.506336\n",
      "Epoch: 9 => Train loss: 0.686761, Train score: 0.549661, Val loss: 0.701856, Val score: 0.520017\n",
      "Epoch: 10 => Train loss: 0.685488, Train score: 0.559106, Val loss: 0.695089, Val score: 0.535138\n",
      "Epoch: 11 => Train loss: 0.684496, Train score: 0.561319, Val loss: 0.694796, Val score: 0.526066\n",
      "Epoch: 12 => Train loss: 0.682716, Train score: 0.572019, Val loss: 0.692950, Val score: 0.543779\n",
      "Epoch: 13 => Train loss: 0.684352, Train score: 0.554531, Val loss: 0.698298, Val score: 0.528946\n",
      "Epoch: 14 => Train loss: 0.682715, Train score: 0.563164, Val loss: 0.688473, Val score: 0.551267\n",
      "Epoch: 15 => Train loss: 0.676201, Train score: 0.579435, Val loss: 0.685955, Val score: 0.570853\n",
      "Epoch: 16 => Train loss: 0.674021, Train score: 0.586998, Val loss: 0.685003, Val score: 0.557892\n",
      "Epoch: 17 => Train loss: 0.671990, Train score: 0.584932, Val loss: 0.680554, Val score: 0.559908\n",
      "Epoch: 18 => Train loss: 0.669366, Train score: 0.586039, Val loss: 0.680328, Val score: 0.574309\n",
      "Epoch: 19 => Train loss: 0.660499, Train score: 0.606036, Val loss: 0.670804, Val score: 0.593750\n",
      "Epoch: 20 => Train loss: 0.654656, Train score: 0.609652, Val loss: 0.667993, Val score: 0.588422\n",
      "Epoch: 21 => Train loss: 0.648799, Train score: 0.616551, Val loss: 0.653725, Val score: 0.608295\n",
      "Epoch: 22 => Train loss: 0.632526, Train score: 0.635736, Val loss: 0.663351, Val score: 0.595478\n",
      "Epoch: 23 => Train loss: 0.623813, Train score: 0.641160, Val loss: 0.646976, Val score: 0.619240\n",
      "Epoch: 24 => Train loss: 0.608796, Train score: 0.649388, Val loss: 0.646059, Val score: 0.616647\n",
      "Epoch: 25 => Train loss: 0.593376, Train score: 0.660345, Val loss: 0.625057, Val score: 0.671227\n",
      "Epoch: 26 => Train loss: 0.571268, Train score: 0.680232, Val loss: 0.615296, Val score: 0.651354\n",
      "Epoch: 27 => Train loss: 0.557863, Train score: 0.697462, Val loss: 0.610172, Val score: 0.654666\n",
      "Epoch: 28 => Train loss: 0.548572, Train score: 0.699823, Val loss: 0.573086, Val score: 0.718174\n",
      "Epoch: 29 => Train loss: 0.532489, Train score: 0.713548, Val loss: 0.580505, Val score: 0.701325\n",
      "Epoch: 30 => Train loss: 0.514550, Train score: 0.730704, Val loss: 0.571019, Val score: 0.697005\n",
      "Epoch: 31 => Train loss: 0.496891, Train score: 0.747602, Val loss: 0.531665, Val score: 0.727679\n",
      "Epoch: 32 => Train loss: 0.488252, Train score: 0.753431, Val loss: 0.523512, Val score: 0.747840\n",
      "Epoch: 33 => Train loss: 0.462608, Train score: 0.774683, Val loss: 0.530469, Val score: 0.756048\n",
      "Epoch: 34 => Train loss: 0.454959, Train score: 0.779332, Val loss: 0.551381, Val score: 0.735743\n",
      "Epoch: 35 => Train loss: 0.454594, Train score: 0.785936, Val loss: 0.528662, Val score: 0.748416\n",
      "Epoch: 36 => Train loss: 0.429007, Train score: 0.797115, Val loss: 0.508158, Val score: 0.752880\n",
      "Epoch: 37 => Train loss: 0.409107, Train score: 0.803940, Val loss: 0.505629, Val score: 0.771025\n",
      "Epoch: 38 => Train loss: 0.400168, Train score: 0.815857, Val loss: 0.493641, Val score: 0.773185\n",
      "Epoch: 39 => Train loss: 0.387533, Train score: 0.819178, Val loss: 0.490544, Val score: 0.769009\n",
      "Epoch: 40 => Train loss: 0.374929, Train score: 0.831427, Val loss: 0.490523, Val score: 0.775058\n",
      "Epoch: 41 => Train loss: 0.378662, Train score: 0.825598, Val loss: 0.573530, Val score: 0.757344\n",
      "Epoch: 42 => Train loss: 0.358200, Train score: 0.834821, Val loss: 0.479064, Val score: 0.797811\n",
      "Epoch: 43 => Train loss: 0.345139, Train score: 0.842164, Val loss: 0.449236, Val score: 0.809332\n",
      "Epoch: 44 => Train loss: 0.357700, Train score: 0.834637, Val loss: 0.502959, Val score: 0.770449\n",
      "Epoch: 45 => Train loss: 0.330816, Train score: 0.852088, Val loss: 0.493034, Val score: 0.805876\n",
      "Epoch: 46 => Train loss: 0.345655, Train score: 0.844045, Val loss: 0.440714, Val score: 0.819988\n",
      "Epoch: 47 => Train loss: 0.326218, Train score: 0.855741, Val loss: 0.533051, Val score: 0.788738\n",
      "Epoch: 48 => Train loss: 0.335398, Train score: 0.849284, Val loss: 0.476832, Val score: 0.810916\n",
      "Epoch: 49 => Train loss: 0.303326, Train score: 0.869244, Val loss: 0.502199, Val score: 0.805876\n",
      "Epoch: 50 => Train loss: 0.300646, Train score: 0.862197, Val loss: 0.495280, Val score: 0.811492\n",
      "Epoch: 51 => Train loss: 0.296631, Train score: 0.866219, Val loss: 0.504418, Val score: 0.812356\n",
      "Epoch: 52 => Train loss: 0.304331, Train score: 0.866920, Val loss: 0.455149, Val score: 0.821573\n",
      "Epoch: 53 => Train loss: 0.282172, Train score: 0.878800, Val loss: 0.488893, Val score: 0.811924\n",
      "Epoch: 54 => Train loss: 0.276771, Train score: 0.878800, Val loss: 0.473205, Val score: 0.830069\n",
      "Epoch: 55 => Train loss: 0.270922, Train score: 0.888135, Val loss: 0.470900, Val score: 0.827045\n",
      "Epoch: 56 => Train loss: 0.292699, Train score: 0.873082, Val loss: 0.451183, Val score: 0.807892\n",
      "Epoch: 57 => Train loss: 0.266427, Train score: 0.888504, Val loss: 0.508376, Val score: 0.801699\n",
      "Epoch: 58 => Train loss: 0.255858, Train score: 0.885626, Val loss: 0.475285, Val score: 0.841734\n",
      "Epoch: 59 => Train loss: 0.238860, Train score: 0.893079, Val loss: 0.485557, Val score: 0.830069\n",
      "Epoch: 60 => Train loss: 0.229842, Train score: 0.904332, Val loss: 0.521389, Val score: 0.841590\n",
      "Epoch: 61 => Train loss: 0.248680, Train score: 0.894296, Val loss: 0.440594, Val score: 0.829637\n",
      "Epoch: 62 => Train loss: 0.245031, Train score: 0.896584, Val loss: 0.422885, Val score: 0.852247\n",
      "Epoch: 63 => Train loss: 0.223407, Train score: 0.907800, Val loss: 0.454554, Val score: 0.843606\n",
      "Epoch: 64 => Train loss: 0.215074, Train score: 0.911637, Val loss: 0.558062, Val score: 0.804868\n",
      "Epoch: 65 => Train loss: 0.239183, Train score: 0.903372, Val loss: 0.426251, Val score: 0.864919\n",
      "Epoch: 66 => Train loss: 0.203788, Train score: 0.915990, Val loss: 0.475329, Val score: 0.855271\n",
      "Epoch: 67 => Train loss: 0.225549, Train score: 0.907836, Val loss: 0.467827, Val score: 0.860311\n",
      "Epoch: 68 => Train loss: 0.220154, Train score: 0.908205, Val loss: 0.466039, Val score: 0.851815\n",
      "Epoch: 69 => Train loss: 0.225070, Train score: 0.908132, Val loss: 0.491464, Val score: 0.844182\n",
      "Epoch: 70 => Train loss: 0.184119, Train score: 0.929678, Val loss: 0.464020, Val score: 0.848646\n",
      "Epoch: 71 => Train loss: 0.185617, Train score: 0.924033, Val loss: 0.445479, Val score: 0.856855\n",
      "Epoch: 72 => Train loss: 0.187286, Train score: 0.925804, Val loss: 0.493345, Val score: 0.831653\n",
      "Epoch: 73 => Train loss: 0.199299, Train score: 0.922447, Val loss: 0.439935, Val score: 0.856855\n",
      "Epoch: 74 => Train loss: 0.198598, Train score: 0.921156, Val loss: 0.428291, Val score: 0.873416\n",
      "Epoch: 75 => Train loss: 0.181035, Train score: 0.928092, Val loss: 0.549218, Val score: 0.831077\n",
      "Epoch: 76 => Train loss: 0.198739, Train score: 0.924513, Val loss: 0.450823, Val score: 0.856279\n",
      "Epoch: 77 => Train loss: 0.171819, Train score: 0.932003, Val loss: 0.474570, Val score: 0.857287\n",
      "Epoch: 78 => Train loss: 0.171349, Train score: 0.931744, Val loss: 0.420478, Val score: 0.864343\n",
      "Epoch: 79 => Train loss: 0.193097, Train score: 0.915695, Val loss: 0.493494, Val score: 0.847782\n",
      "Epoch: 80 => Train loss: 0.181854, Train score: 0.926653, Val loss: 0.462628, Val score: 0.862759\n",
      "Epoch: 81 => Train loss: 0.164370, Train score: 0.934032, Val loss: 0.469998, Val score: 0.865351\n",
      "Epoch: 82 => Train loss: 0.149454, Train score: 0.941337, Val loss: 0.430263, Val score: 0.879032\n",
      "Epoch: 83 => Train loss: 0.150965, Train score: 0.938681, Val loss: 0.623028, Val score: 0.855703\n",
      "Epoch: 84 => Train loss: 0.182632, Train score: 0.929420, Val loss: 0.534906, Val score: 0.827045\n",
      "Epoch: 85 => Train loss: 0.161946, Train score: 0.938017, Val loss: 0.384551, Val score: 0.872984\n",
      "Epoch: 86 => Train loss: 0.140619, Train score: 0.947683, Val loss: 0.470329, Val score: 0.851094\n",
      "Epoch: 87 => Train loss: 0.173851, Train score: 0.927612, Val loss: 0.426468, Val score: 0.870392\n",
      "Epoch: 88 => Train loss: 0.153694, Train score: 0.939050, Val loss: 0.519219, Val score: 0.854839\n",
      "Epoch: 89 => Train loss: 0.144576, Train score: 0.942370, Val loss: 0.454019, Val score: 0.864919\n",
      "Epoch: 90 => Train loss: 0.151392, Train score: 0.943071, Val loss: 0.479118, Val score: 0.864919\n",
      "Epoch: 91 => Train loss: 0.162277, Train score: 0.939308, Val loss: 0.363400, Val score: 0.884073\n",
      "Epoch: 92 => Train loss: 0.158879, Train score: 0.939529, Val loss: 0.462707, Val score: 0.855847\n",
      "Epoch: 93 => Train loss: 0.128711, Train score: 0.947757, Val loss: 0.449141, Val score: 0.866935\n",
      "Epoch: 94 => Train loss: 0.101221, Train score: 0.961482, Val loss: 0.614939, Val score: 0.859303\n",
      "Epoch: 95 => Train loss: 0.142807, Train score: 0.943588, Val loss: 0.475399, Val score: 0.844758\n",
      "Epoch: 96 => Train loss: 0.170681, Train score: 0.936947, Val loss: 0.450066, Val score: 0.851671\n",
      "Epoch: 97 => Train loss: 0.132662, Train score: 0.950303, Val loss: 0.453569, Val score: 0.853255\n",
      "Epoch: 98 => Train loss: 0.147168, Train score: 0.943957, Val loss: 0.497046, Val score: 0.858295\n",
      "Epoch: 99 => Train loss: 0.142864, Train score: 0.948532, Val loss: 0.499156, Val score: 0.860743\n",
      "Epoch: 100 => Train loss: 0.125282, Train score: 0.954287, Val loss: 0.391805, Val score: 0.883929\n",
      "Epoch: 101 => Train loss: 0.107225, Train score: 0.960633, Val loss: 0.421446, Val score: 0.877448\n",
      "Epoch: 102 => Train loss: 0.121293, Train score: 0.952221, Val loss: 0.479051, Val score: 0.873416\n",
      "Epoch: 103 => Train loss: 0.119080, Train score: 0.956095, Val loss: 0.509177, Val score: 0.863335\n",
      "Epoch: 104 => Train loss: 0.132365, Train score: 0.950007, Val loss: 0.550104, Val score: 0.848646\n",
      "Epoch: 105 => Train loss: 0.125368, Train score: 0.955025, Val loss: 0.502584, Val score: 0.856711\n",
      "Epoch: 106 => Train loss: 0.118325, Train score: 0.953476, Val loss: 0.445031, Val score: 0.881048\n",
      "Epoch: 107 => Train loss: 0.116796, Train score: 0.955800, Val loss: 0.422597, Val score: 0.875864\n",
      "Epoch: 108 => Train loss: 0.126101, Train score: 0.956021, Val loss: 0.422759, Val score: 0.875432\n",
      "Epoch: 109 => Train loss: 0.117668, Train score: 0.955800, Val loss: 0.483156, Val score: 0.854263\n",
      "Epoch: 110 => Train loss: 0.120585, Train score: 0.953512, Val loss: 0.423059, Val score: 0.886089\n",
      "Epoch: 111 => Train loss: 0.099496, Train score: 0.964286, Val loss: 0.406408, Val score: 0.885513\n",
      "Training stopped.\n"
     ]
    }
   ],
   "source": [
    "from scripts.train import train_model\n",
    "\n",
    "history = train_model(\n",
    "    model=best_model_nn,\n",
    "    train_dataloader=train_dataloader,\n",
    "    val_dataloader=val_dataloader,\n",
    "    loss_fn=loss_fn,\n",
    "    optimizer=optimizer,\n",
    "    metric=metric,\n",
    "    epochs=500,\n",
    "    early_stopping=early_stop,\n",
    "    device=device\n",
    ")"
   ]
  },
  {
   "cell_type": "code",
   "execution_count": 42,
   "metadata": {},
   "outputs": [
    {
     "data": {
      "image/png": "[encoded data removed]",
      "text/plain": [
       "<Figure size 1200x600 with 2 Axes>"
      ]
     },
     "metadata": {},
     "output_type": "display_data"
    }
   ],
   "source": [
    "from scripts.utils import plot_train_history\n",
    "\n",
    "plot_train_history(history)"
   ]
  },
  {
   "cell_type": "code",
   "execution_count": 43,
   "metadata": {},
   "outputs": [],
   "source": [
    "from scripts.test import predict\n",
    "\n",
    "scores_nn = torch.tensor([\n",
    "    metric(\n",
    "        predict(best_model_nn, X_test[i], device),\n",
    "        Y_test[i]\n",
    "    ) for i in range(128)\n",
    "])"
   ]
  },
  {
   "attachments": {},
   "cell_type": "markdown",
   "metadata": {},
   "source": [
    "### With class flipping in random orthants"
   ]
  },
  {
   "cell_type": "code",
   "execution_count": 44,
   "metadata": {},
   "outputs": [],
   "source": [
    "best_depth_flip = None\n",
    "best_width_flip = None\n",
    "best_lambda_flip = None\n",
    "best_eta_flip = None\n",
    "best_betas_flip = None\n",
    "best_score_flip = -1"
   ]
  },
  {
   "cell_type": "code",
   "execution_count": 45,
   "metadata": {},
   "outputs": [
    {
     "name": "stdout",
     "output_type": "stream",
     "text": [
      "Model 1 of 360 trained. Validation accuracy: 0.507440447807312\n",
      "Model 2 of 360 trained. Validation accuracy: 0.5461309552192688\n",
      "Model 3 of 360 trained. Validation accuracy: 0.4107142984867096\n",
      "Model 4 of 360 trained. Validation accuracy: 0.4970238208770752\n",
      "Model 5 of 360 trained. Validation accuracy: 0.4910714328289032\n",
      "Model 6 of 360 trained. Validation accuracy: 0.5639880895614624\n",
      "Model 7 of 360 trained. Validation accuracy: 0.5133928656578064\n",
      "Model 8 of 360 trained. Validation accuracy: 0.5163690447807312\n",
      "Model 9 of 360 trained. Validation accuracy: 0.4672618806362152\n",
      "Model 10 of 360 trained. Validation accuracy: 0.4479166865348816\n",
      "Model 11 of 360 trained. Validation accuracy: 0.5327380895614624\n",
      "Model 12 of 360 trained. Validation accuracy: 0.4538690447807312\n",
      "Model 13 of 360 trained. Validation accuracy: 0.5208333134651184\n",
      "Model 14 of 360 trained. Validation accuracy: 0.5372024178504944\n",
      "Model 15 of 360 trained. Validation accuracy: 0.443452388048172\n",
      "Model 16 of 360 trained. Validation accuracy: 0.519345223903656\n",
      "Model 17 of 360 trained. Validation accuracy: 0.4955357015132904\n",
      "Model 18 of 360 trained. Validation accuracy: 0.4880952537059784\n",
      "Model 19 of 360 trained. Validation accuracy: 0.4895833134651184\n",
      "Model 20 of 360 trained. Validation accuracy: 0.5282738208770752\n",
      "Model 21 of 360 trained. Validation accuracy: 0.4598214328289032\n",
      "Model 22 of 360 trained. Validation accuracy: 0.4776785671710968\n",
      "Model 23 of 360 trained. Validation accuracy: 0.462797611951828\n",
      "Model 24 of 360 trained. Validation accuracy: 0.4851190447807312\n",
      "Model 25 of 360 trained. Validation accuracy: 0.5372024178504944\n",
      "Model 26 of 360 trained. Validation accuracy: 0.4732142984867096\n",
      "Model 27 of 360 trained. Validation accuracy: 0.5595238208770752\n",
      "Model 28 of 360 trained. Validation accuracy: 0.494047611951828\n",
      "Model 29 of 360 trained. Validation accuracy: 0.4598214328289032\n",
      "Model 30 of 360 trained. Validation accuracy: 0.4806547462940216\n",
      "Model 31 of 360 trained. Validation accuracy: 0.5178571343421936\n",
      "Model 32 of 360 trained. Validation accuracy: 0.5372024178504944\n",
      "Model 33 of 360 trained. Validation accuracy: 0.5416666865348816\n",
      "Model 34 of 360 trained. Validation accuracy: 0.4166666865348816\n",
      "Model 35 of 360 trained. Validation accuracy: 0.4761904776096344\n",
      "Model 36 of 360 trained. Validation accuracy: 0.4776785671710968\n",
      "Model 37 of 360 trained. Validation accuracy: 0.4389881193637848\n",
      "Model 38 of 360 trained. Validation accuracy: 0.5104166865348816\n",
      "Model 39 of 360 trained. Validation accuracy: 0.5178571343421936\n",
      "Model 40 of 360 trained. Validation accuracy: 0.5\n",
      "Model 41 of 360 trained. Validation accuracy: 0.4880952537059784\n",
      "Model 42 of 360 trained. Validation accuracy: 0.4494047462940216\n",
      "Model 43 of 360 trained. Validation accuracy: 0.550595223903656\n",
      "Model 44 of 360 trained. Validation accuracy: 0.4732142984867096\n",
      "Model 45 of 360 trained. Validation accuracy: 0.5178571343421936\n",
      "Model 46 of 360 trained. Validation accuracy: 0.4955357015132904\n",
      "Model 47 of 360 trained. Validation accuracy: 0.4598214328289032\n",
      "Model 48 of 360 trained. Validation accuracy: 0.462797611951828\n",
      "Model 49 of 360 trained. Validation accuracy: 0.5372024178504944\n",
      "Model 50 of 360 trained. Validation accuracy: 0.5654761791229248\n",
      "Model 51 of 360 trained. Validation accuracy: 0.5327380895614624\n",
      "Model 52 of 360 trained. Validation accuracy: 0.5044642686843872\n",
      "Model 53 of 360 trained. Validation accuracy: 0.4092261791229248\n",
      "Model 54 of 360 trained. Validation accuracy: 0.5089285969734192\n",
      "Model 55 of 360 trained. Validation accuracy: 0.5297619104385376\n",
      "Model 56 of 360 trained. Validation accuracy: 0.4717261791229248\n",
      "Model 57 of 360 trained. Validation accuracy: 0.4895833134651184\n",
      "Model 58 of 360 trained. Validation accuracy: 0.4241071343421936\n",
      "Model 59 of 360 trained. Validation accuracy: 0.4494047462940216\n",
      "Model 60 of 360 trained. Validation accuracy: 0.5148809552192688\n",
      "Model 61 of 360 trained. Validation accuracy: 0.538690447807312\n",
      "Model 62 of 360 trained. Validation accuracy: 0.574404776096344\n",
      "Model 63 of 360 trained. Validation accuracy: 0.4851190447807312\n",
      "Model 64 of 360 trained. Validation accuracy: 0.5267857313156128\n",
      "Model 65 of 360 trained. Validation accuracy: 0.4464285671710968\n",
      "Model 66 of 360 trained. Validation accuracy: 0.4836309552192688\n",
      "Model 67 of 360 trained. Validation accuracy: 0.519345223903656\n",
      "Model 68 of 360 trained. Validation accuracy: 0.555059552192688\n",
      "Model 69 of 360 trained. Validation accuracy: 0.5476190447807312\n",
      "Model 70 of 360 trained. Validation accuracy: 0.494047611951828\n",
      "Model 71 of 360 trained. Validation accuracy: 0.431547611951828\n",
      "Model 72 of 360 trained. Validation accuracy: 0.4761904776096344\n",
      "Model 73 of 360 trained. Validation accuracy: 0.5491071343421936\n",
      "Model 74 of 360 trained. Validation accuracy: 0.5178571343421936\n",
      "Model 75 of 360 trained. Validation accuracy: 0.4449404776096344\n",
      "Model 76 of 360 trained. Validation accuracy: 0.4255952537059784\n",
      "Model 77 of 360 trained. Validation accuracy: 0.5282738208770752\n",
      "Model 78 of 360 trained. Validation accuracy: 0.5535714030265808\n",
      "Model 79 of 360 trained. Validation accuracy: 0.5059524178504944\n",
      "Model 80 of 360 trained. Validation accuracy: 0.5416666865348816\n",
      "Model 81 of 360 trained. Validation accuracy: 0.4404761791229248\n",
      "Model 82 of 360 trained. Validation accuracy: 0.4925595223903656\n",
      "Model 83 of 360 trained. Validation accuracy: 0.5148809552192688\n",
      "Model 84 of 360 trained. Validation accuracy: 0.474702388048172\n",
      "Model 85 of 360 trained. Validation accuracy: 0.4791666865348816\n",
      "Model 86 of 360 trained. Validation accuracy: 0.494047611951828\n",
      "Model 87 of 360 trained. Validation accuracy: 0.4523809552192688\n",
      "Model 88 of 360 trained. Validation accuracy: 0.4389881193637848\n",
      "Model 89 of 360 trained. Validation accuracy: 0.4806547462940216\n",
      "Model 90 of 360 trained. Validation accuracy: 0.4895833134651184\n",
      "Model 91 of 360 trained. Validation accuracy: 0.555059552192688\n",
      "Model 92 of 360 trained. Validation accuracy: 0.574404776096344\n",
      "Model 93 of 360 trained. Validation accuracy: 0.494047611951828\n",
      "Model 94 of 360 trained. Validation accuracy: 0.555059552192688\n",
      "Model 95 of 360 trained. Validation accuracy: 0.4925595223903656\n",
      "Model 96 of 360 trained. Validation accuracy: 0.5059524178504944\n",
      "Model 97 of 360 trained. Validation accuracy: 0.4776785671710968\n",
      "Model 98 of 360 trained. Validation accuracy: 0.4866071343421936\n",
      "Model 99 of 360 trained. Validation accuracy: 0.4910714328289032\n",
      "Model 100 of 360 trained. Validation accuracy: 0.5461309552192688\n",
      "Model 101 of 360 trained. Validation accuracy: 0.5476190447807312\n",
      "Model 102 of 360 trained. Validation accuracy: 0.4970238208770752\n",
      "Model 103 of 360 trained. Validation accuracy: 0.4761904776096344\n",
      "Model 104 of 360 trained. Validation accuracy: 0.494047611951828\n",
      "Model 105 of 360 trained. Validation accuracy: 0.431547611951828\n",
      "Model 106 of 360 trained. Validation accuracy: 0.5104166865348816\n",
      "Model 107 of 360 trained. Validation accuracy: 0.4449404776096344\n",
      "Model 108 of 360 trained. Validation accuracy: 0.4226190447807312\n",
      "Model 109 of 360 trained. Validation accuracy: 0.4910714328289032\n",
      "Model 110 of 360 trained. Validation accuracy: 0.5327380895614624\n",
      "Model 111 of 360 trained. Validation accuracy: 0.5848214030265808\n",
      "Model 112 of 360 trained. Validation accuracy: 0.5\n",
      "Model 113 of 360 trained. Validation accuracy: 0.4732142984867096\n",
      "Model 114 of 360 trained. Validation accuracy: 0.4657738208770752\n",
      "Model 115 of 360 trained. Validation accuracy: 0.5580357313156128\n",
      "Model 116 of 360 trained. Validation accuracy: 0.5625\n",
      "Model 117 of 360 trained. Validation accuracy: 0.4910714328289032\n",
      "Model 118 of 360 trained. Validation accuracy: 0.5\n",
      "Model 119 of 360 trained. Validation accuracy: 0.4389881193637848\n",
      "Model 120 of 360 trained. Validation accuracy: 0.5014880895614624\n",
      "Model 121 of 360 trained. Validation accuracy: 0.507440447807312\n",
      "Model 122 of 360 trained. Validation accuracy: 0.550595223903656\n",
      "Model 123 of 360 trained. Validation accuracy: 0.474702388048172\n",
      "Model 124 of 360 trained. Validation accuracy: 0.4717261791229248\n",
      "Model 125 of 360 trained. Validation accuracy: 0.4598214328289032\n",
      "Model 126 of 360 trained. Validation accuracy: 0.4821428656578064\n",
      "Model 127 of 360 trained. Validation accuracy: 0.4523809552192688\n",
      "Model 128 of 360 trained. Validation accuracy: 0.5252975821495056\n",
      "Model 129 of 360 trained. Validation accuracy: 0.5327380895614624\n",
      "Model 130 of 360 trained. Validation accuracy: 0.5089285969734192\n",
      "Model 131 of 360 trained. Validation accuracy: 0.5476190447807312\n",
      "Model 132 of 360 trained. Validation accuracy: 0.4672618806362152\n",
      "Model 133 of 360 trained. Validation accuracy: 0.6145833730697632\n",
      "Model 134 of 360 trained. Validation accuracy: 0.474702388048172\n",
      "Model 135 of 360 trained. Validation accuracy: 0.5520833134651184\n",
      "Model 136 of 360 trained. Validation accuracy: 0.523809552192688\n",
      "Model 137 of 360 trained. Validation accuracy: 0.4925595223903656\n",
      "Model 138 of 360 trained. Validation accuracy: 0.4672618806362152\n",
      "Model 139 of 360 trained. Validation accuracy: 0.5357142686843872\n",
      "Model 140 of 360 trained. Validation accuracy: 0.5044642686843872\n",
      "Model 141 of 360 trained. Validation accuracy: 0.5416666865348816\n",
      "Model 142 of 360 trained. Validation accuracy: 0.5461309552192688\n",
      "Model 143 of 360 trained. Validation accuracy: 0.4717261791229248\n",
      "Model 144 of 360 trained. Validation accuracy: 0.4970238208770752\n",
      "Model 145 of 360 trained. Validation accuracy: 0.5104166865348816\n",
      "Model 146 of 360 trained. Validation accuracy: 0.5059524178504944\n",
      "Model 147 of 360 trained. Validation accuracy: 0.5491071343421936\n",
      "Model 148 of 360 trained. Validation accuracy: 0.4895833134651184\n",
      "Model 149 of 360 trained. Validation accuracy: 0.4910714328289032\n",
      "Model 150 of 360 trained. Validation accuracy: 0.4910714328289032\n",
      "Model 151 of 360 trained. Validation accuracy: 0.4568452537059784\n",
      "Model 152 of 360 trained. Validation accuracy: 0.4851190447807312\n",
      "Model 153 of 360 trained. Validation accuracy: 0.4851190447807312\n",
      "Model 154 of 360 trained. Validation accuracy: 0.507440447807312\n",
      "Model 155 of 360 trained. Validation accuracy: 0.5416666865348816\n",
      "Model 156 of 360 trained. Validation accuracy: 0.4732142984867096\n",
      "Model 157 of 360 trained. Validation accuracy: 0.4375\n",
      "Model 158 of 360 trained. Validation accuracy: 0.511904776096344\n",
      "Model 159 of 360 trained. Validation accuracy: 0.5059524178504944\n",
      "Model 160 of 360 trained. Validation accuracy: 0.4895833134651184\n",
      "Model 161 of 360 trained. Validation accuracy: 0.4851190447807312\n",
      "Model 162 of 360 trained. Validation accuracy: 0.4761904776096344\n",
      "Model 163 of 360 trained. Validation accuracy: 0.5401785969734192\n",
      "Model 164 of 360 trained. Validation accuracy: 0.555059552192688\n",
      "Model 165 of 360 trained. Validation accuracy: 0.4360118806362152\n",
      "Model 166 of 360 trained. Validation accuracy: 0.4910714328289032\n",
      "Model 167 of 360 trained. Validation accuracy: 0.4866071343421936\n",
      "Model 168 of 360 trained. Validation accuracy: 0.543154776096344\n",
      "Model 169 of 360 trained. Validation accuracy: 0.5267857313156128\n",
      "Model 170 of 360 trained. Validation accuracy: 0.5178571343421936\n",
      "Model 171 of 360 trained. Validation accuracy: 0.474702388048172\n",
      "Model 172 of 360 trained. Validation accuracy: 0.5\n",
      "Model 173 of 360 trained. Validation accuracy: 0.4791666865348816\n",
      "Model 174 of 360 trained. Validation accuracy: 0.5\n",
      "Model 175 of 360 trained. Validation accuracy: 0.5\n",
      "Model 176 of 360 trained. Validation accuracy: 0.5059524178504944\n",
      "Model 177 of 360 trained. Validation accuracy: 0.46875\n",
      "Model 178 of 360 trained. Validation accuracy: 0.5565475821495056\n",
      "Model 179 of 360 trained. Validation accuracy: 0.4479166865348816\n",
      "Model 180 of 360 trained. Validation accuracy: 0.4970238208770752\n",
      "Model 181 of 360 trained. Validation accuracy: 0.523809552192688\n",
      "Model 182 of 360 trained. Validation accuracy: 0.507440447807312\n",
      "Model 183 of 360 trained. Validation accuracy: 0.5133928656578064\n",
      "Model 184 of 360 trained. Validation accuracy: 0.4613095223903656\n",
      "Model 185 of 360 trained. Validation accuracy: 0.4880952537059784\n",
      "Model 186 of 360 trained. Validation accuracy: 0.4866071343421936\n",
      "Model 187 of 360 trained. Validation accuracy: 0.543154776096344\n",
      "Model 188 of 360 trained. Validation accuracy: 0.5654761791229248\n",
      "Model 189 of 360 trained. Validation accuracy: 0.494047611951828\n",
      "Model 190 of 360 trained. Validation accuracy: 0.4538690447807312\n",
      "Model 191 of 360 trained. Validation accuracy: 0.5133928656578064\n",
      "Model 192 of 360 trained. Validation accuracy: 0.511904776096344\n",
      "Model 193 of 360 trained. Validation accuracy: 0.5\n",
      "Model 194 of 360 trained. Validation accuracy: 0.4672618806362152\n",
      "Model 195 of 360 trained. Validation accuracy: 0.5476190447807312\n",
      "Model 196 of 360 trained. Validation accuracy: 0.5133928656578064\n",
      "Model 197 of 360 trained. Validation accuracy: 0.5014880895614624\n",
      "Model 198 of 360 trained. Validation accuracy: 0.5342261791229248\n",
      "Model 199 of 360 trained. Validation accuracy: 0.543154776096344\n",
      "Model 200 of 360 trained. Validation accuracy: 0.5595238208770752\n",
      "Model 201 of 360 trained. Validation accuracy: 0.5654761791229248\n",
      "Model 202 of 360 trained. Validation accuracy: 0.4583333134651184\n",
      "Model 203 of 360 trained. Validation accuracy: 0.4523809552192688\n",
      "Model 204 of 360 trained. Validation accuracy: 0.4538690447807312\n",
      "Model 205 of 360 trained. Validation accuracy: 0.5565475821495056\n",
      "Model 206 of 360 trained. Validation accuracy: 0.5357142686843872\n",
      "Model 207 of 360 trained. Validation accuracy: 0.5327380895614624\n",
      "Model 208 of 360 trained. Validation accuracy: 0.4702381193637848\n",
      "Model 209 of 360 trained. Validation accuracy: 0.4479166865348816\n",
      "Model 210 of 360 trained. Validation accuracy: 0.4211309552192688\n",
      "Model 211 of 360 trained. Validation accuracy: 0.5104166865348816\n",
      "Model 212 of 360 trained. Validation accuracy: 0.5342261791229248\n",
      "Model 213 of 360 trained. Validation accuracy: 0.5178571343421936\n",
      "Model 214 of 360 trained. Validation accuracy: 0.4895833134651184\n",
      "Model 215 of 360 trained. Validation accuracy: 0.538690447807312\n",
      "Model 216 of 360 trained. Validation accuracy: 0.4851190447807312\n",
      "Model 217 of 360 trained. Validation accuracy: 0.555059552192688\n",
      "Model 218 of 360 trained. Validation accuracy: 0.494047611951828\n",
      "Model 219 of 360 trained. Validation accuracy: 0.5282738208770752\n",
      "Model 220 of 360 trained. Validation accuracy: 0.4717261791229248\n",
      "Model 221 of 360 trained. Validation accuracy: 0.4717261791229248\n",
      "Model 222 of 360 trained. Validation accuracy: 0.5342261791229248\n",
      "Model 223 of 360 trained. Validation accuracy: 0.5267857313156128\n",
      "Model 224 of 360 trained. Validation accuracy: 0.4955357015132904\n",
      "Model 225 of 360 trained. Validation accuracy: 0.4910714328289032\n",
      "Model 226 of 360 trained. Validation accuracy: 0.4836309552192688\n",
      "Model 227 of 360 trained. Validation accuracy: 0.4672618806362152\n",
      "Model 228 of 360 trained. Validation accuracy: 0.4866071343421936\n",
      "Model 229 of 360 trained. Validation accuracy: 0.5535714030265808\n",
      "Model 230 of 360 trained. Validation accuracy: 0.5327380895614624\n",
      "Model 231 of 360 trained. Validation accuracy: 0.5029761791229248\n",
      "Model 232 of 360 trained. Validation accuracy: 0.4895833134651184\n",
      "Model 233 of 360 trained. Validation accuracy: 0.4538690447807312\n",
      "Model 234 of 360 trained. Validation accuracy: 0.5297619104385376\n",
      "Model 235 of 360 trained. Validation accuracy: 0.4523809552192688\n",
      "Model 236 of 360 trained. Validation accuracy: 0.5446428656578064\n",
      "Model 237 of 360 trained. Validation accuracy: 0.5044642686843872\n",
      "Model 238 of 360 trained. Validation accuracy: 0.4985118806362152\n",
      "Model 239 of 360 trained. Validation accuracy: 0.4910714328289032\n",
      "Model 240 of 360 trained. Validation accuracy: 0.5297619104385376\n",
      "Model 241 of 360 trained. Validation accuracy: 0.5416666865348816\n",
      "Model 242 of 360 trained. Validation accuracy: 0.5461309552192688\n",
      "Model 243 of 360 trained. Validation accuracy: 0.4970238208770752\n",
      "Model 244 of 360 trained. Validation accuracy: 0.5163690447807312\n",
      "Model 245 of 360 trained. Validation accuracy: 0.523809552192688\n",
      "Model 246 of 360 trained. Validation accuracy: 0.4776785671710968\n",
      "Model 247 of 360 trained. Validation accuracy: 0.550595223903656\n",
      "Model 248 of 360 trained. Validation accuracy: 0.550595223903656\n",
      "Model 249 of 360 trained. Validation accuracy: 0.555059552192688\n",
      "Model 250 of 360 trained. Validation accuracy: 0.5476190447807312\n",
      "Model 251 of 360 trained. Validation accuracy: 0.5104166865348816\n",
      "Model 252 of 360 trained. Validation accuracy: 0.46875\n",
      "Model 253 of 360 trained. Validation accuracy: 0.4523809552192688\n",
      "Model 254 of 360 trained. Validation accuracy: 0.5208333134651184\n",
      "Model 255 of 360 trained. Validation accuracy: 0.494047611951828\n",
      "Model 256 of 360 trained. Validation accuracy: 0.4479166865348816\n",
      "Model 257 of 360 trained. Validation accuracy: 0.4717261791229248\n",
      "Model 258 of 360 trained. Validation accuracy: 0.462797611951828\n",
      "Model 259 of 360 trained. Validation accuracy: 0.4851190447807312\n",
      "Model 260 of 360 trained. Validation accuracy: 0.5327380895614624\n",
      "Model 261 of 360 trained. Validation accuracy: 0.4895833134651184\n",
      "Model 262 of 360 trained. Validation accuracy: 0.5342261791229248\n",
      "Model 263 of 360 trained. Validation accuracy: 0.519345223903656\n",
      "Model 264 of 360 trained. Validation accuracy: 0.4821428656578064\n",
      "Model 265 of 360 trained. Validation accuracy: 0.4985118806362152\n",
      "Model 266 of 360 trained. Validation accuracy: 0.5\n",
      "Model 267 of 360 trained. Validation accuracy: 0.5654761791229248\n",
      "Model 268 of 360 trained. Validation accuracy: 0.507440447807312\n",
      "Model 269 of 360 trained. Validation accuracy: 0.5044642686843872\n",
      "Model 270 of 360 trained. Validation accuracy: 0.5327380895614624\n",
      "Model 271 of 360 trained. Validation accuracy: 0.569940447807312\n",
      "Model 272 of 360 trained. Validation accuracy: 0.4851190447807312\n",
      "Model 273 of 360 trained. Validation accuracy: 0.5297619104385376\n",
      "Model 274 of 360 trained. Validation accuracy: 0.511904776096344\n",
      "Model 275 of 360 trained. Validation accuracy: 0.5178571343421936\n",
      "Model 276 of 360 trained. Validation accuracy: 0.5029761791229248\n",
      "Model 277 of 360 trained. Validation accuracy: 0.5044642686843872\n",
      "Model 278 of 360 trained. Validation accuracy: 0.474702388048172\n",
      "Model 279 of 360 trained. Validation accuracy: 0.5252975821495056\n",
      "Model 280 of 360 trained. Validation accuracy: 0.5848214030265808\n",
      "Model 281 of 360 trained. Validation accuracy: 0.4538690447807312\n",
      "Model 282 of 360 trained. Validation accuracy: 0.4360118806362152\n",
      "Model 283 of 360 trained. Validation accuracy: 0.4717261791229248\n",
      "Model 284 of 360 trained. Validation accuracy: 0.550595223903656\n",
      "Model 285 of 360 trained. Validation accuracy: 0.5252975821495056\n",
      "Model 286 of 360 trained. Validation accuracy: 0.5044642686843872\n",
      "Model 287 of 360 trained. Validation accuracy: 0.519345223903656\n",
      "Model 288 of 360 trained. Validation accuracy: 0.4880952537059784\n",
      "Model 289 of 360 trained. Validation accuracy: 0.5104166865348816\n",
      "Model 290 of 360 trained. Validation accuracy: 0.4761904776096344\n",
      "Model 291 of 360 trained. Validation accuracy: 0.5327380895614624\n",
      "Model 292 of 360 trained. Validation accuracy: 0.5148809552192688\n",
      "Model 293 of 360 trained. Validation accuracy: 0.4910714328289032\n",
      "Model 294 of 360 trained. Validation accuracy: 0.5104166865348816\n",
      "Model 295 of 360 trained. Validation accuracy: 0.5639880895614624\n",
      "Model 296 of 360 trained. Validation accuracy: 0.5491071343421936\n",
      "Model 297 of 360 trained. Validation accuracy: 0.5133928656578064\n",
      "Model 298 of 360 trained. Validation accuracy: 0.543154776096344\n",
      "Model 299 of 360 trained. Validation accuracy: 0.4330357015132904\n",
      "Model 300 of 360 trained. Validation accuracy: 0.4910714328289032\n",
      "Model 301 of 360 trained. Validation accuracy: 0.4657738208770752\n",
      "Model 302 of 360 trained. Validation accuracy: 0.5416666865348816\n",
      "Model 303 of 360 trained. Validation accuracy: 0.507440447807312\n",
      "Model 304 of 360 trained. Validation accuracy: 0.4523809552192688\n",
      "Model 305 of 360 trained. Validation accuracy: 0.5089285969734192\n",
      "Model 306 of 360 trained. Validation accuracy: 0.5297619104385376\n",
      "Model 307 of 360 trained. Validation accuracy: 0.5476190447807312\n",
      "Model 308 of 360 trained. Validation accuracy: 0.5044642686843872\n",
      "Model 309 of 360 trained. Validation accuracy: 0.5014880895614624\n",
      "Model 310 of 360 trained. Validation accuracy: 0.5520833134651184\n",
      "Model 311 of 360 trained. Validation accuracy: 0.4910714328289032\n",
      "Model 312 of 360 trained. Validation accuracy: 0.4866071343421936\n",
      "Model 313 of 360 trained. Validation accuracy: 0.5133928656578064\n",
      "Model 314 of 360 trained. Validation accuracy: 0.5372024178504944\n",
      "Model 315 of 360 trained. Validation accuracy: 0.5089285969734192\n",
      "Model 316 of 360 trained. Validation accuracy: 0.5282738208770752\n",
      "Model 317 of 360 trained. Validation accuracy: 0.4866071343421936\n",
      "Model 318 of 360 trained. Validation accuracy: 0.4910714328289032\n",
      "Model 319 of 360 trained. Validation accuracy: 0.3973214328289032\n",
      "Model 320 of 360 trained. Validation accuracy: 0.5\n",
      "Model 321 of 360 trained. Validation accuracy: 0.5639880895614624\n",
      "Model 322 of 360 trained. Validation accuracy: 0.4791666865348816\n",
      "Model 323 of 360 trained. Validation accuracy: 0.5625\n",
      "Model 324 of 360 trained. Validation accuracy: 0.5104166865348816\n",
      "Model 325 of 360 trained. Validation accuracy: 0.5044642686843872\n",
      "Model 326 of 360 trained. Validation accuracy: 0.5476190447807312\n",
      "Model 327 of 360 trained. Validation accuracy: 0.5014880895614624\n",
      "Model 328 of 360 trained. Validation accuracy: 0.4895833134651184\n",
      "Model 329 of 360 trained. Validation accuracy: 0.4568452537059784\n",
      "Model 330 of 360 trained. Validation accuracy: 0.4761904776096344\n",
      "Model 331 of 360 trained. Validation accuracy: 0.4910714328289032\n",
      "Model 332 of 360 trained. Validation accuracy: 0.5104166865348816\n",
      "Model 333 of 360 trained. Validation accuracy: 0.5491071343421936\n",
      "Model 334 of 360 trained. Validation accuracy: 0.5520833134651184\n",
      "Model 335 of 360 trained. Validation accuracy: 0.5104166865348816\n",
      "Model 336 of 360 trained. Validation accuracy: 0.431547611951828\n",
      "Model 337 of 360 trained. Validation accuracy: 0.4360118806362152\n",
      "Model 338 of 360 trained. Validation accuracy: 0.5372024178504944\n",
      "Model 339 of 360 trained. Validation accuracy: 0.5223214030265808\n",
      "Model 340 of 360 trained. Validation accuracy: 0.4479166865348816\n",
      "Model 341 of 360 trained. Validation accuracy: 0.5148809552192688\n",
      "Model 342 of 360 trained. Validation accuracy: 0.4806547462940216\n",
      "Model 343 of 360 trained. Validation accuracy: 0.4910714328289032\n",
      "Model 344 of 360 trained. Validation accuracy: 0.5208333134651184\n",
      "Model 345 of 360 trained. Validation accuracy: 0.5401785969734192\n",
      "Model 346 of 360 trained. Validation accuracy: 0.5446428656578064\n",
      "Model 347 of 360 trained. Validation accuracy: 0.5089285969734192\n",
      "Model 348 of 360 trained. Validation accuracy: 0.4776785671710968\n",
      "Model 349 of 360 trained. Validation accuracy: 0.5178571343421936\n",
      "Model 350 of 360 trained. Validation accuracy: 0.5133928656578064\n",
      "Model 351 of 360 trained. Validation accuracy: 0.4985118806362152\n",
      "Model 352 of 360 trained. Validation accuracy: 0.53125\n",
      "Model 353 of 360 trained. Validation accuracy: 0.519345223903656\n",
      "Model 354 of 360 trained. Validation accuracy: 0.4523809552192688\n",
      "Model 355 of 360 trained. Validation accuracy: 0.4732142984867096\n",
      "Model 356 of 360 trained. Validation accuracy: 0.5342261791229248\n",
      "Model 357 of 360 trained. Validation accuracy: 0.5223214030265808\n",
      "Model 358 of 360 trained. Validation accuracy: 0.5267857313156128\n",
      "Model 359 of 360 trained. Validation accuracy: 0.5044642686843872\n",
      "Model 360 of 360 trained. Validation accuracy: 0.4494047462940216\n",
      "Results:\n",
      "Depth: 2\n",
      "Width: 64\n",
      "Lambda: 1e-05\n",
      "Eta: 0.01\n",
      "Betas: (0.9, 0.999)\n",
      "Accuracy after 32 epochs: 0.6145833730697632\n"
     ]
    }
   ],
   "source": [
    "count = 0\n",
    "total = len(depths) * len(widths) * len(lambdas) * len(etas) * len(betass)\n",
    "EPOCHS = 32\n",
    "for depth in depths:\n",
    "    for width in widths:\n",
    "        for lambda_i in lambdas:\n",
    "            for eta in etas:\n",
    "                for betas in betass:\n",
    "                    model = SimpleNN(hidden_layers=depth, hidden_units=width).to(device)\n",
    "                    loss_fn = torch.nn.BCELoss()\n",
    "                    optimizer = torch.optim.Adam(params=model.parameters(), lr=eta, betas=betas, weight_decay=lambda_i)\n",
    "                    metric = BinaryAccuracy()\n",
    "                    history = train_model(\n",
    "                        model=model,\n",
    "                        train_dataloader=train_flip_cv_dataloader,\n",
    "                        val_dataloader=val_flip_cv_dataloader,\n",
    "                        loss_fn=loss_fn,\n",
    "                        optimizer=optimizer,\n",
    "                        metric=metric,\n",
    "                        epochs=EPOCHS,\n",
    "                        verbose=0,\n",
    "                        device=device\n",
    "                    )\n",
    "                    count += 1\n",
    "                    score = history['val_score'][-1]\n",
    "                    print(f'Model {count} of {total} trained. Validation accuracy: {score}')\n",
    "                    if score > best_score_flip:\n",
    "                        best_score_flip = score\n",
    "                        best_depth_flip = depth\n",
    "                        best_width_flip = width\n",
    "                        best_lambda_flip = lambda_i\n",
    "                        best_eta_flip = eta\n",
    "                        best_betas_flip = betas\n",
    "\n",
    "print(f'Results:\\nDepth: {best_depth_flip}\\nWidth: {best_width_flip}\\nLambda: {best_lambda_flip}\\nEta: {best_eta_flip}\\nBetas: {best_betas_flip}\\nAccuracy after {EPOCHS} epochs: {best_score_flip}')"
   ]
  },
  {
   "cell_type": "code",
   "execution_count": 46,
   "metadata": {},
   "outputs": [],
   "source": [
    "best_model_flip_nn = SimpleNN(hidden_layers=best_depth_flip, hidden_units=best_width_flip).to(device)"
   ]
  },
  {
   "cell_type": "code",
   "execution_count": 47,
   "metadata": {},
   "outputs": [],
   "source": [
    "loss_fn = torch.nn.BCELoss()\n",
    "optimizer = torch.optim.Adam(params=best_model_flip_nn.parameters(), lr=best_eta_flip, betas=best_betas_flip, weight_decay=best_lambda_flip)\n",
    "metric = BinaryAccuracy()"
   ]
  },
  {
   "cell_type": "code",
   "execution_count": 48,
   "metadata": {},
   "outputs": [],
   "source": [
    "early_stop = EarlyStopping(patience=20, min_delta=1e-4)"
   ]
  },
  {
   "cell_type": "code",
   "execution_count": 49,
   "metadata": {},
   "outputs": [
    {
     "name": "stdout",
     "output_type": "stream",
     "text": [
      "Training model for 500 epochs. Early stopping enabled.\n",
      "Epoch: 1 => Train loss: 0.696346, Train score: 0.497594, Val loss: 0.693087, Val score: 0.504368\n",
      "Epoch: 2 => Train loss: 0.694187, Train score: 0.493310, Val loss: 0.695037, Val score: 0.482930\n",
      "Epoch: 3 => Train loss: 0.694573, Train score: 0.502177, Val loss: 0.693161, Val score: 0.488844\n",
      "Epoch: 4 => Train loss: 0.693308, Train score: 0.500641, Val loss: 0.693111, Val score: 0.504234\n",
      "Epoch: 5 => Train loss: 0.693086, Train score: 0.498832, Val loss: 0.693462, Val score: 0.503965\n",
      "Epoch: 6 => Train loss: 0.693482, Train score: 0.503666, Val loss: 0.693436, Val score: 0.503831\n",
      "Epoch: 7 => Train loss: 0.693398, Train score: 0.501260, Val loss: 0.693407, Val score: 0.503898\n",
      "Epoch: 8 => Train loss: 0.693431, Train score: 0.501879, Val loss: 0.693295, Val score: 0.504099\n",
      "Epoch: 9 => Train loss: 0.693148, Train score: 0.508317, Val loss: 0.693346, Val score: 0.495968\n",
      "Epoch: 10 => Train loss: 0.693428, Train score: 0.483229, Val loss: 0.693190, Val score: 0.504301\n",
      "Epoch: 11 => Train loss: 0.693327, Train score: 0.508042, Val loss: 0.693132, Val score: 0.503763\n",
      "Epoch: 12 => Train loss: 0.692830, Train score: 0.507423, Val loss: 0.694037, Val score: 0.503831\n",
      "Epoch: 13 => Train loss: 0.693257, Train score: 0.504399, Val loss: 0.693219, Val score: 0.496102\n",
      "Epoch: 14 => Train loss: 0.693135, Train score: 0.505017, Val loss: 0.693550, Val score: 0.495833\n",
      "Epoch: 15 => Train loss: 0.693917, Train score: 0.486758, Val loss: 0.693144, Val score: 0.504301\n",
      "Epoch: 16 => Train loss: 0.693567, Train score: 0.496838, Val loss: 0.693181, Val score: 0.496169\n",
      "Epoch: 17 => Train loss: 0.693283, Train score: 0.505796, Val loss: 0.693172, Val score: 0.503831\n",
      "Epoch: 18 => Train loss: 0.693386, Train score: 0.500916, Val loss: 0.693231, Val score: 0.504099\n",
      "Epoch: 19 => Train loss: 0.693297, Train score: 0.502887, Val loss: 0.693325, Val score: 0.504099\n",
      "Epoch: 20 => Train loss: 0.693329, Train score: 0.498854, Val loss: 0.693390, Val score: 0.504032\n",
      "Epoch: 21 => Train loss: 0.693253, Train score: 0.500527, Val loss: 0.693335, Val score: 0.504234\n",
      "Training stopped.\n"
     ]
    }
   ],
   "source": [
    "history = train_model(\n",
    "    model=best_model_flip_nn,\n",
    "    train_dataloader=train_flip_dataloader,\n",
    "    val_dataloader=val_flip_dataloader,\n",
    "    loss_fn=loss_fn,\n",
    "    optimizer=optimizer,\n",
    "    metric=metric,\n",
    "    epochs=500,\n",
    "    early_stopping=early_stop,\n",
    "    device=device\n",
    ")"
   ]
  },
  {
   "cell_type": "code",
   "execution_count": 50,
   "metadata": {},
   "outputs": [
    {
     "data": {
      "image/png": "[encoded data removed]",
      "text/plain": [
       "<Figure size 1200x600 with 2 Axes>"
      ]
     },
     "metadata": {},
     "output_type": "display_data"
    }
   ],
   "source": [
    "plot_train_history(history)"
   ]
  },
  {
   "cell_type": "code",
   "execution_count": 51,
   "metadata": {},
   "outputs": [],
   "source": [
    "scores_flip_nn = torch.tensor([\n",
    "    metric(\n",
    "        predict(best_model_flip_nn, X_test_flip[i], device),\n",
    "        Y_test_flip[i]\n",
    "    ) for i in range(128)\n",
    "])"
   ]
  },
  {
   "attachments": {},
   "cell_type": "markdown",
   "metadata": {},
   "source": [
    "### Orthant performance plot"
   ]
  },
  {
   "cell_type": "code",
   "execution_count": 52,
   "metadata": {},
   "outputs": [
    {
     "data": {
      "text/plain": [
       "Text(0.5, 0.98, 'Score vs no. of points for each orthant, NN')"
      ]
     },
     "execution_count": 52,
     "metadata": {},
     "output_type": "execute_result"
    },
    {
     "data": {
      "image/png": "[encoded data removed]",
      "text/plain": [
       "<Figure size 1300x600 with 2 Axes>"
      ]
     },
     "metadata": {},
     "output_type": "display_data"
    }
   ],
   "source": [
    "plt.figure(figsize=(13, 6))\n",
    "\n",
    "plt.subplot(121)\n",
    "plt.scatter(orthant_counts, scores_nn)\n",
    "plt.xlabel('Number of points')\n",
    "plt.ylabel('Binary accuracy')\n",
    "plt.title('No class filps')\n",
    "\n",
    "plt.subplot(122)\n",
    "plt.scatter(orthant_counts_flip, scores_flip_nn)\n",
    "plt.xlabel('Number of points')\n",
    "plt.ylabel('Binary accuracy')\n",
    "plt.title('Random class filps')\n",
    "\n",
    "plt.suptitle('Score vs no. of points for each orthant, NN')"
   ]
  },
  {
   "cell_type": "code",
   "execution_count": 53,
   "metadata": {},
   "outputs": [
    {
     "name": "stderr",
     "output_type": "stream",
     "text": [
      "/home/balakrishnan/.local/lib/python3.10/site-packages/scipy/stats/_stats_py.py:4427: ConstantInputWarning: An input array is constant; the correlation coefficient is not defined.\n",
      "  warnings.warn(stats.ConstantInputWarning(msg))\n"
     ]
    },
    {
     "data": {
      "text/plain": [
       "(0.6745242744236596, nan)"
      ]
     },
     "execution_count": 53,
     "metadata": {},
     "output_type": "execute_result"
    }
   ],
   "source": [
    "from scipy.stats import pearsonr\n",
    "\n",
    "pearsonr(orthant_counts, scores_nn).statistic, pearsonr(orthant_counts_flip, scores_flip_nn).statistic"
   ]
  },
  {
   "cell_type": "code",
   "execution_count": 54,
   "metadata": {},
   "outputs": [
    {
     "data": {
      "text/plain": [
       "(tensor(0.8407), tensor(0.5000))"
      ]
     },
     "execution_count": 54,
     "metadata": {},
     "output_type": "execute_result"
    }
   ],
   "source": [
    "scores_nn.mean(), scores_flip_nn.mean()"
   ]
  },
  {
   "cell_type": "code",
   "execution_count": 55,
   "metadata": {},
   "outputs": [
    {
     "name": "stdout",
     "output_type": "stream",
     "text": [
      "Performance in empty orthants:  tensor(0.5586) tensor(0.5000)\n",
      "Performance in rare orthants:  tensor(0.7617) tensor(0.5000)\n",
      "Performance in typical orthants:  tensor(0.8840) tensor(0.5000)\n"
     ]
    }
   ],
   "source": [
    "print('Performance in empty orthants: ', scores_nn[ZERO_ORTHANT_INDICES].mean(), scores_flip_nn[ZERO_ORTHANT_INDICES_FLIP].mean())\n",
    "print('Performance in rare orthants: ', scores_nn[LOW_ORTHANT_INDICES].mean(), scores_flip_nn[LOW_ORTHANT_INDICES_FLIP].mean())\n",
    "print('Performance in typical orthants: ', scores_nn[HIGH_ORTHANT_INDICES].mean(), scores_flip_nn[HIGH_ORTHANT_INDICES_FLIP].mean())"
   ]
  },
  {
   "attachments": {},
   "cell_type": "markdown",
   "metadata": {},
   "source": [
    "Okay, maybe a neural network can find symmetry? Can an SVM do this too? Is the test data too similar to training?"
   ]
  },
  {
   "attachments": {},
   "cell_type": "markdown",
   "metadata": {},
   "source": [
    "## SVM"
   ]
  },
  {
   "cell_type": "code",
   "execution_count": 56,
   "metadata": {},
   "outputs": [],
   "source": [
    "from sklearn.svm import SVC\n",
    "from sklearn.metrics import accuracy_score, make_scorer\n",
    "from scripts.ntk import NTK\n",
    "from sklearn.model_selection import GridSearchCV"
   ]
  },
  {
   "cell_type": "code",
   "execution_count": 57,
   "metadata": {},
   "outputs": [],
   "source": [
    "ntk = NTK(best_model_nn).get_ntk"
   ]
  },
  {
   "cell_type": "code",
   "execution_count": 58,
   "metadata": {},
   "outputs": [],
   "source": [
    "model_base = SVC(kernel=ntk)\n",
    "params = {\n",
    "    'C': np.logspace(-5, 5, 11)\n",
    "}\n",
    "scorer = make_scorer(accuracy_score)"
   ]
  },
  {
   "attachments": {},
   "cell_type": "markdown",
   "metadata": {},
   "source": [
    "### Without class flipping"
   ]
  },
  {
   "cell_type": "code",
   "execution_count": 59,
   "metadata": {},
   "outputs": [
    {
     "name": "stdout",
     "output_type": "stream",
     "text": [
      "Fitting 5 folds for each of 11 candidates, totalling 55 fits\n"
     ]
    },
    {
     "name": "stderr",
     "output_type": "stream",
     "text": [
      "/home/balakrishnan/.local/lib/python3.10/site-packages/torch/autograd/__init__.py:300: UserWarning: CUDA initialization: CUDA unknown error - this may be due to an incorrectly set up environment, e.g. changing env variable CUDA_VISIBLE_DEVICES after program start. Setting the available devices to be zero. (Triggered internally at ../c10/cuda/CUDAFunctions.cpp:109.)\n",
      "  return Variable._execution_engine.run_backward(  # Calls into the C++ engine to run the backward pass\n",
      "/home/balakrishnan/.local/lib/python3.10/site-packages/torch/autograd/__init__.py:300: UserWarning: CUDA initialization: CUDA unknown error - this may be due to an incorrectly set up environment, e.g. changing env variable CUDA_VISIBLE_DEVICES after program start. Setting the available devices to be zero. (Triggered internally at ../c10/cuda/CUDAFunctions.cpp:109.)\n",
      "  return Variable._execution_engine.run_backward(  # Calls into the C++ engine to run the backward pass\n",
      "/home/balakrishnan/.local/lib/python3.10/site-packages/torch/autograd/__init__.py:300: UserWarning: CUDA initialization: CUDA unknown error - this may be due to an incorrectly set up environment, e.g. changing env variable CUDA_VISIBLE_DEVICES after program start. Setting the available devices to be zero. (Triggered internally at ../c10/cuda/CUDAFunctions.cpp:109.)\n",
      "  return Variable._execution_engine.run_backward(  # Calls into the C++ engine to run the backward pass\n",
      "/home/balakrishnan/.local/lib/python3.10/site-packages/torch/autograd/__init__.py:300: UserWarning: CUDA initialization: CUDA unknown error - this may be due to an incorrectly set up environment, e.g. changing env variable CUDA_VISIBLE_DEVICES after program start. Setting the available devices to be zero. (Triggered internally at ../c10/cuda/CUDAFunctions.cpp:109.)\n",
      "  return Variable._execution_engine.run_backward(  # Calls into the C++ engine to run the backward pass\n",
      "/home/balakrishnan/.local/lib/python3.10/site-packages/torch/autograd/__init__.py:300: UserWarning: CUDA initialization: CUDA unknown error - this may be due to an incorrectly set up environment, e.g. changing env variable CUDA_VISIBLE_DEVICES after program start. Setting the available devices to be zero. (Triggered internally at ../c10/cuda/CUDAFunctions.cpp:109.)\n",
      "  return Variable._execution_engine.run_backward(  # Calls into the C++ engine to run the backward pass\n"
     ]
    },
    {
     "name": "stdout",
     "output_type": "stream",
     "text": [
      "[CV 4/5] END ...........................C=1e-05;, score=0.506 total time=   1.8s\n",
      "[CV 3/5] END ...........................C=1e-05;, score=0.510 total time=   1.9s\n",
      "[CV 1/5] END ...........................C=1e-05;, score=0.503 total time=   2.0s\n",
      "[CV 2/5] END ...........................C=1e-05;, score=0.503 total time=   2.0s\n",
      "[CV 5/5] END ...........................C=1e-05;, score=0.506 total time=   2.0s\n",
      "[CV 1/5] END ..........................C=0.0001;, score=0.510 total time=   1.9s\n",
      "[CV 2/5] END ..........................C=0.0001;, score=0.516 total time=   1.9s\n",
      "[CV 3/5] END ..........................C=0.0001;, score=0.510 total time=   1.9s\n",
      "[CV 4/5] END ..........................C=0.0001;, score=0.506 total time=   2.0s\n",
      "[CV 5/5] END ..........................C=0.0001;, score=0.506 total time=   2.0s\n",
      "[CV 1/5] END ...........................C=0.001;, score=0.555 total time=   1.8s\n",
      "[CV 2/5] END ...........................C=0.001;, score=0.555 total time=   1.9s\n",
      "[CV 4/5] END ...........................C=0.001;, score=0.532 total time=   1.9s\n",
      "[CV 3/5] END ...........................C=0.001;, score=0.574 total time=   2.0s\n",
      "[CV 5/5] END ...........................C=0.001;, score=0.565 total time=   1.9s\n",
      "[CV 1/5] END ............................C=0.01;, score=0.561 total time=   1.9s\n",
      "[CV 2/5] END ............................C=0.01;, score=0.542 total time=   1.9s\n",
      "[CV 4/5] END ............................C=0.01;, score=0.539 total time=   1.9s\n",
      "[CV 3/5] END ............................C=0.01;, score=0.568 total time=   1.9s\n",
      "[CV 5/5] END ............................C=0.01;, score=0.552 total time=   1.9s\n",
      "[CV 1/5] END .............................C=0.1;, score=0.594 total time=   1.8s\n",
      "[CV 2/5] END .............................C=0.1;, score=0.600 total time=   1.8s\n",
      "[CV 3/5] END .............................C=0.1;, score=0.594 total time=   1.9s\n",
      "[CV 4/5] END .............................C=0.1;, score=0.591 total time=   1.9s\n",
      "[CV 5/5] END .............................C=0.1;, score=0.597 total time=   1.9s\n",
      "[CV 1/5] END .............................C=1.0;, score=0.697 total time=   1.9s\n",
      "[CV 2/5] END .............................C=1.0;, score=0.677 total time=   1.9s\n",
      "[CV 3/5] END .............................C=1.0;, score=0.723 total time=   1.9s\n",
      "[CV 5/5] END .............................C=1.0;, score=0.682 total time=   1.8s\n",
      "[CV 4/5] END .............................C=1.0;, score=0.695 total time=   1.9s\n",
      "[CV 1/5] END ............................C=10.0;, score=0.774 total time=   1.8s\n",
      "[CV 2/5] END ............................C=10.0;, score=0.768 total time=   1.8s\n",
      "[CV 4/5] END ............................C=10.0;, score=0.760 total time=   1.9s\n",
      "[CV 3/5] END ............................C=10.0;, score=0.748 total time=   1.9s\n",
      "[CV 5/5] END ............................C=10.0;, score=0.760 total time=   1.9s\n",
      "[CV 1/5] END ...........................C=100.0;, score=0.858 total time=   1.8s\n",
      "[CV 2/5] END ...........................C=100.0;, score=0.839 total time=   1.9s\n",
      "[CV 3/5] END ...........................C=100.0;, score=0.819 total time=   1.8s\n",
      "[CV 5/5] END ...........................C=100.0;, score=0.792 total time=   1.8s\n",
      "[CV 4/5] END ...........................C=100.0;, score=0.812 total time=   2.0s\n",
      "[CV 1/5] END ..........................C=1000.0;, score=0.858 total time=   1.8s\n",
      "[CV 2/5] END ..........................C=1000.0;, score=0.852 total time=   1.8s\n",
      "[CV 3/5] END ..........................C=1000.0;, score=0.826 total time=   1.8s\n",
      "[CV 4/5] END ..........................C=1000.0;, score=0.851 total time=   1.9s\n",
      "[CV 5/5] END ..........................C=1000.0;, score=0.851 total time=   2.0s\n",
      "[CV 1/5] END .........................C=10000.0;, score=0.871 total time=   1.8s\n",
      "[CV 2/5] END .........................C=10000.0;, score=0.845 total time=   1.8s\n",
      "[CV 3/5] END .........................C=10000.0;, score=0.865 total time=   1.8s\n",
      "[CV 4/5] END .........................C=10000.0;, score=0.857 total time=   1.8s\n",
      "[CV 5/5] END .........................C=10000.0;, score=0.851 total time=   1.9s\n",
      "[CV 1/5] END ........................C=100000.0;, score=0.865 total time=   1.8s\n",
      "[CV 2/5] END ........................C=100000.0;, score=0.852 total time=   1.9s\n",
      "[CV 3/5] END ........................C=100000.0;, score=0.871 total time=   1.8s\n",
      "[CV 4/5] END ........................C=100000.0;, score=0.838 total time=   1.8s\n",
      "[CV 5/5] END ........................C=100000.0;, score=0.870 total time=   1.7s\n"
     ]
    },
    {
     "data": {
      "text/plain": [
       "{'C': 100000.0}"
      ]
     },
     "execution_count": 59,
     "metadata": {},
     "output_type": "execute_result"
    }
   ],
   "source": [
    "model_cv = GridSearchCV(\n",
    "    estimator=model_base,\n",
    "    param_grid=params,\n",
    "    scoring=scorer,\n",
    "    n_jobs=5,\n",
    "    refit=False,\n",
    "    verbose=3\n",
    ")\n",
    "model_cv.fit(X_train_cv, Y_train_cv.squeeze())\n",
    "best_params = model_cv.best_params_\n",
    "best_params"
   ]
  },
  {
   "cell_type": "code",
   "execution_count": 60,
   "metadata": {},
   "outputs": [],
   "source": [
    "best_model_km = SVC(C=best_params['C'], kernel=ntk)"
   ]
  },
  {
   "cell_type": "code",
   "execution_count": 61,
   "metadata": {},
   "outputs": [
    {
     "data": {
      "text/html": [
       "<style>#sk-container-id-1 {color: black;background-color: white;}#sk-container-id-1 pre{padding: 0;}#sk-container-id-1 div.sk-toggleable {background-color: white;}#sk-container-id-1 label.sk-toggleable__label {cursor: pointer;display: block;width: 100%;margin-bottom: 0;padding: 0.3em;box-sizing: border-box;text-align: center;}#sk-container-id-1 label.sk-toggleable__label-arrow:before {content: \"▸\";float: left;margin-right: 0.25em;color: #696969;}#sk-container-id-1 label.sk-toggleable__label-arrow:hover:before {color: black;}#sk-container-id-1 div.sk-estimator:hover label.sk-toggleable__label-arrow:before {color: black;}#sk-container-id-1 div.sk-toggleable__content {max-height: 0;max-width: 0;overflow: hidden;text-align: left;background-color: #f0f8ff;}#sk-container-id-1 div.sk-toggleable__content pre {margin: 0.2em;color: black;border-radius: 0.25em;background-color: #f0f8ff;}#sk-container-id-1 input.sk-toggleable__control:checked~div.sk-toggleable__content {max-height: 200px;max-width: 100%;overflow: auto;}#sk-container-id-1 input.sk-toggleable__control:checked~label.sk-toggleable__label-arrow:before {content: \"▾\";}#sk-container-id-1 div.sk-estimator input.sk-toggleable__control:checked~label.sk-toggleable__label {background-color: #d4ebff;}#sk-container-id-1 div.sk-label input.sk-toggleable__control:checked~label.sk-toggleable__label {background-color: #d4ebff;}#sk-container-id-1 input.sk-hidden--visually {border: 0;clip: rect(1px 1px 1px 1px);clip: rect(1px, 1px, 1px, 1px);height: 1px;margin: -1px;overflow: hidden;padding: 0;position: absolute;width: 1px;}#sk-container-id-1 div.sk-estimator {font-family: monospace;background-color: #f0f8ff;border: 1px dotted black;border-radius: 0.25em;box-sizing: border-box;margin-bottom: 0.5em;}#sk-container-id-1 div.sk-estimator:hover {background-color: #d4ebff;}#sk-container-id-1 div.sk-parallel-item::after {content: \"\";width: 100%;border-bottom: 1px solid gray;flex-grow: 1;}#sk-container-id-1 div.sk-label:hover label.sk-toggleable__label {background-color: #d4ebff;}#sk-container-id-1 div.sk-serial::before {content: \"\";position: absolute;border-left: 1px solid gray;box-sizing: border-box;top: 0;bottom: 0;left: 50%;z-index: 0;}#sk-container-id-1 div.sk-serial {display: flex;flex-direction: column;align-items: center;background-color: white;padding-right: 0.2em;padding-left: 0.2em;position: relative;}#sk-container-id-1 div.sk-item {position: relative;z-index: 1;}#sk-container-id-1 div.sk-parallel {display: flex;align-items: stretch;justify-content: center;background-color: white;position: relative;}#sk-container-id-1 div.sk-item::before, #sk-container-id-1 div.sk-parallel-item::before {content: \"\";position: absolute;border-left: 1px solid gray;box-sizing: border-box;top: 0;bottom: 0;left: 50%;z-index: -1;}#sk-container-id-1 div.sk-parallel-item {display: flex;flex-direction: column;z-index: 1;position: relative;background-color: white;}#sk-container-id-1 div.sk-parallel-item:first-child::after {align-self: flex-end;width: 50%;}#sk-container-id-1 div.sk-parallel-item:last-child::after {align-self: flex-start;width: 50%;}#sk-container-id-1 div.sk-parallel-item:only-child::after {width: 0;}#sk-container-id-1 div.sk-dashed-wrapped {border: 1px dashed gray;margin: 0 0.4em 0.5em 0.4em;box-sizing: border-box;padding-bottom: 0.4em;background-color: white;}#sk-container-id-1 div.sk-label label {font-family: monospace;font-weight: bold;display: inline-block;line-height: 1.2em;}#sk-container-id-1 div.sk-label-container {text-align: center;}#sk-container-id-1 div.sk-container {/* jupyter's `normalize.less` sets `[hidden] { display: none; }` but bootstrap.min.css set `[hidden] { display: none !important; }` so we also need the `!important` here to be able to override the default hidden behavior on the sphinx rendered scikit-learn.org. See: https://github.com/scikit-learn/scikit-learn/issues/21755 */display: inline-block !important;position: relative;}#sk-container-id-1 div.sk-text-repr-fallback {display: none;}</style><div id=\"sk-container-id-1\" class=\"sk-top-container\"><div class=\"sk-text-repr-fallback\"><pre>SVC(C=100000.0,\n",
       "    kernel=&lt;bound method NTK.get_ntk of &lt;scripts.ntk.NTK object at 0x7fe2bfa2c3d0&gt;&gt;)</pre><b>In a Jupyter environment, please rerun this cell to show the HTML representation or trust the notebook. <br />On GitHub, the HTML representation is unable to render, please try loading this page with nbviewer.org.</b></div><div class=\"sk-container\" hidden><div class=\"sk-item\"><div class=\"sk-estimator sk-toggleable\"><input class=\"sk-toggleable__control sk-hidden--visually\" id=\"sk-estimator-id-1\" type=\"checkbox\" checked><label for=\"sk-estimator-id-1\" class=\"sk-toggleable__label sk-toggleable__label-arrow\">SVC</label><div class=\"sk-toggleable__content\"><pre>SVC(C=100000.0,\n",
       "    kernel=&lt;bound method NTK.get_ntk of &lt;scripts.ntk.NTK object at 0x7fe2bfa2c3d0&gt;&gt;)</pre></div></div></div></div></div>"
      ],
      "text/plain": [
       "SVC(C=100000.0,\n",
       "    kernel=<bound method NTK.get_ntk of <scripts.ntk.NTK object at 0x7fe2bfa2c3d0>>)"
      ]
     },
     "execution_count": 61,
     "metadata": {},
     "output_type": "execute_result"
    }
   ],
   "source": [
    "best_model_km.fit(X_train, Y_train.squeeze())"
   ]
  },
  {
   "cell_type": "code",
   "execution_count": 62,
   "metadata": {},
   "outputs": [
    {
     "data": {
      "text/plain": [
       "(0.9953464322647363, 0.8231644260599793)"
      ]
     },
     "execution_count": 62,
     "metadata": {},
     "output_type": "execute_result"
    }
   ],
   "source": [
    "preds_train, preds_val = best_model_km.predict(X_train), best_model_km.predict(X_val)\n",
    "score_train, score_val = accuracy_score(Y_train.squeeze(), preds_train), accuracy_score(Y_val.squeeze(), preds_val)\n",
    "score_train, score_val"
   ]
  },
  {
   "cell_type": "code",
   "execution_count": 63,
   "metadata": {},
   "outputs": [],
   "source": [
    "scores_km = np.array([\n",
    "    accuracy_score(\n",
    "        best_model_km.predict(X_test[i]),\n",
    "        Y_test[i].squeeze()\n",
    "    ) for i in range(128)\n",
    "])"
   ]
  },
  {
   "attachments": {},
   "cell_type": "markdown",
   "metadata": {},
   "source": [
    "### With class flipping in random orthants"
   ]
  },
  {
   "cell_type": "code",
   "execution_count": 64,
   "metadata": {},
   "outputs": [
    {
     "name": "stdout",
     "output_type": "stream",
     "text": [
      "Fitting 5 folds for each of 11 candidates, totalling 55 fits\n"
     ]
    },
    {
     "name": "stderr",
     "output_type": "stream",
     "text": [
      "/home/balakrishnan/.local/lib/python3.10/site-packages/torch/autograd/__init__.py:300: UserWarning: CUDA initialization: CUDA unknown error - this may be due to an incorrectly set up environment, e.g. changing env variable CUDA_VISIBLE_DEVICES after program start. Setting the available devices to be zero. (Triggered internally at ../c10/cuda/CUDAFunctions.cpp:109.)\n",
      "  return Variable._execution_engine.run_backward(  # Calls into the C++ engine to run the backward pass\n",
      "/home/balakrishnan/.local/lib/python3.10/site-packages/torch/autograd/__init__.py:300: UserWarning: CUDA initialization: CUDA unknown error - this may be due to an incorrectly set up environment, e.g. changing env variable CUDA_VISIBLE_DEVICES after program start. Setting the available devices to be zero. (Triggered internally at ../c10/cuda/CUDAFunctions.cpp:109.)\n",
      "  return Variable._execution_engine.run_backward(  # Calls into the C++ engine to run the backward pass\n",
      "/home/balakrishnan/.local/lib/python3.10/site-packages/torch/autograd/__init__.py:300: UserWarning: CUDA initialization: CUDA unknown error - this may be due to an incorrectly set up environment, e.g. changing env variable CUDA_VISIBLE_DEVICES after program start. Setting the available devices to be zero. (Triggered internally at ../c10/cuda/CUDAFunctions.cpp:109.)\n",
      "  return Variable._execution_engine.run_backward(  # Calls into the C++ engine to run the backward pass\n",
      "/home/balakrishnan/.local/lib/python3.10/site-packages/torch/autograd/__init__.py:300: UserWarning: CUDA initialization: CUDA unknown error - this may be due to an incorrectly set up environment, e.g. changing env variable CUDA_VISIBLE_DEVICES after program start. Setting the available devices to be zero. (Triggered internally at ../c10/cuda/CUDAFunctions.cpp:109.)\n",
      "  return Variable._execution_engine.run_backward(  # Calls into the C++ engine to run the backward pass\n",
      "/home/balakrishnan/.local/lib/python3.10/site-packages/torch/autograd/__init__.py:300: UserWarning: CUDA initialization: CUDA unknown error - this may be due to an incorrectly set up environment, e.g. changing env variable CUDA_VISIBLE_DEVICES after program start. Setting the available devices to be zero. (Triggered internally at ../c10/cuda/CUDAFunctions.cpp:109.)\n",
      "  return Variable._execution_engine.run_backward(  # Calls into the C++ engine to run the backward pass\n"
     ]
    },
    {
     "name": "stdout",
     "output_type": "stream",
     "text": [
      "[CV 2/5] END ...........................C=1e-05;, score=0.519 total time=   2.0s\n",
      "[CV 3/5] END ...........................C=1e-05;, score=0.519 total time=   2.0s\n",
      "[CV 4/5] END ...........................C=1e-05;, score=0.525 total time=   2.1s\n",
      "[CV 5/5] END ...........................C=1e-05;, score=0.525 total time=   2.0s\n",
      "[CV 1/5] END ...........................C=1e-05;, score=0.522 total time=   2.1s\n",
      "[CV 1/5] END ..........................C=0.0001;, score=0.522 total time=   2.0s\n",
      "[CV 2/5] END ..........................C=0.0001;, score=0.519 total time=   2.0s\n",
      "[CV 4/5] END ..........................C=0.0001;, score=0.525 total time=   2.0s\n",
      "[CV 5/5] END ..........................C=0.0001;, score=0.519 total time=   2.0s\n",
      "[CV 3/5] END ..........................C=0.0001;, score=0.519 total time=   2.0s\n",
      "[CV 1/5] END ...........................C=0.001;, score=0.535 total time=   1.9s\n",
      "[CV 4/5] END ...........................C=0.001;, score=0.544 total time=   2.0s\n",
      "[CV 2/5] END ...........................C=0.001;, score=0.506 total time=   2.1s\n",
      "[CV 3/5] END ...........................C=0.001;, score=0.532 total time=   2.1s\n",
      "[CV 5/5] END ...........................C=0.001;, score=0.570 total time=   2.0s\n",
      "[CV 1/5] END ............................C=0.01;, score=0.522 total time=   1.9s\n",
      "[CV 2/5] END ............................C=0.01;, score=0.532 total time=   2.0s\n",
      "[CV 3/5] END ............................C=0.01;, score=0.551 total time=   2.0s\n",
      "[CV 4/5] END ............................C=0.01;, score=0.551 total time=   2.0s\n",
      "[CV 5/5] END ............................C=0.01;, score=0.570 total time=   2.0s\n",
      "[CV 1/5] END .............................C=0.1;, score=0.491 total time=   1.9s\n",
      "[CV 2/5] END .............................C=0.1;, score=0.582 total time=   1.9s\n",
      "[CV 3/5] END .............................C=0.1;, score=0.551 total time=   1.9s\n",
      "[CV 4/5] END .............................C=0.1;, score=0.551 total time=   2.0s\n",
      "[CV 5/5] END .............................C=0.1;, score=0.557 total time=   2.0s\n",
      "[CV 1/5] END .............................C=1.0;, score=0.591 total time=   1.9s\n",
      "[CV 2/5] END .............................C=1.0;, score=0.614 total time=   2.0s\n",
      "[CV 3/5] END .............................C=1.0;, score=0.551 total time=   1.9s\n",
      "[CV 5/5] END .............................C=1.0;, score=0.551 total time=   2.0s\n",
      "[CV 4/5] END .............................C=1.0;, score=0.614 total time=   2.0s\n",
      "[CV 1/5] END ............................C=10.0;, score=0.585 total time=   1.8s\n",
      "[CV 2/5] END ............................C=10.0;, score=0.582 total time=   1.9s\n",
      "[CV 3/5] END ............................C=10.0;, score=0.551 total time=   1.9s\n",
      "[CV 4/5] END ............................C=10.0;, score=0.608 total time=   1.9s\n",
      "[CV 5/5] END ............................C=10.0;, score=0.576 total time=   2.0s\n",
      "[CV 1/5] END ...........................C=100.0;, score=0.591 total time=   1.9s\n",
      "[CV 2/5] END ...........................C=100.0;, score=0.601 total time=   1.9s\n",
      "[CV 3/5] END ...........................C=100.0;, score=0.601 total time=   1.9s\n",
      "[CV 4/5] END ...........................C=100.0;, score=0.608 total time=   1.9s\n",
      "[CV 5/5] END ...........................C=100.0;, score=0.627 total time=   2.0s\n",
      "[CV 1/5] END ..........................C=1000.0;, score=0.635 total time=   1.9s\n",
      "[CV 2/5] END ..........................C=1000.0;, score=0.633 total time=   1.9s\n",
      "[CV 3/5] END ..........................C=1000.0;, score=0.608 total time=   2.0s\n",
      "[CV 4/5] END ..........................C=1000.0;, score=0.614 total time=   2.0s\n",
      "[CV 5/5] END ..........................C=1000.0;, score=0.677 total time=   1.9s\n",
      "[CV 1/5] END .........................C=10000.0;, score=0.522 total time=   2.0s\n",
      "[CV 2/5] END .........................C=10000.0;, score=0.652 total time=   1.9s\n",
      "[CV 3/5] END .........................C=10000.0;, score=0.582 total time=   2.1s\n",
      "[CV 4/5] END .........................C=10000.0;, score=0.665 total time=   2.0s\n",
      "[CV 5/5] END .........................C=10000.0;, score=0.652 total time=   2.0s\n",
      "[CV 1/5] END ........................C=100000.0;, score=0.579 total time=   2.1s\n",
      "[CV 2/5] END ........................C=100000.0;, score=0.589 total time=   1.9s\n",
      "[CV 3/5] END ........................C=100000.0;, score=0.652 total time=   2.1s\n",
      "[CV 4/5] END ........................C=100000.0;, score=0.614 total time=   2.1s\n",
      "[CV 5/5] END ........................C=100000.0;, score=0.658 total time=   2.0s\n"
     ]
    },
    {
     "data": {
      "text/plain": [
       "{'C': 1000.0}"
      ]
     },
     "execution_count": 64,
     "metadata": {},
     "output_type": "execute_result"
    }
   ],
   "source": [
    "model_cv = GridSearchCV(\n",
    "    estimator=model_base,\n",
    "    param_grid=params,\n",
    "    scoring=scorer,\n",
    "    n_jobs=5,\n",
    "    refit=False,\n",
    "    verbose=3\n",
    ")\n",
    "model_cv.fit(X_train_flip_cv, Y_train_flip_cv.squeeze())\n",
    "best_params_flip = model_cv.best_params_\n",
    "best_params_flip"
   ]
  },
  {
   "cell_type": "code",
   "execution_count": 65,
   "metadata": {},
   "outputs": [],
   "source": [
    "best_model_flip_km = SVC(C=best_params_flip['C'], kernel=ntk)"
   ]
  },
  {
   "cell_type": "code",
   "execution_count": 66,
   "metadata": {},
   "outputs": [
    {
     "data": {
      "text/html": [
       "<style>#sk-container-id-2 {color: black;background-color: white;}#sk-container-id-2 pre{padding: 0;}#sk-container-id-2 div.sk-toggleable {background-color: white;}#sk-container-id-2 label.sk-toggleable__label {cursor: pointer;display: block;width: 100%;margin-bottom: 0;padding: 0.3em;box-sizing: border-box;text-align: center;}#sk-container-id-2 label.sk-toggleable__label-arrow:before {content: \"▸\";float: left;margin-right: 0.25em;color: #696969;}#sk-container-id-2 label.sk-toggleable__label-arrow:hover:before {color: black;}#sk-container-id-2 div.sk-estimator:hover label.sk-toggleable__label-arrow:before {color: black;}#sk-container-id-2 div.sk-toggleable__content {max-height: 0;max-width: 0;overflow: hidden;text-align: left;background-color: #f0f8ff;}#sk-container-id-2 div.sk-toggleable__content pre {margin: 0.2em;color: black;border-radius: 0.25em;background-color: #f0f8ff;}#sk-container-id-2 input.sk-toggleable__control:checked~div.sk-toggleable__content {max-height: 200px;max-width: 100%;overflow: auto;}#sk-container-id-2 input.sk-toggleable__control:checked~label.sk-toggleable__label-arrow:before {content: \"▾\";}#sk-container-id-2 div.sk-estimator input.sk-toggleable__control:checked~label.sk-toggleable__label {background-color: #d4ebff;}#sk-container-id-2 div.sk-label input.sk-toggleable__control:checked~label.sk-toggleable__label {background-color: #d4ebff;}#sk-container-id-2 input.sk-hidden--visually {border: 0;clip: rect(1px 1px 1px 1px);clip: rect(1px, 1px, 1px, 1px);height: 1px;margin: -1px;overflow: hidden;padding: 0;position: absolute;width: 1px;}#sk-container-id-2 div.sk-estimator {font-family: monospace;background-color: #f0f8ff;border: 1px dotted black;border-radius: 0.25em;box-sizing: border-box;margin-bottom: 0.5em;}#sk-container-id-2 div.sk-estimator:hover {background-color: #d4ebff;}#sk-container-id-2 div.sk-parallel-item::after {content: \"\";width: 100%;border-bottom: 1px solid gray;flex-grow: 1;}#sk-container-id-2 div.sk-label:hover label.sk-toggleable__label {background-color: #d4ebff;}#sk-container-id-2 div.sk-serial::before {content: \"\";position: absolute;border-left: 1px solid gray;box-sizing: border-box;top: 0;bottom: 0;left: 50%;z-index: 0;}#sk-container-id-2 div.sk-serial {display: flex;flex-direction: column;align-items: center;background-color: white;padding-right: 0.2em;padding-left: 0.2em;position: relative;}#sk-container-id-2 div.sk-item {position: relative;z-index: 1;}#sk-container-id-2 div.sk-parallel {display: flex;align-items: stretch;justify-content: center;background-color: white;position: relative;}#sk-container-id-2 div.sk-item::before, #sk-container-id-2 div.sk-parallel-item::before {content: \"\";position: absolute;border-left: 1px solid gray;box-sizing: border-box;top: 0;bottom: 0;left: 50%;z-index: -1;}#sk-container-id-2 div.sk-parallel-item {display: flex;flex-direction: column;z-index: 1;position: relative;background-color: white;}#sk-container-id-2 div.sk-parallel-item:first-child::after {align-self: flex-end;width: 50%;}#sk-container-id-2 div.sk-parallel-item:last-child::after {align-self: flex-start;width: 50%;}#sk-container-id-2 div.sk-parallel-item:only-child::after {width: 0;}#sk-container-id-2 div.sk-dashed-wrapped {border: 1px dashed gray;margin: 0 0.4em 0.5em 0.4em;box-sizing: border-box;padding-bottom: 0.4em;background-color: white;}#sk-container-id-2 div.sk-label label {font-family: monospace;font-weight: bold;display: inline-block;line-height: 1.2em;}#sk-container-id-2 div.sk-label-container {text-align: center;}#sk-container-id-2 div.sk-container {/* jupyter's `normalize.less` sets `[hidden] { display: none; }` but bootstrap.min.css set `[hidden] { display: none !important; }` so we also need the `!important` here to be able to override the default hidden behavior on the sphinx rendered scikit-learn.org. See: https://github.com/scikit-learn/scikit-learn/issues/21755 */display: inline-block !important;position: relative;}#sk-container-id-2 div.sk-text-repr-fallback {display: none;}</style><div id=\"sk-container-id-2\" class=\"sk-top-container\"><div class=\"sk-text-repr-fallback\"><pre>SVC(C=1000.0,\n",
       "    kernel=&lt;bound method NTK.get_ntk of &lt;scripts.ntk.NTK object at 0x7fe2bfa2c3d0&gt;&gt;)</pre><b>In a Jupyter environment, please rerun this cell to show the HTML representation or trust the notebook. <br />On GitHub, the HTML representation is unable to render, please try loading this page with nbviewer.org.</b></div><div class=\"sk-container\" hidden><div class=\"sk-item\"><div class=\"sk-estimator sk-toggleable\"><input class=\"sk-toggleable__control sk-hidden--visually\" id=\"sk-estimator-id-2\" type=\"checkbox\" checked><label for=\"sk-estimator-id-2\" class=\"sk-toggleable__label sk-toggleable__label-arrow\">SVC</label><div class=\"sk-toggleable__content\"><pre>SVC(C=1000.0,\n",
       "    kernel=&lt;bound method NTK.get_ntk of &lt;scripts.ntk.NTK object at 0x7fe2bfa2c3d0&gt;&gt;)</pre></div></div></div></div></div>"
      ],
      "text/plain": [
       "SVC(C=1000.0,\n",
       "    kernel=<bound method NTK.get_ntk of <scripts.ntk.NTK object at 0x7fe2bfa2c3d0>>)"
      ]
     },
     "execution_count": 66,
     "metadata": {},
     "output_type": "execute_result"
    }
   ],
   "source": [
    "best_model_flip_km.fit(X_train_flip, Y_train_flip.squeeze())"
   ]
  },
  {
   "cell_type": "code",
   "execution_count": 67,
   "metadata": {},
   "outputs": [
    {
     "data": {
      "text/plain": [
       "(0.9186457806973218, 0.7505050505050505)"
      ]
     },
     "execution_count": 67,
     "metadata": {},
     "output_type": "execute_result"
    }
   ],
   "source": [
    "preds_train, preds_val = best_model_flip_km.predict(X_train_flip), best_model_flip_km.predict(X_val_flip)\n",
    "score_train, score_val = accuracy_score(Y_train_flip.squeeze(), preds_train), accuracy_score(Y_val_flip.squeeze(), preds_val)\n",
    "score_train, score_val"
   ]
  },
  {
   "cell_type": "code",
   "execution_count": 68,
   "metadata": {},
   "outputs": [],
   "source": [
    "scores_flip_km = np.array([\n",
    "    accuracy_score(\n",
    "        best_model_flip_km.predict(X_test_flip[i]),\n",
    "        Y_test_flip[i].squeeze()\n",
    "    ) for i in range(128)\n",
    "])"
   ]
  },
  {
   "attachments": {},
   "cell_type": "markdown",
   "metadata": {},
   "source": [
    "### Orthant performance plot"
   ]
  },
  {
   "cell_type": "code",
   "execution_count": 69,
   "metadata": {},
   "outputs": [
    {
     "data": {
      "text/plain": [
       "Text(0.5, 0.98, 'Score vs no. of points for each orthant, SVM')"
      ]
     },
     "execution_count": 69,
     "metadata": {},
     "output_type": "execute_result"
    },
    {
     "data": {
      "image/png": "[encoded data removed]",
      "text/plain": [
       "<Figure size 1300x600 with 2 Axes>"
      ]
     },
     "metadata": {},
     "output_type": "display_data"
    }
   ],
   "source": [
    "plt.figure(figsize=(13, 6))\n",
    "\n",
    "plt.subplot(121)\n",
    "plt.scatter(orthant_counts, scores_km)\n",
    "plt.xlabel('Number of points')\n",
    "plt.ylabel('Binary accuracy')\n",
    "plt.title('No class filps')\n",
    "\n",
    "plt.subplot(122)\n",
    "plt.scatter(orthant_counts_flip, scores_flip_km)\n",
    "plt.xlabel('Number of points')\n",
    "plt.ylabel('Binary accuracy')\n",
    "plt.title('Random class filps')\n",
    "\n",
    "plt.suptitle('Score vs no. of points for each orthant, SVM')"
   ]
  },
  {
   "cell_type": "code",
   "execution_count": 70,
   "metadata": {},
   "outputs": [
    {
     "data": {
      "text/plain": [
       "(0.759717518568916, 0.33552740454559093)"
      ]
     },
     "execution_count": 70,
     "metadata": {},
     "output_type": "execute_result"
    }
   ],
   "source": [
    "from scipy.stats import pearsonr\n",
    "\n",
    "pearsonr(orthant_counts, scores_km).statistic, pearsonr(orthant_counts_flip, scores_flip_km).statistic"
   ]
  },
  {
   "cell_type": "code",
   "execution_count": 71,
   "metadata": {},
   "outputs": [
    {
     "data": {
      "text/plain": [
       "(0.7989501953125, 0.72216796875)"
      ]
     },
     "execution_count": 71,
     "metadata": {},
     "output_type": "execute_result"
    }
   ],
   "source": [
    "scores_km.mean(), scores_flip_km.mean()"
   ]
  },
  {
   "cell_type": "code",
   "execution_count": 72,
   "metadata": {},
   "outputs": [
    {
     "name": "stdout",
     "output_type": "stream",
     "text": [
      "Performance in empty orthants:  0.5185546875 0.6953125\n",
      "Performance in rare orthants:  0.6966145833333334 0.7106119791666666\n",
      "Performance in typical orthants:  0.847900390625 0.727294921875\n"
     ]
    }
   ],
   "source": [
    "print('Performance in empty orthants: ', scores_km[ZERO_ORTHANT_INDICES].mean(), scores_flip_km[ZERO_ORTHANT_INDICES_FLIP].mean())\n",
    "print('Performance in rare orthants: ', scores_km[LOW_ORTHANT_INDICES].mean(), scores_flip_km[LOW_ORTHANT_INDICES_FLIP].mean())\n",
    "print('Performance in typical orthants: ', scores_km[HIGH_ORTHANT_INDICES].mean(), scores_flip_km[HIGH_ORTHANT_INDICES_FLIP].mean())"
   ]
  }
 ],
 "metadata": {
  "kernelspec": {
   "display_name": "Python 3",
   "language": "python",
   "name": "python3"
  },
  "language_info": {
   "codemirror_mode": {
    "name": "ipython",
    "version": 3
   },
   "file_extension": ".py",
   "mimetype": "text/x-python",
   "name": "python",
   "nbconvert_exporter": "python",
   "pygments_lexer": "ipython3",
   "version": "3.10.6"
  },
  "orig_nbformat": 4,
  "vscode": {
   "interpreter": {
    "hash": "916dbcbb3f70747c44a77c7bcd40155683ae19c65e1c03b4aa3499c5328201f1"
   }
  }
 },
 "nbformat": 4,
 "nbformat_minor": 2
}
