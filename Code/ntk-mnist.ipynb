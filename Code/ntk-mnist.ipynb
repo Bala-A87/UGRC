{
 "cells": [
  {
   "cell_type": "markdown",
   "metadata": {},
   "source": [
    "## Data"
   ]
  },
  {
   "cell_type": "code",
   "execution_count": 1,
   "metadata": {},
   "outputs": [],
   "source": [
    "import torch\n",
    "import torchvision\n",
    "import numpy as np\n",
    "import matplotlib.pyplot as plt"
   ]
  },
  {
   "cell_type": "code",
   "execution_count": 2,
   "metadata": {},
   "outputs": [],
   "source": [
    "from torchvision.transforms import ToTensor\n",
    "\n",
    "training_data = torchvision.datasets.MNIST(root='./data', transform=ToTensor(), download=True)\n",
    "test_data = torchvision.datasets.MNIST(root='./data', train=False, transform=ToTensor(), download=True)"
   ]
  },
  {
   "cell_type": "code",
   "execution_count": 3,
   "metadata": {},
   "outputs": [],
   "source": [
    "from torch.utils.data import DataLoader\n",
    "\n",
    "training_dataloader = DataLoader(training_data, batch_size=len(training_data), shuffle=True)\n",
    "test_dataloader = DataLoader(test_data, batch_size=len(test_data), shuffle=False)"
   ]
  },
  {
   "cell_type": "code",
   "execution_count": 4,
   "metadata": {},
   "outputs": [
    {
     "data": {
      "text/plain": [
       "(torch.Size([60000, 1, 28, 28]), torch.Size([60000]))"
      ]
     },
     "execution_count": 4,
     "metadata": {},
     "output_type": "execute_result"
    }
   ],
   "source": [
    "X_training, Y_training = next(iter(training_dataloader))\n",
    "X_training.shape, Y_training.shape"
   ]
  },
  {
   "cell_type": "code",
   "execution_count": 5,
   "metadata": {},
   "outputs": [
    {
     "data": {
      "text/plain": [
       "(torch.Size([10000, 1, 28, 28]), torch.Size([10000]))"
      ]
     },
     "execution_count": 5,
     "metadata": {},
     "output_type": "execute_result"
    }
   ],
   "source": [
    "X_test, Y_test = next(iter(test_dataloader))\n",
    "X_test.shape, Y_test.shape"
   ]
  },
  {
   "cell_type": "code",
   "execution_count": 6,
   "metadata": {},
   "outputs": [
    {
     "data": {
      "text/plain": [
       "(torch.Size([60000, 784]),\n",
       " torch.Size([60000]),\n",
       " torch.Size([10000, 784]),\n",
       " torch.Size([10000]))"
      ]
     },
     "execution_count": 6,
     "metadata": {},
     "output_type": "execute_result"
    }
   ],
   "source": [
    "X_training = X_training.reshape(60000, 784)\n",
    "X_test = X_test.reshape(10000, 784)\n",
    "X_training.shape, Y_training.shape, X_test.shape, Y_test.shape"
   ]
  },
  {
   "cell_type": "code",
   "execution_count": 7,
   "metadata": {},
   "outputs": [
    {
     "data": {
      "text/plain": [
       "(torch.Size([12665, 784]),\n",
       " torch.Size([12665]),\n",
       " torch.Size([2115, 784]),\n",
       " torch.Size([2115]))"
      ]
     },
     "execution_count": 7,
     "metadata": {},
     "output_type": "execute_result"
    }
   ],
   "source": [
    "X_training_subset = torch.cat([X_training[Y_training==0], X_training[Y_training==1]])\n",
    "Y_training_subset = torch.cat([Y_training[Y_training==0], Y_training[Y_training==1]])\n",
    "X_test_subset = torch.cat([X_test[Y_test==0], X_test[Y_test==1]])\n",
    "Y_test_subset = torch.cat([Y_test[Y_test==0], Y_test[Y_test==1]])\n",
    "X_training_subset.shape, Y_training_subset.shape, X_test_subset.shape, Y_test_subset.shape"
   ]
  },
  {
   "cell_type": "code",
   "execution_count": 8,
   "metadata": {},
   "outputs": [
    {
     "data": {
      "text/plain": [
       "(torch.Size([1000, 784]),\n",
       " torch.Size([1000, 784]),\n",
       " torch.Size([1000]),\n",
       " torch.Size([1000]))"
      ]
     },
     "execution_count": 8,
     "metadata": {},
     "output_type": "execute_result"
    }
   ],
   "source": [
    "from sklearn.model_selection import train_test_split\n",
    "\n",
    "X_train_large, X_val, Y_train_large, Y_val = train_test_split(X_training, Y_training, test_size=1000)\n",
    "X_train, X_dummy, Y_train, Y_dummy = train_test_split(X_train_large, Y_train_large, train_size=1000)\n",
    "\n",
    "# X_train, X_val, Y_train, Y_val = train_test_split(X_training_subset, Y_training_subset, test_size=0.2)\n",
    "X_train.shape, X_val.shape, Y_train.shape, Y_val.shape"
   ]
  },
  {
   "cell_type": "markdown",
   "metadata": {},
   "source": [
    "## NN"
   ]
  },
  {
   "cell_type": "code",
   "execution_count": 9,
   "metadata": {},
   "outputs": [],
   "source": [
    "device = 'cpu'"
   ]
  },
  {
   "cell_type": "code",
   "execution_count": 10,
   "metadata": {},
   "outputs": [],
   "source": [
    "from scripts.utils import make_dataloader\n",
    "\n",
    "train_dataloader, val_dataloader = make_dataloader(X_train, Y_train.unsqueeze(1).type(torch.float32), batch_size=32, shuffle=True), make_dataloader(X_val, Y_val.unsqueeze(1).type(torch.float32), batch_size=32)"
   ]
  },
  {
   "cell_type": "code",
   "execution_count": 11,
   "metadata": {},
   "outputs": [],
   "source": [
    "from torch import nn\n",
    "\n",
    "class SimpleNN(nn.Module):\n",
    "    def __init__(self) -> None:\n",
    "        super().__init__()\n",
    "        self.layers = nn.Sequential(\n",
    "            nn.Linear(in_features=784, out_features=100),\n",
    "            nn.ReLU(),\n",
    "            nn.Linear(in_features=100, out_features=100),\n",
    "            nn.ReLU(),\n",
    "            nn.Linear(in_features=100, out_features=1),\n",
    "        )\n",
    "    \n",
    "    def forward(self, x):\n",
    "        return self.layers(x)\n"
   ]
  },
  {
   "cell_type": "code",
   "execution_count": 12,
   "metadata": {},
   "outputs": [
    {
     "data": {
      "text/plain": [
       "========================================================================================================================\n",
       "Layer (type:depth-idx)                   Input Shape          Output Shape         Param #              Trainable\n",
       "========================================================================================================================\n",
       "SimpleNN                                 [32, 784]            [32, 1]              --                   True\n",
       "├─Sequential: 1-1                        [32, 784]            [32, 1]              --                   True\n",
       "│    └─Linear: 2-1                       [32, 784]            [32, 100]            78,500               True\n",
       "│    └─ReLU: 2-2                         [32, 100]            [32, 100]            --                   --\n",
       "│    └─Linear: 2-3                       [32, 100]            [32, 100]            10,100               True\n",
       "│    └─ReLU: 2-4                         [32, 100]            [32, 100]            --                   --\n",
       "│    └─Linear: 2-5                       [32, 100]            [32, 1]              101                  True\n",
       "========================================================================================================================\n",
       "Total params: 88,701\n",
       "Trainable params: 88,701\n",
       "Non-trainable params: 0\n",
       "Total mult-adds (M): 2.84\n",
       "========================================================================================================================\n",
       "Input size (MB): 0.10\n",
       "Forward/backward pass size (MB): 0.05\n",
       "Params size (MB): 0.35\n",
       "Estimated Total Size (MB): 0.51\n",
       "========================================================================================================================"
      ]
     },
     "execution_count": 12,
     "metadata": {},
     "output_type": "execute_result"
    }
   ],
   "source": [
    "from torchinfo import summary\n",
    "\n",
    "summary(\n",
    "    model=SimpleNN(),\n",
    "    input_size=(32, 784),\n",
    "    col_names=['input_size', 'output_size', 'num_params', 'trainable'],\n",
    "    col_width=20\n",
    ")"
   ]
  },
  {
   "cell_type": "code",
   "execution_count": 13,
   "metadata": {},
   "outputs": [],
   "source": [
    "model_nn = SimpleNN().to(device)"
   ]
  },
  {
   "cell_type": "code",
   "execution_count": 14,
   "metadata": {},
   "outputs": [],
   "source": [
    "from scripts.metrics import NegMeanSquaredError\n",
    "\n",
    "loss_fn = torch.nn.MSELoss()\n",
    "optimizer = torch.optim.Adam(params=model_nn.parameters())\n",
    "metric = NegMeanSquaredError()"
   ]
  },
  {
   "cell_type": "code",
   "execution_count": 15,
   "metadata": {},
   "outputs": [
    {
     "name": "stdout",
     "output_type": "stream",
     "text": [
      "Training model for 500 epochs. Early stopping not enabled.\n",
      "Epoch: 1 => Train loss: 15.669132, Train score: -15.669132, Val loss: 8.175875, Val score: -8.175875\n",
      "Epoch: 2 => Train loss: 5.846934, Train score: -5.846934, Val loss: 5.379735, Val score: -5.379735\n",
      "Epoch: 3 => Train loss: 4.362573, Train score: -4.362573, Val loss: 4.564137, Val score: -4.564137\n",
      "Epoch: 4 => Train loss: 3.867017, Train score: -3.867017, Val loss: 4.367281, Val score: -4.367281\n",
      "Epoch: 5 => Train loss: 3.475542, Train score: -3.475542, Val loss: 4.122823, Val score: -4.122823\n",
      "Epoch: 6 => Train loss: 3.217671, Train score: -3.217671, Val loss: 3.994300, Val score: -3.994300\n",
      "Epoch: 7 => Train loss: 3.209546, Train score: -3.209546, Val loss: 3.843216, Val score: -3.843216\n",
      "Epoch: 8 => Train loss: 2.871974, Train score: -2.871974, Val loss: 3.726118, Val score: -3.726118\n",
      "Epoch: 9 => Train loss: 2.657874, Train score: -2.657874, Val loss: 3.528449, Val score: -3.528449\n",
      "Epoch: 10 => Train loss: 2.352015, Train score: -2.352015, Val loss: 3.417429, Val score: -3.417429\n",
      "Epoch: 11 => Train loss: 2.131087, Train score: -2.131087, Val loss: 3.346312, Val score: -3.346312\n",
      "Epoch: 12 => Train loss: 1.894341, Train score: -1.894341, Val loss: 3.110443, Val score: -3.110443\n",
      "Epoch: 13 => Train loss: 1.746824, Train score: -1.746824, Val loss: 3.202203, Val score: -3.202203\n",
      "Epoch: 14 => Train loss: 1.625747, Train score: -1.625747, Val loss: 2.838392, Val score: -2.838392\n",
      "Epoch: 15 => Train loss: 1.315949, Train score: -1.315949, Val loss: 2.788872, Val score: -2.788872\n",
      "Epoch: 16 => Train loss: 1.248851, Train score: -1.248851, Val loss: 2.743795, Val score: -2.743795\n",
      "Epoch: 17 => Train loss: 1.247988, Train score: -1.247988, Val loss: 2.882801, Val score: -2.882801\n",
      "Epoch: 18 => Train loss: 1.095977, Train score: -1.095977, Val loss: 2.905630, Val score: -2.905630\n",
      "Epoch: 19 => Train loss: 0.960966, Train score: -0.960966, Val loss: 2.738024, Val score: -2.738024\n",
      "Epoch: 20 => Train loss: 0.834609, Train score: -0.834609, Val loss: 2.804979, Val score: -2.804979\n",
      "Epoch: 21 => Train loss: 0.787627, Train score: -0.787627, Val loss: 2.827170, Val score: -2.827170\n",
      "Epoch: 22 => Train loss: 0.724868, Train score: -0.724868, Val loss: 2.822361, Val score: -2.822361\n",
      "Epoch: 23 => Train loss: 0.684253, Train score: -0.684253, Val loss: 2.763763, Val score: -2.763763\n",
      "Epoch: 24 => Train loss: 0.591205, Train score: -0.591205, Val loss: 2.719649, Val score: -2.719649\n",
      "Epoch: 25 => Train loss: 0.558012, Train score: -0.558012, Val loss: 2.770703, Val score: -2.770703\n",
      "Epoch: 26 => Train loss: 0.488174, Train score: -0.488174, Val loss: 2.729166, Val score: -2.729166\n",
      "Epoch: 27 => Train loss: 0.435936, Train score: -0.435936, Val loss: 2.748712, Val score: -2.748712\n",
      "Epoch: 28 => Train loss: 0.405847, Train score: -0.405847, Val loss: 2.742363, Val score: -2.742363\n",
      "Epoch: 29 => Train loss: 0.387162, Train score: -0.387162, Val loss: 2.741693, Val score: -2.741693\n",
      "Epoch: 30 => Train loss: 0.330438, Train score: -0.330438, Val loss: 2.702824, Val score: -2.702824\n",
      "Epoch: 31 => Train loss: 0.286233, Train score: -0.286233, Val loss: 2.822004, Val score: -2.822004\n",
      "Epoch: 32 => Train loss: 0.312656, Train score: -0.312656, Val loss: 2.769902, Val score: -2.769902\n",
      "Epoch: 33 => Train loss: 0.286120, Train score: -0.286120, Val loss: 2.771814, Val score: -2.771814\n",
      "Epoch: 34 => Train loss: 0.276333, Train score: -0.276333, Val loss: 2.715775, Val score: -2.715775\n",
      "Epoch: 35 => Train loss: 0.220094, Train score: -0.220094, Val loss: 2.713615, Val score: -2.713615\n",
      "Epoch: 36 => Train loss: 0.222601, Train score: -0.222601, Val loss: 2.728628, Val score: -2.728628\n",
      "Epoch: 37 => Train loss: 0.231484, Train score: -0.231484, Val loss: 2.664622, Val score: -2.664622\n",
      "Epoch: 38 => Train loss: 0.156996, Train score: -0.156996, Val loss: 2.676328, Val score: -2.676328\n",
      "Epoch: 39 => Train loss: 0.128511, Train score: -0.128511, Val loss: 2.752539, Val score: -2.752539\n",
      "Epoch: 40 => Train loss: 0.130402, Train score: -0.130402, Val loss: 2.697359, Val score: -2.697359\n",
      "Epoch: 41 => Train loss: 0.115025, Train score: -0.115025, Val loss: 2.716540, Val score: -2.716540\n",
      "Epoch: 42 => Train loss: 0.108230, Train score: -0.108230, Val loss: 2.657574, Val score: -2.657574\n",
      "Epoch: 43 => Train loss: 0.103477, Train score: -0.103477, Val loss: 2.728820, Val score: -2.728820\n",
      "Epoch: 44 => Train loss: 0.123623, Train score: -0.123623, Val loss: 2.807445, Val score: -2.807445\n",
      "Epoch: 45 => Train loss: 0.114910, Train score: -0.114910, Val loss: 2.703560, Val score: -2.703560\n",
      "Epoch: 46 => Train loss: 0.107377, Train score: -0.107377, Val loss: 2.851390, Val score: -2.851390\n",
      "Epoch: 47 => Train loss: 0.141399, Train score: -0.141399, Val loss: 2.727867, Val score: -2.727867\n",
      "Epoch: 48 => Train loss: 0.095577, Train score: -0.095577, Val loss: 2.651071, Val score: -2.651071\n",
      "Epoch: 49 => Train loss: 0.065502, Train score: -0.065502, Val loss: 2.681449, Val score: -2.681449\n",
      "Epoch: 50 => Train loss: 0.061223, Train score: -0.061223, Val loss: 2.711211, Val score: -2.711211\n",
      "Epoch: 51 => Train loss: 0.048488, Train score: -0.048488, Val loss: 2.711298, Val score: -2.711298\n",
      "Epoch: 52 => Train loss: 0.052089, Train score: -0.052089, Val loss: 2.691312, Val score: -2.691312\n",
      "Epoch: 53 => Train loss: 0.047349, Train score: -0.047349, Val loss: 2.707842, Val score: -2.707842\n",
      "Epoch: 54 => Train loss: 0.054266, Train score: -0.054266, Val loss: 2.705869, Val score: -2.705869\n",
      "Epoch: 55 => Train loss: 0.044414, Train score: -0.044414, Val loss: 2.680484, Val score: -2.680484\n",
      "Epoch: 56 => Train loss: 0.033609, Train score: -0.033609, Val loss: 2.683983, Val score: -2.683983\n",
      "Epoch: 57 => Train loss: 0.031765, Train score: -0.031765, Val loss: 2.667375, Val score: -2.667375\n",
      "Epoch: 58 => Train loss: 0.027375, Train score: -0.027375, Val loss: 2.687979, Val score: -2.687979\n",
      "Epoch: 59 => Train loss: 0.028386, Train score: -0.028386, Val loss: 2.719584, Val score: -2.719584\n",
      "Epoch: 60 => Train loss: 0.033701, Train score: -0.033701, Val loss: 2.648314, Val score: -2.648314\n",
      "Epoch: 61 => Train loss: 0.029898, Train score: -0.029898, Val loss: 2.709710, Val score: -2.709710\n",
      "Epoch: 62 => Train loss: 0.025195, Train score: -0.025195, Val loss: 2.679014, Val score: -2.679014\n",
      "Epoch: 63 => Train loss: 0.020164, Train score: -0.020164, Val loss: 2.684802, Val score: -2.684802\n",
      "Epoch: 64 => Train loss: 0.023557, Train score: -0.023557, Val loss: 2.726866, Val score: -2.726866\n",
      "Epoch: 65 => Train loss: 0.026664, Train score: -0.026664, Val loss: 2.683826, Val score: -2.683826\n",
      "Epoch: 66 => Train loss: 0.021132, Train score: -0.021132, Val loss: 2.682393, Val score: -2.682393\n",
      "Epoch: 67 => Train loss: 0.020685, Train score: -0.020685, Val loss: 2.658479, Val score: -2.658479\n",
      "Epoch: 68 => Train loss: 0.028636, Train score: -0.028636, Val loss: 2.716952, Val score: -2.716952\n",
      "Epoch: 69 => Train loss: 0.033451, Train score: -0.033451, Val loss: 2.744859, Val score: -2.744859\n",
      "Epoch: 70 => Train loss: 0.075322, Train score: -0.075322, Val loss: 2.674217, Val score: -2.674217\n",
      "Epoch: 71 => Train loss: 0.090860, Train score: -0.090860, Val loss: 2.705604, Val score: -2.705604\n",
      "Epoch: 72 => Train loss: 0.065196, Train score: -0.065196, Val loss: 2.667996, Val score: -2.667996\n",
      "Epoch: 73 => Train loss: 0.042099, Train score: -0.042099, Val loss: 2.677289, Val score: -2.677289\n",
      "Epoch: 74 => Train loss: 0.026411, Train score: -0.026411, Val loss: 2.682797, Val score: -2.682797\n",
      "Epoch: 75 => Train loss: 0.021813, Train score: -0.021813, Val loss: 2.660158, Val score: -2.660158\n",
      "Epoch: 76 => Train loss: 0.018495, Train score: -0.018495, Val loss: 2.683669, Val score: -2.683669\n",
      "Epoch: 77 => Train loss: 0.012786, Train score: -0.012786, Val loss: 2.678165, Val score: -2.678165\n",
      "Epoch: 78 => Train loss: 0.010962, Train score: -0.010962, Val loss: 2.676026, Val score: -2.676026\n",
      "Epoch: 79 => Train loss: 0.011054, Train score: -0.011054, Val loss: 2.650437, Val score: -2.650437\n",
      "Epoch: 80 => Train loss: 0.010782, Train score: -0.010782, Val loss: 2.649401, Val score: -2.649401\n",
      "Epoch: 81 => Train loss: 0.018491, Train score: -0.018491, Val loss: 2.674188, Val score: -2.674188\n",
      "Epoch: 82 => Train loss: 0.013201, Train score: -0.013201, Val loss: 2.707705, Val score: -2.707705\n",
      "Epoch: 83 => Train loss: 0.013551, Train score: -0.013551, Val loss: 2.686208, Val score: -2.686208\n",
      "Epoch: 84 => Train loss: 0.015407, Train score: -0.015407, Val loss: 2.693496, Val score: -2.693496\n",
      "Epoch: 85 => Train loss: 0.010099, Train score: -0.010099, Val loss: 2.650501, Val score: -2.650501\n",
      "Epoch: 86 => Train loss: 0.007972, Train score: -0.007972, Val loss: 2.662208, Val score: -2.662208\n",
      "Epoch: 87 => Train loss: 0.009573, Train score: -0.009573, Val loss: 2.677267, Val score: -2.677267\n",
      "Epoch: 88 => Train loss: 0.008053, Train score: -0.008053, Val loss: 2.700839, Val score: -2.700839\n",
      "Epoch: 89 => Train loss: 0.009389, Train score: -0.009389, Val loss: 2.661161, Val score: -2.661161\n",
      "Epoch: 90 => Train loss: 0.008302, Train score: -0.008302, Val loss: 2.687632, Val score: -2.687632\n",
      "Epoch: 91 => Train loss: 0.009518, Train score: -0.009518, Val loss: 2.658329, Val score: -2.658329\n",
      "Epoch: 92 => Train loss: 0.012958, Train score: -0.012958, Val loss: 2.698322, Val score: -2.698322\n",
      "Epoch: 93 => Train loss: 0.011457, Train score: -0.011457, Val loss: 2.670414, Val score: -2.670414\n",
      "Epoch: 94 => Train loss: 0.013254, Train score: -0.013254, Val loss: 2.686973, Val score: -2.686973\n",
      "Epoch: 95 => Train loss: 0.013779, Train score: -0.013779, Val loss: 2.675179, Val score: -2.675179\n",
      "Epoch: 96 => Train loss: 0.012948, Train score: -0.012948, Val loss: 2.681130, Val score: -2.681130\n",
      "Epoch: 97 => Train loss: 0.017811, Train score: -0.017811, Val loss: 2.674209, Val score: -2.674209\n",
      "Epoch: 98 => Train loss: 0.023346, Train score: -0.023346, Val loss: 2.694173, Val score: -2.694173\n",
      "Epoch: 99 => Train loss: 0.035932, Train score: -0.035932, Val loss: 2.670046, Val score: -2.670046\n",
      "Epoch: 100 => Train loss: 0.060226, Train score: -0.060226, Val loss: 2.631224, Val score: -2.631224\n",
      "Epoch: 101 => Train loss: 0.070836, Train score: -0.070836, Val loss: 2.652849, Val score: -2.652849\n",
      "Epoch: 102 => Train loss: 0.080719, Train score: -0.080719, Val loss: 2.644294, Val score: -2.644294\n",
      "Epoch: 103 => Train loss: 0.089550, Train score: -0.089550, Val loss: 2.728588, Val score: -2.728588\n",
      "Epoch: 104 => Train loss: 0.120757, Train score: -0.120757, Val loss: 2.628819, Val score: -2.628819\n",
      "Epoch: 105 => Train loss: 0.108466, Train score: -0.108466, Val loss: 2.635562, Val score: -2.635562\n",
      "Epoch: 106 => Train loss: 0.097750, Train score: -0.097750, Val loss: 2.570659, Val score: -2.570659\n",
      "Epoch: 107 => Train loss: 0.045470, Train score: -0.045470, Val loss: 2.596842, Val score: -2.596842\n",
      "Epoch: 108 => Train loss: 0.032578, Train score: -0.032578, Val loss: 2.578380, Val score: -2.578380\n",
      "Epoch: 109 => Train loss: 0.026235, Train score: -0.026235, Val loss: 2.571603, Val score: -2.571603\n",
      "Epoch: 110 => Train loss: 0.018194, Train score: -0.018194, Val loss: 2.581830, Val score: -2.581830\n",
      "Epoch: 111 => Train loss: 0.015832, Train score: -0.015832, Val loss: 2.546923, Val score: -2.546923\n",
      "Epoch: 112 => Train loss: 0.022732, Train score: -0.022732, Val loss: 2.609206, Val score: -2.609206\n",
      "Epoch: 113 => Train loss: 0.019940, Train score: -0.019940, Val loss: 2.594818, Val score: -2.594818\n",
      "Epoch: 114 => Train loss: 0.027197, Train score: -0.027197, Val loss: 2.563109, Val score: -2.563109\n",
      "Epoch: 115 => Train loss: 0.016535, Train score: -0.016535, Val loss: 2.570291, Val score: -2.570291\n",
      "Epoch: 116 => Train loss: 0.009283, Train score: -0.009283, Val loss: 2.566659, Val score: -2.566659\n",
      "Epoch: 117 => Train loss: 0.012245, Train score: -0.012245, Val loss: 2.610266, Val score: -2.610266\n",
      "Epoch: 118 => Train loss: 0.010650, Train score: -0.010650, Val loss: 2.562855, Val score: -2.562855\n",
      "Epoch: 119 => Train loss: 0.011604, Train score: -0.011604, Val loss: 2.595647, Val score: -2.595647\n",
      "Epoch: 120 => Train loss: 0.009187, Train score: -0.009187, Val loss: 2.564721, Val score: -2.564721\n",
      "Epoch: 121 => Train loss: 0.009893, Train score: -0.009893, Val loss: 2.568495, Val score: -2.568495\n",
      "Epoch: 122 => Train loss: 0.008018, Train score: -0.008018, Val loss: 2.568162, Val score: -2.568162\n",
      "Epoch: 123 => Train loss: 0.006837, Train score: -0.006837, Val loss: 2.599756, Val score: -2.599756\n",
      "Epoch: 124 => Train loss: 0.007670, Train score: -0.007670, Val loss: 2.581440, Val score: -2.581440\n",
      "Epoch: 125 => Train loss: 0.006761, Train score: -0.006761, Val loss: 2.563493, Val score: -2.563493\n",
      "Epoch: 126 => Train loss: 0.006968, Train score: -0.006968, Val loss: 2.576892, Val score: -2.576892\n",
      "Epoch: 127 => Train loss: 0.006470, Train score: -0.006470, Val loss: 2.573528, Val score: -2.573528\n",
      "Epoch: 128 => Train loss: 0.004575, Train score: -0.004575, Val loss: 2.552414, Val score: -2.552414\n",
      "Epoch: 129 => Train loss: 0.007893, Train score: -0.007893, Val loss: 2.571908, Val score: -2.571908\n",
      "Epoch: 130 => Train loss: 0.010893, Train score: -0.010893, Val loss: 2.568444, Val score: -2.568444\n",
      "Epoch: 131 => Train loss: 0.009593, Train score: -0.009593, Val loss: 2.554742, Val score: -2.554742\n",
      "Epoch: 132 => Train loss: 0.013797, Train score: -0.013797, Val loss: 2.591826, Val score: -2.591826\n",
      "Epoch: 133 => Train loss: 0.020057, Train score: -0.020057, Val loss: 2.657109, Val score: -2.657109\n",
      "Epoch: 134 => Train loss: 0.026461, Train score: -0.026461, Val loss: 2.588293, Val score: -2.588293\n",
      "Epoch: 135 => Train loss: 0.024658, Train score: -0.024658, Val loss: 2.548865, Val score: -2.548865\n",
      "Epoch: 136 => Train loss: 0.035843, Train score: -0.035843, Val loss: 2.541628, Val score: -2.541628\n",
      "Epoch: 137 => Train loss: 0.056451, Train score: -0.056451, Val loss: 2.755929, Val score: -2.755929\n",
      "Epoch: 138 => Train loss: 0.056414, Train score: -0.056414, Val loss: 2.588315, Val score: -2.588315\n",
      "Epoch: 139 => Train loss: 0.038523, Train score: -0.038523, Val loss: 2.510041, Val score: -2.510041\n",
      "Epoch: 140 => Train loss: 0.031434, Train score: -0.031434, Val loss: 2.511882, Val score: -2.511882\n",
      "Epoch: 141 => Train loss: 0.022396, Train score: -0.022396, Val loss: 2.560880, Val score: -2.560880\n",
      "Epoch: 142 => Train loss: 0.017035, Train score: -0.017035, Val loss: 2.545848, Val score: -2.545848\n",
      "Epoch: 143 => Train loss: 0.013611, Train score: -0.013611, Val loss: 2.534812, Val score: -2.534812\n",
      "Epoch: 144 => Train loss: 0.011607, Train score: -0.011607, Val loss: 2.615865, Val score: -2.615865\n",
      "Epoch: 145 => Train loss: 0.015631, Train score: -0.015631, Val loss: 2.554632, Val score: -2.554632\n",
      "Epoch: 146 => Train loss: 0.011969, Train score: -0.011969, Val loss: 2.574634, Val score: -2.574634\n",
      "Epoch: 147 => Train loss: 0.018710, Train score: -0.018710, Val loss: 2.554611, Val score: -2.554611\n",
      "Epoch: 148 => Train loss: 0.017208, Train score: -0.017208, Val loss: 2.549804, Val score: -2.549804\n",
      "Epoch: 149 => Train loss: 0.016370, Train score: -0.016370, Val loss: 2.529730, Val score: -2.529730\n",
      "Epoch: 150 => Train loss: 0.013563, Train score: -0.013563, Val loss: 2.546211, Val score: -2.546211\n",
      "Epoch: 151 => Train loss: 0.011495, Train score: -0.011495, Val loss: 2.542711, Val score: -2.542711\n",
      "Epoch: 152 => Train loss: 0.014328, Train score: -0.014328, Val loss: 2.522561, Val score: -2.522561\n",
      "Epoch: 153 => Train loss: 0.014904, Train score: -0.014904, Val loss: 2.532396, Val score: -2.532396\n",
      "Epoch: 154 => Train loss: 0.019391, Train score: -0.019391, Val loss: 2.530293, Val score: -2.530293\n",
      "Epoch: 155 => Train loss: 0.023976, Train score: -0.023976, Val loss: 2.605248, Val score: -2.605248\n",
      "Epoch: 156 => Train loss: 0.025198, Train score: -0.025198, Val loss: 2.473560, Val score: -2.473560\n",
      "Epoch: 157 => Train loss: 0.033287, Train score: -0.033287, Val loss: 2.604331, Val score: -2.604331\n",
      "Epoch: 158 => Train loss: 0.030114, Train score: -0.030114, Val loss: 2.516139, Val score: -2.516139\n",
      "Epoch: 159 => Train loss: 0.041712, Train score: -0.041712, Val loss: 2.520998, Val score: -2.520998\n",
      "Epoch: 160 => Train loss: 0.045376, Train score: -0.045376, Val loss: 2.560892, Val score: -2.560892\n",
      "Epoch: 161 => Train loss: 0.054683, Train score: -0.054683, Val loss: 2.482614, Val score: -2.482614\n",
      "Epoch: 162 => Train loss: 0.058140, Train score: -0.058140, Val loss: 2.529585, Val score: -2.529585\n",
      "Epoch: 163 => Train loss: 0.070359, Train score: -0.070359, Val loss: 2.478360, Val score: -2.478360\n",
      "Epoch: 164 => Train loss: 0.061689, Train score: -0.061689, Val loss: 2.529613, Val score: -2.529613\n",
      "Epoch: 165 => Train loss: 0.053085, Train score: -0.053085, Val loss: 2.486646, Val score: -2.486646\n",
      "Epoch: 166 => Train loss: 0.039919, Train score: -0.039919, Val loss: 2.532776, Val score: -2.532776\n",
      "Epoch: 167 => Train loss: 0.027590, Train score: -0.027590, Val loss: 2.508631, Val score: -2.508631\n",
      "Epoch: 168 => Train loss: 0.025241, Train score: -0.025241, Val loss: 2.507515, Val score: -2.507515\n",
      "Epoch: 169 => Train loss: 0.015302, Train score: -0.015302, Val loss: 2.514395, Val score: -2.514395\n",
      "Epoch: 170 => Train loss: 0.012846, Train score: -0.012846, Val loss: 2.483487, Val score: -2.483487\n",
      "Epoch: 171 => Train loss: 0.010296, Train score: -0.010296, Val loss: 2.497908, Val score: -2.497908\n",
      "Epoch: 172 => Train loss: 0.010115, Train score: -0.010115, Val loss: 2.526880, Val score: -2.526880\n",
      "Epoch: 173 => Train loss: 0.011511, Train score: -0.011511, Val loss: 2.514559, Val score: -2.514559\n",
      "Epoch: 174 => Train loss: 0.013633, Train score: -0.013633, Val loss: 2.494927, Val score: -2.494927\n",
      "Epoch: 175 => Train loss: 0.010146, Train score: -0.010146, Val loss: 2.515914, Val score: -2.515914\n",
      "Epoch: 176 => Train loss: 0.006645, Train score: -0.006645, Val loss: 2.509386, Val score: -2.509386\n",
      "Epoch: 177 => Train loss: 0.007933, Train score: -0.007933, Val loss: 2.500482, Val score: -2.500482\n",
      "Epoch: 178 => Train loss: 0.004749, Train score: -0.004749, Val loss: 2.484922, Val score: -2.484922\n",
      "Epoch: 179 => Train loss: 0.004568, Train score: -0.004568, Val loss: 2.492913, Val score: -2.492913\n",
      "Epoch: 180 => Train loss: 0.005155, Train score: -0.005155, Val loss: 2.496030, Val score: -2.496030\n",
      "Epoch: 181 => Train loss: 0.006602, Train score: -0.006602, Val loss: 2.491225, Val score: -2.491225\n",
      "Epoch: 182 => Train loss: 0.004673, Train score: -0.004673, Val loss: 2.484487, Val score: -2.484487\n",
      "Epoch: 183 => Train loss: 0.005965, Train score: -0.005965, Val loss: 2.478934, Val score: -2.478934\n",
      "Epoch: 184 => Train loss: 0.007297, Train score: -0.007297, Val loss: 2.519850, Val score: -2.519850\n",
      "Epoch: 185 => Train loss: 0.007481, Train score: -0.007481, Val loss: 2.523046, Val score: -2.523046\n",
      "Epoch: 186 => Train loss: 0.007066, Train score: -0.007066, Val loss: 2.481625, Val score: -2.481625\n",
      "Epoch: 187 => Train loss: 0.008486, Train score: -0.008486, Val loss: 2.490522, Val score: -2.490522\n",
      "Epoch: 188 => Train loss: 0.008310, Train score: -0.008310, Val loss: 2.493127, Val score: -2.493127\n",
      "Epoch: 189 => Train loss: 0.006762, Train score: -0.006762, Val loss: 2.483396, Val score: -2.483396\n",
      "Epoch: 190 => Train loss: 0.018418, Train score: -0.018418, Val loss: 2.545267, Val score: -2.545267\n",
      "Epoch: 191 => Train loss: 0.025289, Train score: -0.025289, Val loss: 2.521546, Val score: -2.521546\n",
      "Epoch: 192 => Train loss: 0.029476, Train score: -0.029476, Val loss: 2.543898, Val score: -2.543898\n",
      "Epoch: 193 => Train loss: 0.029827, Train score: -0.029827, Val loss: 2.509464, Val score: -2.509464\n",
      "Epoch: 194 => Train loss: 0.043271, Train score: -0.043271, Val loss: 2.486248, Val score: -2.486248\n",
      "Epoch: 195 => Train loss: 0.041759, Train score: -0.041759, Val loss: 2.559080, Val score: -2.559080\n",
      "Epoch: 196 => Train loss: 0.050692, Train score: -0.050692, Val loss: 2.471066, Val score: -2.471066\n",
      "Epoch: 197 => Train loss: 0.034051, Train score: -0.034051, Val loss: 2.482271, Val score: -2.482271\n",
      "Epoch: 198 => Train loss: 0.026939, Train score: -0.026939, Val loss: 2.472152, Val score: -2.472152\n",
      "Epoch: 199 => Train loss: 0.029213, Train score: -0.029213, Val loss: 2.477563, Val score: -2.477563\n",
      "Epoch: 200 => Train loss: 0.030979, Train score: -0.030979, Val loss: 2.493631, Val score: -2.493631\n",
      "Epoch: 201 => Train loss: 0.022786, Train score: -0.022786, Val loss: 2.481472, Val score: -2.481472\n",
      "Epoch: 202 => Train loss: 0.021626, Train score: -0.021626, Val loss: 2.443872, Val score: -2.443872\n",
      "Epoch: 203 => Train loss: 0.015729, Train score: -0.015729, Val loss: 2.504797, Val score: -2.504797\n",
      "Epoch: 204 => Train loss: 0.015722, Train score: -0.015722, Val loss: 2.446246, Val score: -2.446246\n",
      "Epoch: 205 => Train loss: 0.012273, Train score: -0.012273, Val loss: 2.498601, Val score: -2.498601\n",
      "Epoch: 206 => Train loss: 0.018026, Train score: -0.018026, Val loss: 2.462746, Val score: -2.462746\n",
      "Epoch: 207 => Train loss: 0.012500, Train score: -0.012500, Val loss: 2.471551, Val score: -2.471551\n",
      "Epoch: 208 => Train loss: 0.013793, Train score: -0.013793, Val loss: 2.470541, Val score: -2.470541\n",
      "Epoch: 209 => Train loss: 0.013386, Train score: -0.013386, Val loss: 2.470813, Val score: -2.470813\n",
      "Epoch: 210 => Train loss: 0.024526, Train score: -0.024526, Val loss: 2.501734, Val score: -2.501734\n",
      "Epoch: 211 => Train loss: 0.047975, Train score: -0.047975, Val loss: 2.463098, Val score: -2.463098\n",
      "Epoch: 212 => Train loss: 0.039268, Train score: -0.039268, Val loss: 2.456638, Val score: -2.456638\n",
      "Epoch: 213 => Train loss: 0.020465, Train score: -0.020465, Val loss: 2.462123, Val score: -2.462123\n",
      "Epoch: 214 => Train loss: 0.015403, Train score: -0.015403, Val loss: 2.424202, Val score: -2.424202\n",
      "Epoch: 215 => Train loss: 0.010325, Train score: -0.010325, Val loss: 2.446576, Val score: -2.446576\n",
      "Epoch: 216 => Train loss: 0.018066, Train score: -0.018066, Val loss: 2.449096, Val score: -2.449096\n",
      "Epoch: 217 => Train loss: 0.018276, Train score: -0.018276, Val loss: 2.429063, Val score: -2.429063\n",
      "Epoch: 218 => Train loss: 0.019353, Train score: -0.019353, Val loss: 2.424500, Val score: -2.424500\n",
      "Epoch: 219 => Train loss: 0.031868, Train score: -0.031868, Val loss: 2.487420, Val score: -2.487420\n",
      "Epoch: 220 => Train loss: 0.020777, Train score: -0.020777, Val loss: 2.470230, Val score: -2.470230\n",
      "Epoch: 221 => Train loss: 0.017889, Train score: -0.017889, Val loss: 2.466851, Val score: -2.466851\n",
      "Epoch: 222 => Train loss: 0.020025, Train score: -0.020025, Val loss: 2.409917, Val score: -2.409917\n",
      "Epoch: 223 => Train loss: 0.015057, Train score: -0.015057, Val loss: 2.432489, Val score: -2.432489\n",
      "Epoch: 224 => Train loss: 0.027331, Train score: -0.027331, Val loss: 2.418373, Val score: -2.418373\n",
      "Epoch: 225 => Train loss: 0.056037, Train score: -0.056037, Val loss: 2.460393, Val score: -2.460393\n",
      "Epoch: 226 => Train loss: 0.072076, Train score: -0.072076, Val loss: 2.417544, Val score: -2.417544\n",
      "Epoch: 227 => Train loss: 0.057085, Train score: -0.057085, Val loss: 2.445292, Val score: -2.445292\n",
      "Epoch: 228 => Train loss: 0.037928, Train score: -0.037928, Val loss: 2.418495, Val score: -2.418495\n",
      "Epoch: 229 => Train loss: 0.027160, Train score: -0.027160, Val loss: 2.423363, Val score: -2.423363\n",
      "Epoch: 230 => Train loss: 0.022339, Train score: -0.022339, Val loss: 2.422398, Val score: -2.422398\n",
      "Epoch: 231 => Train loss: 0.022380, Train score: -0.022380, Val loss: 2.431477, Val score: -2.431477\n",
      "Epoch: 232 => Train loss: 0.018040, Train score: -0.018040, Val loss: 2.396107, Val score: -2.396107\n",
      "Epoch: 233 => Train loss: 0.014273, Train score: -0.014273, Val loss: 2.419099, Val score: -2.419099\n",
      "Epoch: 234 => Train loss: 0.012812, Train score: -0.012812, Val loss: 2.405290, Val score: -2.405290\n",
      "Epoch: 235 => Train loss: 0.010321, Train score: -0.010321, Val loss: 2.446308, Val score: -2.446308\n",
      "Epoch: 236 => Train loss: 0.008050, Train score: -0.008050, Val loss: 2.400779, Val score: -2.400779\n",
      "Epoch: 237 => Train loss: 0.006593, Train score: -0.006593, Val loss: 2.421948, Val score: -2.421948\n",
      "Epoch: 238 => Train loss: 0.004525, Train score: -0.004525, Val loss: 2.419766, Val score: -2.419766\n",
      "Epoch: 239 => Train loss: 0.004593, Train score: -0.004593, Val loss: 2.403271, Val score: -2.403271\n",
      "Epoch: 240 => Train loss: 0.003027, Train score: -0.003027, Val loss: 2.416755, Val score: -2.416755\n",
      "Epoch: 241 => Train loss: 0.005324, Train score: -0.005324, Val loss: 2.413469, Val score: -2.413469\n",
      "Epoch: 242 => Train loss: 0.003767, Train score: -0.003767, Val loss: 2.410020, Val score: -2.410020\n",
      "Epoch: 243 => Train loss: 0.003582, Train score: -0.003582, Val loss: 2.412996, Val score: -2.412996\n",
      "Epoch: 244 => Train loss: 0.012147, Train score: -0.012147, Val loss: 2.445899, Val score: -2.445899\n",
      "Epoch: 245 => Train loss: 0.019702, Train score: -0.019702, Val loss: 2.394042, Val score: -2.394042\n",
      "Epoch: 246 => Train loss: 0.018070, Train score: -0.018070, Val loss: 2.409776, Val score: -2.409776\n",
      "Epoch: 247 => Train loss: 0.022972, Train score: -0.022972, Val loss: 2.400458, Val score: -2.400458\n",
      "Epoch: 248 => Train loss: 0.019735, Train score: -0.019735, Val loss: 2.437908, Val score: -2.437908\n",
      "Epoch: 249 => Train loss: 0.020529, Train score: -0.020529, Val loss: 2.377079, Val score: -2.377079\n",
      "Epoch: 250 => Train loss: 0.011798, Train score: -0.011798, Val loss: 2.419533, Val score: -2.419533\n",
      "Epoch: 251 => Train loss: 0.011842, Train score: -0.011842, Val loss: 2.419600, Val score: -2.419600\n",
      "Epoch: 252 => Train loss: 0.033977, Train score: -0.033977, Val loss: 2.452093, Val score: -2.452093\n",
      "Epoch: 253 => Train loss: 0.044939, Train score: -0.044939, Val loss: 2.504854, Val score: -2.504854\n",
      "Epoch: 254 => Train loss: 0.061681, Train score: -0.061681, Val loss: 2.376546, Val score: -2.376546\n",
      "Epoch: 255 => Train loss: 0.072158, Train score: -0.072158, Val loss: 2.438890, Val score: -2.438890\n",
      "Epoch: 256 => Train loss: 0.037128, Train score: -0.037128, Val loss: 2.385865, Val score: -2.385865\n",
      "Epoch: 257 => Train loss: 0.033991, Train score: -0.033991, Val loss: 2.378330, Val score: -2.378330\n",
      "Epoch: 258 => Train loss: 0.021684, Train score: -0.021684, Val loss: 2.358220, Val score: -2.358220\n",
      "Epoch: 259 => Train loss: 0.019367, Train score: -0.019367, Val loss: 2.353813, Val score: -2.353813\n",
      "Epoch: 260 => Train loss: 0.012299, Train score: -0.012299, Val loss: 2.350824, Val score: -2.350824\n",
      "Epoch: 261 => Train loss: 0.011934, Train score: -0.011934, Val loss: 2.370271, Val score: -2.370271\n",
      "Epoch: 262 => Train loss: 0.009512, Train score: -0.009512, Val loss: 2.376525, Val score: -2.376525\n",
      "Epoch: 263 => Train loss: 0.006146, Train score: -0.006146, Val loss: 2.363859, Val score: -2.363859\n",
      "Epoch: 264 => Train loss: 0.003852, Train score: -0.003852, Val loss: 2.371338, Val score: -2.371338\n",
      "Epoch: 265 => Train loss: 0.003458, Train score: -0.003458, Val loss: 2.362415, Val score: -2.362415\n",
      "Epoch: 266 => Train loss: 0.002091, Train score: -0.002091, Val loss: 2.363999, Val score: -2.363999\n",
      "Epoch: 267 => Train loss: 0.001889, Train score: -0.001889, Val loss: 2.362399, Val score: -2.362399\n",
      "Epoch: 268 => Train loss: 0.001718, Train score: -0.001718, Val loss: 2.363416, Val score: -2.363416\n",
      "Epoch: 269 => Train loss: 0.001936, Train score: -0.001936, Val loss: 2.370283, Val score: -2.370283\n",
      "Epoch: 270 => Train loss: 0.002007, Train score: -0.002007, Val loss: 2.365621, Val score: -2.365621\n",
      "Epoch: 271 => Train loss: 0.002430, Train score: -0.002430, Val loss: 2.371639, Val score: -2.371639\n",
      "Epoch: 272 => Train loss: 0.002504, Train score: -0.002504, Val loss: 2.364059, Val score: -2.364059\n",
      "Epoch: 273 => Train loss: 0.002308, Train score: -0.002308, Val loss: 2.377720, Val score: -2.377720\n",
      "Epoch: 274 => Train loss: 0.004107, Train score: -0.004107, Val loss: 2.376938, Val score: -2.376938\n",
      "Epoch: 275 => Train loss: 0.005175, Train score: -0.005175, Val loss: 2.378031, Val score: -2.378031\n",
      "Epoch: 276 => Train loss: 0.005747, Train score: -0.005747, Val loss: 2.372231, Val score: -2.372231\n",
      "Epoch: 277 => Train loss: 0.006235, Train score: -0.006235, Val loss: 2.365197, Val score: -2.365197\n",
      "Epoch: 278 => Train loss: 0.006306, Train score: -0.006306, Val loss: 2.355560, Val score: -2.355560\n",
      "Epoch: 279 => Train loss: 0.009390, Train score: -0.009390, Val loss: 2.388597, Val score: -2.388597\n",
      "Epoch: 280 => Train loss: 0.013530, Train score: -0.013530, Val loss: 2.361769, Val score: -2.361769\n",
      "Epoch: 281 => Train loss: 0.010206, Train score: -0.010206, Val loss: 2.352399, Val score: -2.352399\n",
      "Epoch: 282 => Train loss: 0.011670, Train score: -0.011670, Val loss: 2.393186, Val score: -2.393186\n",
      "Epoch: 283 => Train loss: 0.011311, Train score: -0.011311, Val loss: 2.350652, Val score: -2.350652\n",
      "Epoch: 284 => Train loss: 0.017613, Train score: -0.017613, Val loss: 2.402866, Val score: -2.402866\n",
      "Epoch: 285 => Train loss: 0.032467, Train score: -0.032467, Val loss: 2.416707, Val score: -2.416707\n",
      "Epoch: 286 => Train loss: 0.038772, Train score: -0.038772, Val loss: 2.337207, Val score: -2.337207\n",
      "Epoch: 287 => Train loss: 0.064202, Train score: -0.064202, Val loss: 2.402741, Val score: -2.402741\n",
      "Epoch: 288 => Train loss: 0.065101, Train score: -0.065101, Val loss: 2.413186, Val score: -2.413186\n",
      "Epoch: 289 => Train loss: 0.048025, Train score: -0.048025, Val loss: 2.354378, Val score: -2.354378\n",
      "Epoch: 290 => Train loss: 0.040133, Train score: -0.040133, Val loss: 2.397262, Val score: -2.397262\n",
      "Epoch: 291 => Train loss: 0.029100, Train score: -0.029100, Val loss: 2.390709, Val score: -2.390709\n",
      "Epoch: 292 => Train loss: 0.022846, Train score: -0.022846, Val loss: 2.377256, Val score: -2.377256\n",
      "Epoch: 293 => Train loss: 0.018618, Train score: -0.018618, Val loss: 2.363429, Val score: -2.363429\n",
      "Epoch: 294 => Train loss: 0.014399, Train score: -0.014399, Val loss: 2.381789, Val score: -2.381789\n",
      "Epoch: 295 => Train loss: 0.014794, Train score: -0.014794, Val loss: 2.352300, Val score: -2.352300\n",
      "Epoch: 296 => Train loss: 0.009087, Train score: -0.009087, Val loss: 2.370558, Val score: -2.370558\n",
      "Epoch: 297 => Train loss: 0.013843, Train score: -0.013843, Val loss: 2.369569, Val score: -2.369569\n",
      "Epoch: 298 => Train loss: 0.015204, Train score: -0.015204, Val loss: 2.358291, Val score: -2.358291\n",
      "Epoch: 299 => Train loss: 0.014511, Train score: -0.014511, Val loss: 2.340588, Val score: -2.340588\n",
      "Epoch: 300 => Train loss: 0.010494, Train score: -0.010494, Val loss: 2.347973, Val score: -2.347973\n",
      "Epoch: 301 => Train loss: 0.008039, Train score: -0.008039, Val loss: 2.361119, Val score: -2.361119\n",
      "Epoch: 302 => Train loss: 0.007539, Train score: -0.007539, Val loss: 2.349467, Val score: -2.349467\n",
      "Epoch: 303 => Train loss: 0.006822, Train score: -0.006822, Val loss: 2.341861, Val score: -2.341861\n",
      "Epoch: 304 => Train loss: 0.004200, Train score: -0.004200, Val loss: 2.352472, Val score: -2.352472\n",
      "Epoch: 305 => Train loss: 0.005337, Train score: -0.005337, Val loss: 2.351422, Val score: -2.351422\n",
      "Epoch: 306 => Train loss: 0.005523, Train score: -0.005523, Val loss: 2.365222, Val score: -2.365222\n",
      "Epoch: 307 => Train loss: 0.007568, Train score: -0.007568, Val loss: 2.371012, Val score: -2.371012\n",
      "Epoch: 308 => Train loss: 0.012787, Train score: -0.012787, Val loss: 2.358526, Val score: -2.358526\n",
      "Epoch: 309 => Train loss: 0.009123, Train score: -0.009123, Val loss: 2.358462, Val score: -2.358462\n",
      "Epoch: 310 => Train loss: 0.007897, Train score: -0.007897, Val loss: 2.358617, Val score: -2.358617\n",
      "Epoch: 311 => Train loss: 0.006672, Train score: -0.006672, Val loss: 2.338411, Val score: -2.338411\n",
      "Epoch: 312 => Train loss: 0.004886, Train score: -0.004886, Val loss: 2.340863, Val score: -2.340863\n",
      "Epoch: 313 => Train loss: 0.003501, Train score: -0.003501, Val loss: 2.341593, Val score: -2.341593\n",
      "Epoch: 314 => Train loss: 0.004285, Train score: -0.004285, Val loss: 2.368392, Val score: -2.368392\n",
      "Epoch: 315 => Train loss: 0.004582, Train score: -0.004582, Val loss: 2.376967, Val score: -2.376967\n",
      "Epoch: 316 => Train loss: 0.007061, Train score: -0.007061, Val loss: 2.341519, Val score: -2.341519\n",
      "Epoch: 317 => Train loss: 0.006322, Train score: -0.006322, Val loss: 2.349801, Val score: -2.349801\n",
      "Epoch: 318 => Train loss: 0.005652, Train score: -0.005652, Val loss: 2.378747, Val score: -2.378747\n",
      "Epoch: 319 => Train loss: 0.007997, Train score: -0.007997, Val loss: 2.366740, Val score: -2.366740\n",
      "Epoch: 320 => Train loss: 0.008659, Train score: -0.008659, Val loss: 2.342411, Val score: -2.342411\n",
      "Epoch: 321 => Train loss: 0.007507, Train score: -0.007507, Val loss: 2.348950, Val score: -2.348950\n",
      "Epoch: 322 => Train loss: 0.011709, Train score: -0.011709, Val loss: 2.348372, Val score: -2.348372\n",
      "Epoch: 323 => Train loss: 0.017359, Train score: -0.017359, Val loss: 2.346808, Val score: -2.346808\n",
      "Epoch: 324 => Train loss: 0.026774, Train score: -0.026774, Val loss: 2.378140, Val score: -2.378140\n",
      "Epoch: 325 => Train loss: 0.023205, Train score: -0.023205, Val loss: 2.426282, Val score: -2.426282\n",
      "Epoch: 326 => Train loss: 0.027753, Train score: -0.027753, Val loss: 2.386123, Val score: -2.386123\n",
      "Epoch: 327 => Train loss: 0.023855, Train score: -0.023855, Val loss: 2.363166, Val score: -2.363166\n",
      "Epoch: 328 => Train loss: 0.019494, Train score: -0.019494, Val loss: 2.447371, Val score: -2.447371\n",
      "Epoch: 329 => Train loss: 0.040350, Train score: -0.040350, Val loss: 2.391722, Val score: -2.391722\n",
      "Epoch: 330 => Train loss: 0.034001, Train score: -0.034001, Val loss: 2.380950, Val score: -2.380950\n",
      "Epoch: 331 => Train loss: 0.025765, Train score: -0.025765, Val loss: 2.348943, Val score: -2.348943\n",
      "Epoch: 332 => Train loss: 0.019546, Train score: -0.019546, Val loss: 2.366909, Val score: -2.366909\n",
      "Epoch: 333 => Train loss: 0.016405, Train score: -0.016405, Val loss: 2.335948, Val score: -2.335948\n",
      "Epoch: 334 => Train loss: 0.027189, Train score: -0.027189, Val loss: 2.358613, Val score: -2.358613\n",
      "Epoch: 335 => Train loss: 0.020504, Train score: -0.020504, Val loss: 2.345561, Val score: -2.345561\n",
      "Epoch: 336 => Train loss: 0.014902, Train score: -0.014902, Val loss: 2.333049, Val score: -2.333049\n",
      "Epoch: 337 => Train loss: 0.011085, Train score: -0.011085, Val loss: 2.367106, Val score: -2.367106\n",
      "Epoch: 338 => Train loss: 0.011061, Train score: -0.011061, Val loss: 2.353172, Val score: -2.353172\n",
      "Epoch: 339 => Train loss: 0.010277, Train score: -0.010277, Val loss: 2.360261, Val score: -2.360261\n",
      "Epoch: 340 => Train loss: 0.018553, Train score: -0.018553, Val loss: 2.322415, Val score: -2.322415\n",
      "Epoch: 341 => Train loss: 0.044081, Train score: -0.044081, Val loss: 2.370687, Val score: -2.370687\n",
      "Epoch: 342 => Train loss: 0.039374, Train score: -0.039374, Val loss: 2.353699, Val score: -2.353699\n",
      "Epoch: 343 => Train loss: 0.039091, Train score: -0.039091, Val loss: 2.333297, Val score: -2.333297\n",
      "Epoch: 344 => Train loss: 0.025278, Train score: -0.025278, Val loss: 2.332545, Val score: -2.332545\n",
      "Epoch: 345 => Train loss: 0.014330, Train score: -0.014330, Val loss: 2.339006, Val score: -2.339006\n",
      "Epoch: 346 => Train loss: 0.007112, Train score: -0.007112, Val loss: 2.330526, Val score: -2.330526\n",
      "Epoch: 347 => Train loss: 0.005782, Train score: -0.005782, Val loss: 2.347584, Val score: -2.347584\n",
      "Epoch: 348 => Train loss: 0.004127, Train score: -0.004127, Val loss: 2.339559, Val score: -2.339559\n",
      "Epoch: 349 => Train loss: 0.003876, Train score: -0.003876, Val loss: 2.326395, Val score: -2.326395\n",
      "Epoch: 350 => Train loss: 0.003736, Train score: -0.003736, Val loss: 2.343213, Val score: -2.343213\n",
      "Epoch: 351 => Train loss: 0.004037, Train score: -0.004037, Val loss: 2.335742, Val score: -2.335742\n",
      "Epoch: 352 => Train loss: 0.002692, Train score: -0.002692, Val loss: 2.328365, Val score: -2.328365\n",
      "Epoch: 353 => Train loss: 0.002010, Train score: -0.002010, Val loss: 2.335086, Val score: -2.335086\n",
      "Epoch: 354 => Train loss: 0.001462, Train score: -0.001462, Val loss: 2.333253, Val score: -2.333253\n",
      "Epoch: 355 => Train loss: 0.001326, Train score: -0.001326, Val loss: 2.329263, Val score: -2.329263\n",
      "Epoch: 356 => Train loss: 0.001075, Train score: -0.001075, Val loss: 2.332248, Val score: -2.332248\n",
      "Epoch: 357 => Train loss: 0.001077, Train score: -0.001077, Val loss: 2.326821, Val score: -2.326821\n",
      "Epoch: 358 => Train loss: 0.001049, Train score: -0.001049, Val loss: 2.331159, Val score: -2.331159\n",
      "Epoch: 359 => Train loss: 0.000831, Train score: -0.000831, Val loss: 2.335289, Val score: -2.335289\n",
      "Epoch: 360 => Train loss: 0.001066, Train score: -0.001066, Val loss: 2.329960, Val score: -2.329960\n",
      "Epoch: 361 => Train loss: 0.002086, Train score: -0.002086, Val loss: 2.325113, Val score: -2.325113\n",
      "Epoch: 362 => Train loss: 0.002564, Train score: -0.002564, Val loss: 2.325160, Val score: -2.325160\n",
      "Epoch: 363 => Train loss: 0.002959, Train score: -0.002959, Val loss: 2.333548, Val score: -2.333548\n",
      "Epoch: 364 => Train loss: 0.003769, Train score: -0.003769, Val loss: 2.348149, Val score: -2.348149\n",
      "Epoch: 365 => Train loss: 0.009741, Train score: -0.009741, Val loss: 2.346841, Val score: -2.346841\n",
      "Epoch: 366 => Train loss: 0.012728, Train score: -0.012728, Val loss: 2.335041, Val score: -2.335041\n",
      "Epoch: 367 => Train loss: 0.014681, Train score: -0.014681, Val loss: 2.346815, Val score: -2.346815\n",
      "Epoch: 368 => Train loss: 0.011457, Train score: -0.011457, Val loss: 2.313749, Val score: -2.313749\n",
      "Epoch: 369 => Train loss: 0.020727, Train score: -0.020727, Val loss: 2.330009, Val score: -2.330009\n",
      "Epoch: 370 => Train loss: 0.028904, Train score: -0.028904, Val loss: 2.313737, Val score: -2.313737\n",
      "Epoch: 371 => Train loss: 0.041039, Train score: -0.041039, Val loss: 2.406943, Val score: -2.406943\n",
      "Epoch: 372 => Train loss: 0.059238, Train score: -0.059238, Val loss: 2.350744, Val score: -2.350744\n",
      "Epoch: 373 => Train loss: 0.044490, Train score: -0.044490, Val loss: 2.360146, Val score: -2.360146\n",
      "Epoch: 374 => Train loss: 0.022251, Train score: -0.022251, Val loss: 2.293291, Val score: -2.293291\n",
      "Epoch: 375 => Train loss: 0.011714, Train score: -0.011714, Val loss: 2.321598, Val score: -2.321598\n",
      "Epoch: 376 => Train loss: 0.007566, Train score: -0.007566, Val loss: 2.325324, Val score: -2.325324\n",
      "Epoch: 377 => Train loss: 0.005492, Train score: -0.005492, Val loss: 2.327935, Val score: -2.327935\n",
      "Epoch: 378 => Train loss: 0.004752, Train score: -0.004752, Val loss: 2.314402, Val score: -2.314402\n",
      "Epoch: 379 => Train loss: 0.004754, Train score: -0.004754, Val loss: 2.334231, Val score: -2.334231\n",
      "Epoch: 380 => Train loss: 0.004009, Train score: -0.004009, Val loss: 2.312637, Val score: -2.312637\n",
      "Epoch: 381 => Train loss: 0.003517, Train score: -0.003517, Val loss: 2.320955, Val score: -2.320955\n",
      "Epoch: 382 => Train loss: 0.002404, Train score: -0.002404, Val loss: 2.323427, Val score: -2.323427\n",
      "Epoch: 383 => Train loss: 0.001722, Train score: -0.001722, Val loss: 2.329053, Val score: -2.329053\n",
      "Epoch: 384 => Train loss: 0.001402, Train score: -0.001402, Val loss: 2.314822, Val score: -2.314822\n",
      "Epoch: 385 => Train loss: 0.002210, Train score: -0.002210, Val loss: 2.328309, Val score: -2.328309\n",
      "Epoch: 386 => Train loss: 0.001963, Train score: -0.001963, Val loss: 2.328861, Val score: -2.328861\n",
      "Epoch: 387 => Train loss: 0.002102, Train score: -0.002102, Val loss: 2.314749, Val score: -2.314749\n",
      "Epoch: 388 => Train loss: 0.002030, Train score: -0.002030, Val loss: 2.324406, Val score: -2.324406\n",
      "Epoch: 389 => Train loss: 0.003128, Train score: -0.003128, Val loss: 2.320565, Val score: -2.320565\n",
      "Epoch: 390 => Train loss: 0.004260, Train score: -0.004260, Val loss: 2.315815, Val score: -2.315815\n",
      "Epoch: 391 => Train loss: 0.004836, Train score: -0.004836, Val loss: 2.337707, Val score: -2.337707\n",
      "Epoch: 392 => Train loss: 0.004983, Train score: -0.004983, Val loss: 2.313714, Val score: -2.313714\n",
      "Epoch: 393 => Train loss: 0.009291, Train score: -0.009291, Val loss: 2.335552, Val score: -2.335552\n",
      "Epoch: 394 => Train loss: 0.009129, Train score: -0.009129, Val loss: 2.363660, Val score: -2.363660\n",
      "Epoch: 395 => Train loss: 0.008745, Train score: -0.008745, Val loss: 2.335079, Val score: -2.335079\n",
      "Epoch: 396 => Train loss: 0.015103, Train score: -0.015103, Val loss: 2.322989, Val score: -2.322989\n",
      "Epoch: 397 => Train loss: 0.030121, Train score: -0.030121, Val loss: 2.350978, Val score: -2.350978\n",
      "Epoch: 398 => Train loss: 0.044151, Train score: -0.044151, Val loss: 2.348540, Val score: -2.348540\n",
      "Epoch: 399 => Train loss: 0.037792, Train score: -0.037792, Val loss: 2.353569, Val score: -2.353569\n",
      "Epoch: 400 => Train loss: 0.032740, Train score: -0.032740, Val loss: 2.355315, Val score: -2.355315\n",
      "Epoch: 401 => Train loss: 0.033049, Train score: -0.033049, Val loss: 2.339662, Val score: -2.339662\n",
      "Epoch: 402 => Train loss: 0.044575, Train score: -0.044575, Val loss: 2.335680, Val score: -2.335680\n",
      "Epoch: 403 => Train loss: 0.080159, Train score: -0.080159, Val loss: 2.317903, Val score: -2.317903\n",
      "Epoch: 404 => Train loss: 0.070229, Train score: -0.070229, Val loss: 2.370177, Val score: -2.370177\n",
      "Epoch: 405 => Train loss: 0.034740, Train score: -0.034740, Val loss: 2.338702, Val score: -2.338702\n",
      "Epoch: 406 => Train loss: 0.034552, Train score: -0.034552, Val loss: 2.336634, Val score: -2.336634\n",
      "Epoch: 407 => Train loss: 0.017584, Train score: -0.017584, Val loss: 2.349550, Val score: -2.349550\n",
      "Epoch: 408 => Train loss: 0.010130, Train score: -0.010130, Val loss: 2.342052, Val score: -2.342052\n",
      "Epoch: 409 => Train loss: 0.007933, Train score: -0.007933, Val loss: 2.336140, Val score: -2.336140\n",
      "Epoch: 410 => Train loss: 0.006401, Train score: -0.006401, Val loss: 2.342019, Val score: -2.342019\n",
      "Epoch: 411 => Train loss: 0.005526, Train score: -0.005526, Val loss: 2.324546, Val score: -2.324546\n",
      "Epoch: 412 => Train loss: 0.003750, Train score: -0.003750, Val loss: 2.316513, Val score: -2.316513\n",
      "Epoch: 413 => Train loss: 0.002551, Train score: -0.002551, Val loss: 2.317658, Val score: -2.317658\n",
      "Epoch: 414 => Train loss: 0.001580, Train score: -0.001580, Val loss: 2.319051, Val score: -2.319051\n",
      "Epoch: 415 => Train loss: 0.001465, Train score: -0.001465, Val loss: 2.323167, Val score: -2.323167\n",
      "Epoch: 416 => Train loss: 0.001076, Train score: -0.001076, Val loss: 2.318642, Val score: -2.318642\n",
      "Epoch: 417 => Train loss: 0.000779, Train score: -0.000779, Val loss: 2.315030, Val score: -2.315030\n",
      "Epoch: 418 => Train loss: 0.000611, Train score: -0.000611, Val loss: 2.314728, Val score: -2.314728\n",
      "Epoch: 419 => Train loss: 0.000551, Train score: -0.000551, Val loss: 2.311988, Val score: -2.311988\n",
      "Epoch: 420 => Train loss: 0.000819, Train score: -0.000819, Val loss: 2.318683, Val score: -2.318683\n",
      "Epoch: 421 => Train loss: 0.000959, Train score: -0.000959, Val loss: 2.317796, Val score: -2.317796\n",
      "Epoch: 422 => Train loss: 0.001054, Train score: -0.001054, Val loss: 2.312078, Val score: -2.312078\n",
      "Epoch: 423 => Train loss: 0.001579, Train score: -0.001579, Val loss: 2.313929, Val score: -2.313929\n",
      "Epoch: 424 => Train loss: 0.001463, Train score: -0.001463, Val loss: 2.313629, Val score: -2.313629\n",
      "Epoch: 425 => Train loss: 0.002486, Train score: -0.002486, Val loss: 2.323320, Val score: -2.323320\n",
      "Epoch: 426 => Train loss: 0.001812, Train score: -0.001812, Val loss: 2.315586, Val score: -2.315586\n",
      "Epoch: 427 => Train loss: 0.001654, Train score: -0.001654, Val loss: 2.320314, Val score: -2.320314\n",
      "Epoch: 428 => Train loss: 0.002127, Train score: -0.002127, Val loss: 2.317870, Val score: -2.317870\n",
      "Epoch: 429 => Train loss: 0.002199, Train score: -0.002199, Val loss: 2.317066, Val score: -2.317066\n",
      "Epoch: 430 => Train loss: 0.003948, Train score: -0.003948, Val loss: 2.330551, Val score: -2.330551\n",
      "Epoch: 431 => Train loss: 0.013452, Train score: -0.013452, Val loss: 2.361619, Val score: -2.361619\n",
      "Epoch: 432 => Train loss: 0.019228, Train score: -0.019228, Val loss: 2.284180, Val score: -2.284180\n",
      "Epoch: 433 => Train loss: 0.019733, Train score: -0.019733, Val loss: 2.307758, Val score: -2.307758\n",
      "Epoch: 434 => Train loss: 0.017758, Train score: -0.017758, Val loss: 2.302884, Val score: -2.302884\n",
      "Epoch: 435 => Train loss: 0.014744, Train score: -0.014744, Val loss: 2.334652, Val score: -2.334652\n",
      "Epoch: 436 => Train loss: 0.021627, Train score: -0.021627, Val loss: 2.347550, Val score: -2.347550\n",
      "Epoch: 437 => Train loss: 0.027006, Train score: -0.027006, Val loss: 2.307360, Val score: -2.307360\n",
      "Epoch: 438 => Train loss: 0.025062, Train score: -0.025062, Val loss: 2.282472, Val score: -2.282472\n",
      "Epoch: 439 => Train loss: 0.026293, Train score: -0.026293, Val loss: 2.345363, Val score: -2.345363\n",
      "Epoch: 440 => Train loss: 0.016895, Train score: -0.016895, Val loss: 2.300246, Val score: -2.300246\n",
      "Epoch: 441 => Train loss: 0.011653, Train score: -0.011653, Val loss: 2.330603, Val score: -2.330603\n",
      "Epoch: 442 => Train loss: 0.012696, Train score: -0.012696, Val loss: 2.319229, Val score: -2.319229\n",
      "Epoch: 443 => Train loss: 0.008864, Train score: -0.008864, Val loss: 2.325099, Val score: -2.325099\n",
      "Epoch: 444 => Train loss: 0.007146, Train score: -0.007146, Val loss: 2.308097, Val score: -2.308097\n",
      "Epoch: 445 => Train loss: 0.007152, Train score: -0.007152, Val loss: 2.314980, Val score: -2.314980\n",
      "Epoch: 446 => Train loss: 0.004576, Train score: -0.004576, Val loss: 2.304204, Val score: -2.304204\n",
      "Epoch: 447 => Train loss: 0.005963, Train score: -0.005963, Val loss: 2.299526, Val score: -2.299526\n",
      "Epoch: 448 => Train loss: 0.004272, Train score: -0.004272, Val loss: 2.307173, Val score: -2.307173\n",
      "Epoch: 449 => Train loss: 0.004848, Train score: -0.004848, Val loss: 2.303030, Val score: -2.303030\n",
      "Epoch: 450 => Train loss: 0.006584, Train score: -0.006584, Val loss: 2.311306, Val score: -2.311306\n",
      "Epoch: 451 => Train loss: 0.005612, Train score: -0.005612, Val loss: 2.301068, Val score: -2.301068\n",
      "Epoch: 452 => Train loss: 0.003552, Train score: -0.003552, Val loss: 2.298979, Val score: -2.298979\n",
      "Epoch: 453 => Train loss: 0.004667, Train score: -0.004667, Val loss: 2.309745, Val score: -2.309745\n",
      "Epoch: 454 => Train loss: 0.003761, Train score: -0.003761, Val loss: 2.298066, Val score: -2.298066\n",
      "Epoch: 455 => Train loss: 0.003203, Train score: -0.003203, Val loss: 2.295396, Val score: -2.295396\n",
      "Epoch: 456 => Train loss: 0.003379, Train score: -0.003379, Val loss: 2.299425, Val score: -2.299425\n",
      "Epoch: 457 => Train loss: 0.004996, Train score: -0.004996, Val loss: 2.295035, Val score: -2.295035\n",
      "Epoch: 458 => Train loss: 0.007983, Train score: -0.007983, Val loss: 2.328344, Val score: -2.328344\n",
      "Epoch: 459 => Train loss: 0.013454, Train score: -0.013454, Val loss: 2.298995, Val score: -2.298995\n",
      "Epoch: 460 => Train loss: 0.011204, Train score: -0.011204, Val loss: 2.346293, Val score: -2.346293\n",
      "Epoch: 461 => Train loss: 0.017745, Train score: -0.017745, Val loss: 2.294185, Val score: -2.294185\n",
      "Epoch: 462 => Train loss: 0.018388, Train score: -0.018388, Val loss: 2.316015, Val score: -2.316015\n",
      "Epoch: 463 => Train loss: 0.046345, Train score: -0.046345, Val loss: 2.450908, Val score: -2.450908\n",
      "Epoch: 464 => Train loss: 0.072317, Train score: -0.072317, Val loss: 2.342597, Val score: -2.342597\n",
      "Epoch: 465 => Train loss: 0.045963, Train score: -0.045963, Val loss: 2.312197, Val score: -2.312197\n",
      "Epoch: 466 => Train loss: 0.047596, Train score: -0.047596, Val loss: 2.280467, Val score: -2.280467\n",
      "Epoch: 467 => Train loss: 0.026578, Train score: -0.026578, Val loss: 2.319063, Val score: -2.319063\n",
      "Epoch: 468 => Train loss: 0.023361, Train score: -0.023361, Val loss: 2.309810, Val score: -2.309810\n",
      "Epoch: 469 => Train loss: 0.015262, Train score: -0.015262, Val loss: 2.301636, Val score: -2.301636\n",
      "Epoch: 470 => Train loss: 0.010141, Train score: -0.010141, Val loss: 2.286744, Val score: -2.286744\n",
      "Epoch: 471 => Train loss: 0.007046, Train score: -0.007046, Val loss: 2.272521, Val score: -2.272521\n",
      "Epoch: 472 => Train loss: 0.006393, Train score: -0.006393, Val loss: 2.301208, Val score: -2.301208\n",
      "Epoch: 473 => Train loss: 0.005391, Train score: -0.005391, Val loss: 2.274041, Val score: -2.274041\n",
      "Epoch: 474 => Train loss: 0.002935, Train score: -0.002935, Val loss: 2.308969, Val score: -2.308969\n",
      "Epoch: 475 => Train loss: 0.002529, Train score: -0.002529, Val loss: 2.268423, Val score: -2.268423\n",
      "Epoch: 476 => Train loss: 0.001547, Train score: -0.001547, Val loss: 2.278208, Val score: -2.278208\n",
      "Epoch: 477 => Train loss: 0.001161, Train score: -0.001161, Val loss: 2.280048, Val score: -2.280048\n",
      "Epoch: 478 => Train loss: 0.001086, Train score: -0.001086, Val loss: 2.277909, Val score: -2.277909\n",
      "Epoch: 479 => Train loss: 0.001240, Train score: -0.001240, Val loss: 2.281386, Val score: -2.281386\n",
      "Epoch: 480 => Train loss: 0.001351, Train score: -0.001351, Val loss: 2.281159, Val score: -2.281159\n",
      "Epoch: 481 => Train loss: 0.000901, Train score: -0.000901, Val loss: 2.270828, Val score: -2.270828\n",
      "Epoch: 482 => Train loss: 0.001393, Train score: -0.001393, Val loss: 2.281971, Val score: -2.281971\n",
      "Epoch: 483 => Train loss: 0.001015, Train score: -0.001015, Val loss: 2.270084, Val score: -2.270084\n",
      "Epoch: 484 => Train loss: 0.001122, Train score: -0.001122, Val loss: 2.274912, Val score: -2.274912\n",
      "Epoch: 485 => Train loss: 0.000937, Train score: -0.000937, Val loss: 2.273741, Val score: -2.273741\n",
      "Epoch: 486 => Train loss: 0.001199, Train score: -0.001199, Val loss: 2.276240, Val score: -2.276240\n",
      "Epoch: 487 => Train loss: 0.000773, Train score: -0.000773, Val loss: 2.280349, Val score: -2.280349\n",
      "Epoch: 488 => Train loss: 0.000566, Train score: -0.000566, Val loss: 2.281899, Val score: -2.281899\n",
      "Epoch: 489 => Train loss: 0.000927, Train score: -0.000927, Val loss: 2.278464, Val score: -2.278464\n",
      "Epoch: 490 => Train loss: 0.001378, Train score: -0.001378, Val loss: 2.280359, Val score: -2.280359\n",
      "Epoch: 491 => Train loss: 0.002039, Train score: -0.002039, Val loss: 2.276337, Val score: -2.276337\n",
      "Epoch: 492 => Train loss: 0.002464, Train score: -0.002464, Val loss: 2.271256, Val score: -2.271256\n",
      "Epoch: 493 => Train loss: 0.002793, Train score: -0.002793, Val loss: 2.284040, Val score: -2.284040\n",
      "Epoch: 494 => Train loss: 0.003754, Train score: -0.003754, Val loss: 2.283547, Val score: -2.283547\n",
      "Epoch: 495 => Train loss: 0.005613, Train score: -0.005613, Val loss: 2.287976, Val score: -2.287976\n",
      "Epoch: 496 => Train loss: 0.007227, Train score: -0.007227, Val loss: 2.277119, Val score: -2.277119\n",
      "Epoch: 497 => Train loss: 0.009562, Train score: -0.009562, Val loss: 2.272725, Val score: -2.272725\n",
      "Epoch: 498 => Train loss: 0.009944, Train score: -0.009944, Val loss: 2.312203, Val score: -2.312203\n",
      "Epoch: 499 => Train loss: 0.018171, Train score: -0.018171, Val loss: 2.307386, Val score: -2.307386\n",
      "Epoch: 500 => Train loss: 0.030087, Train score: -0.030087, Val loss: 2.343032, Val score: -2.343032\n",
      "Training complete.\n"
     ]
    }
   ],
   "source": [
    "from scripts.train import train_model\n",
    "\n",
    "history = train_model(\n",
    "    model=model_nn,\n",
    "    train_dataloader=train_dataloader,\n",
    "    val_dataloader=val_dataloader,\n",
    "    loss_fn=loss_fn,\n",
    "    optimizer=optimizer,\n",
    "    metric=metric,\n",
    "    epochs=500,\n",
    "    device=device\n",
    ")"
   ]
  },
  {
   "cell_type": "code",
   "execution_count": 16,
   "metadata": {},
   "outputs": [
    {
     "data": {
      "image/png": "[encoded data removed]",
      "text/plain": [
       "<Figure size 1200x600 with 2 Axes>"
      ]
     },
     "metadata": {},
     "output_type": "display_data"
    }
   ],
   "source": [
    "from scripts.utils import plot_train_history\n",
    "\n",
    "plot_train_history(history)"
   ]
  },
  {
   "cell_type": "code",
   "execution_count": 17,
   "metadata": {},
   "outputs": [
    {
     "data": {
      "text/plain": [
       "(tensor(-0.0346), tensor(-2.3197))"
      ]
     },
     "execution_count": 17,
     "metadata": {},
     "output_type": "execute_result"
    }
   ],
   "source": [
    "from scripts.test import predict\n",
    "\n",
    "preds_train, preds_val = predict(model_nn, X_train, device), predict(model_nn, X_val, device)\n",
    "score_train, score_val = metric(preds_train, Y_train.unsqueeze(1)), metric(preds_val, Y_val.unsqueeze(1))\n",
    "score_train, score_val"
   ]
  },
  {
   "cell_type": "code",
   "execution_count": 18,
   "metadata": {},
   "outputs": [
    {
     "data": {
      "text/plain": [
       "tensor(-1.0446)"
      ]
     },
     "execution_count": 18,
     "metadata": {},
     "output_type": "execute_result"
    }
   ],
   "source": [
    "preds_nn = predict(model_nn, X_test_subset, device)\n",
    "score_test = metric(preds_nn, Y_test_subset.unsqueeze(1))\n",
    "score_test"
   ]
  },
  {
   "attachments": {},
   "cell_type": "markdown",
   "metadata": {},
   "source": [
    "## SVM with NTK"
   ]
  },
  {
   "cell_type": "code",
   "execution_count": 19,
   "metadata": {},
   "outputs": [],
   "source": [
    "from sklearn.metrics import mean_squared_error, make_scorer"
   ]
  },
  {
   "cell_type": "code",
   "execution_count": 20,
   "metadata": {},
   "outputs": [],
   "source": [
    "from sklearn.svm import SVR\n",
    "from sklearn.model_selection import GridSearchCV"
   ]
  },
  {
   "cell_type": "code",
   "execution_count": 21,
   "metadata": {},
   "outputs": [],
   "source": [
    "from scripts.ntk import NTK"
   ]
  },
  {
   "cell_type": "code",
   "execution_count": 22,
   "metadata": {},
   "outputs": [],
   "source": [
    "params = {\n",
    "    'C': np.logspace(-5, 5, 11)\n",
    "}\n",
    "\n",
    "scorer = make_scorer(mean_squared_error, greater_is_better=False)"
   ]
  },
  {
   "cell_type": "markdown",
   "metadata": {},
   "source": [
    "### T = 0"
   ]
  },
  {
   "cell_type": "code",
   "execution_count": 23,
   "metadata": {},
   "outputs": [],
   "source": [
    "ntk_init = NTK(SimpleNN().to(device))"
   ]
  },
  {
   "cell_type": "code",
   "execution_count": 24,
   "metadata": {},
   "outputs": [],
   "source": [
    "model_km_init_base = SVR(kernel=ntk_init.get_ntk)"
   ]
  },
  {
   "cell_type": "code",
   "execution_count": 25,
   "metadata": {},
   "outputs": [],
   "source": [
    "model_km_init = GridSearchCV(estimator=model_km_init_base, param_grid=params, scoring=scorer, n_jobs=5, cv=5, verbose=3)"
   ]
  },
  {
   "cell_type": "code",
   "execution_count": 26,
   "metadata": {},
   "outputs": [
    {
     "name": "stdout",
     "output_type": "stream",
     "text": [
      "Fitting 5 folds for each of 11 candidates, totalling 55 fits\n",
      "[CV 2/5] END ..........................C=1e-05;, score=-9.218 total time=   2.6s\n",
      "[CV 4/5] END ..........................C=1e-05;, score=-8.534 total time=   2.6s\n",
      "[CV 1/5] END ..........................C=1e-05;, score=-7.503 total time=   2.8s\n",
      "[CV 3/5] END ..........................C=1e-05;, score=-8.144 total time=   2.7s\n",
      "[CV 5/5] END ..........................C=1e-05;, score=-8.370 total time=   2.8s\n",
      "[CV 1/5] END .........................C=0.0001;, score=-7.489 total time=   2.7s\n",
      "[CV 4/5] END .........................C=0.0001;, score=-8.521 total time=   2.6s\n",
      "[CV 2/5] END .........................C=0.0001;, score=-9.201 total time=   2.7s\n",
      "[CV 3/5] END .........................C=0.0001;, score=-8.131 total time=   2.7s\n",
      "[CV 5/5] END .........................C=0.0001;, score=-8.357 total time=   2.7s\n",
      "[CV 2/5] END ..........................C=0.001;, score=-9.035 total time=   2.3s\n",
      "[CV 3/5] END ..........................C=0.001;, score=-7.994 total time=   2.7s\n",
      "[CV 5/5] END ..........................C=0.001;, score=-8.220 total time=   2.6s\n",
      "[CV 1/5] END ..........................C=0.001;, score=-7.359 total time=   2.9s\n",
      "[CV 4/5] END ..........................C=0.001;, score=-8.385 total time=   3.1s\n",
      "[CV 1/5] END ...........................C=0.01;, score=-6.211 total time=   2.4s\n",
      "[CV 4/5] END ...........................C=0.01;, score=-7.156 total time=   2.7s\n",
      "[CV 2/5] END ...........................C=0.01;, score=-7.582 total time=   2.9s\n",
      "[CV 3/5] END ...........................C=0.01;, score=-6.752 total time=   2.9s\n",
      "[CV 5/5] END ...........................C=0.01;, score=-7.035 total time=   2.8s\n",
      "[CV 1/5] END ............................C=0.1;, score=-3.563 total time=   2.8s\n",
      "[CV 4/5] END ............................C=0.1;, score=-3.968 total time=   2.6s\n",
      "[CV 2/5] END ............................C=0.1;, score=-3.938 total time=   2.9s\n",
      "[CV 3/5] END ............................C=0.1;, score=-3.788 total time=   2.8s\n",
      "[CV 5/5] END ............................C=0.1;, score=-4.059 total time=   2.6s\n",
      "[CV 1/5] END ............................C=1.0;, score=-2.593 total time=   2.4s\n",
      "[CV 2/5] END ............................C=1.0;, score=-2.527 total time=   2.7s\n",
      "[CV 4/5] END ............................C=1.0;, score=-2.733 total time=   2.8s\n",
      "[CV 3/5] END ............................C=1.0;, score=-2.593 total time=   2.9s\n",
      "[CV 5/5] END ............................C=1.0;, score=-2.488 total time=   2.9s\n",
      "[CV 1/5] END ...........................C=10.0;, score=-2.555 total time=   2.5s\n",
      "[CV 2/5] END ...........................C=10.0;, score=-2.226 total time=   2.6s\n",
      "[CV 3/5] END ...........................C=10.0;, score=-2.542 total time=   2.7s\n",
      "[CV 4/5] END ...........................C=10.0;, score=-2.429 total time=   2.7s\n",
      "[CV 5/5] END ...........................C=10.0;, score=-2.278 total time=   2.8s\n",
      "[CV 1/5] END ..........................C=100.0;, score=-2.555 total time=   2.5s\n",
      "[CV 2/5] END ..........................C=100.0;, score=-2.229 total time=   2.7s\n",
      "[CV 4/5] END ..........................C=100.0;, score=-2.438 total time=   2.7s\n",
      "[CV 5/5] END ..........................C=100.0;, score=-2.273 total time=   2.7s\n",
      "[CV 3/5] END ..........................C=100.0;, score=-2.542 total time=   3.2s\n",
      "[CV 1/5] END .........................C=1000.0;, score=-2.555 total time=   2.7s\n",
      "[CV 2/5] END .........................C=1000.0;, score=-2.229 total time=   2.7s\n",
      "[CV 3/5] END .........................C=1000.0;, score=-2.542 total time=   2.8s\n",
      "[CV 4/5] END .........................C=1000.0;, score=-2.438 total time=   2.9s\n",
      "[CV 5/5] END .........................C=1000.0;, score=-2.273 total time=   3.1s\n",
      "[CV 1/5] END ........................C=10000.0;, score=-2.555 total time=   2.8s\n",
      "[CV 2/5] END ........................C=10000.0;, score=-2.229 total time=   3.1s\n",
      "[CV 3/5] END ........................C=10000.0;, score=-2.542 total time=   3.0s\n",
      "[CV 5/5] END ........................C=10000.0;, score=-2.273 total time=   2.4s\n",
      "[CV 4/5] END ........................C=10000.0;, score=-2.438 total time=   2.9s\n",
      "[CV 1/5] END .......................C=100000.0;, score=-2.555 total time=   2.7s\n",
      "[CV 4/5] END .......................C=100000.0;, score=-2.438 total time=   2.0s\n",
      "[CV 3/5] END .......................C=100000.0;, score=-2.542 total time=   2.3s\n",
      "[CV 2/5] END .......................C=100000.0;, score=-2.229 total time=   2.7s\n",
      "[CV 5/5] END .......................C=100000.0;, score=-2.273 total time=   2.3s\n"
     ]
    },
    {
     "data": {
      "text/plain": [
       "{'C': 10.0}"
      ]
     },
     "execution_count": 26,
     "metadata": {},
     "output_type": "execute_result"
    }
   ],
   "source": [
    "model_km_init.fit(X_train, Y_train)\n",
    "model_km_init.best_params_"
   ]
  },
  {
   "cell_type": "code",
   "execution_count": 27,
   "metadata": {},
   "outputs": [
    {
     "data": {
      "text/plain": [
       "(0.011465660415103761, 2.5273975935245163)"
      ]
     },
     "execution_count": 27,
     "metadata": {},
     "output_type": "execute_result"
    }
   ],
   "source": [
    "preds_train, preds_val = model_km_init.predict(X_train), model_km_init.predict(X_val)\n",
    "score_train, score_val = mean_squared_error(Y_train, preds_train), mean_squared_error(Y_val, preds_val)\n",
    "score_train, score_val"
   ]
  },
  {
   "cell_type": "code",
   "execution_count": 28,
   "metadata": {},
   "outputs": [
    {
     "data": {
      "text/plain": [
       "2.3293973332276634"
      ]
     },
     "execution_count": 28,
     "metadata": {},
     "output_type": "execute_result"
    }
   ],
   "source": [
    "preds_km_init = model_km_init.predict(X_test_subset)\n",
    "score_test = mean_squared_error(Y_test_subset, preds_km_init)\n",
    "score_test"
   ]
  },
  {
   "attachments": {},
   "cell_type": "markdown",
   "metadata": {},
   "source": [
    "### T = inf"
   ]
  },
  {
   "cell_type": "code",
   "execution_count": 29,
   "metadata": {},
   "outputs": [],
   "source": [
    "ntk_inf = NTK(model_nn)"
   ]
  },
  {
   "cell_type": "code",
   "execution_count": 30,
   "metadata": {},
   "outputs": [],
   "source": [
    "model_km_inf_base = SVR(kernel=ntk_inf.get_ntk)"
   ]
  },
  {
   "cell_type": "code",
   "execution_count": 31,
   "metadata": {},
   "outputs": [],
   "source": [
    "model_km_inf = GridSearchCV(estimator=model_km_inf_base, param_grid=params, scoring=scorer, n_jobs=5, cv=5, verbose=3)"
   ]
  },
  {
   "cell_type": "code",
   "execution_count": 32,
   "metadata": {},
   "outputs": [
    {
     "name": "stdout",
     "output_type": "stream",
     "text": [
      "Fitting 5 folds for each of 11 candidates, totalling 55 fits\n",
      "[CV 1/5] END ..........................C=1e-05;, score=-6.590 total time=   2.6s\n",
      "[CV 3/5] END ..........................C=1e-05;, score=-7.158 total time=   2.7s\n",
      "[CV 2/5] END ..........................C=1e-05;, score=-8.069 total time=   3.1s\n",
      "[CV 5/5] END ..........................C=1e-05;, score=-7.378 total time=   3.2s\n",
      "[CV 4/5] END ..........................C=1e-05;, score=-7.565 total time=   3.3s\n",
      "[CV 4/5] END .........................C=0.0001;, score=-1.908 total time=   2.3s\n",
      "[CV 3/5] END .........................C=0.0001;, score=-1.651 total time=   2.6s\n",
      "[CV 1/5] END .........................C=0.0001;, score=-1.533 total time=   3.1s\n",
      "[CV 2/5] END .........................C=0.0001;, score=-1.757 total time=   3.1s\n",
      "[CV 5/5] END .........................C=0.0001;, score=-1.806 total time=   3.0s\n",
      "[CV 3/5] END ..........................C=0.001;, score=-0.085 total time=   2.7s\n",
      "[CV 1/5] END ..........................C=0.001;, score=-0.078 total time=   2.9s\n",
      "[CV 2/5] END ..........................C=0.001;, score=-0.081 total time=   2.9s\n",
      "[CV 4/5] END ..........................C=0.001;, score=-0.107 total time=   3.1s\n",
      "[CV 5/5] END ..........................C=0.001;, score=-0.113 total time=   2.8s\n",
      "[CV 2/5] END ...........................C=0.01;, score=-0.022 total time=   3.6s\n",
      "[CV 1/5] END ...........................C=0.01;, score=-0.023 total time=   4.2s\n",
      "[CV 3/5] END ...........................C=0.01;, score=-0.024 total time=   4.5s\n",
      "[CV 4/5] END ...........................C=0.01;, score=-0.028 total time=   5.2s\n",
      "[CV 5/5] END ...........................C=0.01;, score=-0.027 total time=   6.4s\n",
      "[CV 1/5] END ............................C=0.1;, score=-0.023 total time=  16.1s\n",
      "[CV 2/5] END ............................C=0.1;, score=-0.021 total time=  16.4s\n",
      "[CV 3/5] END ............................C=0.1;, score=-0.024 total time=  17.6s\n",
      "[CV 4/5] END ............................C=0.1;, score=-0.028 total time=  17.9s\n",
      "[CV 5/5] END ............................C=0.1;, score=-0.026 total time=  21.5s\n",
      "[CV 1/5] END ............................C=1.0;, score=-0.023 total time=  18.2s\n",
      "[CV 2/5] END ............................C=1.0;, score=-0.021 total time=  18.5s\n",
      "[CV 4/5] END ............................C=1.0;, score=-0.028 total time=  18.9s\n",
      "[CV 3/5] END ............................C=1.0;, score=-0.024 total time=  21.1s\n",
      "[CV 5/5] END ............................C=1.0;, score=-0.026 total time=  18.1s\n",
      "[CV 2/5] END ...........................C=10.0;, score=-0.021 total time=  13.9s\n",
      "[CV 1/5] END ...........................C=10.0;, score=-0.023 total time=  15.0s\n",
      "[CV 3/5] END ...........................C=10.0;, score=-0.024 total time=  10.8s\n",
      "[CV 4/5] END ...........................C=10.0;, score=-0.028 total time=  10.1s\n",
      "[CV 5/5] END ...........................C=10.0;, score=-0.026 total time=   7.6s\n",
      "[CV 2/5] END ..........................C=100.0;, score=-0.021 total time=   2.9s\n",
      "[CV 1/5] END ..........................C=100.0;, score=-0.023 total time=   2.9s\n",
      "[CV 3/5] END ..........................C=100.0;, score=-0.024 total time=   2.8s\n",
      "[CV 4/5] END ..........................C=100.0;, score=-0.028 total time=   3.1s\n",
      "[CV 5/5] END ..........................C=100.0;, score=-0.026 total time=   3.3s\n",
      "[CV 2/5] END .........................C=1000.0;, score=-0.021 total time=   3.4s\n",
      "[CV 3/5] END .........................C=1000.0;, score=-0.024 total time=   3.6s\n",
      "[CV 1/5] END .........................C=1000.0;, score=-0.023 total time=   3.9s\n",
      "[CV 4/5] END .........................C=1000.0;, score=-0.028 total time=   3.4s\n",
      "[CV 5/5] END .........................C=1000.0;, score=-0.026 total time=   3.1s\n",
      "[CV 1/5] END ........................C=10000.0;, score=-0.023 total time=   3.3s\n",
      "[CV 2/5] END ........................C=10000.0;, score=-0.021 total time=   3.4s\n",
      "[CV 3/5] END ........................C=10000.0;, score=-0.024 total time=   3.5s\n",
      "[CV 4/5] END ........................C=10000.0;, score=-0.028 total time=   3.6s\n",
      "[CV 5/5] END ........................C=10000.0;, score=-0.026 total time=   3.5s\n",
      "[CV 1/5] END .......................C=100000.0;, score=-0.023 total time=   3.0s\n",
      "[CV 2/5] END .......................C=100000.0;, score=-0.021 total time=   3.2s\n",
      "[CV 3/5] END .......................C=100000.0;, score=-0.024 total time=   3.2s\n",
      "[CV 4/5] END .......................C=100000.0;, score=-0.028 total time=   3.0s\n",
      "[CV 5/5] END .......................C=100000.0;, score=-0.026 total time=   2.9s\n"
     ]
    },
    {
     "data": {
      "text/plain": [
       "{'C': 0.1}"
      ]
     },
     "execution_count": 32,
     "metadata": {},
     "output_type": "execute_result"
    }
   ],
   "source": [
    "model_km_inf.fit(X_train, Y_train)\n",
    "model_km_inf.best_params_"
   ]
  },
  {
   "cell_type": "code",
   "execution_count": 33,
   "metadata": {},
   "outputs": [
    {
     "data": {
      "text/plain": [
       "(0.005995205293373071, 2.391250318135006)"
      ]
     },
     "execution_count": 33,
     "metadata": {},
     "output_type": "execute_result"
    }
   ],
   "source": [
    "preds_train, preds_val = model_km_inf.predict(X_train), model_km_inf.predict(X_val)\n",
    "score_train, score_val = mean_squared_error(Y_train, preds_train), mean_squared_error(Y_val, preds_val)\n",
    "score_train, score_val"
   ]
  },
  {
   "cell_type": "code",
   "execution_count": 34,
   "metadata": {},
   "outputs": [
    {
     "data": {
      "text/plain": [
       "1.2528644301816712"
      ]
     },
     "execution_count": 34,
     "metadata": {},
     "output_type": "execute_result"
    }
   ],
   "source": [
    "preds_km_inf = model_km_inf.predict(X_test_subset)\n",
    "score_test = mean_squared_error(Y_test_subset, preds_km_inf)\n",
    "score_test"
   ]
  },
  {
   "attachments": {},
   "cell_type": "markdown",
   "metadata": {},
   "source": [
    "## Plot"
   ]
  },
  {
   "cell_type": "code",
   "execution_count": 35,
   "metadata": {},
   "outputs": [
    {
     "data": {
      "text/plain": [
       "(torch.Size([2115, 1]), (2115,), (2115,))"
      ]
     },
     "execution_count": 35,
     "metadata": {},
     "output_type": "execute_result"
    }
   ],
   "source": [
    "preds_nn.shape, preds_km_init.shape, preds_km_inf.shape"
   ]
  },
  {
   "cell_type": "code",
   "execution_count": 36,
   "metadata": {},
   "outputs": [
    {
     "data": {
      "image/png": "[encoded data removed]",
      "text/plain": [
       "<Figure size 800x800 with 1 Axes>"
      ]
     },
     "metadata": {},
     "output_type": "display_data"
    }
   ],
   "source": [
    "from scripts.utils import plot_ntk_corrs\n",
    "\n",
    "plot_ntk_corrs(preds_nn, preds_km_init, preds_km_inf)"
   ]
  },
  {
   "cell_type": "code",
   "execution_count": null,
   "metadata": {},
   "outputs": [],
   "source": []
  }
 ],
 "metadata": {
  "kernelspec": {
   "display_name": "Python 3 (ipykernel)",
   "language": "python",
   "name": "python3"
  },
  "language_info": {
   "codemirror_mode": {
    "name": "ipython",
    "version": 3
   },
   "file_extension": ".py",
   "mimetype": "text/x-python",
   "name": "python",
   "nbconvert_exporter": "python",
   "pygments_lexer": "ipython3",
   "version": "3.10.6"
  },
  "vscode": {
   "interpreter": {
    "hash": "916dbcbb3f70747c44a77c7bcd40155683ae19c65e1c03b4aa3499c5328201f1"
   }
  }
 },
 "nbformat": 4,
 "nbformat_minor": 2
}
