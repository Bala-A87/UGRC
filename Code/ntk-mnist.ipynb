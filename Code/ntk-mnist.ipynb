{
 "cells": [
  {
   "cell_type": "markdown",
   "metadata": {},
   "source": [
    "## Data"
   ]
  },
  {
   "cell_type": "code",
   "execution_count": 1,
   "metadata": {},
   "outputs": [],
   "source": [
    "import torch\n",
    "import torchvision\n",
    "import numpy as np\n",
    "import matplotlib.pyplot as plt"
   ]
  },
  {
   "cell_type": "code",
   "execution_count": 2,
   "metadata": {},
   "outputs": [],
   "source": [
    "from torchvision.transforms import ToTensor\n",
    "\n",
    "training_data = torchvision.datasets.MNIST(root='./data', transform=ToTensor(), download=True)\n",
    "test_data = torchvision.datasets.MNIST(root='./data', train=False, transform=ToTensor(), download=True)"
   ]
  },
  {
   "cell_type": "code",
   "execution_count": 3,
   "metadata": {},
   "outputs": [],
   "source": [
    "from torch.utils.data import DataLoader\n",
    "\n",
    "training_dataloader = DataLoader(training_data, batch_size=len(training_data), shuffle=True)\n",
    "test_dataloader = DataLoader(test_data, batch_size=len(test_data), shuffle=False)"
   ]
  },
  {
   "cell_type": "code",
   "execution_count": 4,
   "metadata": {},
   "outputs": [
    {
     "data": {
      "text/plain": [
       "(torch.Size([60000, 1, 28, 28]), torch.Size([60000]))"
      ]
     },
     "execution_count": 4,
     "metadata": {},
     "output_type": "execute_result"
    }
   ],
   "source": [
    "X_training, Y_training = next(iter(training_dataloader))\n",
    "X_training.shape, Y_training.shape"
   ]
  },
  {
   "cell_type": "code",
   "execution_count": 5,
   "metadata": {},
   "outputs": [
    {
     "data": {
      "text/plain": [
       "(torch.Size([10000, 1, 28, 28]), torch.Size([10000]))"
      ]
     },
     "execution_count": 5,
     "metadata": {},
     "output_type": "execute_result"
    }
   ],
   "source": [
    "X_test, Y_test = next(iter(test_dataloader))\n",
    "X_test.shape, Y_test.shape"
   ]
  },
  {
   "cell_type": "code",
   "execution_count": 6,
   "metadata": {},
   "outputs": [
    {
     "data": {
      "text/plain": [
       "(torch.Size([60000, 784]),\n",
       " torch.Size([60000]),\n",
       " torch.Size([10000, 784]),\n",
       " torch.Size([10000]))"
      ]
     },
     "execution_count": 6,
     "metadata": {},
     "output_type": "execute_result"
    }
   ],
   "source": [
    "X_training = X_training.reshape(60000, 784)\n",
    "X_test = X_test.reshape(10000, 784)\n",
    "X_training.shape, Y_training.shape, X_test.shape, Y_test.shape"
   ]
  },
  {
   "cell_type": "code",
   "execution_count": 7,
   "metadata": {},
   "outputs": [
    {
     "data": {
      "text/plain": [
       "(torch.Size([12665, 784]),\n",
       " torch.Size([12665]),\n",
       " torch.Size([2115, 784]),\n",
       " torch.Size([2115]))"
      ]
     },
     "execution_count": 7,
     "metadata": {},
     "output_type": "execute_result"
    }
   ],
   "source": [
    "X_training_subset = torch.cat([X_training[Y_training==0], X_training[Y_training==1]])\n",
    "Y_training_subset = torch.cat([Y_training[Y_training==0], Y_training[Y_training==1]])\n",
    "X_test_subset = torch.cat([X_test[Y_test==0], X_test[Y_test==1]])\n",
    "Y_test_subset = torch.cat([Y_test[Y_test==0], Y_test[Y_test==1]])\n",
    "X_training_subset.shape, Y_training_subset.shape, X_test_subset.shape, Y_test_subset.shape"
   ]
  },
  {
   "cell_type": "code",
   "execution_count": 8,
   "metadata": {},
   "outputs": [
    {
     "data": {
      "text/plain": [
       "(torch.Size([1000, 784]),\n",
       " torch.Size([1000, 784]),\n",
       " torch.Size([1000]),\n",
       " torch.Size([1000]))"
      ]
     },
     "execution_count": 8,
     "metadata": {},
     "output_type": "execute_result"
    }
   ],
   "source": [
    "from sklearn.model_selection import train_test_split\n",
    "\n",
    "X_train_large, X_val, Y_train_large, Y_val = train_test_split(X_training, Y_training, test_size=1000)\n",
    "X_train, X_dummy, Y_train, Y_dummy = train_test_split(X_train_large, Y_train_large, train_size=1000)\n",
    "\n",
    "# X_train, X_val, Y_train, Y_val = train_test_split(X_training_subset, Y_training_subset, test_size=0.2)\n",
    "X_train.shape, X_val.shape, Y_train.shape, Y_val.shape"
   ]
  },
  {
   "cell_type": "markdown",
   "metadata": {},
   "source": [
    "## NN"
   ]
  },
  {
   "cell_type": "code",
   "execution_count": 9,
   "metadata": {},
   "outputs": [],
   "source": [
    "device = 'cpu'"
   ]
  },
  {
   "cell_type": "code",
   "execution_count": 10,
   "metadata": {},
   "outputs": [],
   "source": [
    "from scripts.utils import make_dataloader\n",
    "\n",
    "train_dataloader, val_dataloader = make_dataloader(X_train, Y_train.unsqueeze(1).type(torch.float32), batch_size=32, shuffle=True), make_dataloader(X_val, Y_val.unsqueeze(1).type(torch.float32), batch_size=32)"
   ]
  },
  {
   "cell_type": "code",
   "execution_count": 11,
   "metadata": {},
   "outputs": [],
   "source": [
    "from torch import nn\n",
    "\n",
    "class SimpleNN(nn.Module):\n",
    "    def __init__(self) -> None:\n",
    "        super().__init__()\n",
    "        self.layers = nn.Sequential(\n",
    "            nn.Linear(in_features=784, out_features=100),\n",
    "            nn.ReLU(),\n",
    "            nn.Linear(in_features=100, out_features=100),\n",
    "            nn.ReLU(),\n",
    "            nn.Linear(in_features=100, out_features=1),\n",
    "        )\n",
    "    \n",
    "    def forward(self, x):\n",
    "        return self.layers(x)\n"
   ]
  },
  {
   "cell_type": "code",
   "execution_count": 12,
   "metadata": {},
   "outputs": [
    {
     "data": {
      "text/plain": [
       "========================================================================================================================\n",
       "Layer (type:depth-idx)                   Input Shape          Output Shape         Param #              Trainable\n",
       "========================================================================================================================\n",
       "SimpleNN                                 [32, 784]            [32, 1]              --                   True\n",
       "├─Sequential: 1-1                        [32, 784]            [32, 1]              --                   True\n",
       "│    └─Linear: 2-1                       [32, 784]            [32, 100]            78,500               True\n",
       "│    └─ReLU: 2-2                         [32, 100]            [32, 100]            --                   --\n",
       "│    └─Linear: 2-3                       [32, 100]            [32, 100]            10,100               True\n",
       "│    └─ReLU: 2-4                         [32, 100]            [32, 100]            --                   --\n",
       "│    └─Linear: 2-5                       [32, 100]            [32, 1]              101                  True\n",
       "========================================================================================================================\n",
       "Total params: 88,701\n",
       "Trainable params: 88,701\n",
       "Non-trainable params: 0\n",
       "Total mult-adds (M): 2.84\n",
       "========================================================================================================================\n",
       "Input size (MB): 0.10\n",
       "Forward/backward pass size (MB): 0.05\n",
       "Params size (MB): 0.35\n",
       "Estimated Total Size (MB): 0.51\n",
       "========================================================================================================================"
      ]
     },
     "execution_count": 12,
     "metadata": {},
     "output_type": "execute_result"
    }
   ],
   "source": [
    "from torchinfo import summary\n",
    "\n",
    "summary(\n",
    "    model=SimpleNN(),\n",
    "    input_size=(32, 784),\n",
    "    col_names=['input_size', 'output_size', 'num_params', 'trainable'],\n",
    "    col_width=20\n",
    ")"
   ]
  },
  {
   "cell_type": "code",
   "execution_count": 13,
   "metadata": {},
   "outputs": [],
   "source": [
    "model_nn = SimpleNN().to(device)"
   ]
  },
  {
   "cell_type": "code",
   "execution_count": 14,
   "metadata": {},
   "outputs": [],
   "source": [
    "from scripts.metrics import NegMeanSquaredError\n",
    "\n",
    "loss_fn = torch.nn.MSELoss()\n",
    "optimizer = torch.optim.Adam(params=model_nn.parameters())\n",
    "metric = NegMeanSquaredError()"
   ]
  },
  {
   "cell_type": "code",
   "execution_count": 15,
   "metadata": {},
   "outputs": [
    {
     "name": "stdout",
     "output_type": "stream",
     "text": [
      "Training model for 500 epochs. Early stopping not enabled.\n",
      "Epoch: 1 => Train loss: 13.132707, Train score: -13.132707, Val loss: 6.882002, Val score: -6.882002\n",
      "Epoch: 2 => Train loss: 5.364226, Train score: -5.364226, Val loss: 4.585585, Val score: -4.585585\n",
      "Epoch: 3 => Train loss: 4.352152, Train score: -4.352152, Val loss: 4.342611, Val score: -4.342611\n",
      "Epoch: 4 => Train loss: 3.756452, Train score: -3.756452, Val loss: 4.003564, Val score: -4.003564\n",
      "Epoch: 5 => Train loss: 3.368073, Train score: -3.368073, Val loss: 3.854403, Val score: -3.854403\n",
      "Epoch: 6 => Train loss: 3.095806, Train score: -3.095806, Val loss: 3.609177, Val score: -3.609177\n",
      "Epoch: 7 => Train loss: 2.768047, Train score: -2.768047, Val loss: 3.501203, Val score: -3.501203\n",
      "Epoch: 8 => Train loss: 2.476190, Train score: -2.476190, Val loss: 3.365510, Val score: -3.365510\n",
      "Epoch: 9 => Train loss: 2.363583, Train score: -2.363583, Val loss: 3.461792, Val score: -3.461792\n",
      "Epoch: 10 => Train loss: 2.205264, Train score: -2.205264, Val loss: 3.625429, Val score: -3.625429\n",
      "Epoch: 11 => Train loss: 2.026015, Train score: -2.026015, Val loss: 3.206183, Val score: -3.206183\n",
      "Epoch: 12 => Train loss: 1.921030, Train score: -1.921030, Val loss: 3.243018, Val score: -3.243018\n",
      "Epoch: 13 => Train loss: 1.655243, Train score: -1.655243, Val loss: 3.082537, Val score: -3.082537\n",
      "Epoch: 14 => Train loss: 1.476881, Train score: -1.476881, Val loss: 3.028942, Val score: -3.028942\n",
      "Epoch: 15 => Train loss: 1.353378, Train score: -1.353378, Val loss: 2.968535, Val score: -2.968535\n",
      "Epoch: 16 => Train loss: 1.180669, Train score: -1.180669, Val loss: 2.925282, Val score: -2.925282\n",
      "Epoch: 17 => Train loss: 1.151668, Train score: -1.151668, Val loss: 2.833147, Val score: -2.833147\n",
      "Epoch: 18 => Train loss: 1.032707, Train score: -1.032707, Val loss: 3.033810, Val score: -3.033810\n",
      "Epoch: 19 => Train loss: 0.990775, Train score: -0.990775, Val loss: 2.863575, Val score: -2.863575\n",
      "Epoch: 20 => Train loss: 0.807956, Train score: -0.807956, Val loss: 2.859717, Val score: -2.859717\n",
      "Epoch: 21 => Train loss: 0.727583, Train score: -0.727583, Val loss: 2.801384, Val score: -2.801384\n",
      "Epoch: 22 => Train loss: 0.674748, Train score: -0.674748, Val loss: 2.815195, Val score: -2.815195\n",
      "Epoch: 23 => Train loss: 0.610196, Train score: -0.610196, Val loss: 2.845776, Val score: -2.845776\n",
      "Epoch: 24 => Train loss: 0.534990, Train score: -0.534990, Val loss: 2.802823, Val score: -2.802823\n",
      "Epoch: 25 => Train loss: 0.493281, Train score: -0.493281, Val loss: 2.712250, Val score: -2.712250\n",
      "Epoch: 26 => Train loss: 0.428053, Train score: -0.428053, Val loss: 2.841066, Val score: -2.841066\n",
      "Epoch: 27 => Train loss: 0.397131, Train score: -0.397131, Val loss: 2.766382, Val score: -2.766382\n",
      "Epoch: 28 => Train loss: 0.348406, Train score: -0.348406, Val loss: 2.706302, Val score: -2.706302\n",
      "Epoch: 29 => Train loss: 0.325875, Train score: -0.325875, Val loss: 2.721839, Val score: -2.721839\n",
      "Epoch: 30 => Train loss: 0.298719, Train score: -0.298719, Val loss: 2.675400, Val score: -2.675400\n",
      "Epoch: 31 => Train loss: 0.297714, Train score: -0.297714, Val loss: 2.720152, Val score: -2.720152\n",
      "Epoch: 32 => Train loss: 0.320234, Train score: -0.320234, Val loss: 2.830760, Val score: -2.830760\n",
      "Epoch: 33 => Train loss: 0.273528, Train score: -0.273528, Val loss: 2.654603, Val score: -2.654603\n",
      "Epoch: 34 => Train loss: 0.210863, Train score: -0.210863, Val loss: 2.661447, Val score: -2.661447\n",
      "Epoch: 35 => Train loss: 0.188195, Train score: -0.188195, Val loss: 2.712049, Val score: -2.712049\n",
      "Epoch: 36 => Train loss: 0.212816, Train score: -0.212816, Val loss: 2.655491, Val score: -2.655491\n",
      "Epoch: 37 => Train loss: 0.186554, Train score: -0.186554, Val loss: 2.700486, Val score: -2.700486\n",
      "Epoch: 38 => Train loss: 0.182191, Train score: -0.182191, Val loss: 2.624530, Val score: -2.624530\n",
      "Epoch: 39 => Train loss: 0.153739, Train score: -0.153739, Val loss: 2.712779, Val score: -2.712779\n",
      "Epoch: 40 => Train loss: 0.178253, Train score: -0.178253, Val loss: 2.612262, Val score: -2.612262\n",
      "Epoch: 41 => Train loss: 0.175077, Train score: -0.175077, Val loss: 2.594569, Val score: -2.594569\n",
      "Epoch: 42 => Train loss: 0.115787, Train score: -0.115787, Val loss: 2.658736, Val score: -2.658736\n",
      "Epoch: 43 => Train loss: 0.104277, Train score: -0.104277, Val loss: 2.604255, Val score: -2.604255\n",
      "Epoch: 44 => Train loss: 0.089801, Train score: -0.089801, Val loss: 2.688508, Val score: -2.688508\n",
      "Epoch: 45 => Train loss: 0.086682, Train score: -0.086682, Val loss: 2.618590, Val score: -2.618590\n",
      "Epoch: 46 => Train loss: 0.075685, Train score: -0.075685, Val loss: 2.601064, Val score: -2.601064\n",
      "Epoch: 47 => Train loss: 0.072429, Train score: -0.072429, Val loss: 2.605606, Val score: -2.605606\n",
      "Epoch: 48 => Train loss: 0.072142, Train score: -0.072142, Val loss: 2.624064, Val score: -2.624064\n",
      "Epoch: 49 => Train loss: 0.067106, Train score: -0.067106, Val loss: 2.604163, Val score: -2.604163\n",
      "Epoch: 50 => Train loss: 0.067591, Train score: -0.067591, Val loss: 2.611315, Val score: -2.611315\n",
      "Epoch: 51 => Train loss: 0.054595, Train score: -0.054595, Val loss: 2.633658, Val score: -2.633658\n",
      "Epoch: 52 => Train loss: 0.051837, Train score: -0.051837, Val loss: 2.634324, Val score: -2.634324\n",
      "Epoch: 53 => Train loss: 0.043351, Train score: -0.043351, Val loss: 2.627746, Val score: -2.627746\n",
      "Epoch: 54 => Train loss: 0.042464, Train score: -0.042464, Val loss: 2.619769, Val score: -2.619769\n",
      "Epoch: 55 => Train loss: 0.046868, Train score: -0.046868, Val loss: 2.636866, Val score: -2.636866\n",
      "Epoch: 56 => Train loss: 0.043410, Train score: -0.043410, Val loss: 2.617033, Val score: -2.617033\n",
      "Epoch: 57 => Train loss: 0.033842, Train score: -0.033842, Val loss: 2.618904, Val score: -2.618904\n",
      "Epoch: 58 => Train loss: 0.034416, Train score: -0.034416, Val loss: 2.617948, Val score: -2.617948\n",
      "Epoch: 59 => Train loss: 0.029627, Train score: -0.029627, Val loss: 2.630175, Val score: -2.630175\n",
      "Epoch: 60 => Train loss: 0.028040, Train score: -0.028040, Val loss: 2.628472, Val score: -2.628472\n",
      "Epoch: 61 => Train loss: 0.034483, Train score: -0.034483, Val loss: 2.619629, Val score: -2.619629\n",
      "Epoch: 62 => Train loss: 0.032516, Train score: -0.032516, Val loss: 2.649497, Val score: -2.649497\n",
      "Epoch: 63 => Train loss: 0.042647, Train score: -0.042647, Val loss: 2.600388, Val score: -2.600388\n",
      "Epoch: 64 => Train loss: 0.024758, Train score: -0.024758, Val loss: 2.611462, Val score: -2.611462\n",
      "Epoch: 65 => Train loss: 0.020751, Train score: -0.020751, Val loss: 2.602600, Val score: -2.602600\n",
      "Epoch: 66 => Train loss: 0.020629, Train score: -0.020629, Val loss: 2.615807, Val score: -2.615807\n",
      "Epoch: 67 => Train loss: 0.017693, Train score: -0.017693, Val loss: 2.599710, Val score: -2.599710\n",
      "Epoch: 68 => Train loss: 0.015773, Train score: -0.015773, Val loss: 2.615045, Val score: -2.615045\n",
      "Epoch: 69 => Train loss: 0.014880, Train score: -0.014880, Val loss: 2.606140, Val score: -2.606140\n",
      "Epoch: 70 => Train loss: 0.011721, Train score: -0.011721, Val loss: 2.611384, Val score: -2.611384\n",
      "Epoch: 71 => Train loss: 0.011984, Train score: -0.011984, Val loss: 2.620118, Val score: -2.620118\n",
      "Epoch: 72 => Train loss: 0.012783, Train score: -0.012783, Val loss: 2.592625, Val score: -2.592625\n",
      "Epoch: 73 => Train loss: 0.014095, Train score: -0.014095, Val loss: 2.624678, Val score: -2.624678\n",
      "Epoch: 74 => Train loss: 0.017974, Train score: -0.017974, Val loss: 2.599518, Val score: -2.599518\n",
      "Epoch: 75 => Train loss: 0.015668, Train score: -0.015668, Val loss: 2.607606, Val score: -2.607606\n",
      "Epoch: 76 => Train loss: 0.012504, Train score: -0.012504, Val loss: 2.618345, Val score: -2.618345\n",
      "Epoch: 77 => Train loss: 0.019999, Train score: -0.019999, Val loss: 2.576912, Val score: -2.576912\n",
      "Epoch: 78 => Train loss: 0.020237, Train score: -0.020237, Val loss: 2.582976, Val score: -2.582976\n",
      "Epoch: 79 => Train loss: 0.019298, Train score: -0.019298, Val loss: 2.602834, Val score: -2.602834\n",
      "Epoch: 80 => Train loss: 0.036679, Train score: -0.036679, Val loss: 2.591278, Val score: -2.591278\n",
      "Epoch: 81 => Train loss: 0.032560, Train score: -0.032560, Val loss: 2.643163, Val score: -2.643163\n",
      "Epoch: 82 => Train loss: 0.025847, Train score: -0.025847, Val loss: 2.592354, Val score: -2.592354\n",
      "Epoch: 83 => Train loss: 0.018074, Train score: -0.018074, Val loss: 2.610128, Val score: -2.610128\n",
      "Epoch: 84 => Train loss: 0.019805, Train score: -0.019805, Val loss: 2.591042, Val score: -2.591042\n",
      "Epoch: 85 => Train loss: 0.014677, Train score: -0.014677, Val loss: 2.584536, Val score: -2.584536\n",
      "Epoch: 86 => Train loss: 0.011245, Train score: -0.011245, Val loss: 2.582631, Val score: -2.582631\n",
      "Epoch: 87 => Train loss: 0.014392, Train score: -0.014392, Val loss: 2.698491, Val score: -2.698491\n",
      "Epoch: 88 => Train loss: 0.023624, Train score: -0.023624, Val loss: 2.587432, Val score: -2.587432\n",
      "Epoch: 89 => Train loss: 0.020414, Train score: -0.020414, Val loss: 2.572897, Val score: -2.572897\n",
      "Epoch: 90 => Train loss: 0.023994, Train score: -0.023994, Val loss: 2.620993, Val score: -2.620993\n",
      "Epoch: 91 => Train loss: 0.032905, Train score: -0.032905, Val loss: 2.606107, Val score: -2.606107\n",
      "Epoch: 92 => Train loss: 0.021667, Train score: -0.021667, Val loss: 2.605085, Val score: -2.605085\n",
      "Epoch: 93 => Train loss: 0.022567, Train score: -0.022567, Val loss: 2.590941, Val score: -2.590941\n",
      "Epoch: 94 => Train loss: 0.018681, Train score: -0.018681, Val loss: 2.576436, Val score: -2.576436\n",
      "Epoch: 95 => Train loss: 0.022057, Train score: -0.022057, Val loss: 2.572946, Val score: -2.572946\n",
      "Epoch: 96 => Train loss: 0.022155, Train score: -0.022155, Val loss: 2.590733, Val score: -2.590733\n",
      "Epoch: 97 => Train loss: 0.018752, Train score: -0.018752, Val loss: 2.567581, Val score: -2.567581\n",
      "Epoch: 98 => Train loss: 0.021856, Train score: -0.021856, Val loss: 2.563723, Val score: -2.563723\n",
      "Epoch: 99 => Train loss: 0.019322, Train score: -0.019322, Val loss: 2.574926, Val score: -2.574926\n",
      "Epoch: 100 => Train loss: 0.017137, Train score: -0.017137, Val loss: 2.587079, Val score: -2.587079\n",
      "Epoch: 101 => Train loss: 0.015106, Train score: -0.015106, Val loss: 2.620492, Val score: -2.620492\n",
      "Epoch: 102 => Train loss: 0.024607, Train score: -0.024607, Val loss: 2.563805, Val score: -2.563805\n",
      "Epoch: 103 => Train loss: 0.018131, Train score: -0.018131, Val loss: 2.556826, Val score: -2.556826\n",
      "Epoch: 104 => Train loss: 0.014327, Train score: -0.014327, Val loss: 2.591986, Val score: -2.591986\n",
      "Epoch: 105 => Train loss: 0.014929, Train score: -0.014929, Val loss: 2.554410, Val score: -2.554410\n",
      "Epoch: 106 => Train loss: 0.016624, Train score: -0.016624, Val loss: 2.539426, Val score: -2.539426\n",
      "Epoch: 107 => Train loss: 0.013789, Train score: -0.013789, Val loss: 2.564983, Val score: -2.564983\n",
      "Epoch: 108 => Train loss: 0.023149, Train score: -0.023149, Val loss: 2.552856, Val score: -2.552856\n",
      "Epoch: 109 => Train loss: 0.019026, Train score: -0.019026, Val loss: 2.560868, Val score: -2.560868\n",
      "Epoch: 110 => Train loss: 0.018762, Train score: -0.018762, Val loss: 2.566322, Val score: -2.566322\n",
      "Epoch: 111 => Train loss: 0.024195, Train score: -0.024195, Val loss: 2.568849, Val score: -2.568849\n",
      "Epoch: 112 => Train loss: 0.044129, Train score: -0.044129, Val loss: 2.485761, Val score: -2.485761\n",
      "Epoch: 113 => Train loss: 0.048887, Train score: -0.048887, Val loss: 2.517073, Val score: -2.517073\n",
      "Epoch: 114 => Train loss: 0.061080, Train score: -0.061080, Val loss: 2.598209, Val score: -2.598209\n",
      "Epoch: 115 => Train loss: 0.050982, Train score: -0.050982, Val loss: 2.600191, Val score: -2.600191\n",
      "Epoch: 116 => Train loss: 0.039325, Train score: -0.039325, Val loss: 2.541078, Val score: -2.541078\n",
      "Epoch: 117 => Train loss: 0.043590, Train score: -0.043590, Val loss: 2.554093, Val score: -2.554093\n",
      "Epoch: 118 => Train loss: 0.048341, Train score: -0.048341, Val loss: 2.614128, Val score: -2.614128\n",
      "Epoch: 119 => Train loss: 0.033301, Train score: -0.033301, Val loss: 2.498015, Val score: -2.498015\n",
      "Epoch: 120 => Train loss: 0.025628, Train score: -0.025628, Val loss: 2.567195, Val score: -2.567195\n",
      "Epoch: 121 => Train loss: 0.018836, Train score: -0.018836, Val loss: 2.537944, Val score: -2.537944\n",
      "Epoch: 122 => Train loss: 0.019001, Train score: -0.019001, Val loss: 2.493574, Val score: -2.493574\n",
      "Epoch: 123 => Train loss: 0.014887, Train score: -0.014887, Val loss: 2.516558, Val score: -2.516558\n",
      "Epoch: 124 => Train loss: 0.021071, Train score: -0.021071, Val loss: 2.531369, Val score: -2.531369\n",
      "Epoch: 125 => Train loss: 0.017799, Train score: -0.017799, Val loss: 2.549755, Val score: -2.549755\n",
      "Epoch: 126 => Train loss: 0.017047, Train score: -0.017047, Val loss: 2.523731, Val score: -2.523731\n",
      "Epoch: 127 => Train loss: 0.014107, Train score: -0.014107, Val loss: 2.497288, Val score: -2.497288\n",
      "Epoch: 128 => Train loss: 0.008174, Train score: -0.008174, Val loss: 2.513364, Val score: -2.513364\n",
      "Epoch: 129 => Train loss: 0.009458, Train score: -0.009458, Val loss: 2.522652, Val score: -2.522652\n",
      "Epoch: 130 => Train loss: 0.010451, Train score: -0.010451, Val loss: 2.507206, Val score: -2.507206\n",
      "Epoch: 131 => Train loss: 0.012705, Train score: -0.012705, Val loss: 2.528360, Val score: -2.528360\n",
      "Epoch: 132 => Train loss: 0.008753, Train score: -0.008753, Val loss: 2.513330, Val score: -2.513330\n",
      "Epoch: 133 => Train loss: 0.007222, Train score: -0.007222, Val loss: 2.511342, Val score: -2.511342\n",
      "Epoch: 134 => Train loss: 0.007918, Train score: -0.007918, Val loss: 2.497050, Val score: -2.497050\n",
      "Epoch: 135 => Train loss: 0.008409, Train score: -0.008409, Val loss: 2.532154, Val score: -2.532154\n",
      "Epoch: 136 => Train loss: 0.017342, Train score: -0.017342, Val loss: 2.493870, Val score: -2.493870\n",
      "Epoch: 137 => Train loss: 0.013426, Train score: -0.013426, Val loss: 2.552801, Val score: -2.552801\n",
      "Epoch: 138 => Train loss: 0.017029, Train score: -0.017029, Val loss: 2.526371, Val score: -2.526371\n",
      "Epoch: 139 => Train loss: 0.019072, Train score: -0.019072, Val loss: 2.551613, Val score: -2.551613\n",
      "Epoch: 140 => Train loss: 0.021899, Train score: -0.021899, Val loss: 2.520904, Val score: -2.520904\n",
      "Epoch: 141 => Train loss: 0.024574, Train score: -0.024574, Val loss: 2.531480, Val score: -2.531480\n",
      "Epoch: 142 => Train loss: 0.022860, Train score: -0.022860, Val loss: 2.513574, Val score: -2.513574\n",
      "Epoch: 143 => Train loss: 0.027986, Train score: -0.027986, Val loss: 2.568851, Val score: -2.568851\n",
      "Epoch: 144 => Train loss: 0.039954, Train score: -0.039954, Val loss: 2.516618, Val score: -2.516618\n",
      "Epoch: 145 => Train loss: 0.053742, Train score: -0.053742, Val loss: 2.541518, Val score: -2.541518\n",
      "Epoch: 146 => Train loss: 0.059267, Train score: -0.059267, Val loss: 2.592407, Val score: -2.592407\n",
      "Epoch: 147 => Train loss: 0.074165, Train score: -0.074165, Val loss: 2.546961, Val score: -2.546961\n",
      "Epoch: 148 => Train loss: 0.058409, Train score: -0.058409, Val loss: 2.515933, Val score: -2.515933\n",
      "Epoch: 149 => Train loss: 0.039193, Train score: -0.039193, Val loss: 2.456377, Val score: -2.456377\n",
      "Epoch: 150 => Train loss: 0.028014, Train score: -0.028014, Val loss: 2.517229, Val score: -2.517229\n",
      "Epoch: 151 => Train loss: 0.024829, Train score: -0.024829, Val loss: 2.484762, Val score: -2.484762\n",
      "Epoch: 152 => Train loss: 0.024954, Train score: -0.024954, Val loss: 2.475055, Val score: -2.475055\n",
      "Epoch: 153 => Train loss: 0.031098, Train score: -0.031098, Val loss: 2.439610, Val score: -2.439610\n",
      "Epoch: 154 => Train loss: 0.037031, Train score: -0.037031, Val loss: 2.486220, Val score: -2.486220\n",
      "Epoch: 155 => Train loss: 0.033958, Train score: -0.033958, Val loss: 2.465111, Val score: -2.465111\n",
      "Epoch: 156 => Train loss: 0.023699, Train score: -0.023699, Val loss: 2.420531, Val score: -2.420531\n",
      "Epoch: 157 => Train loss: 0.028482, Train score: -0.028482, Val loss: 2.488558, Val score: -2.488558\n",
      "Epoch: 158 => Train loss: 0.025779, Train score: -0.025779, Val loss: 2.481711, Val score: -2.481711\n",
      "Epoch: 159 => Train loss: 0.020743, Train score: -0.020743, Val loss: 2.453195, Val score: -2.453195\n",
      "Epoch: 160 => Train loss: 0.012649, Train score: -0.012649, Val loss: 2.436374, Val score: -2.436374\n",
      "Epoch: 161 => Train loss: 0.015024, Train score: -0.015024, Val loss: 2.455486, Val score: -2.455486\n",
      "Epoch: 162 => Train loss: 0.012948, Train score: -0.012948, Val loss: 2.447330, Val score: -2.447330\n",
      "Epoch: 163 => Train loss: 0.012518, Train score: -0.012518, Val loss: 2.443792, Val score: -2.443792\n",
      "Epoch: 164 => Train loss: 0.014698, Train score: -0.014698, Val loss: 2.467733, Val score: -2.467733\n",
      "Epoch: 165 => Train loss: 0.016346, Train score: -0.016346, Val loss: 2.454728, Val score: -2.454728\n",
      "Epoch: 166 => Train loss: 0.024736, Train score: -0.024736, Val loss: 2.409116, Val score: -2.409116\n",
      "Epoch: 167 => Train loss: 0.019837, Train score: -0.019837, Val loss: 2.443462, Val score: -2.443462\n",
      "Epoch: 168 => Train loss: 0.018580, Train score: -0.018580, Val loss: 2.457353, Val score: -2.457353\n",
      "Epoch: 169 => Train loss: 0.015428, Train score: -0.015428, Val loss: 2.479394, Val score: -2.479394\n",
      "Epoch: 170 => Train loss: 0.017722, Train score: -0.017722, Val loss: 2.461018, Val score: -2.461018\n",
      "Epoch: 171 => Train loss: 0.015116, Train score: -0.015116, Val loss: 2.461144, Val score: -2.461144\n",
      "Epoch: 172 => Train loss: 0.014826, Train score: -0.014826, Val loss: 2.434761, Val score: -2.434761\n",
      "Epoch: 173 => Train loss: 0.010139, Train score: -0.010139, Val loss: 2.432055, Val score: -2.432055\n",
      "Epoch: 174 => Train loss: 0.007968, Train score: -0.007968, Val loss: 2.438005, Val score: -2.438005\n",
      "Epoch: 175 => Train loss: 0.012268, Train score: -0.012268, Val loss: 2.448123, Val score: -2.448123\n",
      "Epoch: 176 => Train loss: 0.015939, Train score: -0.015939, Val loss: 2.455254, Val score: -2.455254\n",
      "Epoch: 177 => Train loss: 0.015482, Train score: -0.015482, Val loss: 2.459592, Val score: -2.459592\n",
      "Epoch: 178 => Train loss: 0.011075, Train score: -0.011075, Val loss: 2.445810, Val score: -2.445810\n",
      "Epoch: 179 => Train loss: 0.011425, Train score: -0.011425, Val loss: 2.443506, Val score: -2.443506\n",
      "Epoch: 180 => Train loss: 0.018659, Train score: -0.018659, Val loss: 2.436959, Val score: -2.436959\n",
      "Epoch: 181 => Train loss: 0.038939, Train score: -0.038939, Val loss: 2.375062, Val score: -2.375062\n",
      "Epoch: 182 => Train loss: 0.058779, Train score: -0.058779, Val loss: 2.602927, Val score: -2.602927\n",
      "Epoch: 183 => Train loss: 0.133582, Train score: -0.133582, Val loss: 2.639669, Val score: -2.639669\n",
      "Epoch: 184 => Train loss: 0.134699, Train score: -0.134699, Val loss: 2.503316, Val score: -2.503316\n",
      "Epoch: 185 => Train loss: 0.077047, Train score: -0.077047, Val loss: 2.470506, Val score: -2.470506\n",
      "Epoch: 186 => Train loss: 0.048969, Train score: -0.048969, Val loss: 2.408154, Val score: -2.408154\n",
      "Epoch: 187 => Train loss: 0.029665, Train score: -0.029665, Val loss: 2.415686, Val score: -2.415686\n",
      "Epoch: 188 => Train loss: 0.021171, Train score: -0.021171, Val loss: 2.406115, Val score: -2.406115\n",
      "Epoch: 189 => Train loss: 0.018019, Train score: -0.018019, Val loss: 2.385470, Val score: -2.385470\n",
      "Epoch: 190 => Train loss: 0.015591, Train score: -0.015591, Val loss: 2.391379, Val score: -2.391379\n",
      "Epoch: 191 => Train loss: 0.012080, Train score: -0.012080, Val loss: 2.394168, Val score: -2.394168\n",
      "Epoch: 192 => Train loss: 0.008152, Train score: -0.008152, Val loss: 2.416448, Val score: -2.416448\n",
      "Epoch: 193 => Train loss: 0.004788, Train score: -0.004788, Val loss: 2.404998, Val score: -2.404998\n",
      "Epoch: 194 => Train loss: 0.004267, Train score: -0.004267, Val loss: 2.413781, Val score: -2.413781\n",
      "Epoch: 195 => Train loss: 0.003825, Train score: -0.003825, Val loss: 2.422139, Val score: -2.422139\n",
      "Epoch: 196 => Train loss: 0.003213, Train score: -0.003213, Val loss: 2.420126, Val score: -2.420126\n",
      "Epoch: 197 => Train loss: 0.005150, Train score: -0.005150, Val loss: 2.409989, Val score: -2.409989\n",
      "Epoch: 198 => Train loss: 0.003687, Train score: -0.003687, Val loss: 2.415942, Val score: -2.415942\n",
      "Epoch: 199 => Train loss: 0.004074, Train score: -0.004074, Val loss: 2.414538, Val score: -2.414538\n",
      "Epoch: 200 => Train loss: 0.006762, Train score: -0.006762, Val loss: 2.420896, Val score: -2.420896\n",
      "Epoch: 201 => Train loss: 0.006997, Train score: -0.006997, Val loss: 2.390223, Val score: -2.390223\n",
      "Epoch: 202 => Train loss: 0.004474, Train score: -0.004474, Val loss: 2.388316, Val score: -2.388316\n",
      "Epoch: 203 => Train loss: 0.004741, Train score: -0.004741, Val loss: 2.402750, Val score: -2.402750\n",
      "Epoch: 204 => Train loss: 0.003830, Train score: -0.003830, Val loss: 2.395975, Val score: -2.395975\n",
      "Epoch: 205 => Train loss: 0.003451, Train score: -0.003451, Val loss: 2.400811, Val score: -2.400811\n",
      "Epoch: 206 => Train loss: 0.003041, Train score: -0.003041, Val loss: 2.388111, Val score: -2.388111\n",
      "Epoch: 207 => Train loss: 0.002756, Train score: -0.002756, Val loss: 2.395555, Val score: -2.395555\n",
      "Epoch: 208 => Train loss: 0.003000, Train score: -0.003000, Val loss: 2.403715, Val score: -2.403715\n",
      "Epoch: 209 => Train loss: 0.004916, Train score: -0.004916, Val loss: 2.405796, Val score: -2.405796\n",
      "Epoch: 210 => Train loss: 0.003428, Train score: -0.003428, Val loss: 2.391082, Val score: -2.391082\n",
      "Epoch: 211 => Train loss: 0.004550, Train score: -0.004550, Val loss: 2.393674, Val score: -2.393674\n",
      "Epoch: 212 => Train loss: 0.004113, Train score: -0.004113, Val loss: 2.396840, Val score: -2.396840\n",
      "Epoch: 213 => Train loss: 0.003405, Train score: -0.003405, Val loss: 2.393616, Val score: -2.393616\n",
      "Epoch: 214 => Train loss: 0.003584, Train score: -0.003584, Val loss: 2.397183, Val score: -2.397183\n",
      "Epoch: 215 => Train loss: 0.004126, Train score: -0.004126, Val loss: 2.388841, Val score: -2.388841\n",
      "Epoch: 216 => Train loss: 0.004984, Train score: -0.004984, Val loss: 2.406428, Val score: -2.406428\n",
      "Epoch: 217 => Train loss: 0.015106, Train score: -0.015106, Val loss: 2.402230, Val score: -2.402230\n",
      "Epoch: 218 => Train loss: 0.026808, Train score: -0.026808, Val loss: 2.420363, Val score: -2.420363\n",
      "Epoch: 219 => Train loss: 0.023150, Train score: -0.023150, Val loss: 2.394442, Val score: -2.394442\n",
      "Epoch: 220 => Train loss: 0.022002, Train score: -0.022002, Val loss: 2.389069, Val score: -2.389069\n",
      "Epoch: 221 => Train loss: 0.017014, Train score: -0.017014, Val loss: 2.397263, Val score: -2.397263\n",
      "Epoch: 222 => Train loss: 0.016040, Train score: -0.016040, Val loss: 2.405051, Val score: -2.405051\n",
      "Epoch: 223 => Train loss: 0.015876, Train score: -0.015876, Val loss: 2.366871, Val score: -2.366871\n",
      "Epoch: 224 => Train loss: 0.016884, Train score: -0.016884, Val loss: 2.340634, Val score: -2.340634\n",
      "Epoch: 225 => Train loss: 0.015500, Train score: -0.015500, Val loss: 2.396227, Val score: -2.396227\n",
      "Epoch: 226 => Train loss: 0.040841, Train score: -0.040841, Val loss: 2.455241, Val score: -2.455241\n",
      "Epoch: 227 => Train loss: 0.046442, Train score: -0.046442, Val loss: 2.453825, Val score: -2.453825\n",
      "Epoch: 228 => Train loss: 0.043675, Train score: -0.043675, Val loss: 2.392839, Val score: -2.392839\n",
      "Epoch: 229 => Train loss: 0.035117, Train score: -0.035117, Val loss: 2.392899, Val score: -2.392899\n",
      "Epoch: 230 => Train loss: 0.045275, Train score: -0.045275, Val loss: 2.362202, Val score: -2.362202\n",
      "Epoch: 231 => Train loss: 0.044571, Train score: -0.044571, Val loss: 2.361132, Val score: -2.361132\n",
      "Epoch: 232 => Train loss: 0.040673, Train score: -0.040673, Val loss: 2.446295, Val score: -2.446295\n",
      "Epoch: 233 => Train loss: 0.032954, Train score: -0.032954, Val loss: 2.380395, Val score: -2.380395\n",
      "Epoch: 234 => Train loss: 0.026035, Train score: -0.026035, Val loss: 2.401031, Val score: -2.401031\n",
      "Epoch: 235 => Train loss: 0.016504, Train score: -0.016504, Val loss: 2.347664, Val score: -2.347664\n",
      "Epoch: 236 => Train loss: 0.017193, Train score: -0.017193, Val loss: 2.374006, Val score: -2.374006\n",
      "Epoch: 237 => Train loss: 0.014438, Train score: -0.014438, Val loss: 2.404274, Val score: -2.404274\n",
      "Epoch: 238 => Train loss: 0.021825, Train score: -0.021825, Val loss: 2.342521, Val score: -2.342521\n",
      "Epoch: 239 => Train loss: 0.015825, Train score: -0.015825, Val loss: 2.347611, Val score: -2.347611\n",
      "Epoch: 240 => Train loss: 0.010846, Train score: -0.010846, Val loss: 2.359211, Val score: -2.359211\n",
      "Epoch: 241 => Train loss: 0.010800, Train score: -0.010800, Val loss: 2.374028, Val score: -2.374028\n",
      "Epoch: 242 => Train loss: 0.007088, Train score: -0.007088, Val loss: 2.333261, Val score: -2.333261\n",
      "Epoch: 243 => Train loss: 0.004883, Train score: -0.004883, Val loss: 2.392386, Val score: -2.392386\n",
      "Epoch: 244 => Train loss: 0.008781, Train score: -0.008781, Val loss: 2.352484, Val score: -2.352484\n",
      "Epoch: 245 => Train loss: 0.006014, Train score: -0.006014, Val loss: 2.332211, Val score: -2.332211\n",
      "Epoch: 246 => Train loss: 0.005108, Train score: -0.005108, Val loss: 2.346784, Val score: -2.346784\n",
      "Epoch: 247 => Train loss: 0.008515, Train score: -0.008515, Val loss: 2.355312, Val score: -2.355312\n",
      "Epoch: 248 => Train loss: 0.008533, Train score: -0.008533, Val loss: 2.356813, Val score: -2.356813\n",
      "Epoch: 249 => Train loss: 0.012220, Train score: -0.012220, Val loss: 2.342536, Val score: -2.342536\n",
      "Epoch: 250 => Train loss: 0.010800, Train score: -0.010800, Val loss: 2.360979, Val score: -2.360979\n",
      "Epoch: 251 => Train loss: 0.010676, Train score: -0.010676, Val loss: 2.355824, Val score: -2.355824\n",
      "Epoch: 252 => Train loss: 0.011021, Train score: -0.011021, Val loss: 2.353535, Val score: -2.353535\n",
      "Epoch: 253 => Train loss: 0.012411, Train score: -0.012411, Val loss: 2.349005, Val score: -2.349005\n",
      "Epoch: 254 => Train loss: 0.010504, Train score: -0.010504, Val loss: 2.368041, Val score: -2.368041\n",
      "Epoch: 255 => Train loss: 0.008497, Train score: -0.008497, Val loss: 2.352549, Val score: -2.352549\n",
      "Epoch: 256 => Train loss: 0.012379, Train score: -0.012379, Val loss: 2.367961, Val score: -2.367961\n",
      "Epoch: 257 => Train loss: 0.012292, Train score: -0.012292, Val loss: 2.365822, Val score: -2.365822\n",
      "Epoch: 258 => Train loss: 0.017954, Train score: -0.017954, Val loss: 2.390405, Val score: -2.390405\n",
      "Epoch: 259 => Train loss: 0.013861, Train score: -0.013861, Val loss: 2.355682, Val score: -2.355682\n",
      "Epoch: 260 => Train loss: 0.011766, Train score: -0.011766, Val loss: 2.372980, Val score: -2.372980\n",
      "Epoch: 261 => Train loss: 0.011961, Train score: -0.011961, Val loss: 2.337147, Val score: -2.337147\n",
      "Epoch: 262 => Train loss: 0.010279, Train score: -0.010279, Val loss: 2.356886, Val score: -2.356886\n",
      "Epoch: 263 => Train loss: 0.011823, Train score: -0.011823, Val loss: 2.378353, Val score: -2.378353\n",
      "Epoch: 264 => Train loss: 0.015790, Train score: -0.015790, Val loss: 2.380274, Val score: -2.380274\n",
      "Epoch: 265 => Train loss: 0.047862, Train score: -0.047862, Val loss: 2.401180, Val score: -2.401180\n",
      "Epoch: 266 => Train loss: 0.060474, Train score: -0.060474, Val loss: 2.432522, Val score: -2.432522\n",
      "Epoch: 267 => Train loss: 0.059859, Train score: -0.059859, Val loss: 2.303864, Val score: -2.303864\n",
      "Epoch: 268 => Train loss: 0.057915, Train score: -0.057915, Val loss: 2.363584, Val score: -2.363584\n",
      "Epoch: 269 => Train loss: 0.108499, Train score: -0.108499, Val loss: 2.437633, Val score: -2.437633\n",
      "Epoch: 270 => Train loss: 0.118791, Train score: -0.118791, Val loss: 2.548438, Val score: -2.548438\n",
      "Epoch: 271 => Train loss: 0.080039, Train score: -0.080039, Val loss: 2.364471, Val score: -2.364471\n",
      "Epoch: 272 => Train loss: 0.039759, Train score: -0.039759, Val loss: 2.429188, Val score: -2.429188\n",
      "Epoch: 273 => Train loss: 0.024281, Train score: -0.024281, Val loss: 2.284391, Val score: -2.284391\n",
      "Epoch: 274 => Train loss: 0.030164, Train score: -0.030164, Val loss: 2.335411, Val score: -2.335411\n",
      "Epoch: 275 => Train loss: 0.020185, Train score: -0.020185, Val loss: 2.329395, Val score: -2.329395\n",
      "Epoch: 276 => Train loss: 0.010995, Train score: -0.010995, Val loss: 2.294963, Val score: -2.294963\n",
      "Epoch: 277 => Train loss: 0.006231, Train score: -0.006231, Val loss: 2.315513, Val score: -2.315513\n",
      "Epoch: 278 => Train loss: 0.005842, Train score: -0.005842, Val loss: 2.312165, Val score: -2.312165\n",
      "Epoch: 279 => Train loss: 0.003272, Train score: -0.003272, Val loss: 2.308085, Val score: -2.308085\n",
      "Epoch: 280 => Train loss: 0.002194, Train score: -0.002194, Val loss: 2.299585, Val score: -2.299585\n",
      "Epoch: 281 => Train loss: 0.001931, Train score: -0.001931, Val loss: 2.299071, Val score: -2.299071\n",
      "Epoch: 282 => Train loss: 0.001996, Train score: -0.001996, Val loss: 2.307455, Val score: -2.307455\n",
      "Epoch: 283 => Train loss: 0.001547, Train score: -0.001547, Val loss: 2.313750, Val score: -2.313750\n",
      "Epoch: 284 => Train loss: 0.001068, Train score: -0.001068, Val loss: 2.302813, Val score: -2.302813\n",
      "Epoch: 285 => Train loss: 0.000911, Train score: -0.000911, Val loss: 2.301993, Val score: -2.301993\n",
      "Epoch: 286 => Train loss: 0.000802, Train score: -0.000802, Val loss: 2.305267, Val score: -2.305267\n",
      "Epoch: 287 => Train loss: 0.000636, Train score: -0.000636, Val loss: 2.306489, Val score: -2.306489\n",
      "Epoch: 288 => Train loss: 0.000547, Train score: -0.000547, Val loss: 2.308286, Val score: -2.308286\n",
      "Epoch: 289 => Train loss: 0.000383, Train score: -0.000383, Val loss: 2.308304, Val score: -2.308304\n",
      "Epoch: 290 => Train loss: 0.000681, Train score: -0.000681, Val loss: 2.309865, Val score: -2.309865\n",
      "Epoch: 291 => Train loss: 0.000794, Train score: -0.000794, Val loss: 2.307830, Val score: -2.307830\n",
      "Epoch: 292 => Train loss: 0.001059, Train score: -0.001059, Val loss: 2.313386, Val score: -2.313386\n",
      "Epoch: 293 => Train loss: 0.001132, Train score: -0.001132, Val loss: 2.310022, Val score: -2.310022\n",
      "Epoch: 294 => Train loss: 0.000752, Train score: -0.000752, Val loss: 2.312237, Val score: -2.312237\n",
      "Epoch: 295 => Train loss: 0.000767, Train score: -0.000767, Val loss: 2.316532, Val score: -2.316532\n",
      "Epoch: 296 => Train loss: 0.001046, Train score: -0.001046, Val loss: 2.318187, Val score: -2.318187\n",
      "Epoch: 297 => Train loss: 0.001318, Train score: -0.001318, Val loss: 2.306194, Val score: -2.306194\n",
      "Epoch: 298 => Train loss: 0.002293, Train score: -0.002293, Val loss: 2.315186, Val score: -2.315186\n",
      "Epoch: 299 => Train loss: 0.002466, Train score: -0.002466, Val loss: 2.303041, Val score: -2.303041\n",
      "Epoch: 300 => Train loss: 0.002988, Train score: -0.002988, Val loss: 2.318940, Val score: -2.318940\n",
      "Epoch: 301 => Train loss: 0.003588, Train score: -0.003588, Val loss: 2.307369, Val score: -2.307369\n",
      "Epoch: 302 => Train loss: 0.007214, Train score: -0.007214, Val loss: 2.293598, Val score: -2.293598\n",
      "Epoch: 303 => Train loss: 0.017214, Train score: -0.017214, Val loss: 2.348758, Val score: -2.348758\n",
      "Epoch: 304 => Train loss: 0.034903, Train score: -0.034903, Val loss: 2.369418, Val score: -2.369418\n",
      "Epoch: 305 => Train loss: 0.031267, Train score: -0.031267, Val loss: 2.309831, Val score: -2.309831\n",
      "Epoch: 306 => Train loss: 0.026525, Train score: -0.026525, Val loss: 2.301717, Val score: -2.301717\n",
      "Epoch: 307 => Train loss: 0.030462, Train score: -0.030462, Val loss: 2.353372, Val score: -2.353372\n",
      "Epoch: 308 => Train loss: 0.029704, Train score: -0.029704, Val loss: 2.291999, Val score: -2.291999\n",
      "Epoch: 309 => Train loss: 0.030043, Train score: -0.030043, Val loss: 2.299958, Val score: -2.299958\n",
      "Epoch: 310 => Train loss: 0.023955, Train score: -0.023955, Val loss: 2.327612, Val score: -2.327612\n",
      "Epoch: 311 => Train loss: 0.017048, Train score: -0.017048, Val loss: 2.269670, Val score: -2.269670\n",
      "Epoch: 312 => Train loss: 0.011908, Train score: -0.011908, Val loss: 2.273399, Val score: -2.273399\n",
      "Epoch: 313 => Train loss: 0.008188, Train score: -0.008188, Val loss: 2.304217, Val score: -2.304217\n",
      "Epoch: 314 => Train loss: 0.005888, Train score: -0.005888, Val loss: 2.276500, Val score: -2.276500\n",
      "Epoch: 315 => Train loss: 0.005158, Train score: -0.005158, Val loss: 2.301028, Val score: -2.301028\n",
      "Epoch: 316 => Train loss: 0.004565, Train score: -0.004565, Val loss: 2.280887, Val score: -2.280887\n",
      "Epoch: 317 => Train loss: 0.005528, Train score: -0.005528, Val loss: 2.288576, Val score: -2.288576\n",
      "Epoch: 318 => Train loss: 0.007785, Train score: -0.007785, Val loss: 2.275114, Val score: -2.275114\n",
      "Epoch: 319 => Train loss: 0.005455, Train score: -0.005455, Val loss: 2.280711, Val score: -2.280711\n",
      "Epoch: 320 => Train loss: 0.007738, Train score: -0.007738, Val loss: 2.292636, Val score: -2.292636\n",
      "Epoch: 321 => Train loss: 0.006820, Train score: -0.006820, Val loss: 2.288291, Val score: -2.288291\n",
      "Epoch: 322 => Train loss: 0.005682, Train score: -0.005682, Val loss: 2.280172, Val score: -2.280172\n",
      "Epoch: 323 => Train loss: 0.012800, Train score: -0.012800, Val loss: 2.287433, Val score: -2.287433\n",
      "Epoch: 324 => Train loss: 0.010739, Train score: -0.010739, Val loss: 2.288671, Val score: -2.288671\n",
      "Epoch: 325 => Train loss: 0.009011, Train score: -0.009011, Val loss: 2.302120, Val score: -2.302120\n",
      "Epoch: 326 => Train loss: 0.009171, Train score: -0.009171, Val loss: 2.299048, Val score: -2.299048\n",
      "Epoch: 327 => Train loss: 0.012171, Train score: -0.012171, Val loss: 2.279445, Val score: -2.279445\n",
      "Epoch: 328 => Train loss: 0.012627, Train score: -0.012627, Val loss: 2.308214, Val score: -2.308214\n",
      "Epoch: 329 => Train loss: 0.012610, Train score: -0.012610, Val loss: 2.287323, Val score: -2.287323\n",
      "Epoch: 330 => Train loss: 0.019183, Train score: -0.019183, Val loss: 2.310717, Val score: -2.310717\n",
      "Epoch: 331 => Train loss: 0.024520, Train score: -0.024520, Val loss: 2.300878, Val score: -2.300878\n",
      "Epoch: 332 => Train loss: 0.020023, Train score: -0.020023, Val loss: 2.330438, Val score: -2.330438\n",
      "Epoch: 333 => Train loss: 0.024207, Train score: -0.024207, Val loss: 2.292684, Val score: -2.292684\n",
      "Epoch: 334 => Train loss: 0.021037, Train score: -0.021037, Val loss: 2.295630, Val score: -2.295630\n",
      "Epoch: 335 => Train loss: 0.022540, Train score: -0.022540, Val loss: 2.288593, Val score: -2.288593\n",
      "Epoch: 336 => Train loss: 0.022869, Train score: -0.022869, Val loss: 2.259382, Val score: -2.259382\n",
      "Epoch: 337 => Train loss: 0.020907, Train score: -0.020907, Val loss: 2.307096, Val score: -2.307096\n",
      "Epoch: 338 => Train loss: 0.015304, Train score: -0.015304, Val loss: 2.301760, Val score: -2.301760\n",
      "Epoch: 339 => Train loss: 0.012632, Train score: -0.012632, Val loss: 2.282012, Val score: -2.282012\n",
      "Epoch: 340 => Train loss: 0.017146, Train score: -0.017146, Val loss: 2.313165, Val score: -2.313165\n",
      "Epoch: 341 => Train loss: 0.014384, Train score: -0.014384, Val loss: 2.288384, Val score: -2.288384\n",
      "Epoch: 342 => Train loss: 0.013645, Train score: -0.013645, Val loss: 2.309517, Val score: -2.309517\n",
      "Epoch: 343 => Train loss: 0.009046, Train score: -0.009046, Val loss: 2.270736, Val score: -2.270736\n",
      "Epoch: 344 => Train loss: 0.007441, Train score: -0.007441, Val loss: 2.278625, Val score: -2.278625\n",
      "Epoch: 345 => Train loss: 0.009450, Train score: -0.009450, Val loss: 2.286497, Val score: -2.286497\n",
      "Epoch: 346 => Train loss: 0.013396, Train score: -0.013396, Val loss: 2.247443, Val score: -2.247443\n",
      "Epoch: 347 => Train loss: 0.009790, Train score: -0.009790, Val loss: 2.279575, Val score: -2.279575\n",
      "Epoch: 348 => Train loss: 0.006052, Train score: -0.006052, Val loss: 2.265380, Val score: -2.265380\n",
      "Epoch: 349 => Train loss: 0.009651, Train score: -0.009651, Val loss: 2.263237, Val score: -2.263237\n",
      "Epoch: 350 => Train loss: 0.010243, Train score: -0.010243, Val loss: 2.278530, Val score: -2.278530\n",
      "Epoch: 351 => Train loss: 0.010532, Train score: -0.010532, Val loss: 2.335133, Val score: -2.335133\n",
      "Epoch: 352 => Train loss: 0.009228, Train score: -0.009228, Val loss: 2.289284, Val score: -2.289284\n",
      "Epoch: 353 => Train loss: 0.006778, Train score: -0.006778, Val loss: 2.277850, Val score: -2.277850\n",
      "Epoch: 354 => Train loss: 0.007647, Train score: -0.007647, Val loss: 2.259657, Val score: -2.259657\n",
      "Epoch: 355 => Train loss: 0.006268, Train score: -0.006268, Val loss: 2.270309, Val score: -2.270309\n",
      "Epoch: 356 => Train loss: 0.009076, Train score: -0.009076, Val loss: 2.274954, Val score: -2.274954\n",
      "Epoch: 357 => Train loss: 0.008293, Train score: -0.008293, Val loss: 2.236941, Val score: -2.236941\n",
      "Epoch: 358 => Train loss: 0.007012, Train score: -0.007012, Val loss: 2.283035, Val score: -2.283035\n",
      "Epoch: 359 => Train loss: 0.005725, Train score: -0.005725, Val loss: 2.256839, Val score: -2.256839\n",
      "Epoch: 360 => Train loss: 0.007044, Train score: -0.007044, Val loss: 2.278872, Val score: -2.278872\n",
      "Epoch: 361 => Train loss: 0.006886, Train score: -0.006886, Val loss: 2.257122, Val score: -2.257122\n",
      "Epoch: 362 => Train loss: 0.005323, Train score: -0.005323, Val loss: 2.269680, Val score: -2.269680\n",
      "Epoch: 363 => Train loss: 0.003725, Train score: -0.003725, Val loss: 2.264846, Val score: -2.264846\n",
      "Epoch: 364 => Train loss: 0.009563, Train score: -0.009563, Val loss: 2.278728, Val score: -2.278728\n",
      "Epoch: 365 => Train loss: 0.018552, Train score: -0.018552, Val loss: 2.272878, Val score: -2.272878\n",
      "Epoch: 366 => Train loss: 0.023072, Train score: -0.023072, Val loss: 2.304488, Val score: -2.304488\n",
      "Epoch: 367 => Train loss: 0.036672, Train score: -0.036672, Val loss: 2.281911, Val score: -2.281911\n",
      "Epoch: 368 => Train loss: 0.035515, Train score: -0.035515, Val loss: 2.260997, Val score: -2.260997\n",
      "Epoch: 369 => Train loss: 0.026622, Train score: -0.026622, Val loss: 2.303336, Val score: -2.303336\n",
      "Epoch: 370 => Train loss: 0.024808, Train score: -0.024808, Val loss: 2.249210, Val score: -2.249210\n",
      "Epoch: 371 => Train loss: 0.016468, Train score: -0.016468, Val loss: 2.301295, Val score: -2.301295\n",
      "Epoch: 372 => Train loss: 0.020042, Train score: -0.020042, Val loss: 2.228941, Val score: -2.228941\n",
      "Epoch: 373 => Train loss: 0.014371, Train score: -0.014371, Val loss: 2.266484, Val score: -2.266484\n",
      "Epoch: 374 => Train loss: 0.009853, Train score: -0.009853, Val loss: 2.249051, Val score: -2.249051\n",
      "Epoch: 375 => Train loss: 0.008730, Train score: -0.008730, Val loss: 2.274393, Val score: -2.274393\n",
      "Epoch: 376 => Train loss: 0.008001, Train score: -0.008001, Val loss: 2.309062, Val score: -2.309062\n",
      "Epoch: 377 => Train loss: 0.011411, Train score: -0.011411, Val loss: 2.235466, Val score: -2.235466\n",
      "Epoch: 378 => Train loss: 0.009689, Train score: -0.009689, Val loss: 2.276348, Val score: -2.276348\n",
      "Epoch: 379 => Train loss: 0.007219, Train score: -0.007219, Val loss: 2.236395, Val score: -2.236395\n",
      "Epoch: 380 => Train loss: 0.004619, Train score: -0.004619, Val loss: 2.243420, Val score: -2.243420\n",
      "Epoch: 381 => Train loss: 0.004789, Train score: -0.004789, Val loss: 2.255128, Val score: -2.255128\n",
      "Epoch: 382 => Train loss: 0.004049, Train score: -0.004049, Val loss: 2.247418, Val score: -2.247418\n",
      "Epoch: 383 => Train loss: 0.006236, Train score: -0.006236, Val loss: 2.249300, Val score: -2.249300\n",
      "Epoch: 384 => Train loss: 0.005252, Train score: -0.005252, Val loss: 2.256455, Val score: -2.256455\n",
      "Epoch: 385 => Train loss: 0.003908, Train score: -0.003908, Val loss: 2.247300, Val score: -2.247300\n",
      "Epoch: 386 => Train loss: 0.004744, Train score: -0.004744, Val loss: 2.250406, Val score: -2.250406\n",
      "Epoch: 387 => Train loss: 0.005970, Train score: -0.005970, Val loss: 2.268697, Val score: -2.268697\n",
      "Epoch: 388 => Train loss: 0.005777, Train score: -0.005777, Val loss: 2.257001, Val score: -2.257001\n",
      "Epoch: 389 => Train loss: 0.007028, Train score: -0.007028, Val loss: 2.239993, Val score: -2.239993\n",
      "Epoch: 390 => Train loss: 0.008142, Train score: -0.008142, Val loss: 2.263670, Val score: -2.263670\n",
      "Epoch: 391 => Train loss: 0.019446, Train score: -0.019446, Val loss: 2.263207, Val score: -2.263207\n",
      "Epoch: 392 => Train loss: 0.043667, Train score: -0.043667, Val loss: 2.292624, Val score: -2.292624\n",
      "Epoch: 393 => Train loss: 0.058585, Train score: -0.058585, Val loss: 2.281406, Val score: -2.281406\n",
      "Epoch: 394 => Train loss: 0.104488, Train score: -0.104488, Val loss: 2.275286, Val score: -2.275286\n",
      "Epoch: 395 => Train loss: 0.053249, Train score: -0.053249, Val loss: 2.264348, Val score: -2.264348\n",
      "Epoch: 396 => Train loss: 0.034895, Train score: -0.034895, Val loss: 2.273049, Val score: -2.273049\n",
      "Epoch: 397 => Train loss: 0.022015, Train score: -0.022015, Val loss: 2.245576, Val score: -2.245576\n",
      "Epoch: 398 => Train loss: 0.016647, Train score: -0.016647, Val loss: 2.246547, Val score: -2.246547\n",
      "Epoch: 399 => Train loss: 0.010682, Train score: -0.010682, Val loss: 2.229353, Val score: -2.229353\n",
      "Epoch: 400 => Train loss: 0.006340, Train score: -0.006340, Val loss: 2.221441, Val score: -2.221441\n",
      "Epoch: 401 => Train loss: 0.003915, Train score: -0.003915, Val loss: 2.236923, Val score: -2.236923\n",
      "Epoch: 402 => Train loss: 0.002954, Train score: -0.002954, Val loss: 2.228014, Val score: -2.228014\n",
      "Epoch: 403 => Train loss: 0.002265, Train score: -0.002265, Val loss: 2.226557, Val score: -2.226557\n",
      "Epoch: 404 => Train loss: 0.001766, Train score: -0.001766, Val loss: 2.231584, Val score: -2.231584\n",
      "Epoch: 405 => Train loss: 0.001313, Train score: -0.001313, Val loss: 2.228321, Val score: -2.228321\n",
      "Epoch: 406 => Train loss: 0.000964, Train score: -0.000964, Val loss: 2.238796, Val score: -2.238796\n",
      "Epoch: 407 => Train loss: 0.001556, Train score: -0.001556, Val loss: 2.246672, Val score: -2.246672\n",
      "Epoch: 408 => Train loss: 0.002070, Train score: -0.002070, Val loss: 2.242463, Val score: -2.242463\n",
      "Epoch: 409 => Train loss: 0.001982, Train score: -0.001982, Val loss: 2.234872, Val score: -2.234872\n",
      "Epoch: 410 => Train loss: 0.001154, Train score: -0.001154, Val loss: 2.237676, Val score: -2.237676\n",
      "Epoch: 411 => Train loss: 0.001575, Train score: -0.001575, Val loss: 2.223012, Val score: -2.223012\n",
      "Epoch: 412 => Train loss: 0.001700, Train score: -0.001700, Val loss: 2.242700, Val score: -2.242700\n",
      "Epoch: 413 => Train loss: 0.001364, Train score: -0.001364, Val loss: 2.247552, Val score: -2.247552\n",
      "Epoch: 414 => Train loss: 0.001001, Train score: -0.001001, Val loss: 2.229232, Val score: -2.229232\n",
      "Epoch: 415 => Train loss: 0.000944, Train score: -0.000944, Val loss: 2.239250, Val score: -2.239250\n",
      "Epoch: 416 => Train loss: 0.000973, Train score: -0.000973, Val loss: 2.238742, Val score: -2.238742\n",
      "Epoch: 417 => Train loss: 0.000961, Train score: -0.000961, Val loss: 2.229855, Val score: -2.229855\n",
      "Epoch: 418 => Train loss: 0.000895, Train score: -0.000895, Val loss: 2.236657, Val score: -2.236657\n",
      "Epoch: 419 => Train loss: 0.001676, Train score: -0.001676, Val loss: 2.239494, Val score: -2.239494\n",
      "Epoch: 420 => Train loss: 0.001839, Train score: -0.001839, Val loss: 2.243098, Val score: -2.243098\n",
      "Epoch: 421 => Train loss: 0.002275, Train score: -0.002275, Val loss: 2.243871, Val score: -2.243871\n",
      "Epoch: 422 => Train loss: 0.002175, Train score: -0.002175, Val loss: 2.232739, Val score: -2.232739\n",
      "Epoch: 423 => Train loss: 0.004080, Train score: -0.004080, Val loss: 2.234021, Val score: -2.234021\n",
      "Epoch: 424 => Train loss: 0.007419, Train score: -0.007419, Val loss: 2.243328, Val score: -2.243328\n",
      "Epoch: 425 => Train loss: 0.008134, Train score: -0.008134, Val loss: 2.254989, Val score: -2.254989\n",
      "Epoch: 426 => Train loss: 0.009223, Train score: -0.009223, Val loss: 2.254839, Val score: -2.254839\n",
      "Epoch: 427 => Train loss: 0.009643, Train score: -0.009643, Val loss: 2.255756, Val score: -2.255756\n",
      "Epoch: 428 => Train loss: 0.013888, Train score: -0.013888, Val loss: 2.249127, Val score: -2.249127\n",
      "Epoch: 429 => Train loss: 0.039358, Train score: -0.039358, Val loss: 2.256286, Val score: -2.256286\n",
      "Epoch: 430 => Train loss: 0.035425, Train score: -0.035425, Val loss: 2.209965, Val score: -2.209965\n",
      "Epoch: 431 => Train loss: 0.040513, Train score: -0.040513, Val loss: 2.234498, Val score: -2.234498\n",
      "Epoch: 432 => Train loss: 0.032739, Train score: -0.032739, Val loss: 2.274533, Val score: -2.274533\n",
      "Epoch: 433 => Train loss: 0.030915, Train score: -0.030915, Val loss: 2.210908, Val score: -2.210908\n",
      "Epoch: 434 => Train loss: 0.029972, Train score: -0.029972, Val loss: 2.240550, Val score: -2.240550\n",
      "Epoch: 435 => Train loss: 0.023476, Train score: -0.023476, Val loss: 2.227059, Val score: -2.227059\n",
      "Epoch: 436 => Train loss: 0.015223, Train score: -0.015223, Val loss: 2.233827, Val score: -2.233827\n",
      "Epoch: 437 => Train loss: 0.011256, Train score: -0.011256, Val loss: 2.225501, Val score: -2.225501\n",
      "Epoch: 438 => Train loss: 0.006142, Train score: -0.006142, Val loss: 2.234392, Val score: -2.234392\n",
      "Epoch: 439 => Train loss: 0.003395, Train score: -0.003395, Val loss: 2.211306, Val score: -2.211306\n",
      "Epoch: 440 => Train loss: 0.004549, Train score: -0.004549, Val loss: 2.217714, Val score: -2.217714\n",
      "Epoch: 441 => Train loss: 0.002868, Train score: -0.002868, Val loss: 2.214300, Val score: -2.214300\n",
      "Epoch: 442 => Train loss: 0.001797, Train score: -0.001797, Val loss: 2.217890, Val score: -2.217890\n",
      "Epoch: 443 => Train loss: 0.001823, Train score: -0.001823, Val loss: 2.222807, Val score: -2.222807\n",
      "Epoch: 444 => Train loss: 0.001325, Train score: -0.001325, Val loss: 2.220919, Val score: -2.220919\n",
      "Epoch: 445 => Train loss: 0.000956, Train score: -0.000956, Val loss: 2.217350, Val score: -2.217350\n",
      "Epoch: 446 => Train loss: 0.001081, Train score: -0.001081, Val loss: 2.229291, Val score: -2.229291\n",
      "Epoch: 447 => Train loss: 0.001723, Train score: -0.001723, Val loss: 2.211128, Val score: -2.211128\n",
      "Epoch: 448 => Train loss: 0.002593, Train score: -0.002593, Val loss: 2.218110, Val score: -2.218110\n",
      "Epoch: 449 => Train loss: 0.002438, Train score: -0.002438, Val loss: 2.216753, Val score: -2.216753\n",
      "Epoch: 450 => Train loss: 0.003159, Train score: -0.003159, Val loss: 2.215462, Val score: -2.215462\n",
      "Epoch: 451 => Train loss: 0.002469, Train score: -0.002469, Val loss: 2.236592, Val score: -2.236592\n",
      "Epoch: 452 => Train loss: 0.001993, Train score: -0.001993, Val loss: 2.215068, Val score: -2.215068\n",
      "Epoch: 453 => Train loss: 0.002191, Train score: -0.002191, Val loss: 2.208001, Val score: -2.208001\n",
      "Epoch: 454 => Train loss: 0.002228, Train score: -0.002228, Val loss: 2.201342, Val score: -2.201342\n",
      "Epoch: 455 => Train loss: 0.002388, Train score: -0.002388, Val loss: 2.212156, Val score: -2.212156\n",
      "Epoch: 456 => Train loss: 0.005216, Train score: -0.005216, Val loss: 2.220095, Val score: -2.220095\n",
      "Epoch: 457 => Train loss: 0.006587, Train score: -0.006587, Val loss: 2.232326, Val score: -2.232326\n",
      "Epoch: 458 => Train loss: 0.007367, Train score: -0.007367, Val loss: 2.197979, Val score: -2.197979\n",
      "Epoch: 459 => Train loss: 0.006609, Train score: -0.006609, Val loss: 2.210668, Val score: -2.210668\n",
      "Epoch: 460 => Train loss: 0.013466, Train score: -0.013466, Val loss: 2.219790, Val score: -2.219790\n",
      "Epoch: 461 => Train loss: 0.013943, Train score: -0.013943, Val loss: 2.175604, Val score: -2.175604\n",
      "Epoch: 462 => Train loss: 0.014013, Train score: -0.014013, Val loss: 2.223028, Val score: -2.223028\n",
      "Epoch: 463 => Train loss: 0.025562, Train score: -0.025562, Val loss: 2.217721, Val score: -2.217721\n",
      "Epoch: 464 => Train loss: 0.024120, Train score: -0.024120, Val loss: 2.251493, Val score: -2.251493\n",
      "Epoch: 465 => Train loss: 0.027961, Train score: -0.027961, Val loss: 2.252135, Val score: -2.252135\n",
      "Epoch: 466 => Train loss: 0.037612, Train score: -0.037612, Val loss: 2.215632, Val score: -2.215632\n",
      "Epoch: 467 => Train loss: 0.060307, Train score: -0.060307, Val loss: 2.230473, Val score: -2.230473\n",
      "Epoch: 468 => Train loss: 0.040132, Train score: -0.040132, Val loss: 2.219222, Val score: -2.219222\n",
      "Epoch: 469 => Train loss: 0.043866, Train score: -0.043866, Val loss: 2.285705, Val score: -2.285705\n",
      "Epoch: 470 => Train loss: 0.028883, Train score: -0.028883, Val loss: 2.208500, Val score: -2.208500\n",
      "Epoch: 471 => Train loss: 0.016100, Train score: -0.016100, Val loss: 2.223203, Val score: -2.223203\n",
      "Epoch: 472 => Train loss: 0.009414, Train score: -0.009414, Val loss: 2.187054, Val score: -2.187054\n",
      "Epoch: 473 => Train loss: 0.008317, Train score: -0.008317, Val loss: 2.195720, Val score: -2.195720\n",
      "Epoch: 474 => Train loss: 0.007570, Train score: -0.007570, Val loss: 2.204351, Val score: -2.204351\n",
      "Epoch: 475 => Train loss: 0.005316, Train score: -0.005316, Val loss: 2.223594, Val score: -2.223594\n",
      "Epoch: 476 => Train loss: 0.006266, Train score: -0.006266, Val loss: 2.207122, Val score: -2.207122\n",
      "Epoch: 477 => Train loss: 0.008814, Train score: -0.008814, Val loss: 2.202591, Val score: -2.202591\n",
      "Epoch: 478 => Train loss: 0.008274, Train score: -0.008274, Val loss: 2.199484, Val score: -2.199484\n",
      "Epoch: 479 => Train loss: 0.003957, Train score: -0.003957, Val loss: 2.202507, Val score: -2.202507\n",
      "Epoch: 480 => Train loss: 0.002309, Train score: -0.002309, Val loss: 2.199958, Val score: -2.199958\n",
      "Epoch: 481 => Train loss: 0.001485, Train score: -0.001485, Val loss: 2.186886, Val score: -2.186886\n",
      "Epoch: 482 => Train loss: 0.001720, Train score: -0.001720, Val loss: 2.191980, Val score: -2.191980\n",
      "Epoch: 483 => Train loss: 0.001237, Train score: -0.001237, Val loss: 2.208636, Val score: -2.208636\n",
      "Epoch: 484 => Train loss: 0.001342, Train score: -0.001342, Val loss: 2.186613, Val score: -2.186613\n",
      "Epoch: 485 => Train loss: 0.001012, Train score: -0.001012, Val loss: 2.200768, Val score: -2.200768\n",
      "Epoch: 486 => Train loss: 0.000787, Train score: -0.000787, Val loss: 2.194034, Val score: -2.194034\n",
      "Epoch: 487 => Train loss: 0.000739, Train score: -0.000739, Val loss: 2.200593, Val score: -2.200593\n",
      "Epoch: 488 => Train loss: 0.001046, Train score: -0.001046, Val loss: 2.204850, Val score: -2.204850\n",
      "Epoch: 489 => Train loss: 0.001679, Train score: -0.001679, Val loss: 2.204139, Val score: -2.204139\n",
      "Epoch: 490 => Train loss: 0.002830, Train score: -0.002830, Val loss: 2.189436, Val score: -2.189436\n",
      "Epoch: 491 => Train loss: 0.002414, Train score: -0.002414, Val loss: 2.191727, Val score: -2.191727\n",
      "Epoch: 492 => Train loss: 0.002258, Train score: -0.002258, Val loss: 2.191219, Val score: -2.191219\n",
      "Epoch: 493 => Train loss: 0.002299, Train score: -0.002299, Val loss: 2.204647, Val score: -2.204647\n",
      "Epoch: 494 => Train loss: 0.002913, Train score: -0.002913, Val loss: 2.207537, Val score: -2.207537\n",
      "Epoch: 495 => Train loss: 0.003819, Train score: -0.003819, Val loss: 2.205496, Val score: -2.205496\n",
      "Epoch: 496 => Train loss: 0.004107, Train score: -0.004107, Val loss: 2.200637, Val score: -2.200637\n",
      "Epoch: 497 => Train loss: 0.003457, Train score: -0.003457, Val loss: 2.210775, Val score: -2.210775\n",
      "Epoch: 498 => Train loss: 0.004232, Train score: -0.004232, Val loss: 2.194058, Val score: -2.194058\n",
      "Epoch: 499 => Train loss: 0.004993, Train score: -0.004993, Val loss: 2.193635, Val score: -2.193635\n",
      "Epoch: 500 => Train loss: 0.008120, Train score: -0.008120, Val loss: 2.203701, Val score: -2.203701\n",
      "Training complete.\n"
     ]
    }
   ],
   "source": [
    "from scripts.train import train_model\n",
    "\n",
    "history = train_model(\n",
    "    model=model_nn,\n",
    "    train_dataloader=train_dataloader,\n",
    "    val_dataloader=val_dataloader,\n",
    "    loss_fn=loss_fn,\n",
    "    optimizer=optimizer,\n",
    "    metric=metric,\n",
    "    epochs=500,\n",
    "    device=device\n",
    ")"
   ]
  },
  {
   "cell_type": "code",
   "execution_count": 16,
   "metadata": {},
   "outputs": [
    {
     "data": {
      "image/png": "[encoded data removed]",
      "text/plain": [
       "<Figure size 1200x600 with 2 Axes>"
      ]
     },
     "metadata": {},
     "output_type": "display_data"
    }
   ],
   "source": [
    "from scripts.utils import plot_train_history\n",
    "\n",
    "plot_train_history(history)"
   ]
  },
  {
   "cell_type": "code",
   "execution_count": 17,
   "metadata": {},
   "outputs": [
    {
     "data": {
      "text/plain": [
       "(tensor(-0.0076), tensor(-2.2260))"
      ]
     },
     "execution_count": 17,
     "metadata": {},
     "output_type": "execute_result"
    }
   ],
   "source": [
    "from scripts.test import predict\n",
    "\n",
    "preds_train, preds_val = predict(model_nn, X_train, device), predict(model_nn, X_val, device)\n",
    "score_train, score_val = metric(preds_train, Y_train.unsqueeze(1)), metric(preds_val, Y_val.unsqueeze(1))\n",
    "score_train, score_val"
   ]
  },
  {
   "cell_type": "code",
   "execution_count": 18,
   "metadata": {},
   "outputs": [
    {
     "data": {
      "text/plain": [
       "tensor(-1.6308)"
      ]
     },
     "execution_count": 18,
     "metadata": {},
     "output_type": "execute_result"
    }
   ],
   "source": [
    "preds_nn = predict(model_nn, X_test_subset, device)\n",
    "score_test = metric(preds_nn, Y_test_subset.unsqueeze(1))\n",
    "score_test"
   ]
  },
  {
   "attachments": {},
   "cell_type": "markdown",
   "metadata": {},
   "source": [
    "## SVM with NTK"
   ]
  },
  {
   "cell_type": "code",
   "execution_count": 22,
   "metadata": {},
   "outputs": [],
   "source": [
    "from sklearn.metrics import mean_squared_error"
   ]
  },
  {
   "cell_type": "code",
   "execution_count": 23,
   "metadata": {},
   "outputs": [],
   "source": [
    "from sklearn.svm import SVR"
   ]
  },
  {
   "cell_type": "code",
   "execution_count": 24,
   "metadata": {},
   "outputs": [],
   "source": [
    "from scripts.ntk import NTK"
   ]
  },
  {
   "cell_type": "markdown",
   "metadata": {},
   "source": [
    "### T = 0"
   ]
  },
  {
   "cell_type": "code",
   "execution_count": 25,
   "metadata": {},
   "outputs": [],
   "source": [
    "ntk_init = NTK(SimpleNN().to(device))"
   ]
  },
  {
   "cell_type": "code",
   "execution_count": 26,
   "metadata": {},
   "outputs": [],
   "source": [
    "model_km_init = SVR(kernel=ntk_init.get_ntk)"
   ]
  },
  {
   "cell_type": "code",
   "execution_count": 27,
   "metadata": {},
   "outputs": [
    {
     "data": {
      "text/html": [
       "<style>#sk-container-id-1 {color: black;background-color: white;}#sk-container-id-1 pre{padding: 0;}#sk-container-id-1 div.sk-toggleable {background-color: white;}#sk-container-id-1 label.sk-toggleable__label {cursor: pointer;display: block;width: 100%;margin-bottom: 0;padding: 0.3em;box-sizing: border-box;text-align: center;}#sk-container-id-1 label.sk-toggleable__label-arrow:before {content: \"▸\";float: left;margin-right: 0.25em;color: #696969;}#sk-container-id-1 label.sk-toggleable__label-arrow:hover:before {color: black;}#sk-container-id-1 div.sk-estimator:hover label.sk-toggleable__label-arrow:before {color: black;}#sk-container-id-1 div.sk-toggleable__content {max-height: 0;max-width: 0;overflow: hidden;text-align: left;background-color: #f0f8ff;}#sk-container-id-1 div.sk-toggleable__content pre {margin: 0.2em;color: black;border-radius: 0.25em;background-color: #f0f8ff;}#sk-container-id-1 input.sk-toggleable__control:checked~div.sk-toggleable__content {max-height: 200px;max-width: 100%;overflow: auto;}#sk-container-id-1 input.sk-toggleable__control:checked~label.sk-toggleable__label-arrow:before {content: \"▾\";}#sk-container-id-1 div.sk-estimator input.sk-toggleable__control:checked~label.sk-toggleable__label {background-color: #d4ebff;}#sk-container-id-1 div.sk-label input.sk-toggleable__control:checked~label.sk-toggleable__label {background-color: #d4ebff;}#sk-container-id-1 input.sk-hidden--visually {border: 0;clip: rect(1px 1px 1px 1px);clip: rect(1px, 1px, 1px, 1px);height: 1px;margin: -1px;overflow: hidden;padding: 0;position: absolute;width: 1px;}#sk-container-id-1 div.sk-estimator {font-family: monospace;background-color: #f0f8ff;border: 1px dotted black;border-radius: 0.25em;box-sizing: border-box;margin-bottom: 0.5em;}#sk-container-id-1 div.sk-estimator:hover {background-color: #d4ebff;}#sk-container-id-1 div.sk-parallel-item::after {content: \"\";width: 100%;border-bottom: 1px solid gray;flex-grow: 1;}#sk-container-id-1 div.sk-label:hover label.sk-toggleable__label {background-color: #d4ebff;}#sk-container-id-1 div.sk-serial::before {content: \"\";position: absolute;border-left: 1px solid gray;box-sizing: border-box;top: 0;bottom: 0;left: 50%;z-index: 0;}#sk-container-id-1 div.sk-serial {display: flex;flex-direction: column;align-items: center;background-color: white;padding-right: 0.2em;padding-left: 0.2em;position: relative;}#sk-container-id-1 div.sk-item {position: relative;z-index: 1;}#sk-container-id-1 div.sk-parallel {display: flex;align-items: stretch;justify-content: center;background-color: white;position: relative;}#sk-container-id-1 div.sk-item::before, #sk-container-id-1 div.sk-parallel-item::before {content: \"\";position: absolute;border-left: 1px solid gray;box-sizing: border-box;top: 0;bottom: 0;left: 50%;z-index: -1;}#sk-container-id-1 div.sk-parallel-item {display: flex;flex-direction: column;z-index: 1;position: relative;background-color: white;}#sk-container-id-1 div.sk-parallel-item:first-child::after {align-self: flex-end;width: 50%;}#sk-container-id-1 div.sk-parallel-item:last-child::after {align-self: flex-start;width: 50%;}#sk-container-id-1 div.sk-parallel-item:only-child::after {width: 0;}#sk-container-id-1 div.sk-dashed-wrapped {border: 1px dashed gray;margin: 0 0.4em 0.5em 0.4em;box-sizing: border-box;padding-bottom: 0.4em;background-color: white;}#sk-container-id-1 div.sk-label label {font-family: monospace;font-weight: bold;display: inline-block;line-height: 1.2em;}#sk-container-id-1 div.sk-label-container {text-align: center;}#sk-container-id-1 div.sk-container {/* jupyter's `normalize.less` sets `[hidden] { display: none; }` but bootstrap.min.css set `[hidden] { display: none !important; }` so we also need the `!important` here to be able to override the default hidden behavior on the sphinx rendered scikit-learn.org. See: https://github.com/scikit-learn/scikit-learn/issues/21755 */display: inline-block !important;position: relative;}#sk-container-id-1 div.sk-text-repr-fallback {display: none;}</style><div id=\"sk-container-id-1\" class=\"sk-top-container\"><div class=\"sk-text-repr-fallback\"><pre>SVR(kernel=&lt;bound method NTK.get_ntk of &lt;scripts.ntk.NTK object at 0x7f18f289db40&gt;&gt;)</pre><b>In a Jupyter environment, please rerun this cell to show the HTML representation or trust the notebook. <br />On GitHub, the HTML representation is unable to render, please try loading this page with nbviewer.org.</b></div><div class=\"sk-container\" hidden><div class=\"sk-item\"><div class=\"sk-estimator sk-toggleable\"><input class=\"sk-toggleable__control sk-hidden--visually\" id=\"sk-estimator-id-1\" type=\"checkbox\" checked><label for=\"sk-estimator-id-1\" class=\"sk-toggleable__label sk-toggleable__label-arrow\">SVR</label><div class=\"sk-toggleable__content\"><pre>SVR(kernel=&lt;bound method NTK.get_ntk of &lt;scripts.ntk.NTK object at 0x7f18f289db40&gt;&gt;)</pre></div></div></div></div></div>"
      ],
      "text/plain": [
       "SVR(kernel=<bound method NTK.get_ntk of <scripts.ntk.NTK object at 0x7f18f289db40>>)"
      ]
     },
     "execution_count": 27,
     "metadata": {},
     "output_type": "execute_result"
    }
   ],
   "source": [
    "model_km_init.fit(X_train, Y_train)"
   ]
  },
  {
   "cell_type": "code",
   "execution_count": 28,
   "metadata": {},
   "outputs": [
    {
     "data": {
      "text/plain": [
       "(1.1261925392932073, 2.7263906828178643)"
      ]
     },
     "execution_count": 28,
     "metadata": {},
     "output_type": "execute_result"
    }
   ],
   "source": [
    "preds_train, preds_val = model_km_init.predict(X_train), model_km_init.predict(X_val)\n",
    "score_train, score_val = mean_squared_error(Y_train, preds_train), mean_squared_error(Y_val, preds_val)\n",
    "score_train, score_val"
   ]
  },
  {
   "cell_type": "code",
   "execution_count": 29,
   "metadata": {},
   "outputs": [
    {
     "data": {
      "text/plain": [
       "2.518604150985001"
      ]
     },
     "execution_count": 29,
     "metadata": {},
     "output_type": "execute_result"
    }
   ],
   "source": [
    "preds_km_init = model_km_init.predict(X_test_subset)\n",
    "score_test = mean_squared_error(Y_test_subset, preds_km_init)\n",
    "score_test"
   ]
  },
  {
   "attachments": {},
   "cell_type": "markdown",
   "metadata": {},
   "source": [
    "### T = inf"
   ]
  },
  {
   "cell_type": "code",
   "execution_count": 30,
   "metadata": {},
   "outputs": [],
   "source": [
    "ntk_inf = NTK(model_nn)"
   ]
  },
  {
   "cell_type": "code",
   "execution_count": 31,
   "metadata": {},
   "outputs": [],
   "source": [
    "model_km_inf = SVR(kernel=ntk_inf.get_ntk)"
   ]
  },
  {
   "cell_type": "code",
   "execution_count": 32,
   "metadata": {},
   "outputs": [
    {
     "data": {
      "text/html": [
       "<style>#sk-container-id-2 {color: black;background-color: white;}#sk-container-id-2 pre{padding: 0;}#sk-container-id-2 div.sk-toggleable {background-color: white;}#sk-container-id-2 label.sk-toggleable__label {cursor: pointer;display: block;width: 100%;margin-bottom: 0;padding: 0.3em;box-sizing: border-box;text-align: center;}#sk-container-id-2 label.sk-toggleable__label-arrow:before {content: \"▸\";float: left;margin-right: 0.25em;color: #696969;}#sk-container-id-2 label.sk-toggleable__label-arrow:hover:before {color: black;}#sk-container-id-2 div.sk-estimator:hover label.sk-toggleable__label-arrow:before {color: black;}#sk-container-id-2 div.sk-toggleable__content {max-height: 0;max-width: 0;overflow: hidden;text-align: left;background-color: #f0f8ff;}#sk-container-id-2 div.sk-toggleable__content pre {margin: 0.2em;color: black;border-radius: 0.25em;background-color: #f0f8ff;}#sk-container-id-2 input.sk-toggleable__control:checked~div.sk-toggleable__content {max-height: 200px;max-width: 100%;overflow: auto;}#sk-container-id-2 input.sk-toggleable__control:checked~label.sk-toggleable__label-arrow:before {content: \"▾\";}#sk-container-id-2 div.sk-estimator input.sk-toggleable__control:checked~label.sk-toggleable__label {background-color: #d4ebff;}#sk-container-id-2 div.sk-label input.sk-toggleable__control:checked~label.sk-toggleable__label {background-color: #d4ebff;}#sk-container-id-2 input.sk-hidden--visually {border: 0;clip: rect(1px 1px 1px 1px);clip: rect(1px, 1px, 1px, 1px);height: 1px;margin: -1px;overflow: hidden;padding: 0;position: absolute;width: 1px;}#sk-container-id-2 div.sk-estimator {font-family: monospace;background-color: #f0f8ff;border: 1px dotted black;border-radius: 0.25em;box-sizing: border-box;margin-bottom: 0.5em;}#sk-container-id-2 div.sk-estimator:hover {background-color: #d4ebff;}#sk-container-id-2 div.sk-parallel-item::after {content: \"\";width: 100%;border-bottom: 1px solid gray;flex-grow: 1;}#sk-container-id-2 div.sk-label:hover label.sk-toggleable__label {background-color: #d4ebff;}#sk-container-id-2 div.sk-serial::before {content: \"\";position: absolute;border-left: 1px solid gray;box-sizing: border-box;top: 0;bottom: 0;left: 50%;z-index: 0;}#sk-container-id-2 div.sk-serial {display: flex;flex-direction: column;align-items: center;background-color: white;padding-right: 0.2em;padding-left: 0.2em;position: relative;}#sk-container-id-2 div.sk-item {position: relative;z-index: 1;}#sk-container-id-2 div.sk-parallel {display: flex;align-items: stretch;justify-content: center;background-color: white;position: relative;}#sk-container-id-2 div.sk-item::before, #sk-container-id-2 div.sk-parallel-item::before {content: \"\";position: absolute;border-left: 1px solid gray;box-sizing: border-box;top: 0;bottom: 0;left: 50%;z-index: -1;}#sk-container-id-2 div.sk-parallel-item {display: flex;flex-direction: column;z-index: 1;position: relative;background-color: white;}#sk-container-id-2 div.sk-parallel-item:first-child::after {align-self: flex-end;width: 50%;}#sk-container-id-2 div.sk-parallel-item:last-child::after {align-self: flex-start;width: 50%;}#sk-container-id-2 div.sk-parallel-item:only-child::after {width: 0;}#sk-container-id-2 div.sk-dashed-wrapped {border: 1px dashed gray;margin: 0 0.4em 0.5em 0.4em;box-sizing: border-box;padding-bottom: 0.4em;background-color: white;}#sk-container-id-2 div.sk-label label {font-family: monospace;font-weight: bold;display: inline-block;line-height: 1.2em;}#sk-container-id-2 div.sk-label-container {text-align: center;}#sk-container-id-2 div.sk-container {/* jupyter's `normalize.less` sets `[hidden] { display: none; }` but bootstrap.min.css set `[hidden] { display: none !important; }` so we also need the `!important` here to be able to override the default hidden behavior on the sphinx rendered scikit-learn.org. See: https://github.com/scikit-learn/scikit-learn/issues/21755 */display: inline-block !important;position: relative;}#sk-container-id-2 div.sk-text-repr-fallback {display: none;}</style><div id=\"sk-container-id-2\" class=\"sk-top-container\"><div class=\"sk-text-repr-fallback\"><pre>SVR(kernel=&lt;bound method NTK.get_ntk of &lt;scripts.ntk.NTK object at 0x7f18cf72d3f0&gt;&gt;)</pre><b>In a Jupyter environment, please rerun this cell to show the HTML representation or trust the notebook. <br />On GitHub, the HTML representation is unable to render, please try loading this page with nbviewer.org.</b></div><div class=\"sk-container\" hidden><div class=\"sk-item\"><div class=\"sk-estimator sk-toggleable\"><input class=\"sk-toggleable__control sk-hidden--visually\" id=\"sk-estimator-id-2\" type=\"checkbox\" checked><label for=\"sk-estimator-id-2\" class=\"sk-toggleable__label sk-toggleable__label-arrow\">SVR</label><div class=\"sk-toggleable__content\"><pre>SVR(kernel=&lt;bound method NTK.get_ntk of &lt;scripts.ntk.NTK object at 0x7f18cf72d3f0&gt;&gt;)</pre></div></div></div></div></div>"
      ],
      "text/plain": [
       "SVR(kernel=<bound method NTK.get_ntk of <scripts.ntk.NTK object at 0x7f18cf72d3f0>>)"
      ]
     },
     "execution_count": 32,
     "metadata": {},
     "output_type": "execute_result"
    }
   ],
   "source": [
    "model_km_inf.fit(X_train, Y_train)"
   ]
  },
  {
   "cell_type": "code",
   "execution_count": 33,
   "metadata": {},
   "outputs": [
    {
     "data": {
      "text/plain": [
       "(0.005383524124056348, 2.2894372676754187)"
      ]
     },
     "execution_count": 33,
     "metadata": {},
     "output_type": "execute_result"
    }
   ],
   "source": [
    "preds_train, preds_val = model_km_inf.predict(X_train), model_km_inf.predict(X_val)\n",
    "score_train, score_val = mean_squared_error(Y_train, preds_train), mean_squared_error(Y_val, preds_val)\n",
    "score_train, score_val"
   ]
  },
  {
   "cell_type": "code",
   "execution_count": 34,
   "metadata": {},
   "outputs": [
    {
     "data": {
      "text/plain": [
       "1.6167503454901546"
      ]
     },
     "execution_count": 34,
     "metadata": {},
     "output_type": "execute_result"
    }
   ],
   "source": [
    "preds_km_inf = model_km_inf.predict(X_test_subset)\n",
    "score_test = mean_squared_error(Y_test_subset, preds_km_inf)\n",
    "score_test"
   ]
  },
  {
   "attachments": {},
   "cell_type": "markdown",
   "metadata": {},
   "source": [
    "## Plot"
   ]
  },
  {
   "cell_type": "code",
   "execution_count": 35,
   "metadata": {},
   "outputs": [
    {
     "data": {
      "text/plain": [
       "(torch.Size([2115, 1]), (2115,), (2115,))"
      ]
     },
     "execution_count": 35,
     "metadata": {},
     "output_type": "execute_result"
    }
   ],
   "source": [
    "preds_nn.shape, preds_km_init.shape, preds_km_inf.shape"
   ]
  },
  {
   "cell_type": "code",
   "execution_count": 36,
   "metadata": {},
   "outputs": [
    {
     "data": {
      "image/png": "[encoded data removed]",
      "text/plain": [
       "<Figure size 800x800 with 1 Axes>"
      ]
     },
     "metadata": {},
     "output_type": "display_data"
    }
   ],
   "source": [
    "from scripts.utils import plot_ntk_corrs\n",
    "\n",
    "plot_ntk_corrs(preds_nn, preds_km_init, preds_km_inf)"
   ]
  },
  {
   "cell_type": "code",
   "execution_count": null,
   "metadata": {},
   "outputs": [],
   "source": []
  }
 ],
 "metadata": {
  "kernelspec": {
   "display_name": "Python 3 (ipykernel)",
   "language": "python",
   "name": "python3"
  },
  "language_info": {
   "codemirror_mode": {
    "name": "ipython",
    "version": 3
   },
   "file_extension": ".py",
   "mimetype": "text/x-python",
   "name": "python",
   "nbconvert_exporter": "python",
   "pygments_lexer": "ipython3",
   "version": "3.10.6"
  },
  "vscode": {
   "interpreter": {
    "hash": "916dbcbb3f70747c44a77c7bcd40155683ae19c65e1c03b4aa3499c5328201f1"
   }
  }
 },
 "nbformat": 4,
 "nbformat_minor": 2
}
