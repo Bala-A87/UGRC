{
 "cells": [
  {
   "cell_type": "markdown",
   "metadata": {},
   "source": [
    "## Data"
   ]
  },
  {
   "cell_type": "code",
   "execution_count": 2,
   "metadata": {},
   "outputs": [],
   "source": [
    "import torch\n",
    "import torchvision\n",
    "import numpy as np\n",
    "import matplotlib.pyplot as plt"
   ]
  },
  {
   "cell_type": "code",
   "execution_count": 3,
   "metadata": {},
   "outputs": [],
   "source": [
    "from torchvision.transforms import ToTensor\n",
    "\n",
    "training_data = torchvision.datasets.MNIST(root='./data', transform=ToTensor(), download=True)\n",
    "test_data = torchvision.datasets.MNIST(root='./data', train=False, transform=ToTensor(), download=True)"
   ]
  },
  {
   "cell_type": "code",
   "execution_count": 4,
   "metadata": {},
   "outputs": [],
   "source": [
    "from torch.utils.data import DataLoader\n",
    "\n",
    "training_dataloader = DataLoader(training_data, batch_size=len(training_data), shuffle=True)\n",
    "test_dataloader = DataLoader(test_data, batch_size=len(test_data), shuffle=False)"
   ]
  },
  {
   "cell_type": "code",
   "execution_count": 5,
   "metadata": {},
   "outputs": [
    {
     "data": {
      "text/plain": [
       "(torch.Size([60000, 1, 28, 28]), torch.Size([60000]))"
      ]
     },
     "execution_count": 5,
     "metadata": {},
     "output_type": "execute_result"
    }
   ],
   "source": [
    "X_training, Y_training = next(iter(training_dataloader))\n",
    "X_training.shape, Y_training.shape"
   ]
  },
  {
   "cell_type": "code",
   "execution_count": 6,
   "metadata": {},
   "outputs": [
    {
     "data": {
      "text/plain": [
       "(torch.Size([10000, 1, 28, 28]), torch.Size([10000]))"
      ]
     },
     "execution_count": 6,
     "metadata": {},
     "output_type": "execute_result"
    }
   ],
   "source": [
    "X_test, Y_test = next(iter(test_dataloader))\n",
    "X_test.shape, Y_test.shape"
   ]
  },
  {
   "cell_type": "code",
   "execution_count": 7,
   "metadata": {},
   "outputs": [
    {
     "data": {
      "text/plain": [
       "(torch.Size([60000, 784]),\n",
       " torch.Size([60000]),\n",
       " torch.Size([10000, 784]),\n",
       " torch.Size([10000]))"
      ]
     },
     "execution_count": 7,
     "metadata": {},
     "output_type": "execute_result"
    }
   ],
   "source": [
    "X_training = X_training.reshape(60000, 784)\n",
    "Y_training = Y_training\n",
    "X_test = X_test.reshape(10000, 784)\n",
    "Y_test = Y_test\n",
    "X_training.shape, Y_training.shape, X_test.shape, Y_test.shape"
   ]
  },
  {
   "cell_type": "code",
   "execution_count": 8,
   "metadata": {},
   "outputs": [
    {
     "data": {
      "text/plain": [
       "(torch.Size([48000, 784]),\n",
       " torch.Size([12000, 784]),\n",
       " torch.Size([48000]),\n",
       " torch.Size([12000]))"
      ]
     },
     "execution_count": 8,
     "metadata": {},
     "output_type": "execute_result"
    }
   ],
   "source": [
    "from sklearn.model_selection import train_test_split\n",
    "\n",
    "X_train, X_val, Y_train, Y_val = train_test_split(X_training, Y_training, test_size=0.2)\n",
    "X_train.shape, X_val.shape, Y_train.shape, Y_val.shape"
   ]
  },
  {
   "cell_type": "markdown",
   "metadata": {},
   "source": [
    "## NN"
   ]
  },
  {
   "cell_type": "code",
   "execution_count": 9,
   "metadata": {},
   "outputs": [],
   "source": [
    "device = 'cpu'"
   ]
  },
  {
   "cell_type": "code",
   "execution_count": 10,
   "metadata": {},
   "outputs": [],
   "source": [
    "from scripts.utils import make_dataloader\n",
    "\n",
    "train_dataloader, val_dataloader = make_dataloader(X_train, Y_train, batch_size=32, shuffle=True), make_dataloader(X_val, Y_val, batch_size=32)"
   ]
  },
  {
   "cell_type": "code",
   "execution_count": 11,
   "metadata": {},
   "outputs": [],
   "source": [
    "from torch import nn\n",
    "\n",
    "class SimpleNN(nn.Module):\n",
    "    def __init__(self) -> None:\n",
    "        super().__init__()\n",
    "        self.layers = nn.Sequential(\n",
    "            nn.Linear(in_features=784, out_features=32),\n",
    "            nn.ReLU(),\n",
    "            nn.Linear(in_features=32, out_features=32),\n",
    "            nn.ReLU(),\n",
    "            nn.Linear(in_features=32, out_features=32),\n",
    "            nn.ReLU(),\n",
    "            nn.Linear(in_features=32, out_features=10),\n",
    "            nn.Softmax(dim=1)\n",
    "        )\n",
    "    \n",
    "    def forward(self, x):\n",
    "        return self.layers(x)\n"
   ]
  },
  {
   "cell_type": "code",
   "execution_count": 12,
   "metadata": {},
   "outputs": [],
   "source": [
    "model_nn = SimpleNN()"
   ]
  },
  {
   "cell_type": "code",
   "execution_count": 13,
   "metadata": {},
   "outputs": [],
   "source": [
    "from scripts.metrics import CategoricalAccuracy\n",
    "\n",
    "loss_fn = torch.nn.CrossEntropyLoss()\n",
    "optimizer = torch.optim.Adam(params=model_nn.parameters())\n",
    "metric = CategoricalAccuracy()"
   ]
  },
  {
   "cell_type": "code",
   "execution_count": 14,
   "metadata": {},
   "outputs": [
    {
     "name": "stdout",
     "output_type": "stream",
     "text": [
      "Training model for 50 epochs. Early stopping not enabled.\n",
      "Epoch: 1 => Train loss: 1.680648, Train score: 0.797708, Val loss: 1.566516, Val score: 0.899333\n",
      "Epoch: 2 => Train loss: 1.551773, Train score: 0.912792, Val loss: 1.551427, Val score: 0.912833\n",
      "Epoch: 3 => Train loss: 1.536668, Train score: 0.926813, Val loss: 1.539879, Val score: 0.922833\n",
      "Epoch: 4 => Train loss: 1.526692, Train score: 0.936292, Val loss: 1.528542, Val score: 0.934167\n",
      "Epoch: 5 => Train loss: 1.520205, Train score: 0.942667, Val loss: 1.523900, Val score: 0.938250\n",
      "Epoch: 6 => Train loss: 1.517088, Train score: 0.945354, Val loss: 1.521673, Val score: 0.939833\n",
      "Epoch: 7 => Train loss: 1.512786, Train score: 0.949354, Val loss: 1.522223, Val score: 0.939250\n",
      "Epoch: 8 => Train loss: 1.509743, Train score: 0.951937, Val loss: 1.517654, Val score: 0.944083\n",
      "Epoch: 9 => Train loss: 1.507016, Train score: 0.954875, Val loss: 1.517156, Val score: 0.943417\n",
      "Epoch: 10 => Train loss: 1.505317, Train score: 0.956167, Val loss: 1.515652, Val score: 0.945500\n",
      "Epoch: 11 => Train loss: 1.503477, Train score: 0.958104, Val loss: 1.514890, Val score: 0.946667\n",
      "Epoch: 12 => Train loss: 1.501895, Train score: 0.959521, Val loss: 1.513320, Val score: 0.947917\n",
      "Epoch: 13 => Train loss: 1.501742, Train score: 0.959479, Val loss: 1.508791, Val score: 0.952583\n",
      "Epoch: 14 => Train loss: 1.499486, Train score: 0.962021, Val loss: 1.509596, Val score: 0.951667\n",
      "Epoch: 15 => Train loss: 1.498784, Train score: 0.962750, Val loss: 1.510229, Val score: 0.950917\n",
      "Epoch: 16 => Train loss: 1.499174, Train score: 0.962271, Val loss: 1.508425, Val score: 0.953000\n",
      "Epoch: 17 => Train loss: 1.497957, Train score: 0.963375, Val loss: 1.506288, Val score: 0.954750\n",
      "Epoch: 18 => Train loss: 1.496334, Train score: 0.965062, Val loss: 1.505794, Val score: 0.955250\n",
      "Epoch: 19 => Train loss: 1.495700, Train score: 0.965437, Val loss: 1.507887, Val score: 0.953167\n",
      "Epoch: 20 => Train loss: 1.493209, Train score: 0.968042, Val loss: 1.507341, Val score: 0.953583\n",
      "Epoch: 21 => Train loss: 1.492892, Train score: 0.968417, Val loss: 1.506528, Val score: 0.954417\n",
      "Epoch: 22 => Train loss: 1.492979, Train score: 0.968604, Val loss: 1.503773, Val score: 0.957083\n",
      "Epoch: 23 => Train loss: 1.492339, Train score: 0.968854, Val loss: 1.505005, Val score: 0.955583\n",
      "Epoch: 24 => Train loss: 1.491851, Train score: 0.969250, Val loss: 1.510363, Val score: 0.951333\n",
      "Epoch: 25 => Train loss: 1.492287, Train score: 0.968771, Val loss: 1.505218, Val score: 0.956167\n",
      "Epoch: 26 => Train loss: 1.491424, Train score: 0.969792, Val loss: 1.506796, Val score: 0.954333\n",
      "Epoch: 27 => Train loss: 1.490054, Train score: 0.971313, Val loss: 1.507030, Val score: 0.954333\n",
      "Epoch: 28 => Train loss: 1.488977, Train score: 0.972354, Val loss: 1.503952, Val score: 0.957417\n",
      "Epoch: 29 => Train loss: 1.489745, Train score: 0.971417, Val loss: 1.503619, Val score: 0.957667\n",
      "Epoch: 30 => Train loss: 1.489343, Train score: 0.971812, Val loss: 1.502806, Val score: 0.958333\n",
      "Epoch: 31 => Train loss: 1.489137, Train score: 0.972125, Val loss: 1.505462, Val score: 0.955917\n",
      "Epoch: 32 => Train loss: 1.488109, Train score: 0.973042, Val loss: 1.502164, Val score: 0.958833\n",
      "Epoch: 33 => Train loss: 1.488506, Train score: 0.972562, Val loss: 1.508111, Val score: 0.953333\n",
      "Epoch: 34 => Train loss: 1.488245, Train score: 0.972771, Val loss: 1.502483, Val score: 0.958333\n",
      "Epoch: 35 => Train loss: 1.488111, Train score: 0.973104, Val loss: 1.508786, Val score: 0.952333\n",
      "Epoch: 36 => Train loss: 1.487514, Train score: 0.973604, Val loss: 1.507244, Val score: 0.953667\n",
      "Epoch: 37 => Train loss: 1.487380, Train score: 0.973750, Val loss: 1.505257, Val score: 0.956083\n",
      "Epoch: 38 => Train loss: 1.486121, Train score: 0.975000, Val loss: 1.506368, Val score: 0.955000\n",
      "Epoch: 39 => Train loss: 1.487415, Train score: 0.973813, Val loss: 1.503761, Val score: 0.957000\n",
      "Epoch: 40 => Train loss: 1.484819, Train score: 0.976479, Val loss: 1.502960, Val score: 0.958167\n",
      "Epoch: 41 => Train loss: 1.484765, Train score: 0.976354, Val loss: 1.503345, Val score: 0.957667\n",
      "Epoch: 42 => Train loss: 1.486025, Train score: 0.975208, Val loss: 1.510660, Val score: 0.950167\n",
      "Epoch: 43 => Train loss: 1.486029, Train score: 0.975042, Val loss: 1.501219, Val score: 0.960000\n",
      "Epoch: 44 => Train loss: 1.486182, Train score: 0.975042, Val loss: 1.504366, Val score: 0.956750\n",
      "Epoch: 45 => Train loss: 1.485944, Train score: 0.975250, Val loss: 1.500508, Val score: 0.960500\n",
      "Epoch: 46 => Train loss: 1.485368, Train score: 0.975750, Val loss: 1.501166, Val score: 0.959833\n",
      "Epoch: 47 => Train loss: 1.484724, Train score: 0.976208, Val loss: 1.499703, Val score: 0.961167\n",
      "Epoch: 48 => Train loss: 1.484892, Train score: 0.976313, Val loss: 1.509631, Val score: 0.951583\n",
      "Epoch: 49 => Train loss: 1.485024, Train score: 0.976229, Val loss: 1.500797, Val score: 0.960083\n",
      "Epoch: 50 => Train loss: 1.483365, Train score: 0.977729, Val loss: 1.503318, Val score: 0.957750\n",
      "Training complete.\n"
     ]
    }
   ],
   "source": [
    "from scripts.train import train_model\n",
    "\n",
    "history = train_model(\n",
    "    model=model_nn,\n",
    "    train_dataloader=train_dataloader,\n",
    "    val_dataloader=val_dataloader,\n",
    "    loss_fn=loss_fn,\n",
    "    optimizer=optimizer,\n",
    "    metric=metric,\n",
    "    epochs=50,\n",
    "    device=device\n",
    ")"
   ]
  },
  {
   "cell_type": "code",
   "execution_count": 15,
   "metadata": {},
   "outputs": [
    {
     "data": {
      "image/png": "[encoded data removed]",
      "text/plain": [
       "<Figure size 1200x600 with 2 Axes>"
      ]
     },
     "metadata": {},
     "output_type": "display_data"
    }
   ],
   "source": [
    "from scripts.utils import plot_train_history\n",
    "\n",
    "plot_train_history(history)"
   ]
  },
  {
   "cell_type": "code",
   "execution_count": 16,
   "metadata": {},
   "outputs": [
    {
     "data": {
      "text/plain": [
       "(tensor(0.9770), tensor(0.9578))"
      ]
     },
     "execution_count": 16,
     "metadata": {},
     "output_type": "execute_result"
    }
   ],
   "source": [
    "from scripts.test import predict\n",
    "\n",
    "preds_train, preds_val = predict(model_nn, X_train, device), predict(model_nn, X_val, device)\n",
    "score_train, score_val = metric(preds_train, Y_train), metric(preds_val, Y_val)\n",
    "score_train, score_val"
   ]
  },
  {
   "cell_type": "code",
   "execution_count": 17,
   "metadata": {},
   "outputs": [
    {
     "data": {
      "text/plain": [
       "tensor(0.9609)"
      ]
     },
     "execution_count": 17,
     "metadata": {},
     "output_type": "execute_result"
    }
   ],
   "source": [
    "preds_test = predict(model_nn, X_test, device)\n",
    "score_test = metric(preds_test, Y_test)\n",
    "score_test"
   ]
  },
  {
   "cell_type": "code",
   "execution_count": 18,
   "metadata": {},
   "outputs": [
    {
     "data": {
      "text/plain": [
       "tensor([7, 2, 1,  ..., 4, 5, 6])"
      ]
     },
     "execution_count": 18,
     "metadata": {},
     "output_type": "execute_result"
    }
   ],
   "source": [
    "preds_nn = torch.argmax(preds_test, dim=1)\n",
    "preds_nn"
   ]
  },
  {
   "cell_type": "markdown",
   "metadata": {},
   "source": [
    "## NTK"
   ]
  },
  {
   "cell_type": "code",
   "execution_count": 19,
   "metadata": {},
   "outputs": [],
   "source": [
    "def get_grads_single_output(u, channel, model):\n",
    "    return torch.cat([torch.reshape(grads, (-1,)) for grads in list(torch.autograd.grad(model(u)[0, channel], model.parameters()))]).reshape(1, -1)\n",
    "\n",
    "def get_grads(u, model):\n",
    "    # return torch.cat([get_grads_single_output(channel, model) for channel in u.reshape(-1, )])\n",
    "    num_channels = len(model(u).reshape(-1))\n",
    "    return torch.cat([get_grads_single_output(u, channel, model) for channel in range(num_channels)])\n",
    "\n",
    "def compute_ntk(U, V, model):\n",
    "    phi_u = torch.cat([get_grads(u.unsqueeze(0), model) for u in U])\n",
    "    phi_v = torch.cat([get_grads(v.unsqueeze(0), model) for v in V])\n",
    "    return torch.matmul(phi_u, phi_v.T)"
   ]
  },
  {
   "cell_type": "code",
   "execution_count": 20,
   "metadata": {},
   "outputs": [],
   "source": [
    "class NTK():\n",
    "    def __init__(self, model) -> None:\n",
    "        self.model = model\n",
    "    \n",
    "    def get_ntk(self, U, V):\n",
    "        return compute_ntk(U, V, self.model)"
   ]
  },
  {
   "cell_type": "code",
   "execution_count": 21,
   "metadata": {},
   "outputs": [
    {
     "data": {
      "text/plain": [
       "tensor([[ 0.0000e+00,  0.0000e+00, -0.0000e+00,  ...,  0.0000e+00,\n",
       "          0.0000e+00,  0.0000e+00],\n",
       "        [-9.9998e-16, -4.3518e-15,  1.6141e-14,  ..., -4.0628e-15,\n",
       "          0.0000e+00,  0.0000e+00],\n",
       "        [-3.5411e-35, -1.5411e-34,  5.7158e-34,  ..., -9.4940e-35,\n",
       "          0.0000e+00,  0.0000e+00],\n",
       "        ...,\n",
       "        [ 4.1098e-16,  1.7885e-15, -6.6338e-15,  ...,  0.0000e+00,\n",
       "          0.0000e+00,  0.0000e+00],\n",
       "        [ 0.0000e+00,  0.0000e+00, -0.0000e+00,  ...,  0.0000e+00,\n",
       "          0.0000e+00,  0.0000e+00],\n",
       "        [ 0.0000e+00,  0.0000e+00, -0.0000e+00,  ...,  0.0000e+00,\n",
       "          0.0000e+00,  0.0000e+00]])"
      ]
     },
     "execution_count": 21,
     "metadata": {},
     "output_type": "execute_result"
    }
   ],
   "source": [
    "u = torch.randn(1, 784)\n",
    "get_grads(u, model_nn)"
   ]
  },
  {
   "cell_type": "markdown",
   "metadata": {},
   "source": [
    "## SVM"
   ]
  },
  {
   "cell_type": "code",
   "execution_count": 22,
   "metadata": {},
   "outputs": [],
   "source": [
    "from sklearn.metrics import accuracy_score"
   ]
  },
  {
   "cell_type": "code",
   "execution_count": 23,
   "metadata": {},
   "outputs": [],
   "source": [
    "from sklearn.svm import SVC"
   ]
  },
  {
   "cell_type": "markdown",
   "metadata": {},
   "source": [
    "### T = 0"
   ]
  },
  {
   "cell_type": "code",
   "execution_count": 24,
   "metadata": {},
   "outputs": [],
   "source": [
    "ntk_init = NTK(SimpleNN().to(device))"
   ]
  },
  {
   "cell_type": "code",
   "execution_count": 25,
   "metadata": {},
   "outputs": [],
   "source": [
    "model_km_init = SVC(kernel=ntk_init.get_ntk)"
   ]
  },
  {
   "cell_type": "code",
   "execution_count": null,
   "metadata": {},
   "outputs": [],
   "source": [
    "model_km_init.fit(X_train, Y_train)"
   ]
  },
  {
   "cell_type": "code",
   "execution_count": null,
   "metadata": {},
   "outputs": [],
   "source": [
    "preds_train, preds_val = model_km_init.predict(X_train), model_km_init.predict(X_val)\n",
    "score_train, score_val = accuracy_score(Y_train, preds_train), accuracy_score(Y_val, preds_val)\n",
    "score_train, score_val"
   ]
  },
  {
   "cell_type": "code",
   "execution_count": null,
   "metadata": {},
   "outputs": [],
   "source": []
  }
 ],
 "metadata": {
  "kernelspec": {
   "display_name": "Python 3 (ipykernel)",
   "language": "python",
   "name": "python3"
  },
  "language_info": {
   "codemirror_mode": {
    "name": "ipython",
    "version": 3
   },
   "file_extension": ".py",
   "mimetype": "text/x-python",
   "name": "python",
   "nbconvert_exporter": "python",
   "pygments_lexer": "ipython3",
   "version": "3.10.6 (main, Nov 14 2022, 16:10:14) [GCC 11.3.0]"
  },
  "vscode": {
   "interpreter": {
    "hash": "916dbcbb3f70747c44a77c7bcd40155683ae19c65e1c03b4aa3499c5328201f1"
   }
  }
 },
 "nbformat": 4,
 "nbformat_minor": 2
}
