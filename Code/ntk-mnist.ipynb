{
 "cells": [
  {
   "cell_type": "markdown",
   "metadata": {},
   "source": [
    "## Data"
   ]
  },
  {
   "cell_type": "code",
   "execution_count": 1,
   "metadata": {},
   "outputs": [],
   "source": [
    "import torch\n",
    "import torchvision\n",
    "import numpy as np\n",
    "import matplotlib.pyplot as plt"
   ]
  },
  {
   "cell_type": "code",
   "execution_count": 2,
   "metadata": {},
   "outputs": [],
   "source": [
    "from torchvision.transforms import ToTensor\n",
    "\n",
    "training_data = torchvision.datasets.MNIST(root='./data', transform=ToTensor(), download=True)\n",
    "test_data = torchvision.datasets.MNIST(root='./data', train=False, transform=ToTensor(), download=True)"
   ]
  },
  {
   "cell_type": "code",
   "execution_count": 3,
   "metadata": {},
   "outputs": [],
   "source": [
    "from torch.utils.data import DataLoader\n",
    "\n",
    "training_dataloader = DataLoader(training_data, batch_size=len(training_data), shuffle=True)\n",
    "test_dataloader = DataLoader(test_data, batch_size=len(test_data), shuffle=False)"
   ]
  },
  {
   "cell_type": "code",
   "execution_count": 4,
   "metadata": {},
   "outputs": [
    {
     "data": {
      "text/plain": [
       "(torch.Size([60000, 1, 28, 28]), torch.Size([60000]))"
      ]
     },
     "execution_count": 4,
     "metadata": {},
     "output_type": "execute_result"
    }
   ],
   "source": [
    "X_training, Y_training = next(iter(training_dataloader))\n",
    "X_training.shape, Y_training.shape"
   ]
  },
  {
   "cell_type": "code",
   "execution_count": 5,
   "metadata": {},
   "outputs": [
    {
     "data": {
      "text/plain": [
       "(torch.Size([10000, 1, 28, 28]), torch.Size([10000]))"
      ]
     },
     "execution_count": 5,
     "metadata": {},
     "output_type": "execute_result"
    }
   ],
   "source": [
    "X_test, Y_test = next(iter(test_dataloader))\n",
    "X_test.shape, Y_test.shape"
   ]
  },
  {
   "cell_type": "code",
   "execution_count": 6,
   "metadata": {},
   "outputs": [
    {
     "data": {
      "text/plain": [
       "(torch.Size([60000, 784]),\n",
       " torch.Size([60000]),\n",
       " torch.Size([10000, 784]),\n",
       " torch.Size([10000]))"
      ]
     },
     "execution_count": 6,
     "metadata": {},
     "output_type": "execute_result"
    }
   ],
   "source": [
    "X_training = X_training.reshape(60000, 784)\n",
    "X_test = X_test.reshape(10000, 784)\n",
    "X_training.shape, Y_training.shape, X_test.shape, Y_test.shape"
   ]
  },
  {
   "cell_type": "code",
   "execution_count": 7,
   "metadata": {},
   "outputs": [
    {
     "data": {
      "text/plain": [
       "(torch.Size([12665, 784]),\n",
       " torch.Size([12665]),\n",
       " torch.Size([2115, 784]),\n",
       " torch.Size([2115]))"
      ]
     },
     "execution_count": 7,
     "metadata": {},
     "output_type": "execute_result"
    }
   ],
   "source": [
    "X_training_subset = torch.cat([X_training[Y_training==0], X_training[Y_training==1]])\n",
    "Y_training_subset = torch.cat([Y_training[Y_training==0], Y_training[Y_training==1]])\n",
    "X_test_subset = torch.cat([X_test[Y_test==0], X_test[Y_test==1]])\n",
    "Y_test_subset = torch.cat([Y_test[Y_test==0], Y_test[Y_test==1]])\n",
    "X_training_subset.shape, Y_training_subset.shape, X_test_subset.shape, Y_test_subset.shape"
   ]
  },
  {
   "cell_type": "code",
   "execution_count": 48,
   "metadata": {},
   "outputs": [
    {
     "data": {
      "text/plain": [
       "(torch.Size([1000, 784]),\n",
       " torch.Size([1000, 784]),\n",
       " torch.Size([1000]),\n",
       " torch.Size([1000]))"
      ]
     },
     "execution_count": 48,
     "metadata": {},
     "output_type": "execute_result"
    }
   ],
   "source": [
    "from sklearn.model_selection import train_test_split\n",
    "\n",
    "X_train_large, X_val, Y_train_large, Y_val = train_test_split(X_training, Y_training, test_size=1000)\n",
    "X_train, X_dummy, Y_train, Y_dummy = train_test_split(X_train_large, Y_train_large, train_size=1000)\n",
    "\n",
    "# X_train, X_val, Y_train, Y_val = train_test_split(X_training_subset, Y_training_subset, test_size=0.2)\n",
    "X_train.shape, X_val.shape, Y_train.shape, Y_val.shape"
   ]
  },
  {
   "cell_type": "markdown",
   "metadata": {},
   "source": [
    "## NN"
   ]
  },
  {
   "cell_type": "code",
   "execution_count": 9,
   "metadata": {},
   "outputs": [],
   "source": [
    "device = 'cpu'"
   ]
  },
  {
   "cell_type": "code",
   "execution_count": 49,
   "metadata": {},
   "outputs": [],
   "source": [
    "from scripts.utils import make_dataloader\n",
    "\n",
    "train_dataloader, val_dataloader = make_dataloader(X_train, Y_train.unsqueeze(1).type(torch.float32), batch_size=32, shuffle=True), make_dataloader(X_val, Y_val.unsqueeze(1).type(torch.float32), batch_size=32)"
   ]
  },
  {
   "cell_type": "code",
   "execution_count": 54,
   "metadata": {},
   "outputs": [],
   "source": [
    "from torch import nn\n",
    "\n",
    "class SimpleNN(nn.Module):\n",
    "    def __init__(self) -> None:\n",
    "        super().__init__()\n",
    "        self.layers = nn.Sequential(\n",
    "            nn.Linear(in_features=784, out_features=100),\n",
    "            nn.ReLU(),\n",
    "            nn.Linear(in_features=100, out_features=100),\n",
    "            nn.ReLU(),\n",
    "            nn.Linear(in_features=100, out_features=1),\n",
    "        )\n",
    "    \n",
    "    def forward(self, x):\n",
    "        return self.layers(x)\n"
   ]
  },
  {
   "cell_type": "code",
   "execution_count": 55,
   "metadata": {},
   "outputs": [
    {
     "data": {
      "text/plain": [
       "========================================================================================================================\n",
       "Layer (type:depth-idx)                   Input Shape          Output Shape         Param #              Trainable\n",
       "========================================================================================================================\n",
       "SimpleNN                                 [32, 784]            [32, 1]              --                   True\n",
       "├─Sequential: 1-1                        [32, 784]            [32, 1]              --                   True\n",
       "│    └─Linear: 2-1                       [32, 784]            [32, 100]            78,500               True\n",
       "│    └─ReLU: 2-2                         [32, 100]            [32, 100]            --                   --\n",
       "│    └─Linear: 2-3                       [32, 100]            [32, 100]            10,100               True\n",
       "│    └─ReLU: 2-4                         [32, 100]            [32, 100]            --                   --\n",
       "│    └─Linear: 2-5                       [32, 100]            [32, 1]              101                  True\n",
       "========================================================================================================================\n",
       "Total params: 88,701\n",
       "Trainable params: 88,701\n",
       "Non-trainable params: 0\n",
       "Total mult-adds (M): 2.84\n",
       "========================================================================================================================\n",
       "Input size (MB): 0.10\n",
       "Forward/backward pass size (MB): 0.05\n",
       "Params size (MB): 0.35\n",
       "Estimated Total Size (MB): 0.51\n",
       "========================================================================================================================"
      ]
     },
     "execution_count": 55,
     "metadata": {},
     "output_type": "execute_result"
    }
   ],
   "source": [
    "from torchinfo import summary\n",
    "\n",
    "summary(\n",
    "    model=SimpleNN(),\n",
    "    input_size=(32, 784),\n",
    "    col_names=['input_size', 'output_size', 'num_params', 'trainable'],\n",
    "    col_width=20\n",
    ")"
   ]
  },
  {
   "cell_type": "code",
   "execution_count": 56,
   "metadata": {},
   "outputs": [],
   "source": [
    "model_nn = SimpleNN().to(device)"
   ]
  },
  {
   "cell_type": "code",
   "execution_count": 57,
   "metadata": {},
   "outputs": [],
   "source": [
    "from scripts.metrics import NegMeanSquaredError\n",
    "\n",
    "loss_fn = torch.nn.MSELoss()\n",
    "optimizer = torch.optim.Adam(params=model_nn.parameters())\n",
    "metric = NegMeanSquaredError()"
   ]
  },
  {
   "cell_type": "code",
   "execution_count": 58,
   "metadata": {},
   "outputs": [
    {
     "name": "stdout",
     "output_type": "stream",
     "text": [
      "Training model for 500 epochs. Early stopping not enabled.\n",
      "Epoch: 1 => Train loss: 14.515871, Train score: -14.515871, Val loss: 7.364921, Val score: -7.364921\n",
      "Epoch: 2 => Train loss: 5.570661, Train score: -5.570661, Val loss: 4.844414, Val score: -4.844414\n",
      "Epoch: 3 => Train loss: 4.407667, Train score: -4.407667, Val loss: 4.238711, Val score: -4.238711\n",
      "Epoch: 4 => Train loss: 3.703383, Train score: -3.703383, Val loss: 3.898758, Val score: -3.898758\n",
      "Epoch: 5 => Train loss: 3.295232, Train score: -3.295232, Val loss: 3.637668, Val score: -3.637668\n",
      "Epoch: 6 => Train loss: 2.965289, Train score: -2.965289, Val loss: 3.557545, Val score: -3.557545\n",
      "Epoch: 7 => Train loss: 2.563121, Train score: -2.563121, Val loss: 3.217115, Val score: -3.217115\n",
      "Epoch: 8 => Train loss: 2.242999, Train score: -2.242999, Val loss: 3.088239, Val score: -3.088239\n",
      "Epoch: 9 => Train loss: 2.047627, Train score: -2.047627, Val loss: 2.944558, Val score: -2.944558\n",
      "Epoch: 10 => Train loss: 1.736168, Train score: -1.736168, Val loss: 2.905995, Val score: -2.905995\n",
      "Epoch: 11 => Train loss: 1.511356, Train score: -1.511356, Val loss: 2.771341, Val score: -2.771341\n",
      "Epoch: 12 => Train loss: 1.466485, Train score: -1.466485, Val loss: 2.902992, Val score: -2.902992\n",
      "Epoch: 13 => Train loss: 1.322002, Train score: -1.322002, Val loss: 2.840009, Val score: -2.840009\n",
      "Epoch: 14 => Train loss: 1.142659, Train score: -1.142659, Val loss: 2.593580, Val score: -2.593580\n",
      "Epoch: 15 => Train loss: 1.041319, Train score: -1.041319, Val loss: 2.652568, Val score: -2.652568\n",
      "Epoch: 16 => Train loss: 0.865779, Train score: -0.865779, Val loss: 2.647983, Val score: -2.647983\n",
      "Epoch: 17 => Train loss: 0.837057, Train score: -0.837057, Val loss: 2.877034, Val score: -2.877034\n",
      "Epoch: 18 => Train loss: 0.800942, Train score: -0.800942, Val loss: 2.770419, Val score: -2.770419\n",
      "Epoch: 19 => Train loss: 0.677623, Train score: -0.677623, Val loss: 2.617477, Val score: -2.617477\n",
      "Epoch: 20 => Train loss: 0.582724, Train score: -0.582724, Val loss: 2.555204, Val score: -2.555204\n",
      "Epoch: 21 => Train loss: 0.549182, Train score: -0.549182, Val loss: 2.554375, Val score: -2.554375\n",
      "Epoch: 22 => Train loss: 0.517139, Train score: -0.517139, Val loss: 2.772904, Val score: -2.772904\n",
      "Epoch: 23 => Train loss: 0.458982, Train score: -0.458982, Val loss: 2.676905, Val score: -2.676905\n",
      "Epoch: 24 => Train loss: 0.400864, Train score: -0.400864, Val loss: 2.478836, Val score: -2.478836\n",
      "Epoch: 25 => Train loss: 0.381231, Train score: -0.381231, Val loss: 2.479480, Val score: -2.479480\n",
      "Epoch: 26 => Train loss: 0.336236, Train score: -0.336236, Val loss: 2.527456, Val score: -2.527456\n",
      "Epoch: 27 => Train loss: 0.293234, Train score: -0.293234, Val loss: 2.521134, Val score: -2.521134\n",
      "Epoch: 28 => Train loss: 0.263095, Train score: -0.263095, Val loss: 2.487499, Val score: -2.487499\n",
      "Epoch: 29 => Train loss: 0.252149, Train score: -0.252149, Val loss: 2.567634, Val score: -2.567634\n",
      "Epoch: 30 => Train loss: 0.254885, Train score: -0.254885, Val loss: 2.582701, Val score: -2.582701\n",
      "Epoch: 31 => Train loss: 0.216650, Train score: -0.216650, Val loss: 2.627592, Val score: -2.627592\n",
      "Epoch: 32 => Train loss: 0.189898, Train score: -0.189898, Val loss: 2.501683, Val score: -2.501683\n",
      "Epoch: 33 => Train loss: 0.160903, Train score: -0.160903, Val loss: 2.459586, Val score: -2.459586\n",
      "Epoch: 34 => Train loss: 0.152226, Train score: -0.152226, Val loss: 2.594232, Val score: -2.594232\n",
      "Epoch: 35 => Train loss: 0.135573, Train score: -0.135573, Val loss: 2.649381, Val score: -2.649381\n",
      "Epoch: 36 => Train loss: 0.130799, Train score: -0.130799, Val loss: 2.742567, Val score: -2.742567\n",
      "Epoch: 37 => Train loss: 0.128804, Train score: -0.128804, Val loss: 2.756086, Val score: -2.756086\n",
      "Epoch: 38 => Train loss: 0.102110, Train score: -0.102110, Val loss: 2.650958, Val score: -2.650958\n",
      "Epoch: 39 => Train loss: 0.087938, Train score: -0.087938, Val loss: 2.465103, Val score: -2.465103\n",
      "Epoch: 40 => Train loss: 0.077610, Train score: -0.077610, Val loss: 2.543215, Val score: -2.543215\n",
      "Epoch: 41 => Train loss: 0.075817, Train score: -0.075817, Val loss: 2.551138, Val score: -2.551138\n",
      "Epoch: 42 => Train loss: 0.062252, Train score: -0.062252, Val loss: 2.540749, Val score: -2.540749\n",
      "Epoch: 43 => Train loss: 0.062111, Train score: -0.062111, Val loss: 2.505605, Val score: -2.505605\n",
      "Epoch: 44 => Train loss: 0.053208, Train score: -0.053208, Val loss: 2.590011, Val score: -2.590011\n",
      "Epoch: 45 => Train loss: 0.052962, Train score: -0.052962, Val loss: 2.553616, Val score: -2.553616\n",
      "Epoch: 46 => Train loss: 0.051473, Train score: -0.051473, Val loss: 2.574234, Val score: -2.574234\n",
      "Epoch: 47 => Train loss: 0.062905, Train score: -0.062905, Val loss: 2.596452, Val score: -2.596452\n",
      "Epoch: 48 => Train loss: 0.049589, Train score: -0.049589, Val loss: 2.503434, Val score: -2.503434\n",
      "Epoch: 49 => Train loss: 0.040712, Train score: -0.040712, Val loss: 2.522537, Val score: -2.522537\n",
      "Epoch: 50 => Train loss: 0.032475, Train score: -0.032475, Val loss: 2.480597, Val score: -2.480597\n",
      "Epoch: 51 => Train loss: 0.029407, Train score: -0.029407, Val loss: 2.599683, Val score: -2.599683\n",
      "Epoch: 52 => Train loss: 0.027544, Train score: -0.027544, Val loss: 2.555177, Val score: -2.555177\n",
      "Epoch: 53 => Train loss: 0.023734, Train score: -0.023734, Val loss: 2.536915, Val score: -2.536915\n",
      "Epoch: 54 => Train loss: 0.023875, Train score: -0.023875, Val loss: 2.637337, Val score: -2.637337\n",
      "Epoch: 55 => Train loss: 0.021718, Train score: -0.021718, Val loss: 2.577106, Val score: -2.577106\n",
      "Epoch: 56 => Train loss: 0.018870, Train score: -0.018870, Val loss: 2.552167, Val score: -2.552167\n",
      "Epoch: 57 => Train loss: 0.015724, Train score: -0.015724, Val loss: 2.542075, Val score: -2.542075\n",
      "Epoch: 58 => Train loss: 0.017578, Train score: -0.017578, Val loss: 2.566862, Val score: -2.566862\n",
      "Epoch: 59 => Train loss: 0.019411, Train score: -0.019411, Val loss: 2.543104, Val score: -2.543104\n",
      "Epoch: 60 => Train loss: 0.021487, Train score: -0.021487, Val loss: 2.534320, Val score: -2.534320\n",
      "Epoch: 61 => Train loss: 0.020267, Train score: -0.020267, Val loss: 2.532960, Val score: -2.532960\n",
      "Epoch: 62 => Train loss: 0.019526, Train score: -0.019526, Val loss: 2.576741, Val score: -2.576741\n",
      "Epoch: 63 => Train loss: 0.018638, Train score: -0.018638, Val loss: 2.517605, Val score: -2.517605\n",
      "Epoch: 64 => Train loss: 0.016632, Train score: -0.016632, Val loss: 2.574220, Val score: -2.574220\n",
      "Epoch: 65 => Train loss: 0.016190, Train score: -0.016190, Val loss: 2.652474, Val score: -2.652474\n",
      "Epoch: 66 => Train loss: 0.018471, Train score: -0.018471, Val loss: 2.491355, Val score: -2.491355\n",
      "Epoch: 67 => Train loss: 0.018580, Train score: -0.018580, Val loss: 2.606651, Val score: -2.606651\n",
      "Epoch: 68 => Train loss: 0.016153, Train score: -0.016153, Val loss: 2.552467, Val score: -2.552467\n",
      "Epoch: 69 => Train loss: 0.014861, Train score: -0.014861, Val loss: 2.616200, Val score: -2.616200\n",
      "Epoch: 70 => Train loss: 0.015678, Train score: -0.015678, Val loss: 2.577795, Val score: -2.577795\n",
      "Epoch: 71 => Train loss: 0.011718, Train score: -0.011718, Val loss: 2.545081, Val score: -2.545081\n",
      "Epoch: 72 => Train loss: 0.011767, Train score: -0.011767, Val loss: 2.562063, Val score: -2.562063\n",
      "Epoch: 73 => Train loss: 0.009710, Train score: -0.009710, Val loss: 2.520243, Val score: -2.520243\n",
      "Epoch: 74 => Train loss: 0.012694, Train score: -0.012694, Val loss: 2.636344, Val score: -2.636344\n",
      "Epoch: 75 => Train loss: 0.015812, Train score: -0.015812, Val loss: 2.593385, Val score: -2.593385\n",
      "Epoch: 76 => Train loss: 0.014837, Train score: -0.014837, Val loss: 2.569298, Val score: -2.569298\n",
      "Epoch: 77 => Train loss: 0.012256, Train score: -0.012256, Val loss: 2.577808, Val score: -2.577808\n",
      "Epoch: 78 => Train loss: 0.012714, Train score: -0.012714, Val loss: 2.518244, Val score: -2.518244\n",
      "Epoch: 79 => Train loss: 0.013405, Train score: -0.013405, Val loss: 2.585984, Val score: -2.585984\n",
      "Epoch: 80 => Train loss: 0.016890, Train score: -0.016890, Val loss: 2.670343, Val score: -2.670343\n",
      "Epoch: 81 => Train loss: 0.032236, Train score: -0.032236, Val loss: 2.580385, Val score: -2.580385\n",
      "Epoch: 82 => Train loss: 0.042841, Train score: -0.042841, Val loss: 2.595305, Val score: -2.595305\n",
      "Epoch: 83 => Train loss: 0.049420, Train score: -0.049420, Val loss: 2.520012, Val score: -2.520012\n",
      "Epoch: 84 => Train loss: 0.039478, Train score: -0.039478, Val loss: 2.607270, Val score: -2.607270\n",
      "Epoch: 85 => Train loss: 0.037979, Train score: -0.037979, Val loss: 2.567782, Val score: -2.567782\n",
      "Epoch: 86 => Train loss: 0.036203, Train score: -0.036203, Val loss: 2.481686, Val score: -2.481686\n",
      "Epoch: 87 => Train loss: 0.040981, Train score: -0.040981, Val loss: 2.698549, Val score: -2.698549\n",
      "Epoch: 88 => Train loss: 0.055238, Train score: -0.055238, Val loss: 2.462578, Val score: -2.462578\n",
      "Epoch: 89 => Train loss: 0.055666, Train score: -0.055666, Val loss: 2.576475, Val score: -2.576475\n",
      "Epoch: 90 => Train loss: 0.043677, Train score: -0.043677, Val loss: 2.633112, Val score: -2.633112\n",
      "Epoch: 91 => Train loss: 0.037609, Train score: -0.037609, Val loss: 2.527131, Val score: -2.527131\n",
      "Epoch: 92 => Train loss: 0.033321, Train score: -0.033321, Val loss: 2.555237, Val score: -2.555237\n",
      "Epoch: 93 => Train loss: 0.031600, Train score: -0.031600, Val loss: 2.494484, Val score: -2.494484\n",
      "Epoch: 94 => Train loss: 0.022035, Train score: -0.022035, Val loss: 2.469113, Val score: -2.469113\n",
      "Epoch: 95 => Train loss: 0.016739, Train score: -0.016739, Val loss: 2.537081, Val score: -2.537081\n",
      "Epoch: 96 => Train loss: 0.016127, Train score: -0.016127, Val loss: 2.465815, Val score: -2.465815\n",
      "Epoch: 97 => Train loss: 0.029555, Train score: -0.029555, Val loss: 2.591504, Val score: -2.591504\n",
      "Epoch: 98 => Train loss: 0.035813, Train score: -0.035813, Val loss: 2.614611, Val score: -2.614611\n",
      "Epoch: 99 => Train loss: 0.027312, Train score: -0.027312, Val loss: 2.507908, Val score: -2.507908\n",
      "Epoch: 100 => Train loss: 0.017380, Train score: -0.017380, Val loss: 2.496651, Val score: -2.496651\n",
      "Epoch: 101 => Train loss: 0.017396, Train score: -0.017396, Val loss: 2.521894, Val score: -2.521894\n",
      "Epoch: 102 => Train loss: 0.014535, Train score: -0.014535, Val loss: 2.502765, Val score: -2.502765\n",
      "Epoch: 103 => Train loss: 0.010936, Train score: -0.010936, Val loss: 2.472566, Val score: -2.472566\n",
      "Epoch: 104 => Train loss: 0.010520, Train score: -0.010520, Val loss: 2.529536, Val score: -2.529536\n",
      "Epoch: 105 => Train loss: 0.007667, Train score: -0.007667, Val loss: 2.471539, Val score: -2.471539\n",
      "Epoch: 106 => Train loss: 0.006525, Train score: -0.006525, Val loss: 2.548623, Val score: -2.548623\n",
      "Epoch: 107 => Train loss: 0.006106, Train score: -0.006106, Val loss: 2.511636, Val score: -2.511636\n",
      "Epoch: 108 => Train loss: 0.007332, Train score: -0.007332, Val loss: 2.551802, Val score: -2.551802\n",
      "Epoch: 109 => Train loss: 0.008547, Train score: -0.008547, Val loss: 2.493296, Val score: -2.493296\n",
      "Epoch: 110 => Train loss: 0.007752, Train score: -0.007752, Val loss: 2.493326, Val score: -2.493326\n",
      "Epoch: 111 => Train loss: 0.009496, Train score: -0.009496, Val loss: 2.462655, Val score: -2.462655\n",
      "Epoch: 112 => Train loss: 0.009959, Train score: -0.009959, Val loss: 2.474871, Val score: -2.474871\n",
      "Epoch: 113 => Train loss: 0.012465, Train score: -0.012465, Val loss: 2.517822, Val score: -2.517822\n",
      "Epoch: 114 => Train loss: 0.012079, Train score: -0.012079, Val loss: 2.522204, Val score: -2.522204\n",
      "Epoch: 115 => Train loss: 0.010581, Train score: -0.010581, Val loss: 2.478217, Val score: -2.478217\n",
      "Epoch: 116 => Train loss: 0.010528, Train score: -0.010528, Val loss: 2.472472, Val score: -2.472472\n",
      "Epoch: 117 => Train loss: 0.018259, Train score: -0.018259, Val loss: 2.439192, Val score: -2.439192\n",
      "Epoch: 118 => Train loss: 0.025106, Train score: -0.025106, Val loss: 2.498264, Val score: -2.498264\n",
      "Epoch: 119 => Train loss: 0.027254, Train score: -0.027254, Val loss: 2.435123, Val score: -2.435123\n",
      "Epoch: 120 => Train loss: 0.033584, Train score: -0.033584, Val loss: 2.540719, Val score: -2.540719\n",
      "Epoch: 121 => Train loss: 0.035601, Train score: -0.035601, Val loss: 2.553453, Val score: -2.553453\n",
      "Epoch: 122 => Train loss: 0.038649, Train score: -0.038649, Val loss: 2.664320, Val score: -2.664320\n",
      "Epoch: 123 => Train loss: 0.044824, Train score: -0.044824, Val loss: 2.477797, Val score: -2.477797\n",
      "Epoch: 124 => Train loss: 0.035998, Train score: -0.035998, Val loss: 2.444263, Val score: -2.444263\n",
      "Epoch: 125 => Train loss: 0.035288, Train score: -0.035288, Val loss: 2.413654, Val score: -2.413654\n",
      "Epoch: 126 => Train loss: 0.085396, Train score: -0.085396, Val loss: 2.487675, Val score: -2.487675\n",
      "Epoch: 127 => Train loss: 0.070289, Train score: -0.070289, Val loss: 2.503076, Val score: -2.503076\n",
      "Epoch: 128 => Train loss: 0.052198, Train score: -0.052198, Val loss: 2.405018, Val score: -2.405018\n",
      "Epoch: 129 => Train loss: 0.034345, Train score: -0.034345, Val loss: 2.505757, Val score: -2.505757\n",
      "Epoch: 130 => Train loss: 0.026021, Train score: -0.026021, Val loss: 2.427423, Val score: -2.427423\n",
      "Epoch: 131 => Train loss: 0.021395, Train score: -0.021395, Val loss: 2.537040, Val score: -2.537040\n",
      "Epoch: 132 => Train loss: 0.031635, Train score: -0.031635, Val loss: 2.434582, Val score: -2.434582\n",
      "Epoch: 133 => Train loss: 0.030282, Train score: -0.030282, Val loss: 2.486006, Val score: -2.486006\n",
      "Epoch: 134 => Train loss: 0.024096, Train score: -0.024096, Val loss: 2.505797, Val score: -2.505797\n",
      "Epoch: 135 => Train loss: 0.018553, Train score: -0.018553, Val loss: 2.486273, Val score: -2.486273\n",
      "Epoch: 136 => Train loss: 0.017231, Train score: -0.017231, Val loss: 2.485681, Val score: -2.485681\n",
      "Epoch: 137 => Train loss: 0.015764, Train score: -0.015764, Val loss: 2.499143, Val score: -2.499143\n",
      "Epoch: 138 => Train loss: 0.022212, Train score: -0.022212, Val loss: 2.463250, Val score: -2.463250\n",
      "Epoch: 139 => Train loss: 0.013655, Train score: -0.013655, Val loss: 2.501327, Val score: -2.501327\n",
      "Epoch: 140 => Train loss: 0.011800, Train score: -0.011800, Val loss: 2.435282, Val score: -2.435282\n",
      "Epoch: 141 => Train loss: 0.013951, Train score: -0.013951, Val loss: 2.456288, Val score: -2.456288\n",
      "Epoch: 142 => Train loss: 0.011916, Train score: -0.011916, Val loss: 2.536580, Val score: -2.536580\n",
      "Epoch: 143 => Train loss: 0.009294, Train score: -0.009294, Val loss: 2.476605, Val score: -2.476605\n",
      "Epoch: 144 => Train loss: 0.009010, Train score: -0.009010, Val loss: 2.492185, Val score: -2.492185\n",
      "Epoch: 145 => Train loss: 0.022075, Train score: -0.022075, Val loss: 2.460416, Val score: -2.460416\n",
      "Epoch: 146 => Train loss: 0.022679, Train score: -0.022679, Val loss: 2.421738, Val score: -2.421738\n",
      "Epoch: 147 => Train loss: 0.027891, Train score: -0.027891, Val loss: 2.601913, Val score: -2.601913\n",
      "Epoch: 148 => Train loss: 0.029285, Train score: -0.029285, Val loss: 2.425799, Val score: -2.425799\n",
      "Epoch: 149 => Train loss: 0.018004, Train score: -0.018004, Val loss: 2.453604, Val score: -2.453604\n",
      "Epoch: 150 => Train loss: 0.023038, Train score: -0.023038, Val loss: 2.482871, Val score: -2.482871\n",
      "Epoch: 151 => Train loss: 0.021971, Train score: -0.021971, Val loss: 2.445096, Val score: -2.445096\n",
      "Epoch: 152 => Train loss: 0.019895, Train score: -0.019895, Val loss: 2.462856, Val score: -2.462856\n",
      "Epoch: 153 => Train loss: 0.023281, Train score: -0.023281, Val loss: 2.409006, Val score: -2.409006\n",
      "Epoch: 154 => Train loss: 0.016285, Train score: -0.016285, Val loss: 2.360594, Val score: -2.360594\n",
      "Epoch: 155 => Train loss: 0.014010, Train score: -0.014010, Val loss: 2.501418, Val score: -2.501418\n",
      "Epoch: 156 => Train loss: 0.021334, Train score: -0.021334, Val loss: 2.480707, Val score: -2.480707\n",
      "Epoch: 157 => Train loss: 0.040678, Train score: -0.040678, Val loss: 2.444268, Val score: -2.444268\n",
      "Epoch: 158 => Train loss: 0.046358, Train score: -0.046358, Val loss: 2.411028, Val score: -2.411028\n",
      "Epoch: 159 => Train loss: 0.026232, Train score: -0.026232, Val loss: 2.428936, Val score: -2.428936\n",
      "Epoch: 160 => Train loss: 0.025253, Train score: -0.025253, Val loss: 2.531999, Val score: -2.531999\n",
      "Epoch: 161 => Train loss: 0.023694, Train score: -0.023694, Val loss: 2.429201, Val score: -2.429201\n",
      "Epoch: 162 => Train loss: 0.022236, Train score: -0.022236, Val loss: 2.450048, Val score: -2.450048\n",
      "Epoch: 163 => Train loss: 0.017485, Train score: -0.017485, Val loss: 2.459445, Val score: -2.459445\n",
      "Epoch: 164 => Train loss: 0.015678, Train score: -0.015678, Val loss: 2.476397, Val score: -2.476397\n",
      "Epoch: 165 => Train loss: 0.017880, Train score: -0.017880, Val loss: 2.402642, Val score: -2.402642\n",
      "Epoch: 166 => Train loss: 0.018919, Train score: -0.018919, Val loss: 2.367309, Val score: -2.367309\n",
      "Epoch: 167 => Train loss: 0.018199, Train score: -0.018199, Val loss: 2.473606, Val score: -2.473606\n",
      "Epoch: 168 => Train loss: 0.023032, Train score: -0.023032, Val loss: 2.507107, Val score: -2.507107\n",
      "Epoch: 169 => Train loss: 0.025078, Train score: -0.025078, Val loss: 2.422092, Val score: -2.422092\n",
      "Epoch: 170 => Train loss: 0.029256, Train score: -0.029256, Val loss: 2.432276, Val score: -2.432276\n",
      "Epoch: 171 => Train loss: 0.020041, Train score: -0.020041, Val loss: 2.449291, Val score: -2.449291\n",
      "Epoch: 172 => Train loss: 0.015670, Train score: -0.015670, Val loss: 2.458002, Val score: -2.458002\n",
      "Epoch: 173 => Train loss: 0.013628, Train score: -0.013628, Val loss: 2.366046, Val score: -2.366046\n",
      "Epoch: 174 => Train loss: 0.016480, Train score: -0.016480, Val loss: 2.449335, Val score: -2.449335\n",
      "Epoch: 175 => Train loss: 0.012763, Train score: -0.012763, Val loss: 2.463207, Val score: -2.463207\n",
      "Epoch: 176 => Train loss: 0.010834, Train score: -0.010834, Val loss: 2.421770, Val score: -2.421770\n",
      "Epoch: 177 => Train loss: 0.009455, Train score: -0.009455, Val loss: 2.448508, Val score: -2.448508\n",
      "Epoch: 178 => Train loss: 0.008737, Train score: -0.008737, Val loss: 2.472576, Val score: -2.472576\n",
      "Epoch: 179 => Train loss: 0.011520, Train score: -0.011520, Val loss: 2.451484, Val score: -2.451484\n",
      "Epoch: 180 => Train loss: 0.018298, Train score: -0.018298, Val loss: 2.395908, Val score: -2.395908\n",
      "Epoch: 181 => Train loss: 0.018297, Train score: -0.018297, Val loss: 2.390577, Val score: -2.390577\n",
      "Epoch: 182 => Train loss: 0.025569, Train score: -0.025569, Val loss: 2.342504, Val score: -2.342504\n",
      "Epoch: 183 => Train loss: 0.025520, Train score: -0.025520, Val loss: 2.401991, Val score: -2.401991\n",
      "Epoch: 184 => Train loss: 0.017635, Train score: -0.017635, Val loss: 2.470731, Val score: -2.470731\n",
      "Epoch: 185 => Train loss: 0.019467, Train score: -0.019467, Val loss: 2.390684, Val score: -2.390684\n",
      "Epoch: 186 => Train loss: 0.018494, Train score: -0.018494, Val loss: 2.384097, Val score: -2.384097\n",
      "Epoch: 187 => Train loss: 0.016530, Train score: -0.016530, Val loss: 2.384257, Val score: -2.384257\n",
      "Epoch: 188 => Train loss: 0.013916, Train score: -0.013916, Val loss: 2.430267, Val score: -2.430267\n",
      "Epoch: 189 => Train loss: 0.015104, Train score: -0.015104, Val loss: 2.475015, Val score: -2.475015\n",
      "Epoch: 190 => Train loss: 0.031677, Train score: -0.031677, Val loss: 2.533720, Val score: -2.533720\n",
      "Epoch: 191 => Train loss: 0.053152, Train score: -0.053152, Val loss: 2.461596, Val score: -2.461596\n",
      "Epoch: 192 => Train loss: 0.105272, Train score: -0.105272, Val loss: 2.526672, Val score: -2.526672\n",
      "Epoch: 193 => Train loss: 0.060854, Train score: -0.060854, Val loss: 2.381894, Val score: -2.381894\n",
      "Epoch: 194 => Train loss: 0.046779, Train score: -0.046779, Val loss: 2.359772, Val score: -2.359772\n",
      "Epoch: 195 => Train loss: 0.035127, Train score: -0.035127, Val loss: 2.376133, Val score: -2.376133\n",
      "Epoch: 196 => Train loss: 0.028793, Train score: -0.028793, Val loss: 2.418897, Val score: -2.418897\n",
      "Epoch: 197 => Train loss: 0.026140, Train score: -0.026140, Val loss: 2.364322, Val score: -2.364322\n",
      "Epoch: 198 => Train loss: 0.021229, Train score: -0.021229, Val loss: 2.409719, Val score: -2.409719\n",
      "Epoch: 199 => Train loss: 0.013288, Train score: -0.013288, Val loss: 2.393391, Val score: -2.393391\n",
      "Epoch: 200 => Train loss: 0.011036, Train score: -0.011036, Val loss: 2.467164, Val score: -2.467164\n",
      "Epoch: 201 => Train loss: 0.011011, Train score: -0.011011, Val loss: 2.398869, Val score: -2.398869\n",
      "Epoch: 202 => Train loss: 0.009895, Train score: -0.009895, Val loss: 2.389244, Val score: -2.389244\n",
      "Epoch: 203 => Train loss: 0.006115, Train score: -0.006115, Val loss: 2.449736, Val score: -2.449736\n",
      "Epoch: 204 => Train loss: 0.005570, Train score: -0.005570, Val loss: 2.389679, Val score: -2.389679\n",
      "Epoch: 205 => Train loss: 0.006016, Train score: -0.006016, Val loss: 2.361873, Val score: -2.361873\n",
      "Epoch: 206 => Train loss: 0.005266, Train score: -0.005266, Val loss: 2.381310, Val score: -2.381310\n",
      "Epoch: 207 => Train loss: 0.004987, Train score: -0.004987, Val loss: 2.399377, Val score: -2.399377\n",
      "Epoch: 208 => Train loss: 0.005552, Train score: -0.005552, Val loss: 2.370257, Val score: -2.370257\n",
      "Epoch: 209 => Train loss: 0.006237, Train score: -0.006237, Val loss: 2.361562, Val score: -2.361562\n",
      "Epoch: 210 => Train loss: 0.005570, Train score: -0.005570, Val loss: 2.426678, Val score: -2.426678\n",
      "Epoch: 211 => Train loss: 0.004175, Train score: -0.004175, Val loss: 2.362864, Val score: -2.362864\n",
      "Epoch: 212 => Train loss: 0.003605, Train score: -0.003605, Val loss: 2.377315, Val score: -2.377315\n",
      "Epoch: 213 => Train loss: 0.003559, Train score: -0.003559, Val loss: 2.383008, Val score: -2.383008\n",
      "Epoch: 214 => Train loss: 0.002469, Train score: -0.002469, Val loss: 2.374046, Val score: -2.374046\n",
      "Epoch: 215 => Train loss: 0.002589, Train score: -0.002589, Val loss: 2.379644, Val score: -2.379644\n",
      "Epoch: 216 => Train loss: 0.003949, Train score: -0.003949, Val loss: 2.398867, Val score: -2.398867\n",
      "Epoch: 217 => Train loss: 0.006541, Train score: -0.006541, Val loss: 2.450827, Val score: -2.450827\n",
      "Epoch: 218 => Train loss: 0.016954, Train score: -0.016954, Val loss: 2.474480, Val score: -2.474480\n",
      "Epoch: 219 => Train loss: 0.033728, Train score: -0.033728, Val loss: 2.481966, Val score: -2.481966\n",
      "Epoch: 220 => Train loss: 0.047818, Train score: -0.047818, Val loss: 2.461584, Val score: -2.461584\n",
      "Epoch: 221 => Train loss: 0.047575, Train score: -0.047575, Val loss: 2.416532, Val score: -2.416532\n",
      "Epoch: 222 => Train loss: 0.046667, Train score: -0.046667, Val loss: 2.385983, Val score: -2.385983\n",
      "Epoch: 223 => Train loss: 0.103421, Train score: -0.103421, Val loss: 2.430466, Val score: -2.430466\n",
      "Epoch: 224 => Train loss: 0.059787, Train score: -0.059787, Val loss: 2.381395, Val score: -2.381395\n",
      "Epoch: 225 => Train loss: 0.054601, Train score: -0.054601, Val loss: 2.485507, Val score: -2.485507\n",
      "Epoch: 226 => Train loss: 0.041903, Train score: -0.041903, Val loss: 2.382610, Val score: -2.382610\n",
      "Epoch: 227 => Train loss: 0.030087, Train score: -0.030087, Val loss: 2.339130, Val score: -2.339130\n",
      "Epoch: 228 => Train loss: 0.018770, Train score: -0.018770, Val loss: 2.355712, Val score: -2.355712\n",
      "Epoch: 229 => Train loss: 0.010795, Train score: -0.010795, Val loss: 2.327831, Val score: -2.327831\n",
      "Epoch: 230 => Train loss: 0.009181, Train score: -0.009181, Val loss: 2.366433, Val score: -2.366433\n",
      "Epoch: 231 => Train loss: 0.006514, Train score: -0.006514, Val loss: 2.349639, Val score: -2.349639\n",
      "Epoch: 232 => Train loss: 0.004354, Train score: -0.004354, Val loss: 2.345045, Val score: -2.345045\n",
      "Epoch: 233 => Train loss: 0.003253, Train score: -0.003253, Val loss: 2.333495, Val score: -2.333495\n",
      "Epoch: 234 => Train loss: 0.002248, Train score: -0.002248, Val loss: 2.345996, Val score: -2.345996\n",
      "Epoch: 235 => Train loss: 0.001561, Train score: -0.001561, Val loss: 2.373405, Val score: -2.373405\n",
      "Epoch: 236 => Train loss: 0.001066, Train score: -0.001066, Val loss: 2.342386, Val score: -2.342386\n",
      "Epoch: 237 => Train loss: 0.001004, Train score: -0.001004, Val loss: 2.359415, Val score: -2.359415\n",
      "Epoch: 238 => Train loss: 0.000933, Train score: -0.000933, Val loss: 2.354781, Val score: -2.354781\n",
      "Epoch: 239 => Train loss: 0.001111, Train score: -0.001111, Val loss: 2.345162, Val score: -2.345162\n",
      "Epoch: 240 => Train loss: 0.000912, Train score: -0.000912, Val loss: 2.357147, Val score: -2.357147\n",
      "Epoch: 241 => Train loss: 0.000743, Train score: -0.000743, Val loss: 2.344116, Val score: -2.344116\n",
      "Epoch: 242 => Train loss: 0.000750, Train score: -0.000750, Val loss: 2.341991, Val score: -2.341991\n",
      "Epoch: 243 => Train loss: 0.000722, Train score: -0.000722, Val loss: 2.351155, Val score: -2.351155\n",
      "Epoch: 244 => Train loss: 0.000947, Train score: -0.000947, Val loss: 2.352946, Val score: -2.352946\n",
      "Epoch: 245 => Train loss: 0.001057, Train score: -0.001057, Val loss: 2.347423, Val score: -2.347423\n",
      "Epoch: 246 => Train loss: 0.001548, Train score: -0.001548, Val loss: 2.374710, Val score: -2.374710\n",
      "Epoch: 247 => Train loss: 0.003525, Train score: -0.003525, Val loss: 2.371179, Val score: -2.371179\n",
      "Epoch: 248 => Train loss: 0.003584, Train score: -0.003584, Val loss: 2.338954, Val score: -2.338954\n",
      "Epoch: 249 => Train loss: 0.003250, Train score: -0.003250, Val loss: 2.355870, Val score: -2.355870\n",
      "Epoch: 250 => Train loss: 0.002629, Train score: -0.002629, Val loss: 2.403944, Val score: -2.403944\n",
      "Epoch: 251 => Train loss: 0.004419, Train score: -0.004419, Val loss: 2.376221, Val score: -2.376221\n",
      "Epoch: 252 => Train loss: 0.007179, Train score: -0.007179, Val loss: 2.325984, Val score: -2.325984\n",
      "Epoch: 253 => Train loss: 0.011556, Train score: -0.011556, Val loss: 2.318209, Val score: -2.318209\n",
      "Epoch: 254 => Train loss: 0.014279, Train score: -0.014279, Val loss: 2.324474, Val score: -2.324474\n",
      "Epoch: 255 => Train loss: 0.014665, Train score: -0.014665, Val loss: 2.396515, Val score: -2.396515\n",
      "Epoch: 256 => Train loss: 0.013242, Train score: -0.013242, Val loss: 2.310051, Val score: -2.310051\n",
      "Epoch: 257 => Train loss: 0.021412, Train score: -0.021412, Val loss: 2.350658, Val score: -2.350658\n",
      "Epoch: 258 => Train loss: 0.025623, Train score: -0.025623, Val loss: 2.337123, Val score: -2.337123\n",
      "Epoch: 259 => Train loss: 0.031738, Train score: -0.031738, Val loss: 2.345990, Val score: -2.345990\n",
      "Epoch: 260 => Train loss: 0.042974, Train score: -0.042974, Val loss: 2.319957, Val score: -2.319957\n",
      "Epoch: 261 => Train loss: 0.032869, Train score: -0.032869, Val loss: 2.392543, Val score: -2.392543\n",
      "Epoch: 262 => Train loss: 0.029980, Train score: -0.029980, Val loss: 2.368495, Val score: -2.368495\n",
      "Epoch: 263 => Train loss: 0.050097, Train score: -0.050097, Val loss: 2.490894, Val score: -2.490894\n",
      "Epoch: 264 => Train loss: 0.099335, Train score: -0.099335, Val loss: 2.476757, Val score: -2.476757\n",
      "Epoch: 265 => Train loss: 0.080125, Train score: -0.080125, Val loss: 2.339277, Val score: -2.339277\n",
      "Epoch: 266 => Train loss: 0.043742, Train score: -0.043742, Val loss: 2.325711, Val score: -2.325711\n",
      "Epoch: 267 => Train loss: 0.025590, Train score: -0.025590, Val loss: 2.283138, Val score: -2.283138\n",
      "Epoch: 268 => Train loss: 0.017236, Train score: -0.017236, Val loss: 2.298099, Val score: -2.298099\n",
      "Epoch: 269 => Train loss: 0.012145, Train score: -0.012145, Val loss: 2.277485, Val score: -2.277485\n",
      "Epoch: 270 => Train loss: 0.006783, Train score: -0.006783, Val loss: 2.327559, Val score: -2.327559\n",
      "Epoch: 271 => Train loss: 0.003052, Train score: -0.003052, Val loss: 2.296870, Val score: -2.296870\n",
      "Epoch: 272 => Train loss: 0.003504, Train score: -0.003504, Val loss: 2.306524, Val score: -2.306524\n",
      "Epoch: 273 => Train loss: 0.002957, Train score: -0.002957, Val loss: 2.313905, Val score: -2.313905\n",
      "Epoch: 274 => Train loss: 0.002016, Train score: -0.002016, Val loss: 2.317582, Val score: -2.317582\n",
      "Epoch: 275 => Train loss: 0.003187, Train score: -0.003187, Val loss: 2.327235, Val score: -2.327235\n",
      "Epoch: 276 => Train loss: 0.002926, Train score: -0.002926, Val loss: 2.307626, Val score: -2.307626\n",
      "Epoch: 277 => Train loss: 0.004265, Train score: -0.004265, Val loss: 2.297733, Val score: -2.297733\n",
      "Epoch: 278 => Train loss: 0.004802, Train score: -0.004802, Val loss: 2.327292, Val score: -2.327292\n",
      "Epoch: 279 => Train loss: 0.004037, Train score: -0.004037, Val loss: 2.308586, Val score: -2.308586\n",
      "Epoch: 280 => Train loss: 0.003044, Train score: -0.003044, Val loss: 2.287503, Val score: -2.287503\n",
      "Epoch: 281 => Train loss: 0.002478, Train score: -0.002478, Val loss: 2.318380, Val score: -2.318380\n",
      "Epoch: 282 => Train loss: 0.002170, Train score: -0.002170, Val loss: 2.314327, Val score: -2.314327\n",
      "Epoch: 283 => Train loss: 0.001792, Train score: -0.001792, Val loss: 2.331331, Val score: -2.331331\n",
      "Epoch: 284 => Train loss: 0.001601, Train score: -0.001601, Val loss: 2.299084, Val score: -2.299084\n",
      "Epoch: 285 => Train loss: 0.001579, Train score: -0.001579, Val loss: 2.288046, Val score: -2.288046\n",
      "Epoch: 286 => Train loss: 0.001689, Train score: -0.001689, Val loss: 2.316363, Val score: -2.316363\n",
      "Epoch: 287 => Train loss: 0.001484, Train score: -0.001484, Val loss: 2.302739, Val score: -2.302739\n",
      "Epoch: 288 => Train loss: 0.002165, Train score: -0.002165, Val loss: 2.286689, Val score: -2.286689\n",
      "Epoch: 289 => Train loss: 0.003243, Train score: -0.003243, Val loss: 2.335582, Val score: -2.335582\n",
      "Epoch: 290 => Train loss: 0.003955, Train score: -0.003955, Val loss: 2.298895, Val score: -2.298895\n",
      "Epoch: 291 => Train loss: 0.006317, Train score: -0.006317, Val loss: 2.283153, Val score: -2.283153\n",
      "Epoch: 292 => Train loss: 0.011492, Train score: -0.011492, Val loss: 2.341450, Val score: -2.341450\n",
      "Epoch: 293 => Train loss: 0.012436, Train score: -0.012436, Val loss: 2.309325, Val score: -2.309325\n",
      "Epoch: 294 => Train loss: 0.018677, Train score: -0.018677, Val loss: 2.287532, Val score: -2.287532\n",
      "Epoch: 295 => Train loss: 0.033797, Train score: -0.033797, Val loss: 2.314940, Val score: -2.314940\n",
      "Epoch: 296 => Train loss: 0.044603, Train score: -0.044603, Val loss: 2.387296, Val score: -2.387296\n",
      "Epoch: 297 => Train loss: 0.025137, Train score: -0.025137, Val loss: 2.287732, Val score: -2.287732\n",
      "Epoch: 298 => Train loss: 0.026248, Train score: -0.026248, Val loss: 2.418475, Val score: -2.418475\n",
      "Epoch: 299 => Train loss: 0.023914, Train score: -0.023914, Val loss: 2.296330, Val score: -2.296330\n",
      "Epoch: 300 => Train loss: 0.020155, Train score: -0.020155, Val loss: 2.256776, Val score: -2.256776\n",
      "Epoch: 301 => Train loss: 0.031896, Train score: -0.031896, Val loss: 2.274056, Val score: -2.274056\n",
      "Epoch: 302 => Train loss: 0.023177, Train score: -0.023177, Val loss: 2.275040, Val score: -2.275040\n",
      "Epoch: 303 => Train loss: 0.020962, Train score: -0.020962, Val loss: 2.298011, Val score: -2.298011\n",
      "Epoch: 304 => Train loss: 0.016550, Train score: -0.016550, Val loss: 2.242290, Val score: -2.242290\n",
      "Epoch: 305 => Train loss: 0.018432, Train score: -0.018432, Val loss: 2.349992, Val score: -2.349992\n",
      "Epoch: 306 => Train loss: 0.016147, Train score: -0.016147, Val loss: 2.356639, Val score: -2.356639\n",
      "Epoch: 307 => Train loss: 0.010815, Train score: -0.010815, Val loss: 2.294436, Val score: -2.294436\n",
      "Epoch: 308 => Train loss: 0.007631, Train score: -0.007631, Val loss: 2.262107, Val score: -2.262107\n",
      "Epoch: 309 => Train loss: 0.006793, Train score: -0.006793, Val loss: 2.321603, Val score: -2.321603\n",
      "Epoch: 310 => Train loss: 0.005833, Train score: -0.005833, Val loss: 2.300942, Val score: -2.300942\n",
      "Epoch: 311 => Train loss: 0.006138, Train score: -0.006138, Val loss: 2.314088, Val score: -2.314088\n",
      "Epoch: 312 => Train loss: 0.006847, Train score: -0.006847, Val loss: 2.273211, Val score: -2.273211\n",
      "Epoch: 313 => Train loss: 0.004554, Train score: -0.004554, Val loss: 2.311249, Val score: -2.311249\n",
      "Epoch: 314 => Train loss: 0.004466, Train score: -0.004466, Val loss: 2.305663, Val score: -2.305663\n",
      "Epoch: 315 => Train loss: 0.006383, Train score: -0.006383, Val loss: 2.303889, Val score: -2.303889\n",
      "Epoch: 316 => Train loss: 0.005295, Train score: -0.005295, Val loss: 2.268243, Val score: -2.268243\n",
      "Epoch: 317 => Train loss: 0.005063, Train score: -0.005063, Val loss: 2.322620, Val score: -2.322620\n",
      "Epoch: 318 => Train loss: 0.006038, Train score: -0.006038, Val loss: 2.296117, Val score: -2.296117\n",
      "Epoch: 319 => Train loss: 0.005150, Train score: -0.005150, Val loss: 2.243879, Val score: -2.243879\n",
      "Epoch: 320 => Train loss: 0.005992, Train score: -0.005992, Val loss: 2.271594, Val score: -2.271594\n",
      "Epoch: 321 => Train loss: 0.004907, Train score: -0.004907, Val loss: 2.295861, Val score: -2.295861\n",
      "Epoch: 322 => Train loss: 0.003809, Train score: -0.003809, Val loss: 2.248343, Val score: -2.248343\n",
      "Epoch: 323 => Train loss: 0.006139, Train score: -0.006139, Val loss: 2.272097, Val score: -2.272097\n",
      "Epoch: 324 => Train loss: 0.006227, Train score: -0.006227, Val loss: 2.282830, Val score: -2.282830\n",
      "Epoch: 325 => Train loss: 0.005507, Train score: -0.005507, Val loss: 2.255829, Val score: -2.255829\n",
      "Epoch: 326 => Train loss: 0.007272, Train score: -0.007272, Val loss: 2.279982, Val score: -2.279982\n",
      "Epoch: 327 => Train loss: 0.005797, Train score: -0.005797, Val loss: 2.262546, Val score: -2.262546\n",
      "Epoch: 328 => Train loss: 0.007795, Train score: -0.007795, Val loss: 2.285532, Val score: -2.285532\n",
      "Epoch: 329 => Train loss: 0.012581, Train score: -0.012581, Val loss: 2.325896, Val score: -2.325896\n",
      "Epoch: 330 => Train loss: 0.020544, Train score: -0.020544, Val loss: 2.285544, Val score: -2.285544\n",
      "Epoch: 331 => Train loss: 0.020484, Train score: -0.020484, Val loss: 2.237779, Val score: -2.237779\n",
      "Epoch: 332 => Train loss: 0.022799, Train score: -0.022799, Val loss: 2.400520, Val score: -2.400520\n",
      "Epoch: 333 => Train loss: 0.075082, Train score: -0.075082, Val loss: 2.465013, Val score: -2.465013\n",
      "Epoch: 334 => Train loss: 0.089735, Train score: -0.089735, Val loss: 2.209661, Val score: -2.209661\n",
      "Epoch: 335 => Train loss: 0.067497, Train score: -0.067497, Val loss: 2.293024, Val score: -2.293024\n",
      "Epoch: 336 => Train loss: 0.052723, Train score: -0.052723, Val loss: 2.264088, Val score: -2.264088\n",
      "Epoch: 337 => Train loss: 0.031005, Train score: -0.031005, Val loss: 2.247603, Val score: -2.247603\n",
      "Epoch: 338 => Train loss: 0.018067, Train score: -0.018067, Val loss: 2.287755, Val score: -2.287755\n",
      "Epoch: 339 => Train loss: 0.012503, Train score: -0.012503, Val loss: 2.293394, Val score: -2.293394\n",
      "Epoch: 340 => Train loss: 0.007833, Train score: -0.007833, Val loss: 2.265831, Val score: -2.265831\n",
      "Epoch: 341 => Train loss: 0.006372, Train score: -0.006372, Val loss: 2.250373, Val score: -2.250373\n",
      "Epoch: 342 => Train loss: 0.005563, Train score: -0.005563, Val loss: 2.268276, Val score: -2.268276\n",
      "Epoch: 343 => Train loss: 0.005528, Train score: -0.005528, Val loss: 2.307607, Val score: -2.307607\n",
      "Epoch: 344 => Train loss: 0.005779, Train score: -0.005779, Val loss: 2.235369, Val score: -2.235369\n",
      "Epoch: 345 => Train loss: 0.005548, Train score: -0.005548, Val loss: 2.262907, Val score: -2.262907\n",
      "Epoch: 346 => Train loss: 0.003229, Train score: -0.003229, Val loss: 2.270144, Val score: -2.270144\n",
      "Epoch: 347 => Train loss: 0.002189, Train score: -0.002189, Val loss: 2.261564, Val score: -2.261564\n",
      "Epoch: 348 => Train loss: 0.001947, Train score: -0.001947, Val loss: 2.281816, Val score: -2.281816\n",
      "Epoch: 349 => Train loss: 0.002068, Train score: -0.002068, Val loss: 2.267425, Val score: -2.267425\n",
      "Epoch: 350 => Train loss: 0.001248, Train score: -0.001248, Val loss: 2.272135, Val score: -2.272135\n",
      "Epoch: 351 => Train loss: 0.000963, Train score: -0.000963, Val loss: 2.265854, Val score: -2.265854\n",
      "Epoch: 352 => Train loss: 0.000639, Train score: -0.000639, Val loss: 2.258844, Val score: -2.258844\n",
      "Epoch: 353 => Train loss: 0.000511, Train score: -0.000511, Val loss: 2.261915, Val score: -2.261915\n",
      "Epoch: 354 => Train loss: 0.000438, Train score: -0.000438, Val loss: 2.269668, Val score: -2.269668\n",
      "Epoch: 355 => Train loss: 0.000598, Train score: -0.000598, Val loss: 2.259400, Val score: -2.259400\n",
      "Epoch: 356 => Train loss: 0.000741, Train score: -0.000741, Val loss: 2.256481, Val score: -2.256481\n",
      "Epoch: 357 => Train loss: 0.001174, Train score: -0.001174, Val loss: 2.256613, Val score: -2.256613\n",
      "Epoch: 358 => Train loss: 0.002677, Train score: -0.002677, Val loss: 2.254684, Val score: -2.254684\n",
      "Epoch: 359 => Train loss: 0.004141, Train score: -0.004141, Val loss: 2.266881, Val score: -2.266881\n",
      "Epoch: 360 => Train loss: 0.008368, Train score: -0.008368, Val loss: 2.328741, Val score: -2.328741\n",
      "Epoch: 361 => Train loss: 0.011775, Train score: -0.011775, Val loss: 2.236212, Val score: -2.236212\n",
      "Epoch: 362 => Train loss: 0.014367, Train score: -0.014367, Val loss: 2.293265, Val score: -2.293265\n",
      "Epoch: 363 => Train loss: 0.014857, Train score: -0.014857, Val loss: 2.254072, Val score: -2.254072\n",
      "Epoch: 364 => Train loss: 0.013710, Train score: -0.013710, Val loss: 2.363971, Val score: -2.363971\n",
      "Epoch: 365 => Train loss: 0.020812, Train score: -0.020812, Val loss: 2.336876, Val score: -2.336876\n",
      "Epoch: 366 => Train loss: 0.025810, Train score: -0.025810, Val loss: 2.301678, Val score: -2.301678\n",
      "Epoch: 367 => Train loss: 0.037620, Train score: -0.037620, Val loss: 2.287672, Val score: -2.287672\n",
      "Epoch: 368 => Train loss: 0.030221, Train score: -0.030221, Val loss: 2.273008, Val score: -2.273008\n",
      "Epoch: 369 => Train loss: 0.017602, Train score: -0.017602, Val loss: 2.271849, Val score: -2.271849\n",
      "Epoch: 370 => Train loss: 0.013608, Train score: -0.013608, Val loss: 2.279871, Val score: -2.279871\n",
      "Epoch: 371 => Train loss: 0.013631, Train score: -0.013631, Val loss: 2.248023, Val score: -2.248023\n",
      "Epoch: 372 => Train loss: 0.017366, Train score: -0.017366, Val loss: 2.242138, Val score: -2.242138\n",
      "Epoch: 373 => Train loss: 0.026947, Train score: -0.026947, Val loss: 2.282095, Val score: -2.282095\n",
      "Epoch: 374 => Train loss: 0.019178, Train score: -0.019178, Val loss: 2.228332, Val score: -2.228332\n",
      "Epoch: 375 => Train loss: 0.011163, Train score: -0.011163, Val loss: 2.219562, Val score: -2.219562\n",
      "Epoch: 376 => Train loss: 0.007804, Train score: -0.007804, Val loss: 2.223856, Val score: -2.223856\n",
      "Epoch: 377 => Train loss: 0.006798, Train score: -0.006798, Val loss: 2.253660, Val score: -2.253660\n",
      "Epoch: 378 => Train loss: 0.005268, Train score: -0.005268, Val loss: 2.265727, Val score: -2.265727\n",
      "Epoch: 379 => Train loss: 0.005724, Train score: -0.005724, Val loss: 2.249603, Val score: -2.249603\n",
      "Epoch: 380 => Train loss: 0.004978, Train score: -0.004978, Val loss: 2.218602, Val score: -2.218602\n",
      "Epoch: 381 => Train loss: 0.004036, Train score: -0.004036, Val loss: 2.244415, Val score: -2.244415\n",
      "Epoch: 382 => Train loss: 0.004217, Train score: -0.004217, Val loss: 2.230722, Val score: -2.230722\n",
      "Epoch: 383 => Train loss: 0.005422, Train score: -0.005422, Val loss: 2.275041, Val score: -2.275041\n",
      "Epoch: 384 => Train loss: 0.005050, Train score: -0.005050, Val loss: 2.247020, Val score: -2.247020\n",
      "Epoch: 385 => Train loss: 0.005890, Train score: -0.005890, Val loss: 2.239817, Val score: -2.239817\n",
      "Epoch: 386 => Train loss: 0.011792, Train score: -0.011792, Val loss: 2.340894, Val score: -2.340894\n",
      "Epoch: 387 => Train loss: 0.019361, Train score: -0.019361, Val loss: 2.362170, Val score: -2.362170\n",
      "Epoch: 388 => Train loss: 0.025345, Train score: -0.025345, Val loss: 2.242880, Val score: -2.242880\n",
      "Epoch: 389 => Train loss: 0.024727, Train score: -0.024727, Val loss: 2.250144, Val score: -2.250144\n",
      "Epoch: 390 => Train loss: 0.016115, Train score: -0.016115, Val loss: 2.232660, Val score: -2.232660\n",
      "Epoch: 391 => Train loss: 0.019350, Train score: -0.019350, Val loss: 2.208889, Val score: -2.208889\n",
      "Epoch: 392 => Train loss: 0.030629, Train score: -0.030629, Val loss: 2.280716, Val score: -2.280716\n",
      "Epoch: 393 => Train loss: 0.041601, Train score: -0.041601, Val loss: 2.232485, Val score: -2.232485\n",
      "Epoch: 394 => Train loss: 0.040278, Train score: -0.040278, Val loss: 2.269167, Val score: -2.269167\n",
      "Epoch: 395 => Train loss: 0.035066, Train score: -0.035066, Val loss: 2.288196, Val score: -2.288196\n",
      "Epoch: 396 => Train loss: 0.023248, Train score: -0.023248, Val loss: 2.260310, Val score: -2.260310\n",
      "Epoch: 397 => Train loss: 0.017214, Train score: -0.017214, Val loss: 2.250175, Val score: -2.250175\n",
      "Epoch: 398 => Train loss: 0.013287, Train score: -0.013287, Val loss: 2.279606, Val score: -2.279606\n",
      "Epoch: 399 => Train loss: 0.011970, Train score: -0.011970, Val loss: 2.239475, Val score: -2.239475\n",
      "Epoch: 400 => Train loss: 0.006951, Train score: -0.006951, Val loss: 2.231328, Val score: -2.231328\n",
      "Epoch: 401 => Train loss: 0.006792, Train score: -0.006792, Val loss: 2.232970, Val score: -2.232970\n",
      "Epoch: 402 => Train loss: 0.003391, Train score: -0.003391, Val loss: 2.226063, Val score: -2.226063\n",
      "Epoch: 403 => Train loss: 0.002069, Train score: -0.002069, Val loss: 2.222508, Val score: -2.222508\n",
      "Epoch: 404 => Train loss: 0.002095, Train score: -0.002095, Val loss: 2.234458, Val score: -2.234458\n",
      "Epoch: 405 => Train loss: 0.001511, Train score: -0.001511, Val loss: 2.222610, Val score: -2.222610\n",
      "Epoch: 406 => Train loss: 0.001019, Train score: -0.001019, Val loss: 2.225462, Val score: -2.225462\n",
      "Epoch: 407 => Train loss: 0.001086, Train score: -0.001086, Val loss: 2.231595, Val score: -2.231595\n",
      "Epoch: 408 => Train loss: 0.001233, Train score: -0.001233, Val loss: 2.226443, Val score: -2.226443\n",
      "Epoch: 409 => Train loss: 0.001249, Train score: -0.001249, Val loss: 2.211227, Val score: -2.211227\n",
      "Epoch: 410 => Train loss: 0.001159, Train score: -0.001159, Val loss: 2.220124, Val score: -2.220124\n",
      "Epoch: 411 => Train loss: 0.000926, Train score: -0.000926, Val loss: 2.209916, Val score: -2.209916\n",
      "Epoch: 412 => Train loss: 0.000792, Train score: -0.000792, Val loss: 2.224477, Val score: -2.224477\n",
      "Epoch: 413 => Train loss: 0.000768, Train score: -0.000768, Val loss: 2.211012, Val score: -2.211012\n",
      "Epoch: 414 => Train loss: 0.000734, Train score: -0.000734, Val loss: 2.231930, Val score: -2.231930\n",
      "Epoch: 415 => Train loss: 0.000575, Train score: -0.000575, Val loss: 2.215877, Val score: -2.215877\n",
      "Epoch: 416 => Train loss: 0.000654, Train score: -0.000654, Val loss: 2.235124, Val score: -2.235124\n",
      "Epoch: 417 => Train loss: 0.000564, Train score: -0.000564, Val loss: 2.234505, Val score: -2.234505\n",
      "Epoch: 418 => Train loss: 0.000526, Train score: -0.000526, Val loss: 2.215784, Val score: -2.215784\n",
      "Epoch: 419 => Train loss: 0.000779, Train score: -0.000779, Val loss: 2.228113, Val score: -2.228113\n",
      "Epoch: 420 => Train loss: 0.001049, Train score: -0.001049, Val loss: 2.225964, Val score: -2.225964\n",
      "Epoch: 421 => Train loss: 0.001026, Train score: -0.001026, Val loss: 2.222640, Val score: -2.222640\n",
      "Epoch: 422 => Train loss: 0.000841, Train score: -0.000841, Val loss: 2.221034, Val score: -2.221034\n",
      "Epoch: 423 => Train loss: 0.000977, Train score: -0.000977, Val loss: 2.212727, Val score: -2.212727\n",
      "Epoch: 424 => Train loss: 0.001863, Train score: -0.001863, Val loss: 2.222055, Val score: -2.222055\n",
      "Epoch: 425 => Train loss: 0.003378, Train score: -0.003378, Val loss: 2.237826, Val score: -2.237826\n",
      "Epoch: 426 => Train loss: 0.003927, Train score: -0.003927, Val loss: 2.240224, Val score: -2.240224\n",
      "Epoch: 427 => Train loss: 0.003913, Train score: -0.003913, Val loss: 2.200748, Val score: -2.200748\n",
      "Epoch: 428 => Train loss: 0.004756, Train score: -0.004756, Val loss: 2.191370, Val score: -2.191370\n",
      "Epoch: 429 => Train loss: 0.014536, Train score: -0.014536, Val loss: 2.229911, Val score: -2.229911\n",
      "Epoch: 430 => Train loss: 0.023657, Train score: -0.023657, Val loss: 2.310002, Val score: -2.310002\n",
      "Epoch: 431 => Train loss: 0.034968, Train score: -0.034968, Val loss: 2.350347, Val score: -2.350347\n",
      "Epoch: 432 => Train loss: 0.046465, Train score: -0.046465, Val loss: 2.259621, Val score: -2.259621\n",
      "Epoch: 433 => Train loss: 0.047843, Train score: -0.047843, Val loss: 2.161838, Val score: -2.161838\n",
      "Epoch: 434 => Train loss: 0.057596, Train score: -0.057596, Val loss: 2.147770, Val score: -2.147770\n",
      "Epoch: 435 => Train loss: 0.044843, Train score: -0.044843, Val loss: 2.228703, Val score: -2.228703\n",
      "Epoch: 436 => Train loss: 0.029281, Train score: -0.029281, Val loss: 2.164055, Val score: -2.164055\n",
      "Epoch: 437 => Train loss: 0.025135, Train score: -0.025135, Val loss: 2.236899, Val score: -2.236899\n",
      "Epoch: 438 => Train loss: 0.017284, Train score: -0.017284, Val loss: 2.199420, Val score: -2.199420\n",
      "Epoch: 439 => Train loss: 0.009321, Train score: -0.009321, Val loss: 2.191610, Val score: -2.191610\n",
      "Epoch: 440 => Train loss: 0.006504, Train score: -0.006504, Val loss: 2.182668, Val score: -2.182668\n",
      "Epoch: 441 => Train loss: 0.004455, Train score: -0.004455, Val loss: 2.221738, Val score: -2.221738\n",
      "Epoch: 442 => Train loss: 0.004158, Train score: -0.004158, Val loss: 2.234921, Val score: -2.234921\n",
      "Epoch: 443 => Train loss: 0.003236, Train score: -0.003236, Val loss: 2.221046, Val score: -2.221046\n",
      "Epoch: 444 => Train loss: 0.002213, Train score: -0.002213, Val loss: 2.191015, Val score: -2.191015\n",
      "Epoch: 445 => Train loss: 0.003327, Train score: -0.003327, Val loss: 2.181509, Val score: -2.181509\n",
      "Epoch: 446 => Train loss: 0.002463, Train score: -0.002463, Val loss: 2.181479, Val score: -2.181479\n",
      "Epoch: 447 => Train loss: 0.003048, Train score: -0.003048, Val loss: 2.213601, Val score: -2.213601\n",
      "Epoch: 448 => Train loss: 0.002148, Train score: -0.002148, Val loss: 2.188845, Val score: -2.188845\n",
      "Epoch: 449 => Train loss: 0.002234, Train score: -0.002234, Val loss: 2.178402, Val score: -2.178402\n",
      "Epoch: 450 => Train loss: 0.002942, Train score: -0.002942, Val loss: 2.197715, Val score: -2.197715\n",
      "Epoch: 451 => Train loss: 0.002271, Train score: -0.002271, Val loss: 2.178776, Val score: -2.178776\n",
      "Epoch: 452 => Train loss: 0.002295, Train score: -0.002295, Val loss: 2.167876, Val score: -2.167876\n",
      "Epoch: 453 => Train loss: 0.001884, Train score: -0.001884, Val loss: 2.212313, Val score: -2.212313\n",
      "Epoch: 454 => Train loss: 0.002089, Train score: -0.002089, Val loss: 2.199781, Val score: -2.199781\n",
      "Epoch: 455 => Train loss: 0.003320, Train score: -0.003320, Val loss: 2.210589, Val score: -2.210589\n",
      "Epoch: 456 => Train loss: 0.003288, Train score: -0.003288, Val loss: 2.181384, Val score: -2.181384\n",
      "Epoch: 457 => Train loss: 0.002975, Train score: -0.002975, Val loss: 2.169831, Val score: -2.169831\n",
      "Epoch: 458 => Train loss: 0.002605, Train score: -0.002605, Val loss: 2.216421, Val score: -2.216421\n",
      "Epoch: 459 => Train loss: 0.002336, Train score: -0.002336, Val loss: 2.177909, Val score: -2.177909\n",
      "Epoch: 460 => Train loss: 0.005287, Train score: -0.005287, Val loss: 2.176900, Val score: -2.176900\n",
      "Epoch: 461 => Train loss: 0.006225, Train score: -0.006225, Val loss: 2.198495, Val score: -2.198495\n",
      "Epoch: 462 => Train loss: 0.006071, Train score: -0.006071, Val loss: 2.192449, Val score: -2.192449\n",
      "Epoch: 463 => Train loss: 0.005465, Train score: -0.005465, Val loss: 2.195435, Val score: -2.195435\n",
      "Epoch: 464 => Train loss: 0.006201, Train score: -0.006201, Val loss: 2.155240, Val score: -2.155240\n",
      "Epoch: 465 => Train loss: 0.015906, Train score: -0.015906, Val loss: 2.178197, Val score: -2.178197\n",
      "Epoch: 466 => Train loss: 0.017300, Train score: -0.017300, Val loss: 2.184421, Val score: -2.184421\n",
      "Epoch: 467 => Train loss: 0.015272, Train score: -0.015272, Val loss: 2.316508, Val score: -2.316508\n",
      "Epoch: 468 => Train loss: 0.019338, Train score: -0.019338, Val loss: 2.196710, Val score: -2.196710\n",
      "Epoch: 469 => Train loss: 0.020654, Train score: -0.020654, Val loss: 2.211098, Val score: -2.211098\n",
      "Epoch: 470 => Train loss: 0.020296, Train score: -0.020296, Val loss: 2.311679, Val score: -2.311679\n",
      "Epoch: 471 => Train loss: 0.017857, Train score: -0.017857, Val loss: 2.170477, Val score: -2.170477\n",
      "Epoch: 472 => Train loss: 0.012829, Train score: -0.012829, Val loss: 2.273809, Val score: -2.273809\n",
      "Epoch: 473 => Train loss: 0.012102, Train score: -0.012102, Val loss: 2.169391, Val score: -2.169391\n",
      "Epoch: 474 => Train loss: 0.010757, Train score: -0.010757, Val loss: 2.215896, Val score: -2.215896\n",
      "Epoch: 475 => Train loss: 0.008977, Train score: -0.008977, Val loss: 2.198124, Val score: -2.198124\n",
      "Epoch: 476 => Train loss: 0.007278, Train score: -0.007278, Val loss: 2.173014, Val score: -2.173014\n",
      "Epoch: 477 => Train loss: 0.006079, Train score: -0.006079, Val loss: 2.185363, Val score: -2.185363\n",
      "Epoch: 478 => Train loss: 0.004523, Train score: -0.004523, Val loss: 2.206308, Val score: -2.206308\n",
      "Epoch: 479 => Train loss: 0.005109, Train score: -0.005109, Val loss: 2.201551, Val score: -2.201551\n",
      "Epoch: 480 => Train loss: 0.004505, Train score: -0.004505, Val loss: 2.208016, Val score: -2.208016\n",
      "Epoch: 481 => Train loss: 0.004305, Train score: -0.004305, Val loss: 2.170659, Val score: -2.170659\n",
      "Epoch: 482 => Train loss: 0.004197, Train score: -0.004197, Val loss: 2.187883, Val score: -2.187883\n",
      "Epoch: 483 => Train loss: 0.003744, Train score: -0.003744, Val loss: 2.198150, Val score: -2.198150\n",
      "Epoch: 484 => Train loss: 0.003294, Train score: -0.003294, Val loss: 2.205874, Val score: -2.205874\n",
      "Epoch: 485 => Train loss: 0.002985, Train score: -0.002985, Val loss: 2.189609, Val score: -2.189609\n",
      "Epoch: 486 => Train loss: 0.002140, Train score: -0.002140, Val loss: 2.193650, Val score: -2.193650\n",
      "Epoch: 487 => Train loss: 0.002421, Train score: -0.002421, Val loss: 2.157121, Val score: -2.157121\n",
      "Epoch: 488 => Train loss: 0.009459, Train score: -0.009459, Val loss: 2.184119, Val score: -2.184119\n",
      "Epoch: 489 => Train loss: 0.011899, Train score: -0.011899, Val loss: 2.182083, Val score: -2.182083\n",
      "Epoch: 490 => Train loss: 0.023179, Train score: -0.023179, Val loss: 2.227337, Val score: -2.227337\n",
      "Epoch: 491 => Train loss: 0.024798, Train score: -0.024798, Val loss: 2.184268, Val score: -2.184268\n",
      "Epoch: 492 => Train loss: 0.025884, Train score: -0.025884, Val loss: 2.167863, Val score: -2.167863\n",
      "Epoch: 493 => Train loss: 0.020273, Train score: -0.020273, Val loss: 2.199144, Val score: -2.199144\n",
      "Epoch: 494 => Train loss: 0.041662, Train score: -0.041662, Val loss: 2.345614, Val score: -2.345614\n",
      "Epoch: 495 => Train loss: 0.036831, Train score: -0.036831, Val loss: 2.184077, Val score: -2.184077\n",
      "Epoch: 496 => Train loss: 0.026267, Train score: -0.026267, Val loss: 2.202579, Val score: -2.202579\n",
      "Epoch: 497 => Train loss: 0.020791, Train score: -0.020791, Val loss: 2.246874, Val score: -2.246874\n",
      "Epoch: 498 => Train loss: 0.010893, Train score: -0.010893, Val loss: 2.160056, Val score: -2.160056\n",
      "Epoch: 499 => Train loss: 0.011978, Train score: -0.011978, Val loss: 2.223695, Val score: -2.223695\n",
      "Epoch: 500 => Train loss: 0.011125, Train score: -0.011125, Val loss: 2.282642, Val score: -2.282642\n",
      "Training complete.\n"
     ]
    }
   ],
   "source": [
    "from scripts.train import train_model\n",
    "\n",
    "history = train_model(\n",
    "    model=model_nn,\n",
    "    train_dataloader=train_dataloader,\n",
    "    val_dataloader=val_dataloader,\n",
    "    loss_fn=loss_fn,\n",
    "    optimizer=optimizer,\n",
    "    metric=metric,\n",
    "    epochs=500,\n",
    "    device=device\n",
    ")"
   ]
  },
  {
   "cell_type": "code",
   "execution_count": 59,
   "metadata": {},
   "outputs": [
    {
     "data": {
      "image/png": "[encoded data removed]",
      "text/plain": [
       "<Figure size 1200x600 with 2 Axes>"
      ]
     },
     "metadata": {},
     "output_type": "display_data"
    }
   ],
   "source": [
    "from scripts.utils import plot_train_history\n",
    "\n",
    "plot_train_history(history)"
   ]
  },
  {
   "cell_type": "code",
   "execution_count": 60,
   "metadata": {},
   "outputs": [
    {
     "data": {
      "text/plain": [
       "(tensor(-0.0210), tensor(-2.2694))"
      ]
     },
     "execution_count": 60,
     "metadata": {},
     "output_type": "execute_result"
    }
   ],
   "source": [
    "from scripts.test import predict\n",
    "\n",
    "preds_train, preds_val = predict(model_nn, X_train, device), predict(model_nn, X_val, device)\n",
    "score_train, score_val = metric(preds_train, Y_train.unsqueeze(1)), metric(preds_val, Y_val.unsqueeze(1))\n",
    "score_train, score_val"
   ]
  },
  {
   "cell_type": "code",
   "execution_count": 62,
   "metadata": {},
   "outputs": [
    {
     "data": {
      "text/plain": [
       "tensor(-0.8078)"
      ]
     },
     "execution_count": 62,
     "metadata": {},
     "output_type": "execute_result"
    }
   ],
   "source": [
    "preds_nn = predict(model_nn, X_test_subset, device)\n",
    "score_test = metric(preds_nn, Y_test_subset.unsqueeze(1))\n",
    "score_test"
   ]
  },
  {
   "cell_type": "markdown",
   "metadata": {},
   "source": [
    "## NTK"
   ]
  },
  {
   "cell_type": "code",
   "execution_count": 63,
   "metadata": {},
   "outputs": [],
   "source": [
    "def get_grads(u, model):\n",
    "    return torch.cat([torch.reshape(grads, (-1,)) for grads in list(torch.autograd.grad(model(u), model.parameters()))]).reshape(1, -1)\n",
    "\n",
    "def compute_ntk(U, V, model):\n",
    "    phi_u = torch.cat([get_grads(u, model) for u in U])\n",
    "    phi_v = torch.cat([get_grads(v, model) for v in V])\n",
    "    return torch.matmul(phi_u, phi_v.T)"
   ]
  },
  {
   "cell_type": "code",
   "execution_count": 64,
   "metadata": {},
   "outputs": [],
   "source": [
    "class NTK():\n",
    "    def __init__(self, model) -> None:\n",
    "        self.model = model\n",
    "    \n",
    "    def get_ntk(self, U, V):\n",
    "        return compute_ntk(U, V, self.model)"
   ]
  },
  {
   "cell_type": "code",
   "execution_count": 65,
   "metadata": {},
   "outputs": [
    {
     "data": {
      "text/plain": [
       "(tensor([[0., 0., 0.,  ..., 0., 0., 1.]]), torch.Size([1, 88701]))"
      ]
     },
     "execution_count": 65,
     "metadata": {},
     "output_type": "execute_result"
    }
   ],
   "source": [
    "u = torch.rand(1, 784)\n",
    "get_grads(u, model_nn), get_grads(u, model_nn).shape"
   ]
  },
  {
   "cell_type": "markdown",
   "metadata": {},
   "source": [
    "## SVM"
   ]
  },
  {
   "cell_type": "code",
   "execution_count": 22,
   "metadata": {},
   "outputs": [],
   "source": [
    "from sklearn.metrics import accuracy_score, mean_squared_error"
   ]
  },
  {
   "cell_type": "code",
   "execution_count": 23,
   "metadata": {},
   "outputs": [],
   "source": [
    "from sklearn.svm import SVC, SVR"
   ]
  },
  {
   "cell_type": "markdown",
   "metadata": {},
   "source": [
    "### T = 0"
   ]
  },
  {
   "cell_type": "code",
   "execution_count": 66,
   "metadata": {},
   "outputs": [],
   "source": [
    "ntk_init = NTK(SimpleNN().to(device))"
   ]
  },
  {
   "cell_type": "code",
   "execution_count": 67,
   "metadata": {},
   "outputs": [],
   "source": [
    "model_km_init = SVR(kernel=ntk_init.get_ntk)"
   ]
  },
  {
   "cell_type": "code",
   "execution_count": 68,
   "metadata": {},
   "outputs": [
    {
     "data": {
      "text/html": [
       "<style>#sk-container-id-3 {color: black;background-color: white;}#sk-container-id-3 pre{padding: 0;}#sk-container-id-3 div.sk-toggleable {background-color: white;}#sk-container-id-3 label.sk-toggleable__label {cursor: pointer;display: block;width: 100%;margin-bottom: 0;padding: 0.3em;box-sizing: border-box;text-align: center;}#sk-container-id-3 label.sk-toggleable__label-arrow:before {content: \"▸\";float: left;margin-right: 0.25em;color: #696969;}#sk-container-id-3 label.sk-toggleable__label-arrow:hover:before {color: black;}#sk-container-id-3 div.sk-estimator:hover label.sk-toggleable__label-arrow:before {color: black;}#sk-container-id-3 div.sk-toggleable__content {max-height: 0;max-width: 0;overflow: hidden;text-align: left;background-color: #f0f8ff;}#sk-container-id-3 div.sk-toggleable__content pre {margin: 0.2em;color: black;border-radius: 0.25em;background-color: #f0f8ff;}#sk-container-id-3 input.sk-toggleable__control:checked~div.sk-toggleable__content {max-height: 200px;max-width: 100%;overflow: auto;}#sk-container-id-3 input.sk-toggleable__control:checked~label.sk-toggleable__label-arrow:before {content: \"▾\";}#sk-container-id-3 div.sk-estimator input.sk-toggleable__control:checked~label.sk-toggleable__label {background-color: #d4ebff;}#sk-container-id-3 div.sk-label input.sk-toggleable__control:checked~label.sk-toggleable__label {background-color: #d4ebff;}#sk-container-id-3 input.sk-hidden--visually {border: 0;clip: rect(1px 1px 1px 1px);clip: rect(1px, 1px, 1px, 1px);height: 1px;margin: -1px;overflow: hidden;padding: 0;position: absolute;width: 1px;}#sk-container-id-3 div.sk-estimator {font-family: monospace;background-color: #f0f8ff;border: 1px dotted black;border-radius: 0.25em;box-sizing: border-box;margin-bottom: 0.5em;}#sk-container-id-3 div.sk-estimator:hover {background-color: #d4ebff;}#sk-container-id-3 div.sk-parallel-item::after {content: \"\";width: 100%;border-bottom: 1px solid gray;flex-grow: 1;}#sk-container-id-3 div.sk-label:hover label.sk-toggleable__label {background-color: #d4ebff;}#sk-container-id-3 div.sk-serial::before {content: \"\";position: absolute;border-left: 1px solid gray;box-sizing: border-box;top: 0;bottom: 0;left: 50%;z-index: 0;}#sk-container-id-3 div.sk-serial {display: flex;flex-direction: column;align-items: center;background-color: white;padding-right: 0.2em;padding-left: 0.2em;position: relative;}#sk-container-id-3 div.sk-item {position: relative;z-index: 1;}#sk-container-id-3 div.sk-parallel {display: flex;align-items: stretch;justify-content: center;background-color: white;position: relative;}#sk-container-id-3 div.sk-item::before, #sk-container-id-3 div.sk-parallel-item::before {content: \"\";position: absolute;border-left: 1px solid gray;box-sizing: border-box;top: 0;bottom: 0;left: 50%;z-index: -1;}#sk-container-id-3 div.sk-parallel-item {display: flex;flex-direction: column;z-index: 1;position: relative;background-color: white;}#sk-container-id-3 div.sk-parallel-item:first-child::after {align-self: flex-end;width: 50%;}#sk-container-id-3 div.sk-parallel-item:last-child::after {align-self: flex-start;width: 50%;}#sk-container-id-3 div.sk-parallel-item:only-child::after {width: 0;}#sk-container-id-3 div.sk-dashed-wrapped {border: 1px dashed gray;margin: 0 0.4em 0.5em 0.4em;box-sizing: border-box;padding-bottom: 0.4em;background-color: white;}#sk-container-id-3 div.sk-label label {font-family: monospace;font-weight: bold;display: inline-block;line-height: 1.2em;}#sk-container-id-3 div.sk-label-container {text-align: center;}#sk-container-id-3 div.sk-container {/* jupyter's `normalize.less` sets `[hidden] { display: none; }` but bootstrap.min.css set `[hidden] { display: none !important; }` so we also need the `!important` here to be able to override the default hidden behavior on the sphinx rendered scikit-learn.org. See: https://github.com/scikit-learn/scikit-learn/issues/21755 */display: inline-block !important;position: relative;}#sk-container-id-3 div.sk-text-repr-fallback {display: none;}</style><div id=\"sk-container-id-3\" class=\"sk-top-container\"><div class=\"sk-text-repr-fallback\"><pre>SVR(kernel=&lt;bound method NTK.get_ntk of &lt;__main__.NTK object at 0x7f3c7cb71e40&gt;&gt;)</pre><b>In a Jupyter environment, please rerun this cell to show the HTML representation or trust the notebook. <br />On GitHub, the HTML representation is unable to render, please try loading this page with nbviewer.org.</b></div><div class=\"sk-container\" hidden><div class=\"sk-item\"><div class=\"sk-estimator sk-toggleable\"><input class=\"sk-toggleable__control sk-hidden--visually\" id=\"sk-estimator-id-3\" type=\"checkbox\" checked><label for=\"sk-estimator-id-3\" class=\"sk-toggleable__label sk-toggleable__label-arrow\">SVR</label><div class=\"sk-toggleable__content\"><pre>SVR(kernel=&lt;bound method NTK.get_ntk of &lt;__main__.NTK object at 0x7f3c7cb71e40&gt;&gt;)</pre></div></div></div></div></div>"
      ],
      "text/plain": [
       "SVR(kernel=<bound method NTK.get_ntk of <__main__.NTK object at 0x7f3c7cb71e40>>)"
      ]
     },
     "execution_count": 68,
     "metadata": {},
     "output_type": "execute_result"
    }
   ],
   "source": [
    "model_km_init.fit(X_train, Y_train)"
   ]
  },
  {
   "cell_type": "code",
   "execution_count": 69,
   "metadata": {},
   "outputs": [
    {
     "data": {
      "text/plain": [
       "(0.9430033185936384, 2.3479289298748514)"
      ]
     },
     "execution_count": 69,
     "metadata": {},
     "output_type": "execute_result"
    }
   ],
   "source": [
    "preds_train, preds_val = model_km_init.predict(X_train), model_km_init.predict(X_val)\n",
    "score_train, score_val = mean_squared_error(Y_train, preds_train), mean_squared_error(Y_val, preds_val)\n",
    "score_train, score_val"
   ]
  },
  {
   "cell_type": "code",
   "execution_count": 71,
   "metadata": {},
   "outputs": [
    {
     "data": {
      "text/plain": [
       "2.148766686105103"
      ]
     },
     "execution_count": 71,
     "metadata": {},
     "output_type": "execute_result"
    }
   ],
   "source": [
    "preds_km_init = model_km_init.predict(X_test_subset)\n",
    "score_test = mean_squared_error(Y_test_subset, preds_km_init)\n",
    "score_test"
   ]
  },
  {
   "attachments": {},
   "cell_type": "markdown",
   "metadata": {},
   "source": [
    "### T = inf"
   ]
  },
  {
   "cell_type": "code",
   "execution_count": 72,
   "metadata": {},
   "outputs": [],
   "source": [
    "ntk_inf = NTK(model_nn)"
   ]
  },
  {
   "cell_type": "code",
   "execution_count": 73,
   "metadata": {},
   "outputs": [],
   "source": [
    "model_km_inf = SVR(kernel=ntk_inf.get_ntk)"
   ]
  },
  {
   "cell_type": "code",
   "execution_count": 74,
   "metadata": {},
   "outputs": [
    {
     "data": {
      "text/html": [
       "<style>#sk-container-id-4 {color: black;background-color: white;}#sk-container-id-4 pre{padding: 0;}#sk-container-id-4 div.sk-toggleable {background-color: white;}#sk-container-id-4 label.sk-toggleable__label {cursor: pointer;display: block;width: 100%;margin-bottom: 0;padding: 0.3em;box-sizing: border-box;text-align: center;}#sk-container-id-4 label.sk-toggleable__label-arrow:before {content: \"▸\";float: left;margin-right: 0.25em;color: #696969;}#sk-container-id-4 label.sk-toggleable__label-arrow:hover:before {color: black;}#sk-container-id-4 div.sk-estimator:hover label.sk-toggleable__label-arrow:before {color: black;}#sk-container-id-4 div.sk-toggleable__content {max-height: 0;max-width: 0;overflow: hidden;text-align: left;background-color: #f0f8ff;}#sk-container-id-4 div.sk-toggleable__content pre {margin: 0.2em;color: black;border-radius: 0.25em;background-color: #f0f8ff;}#sk-container-id-4 input.sk-toggleable__control:checked~div.sk-toggleable__content {max-height: 200px;max-width: 100%;overflow: auto;}#sk-container-id-4 input.sk-toggleable__control:checked~label.sk-toggleable__label-arrow:before {content: \"▾\";}#sk-container-id-4 div.sk-estimator input.sk-toggleable__control:checked~label.sk-toggleable__label {background-color: #d4ebff;}#sk-container-id-4 div.sk-label input.sk-toggleable__control:checked~label.sk-toggleable__label {background-color: #d4ebff;}#sk-container-id-4 input.sk-hidden--visually {border: 0;clip: rect(1px 1px 1px 1px);clip: rect(1px, 1px, 1px, 1px);height: 1px;margin: -1px;overflow: hidden;padding: 0;position: absolute;width: 1px;}#sk-container-id-4 div.sk-estimator {font-family: monospace;background-color: #f0f8ff;border: 1px dotted black;border-radius: 0.25em;box-sizing: border-box;margin-bottom: 0.5em;}#sk-container-id-4 div.sk-estimator:hover {background-color: #d4ebff;}#sk-container-id-4 div.sk-parallel-item::after {content: \"\";width: 100%;border-bottom: 1px solid gray;flex-grow: 1;}#sk-container-id-4 div.sk-label:hover label.sk-toggleable__label {background-color: #d4ebff;}#sk-container-id-4 div.sk-serial::before {content: \"\";position: absolute;border-left: 1px solid gray;box-sizing: border-box;top: 0;bottom: 0;left: 50%;z-index: 0;}#sk-container-id-4 div.sk-serial {display: flex;flex-direction: column;align-items: center;background-color: white;padding-right: 0.2em;padding-left: 0.2em;position: relative;}#sk-container-id-4 div.sk-item {position: relative;z-index: 1;}#sk-container-id-4 div.sk-parallel {display: flex;align-items: stretch;justify-content: center;background-color: white;position: relative;}#sk-container-id-4 div.sk-item::before, #sk-container-id-4 div.sk-parallel-item::before {content: \"\";position: absolute;border-left: 1px solid gray;box-sizing: border-box;top: 0;bottom: 0;left: 50%;z-index: -1;}#sk-container-id-4 div.sk-parallel-item {display: flex;flex-direction: column;z-index: 1;position: relative;background-color: white;}#sk-container-id-4 div.sk-parallel-item:first-child::after {align-self: flex-end;width: 50%;}#sk-container-id-4 div.sk-parallel-item:last-child::after {align-self: flex-start;width: 50%;}#sk-container-id-4 div.sk-parallel-item:only-child::after {width: 0;}#sk-container-id-4 div.sk-dashed-wrapped {border: 1px dashed gray;margin: 0 0.4em 0.5em 0.4em;box-sizing: border-box;padding-bottom: 0.4em;background-color: white;}#sk-container-id-4 div.sk-label label {font-family: monospace;font-weight: bold;display: inline-block;line-height: 1.2em;}#sk-container-id-4 div.sk-label-container {text-align: center;}#sk-container-id-4 div.sk-container {/* jupyter's `normalize.less` sets `[hidden] { display: none; }` but bootstrap.min.css set `[hidden] { display: none !important; }` so we also need the `!important` here to be able to override the default hidden behavior on the sphinx rendered scikit-learn.org. See: https://github.com/scikit-learn/scikit-learn/issues/21755 */display: inline-block !important;position: relative;}#sk-container-id-4 div.sk-text-repr-fallback {display: none;}</style><div id=\"sk-container-id-4\" class=\"sk-top-container\"><div class=\"sk-text-repr-fallback\"><pre>SVR(kernel=&lt;bound method NTK.get_ntk of &lt;__main__.NTK object at 0x7f3bfe624130&gt;&gt;)</pre><b>In a Jupyter environment, please rerun this cell to show the HTML representation or trust the notebook. <br />On GitHub, the HTML representation is unable to render, please try loading this page with nbviewer.org.</b></div><div class=\"sk-container\" hidden><div class=\"sk-item\"><div class=\"sk-estimator sk-toggleable\"><input class=\"sk-toggleable__control sk-hidden--visually\" id=\"sk-estimator-id-4\" type=\"checkbox\" checked><label for=\"sk-estimator-id-4\" class=\"sk-toggleable__label sk-toggleable__label-arrow\">SVR</label><div class=\"sk-toggleable__content\"><pre>SVR(kernel=&lt;bound method NTK.get_ntk of &lt;__main__.NTK object at 0x7f3bfe624130&gt;&gt;)</pre></div></div></div></div></div>"
      ],
      "text/plain": [
       "SVR(kernel=<bound method NTK.get_ntk of <__main__.NTK object at 0x7f3bfe624130>>)"
      ]
     },
     "execution_count": 74,
     "metadata": {},
     "output_type": "execute_result"
    }
   ],
   "source": [
    "model_km_inf.fit(X_train, Y_train)"
   ]
  },
  {
   "cell_type": "code",
   "execution_count": 75,
   "metadata": {},
   "outputs": [
    {
     "data": {
      "text/plain": [
       "(0.005554487574558696, 2.3031331167521856)"
      ]
     },
     "execution_count": 75,
     "metadata": {},
     "output_type": "execute_result"
    }
   ],
   "source": [
    "preds_train, preds_val = model_km_inf.predict(X_train), model_km_inf.predict(X_val)\n",
    "score_train, score_val = mean_squared_error(Y_train, preds_train), mean_squared_error(Y_val, preds_val)\n",
    "score_train, score_val"
   ]
  },
  {
   "cell_type": "code",
   "execution_count": 76,
   "metadata": {},
   "outputs": [
    {
     "data": {
      "text/plain": [
       "0.9140466809128425"
      ]
     },
     "execution_count": 76,
     "metadata": {},
     "output_type": "execute_result"
    }
   ],
   "source": [
    "preds_km_inf = model_km_inf.predict(X_test_subset)\n",
    "score_test = mean_squared_error(Y_test_subset, preds_km_inf)\n",
    "score_test"
   ]
  },
  {
   "attachments": {},
   "cell_type": "markdown",
   "metadata": {},
   "source": [
    "## Plot"
   ]
  },
  {
   "cell_type": "code",
   "execution_count": 77,
   "metadata": {},
   "outputs": [
    {
     "data": {
      "text/plain": [
       "(torch.Size([2115, 1]), (2115,), (2115,))"
      ]
     },
     "execution_count": 77,
     "metadata": {},
     "output_type": "execute_result"
    }
   ],
   "source": [
    "preds_nn.shape, preds_km_init.shape, preds_km_inf.shape"
   ]
  },
  {
   "cell_type": "code",
   "execution_count": 80,
   "metadata": {},
   "outputs": [
    {
     "data": {
      "text/plain": [
       "<matplotlib.legend.Legend at 0x7f3bfe28a680>"
      ]
     },
     "execution_count": 80,
     "metadata": {},
     "output_type": "execute_result"
    },
    {
     "data": {
      "image/png": "[encoded data removed]",
      "text/plain": [
       "<Figure size 800x800 with 1 Axes>"
      ]
     },
     "metadata": {},
     "output_type": "display_data"
    }
   ],
   "source": [
    "plt.figure(figsize=(8, 8))\n",
    "\n",
    "plt.scatter(preds_nn.squeeze(), preds_km_init, c='blue', label='T=0', s=6)\n",
    "plt.scatter(preds_nn.squeeze(), preds_km_inf, c='orange', label='T=inf', s=6)\n",
    "plt.xlabel('NN predictions')\n",
    "plt.ylabel('NTK SVM predictions')\n",
    "plt.legend()"
   ]
  },
  {
   "cell_type": "code",
   "execution_count": 79,
   "metadata": {},
   "outputs": [
    {
     "data": {
      "text/plain": [
       "(PearsonRResult(statistic=0.5833526493855815, pvalue=4.096877216669984e-193),\n",
       " PearsonRResult(statistic=0.9822623283311467, pvalue=0.0))"
      ]
     },
     "execution_count": 79,
     "metadata": {},
     "output_type": "execute_result"
    }
   ],
   "source": [
    "from scipy.stats import pearsonr\n",
    "\n",
    "corr_init, corr_inf = pearsonr(preds_nn.squeeze(), preds_km_init), pearsonr(preds_nn.squeeze(), preds_km_inf)\n",
    "corr_init, corr_inf"
   ]
  },
  {
   "cell_type": "code",
   "execution_count": null,
   "metadata": {},
   "outputs": [],
   "source": []
  }
 ],
 "metadata": {
  "kernelspec": {
   "display_name": "Python 3 (ipykernel)",
   "language": "python",
   "name": "python3"
  },
  "language_info": {
   "codemirror_mode": {
    "name": "ipython",
    "version": 3
   },
   "file_extension": ".py",
   "mimetype": "text/x-python",
   "name": "python",
   "nbconvert_exporter": "python",
   "pygments_lexer": "ipython3",
   "version": "3.10.6 (main, Nov 14 2022, 16:10:14) [GCC 11.3.0]"
  },
  "vscode": {
   "interpreter": {
    "hash": "916dbcbb3f70747c44a77c7bcd40155683ae19c65e1c03b4aa3499c5328201f1"
   }
  }
 },
 "nbformat": 4,
 "nbformat_minor": 2
}
