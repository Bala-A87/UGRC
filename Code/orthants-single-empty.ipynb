{
 "cells": [
  {
   "attachments": {},
   "cell_type": "markdown",
   "metadata": {},
   "source": [
    "## FLAGS (IMPORTANT)"
   ]
  },
  {
   "cell_type": "code",
   "execution_count": 1,
   "metadata": {},
   "outputs": [],
   "source": [
    "VALIDATE_NN = True\n",
    "TRAIN = True\n",
    "VALIDATE_SVM = True"
   ]
  },
  {
   "attachments": {},
   "cell_type": "markdown",
   "metadata": {},
   "source": [
    "## Constants"
   ]
  },
  {
   "cell_type": "code",
   "execution_count": 2,
   "metadata": {},
   "outputs": [],
   "source": [
    "import torch\n",
    "import numpy as np\n",
    "import matplotlib.pyplot as plt\n",
    "from sklearn.model_selection import train_test_split"
   ]
  },
  {
   "cell_type": "code",
   "execution_count": 3,
   "metadata": {},
   "outputs": [],
   "source": [
    "HIGH_COUNT = 100\n",
    "LOW_FRAC = 1/64\n",
    "ZERO_FRAC = 0.5\n",
    "TEST_COUNT = 100"
   ]
  },
  {
   "cell_type": "code",
   "execution_count": 4,
   "metadata": {},
   "outputs": [
    {
     "data": {
      "text/plain": [
       "tensor([4., 4., 4., 4., 4., 4., 4.])"
      ]
     },
     "execution_count": 4,
     "metadata": {},
     "output_type": "execute_result"
    }
   ],
   "source": [
    "CENTRE = 4 * torch.ones(7)\n",
    "CENTRE"
   ]
  },
  {
   "cell_type": "code",
   "execution_count": 5,
   "metadata": {},
   "outputs": [],
   "source": [
    "LOW_RADIUS = 1.\n",
    "HIGH_RADIUS = 2."
   ]
  },
  {
   "attachments": {},
   "cell_type": "markdown",
   "metadata": {},
   "source": [
    "## Data"
   ]
  },
  {
   "cell_type": "code",
   "execution_count": 6,
   "metadata": {},
   "outputs": [],
   "source": [
    "from scripts.data.orthants import generate_train_data"
   ]
  },
  {
   "cell_type": "code",
   "execution_count": 7,
   "metadata": {},
   "outputs": [
    {
     "data": {
      "text/plain": [
       "(torch.Size([25400, 7]), torch.Size([25400, 1]))"
      ]
     },
     "execution_count": 7,
     "metadata": {},
     "output_type": "execute_result"
    }
   ],
   "source": [
    "X_train, Y_train, orthant_counts = generate_train_data(\n",
    "    low_count=HIGH_COUNT,\n",
    "    high_count=HIGH_COUNT,\n",
    "    low_spread=0,\n",
    "    high_spread=0,\n",
    "    low_frac=LOW_FRAC,\n",
    "    zero_frac=ZERO_FRAC,\n",
    "    random_state=7357\n",
    ")\n",
    "X_train.shape, Y_train.shape"
   ]
  },
  {
   "cell_type": "code",
   "execution_count": 8,
   "metadata": {},
   "outputs": [
    {
     "data": {
      "text/plain": [
       "80"
      ]
     },
     "execution_count": 8,
     "metadata": {},
     "output_type": "execute_result"
    }
   ],
   "source": [
    "for i in range(128):\n",
    "    if orthant_counts[i] == 0:\n",
    "        ZERO_ORTHANT_INDEX = i\n",
    "ZERO_ORTHANT_INDEX"
   ]
  },
  {
   "cell_type": "code",
   "execution_count": 9,
   "metadata": {},
   "outputs": [
    {
     "data": {
      "text/plain": [
       "(torch.Size([128, 200, 7]), torch.Size([128, 200, 1]))"
      ]
     },
     "execution_count": 9,
     "metadata": {},
     "output_type": "execute_result"
    }
   ],
   "source": [
    "from scripts.data.orthants import generate_test_data\n",
    "\n",
    "X_test, Y_test = generate_test_data(TEST_COUNT, random_state=7753)\n",
    "X_test.shape, Y_test.shape"
   ]
  },
  {
   "cell_type": "code",
   "execution_count": 10,
   "metadata": {},
   "outputs": [],
   "source": [
    "X_val, Y_val = X_test[ZERO_ORTHANT_INDEX], Y_test[ZERO_ORTHANT_INDEX]"
   ]
  },
  {
   "cell_type": "code",
   "execution_count": 11,
   "metadata": {},
   "outputs": [],
   "source": [
    "from scripts.utils import make_dataloader\n",
    "\n",
    "train_dataloader, val_dataloader = make_dataloader(X_train, Y_train, 32, True), make_dataloader(X_val, Y_val, 32, True)"
   ]
  },
  {
   "cell_type": "code",
   "execution_count": 12,
   "metadata": {},
   "outputs": [],
   "source": [
    "X_total_0 = X_train[Y_train.squeeze()==0]\n",
    "X_total_1 = X_train[Y_train.squeeze()==1]"
   ]
  },
  {
   "cell_type": "code",
   "execution_count": 13,
   "metadata": {},
   "outputs": [],
   "source": [
    "from scripts.data.orthants import find_orthant\n",
    "\n",
    "def obtain_closest_point_orthant(\n",
    "    test_point: torch.Tensor,\n",
    "    pos_points: torch.Tensor,\n",
    "    neg_points: torch.Tensor\n",
    ") -> torch.Tensor:\n",
    "    pos_distances, neg_distances = torch.sqrt(torch.sum((test_point - pos_points)**2, dim=1)), torch.sqrt(torch.sum((test_point - neg_points)**2, dim=1))\n",
    "    return torch.tensor([find_orthant(pos_points[torch.argmin(pos_distances)]), find_orthant(neg_points[torch.argmin(neg_distances)])])"
   ]
  },
  {
   "cell_type": "code",
   "execution_count": 14,
   "metadata": {},
   "outputs": [],
   "source": [
    "import pandas as pd\n",
    "\n",
    "closest_orthants_0 = pd.DataFrame(torch.cat([\n",
    "    obtain_closest_point_orthant(x, X_total_0, X_total_1).reshape(1, -1) for x in X_test[ZERO_ORTHANT_INDEX][Y_test[ZERO_ORTHANT_INDEX].squeeze() == 0]\n",
    "]), columns=['closest_positive_orthant', 'closest_negative_orthant'])\n",
    "closest_orthants_1 = pd.DataFrame(torch.cat([\n",
    "    obtain_closest_point_orthant(x, X_total_0, X_total_1).reshape(1, -1) for x in X_test[ZERO_ORTHANT_INDEX][Y_test[ZERO_ORTHANT_INDEX].squeeze() == 1]\n",
    "]), columns=['closest_positive_orthant', 'closest_negative_orthant'])"
   ]
  },
  {
   "cell_type": "code",
   "execution_count": 15,
   "metadata": {},
   "outputs": [
    {
     "data": {
      "text/plain": [
       "[16, 64, 81, 82, 84, 88, 112]"
      ]
     },
     "execution_count": 15,
     "metadata": {},
     "output_type": "execute_result"
    }
   ],
   "source": [
    "from scripts.data.orthants import ORTHANTS\n",
    "\n",
    "neighboring_orthants = []\n",
    "for i in range(128):\n",
    "    if (ORTHANTS[i] * ORTHANTS[ZERO_ORTHANT_INDEX]).sum() == 5:\n",
    "        neighboring_orthants.append(i)\n",
    "neighboring_orthants"
   ]
  },
  {
   "cell_type": "code",
   "execution_count": 16,
   "metadata": {},
   "outputs": [
    {
     "data": {
      "text/plain": [
       "(16     43\n",
       " 112    27\n",
       " 64     16\n",
       " 88     11\n",
       " 81      2\n",
       " 84      1\n",
       " Name: closest_positive_orthant, dtype: int64,\n",
       " 16     47\n",
       " 112    28\n",
       " 64     23\n",
       " 88      2\n",
       " Name: closest_negative_orthant, dtype: int64)"
      ]
     },
     "execution_count": 16,
     "metadata": {},
     "output_type": "execute_result"
    }
   ],
   "source": [
    "closest_orthants_0['closest_positive_orthant'].value_counts(), closest_orthants_0['closest_negative_orthant'].value_counts() "
   ]
  },
  {
   "cell_type": "code",
   "execution_count": 17,
   "metadata": {},
   "outputs": [
    {
     "data": {
      "text/plain": [
       "(112    31\n",
       " 16     31\n",
       " 64     21\n",
       " 88     14\n",
       " 84      3\n",
       " Name: closest_positive_orthant, dtype: int64,\n",
       " 16     33\n",
       " 112    32\n",
       " 64     22\n",
       " 88     12\n",
       " 84      1\n",
       " Name: closest_negative_orthant, dtype: int64)"
      ]
     },
     "execution_count": 17,
     "metadata": {},
     "output_type": "execute_result"
    }
   ],
   "source": [
    "closest_orthants_1['closest_positive_orthant'].value_counts(), closest_orthants_1['closest_negative_orthant'].value_counts() "
   ]
  },
  {
   "cell_type": "code",
   "execution_count": 18,
   "metadata": {},
   "outputs": [
    {
     "data": {
      "text/plain": [
       "(torch.Size([100, 7]), torch.Size([100, 7]))"
      ]
     },
     "execution_count": 18,
     "metadata": {},
     "output_type": "execute_result"
    }
   ],
   "source": [
    "X_empty_0 = X_val[Y_val.squeeze() == 0]\n",
    "X_empty_1 = X_val[Y_val.squeeze() == 1]\n",
    "X_empty_0.shape, X_empty_1.shape"
   ]
  },
  {
   "attachments": {},
   "cell_type": "markdown",
   "metadata": {},
   "source": [
    "## Neural network"
   ]
  },
  {
   "cell_type": "code",
   "execution_count": 19,
   "metadata": {},
   "outputs": [],
   "source": [
    "device = 'cpu'"
   ]
  },
  {
   "cell_type": "code",
   "execution_count": 20,
   "metadata": {},
   "outputs": [],
   "source": [
    "from scripts.models import SimpleNN\n",
    "from scripts.train import train_model\n",
    "from scripts.metrics import BinaryAccuracy"
   ]
  },
  {
   "cell_type": "code",
   "execution_count": 21,
   "metadata": {},
   "outputs": [],
   "source": [
    "depths = [1, 2, 3, 4, 5]\n",
    "widths = [32, 64, 128]\n",
    "etas = [1e-4, 1e-3, 1e-2]\n",
    "weight_decays = np.logspace(-5, 5, 11).tolist() \n",
    "weight_decays.append(0.0)"
   ]
  },
  {
   "cell_type": "code",
   "execution_count": 22,
   "metadata": {},
   "outputs": [],
   "source": [
    "import json\n",
    "\n",
    "if VALIDATE_NN:\n",
    "    best_depth = None\n",
    "    best_width = None\n",
    "    best_eta = None\n",
    "    best_weight_decay = None\n",
    "    best_score = -torch.inf\n",
    "else:\n",
    "    with open('configs/nn/orthants-single-empty.json', 'r') as f:\n",
    "        best_config = json.load(f)\n",
    "    best_depth = best_config['depth']\n",
    "    best_width = best_config['width']\n",
    "    best_eta = best_config['eta']\n",
    "    best_weight_decay = best_config['weight_decay']\n",
    "    best_score = best_config['score']"
   ]
  },
  {
   "cell_type": "code",
   "execution_count": 23,
   "metadata": {},
   "outputs": [
    {
     "name": "stdout",
     "output_type": "stream",
     "text": [
      "Cross-validating across 540 models.\n",
      "\n",
      "[1/540] Depth: 1, width: 32, lr: 0.0001, lambda: 1e-05 ==> score: 0.486607\n",
      "[2/540] Depth: 1, width: 32, lr: 0.0001, lambda: 0.0001 ==> score: 0.508929\n",
      "[3/540] Depth: 1, width: 32, lr: 0.0001, lambda: 0.001 ==> score: 0.571429\n",
      "[4/540] Depth: 1, width: 32, lr: 0.0001, lambda: 0.01 ==> score: 0.446429\n",
      "[5/540] Depth: 1, width: 32, lr: 0.0001, lambda: 0.1 ==> score: 0.500000\n",
      "[6/540] Depth: 1, width: 32, lr: 0.0001, lambda: 1.0 ==> score: 0.486607\n",
      "[7/540] Depth: 1, width: 32, lr: 0.0001, lambda: 10.0 ==> score: 0.500000\n",
      "[8/540] Depth: 1, width: 32, lr: 0.0001, lambda: 100.0 ==> score: 0.473214\n",
      "[9/540] Depth: 1, width: 32, lr: 0.0001, lambda: 1000.0 ==> score: 0.500000\n",
      "[10/540] Depth: 1, width: 32, lr: 0.0001, lambda: 10000.0 ==> score: 0.500000\n",
      "[11/540] Depth: 1, width: 32, lr: 0.0001, lambda: 100000.0 ==> score: 0.513393\n",
      "[12/540] Depth: 1, width: 32, lr: 0.0001, lambda: 0.0 ==> score: 0.500000\n",
      "[13/540] Depth: 1, width: 32, lr: 0.001, lambda: 1e-05 ==> score: 0.633929\n",
      "[14/540] Depth: 1, width: 32, lr: 0.001, lambda: 0.0001 ==> score: 0.500000\n",
      "[15/540] Depth: 1, width: 32, lr: 0.001, lambda: 0.001 ==> score: 0.839286\n",
      "[16/540] Depth: 1, width: 32, lr: 0.001, lambda: 0.01 ==> score: 0.486607\n",
      "[17/540] Depth: 1, width: 32, lr: 0.001, lambda: 0.1 ==> score: 0.500000\n",
      "[18/540] Depth: 1, width: 32, lr: 0.001, lambda: 1.0 ==> score: 0.500000\n",
      "[19/540] Depth: 1, width: 32, lr: 0.001, lambda: 10.0 ==> score: 0.500000\n",
      "[20/540] Depth: 1, width: 32, lr: 0.001, lambda: 100.0 ==> score: 0.513393\n",
      "[21/540] Depth: 1, width: 32, lr: 0.001, lambda: 1000.0 ==> score: 0.473214\n",
      "[22/540] Depth: 1, width: 32, lr: 0.001, lambda: 10000.0 ==> score: 0.473214\n",
      "[23/540] Depth: 1, width: 32, lr: 0.001, lambda: 100000.0 ==> score: 0.486607\n",
      "[24/540] Depth: 1, width: 32, lr: 0.001, lambda: 0.0 ==> score: 0.696429\n",
      "[25/540] Depth: 1, width: 32, lr: 0.01, lambda: 1e-05 ==> score: 0.513393\n",
      "[26/540] Depth: 1, width: 32, lr: 0.01, lambda: 0.0001 ==> score: 0.473214\n",
      "[27/540] Depth: 1, width: 32, lr: 0.01, lambda: 0.001 ==> score: 0.526786\n",
      "[28/540] Depth: 1, width: 32, lr: 0.01, lambda: 0.01 ==> score: 0.473214\n",
      "[29/540] Depth: 1, width: 32, lr: 0.01, lambda: 0.1 ==> score: 0.500000\n",
      "[30/540] Depth: 1, width: 32, lr: 0.01, lambda: 1.0 ==> score: 0.459821\n",
      "[31/540] Depth: 1, width: 32, lr: 0.01, lambda: 10.0 ==> score: 0.526786\n",
      "[32/540] Depth: 1, width: 32, lr: 0.01, lambda: 100.0 ==> score: 0.500000\n",
      "[33/540] Depth: 1, width: 32, lr: 0.01, lambda: 1000.0 ==> score: 0.513393\n",
      "[34/540] Depth: 1, width: 32, lr: 0.01, lambda: 10000.0 ==> score: 0.486607\n",
      "[35/540] Depth: 1, width: 32, lr: 0.01, lambda: 100000.0 ==> score: 0.459821\n",
      "[36/540] Depth: 1, width: 32, lr: 0.01, lambda: 0.0 ==> score: 0.513393\n",
      "[37/540] Depth: 1, width: 64, lr: 0.0001, lambda: 1e-05 ==> score: 0.500000\n",
      "[38/540] Depth: 1, width: 64, lr: 0.0001, lambda: 0.0001 ==> score: 0.500000\n",
      "[39/540] Depth: 1, width: 64, lr: 0.0001, lambda: 0.001 ==> score: 0.437500\n",
      "[40/540] Depth: 1, width: 64, lr: 0.0001, lambda: 0.01 ==> score: 0.513393\n",
      "[41/540] Depth: 1, width: 64, lr: 0.0001, lambda: 0.1 ==> score: 0.473214\n",
      "[42/540] Depth: 1, width: 64, lr: 0.0001, lambda: 1.0 ==> score: 0.513393\n",
      "[43/540] Depth: 1, width: 64, lr: 0.0001, lambda: 10.0 ==> score: 0.500000\n",
      "[44/540] Depth: 1, width: 64, lr: 0.0001, lambda: 100.0 ==> score: 0.526786\n",
      "[45/540] Depth: 1, width: 64, lr: 0.0001, lambda: 1000.0 ==> score: 0.486607\n",
      "[46/540] Depth: 1, width: 64, lr: 0.0001, lambda: 10000.0 ==> score: 0.513393\n",
      "[47/540] Depth: 1, width: 64, lr: 0.0001, lambda: 100000.0 ==> score: 0.500000\n",
      "[48/540] Depth: 1, width: 64, lr: 0.0001, lambda: 0.0 ==> score: 0.526786\n",
      "[49/540] Depth: 1, width: 64, lr: 0.001, lambda: 1e-05 ==> score: 0.714286\n",
      "[50/540] Depth: 1, width: 64, lr: 0.001, lambda: 0.0001 ==> score: 0.830357\n",
      "[51/540] Depth: 1, width: 64, lr: 0.001, lambda: 0.001 ==> score: 0.781250\n",
      "[52/540] Depth: 1, width: 64, lr: 0.001, lambda: 0.01 ==> score: 0.513393\n",
      "[53/540] Depth: 1, width: 64, lr: 0.001, lambda: 0.1 ==> score: 0.500000\n",
      "[54/540] Depth: 1, width: 64, lr: 0.001, lambda: 1.0 ==> score: 0.486607\n",
      "[55/540] Depth: 1, width: 64, lr: 0.001, lambda: 10.0 ==> score: 0.459821\n",
      "[56/540] Depth: 1, width: 64, lr: 0.001, lambda: 100.0 ==> score: 0.486607\n",
      "[57/540] Depth: 1, width: 64, lr: 0.001, lambda: 1000.0 ==> score: 0.513393\n",
      "[58/540] Depth: 1, width: 64, lr: 0.001, lambda: 10000.0 ==> score: 0.473214\n",
      "[59/540] Depth: 1, width: 64, lr: 0.001, lambda: 100000.0 ==> score: 0.513393\n",
      "[60/540] Depth: 1, width: 64, lr: 0.001, lambda: 0.0 ==> score: 0.665179\n",
      "[61/540] Depth: 1, width: 64, lr: 0.01, lambda: 1e-05 ==> score: 0.473214\n",
      "[62/540] Depth: 1, width: 64, lr: 0.01, lambda: 0.0001 ==> score: 0.486607\n",
      "[63/540] Depth: 1, width: 64, lr: 0.01, lambda: 0.001 ==> score: 0.500000\n",
      "[64/540] Depth: 1, width: 64, lr: 0.01, lambda: 0.01 ==> score: 0.500000\n",
      "[65/540] Depth: 1, width: 64, lr: 0.01, lambda: 0.1 ==> score: 0.486607\n",
      "[66/540] Depth: 1, width: 64, lr: 0.01, lambda: 1.0 ==> score: 0.459821\n",
      "[67/540] Depth: 1, width: 64, lr: 0.01, lambda: 10.0 ==> score: 0.526786\n",
      "[68/540] Depth: 1, width: 64, lr: 0.01, lambda: 100.0 ==> score: 0.500000\n",
      "[69/540] Depth: 1, width: 64, lr: 0.01, lambda: 1000.0 ==> score: 0.500000\n",
      "[70/540] Depth: 1, width: 64, lr: 0.01, lambda: 10000.0 ==> score: 0.486607\n",
      "[71/540] Depth: 1, width: 64, lr: 0.01, lambda: 100000.0 ==> score: 0.513393\n",
      "[72/540] Depth: 1, width: 64, lr: 0.01, lambda: 0.0 ==> score: 0.526786\n",
      "[73/540] Depth: 1, width: 128, lr: 0.0001, lambda: 1e-05 ==> score: 0.486607\n",
      "[74/540] Depth: 1, width: 128, lr: 0.0001, lambda: 0.0001 ==> score: 0.486607\n",
      "[75/540] Depth: 1, width: 128, lr: 0.0001, lambda: 0.001 ==> score: 0.455357\n",
      "[76/540] Depth: 1, width: 128, lr: 0.0001, lambda: 0.01 ==> score: 0.491071\n",
      "[77/540] Depth: 1, width: 128, lr: 0.0001, lambda: 0.1 ==> score: 0.500000\n",
      "[78/540] Depth: 1, width: 128, lr: 0.0001, lambda: 1.0 ==> score: 0.473214\n",
      "[79/540] Depth: 1, width: 128, lr: 0.0001, lambda: 10.0 ==> score: 0.459821\n",
      "[80/540] Depth: 1, width: 128, lr: 0.0001, lambda: 100.0 ==> score: 0.513393\n",
      "[81/540] Depth: 1, width: 128, lr: 0.0001, lambda: 1000.0 ==> score: 0.473214\n",
      "[82/540] Depth: 1, width: 128, lr: 0.0001, lambda: 10000.0 ==> score: 0.513393\n",
      "[83/540] Depth: 1, width: 128, lr: 0.0001, lambda: 100000.0 ==> score: 0.513393\n",
      "[84/540] Depth: 1, width: 128, lr: 0.0001, lambda: 0.0 ==> score: 0.410714\n",
      "[85/540] Depth: 1, width: 128, lr: 0.001, lambda: 1e-05 ==> score: 0.812500\n",
      "[86/540] Depth: 1, width: 128, lr: 0.001, lambda: 0.0001 ==> score: 0.848214\n",
      "[87/540] Depth: 1, width: 128, lr: 0.001, lambda: 0.001 ==> score: 0.767857\n",
      "[88/540] Depth: 1, width: 128, lr: 0.001, lambda: 0.01 ==> score: 0.486607\n",
      "[89/540] Depth: 1, width: 128, lr: 0.001, lambda: 0.1 ==> score: 0.473214\n",
      "[90/540] Depth: 1, width: 128, lr: 0.001, lambda: 1.0 ==> score: 0.540179\n",
      "[91/540] Depth: 1, width: 128, lr: 0.001, lambda: 10.0 ==> score: 0.500000\n",
      "[92/540] Depth: 1, width: 128, lr: 0.001, lambda: 100.0 ==> score: 0.473214\n",
      "[93/540] Depth: 1, width: 128, lr: 0.001, lambda: 1000.0 ==> score: 0.526786\n",
      "[94/540] Depth: 1, width: 128, lr: 0.001, lambda: 10000.0 ==> score: 0.500000\n",
      "[95/540] Depth: 1, width: 128, lr: 0.001, lambda: 100000.0 ==> score: 0.486607\n",
      "[96/540] Depth: 1, width: 128, lr: 0.001, lambda: 0.0 ==> score: 0.946429\n",
      "[97/540] Depth: 1, width: 128, lr: 0.01, lambda: 1e-05 ==> score: 0.513393\n",
      "[98/540] Depth: 1, width: 128, lr: 0.01, lambda: 0.0001 ==> score: 0.540179\n",
      "[99/540] Depth: 1, width: 128, lr: 0.01, lambda: 0.001 ==> score: 0.486607\n",
      "[100/540] Depth: 1, width: 128, lr: 0.01, lambda: 0.01 ==> score: 0.500000\n",
      "[101/540] Depth: 1, width: 128, lr: 0.01, lambda: 0.1 ==> score: 0.473214\n",
      "[102/540] Depth: 1, width: 128, lr: 0.01, lambda: 1.0 ==> score: 0.500000\n",
      "[103/540] Depth: 1, width: 128, lr: 0.01, lambda: 10.0 ==> score: 0.500000\n",
      "[104/540] Depth: 1, width: 128, lr: 0.01, lambda: 100.0 ==> score: 0.500000\n",
      "[105/540] Depth: 1, width: 128, lr: 0.01, lambda: 1000.0 ==> score: 0.500000\n",
      "[106/540] Depth: 1, width: 128, lr: 0.01, lambda: 10000.0 ==> score: 0.486607\n",
      "[107/540] Depth: 1, width: 128, lr: 0.01, lambda: 100000.0 ==> score: 0.500000\n",
      "[108/540] Depth: 1, width: 128, lr: 0.01, lambda: 0.0 ==> score: 0.473214\n",
      "[109/540] Depth: 2, width: 32, lr: 0.0001, lambda: 1e-05 ==> score: 0.589286\n",
      "[110/540] Depth: 2, width: 32, lr: 0.0001, lambda: 0.0001 ==> score: 0.486607\n",
      "[111/540] Depth: 2, width: 32, lr: 0.0001, lambda: 0.001 ==> score: 0.468750\n",
      "[112/540] Depth: 2, width: 32, lr: 0.0001, lambda: 0.01 ==> score: 0.500000\n",
      "[113/540] Depth: 2, width: 32, lr: 0.0001, lambda: 0.1 ==> score: 0.486607\n",
      "[114/540] Depth: 2, width: 32, lr: 0.0001, lambda: 1.0 ==> score: 0.500000\n",
      "[115/540] Depth: 2, width: 32, lr: 0.0001, lambda: 10.0 ==> score: 0.513393\n",
      "[116/540] Depth: 2, width: 32, lr: 0.0001, lambda: 100.0 ==> score: 0.486607\n",
      "[117/540] Depth: 2, width: 32, lr: 0.0001, lambda: 1000.0 ==> score: 0.513393\n",
      "[118/540] Depth: 2, width: 32, lr: 0.0001, lambda: 10000.0 ==> score: 0.500000\n",
      "[119/540] Depth: 2, width: 32, lr: 0.0001, lambda: 100000.0 ==> score: 0.500000\n",
      "[120/540] Depth: 2, width: 32, lr: 0.0001, lambda: 0.0 ==> score: 0.611607\n",
      "[121/540] Depth: 2, width: 32, lr: 0.001, lambda: 1e-05 ==> score: 0.776786\n",
      "[122/540] Depth: 2, width: 32, lr: 0.001, lambda: 0.0001 ==> score: 0.781250\n",
      "[123/540] Depth: 2, width: 32, lr: 0.001, lambda: 0.001 ==> score: 0.754464\n",
      "[124/540] Depth: 2, width: 32, lr: 0.001, lambda: 0.01 ==> score: 0.526786\n",
      "[125/540] Depth: 2, width: 32, lr: 0.001, lambda: 0.1 ==> score: 0.500000\n",
      "[126/540] Depth: 2, width: 32, lr: 0.001, lambda: 1.0 ==> score: 0.500000\n",
      "[127/540] Depth: 2, width: 32, lr: 0.001, lambda: 10.0 ==> score: 0.513393\n",
      "[128/540] Depth: 2, width: 32, lr: 0.001, lambda: 100.0 ==> score: 0.513393\n",
      "[129/540] Depth: 2, width: 32, lr: 0.001, lambda: 1000.0 ==> score: 0.473214\n",
      "[130/540] Depth: 2, width: 32, lr: 0.001, lambda: 10000.0 ==> score: 0.500000\n",
      "[131/540] Depth: 2, width: 32, lr: 0.001, lambda: 100000.0 ==> score: 0.486607\n",
      "[132/540] Depth: 2, width: 32, lr: 0.001, lambda: 0.0 ==> score: 0.741071\n",
      "[133/540] Depth: 2, width: 32, lr: 0.01, lambda: 1e-05 ==> score: 0.486607\n",
      "[134/540] Depth: 2, width: 32, lr: 0.01, lambda: 0.0001 ==> score: 0.513393\n",
      "[135/540] Depth: 2, width: 32, lr: 0.01, lambda: 0.001 ==> score: 0.526786\n",
      "[136/540] Depth: 2, width: 32, lr: 0.01, lambda: 0.01 ==> score: 0.500000\n",
      "[137/540] Depth: 2, width: 32, lr: 0.01, lambda: 0.1 ==> score: 0.500000\n",
      "[138/540] Depth: 2, width: 32, lr: 0.01, lambda: 1.0 ==> score: 0.500000\n",
      "[139/540] Depth: 2, width: 32, lr: 0.01, lambda: 10.0 ==> score: 0.486607\n",
      "[140/540] Depth: 2, width: 32, lr: 0.01, lambda: 100.0 ==> score: 0.500000\n",
      "[141/540] Depth: 2, width: 32, lr: 0.01, lambda: 1000.0 ==> score: 0.513393\n",
      "[142/540] Depth: 2, width: 32, lr: 0.01, lambda: 10000.0 ==> score: 0.500000\n",
      "[143/540] Depth: 2, width: 32, lr: 0.01, lambda: 100000.0 ==> score: 0.500000\n",
      "[144/540] Depth: 2, width: 32, lr: 0.01, lambda: 0.0 ==> score: 0.513393\n",
      "[145/540] Depth: 2, width: 64, lr: 0.0001, lambda: 1e-05 ==> score: 0.526786\n",
      "[146/540] Depth: 2, width: 64, lr: 0.0001, lambda: 0.0001 ==> score: 0.486607\n",
      "[147/540] Depth: 2, width: 64, lr: 0.0001, lambda: 0.001 ==> score: 0.584821\n",
      "[148/540] Depth: 2, width: 64, lr: 0.0001, lambda: 0.01 ==> score: 0.486607\n",
      "[149/540] Depth: 2, width: 64, lr: 0.0001, lambda: 0.1 ==> score: 0.473214\n",
      "[150/540] Depth: 2, width: 64, lr: 0.0001, lambda: 1.0 ==> score: 0.500000\n",
      "[151/540] Depth: 2, width: 64, lr: 0.0001, lambda: 10.0 ==> score: 0.513393\n",
      "[152/540] Depth: 2, width: 64, lr: 0.0001, lambda: 100.0 ==> score: 0.500000\n",
      "[153/540] Depth: 2, width: 64, lr: 0.0001, lambda: 1000.0 ==> score: 0.540179\n",
      "[154/540] Depth: 2, width: 64, lr: 0.0001, lambda: 10000.0 ==> score: 0.500000\n",
      "[155/540] Depth: 2, width: 64, lr: 0.0001, lambda: 100000.0 ==> score: 0.459821\n",
      "[156/540] Depth: 2, width: 64, lr: 0.0001, lambda: 0.0 ==> score: 0.736607\n",
      "[157/540] Depth: 2, width: 64, lr: 0.001, lambda: 1e-05 ==> score: 0.732143\n",
      "[158/540] Depth: 2, width: 64, lr: 0.001, lambda: 0.0001 ==> score: 0.785714\n",
      "[159/540] Depth: 2, width: 64, lr: 0.001, lambda: 0.001 ==> score: 0.799107\n",
      "[160/540] Depth: 2, width: 64, lr: 0.001, lambda: 0.01 ==> score: 0.500000\n",
      "[161/540] Depth: 2, width: 64, lr: 0.001, lambda: 0.1 ==> score: 0.486607\n",
      "[162/540] Depth: 2, width: 64, lr: 0.001, lambda: 1.0 ==> score: 0.500000\n",
      "[163/540] Depth: 2, width: 64, lr: 0.001, lambda: 10.0 ==> score: 0.500000\n",
      "[164/540] Depth: 2, width: 64, lr: 0.001, lambda: 100.0 ==> score: 0.486607\n",
      "[165/540] Depth: 2, width: 64, lr: 0.001, lambda: 1000.0 ==> score: 0.526786\n",
      "[166/540] Depth: 2, width: 64, lr: 0.001, lambda: 10000.0 ==> score: 0.473214\n",
      "[167/540] Depth: 2, width: 64, lr: 0.001, lambda: 100000.0 ==> score: 0.486607\n",
      "[168/540] Depth: 2, width: 64, lr: 0.001, lambda: 0.0 ==> score: 0.718750\n",
      "[169/540] Depth: 2, width: 64, lr: 0.01, lambda: 1e-05 ==> score: 0.513393\n",
      "[170/540] Depth: 2, width: 64, lr: 0.01, lambda: 0.0001 ==> score: 0.513393\n",
      "[171/540] Depth: 2, width: 64, lr: 0.01, lambda: 0.001 ==> score: 0.486607\n",
      "[172/540] Depth: 2, width: 64, lr: 0.01, lambda: 0.01 ==> score: 0.513393\n",
      "[173/540] Depth: 2, width: 64, lr: 0.01, lambda: 0.1 ==> score: 0.526786\n",
      "[174/540] Depth: 2, width: 64, lr: 0.01, lambda: 1.0 ==> score: 0.486607\n",
      "[175/540] Depth: 2, width: 64, lr: 0.01, lambda: 10.0 ==> score: 0.486607\n",
      "[176/540] Depth: 2, width: 64, lr: 0.01, lambda: 100.0 ==> score: 0.500000\n",
      "[177/540] Depth: 2, width: 64, lr: 0.01, lambda: 1000.0 ==> score: 0.526786\n",
      "[178/540] Depth: 2, width: 64, lr: 0.01, lambda: 10000.0 ==> score: 0.500000\n",
      "[179/540] Depth: 2, width: 64, lr: 0.01, lambda: 100000.0 ==> score: 0.500000\n",
      "[180/540] Depth: 2, width: 64, lr: 0.01, lambda: 0.0 ==> score: 0.486607\n",
      "[181/540] Depth: 2, width: 128, lr: 0.0001, lambda: 1e-05 ==> score: 0.741071\n",
      "[182/540] Depth: 2, width: 128, lr: 0.0001, lambda: 0.0001 ==> score: 0.754464\n",
      "[183/540] Depth: 2, width: 128, lr: 0.0001, lambda: 0.001 ==> score: 0.607143\n",
      "[184/540] Depth: 2, width: 128, lr: 0.0001, lambda: 0.01 ==> score: 0.486607\n",
      "[185/540] Depth: 2, width: 128, lr: 0.0001, lambda: 0.1 ==> score: 0.526786\n",
      "[186/540] Depth: 2, width: 128, lr: 0.0001, lambda: 1.0 ==> score: 0.500000\n",
      "[187/540] Depth: 2, width: 128, lr: 0.0001, lambda: 10.0 ==> score: 0.513393\n",
      "[188/540] Depth: 2, width: 128, lr: 0.0001, lambda: 100.0 ==> score: 0.500000\n",
      "[189/540] Depth: 2, width: 128, lr: 0.0001, lambda: 1000.0 ==> score: 0.459821\n",
      "[190/540] Depth: 2, width: 128, lr: 0.0001, lambda: 10000.0 ==> score: 0.486607\n",
      "[191/540] Depth: 2, width: 128, lr: 0.0001, lambda: 100000.0 ==> score: 0.486607\n",
      "[192/540] Depth: 2, width: 128, lr: 0.0001, lambda: 0.0 ==> score: 0.683036\n",
      "[193/540] Depth: 2, width: 128, lr: 0.001, lambda: 1e-05 ==> score: 0.875000\n",
      "[194/540] Depth: 2, width: 128, lr: 0.001, lambda: 0.0001 ==> score: 0.848214\n",
      "[195/540] Depth: 2, width: 128, lr: 0.001, lambda: 0.001 ==> score: 0.513393\n",
      "[196/540] Depth: 2, width: 128, lr: 0.001, lambda: 0.01 ==> score: 0.459821\n",
      "[197/540] Depth: 2, width: 128, lr: 0.001, lambda: 0.1 ==> score: 0.513393\n",
      "[198/540] Depth: 2, width: 128, lr: 0.001, lambda: 1.0 ==> score: 0.500000\n",
      "[199/540] Depth: 2, width: 128, lr: 0.001, lambda: 10.0 ==> score: 0.486607\n",
      "[200/540] Depth: 2, width: 128, lr: 0.001, lambda: 100.0 ==> score: 0.500000\n",
      "[201/540] Depth: 2, width: 128, lr: 0.001, lambda: 1000.0 ==> score: 0.486607\n",
      "[202/540] Depth: 2, width: 128, lr: 0.001, lambda: 10000.0 ==> score: 0.486607\n",
      "[203/540] Depth: 2, width: 128, lr: 0.001, lambda: 100000.0 ==> score: 0.513393\n",
      "[204/540] Depth: 2, width: 128, lr: 0.001, lambda: 0.0 ==> score: 0.687500\n",
      "[205/540] Depth: 2, width: 128, lr: 0.01, lambda: 1e-05 ==> score: 0.500000\n",
      "[206/540] Depth: 2, width: 128, lr: 0.01, lambda: 0.0001 ==> score: 0.526786\n",
      "[207/540] Depth: 2, width: 128, lr: 0.01, lambda: 0.001 ==> score: 0.459821\n",
      "[208/540] Depth: 2, width: 128, lr: 0.01, lambda: 0.01 ==> score: 0.500000\n",
      "[209/540] Depth: 2, width: 128, lr: 0.01, lambda: 0.1 ==> score: 0.513393\n",
      "[210/540] Depth: 2, width: 128, lr: 0.01, lambda: 1.0 ==> score: 0.526786\n",
      "[211/540] Depth: 2, width: 128, lr: 0.01, lambda: 10.0 ==> score: 0.473214\n",
      "[212/540] Depth: 2, width: 128, lr: 0.01, lambda: 100.0 ==> score: 0.486607\n",
      "[213/540] Depth: 2, width: 128, lr: 0.01, lambda: 1000.0 ==> score: 0.513393\n",
      "[214/540] Depth: 2, width: 128, lr: 0.01, lambda: 10000.0 ==> score: 0.473214\n",
      "[215/540] Depth: 2, width: 128, lr: 0.01, lambda: 100000.0 ==> score: 0.513393\n",
      "[216/540] Depth: 2, width: 128, lr: 0.01, lambda: 0.0 ==> score: 0.486607\n",
      "[217/540] Depth: 3, width: 32, lr: 0.0001, lambda: 1e-05 ==> score: 0.459821\n",
      "[218/540] Depth: 3, width: 32, lr: 0.0001, lambda: 0.0001 ==> score: 0.486607\n",
      "[219/540] Depth: 3, width: 32, lr: 0.0001, lambda: 0.001 ==> score: 0.656250\n",
      "[220/540] Depth: 3, width: 32, lr: 0.0001, lambda: 0.01 ==> score: 0.500000\n",
      "[221/540] Depth: 3, width: 32, lr: 0.0001, lambda: 0.1 ==> score: 0.500000\n",
      "[222/540] Depth: 3, width: 32, lr: 0.0001, lambda: 1.0 ==> score: 0.526786\n",
      "[223/540] Depth: 3, width: 32, lr: 0.0001, lambda: 10.0 ==> score: 0.486607\n",
      "[224/540] Depth: 3, width: 32, lr: 0.0001, lambda: 100.0 ==> score: 0.513393\n",
      "[225/540] Depth: 3, width: 32, lr: 0.0001, lambda: 1000.0 ==> score: 0.526786\n",
      "[226/540] Depth: 3, width: 32, lr: 0.0001, lambda: 10000.0 ==> score: 0.500000\n",
      "[227/540] Depth: 3, width: 32, lr: 0.0001, lambda: 100000.0 ==> score: 0.500000\n",
      "[228/540] Depth: 3, width: 32, lr: 0.0001, lambda: 0.0 ==> score: 0.674107\n",
      "[229/540] Depth: 3, width: 32, lr: 0.001, lambda: 1e-05 ==> score: 0.732143\n",
      "[230/540] Depth: 3, width: 32, lr: 0.001, lambda: 0.0001 ==> score: 0.803571\n",
      "[231/540] Depth: 3, width: 32, lr: 0.001, lambda: 0.001 ==> score: 0.513393\n",
      "[232/540] Depth: 3, width: 32, lr: 0.001, lambda: 0.01 ==> score: 0.500000\n",
      "[233/540] Depth: 3, width: 32, lr: 0.001, lambda: 0.1 ==> score: 0.526786\n",
      "[234/540] Depth: 3, width: 32, lr: 0.001, lambda: 1.0 ==> score: 0.459821\n",
      "[235/540] Depth: 3, width: 32, lr: 0.001, lambda: 10.0 ==> score: 0.513393\n",
      "[236/540] Depth: 3, width: 32, lr: 0.001, lambda: 100.0 ==> score: 0.513393\n",
      "[237/540] Depth: 3, width: 32, lr: 0.001, lambda: 1000.0 ==> score: 0.526786\n",
      "[238/540] Depth: 3, width: 32, lr: 0.001, lambda: 10000.0 ==> score: 0.500000\n",
      "[239/540] Depth: 3, width: 32, lr: 0.001, lambda: 100000.0 ==> score: 0.526786\n",
      "[240/540] Depth: 3, width: 32, lr: 0.001, lambda: 0.0 ==> score: 0.700893\n",
      "[241/540] Depth: 3, width: 32, lr: 0.01, lambda: 1e-05 ==> score: 0.500000\n",
      "[242/540] Depth: 3, width: 32, lr: 0.01, lambda: 0.0001 ==> score: 0.473214\n",
      "[243/540] Depth: 3, width: 32, lr: 0.01, lambda: 0.001 ==> score: 0.459821\n",
      "[244/540] Depth: 3, width: 32, lr: 0.01, lambda: 0.01 ==> score: 0.513393\n",
      "[245/540] Depth: 3, width: 32, lr: 0.01, lambda: 0.1 ==> score: 0.473214\n",
      "[246/540] Depth: 3, width: 32, lr: 0.01, lambda: 1.0 ==> score: 0.500000\n",
      "[247/540] Depth: 3, width: 32, lr: 0.01, lambda: 10.0 ==> score: 0.473214\n",
      "[248/540] Depth: 3, width: 32, lr: 0.01, lambda: 100.0 ==> score: 0.526786\n",
      "[249/540] Depth: 3, width: 32, lr: 0.01, lambda: 1000.0 ==> score: 0.513393\n",
      "[250/540] Depth: 3, width: 32, lr: 0.01, lambda: 10000.0 ==> score: 0.459821\n",
      "[251/540] Depth: 3, width: 32, lr: 0.01, lambda: 100000.0 ==> score: 0.500000\n",
      "[252/540] Depth: 3, width: 32, lr: 0.01, lambda: 0.0 ==> score: 0.500000\n",
      "[253/540] Depth: 3, width: 64, lr: 0.0001, lambda: 1e-05 ==> score: 0.665179\n",
      "[254/540] Depth: 3, width: 64, lr: 0.0001, lambda: 0.0001 ==> score: 0.540179\n",
      "[255/540] Depth: 3, width: 64, lr: 0.0001, lambda: 0.001 ==> score: 0.500000\n",
      "[256/540] Depth: 3, width: 64, lr: 0.0001, lambda: 0.01 ==> score: 0.486607\n",
      "[257/540] Depth: 3, width: 64, lr: 0.0001, lambda: 0.1 ==> score: 0.513393\n",
      "[258/540] Depth: 3, width: 64, lr: 0.0001, lambda: 1.0 ==> score: 0.486607\n",
      "[259/540] Depth: 3, width: 64, lr: 0.0001, lambda: 10.0 ==> score: 0.486607\n",
      "[260/540] Depth: 3, width: 64, lr: 0.0001, lambda: 100.0 ==> score: 0.500000\n",
      "[261/540] Depth: 3, width: 64, lr: 0.0001, lambda: 1000.0 ==> score: 0.513393\n",
      "[262/540] Depth: 3, width: 64, lr: 0.0001, lambda: 10000.0 ==> score: 0.473214\n",
      "[263/540] Depth: 3, width: 64, lr: 0.0001, lambda: 100000.0 ==> score: 0.500000\n",
      "[264/540] Depth: 3, width: 64, lr: 0.0001, lambda: 0.0 ==> score: 0.535714\n",
      "[265/540] Depth: 3, width: 64, lr: 0.001, lambda: 1e-05 ==> score: 0.803571\n",
      "[266/540] Depth: 3, width: 64, lr: 0.001, lambda: 0.0001 ==> score: 0.879464\n",
      "[267/540] Depth: 3, width: 64, lr: 0.001, lambda: 0.001 ==> score: 0.486607\n",
      "[268/540] Depth: 3, width: 64, lr: 0.001, lambda: 0.01 ==> score: 0.500000\n",
      "[269/540] Depth: 3, width: 64, lr: 0.001, lambda: 0.1 ==> score: 0.540179\n",
      "[270/540] Depth: 3, width: 64, lr: 0.001, lambda: 1.0 ==> score: 0.486607\n",
      "[271/540] Depth: 3, width: 64, lr: 0.001, lambda: 10.0 ==> score: 0.473214\n",
      "[272/540] Depth: 3, width: 64, lr: 0.001, lambda: 100.0 ==> score: 0.486607\n",
      "[273/540] Depth: 3, width: 64, lr: 0.001, lambda: 1000.0 ==> score: 0.513393\n",
      "[274/540] Depth: 3, width: 64, lr: 0.001, lambda: 10000.0 ==> score: 0.513393\n",
      "[275/540] Depth: 3, width: 64, lr: 0.001, lambda: 100000.0 ==> score: 0.540179\n",
      "[276/540] Depth: 3, width: 64, lr: 0.001, lambda: 0.0 ==> score: 0.732143\n",
      "[277/540] Depth: 3, width: 64, lr: 0.01, lambda: 1e-05 ==> score: 0.526786\n",
      "[278/540] Depth: 3, width: 64, lr: 0.01, lambda: 0.0001 ==> score: 0.486607\n",
      "[279/540] Depth: 3, width: 64, lr: 0.01, lambda: 0.001 ==> score: 0.486607\n",
      "[280/540] Depth: 3, width: 64, lr: 0.01, lambda: 0.01 ==> score: 0.486607\n",
      "[281/540] Depth: 3, width: 64, lr: 0.01, lambda: 0.1 ==> score: 0.486607\n",
      "[282/540] Depth: 3, width: 64, lr: 0.01, lambda: 1.0 ==> score: 0.513393\n",
      "[283/540] Depth: 3, width: 64, lr: 0.01, lambda: 10.0 ==> score: 0.500000\n",
      "[284/540] Depth: 3, width: 64, lr: 0.01, lambda: 100.0 ==> score: 0.486607\n",
      "[285/540] Depth: 3, width: 64, lr: 0.01, lambda: 1000.0 ==> score: 0.513393\n",
      "[286/540] Depth: 3, width: 64, lr: 0.01, lambda: 10000.0 ==> score: 0.500000\n",
      "[287/540] Depth: 3, width: 64, lr: 0.01, lambda: 100000.0 ==> score: 0.500000\n",
      "[288/540] Depth: 3, width: 64, lr: 0.01, lambda: 0.0 ==> score: 0.526786\n",
      "[289/540] Depth: 3, width: 128, lr: 0.0001, lambda: 1e-05 ==> score: 0.611607\n",
      "[290/540] Depth: 3, width: 128, lr: 0.0001, lambda: 0.0001 ==> score: 0.593750\n",
      "[291/540] Depth: 3, width: 128, lr: 0.0001, lambda: 0.001 ==> score: 0.785714\n",
      "[292/540] Depth: 3, width: 128, lr: 0.0001, lambda: 0.01 ==> score: 0.473214\n",
      "[293/540] Depth: 3, width: 128, lr: 0.0001, lambda: 0.1 ==> score: 0.500000\n",
      "[294/540] Depth: 3, width: 128, lr: 0.0001, lambda: 1.0 ==> score: 0.513393\n",
      "[295/540] Depth: 3, width: 128, lr: 0.0001, lambda: 10.0 ==> score: 0.500000\n",
      "[296/540] Depth: 3, width: 128, lr: 0.0001, lambda: 100.0 ==> score: 0.526786\n",
      "[297/540] Depth: 3, width: 128, lr: 0.0001, lambda: 1000.0 ==> score: 0.500000\n",
      "[298/540] Depth: 3, width: 128, lr: 0.0001, lambda: 10000.0 ==> score: 0.513393\n",
      "[299/540] Depth: 3, width: 128, lr: 0.0001, lambda: 100000.0 ==> score: 0.500000\n",
      "[300/540] Depth: 3, width: 128, lr: 0.0001, lambda: 0.0 ==> score: 0.544643\n",
      "[301/540] Depth: 3, width: 128, lr: 0.001, lambda: 1e-05 ==> score: 0.500000\n",
      "[302/540] Depth: 3, width: 128, lr: 0.001, lambda: 0.0001 ==> score: 0.803571\n",
      "[303/540] Depth: 3, width: 128, lr: 0.001, lambda: 0.001 ==> score: 0.459821\n",
      "[304/540] Depth: 3, width: 128, lr: 0.001, lambda: 0.01 ==> score: 0.500000\n",
      "[305/540] Depth: 3, width: 128, lr: 0.001, lambda: 0.1 ==> score: 0.473214\n",
      "[306/540] Depth: 3, width: 128, lr: 0.001, lambda: 1.0 ==> score: 0.500000\n",
      "[307/540] Depth: 3, width: 128, lr: 0.001, lambda: 10.0 ==> score: 0.486607\n",
      "[308/540] Depth: 3, width: 128, lr: 0.001, lambda: 100.0 ==> score: 0.473214\n",
      "[309/540] Depth: 3, width: 128, lr: 0.001, lambda: 1000.0 ==> score: 0.500000\n",
      "[310/540] Depth: 3, width: 128, lr: 0.001, lambda: 10000.0 ==> score: 0.513393\n",
      "[311/540] Depth: 3, width: 128, lr: 0.001, lambda: 100000.0 ==> score: 0.513393\n",
      "[312/540] Depth: 3, width: 128, lr: 0.001, lambda: 0.0 ==> score: 0.794643\n",
      "[313/540] Depth: 3, width: 128, lr: 0.01, lambda: 1e-05 ==> score: 0.526786\n",
      "[314/540] Depth: 3, width: 128, lr: 0.01, lambda: 0.0001 ==> score: 0.513393\n",
      "[315/540] Depth: 3, width: 128, lr: 0.01, lambda: 0.001 ==> score: 0.526786\n",
      "[316/540] Depth: 3, width: 128, lr: 0.01, lambda: 0.01 ==> score: 0.500000\n",
      "[317/540] Depth: 3, width: 128, lr: 0.01, lambda: 0.1 ==> score: 0.473214\n",
      "[318/540] Depth: 3, width: 128, lr: 0.01, lambda: 1.0 ==> score: 0.473214\n",
      "[319/540] Depth: 3, width: 128, lr: 0.01, lambda: 10.0 ==> score: 0.500000\n",
      "[320/540] Depth: 3, width: 128, lr: 0.01, lambda: 100.0 ==> score: 0.500000\n",
      "[321/540] Depth: 3, width: 128, lr: 0.01, lambda: 1000.0 ==> score: 0.459821\n",
      "[322/540] Depth: 3, width: 128, lr: 0.01, lambda: 10000.0 ==> score: 0.513393\n",
      "[323/540] Depth: 3, width: 128, lr: 0.01, lambda: 100000.0 ==> score: 0.526786\n",
      "[324/540] Depth: 3, width: 128, lr: 0.01, lambda: 0.0 ==> score: 0.500000\n",
      "[325/540] Depth: 4, width: 32, lr: 0.0001, lambda: 1e-05 ==> score: 0.419643\n",
      "[326/540] Depth: 4, width: 32, lr: 0.0001, lambda: 0.0001 ==> score: 0.486607\n",
      "[327/540] Depth: 4, width: 32, lr: 0.0001, lambda: 0.001 ==> score: 0.500000\n",
      "[328/540] Depth: 4, width: 32, lr: 0.0001, lambda: 0.01 ==> score: 0.473214\n",
      "[329/540] Depth: 4, width: 32, lr: 0.0001, lambda: 0.1 ==> score: 0.553571\n",
      "[330/540] Depth: 4, width: 32, lr: 0.0001, lambda: 1.0 ==> score: 0.486607\n",
      "[331/540] Depth: 4, width: 32, lr: 0.0001, lambda: 10.0 ==> score: 0.486607\n",
      "[332/540] Depth: 4, width: 32, lr: 0.0001, lambda: 100.0 ==> score: 0.526786\n",
      "[333/540] Depth: 4, width: 32, lr: 0.0001, lambda: 1000.0 ==> score: 0.486607\n",
      "[334/540] Depth: 4, width: 32, lr: 0.0001, lambda: 10000.0 ==> score: 0.486607\n",
      "[335/540] Depth: 4, width: 32, lr: 0.0001, lambda: 100000.0 ==> score: 0.500000\n",
      "[336/540] Depth: 4, width: 32, lr: 0.0001, lambda: 0.0 ==> score: 0.566964\n",
      "[337/540] Depth: 4, width: 32, lr: 0.001, lambda: 1e-05 ==> score: 0.683036\n",
      "[338/540] Depth: 4, width: 32, lr: 0.001, lambda: 0.0001 ==> score: 0.691964\n",
      "[339/540] Depth: 4, width: 32, lr: 0.001, lambda: 0.001 ==> score: 0.513393\n",
      "[340/540] Depth: 4, width: 32, lr: 0.001, lambda: 0.01 ==> score: 0.513393\n",
      "[341/540] Depth: 4, width: 32, lr: 0.001, lambda: 0.1 ==> score: 0.553571\n",
      "[342/540] Depth: 4, width: 32, lr: 0.001, lambda: 1.0 ==> score: 0.513393\n",
      "[343/540] Depth: 4, width: 32, lr: 0.001, lambda: 10.0 ==> score: 0.473214\n",
      "[344/540] Depth: 4, width: 32, lr: 0.001, lambda: 100.0 ==> score: 0.500000\n",
      "[345/540] Depth: 4, width: 32, lr: 0.001, lambda: 1000.0 ==> score: 0.486607\n",
      "[346/540] Depth: 4, width: 32, lr: 0.001, lambda: 10000.0 ==> score: 0.513393\n",
      "[347/540] Depth: 4, width: 32, lr: 0.001, lambda: 100000.0 ==> score: 0.486607\n",
      "[348/540] Depth: 4, width: 32, lr: 0.001, lambda: 0.0 ==> score: 0.687500\n",
      "[349/540] Depth: 4, width: 32, lr: 0.01, lambda: 1e-05 ==> score: 0.500000\n",
      "[350/540] Depth: 4, width: 32, lr: 0.01, lambda: 0.0001 ==> score: 0.486607\n",
      "[351/540] Depth: 4, width: 32, lr: 0.01, lambda: 0.001 ==> score: 0.486607\n",
      "[352/540] Depth: 4, width: 32, lr: 0.01, lambda: 0.01 ==> score: 0.486607\n",
      "[353/540] Depth: 4, width: 32, lr: 0.01, lambda: 0.1 ==> score: 0.526786\n",
      "[354/540] Depth: 4, width: 32, lr: 0.01, lambda: 1.0 ==> score: 0.486607\n",
      "[355/540] Depth: 4, width: 32, lr: 0.01, lambda: 10.0 ==> score: 0.513393\n",
      "[356/540] Depth: 4, width: 32, lr: 0.01, lambda: 100.0 ==> score: 0.513393\n",
      "[357/540] Depth: 4, width: 32, lr: 0.01, lambda: 1000.0 ==> score: 0.500000\n",
      "[358/540] Depth: 4, width: 32, lr: 0.01, lambda: 10000.0 ==> score: 0.473214\n",
      "[359/540] Depth: 4, width: 32, lr: 0.01, lambda: 100000.0 ==> score: 0.513393\n",
      "[360/540] Depth: 4, width: 32, lr: 0.01, lambda: 0.0 ==> score: 0.526786\n",
      "[361/540] Depth: 4, width: 64, lr: 0.0001, lambda: 1e-05 ==> score: 0.468750\n",
      "[362/540] Depth: 4, width: 64, lr: 0.0001, lambda: 0.0001 ==> score: 0.598214\n",
      "[363/540] Depth: 4, width: 64, lr: 0.0001, lambda: 0.001 ==> score: 0.500000\n",
      "[364/540] Depth: 4, width: 64, lr: 0.0001, lambda: 0.01 ==> score: 0.486607\n",
      "[365/540] Depth: 4, width: 64, lr: 0.0001, lambda: 0.1 ==> score: 0.500000\n",
      "[366/540] Depth: 4, width: 64, lr: 0.0001, lambda: 1.0 ==> score: 0.500000\n",
      "[367/540] Depth: 4, width: 64, lr: 0.0001, lambda: 10.0 ==> score: 0.500000\n",
      "[368/540] Depth: 4, width: 64, lr: 0.0001, lambda: 100.0 ==> score: 0.526786\n",
      "[369/540] Depth: 4, width: 64, lr: 0.0001, lambda: 1000.0 ==> score: 0.486607\n",
      "[370/540] Depth: 4, width: 64, lr: 0.0001, lambda: 10000.0 ==> score: 0.500000\n",
      "[371/540] Depth: 4, width: 64, lr: 0.0001, lambda: 100000.0 ==> score: 0.486607\n",
      "[372/540] Depth: 4, width: 64, lr: 0.0001, lambda: 0.0 ==> score: 0.616071\n",
      "[373/540] Depth: 4, width: 64, lr: 0.001, lambda: 1e-05 ==> score: 0.808036\n",
      "[374/540] Depth: 4, width: 64, lr: 0.001, lambda: 0.0001 ==> score: 0.785714\n",
      "[375/540] Depth: 4, width: 64, lr: 0.001, lambda: 0.001 ==> score: 0.500000\n",
      "[376/540] Depth: 4, width: 64, lr: 0.001, lambda: 0.01 ==> score: 0.540179\n",
      "[377/540] Depth: 4, width: 64, lr: 0.001, lambda: 0.1 ==> score: 0.513393\n",
      "[378/540] Depth: 4, width: 64, lr: 0.001, lambda: 1.0 ==> score: 0.500000\n",
      "[379/540] Depth: 4, width: 64, lr: 0.001, lambda: 10.0 ==> score: 0.526786\n",
      "[380/540] Depth: 4, width: 64, lr: 0.001, lambda: 100.0 ==> score: 0.500000\n",
      "[381/540] Depth: 4, width: 64, lr: 0.001, lambda: 1000.0 ==> score: 0.540179\n",
      "[382/540] Depth: 4, width: 64, lr: 0.001, lambda: 10000.0 ==> score: 0.486607\n",
      "[383/540] Depth: 4, width: 64, lr: 0.001, lambda: 100000.0 ==> score: 0.500000\n",
      "[384/540] Depth: 4, width: 64, lr: 0.001, lambda: 0.0 ==> score: 0.714286\n",
      "[385/540] Depth: 4, width: 64, lr: 0.01, lambda: 1e-05 ==> score: 0.500000\n",
      "[386/540] Depth: 4, width: 64, lr: 0.01, lambda: 0.0001 ==> score: 0.513393\n",
      "[387/540] Depth: 4, width: 64, lr: 0.01, lambda: 0.001 ==> score: 0.500000\n",
      "[388/540] Depth: 4, width: 64, lr: 0.01, lambda: 0.01 ==> score: 0.459821\n",
      "[389/540] Depth: 4, width: 64, lr: 0.01, lambda: 0.1 ==> score: 0.486607\n",
      "[390/540] Depth: 4, width: 64, lr: 0.01, lambda: 1.0 ==> score: 0.473214\n",
      "[391/540] Depth: 4, width: 64, lr: 0.01, lambda: 10.0 ==> score: 0.500000\n",
      "[392/540] Depth: 4, width: 64, lr: 0.01, lambda: 100.0 ==> score: 0.500000\n",
      "[393/540] Depth: 4, width: 64, lr: 0.01, lambda: 1000.0 ==> score: 0.500000\n",
      "[394/540] Depth: 4, width: 64, lr: 0.01, lambda: 10000.0 ==> score: 0.473214\n",
      "[395/540] Depth: 4, width: 64, lr: 0.01, lambda: 100000.0 ==> score: 0.526786\n",
      "[396/540] Depth: 4, width: 64, lr: 0.01, lambda: 0.0 ==> score: 0.473214\n",
      "[397/540] Depth: 4, width: 128, lr: 0.0001, lambda: 1e-05 ==> score: 0.669643\n",
      "[398/540] Depth: 4, width: 128, lr: 0.0001, lambda: 0.0001 ==> score: 0.808036\n",
      "[399/540] Depth: 4, width: 128, lr: 0.0001, lambda: 0.001 ==> score: 0.513393\n",
      "[400/540] Depth: 4, width: 128, lr: 0.0001, lambda: 0.01 ==> score: 0.500000\n",
      "[401/540] Depth: 4, width: 128, lr: 0.0001, lambda: 0.1 ==> score: 0.513393\n",
      "[402/540] Depth: 4, width: 128, lr: 0.0001, lambda: 1.0 ==> score: 0.526786\n",
      "[403/540] Depth: 4, width: 128, lr: 0.0001, lambda: 10.0 ==> score: 0.526786\n",
      "[404/540] Depth: 4, width: 128, lr: 0.0001, lambda: 100.0 ==> score: 0.486607\n",
      "[405/540] Depth: 4, width: 128, lr: 0.0001, lambda: 1000.0 ==> score: 0.486607\n",
      "[406/540] Depth: 4, width: 128, lr: 0.0001, lambda: 10000.0 ==> score: 0.513393\n",
      "[407/540] Depth: 4, width: 128, lr: 0.0001, lambda: 100000.0 ==> score: 0.473214\n",
      "[408/540] Depth: 4, width: 128, lr: 0.0001, lambda: 0.0 ==> score: 0.763393\n",
      "[409/540] Depth: 4, width: 128, lr: 0.001, lambda: 1e-05 ==> score: 0.763393\n",
      "[410/540] Depth: 4, width: 128, lr: 0.001, lambda: 0.0001 ==> score: 0.500000\n",
      "[411/540] Depth: 4, width: 128, lr: 0.001, lambda: 0.001 ==> score: 0.500000\n",
      "[412/540] Depth: 4, width: 128, lr: 0.001, lambda: 0.01 ==> score: 0.540179\n",
      "[413/540] Depth: 4, width: 128, lr: 0.001, lambda: 0.1 ==> score: 0.513393\n",
      "[414/540] Depth: 4, width: 128, lr: 0.001, lambda: 1.0 ==> score: 0.526786\n",
      "[415/540] Depth: 4, width: 128, lr: 0.001, lambda: 10.0 ==> score: 0.500000\n",
      "[416/540] Depth: 4, width: 128, lr: 0.001, lambda: 100.0 ==> score: 0.500000\n",
      "[417/540] Depth: 4, width: 128, lr: 0.001, lambda: 1000.0 ==> score: 0.500000\n",
      "[418/540] Depth: 4, width: 128, lr: 0.001, lambda: 10000.0 ==> score: 0.540179\n",
      "[419/540] Depth: 4, width: 128, lr: 0.001, lambda: 100000.0 ==> score: 0.473214\n",
      "[420/540] Depth: 4, width: 128, lr: 0.001, lambda: 0.0 ==> score: 0.906250\n",
      "[421/540] Depth: 4, width: 128, lr: 0.01, lambda: 1e-05 ==> score: 0.500000\n",
      "[422/540] Depth: 4, width: 128, lr: 0.01, lambda: 0.0001 ==> score: 0.500000\n",
      "[423/540] Depth: 4, width: 128, lr: 0.01, lambda: 0.001 ==> score: 0.486607\n",
      "[424/540] Depth: 4, width: 128, lr: 0.01, lambda: 0.01 ==> score: 0.513393\n",
      "[425/540] Depth: 4, width: 128, lr: 0.01, lambda: 0.1 ==> score: 0.486607\n",
      "[426/540] Depth: 4, width: 128, lr: 0.01, lambda: 1.0 ==> score: 0.473214\n",
      "[427/540] Depth: 4, width: 128, lr: 0.01, lambda: 10.0 ==> score: 0.500000\n",
      "[428/540] Depth: 4, width: 128, lr: 0.01, lambda: 100.0 ==> score: 0.526786\n",
      "[429/540] Depth: 4, width: 128, lr: 0.01, lambda: 1000.0 ==> score: 0.513393\n",
      "[430/540] Depth: 4, width: 128, lr: 0.01, lambda: 10000.0 ==> score: 0.500000\n",
      "[431/540] Depth: 4, width: 128, lr: 0.01, lambda: 100000.0 ==> score: 0.513393\n",
      "[432/540] Depth: 4, width: 128, lr: 0.01, lambda: 0.0 ==> score: 0.500000\n",
      "[433/540] Depth: 5, width: 32, lr: 0.0001, lambda: 1e-05 ==> score: 0.656250\n",
      "[434/540] Depth: 5, width: 32, lr: 0.0001, lambda: 0.0001 ==> score: 0.691964\n",
      "[435/540] Depth: 5, width: 32, lr: 0.0001, lambda: 0.001 ==> score: 0.513393\n",
      "[436/540] Depth: 5, width: 32, lr: 0.0001, lambda: 0.01 ==> score: 0.486607\n",
      "[437/540] Depth: 5, width: 32, lr: 0.0001, lambda: 0.1 ==> score: 0.486607\n",
      "[438/540] Depth: 5, width: 32, lr: 0.0001, lambda: 1.0 ==> score: 0.513393\n",
      "[439/540] Depth: 5, width: 32, lr: 0.0001, lambda: 10.0 ==> score: 0.486607\n",
      "[440/540] Depth: 5, width: 32, lr: 0.0001, lambda: 100.0 ==> score: 0.540179\n",
      "[441/540] Depth: 5, width: 32, lr: 0.0001, lambda: 1000.0 ==> score: 0.513393\n",
      "[442/540] Depth: 5, width: 32, lr: 0.0001, lambda: 10000.0 ==> score: 0.473214\n",
      "[443/540] Depth: 5, width: 32, lr: 0.0001, lambda: 100000.0 ==> score: 0.500000\n",
      "[444/540] Depth: 5, width: 32, lr: 0.0001, lambda: 0.0 ==> score: 0.808036\n",
      "[445/540] Depth: 5, width: 32, lr: 0.001, lambda: 1e-05 ==> score: 0.674107\n",
      "[446/540] Depth: 5, width: 32, lr: 0.001, lambda: 0.0001 ==> score: 0.486607\n",
      "[447/540] Depth: 5, width: 32, lr: 0.001, lambda: 0.001 ==> score: 0.486607\n",
      "[448/540] Depth: 5, width: 32, lr: 0.001, lambda: 0.01 ==> score: 0.500000\n",
      "[449/540] Depth: 5, width: 32, lr: 0.001, lambda: 0.1 ==> score: 0.513393\n",
      "[450/540] Depth: 5, width: 32, lr: 0.001, lambda: 1.0 ==> score: 0.540179\n",
      "[451/540] Depth: 5, width: 32, lr: 0.001, lambda: 10.0 ==> score: 0.540179\n",
      "[452/540] Depth: 5, width: 32, lr: 0.001, lambda: 100.0 ==> score: 0.486607\n",
      "[453/540] Depth: 5, width: 32, lr: 0.001, lambda: 1000.0 ==> score: 0.486607\n",
      "[454/540] Depth: 5, width: 32, lr: 0.001, lambda: 10000.0 ==> score: 0.500000\n",
      "[455/540] Depth: 5, width: 32, lr: 0.001, lambda: 100000.0 ==> score: 0.500000\n",
      "[456/540] Depth: 5, width: 32, lr: 0.001, lambda: 0.0 ==> score: 0.758929\n",
      "[457/540] Depth: 5, width: 32, lr: 0.01, lambda: 1e-05 ==> score: 0.486607\n",
      "[458/540] Depth: 5, width: 32, lr: 0.01, lambda: 0.0001 ==> score: 0.500000\n",
      "[459/540] Depth: 5, width: 32, lr: 0.01, lambda: 0.001 ==> score: 0.486607\n",
      "[460/540] Depth: 5, width: 32, lr: 0.01, lambda: 0.01 ==> score: 0.526786\n",
      "[461/540] Depth: 5, width: 32, lr: 0.01, lambda: 0.1 ==> score: 0.526786\n",
      "[462/540] Depth: 5, width: 32, lr: 0.01, lambda: 1.0 ==> score: 0.486607\n",
      "[463/540] Depth: 5, width: 32, lr: 0.01, lambda: 10.0 ==> score: 0.500000\n",
      "[464/540] Depth: 5, width: 32, lr: 0.01, lambda: 100.0 ==> score: 0.486607\n",
      "[465/540] Depth: 5, width: 32, lr: 0.01, lambda: 1000.0 ==> score: 0.500000\n",
      "[466/540] Depth: 5, width: 32, lr: 0.01, lambda: 10000.0 ==> score: 0.526786\n",
      "[467/540] Depth: 5, width: 32, lr: 0.01, lambda: 100000.0 ==> score: 0.513393\n",
      "[468/540] Depth: 5, width: 32, lr: 0.01, lambda: 0.0 ==> score: 0.513393\n",
      "[469/540] Depth: 5, width: 64, lr: 0.0001, lambda: 1e-05 ==> score: 0.513393\n",
      "[470/540] Depth: 5, width: 64, lr: 0.0001, lambda: 0.0001 ==> score: 0.691964\n",
      "[471/540] Depth: 5, width: 64, lr: 0.0001, lambda: 0.001 ==> score: 0.486607\n",
      "[472/540] Depth: 5, width: 64, lr: 0.0001, lambda: 0.01 ==> score: 0.500000\n",
      "[473/540] Depth: 5, width: 64, lr: 0.0001, lambda: 0.1 ==> score: 0.473214\n",
      "[474/540] Depth: 5, width: 64, lr: 0.0001, lambda: 1.0 ==> score: 0.500000\n",
      "[475/540] Depth: 5, width: 64, lr: 0.0001, lambda: 10.0 ==> score: 0.486607\n",
      "[476/540] Depth: 5, width: 64, lr: 0.0001, lambda: 100.0 ==> score: 0.486607\n",
      "[477/540] Depth: 5, width: 64, lr: 0.0001, lambda: 1000.0 ==> score: 0.526786\n",
      "[478/540] Depth: 5, width: 64, lr: 0.0001, lambda: 10000.0 ==> score: 0.513393\n",
      "[479/540] Depth: 5, width: 64, lr: 0.0001, lambda: 100000.0 ==> score: 0.486607\n",
      "[480/540] Depth: 5, width: 64, lr: 0.0001, lambda: 0.0 ==> score: 0.562500\n",
      "[481/540] Depth: 5, width: 64, lr: 0.001, lambda: 1e-05 ==> score: 0.691964\n",
      "[482/540] Depth: 5, width: 64, lr: 0.001, lambda: 0.0001 ==> score: 0.500000\n",
      "[483/540] Depth: 5, width: 64, lr: 0.001, lambda: 0.001 ==> score: 0.500000\n",
      "[484/540] Depth: 5, width: 64, lr: 0.001, lambda: 0.01 ==> score: 0.513393\n",
      "[485/540] Depth: 5, width: 64, lr: 0.001, lambda: 0.1 ==> score: 0.526786\n",
      "[486/540] Depth: 5, width: 64, lr: 0.001, lambda: 1.0 ==> score: 0.459821\n",
      "[487/540] Depth: 5, width: 64, lr: 0.001, lambda: 10.0 ==> score: 0.513393\n",
      "[488/540] Depth: 5, width: 64, lr: 0.001, lambda: 100.0 ==> score: 0.526786\n",
      "[489/540] Depth: 5, width: 64, lr: 0.001, lambda: 1000.0 ==> score: 0.500000\n",
      "[490/540] Depth: 5, width: 64, lr: 0.001, lambda: 10000.0 ==> score: 0.486607\n",
      "[491/540] Depth: 5, width: 64, lr: 0.001, lambda: 100000.0 ==> score: 0.513393\n",
      "[492/540] Depth: 5, width: 64, lr: 0.001, lambda: 0.0 ==> score: 0.651786\n",
      "[493/540] Depth: 5, width: 64, lr: 0.01, lambda: 1e-05 ==> score: 0.473214\n",
      "[494/540] Depth: 5, width: 64, lr: 0.01, lambda: 0.0001 ==> score: 0.526786\n",
      "[495/540] Depth: 5, width: 64, lr: 0.01, lambda: 0.001 ==> score: 0.513393\n",
      "[496/540] Depth: 5, width: 64, lr: 0.01, lambda: 0.01 ==> score: 0.500000\n",
      "[497/540] Depth: 5, width: 64, lr: 0.01, lambda: 0.1 ==> score: 0.513393\n",
      "[498/540] Depth: 5, width: 64, lr: 0.01, lambda: 1.0 ==> score: 0.526786\n",
      "[499/540] Depth: 5, width: 64, lr: 0.01, lambda: 10.0 ==> score: 0.473214\n",
      "[500/540] Depth: 5, width: 64, lr: 0.01, lambda: 100.0 ==> score: 0.500000\n",
      "[501/540] Depth: 5, width: 64, lr: 0.01, lambda: 1000.0 ==> score: 0.473214\n",
      "[502/540] Depth: 5, width: 64, lr: 0.01, lambda: 10000.0 ==> score: 0.526786\n",
      "[503/540] Depth: 5, width: 64, lr: 0.01, lambda: 100000.0 ==> score: 0.500000\n",
      "[504/540] Depth: 5, width: 64, lr: 0.01, lambda: 0.0 ==> score: 0.459821\n",
      "[505/540] Depth: 5, width: 128, lr: 0.0001, lambda: 1e-05 ==> score: 0.785714\n",
      "[506/540] Depth: 5, width: 128, lr: 0.0001, lambda: 0.0001 ==> score: 0.647321\n",
      "[507/540] Depth: 5, width: 128, lr: 0.0001, lambda: 0.001 ==> score: 0.513393\n",
      "[508/540] Depth: 5, width: 128, lr: 0.0001, lambda: 0.01 ==> score: 0.500000\n",
      "[509/540] Depth: 5, width: 128, lr: 0.0001, lambda: 0.1 ==> score: 0.526786\n",
      "[510/540] Depth: 5, width: 128, lr: 0.0001, lambda: 1.0 ==> score: 0.500000\n",
      "[511/540] Depth: 5, width: 128, lr: 0.0001, lambda: 10.0 ==> score: 0.513393\n",
      "[512/540] Depth: 5, width: 128, lr: 0.0001, lambda: 100.0 ==> score: 0.500000\n",
      "[513/540] Depth: 5, width: 128, lr: 0.0001, lambda: 1000.0 ==> score: 0.500000\n",
      "[514/540] Depth: 5, width: 128, lr: 0.0001, lambda: 10000.0 ==> score: 0.500000\n",
      "[515/540] Depth: 5, width: 128, lr: 0.0001, lambda: 100000.0 ==> score: 0.486607\n",
      "[516/540] Depth: 5, width: 128, lr: 0.0001, lambda: 0.0 ==> score: 0.754464\n",
      "[517/540] Depth: 5, width: 128, lr: 0.001, lambda: 1e-05 ==> score: 0.526786\n",
      "[518/540] Depth: 5, width: 128, lr: 0.001, lambda: 0.0001 ==> score: 0.500000\n",
      "[519/540] Depth: 5, width: 128, lr: 0.001, lambda: 0.001 ==> score: 0.500000\n",
      "[520/540] Depth: 5, width: 128, lr: 0.001, lambda: 0.01 ==> score: 0.486607\n",
      "[521/540] Depth: 5, width: 128, lr: 0.001, lambda: 0.1 ==> score: 0.526786\n",
      "[522/540] Depth: 5, width: 128, lr: 0.001, lambda: 1.0 ==> score: 0.526786\n",
      "[523/540] Depth: 5, width: 128, lr: 0.001, lambda: 10.0 ==> score: 0.486607\n",
      "[524/540] Depth: 5, width: 128, lr: 0.001, lambda: 100.0 ==> score: 0.500000\n",
      "[525/540] Depth: 5, width: 128, lr: 0.001, lambda: 1000.0 ==> score: 0.486607\n",
      "[526/540] Depth: 5, width: 128, lr: 0.001, lambda: 10000.0 ==> score: 0.526786\n",
      "[527/540] Depth: 5, width: 128, lr: 0.001, lambda: 100000.0 ==> score: 0.500000\n",
      "[528/540] Depth: 5, width: 128, lr: 0.001, lambda: 0.0 ==> score: 0.633929\n",
      "[529/540] Depth: 5, width: 128, lr: 0.01, lambda: 1e-05 ==> score: 0.473214\n",
      "[530/540] Depth: 5, width: 128, lr: 0.01, lambda: 0.0001 ==> score: 0.459821\n",
      "[531/540] Depth: 5, width: 128, lr: 0.01, lambda: 0.001 ==> score: 0.486607\n",
      "[532/540] Depth: 5, width: 128, lr: 0.01, lambda: 0.01 ==> score: 0.500000\n",
      "[533/540] Depth: 5, width: 128, lr: 0.01, lambda: 0.1 ==> score: 0.500000\n",
      "[534/540] Depth: 5, width: 128, lr: 0.01, lambda: 1.0 ==> score: 0.500000\n",
      "[535/540] Depth: 5, width: 128, lr: 0.01, lambda: 10.0 ==> score: 0.513393\n",
      "[536/540] Depth: 5, width: 128, lr: 0.01, lambda: 100.0 ==> score: 0.526786\n",
      "[537/540] Depth: 5, width: 128, lr: 0.01, lambda: 1000.0 ==> score: 0.486607\n",
      "[538/540] Depth: 5, width: 128, lr: 0.01, lambda: 10000.0 ==> score: 0.500000\n",
      "[539/540] Depth: 5, width: 128, lr: 0.01, lambda: 100000.0 ==> score: 0.459821\n",
      "[540/540] Depth: 5, width: 128, lr: 0.01, lambda: 0.0 ==> score: 0.500000\n",
      "\n",
      "Best validation score after 10 epochs: 0.946429\n",
      "Best configuration: depth: 1, width: 128, lr: 0.001, lambda: 0.0\n"
     ]
    }
   ],
   "source": [
    "import json\n",
    "\n",
    "total_count = len(depths) * len(widths) * len(etas) * len(weight_decays)\n",
    "curr_count = 0\n",
    "EPOCHS = 10\n",
    "\n",
    "if VALIDATE_NN:\n",
    "    print(f'Cross-validating across {total_count} models.\\n')\n",
    "\n",
    "    for depth in depths:\n",
    "        for width in widths:\n",
    "            for eta in etas:\n",
    "                for weight_decay in weight_decays:\n",
    "                    model = SimpleNN(7, hidden_layers=depth, hidden_units=width).to(device)\n",
    "                    loss_fn = torch.nn.BCELoss()\n",
    "                    optimizer = torch.optim.Adam(params=model.parameters(), lr=eta, weight_decay=weight_decay)\n",
    "                    metric = BinaryAccuracy()\n",
    "\n",
    "                    history = train_model(\n",
    "                        model=model,\n",
    "                        train_dataloader=train_dataloader,\n",
    "                        val_dataloader=val_dataloader,\n",
    "                        loss_fn=loss_fn,\n",
    "                        optimizer=optimizer,\n",
    "                        metric=metric,\n",
    "                        epochs=EPOCHS,\n",
    "                        verbose=0,\n",
    "                        device=device\n",
    "                    )\n",
    "                    curr_count += 1\n",
    "                    score = history['val_score'][-1]\n",
    "                    print(f'[{curr_count}/{total_count}] Depth: {depth}, width: {width}, lr: {eta}, lambda: {weight_decay} ==> score: {score:.6f}')\n",
    "                    if score > best_score:\n",
    "                        best_score = score\n",
    "                        best_depth = depth\n",
    "                        best_width = width\n",
    "                        best_eta = eta\n",
    "                        best_weight_decay = weight_decay\n",
    "    best_config = {\n",
    "        'score': float(best_score),\n",
    "        'depth': best_depth,\n",
    "        'width': best_width,\n",
    "        'eta': best_eta,\n",
    "        'weight_decay': best_weight_decay\n",
    "    }\n",
    "    with open('configs/nn/orthants-single-empty.json', 'w') as f:\n",
    "        json.dump(best_config, f)\n",
    "\n",
    "print(f'\\nBest validation score after {EPOCHS} epochs: {best_score:.6f}')\n",
    "print(f'Best configuration: depth: {best_depth}, width: {best_width}, lr: {best_eta}, lambda: {best_weight_decay}')"
   ]
  },
  {
   "cell_type": "code",
   "execution_count": 24,
   "metadata": {},
   "outputs": [],
   "source": [
    "best_model_nn = SimpleNN(7, hidden_layers=best_depth, hidden_units=best_width).to(device)"
   ]
  },
  {
   "cell_type": "code",
   "execution_count": 25,
   "metadata": {},
   "outputs": [],
   "source": [
    "from scripts.utils import EarlyStopping\n",
    "\n",
    "loss_fn = torch.nn.BCELoss()\n",
    "optimizer = torch.optim.Adam(params=best_model_nn.parameters(), lr=best_eta, weight_decay=best_weight_decay)\n",
    "metric = BinaryAccuracy()\n",
    "early_stop = EarlyStopping(patience=20, min_delta=1e-4)"
   ]
  },
  {
   "cell_type": "code",
   "execution_count": 26,
   "metadata": {},
   "outputs": [
    {
     "name": "stdout",
     "output_type": "stream",
     "text": [
      "Training model for 500 epochs. Early stopping enabled.\n",
      "Epoch: 1 => Train loss: 0.697696, Train score: 0.497140, Val loss: 0.691001, Val score: 0.410714\n",
      "Epoch: 2 => Train loss: 0.684041, Train score: 0.528967, Val loss: 0.651719, Val score: 0.549107\n",
      "Epoch: 3 => Train loss: 0.630910, Train score: 0.622809, Val loss: 0.623571, Val score: 0.611607\n",
      "Epoch: 4 => Train loss: 0.538080, Train score: 0.739701, Val loss: 0.535100, Val score: 0.638393\n",
      "Epoch: 5 => Train loss: 0.480890, Train score: 0.776475, Val loss: 0.516728, Val score: 0.678571\n",
      "Epoch: 6 => Train loss: 0.431974, Train score: 0.810467, Val loss: 0.536737, Val score: 0.763393\n",
      "Epoch: 7 => Train loss: 0.375558, Train score: 0.849588, Val loss: 0.540667, Val score: 0.678571\n",
      "Epoch: 8 => Train loss: 0.321702, Train score: 0.880143, Val loss: 0.553044, Val score: 0.718750\n",
      "Epoch: 9 => Train loss: 0.279148, Train score: 0.903679, Val loss: 0.552385, Val score: 0.754464\n",
      "Epoch: 10 => Train loss: 0.249968, Train score: 0.915775, Val loss: 0.447164, Val score: 0.763393\n",
      "Epoch: 11 => Train loss: 0.228499, Train score: 0.923830, Val loss: 0.384178, Val score: 0.848214\n",
      "Epoch: 12 => Train loss: 0.207759, Train score: 0.931308, Val loss: 0.279454, Val score: 0.866071\n",
      "Epoch: 13 => Train loss: 0.187098, Train score: 0.940137, Val loss: 0.266019, Val score: 0.883929\n",
      "Epoch: 14 => Train loss: 0.167168, Train score: 0.947156, Val loss: 0.311359, Val score: 0.852679\n",
      "Epoch: 15 => Train loss: 0.149403, Train score: 0.953558, Val loss: 0.395536, Val score: 0.745536\n",
      "Epoch: 16 => Train loss: 0.132679, Train score: 0.959606, Val loss: 0.222249, Val score: 0.906250\n",
      "Epoch: 17 => Train loss: 0.124095, Train score: 0.962374, Val loss: 0.260386, Val score: 0.861607\n",
      "Epoch: 18 => Train loss: 0.116956, Train score: 0.963817, Val loss: 0.197377, Val score: 0.915179\n",
      "Epoch: 19 => Train loss: 0.106745, Train score: 0.967674, Val loss: 0.605137, Val score: 0.794643\n",
      "Epoch: 20 => Train loss: 0.098874, Train score: 0.969327, Val loss: 0.373507, Val score: 0.808036\n",
      "Epoch: 21 => Train loss: 0.097716, Train score: 0.970875, Val loss: 0.158142, Val score: 0.968750\n",
      "Epoch: 22 => Train loss: 0.090518, Train score: 0.973617, Val loss: 0.435170, Val score: 0.736607\n",
      "Epoch: 23 => Train loss: 0.084562, Train score: 0.975231, Val loss: 0.330784, Val score: 0.825893\n",
      "Epoch: 24 => Train loss: 0.085562, Train score: 0.974811, Val loss: 0.245613, Val score: 0.870536\n",
      "Epoch: 25 => Train loss: 0.080853, Train score: 0.974719, Val loss: 0.419908, Val score: 0.808036\n",
      "Epoch: 26 => Train loss: 0.074078, Train score: 0.978091, Val loss: 0.234468, Val score: 0.892857\n",
      "Epoch: 27 => Train loss: 0.069637, Train score: 0.979770, Val loss: 0.373523, Val score: 0.821429\n",
      "Epoch: 28 => Train loss: 0.072180, Train score: 0.977789, Val loss: 0.101663, Val score: 0.964286\n",
      "Epoch: 29 => Train loss: 0.066845, Train score: 0.980242, Val loss: 0.244919, Val score: 0.879464\n",
      "Epoch: 30 => Train loss: 0.063476, Train score: 0.981187, Val loss: 0.178043, Val score: 0.888393\n",
      "Epoch: 31 => Train loss: 0.060505, Train score: 0.982643, Val loss: 0.431455, Val score: 0.839286\n",
      "Epoch: 32 => Train loss: 0.060808, Train score: 0.981659, Val loss: 0.222750, Val score: 0.875000\n",
      "Epoch: 33 => Train loss: 0.058531, Train score: 0.981935, Val loss: 0.207471, Val score: 0.888393\n",
      "Epoch: 34 => Train loss: 0.057731, Train score: 0.981463, Val loss: 0.429058, Val score: 0.794643\n",
      "Epoch: 35 => Train loss: 0.055425, Train score: 0.983509, Val loss: 0.716062, Val score: 0.790179\n",
      "Epoch: 36 => Train loss: 0.052787, Train score: 0.984336, Val loss: 0.347094, Val score: 0.834821\n",
      "Epoch: 37 => Train loss: 0.052534, Train score: 0.983811, Val loss: 0.202373, Val score: 0.924107\n",
      "Epoch: 38 => Train loss: 0.055496, Train score: 0.982722, Val loss: 0.258437, Val score: 0.861607\n",
      "Epoch: 39 => Train loss: 0.045166, Train score: 0.986304, Val loss: 0.064293, Val score: 0.982143\n",
      "Epoch: 40 => Train loss: 0.048036, Train score: 0.986107, Val loss: 0.177419, Val score: 0.915179\n",
      "Epoch: 41 => Train loss: 0.050159, Train score: 0.984519, Val loss: 0.557560, Val score: 0.776786\n",
      "Epoch: 42 => Train loss: 0.045715, Train score: 0.985910, Val loss: 0.590378, Val score: 0.803571\n",
      "Epoch: 43 => Train loss: 0.043556, Train score: 0.987642, Val loss: 0.799464, Val score: 0.767857\n",
      "Epoch: 44 => Train loss: 0.048645, Train score: 0.985202, Val loss: 0.161092, Val score: 0.915179\n",
      "Epoch: 45 => Train loss: 0.040693, Train score: 0.987510, Val loss: 0.098827, Val score: 0.968750\n",
      "Epoch: 46 => Train loss: 0.043146, Train score: 0.986304, Val loss: 0.169493, Val score: 0.910714\n",
      "Epoch: 47 => Train loss: 0.042146, Train score: 0.987117, Val loss: 0.728743, Val score: 0.629464\n",
      "Epoch: 48 => Train loss: 0.042643, Train score: 0.986343, Val loss: 1.812262, Val score: 0.656250\n",
      "Epoch: 49 => Train loss: 0.042498, Train score: 0.986540, Val loss: 1.280593, Val score: 0.741071\n",
      "Epoch: 50 => Train loss: 0.039608, Train score: 0.986815, Val loss: 0.427085, Val score: 0.839286\n",
      "Epoch: 51 => Train loss: 0.037711, Train score: 0.988416, Val loss: 1.255489, Val score: 0.642857\n",
      "Epoch: 52 => Train loss: 0.045193, Train score: 0.985477, Val loss: 0.564077, Val score: 0.816964\n",
      "Epoch: 53 => Train loss: 0.036174, Train score: 0.988429, Val loss: 0.275676, Val score: 0.875000\n",
      "Epoch: 54 => Train loss: 0.034462, Train score: 0.988927, Val loss: 0.131417, Val score: 0.937500\n",
      "Epoch: 55 => Train loss: 0.038236, Train score: 0.988429, Val loss: 0.932690, Val score: 0.727679\n",
      "Epoch: 56 => Train loss: 0.040153, Train score: 0.987130, Val loss: 0.195579, Val score: 0.910714\n",
      "Epoch: 57 => Train loss: 0.035347, Train score: 0.989465, Val loss: 0.305837, Val score: 0.883929\n",
      "Epoch: 58 => Train loss: 0.037246, Train score: 0.988455, Val loss: 0.086978, Val score: 0.982143\n",
      "Epoch: 59 => Train loss: 0.034353, Train score: 0.989177, Val loss: 0.552964, Val score: 0.799107\n",
      "Training stopped.\n"
     ]
    }
   ],
   "source": [
    "if TRAIN:\n",
    "    history = train_model(\n",
    "        model=best_model_nn,\n",
    "        train_dataloader=train_dataloader,\n",
    "        val_dataloader=val_dataloader,\n",
    "        loss_fn=loss_fn,\n",
    "        optimizer=optimizer,\n",
    "        metric=metric,\n",
    "        epochs=500,\n",
    "        early_stopping=early_stop,\n",
    "        device=device,\n",
    "        return_models=True\n",
    "    )\n",
    "    torch.save(best_model_nn.state_dict(), 'models/orthants-single-empty.pth')\n",
    "else:\n",
    "    best_model_nn.load_state_dict(torch.load('models/orthants-single-empty.pth'))"
   ]
  },
  {
   "cell_type": "code",
   "execution_count": 27,
   "metadata": {},
   "outputs": [
    {
     "data": {
      "image/png": "[encoded data removed]",
      "text/plain": [
       "<Figure size 1200x600 with 2 Axes>"
      ]
     },
     "metadata": {},
     "output_type": "display_data"
    }
   ],
   "source": [
    "from scripts.utils import plot_train_history\n",
    "\n",
    "if TRAIN:\n",
    "    plot_train_history(history)"
   ]
  },
  {
   "cell_type": "code",
   "execution_count": 44,
   "metadata": {},
   "outputs": [
    {
     "data": {
      "image/png": "[encoded data removed]",
      "text/plain": [
       "<Figure size 1500x1600 with 4 Axes>"
      ]
     },
     "metadata": {},
     "output_type": "display_data"
    }
   ],
   "source": [
    "from scripts.ntk import get_ntk_feature_matrix\n",
    "from matplotlib.animation import FuncAnimation, FFMpegWriter\n",
    "import datetime as dt\n",
    "import os\n",
    "\n",
    "dist_00 = torch.tensor([find_orthant(X_total_0[torch.argmin(((x_test.reshape(1,-1)-X_total_0)**2).sum(dim=1))]) for x_test in X_empty_0])\n",
    "dist_01 = torch.tensor([find_orthant(X_total_1[torch.argmin(((x_test.reshape(1,-1)-X_total_1)**2).sum(dim=1))]) for x_test in X_empty_0])\n",
    "dist_10 = torch.tensor([find_orthant(X_total_0[torch.argmin(((x_test.reshape(1,-1)-X_total_0)**2).sum(dim=1))]) for x_test in X_empty_1])\n",
    "dist_11 = torch.tensor([find_orthant(X_total_1[torch.argmin(((x_test.reshape(1,-1)-X_total_1)**2).sum(dim=1))]) for x_test in X_empty_1])\n",
    "\n",
    "fig, ax = plt.subplots(2, 2, figsize=(15, 16))\n",
    "FPS = 4\n",
    "\n",
    "def plot_closest_points(i):\n",
    "    model_i = history['models'][i]\n",
    "\n",
    "    train_neg_grads = get_ntk_feature_matrix(X_total_0, model_i)\n",
    "    train_pos_grads = get_ntk_feature_matrix(X_total_1, model_i)\n",
    "\n",
    "    test_neg_grads = get_ntk_feature_matrix(X_empty_0, model_i)\n",
    "    test_pos_grads = get_ntk_feature_matrix(X_empty_1, model_i)\n",
    "\n",
    "    grad_dist_00 = torch.tensor([find_orthant(X_total_0[torch.argmin(((x_test.reshape(1,-1)-train_neg_grads)**2).sum(dim=1))]) for x_test in test_neg_grads])\n",
    "    grad_dist_01 = torch.tensor([find_orthant(X_total_1[torch.argmin(((x_test.reshape(1,-1)-train_pos_grads)**2).sum(dim=1))]) for x_test in test_neg_grads])\n",
    "    grad_dist_10 = torch.tensor([find_orthant(X_total_0[torch.argmin(((x_test.reshape(1,-1)-train_neg_grads)**2).sum(dim=1))]) for x_test in test_pos_grads])\n",
    "    grad_dist_11 = torch.tensor([find_orthant(X_total_1[torch.argmin(((x_test.reshape(1,-1)-train_pos_grads)**2).sum(dim=1))]) for x_test in test_pos_grads])\n",
    "\n",
    "    ax[0][0].clear()\n",
    "    ax[0][0].scatter(range(TEST_COUNT), dist_00, c='r', label='Euclidean distance')\n",
    "    ax[0][0].scatter(range(TEST_COUNT), grad_dist_00, c='g', label='Distance between grads')\n",
    "    ax[0][0].legend()\n",
    "    ax[0][0].set_title('Empty 0, others 0')\n",
    "    ax[0][0].set_ylim(0, 128)\n",
    "\n",
    "    ax[0][1].clear()\n",
    "    ax[0][1].scatter(range(TEST_COUNT), dist_01, c='r', label='Euclidean distance')\n",
    "    ax[0][1].scatter(range(TEST_COUNT), grad_dist_01, c='g', label='Distance between grads')\n",
    "    ax[0][1].legend()\n",
    "    ax[0][1].set_title('Empty 0, others 1')\n",
    "    ax[0][1].set_ylim(0, 128)\n",
    "\n",
    "    ax[1][0].clear()\n",
    "    ax[1][0].scatter(range(TEST_COUNT), dist_10, c='r', label='Euclidean distance')\n",
    "    ax[1][0].scatter(range(TEST_COUNT), grad_dist_10, c='g', label='Distance between grads')\n",
    "    ax[1][0].legend()\n",
    "    ax[1][0].set_title('Empty 1, others 0')\n",
    "    ax[1][0].set_ylim(0, 128)\n",
    "\n",
    "    ax[1][1].clear()\n",
    "    ax[1][1].scatter(range(TEST_COUNT), dist_11, c='r', label='Euclidean distance')\n",
    "    ax[1][1].scatter(range(TEST_COUNT), grad_dist_11, c='g', label='Distance between grads')\n",
    "    ax[1][1].legend()\n",
    "    ax[1][1].set_title('Empty 1, others 1')\n",
    "    ax[1][1].set_ylim(0, 128)\n",
    "\n",
    "    plt.suptitle('Closest orthant vs point number, epoch '+str(i))\n",
    "\n",
    "ani = FuncAnimation(fig, plot_closest_points, frames=len(history['models']), interval=1000/FPS, repeat=True)\n",
    "writer = FFMpegWriter(fps=FPS, bitrate=1800, metadata=dict(artist='Me'))\n",
    "\n",
    "now = dt.datetime.now().strftime(\"%d%m%Y_%H%M\")\n",
    "folder_name = 'animations/'+now\n",
    "os.mkdir(folder_name)\n",
    "\n",
    "ani.save(folder_name+'/closest_pts.mp4', writer=writer)"
   ]
  },
  {
   "cell_type": "code",
   "execution_count": 30,
   "metadata": {},
   "outputs": [
    {
     "data": {
      "image/png": "[encoded data removed]",
      "text/plain": [
       "<Figure size 1800x900 with 8 Axes>"
      ]
     },
     "metadata": {},
     "output_type": "display_data"
    }
   ],
   "source": [
    "from scripts.utils import plot_radial_visualization\n",
    "\n",
    "if TRAIN:\n",
    "    plot_radial_visualization(\n",
    "        models=history['models'],\n",
    "        mp4_save_file_name='radial_1empty',\n",
    "        orthant_counts=orthant_counts,\n",
    "        main_orthant=ZERO_ORTHANT_INDEX,\n",
    "        fps=4\n",
    "    )"
   ]
  },
  {
   "cell_type": "code",
   "execution_count": 31,
   "metadata": {},
   "outputs": [],
   "source": [
    "from scripts.test import predict\n",
    "\n",
    "scores_nn = torch.tensor([\n",
    "    metric(\n",
    "        predict(best_model_nn, X_test[i], device),\n",
    "        Y_test[i]\n",
    "    ) for i in range(128)\n",
    "])"
   ]
  },
  {
   "cell_type": "code",
   "execution_count": 32,
   "metadata": {},
   "outputs": [
    {
     "data": {
      "text/plain": [
       "(tensor(0.9840), tensor(0.7900))"
      ]
     },
     "execution_count": 32,
     "metadata": {},
     "output_type": "execute_result"
    }
   ],
   "source": [
    "scores_nn.mean(), scores_nn[ZERO_ORTHANT_INDEX].mean()"
   ]
  },
  {
   "attachments": {},
   "cell_type": "markdown",
   "metadata": {},
   "source": [
    "## SVM"
   ]
  },
  {
   "cell_type": "code",
   "execution_count": 33,
   "metadata": {},
   "outputs": [],
   "source": [
    "from sklearn.svm import SVC\n",
    "from sklearn.metrics import accuracy_score, make_scorer\n",
    "from scripts.ntk import NTK\n",
    "from sklearn.model_selection import GridSearchCV"
   ]
  },
  {
   "cell_type": "code",
   "execution_count": 34,
   "metadata": {},
   "outputs": [],
   "source": [
    "ntk = NTK(best_model_nn).get_ntk"
   ]
  },
  {
   "cell_type": "code",
   "execution_count": 45,
   "metadata": {},
   "outputs": [],
   "source": [
    "model_base_ntk = SVC(kernel=ntk, max_iter=int(1e4))\n",
    "params_ntk = {\n",
    "    'C': np.logspace(-5, 5, 11)\n",
    "}\n",
    "best_params_ntk = {\n",
    "    'C': None,\n",
    "    'score': -np.inf\n",
    "}\n",
    "\n",
    "gammas = np.logspace(-5, 5, 11).tolist()\n",
    "gammas.append('scale')\n",
    "gammas.append('auto')\n",
    "model_base_rbf = SVC(kernel='rbf', max_iter=int(1e4))\n",
    "params_rbf = {\n",
    "    'C': np.logspace(-5, 5, 11),\n",
    "    'gamma': gammas\n",
    "}\n",
    "best_params_rbf = {\n",
    "    'C': None,\n",
    "    'gamma': None,\n",
    "    'score': -np.inf\n",
    "}\n",
    "\n",
    "scorer = make_scorer(accuracy_score)"
   ]
  },
  {
   "cell_type": "code",
   "execution_count": 46,
   "metadata": {},
   "outputs": [
    {
     "name": "stdout",
     "output_type": "stream",
     "text": [
      "Cross-validating across 11 models.\n"
     ]
    },
    {
     "name": "stderr",
     "output_type": "stream",
     "text": [
      "/home/balakrishnan/.local/lib/python3.10/site-packages/sklearn/svm/_base.py:299: ConvergenceWarning: Solver terminated early (max_iter=10000).  Consider pre-processing your data with StandardScaler or MinMaxScaler.\n",
      "  warnings.warn(\n"
     ]
    },
    {
     "name": "stdout",
     "output_type": "stream",
     "text": [
      "[1/11]\tC:1e-05, train score:0.5023622047244094, val score:0.52\n"
     ]
    },
    {
     "name": "stderr",
     "output_type": "stream",
     "text": [
      "/home/balakrishnan/.local/lib/python3.10/site-packages/sklearn/svm/_base.py:299: ConvergenceWarning: Solver terminated early (max_iter=10000).  Consider pre-processing your data with StandardScaler or MinMaxScaler.\n",
      "  warnings.warn(\n"
     ]
    },
    {
     "name": "stdout",
     "output_type": "stream",
     "text": [
      "[2/11]\tC:0.0001, train score:0.5023622047244094, val score:0.52\n"
     ]
    },
    {
     "name": "stderr",
     "output_type": "stream",
     "text": [
      "/home/balakrishnan/.local/lib/python3.10/site-packages/sklearn/svm/_base.py:299: ConvergenceWarning: Solver terminated early (max_iter=10000).  Consider pre-processing your data with StandardScaler or MinMaxScaler.\n",
      "  warnings.warn(\n"
     ]
    },
    {
     "name": "stdout",
     "output_type": "stream",
     "text": [
      "[3/11]\tC:0.001, train score:0.5023622047244094, val score:0.52\n"
     ]
    },
    {
     "name": "stderr",
     "output_type": "stream",
     "text": [
      "/home/balakrishnan/.local/lib/python3.10/site-packages/sklearn/svm/_base.py:299: ConvergenceWarning: Solver terminated early (max_iter=10000).  Consider pre-processing your data with StandardScaler or MinMaxScaler.\n",
      "  warnings.warn(\n"
     ]
    },
    {
     "name": "stdout",
     "output_type": "stream",
     "text": [
      "[4/11]\tC:0.01, train score:0.5028346456692914, val score:0.52\n"
     ]
    },
    {
     "name": "stderr",
     "output_type": "stream",
     "text": [
      "/home/balakrishnan/.local/lib/python3.10/site-packages/sklearn/svm/_base.py:299: ConvergenceWarning: Solver terminated early (max_iter=10000).  Consider pre-processing your data with StandardScaler or MinMaxScaler.\n",
      "  warnings.warn(\n"
     ]
    },
    {
     "name": "stdout",
     "output_type": "stream",
     "text": [
      "[5/11]\tC:0.1, train score:0.5117716535433071, val score:0.67\n"
     ]
    },
    {
     "name": "stderr",
     "output_type": "stream",
     "text": [
      "/home/balakrishnan/.local/lib/python3.10/site-packages/sklearn/svm/_base.py:299: ConvergenceWarning: Solver terminated early (max_iter=10000).  Consider pre-processing your data with StandardScaler or MinMaxScaler.\n",
      "  warnings.warn(\n"
     ]
    },
    {
     "name": "stdout",
     "output_type": "stream",
     "text": [
      "[6/11]\tC:1.0, train score:0.535, val score:0.72\n"
     ]
    },
    {
     "name": "stderr",
     "output_type": "stream",
     "text": [
      "/home/balakrishnan/.local/lib/python3.10/site-packages/sklearn/svm/_base.py:299: ConvergenceWarning: Solver terminated early (max_iter=10000).  Consider pre-processing your data with StandardScaler or MinMaxScaler.\n",
      "  warnings.warn(\n"
     ]
    },
    {
     "name": "stdout",
     "output_type": "stream",
     "text": [
      "[7/11]\tC:10.0, train score:0.5196062992125984, val score:0.65\n"
     ]
    },
    {
     "name": "stderr",
     "output_type": "stream",
     "text": [
      "/home/balakrishnan/.local/lib/python3.10/site-packages/sklearn/svm/_base.py:299: ConvergenceWarning: Solver terminated early (max_iter=10000).  Consider pre-processing your data with StandardScaler or MinMaxScaler.\n",
      "  warnings.warn(\n"
     ]
    },
    {
     "name": "stdout",
     "output_type": "stream",
     "text": [
      "[8/11]\tC:100.0, train score:0.5326771653543307, val score:0.74\n"
     ]
    },
    {
     "name": "stderr",
     "output_type": "stream",
     "text": [
      "/home/balakrishnan/.local/lib/python3.10/site-packages/sklearn/svm/_base.py:299: ConvergenceWarning: Solver terminated early (max_iter=10000).  Consider pre-processing your data with StandardScaler or MinMaxScaler.\n",
      "  warnings.warn(\n"
     ]
    },
    {
     "name": "stdout",
     "output_type": "stream",
     "text": [
      "[9/11]\tC:1000.0, train score:0.567244094488189, val score:0.685\n"
     ]
    },
    {
     "name": "stderr",
     "output_type": "stream",
     "text": [
      "/home/balakrishnan/.local/lib/python3.10/site-packages/sklearn/svm/_base.py:299: ConvergenceWarning: Solver terminated early (max_iter=10000).  Consider pre-processing your data with StandardScaler or MinMaxScaler.\n",
      "  warnings.warn(\n"
     ]
    },
    {
     "name": "stdout",
     "output_type": "stream",
     "text": [
      "[10/11]\tC:10000.0, train score:0.5590551181102362, val score:0.725\n"
     ]
    },
    {
     "name": "stderr",
     "output_type": "stream",
     "text": [
      "/home/balakrishnan/.local/lib/python3.10/site-packages/sklearn/svm/_base.py:299: ConvergenceWarning: Solver terminated early (max_iter=10000).  Consider pre-processing your data with StandardScaler or MinMaxScaler.\n",
      "  warnings.warn(\n"
     ]
    },
    {
     "name": "stdout",
     "output_type": "stream",
     "text": [
      "[11/11]\tC:100000.0, train score:0.6001968503937007, val score:0.615\n",
      "\n",
      "Best validation accuracy: 0.74, for C = 100.0\n"
     ]
    }
   ],
   "source": [
    "if VALIDATE_SVM:\n",
    "    total_count = len(params_ntk['C'])\n",
    "    curr_count = 0\n",
    "    print(f'Cross-validating across {total_count} models.')\n",
    "    for C in params_ntk['C']:\n",
    "        curr_count += 1\n",
    "        model_cv_ntk = SVC(kernel=ntk, C=C, max_iter=int(1e4))\n",
    "        model_cv_ntk.fit(X_train, Y_train.squeeze())\n",
    "        preds_train, preds_val = model_cv_ntk.predict(X_train), model_cv_ntk.predict(X_val)\n",
    "        score_train, score_val = accuracy_score(Y_train.squeeze(), preds_train), accuracy_score(Y_val.squeeze(), preds_val)\n",
    "        if score_val > best_params_ntk['score']:\n",
    "            best_params_ntk['C'] = C\n",
    "            best_params_ntk['score'] = score_val\n",
    "        print(f'[{curr_count}/{total_count}]\\tC:{C}, train score:{score_train}, val score:{score_val}')\n",
    "    print(f\"\\nBest validation accuracy: {best_params_ntk['score']}, for C = {best_params_ntk['C']}\")"
   ]
  },
  {
   "cell_type": "code",
   "execution_count": 47,
   "metadata": {},
   "outputs": [
    {
     "name": "stdout",
     "output_type": "stream",
     "text": [
      "Cross-validating across 143 models.\n"
     ]
    },
    {
     "name": "stderr",
     "output_type": "stream",
     "text": [
      "/home/balakrishnan/.local/lib/python3.10/site-packages/sklearn/svm/_base.py:299: ConvergenceWarning: Solver terminated early (max_iter=10000).  Consider pre-processing your data with StandardScaler or MinMaxScaler.\n",
      "  warnings.warn(\n"
     ]
    },
    {
     "name": "stdout",
     "output_type": "stream",
     "text": [
      "[1/143]\tC:1e-05, gamma:1e-05, train score:0.43838582677165355, val score:0.335\n"
     ]
    },
    {
     "name": "stderr",
     "output_type": "stream",
     "text": [
      "/home/balakrishnan/.local/lib/python3.10/site-packages/sklearn/svm/_base.py:299: ConvergenceWarning: Solver terminated early (max_iter=10000).  Consider pre-processing your data with StandardScaler or MinMaxScaler.\n",
      "  warnings.warn(\n"
     ]
    },
    {
     "name": "stdout",
     "output_type": "stream",
     "text": [
      "[2/143]\tC:1e-05, gamma:0.0001, train score:0.4372834645669291, val score:0.335\n"
     ]
    },
    {
     "name": "stderr",
     "output_type": "stream",
     "text": [
      "/home/balakrishnan/.local/lib/python3.10/site-packages/sklearn/svm/_base.py:299: ConvergenceWarning: Solver terminated early (max_iter=10000).  Consider pre-processing your data with StandardScaler or MinMaxScaler.\n",
      "  warnings.warn(\n"
     ]
    },
    {
     "name": "stdout",
     "output_type": "stream",
     "text": [
      "[3/143]\tC:1e-05, gamma:0.001, train score:0.504763779527559, val score:0.5\n"
     ]
    },
    {
     "name": "stderr",
     "output_type": "stream",
     "text": [
      "/home/balakrishnan/.local/lib/python3.10/site-packages/sklearn/svm/_base.py:299: ConvergenceWarning: Solver terminated early (max_iter=10000).  Consider pre-processing your data with StandardScaler or MinMaxScaler.\n",
      "  warnings.warn(\n"
     ]
    },
    {
     "name": "stdout",
     "output_type": "stream",
     "text": [
      "[4/143]\tC:1e-05, gamma:0.01, train score:0.4739763779527559, val score:0.465\n"
     ]
    },
    {
     "name": "stderr",
     "output_type": "stream",
     "text": [
      "/home/balakrishnan/.local/lib/python3.10/site-packages/sklearn/svm/_base.py:299: ConvergenceWarning: Solver terminated early (max_iter=10000).  Consider pre-processing your data with StandardScaler or MinMaxScaler.\n",
      "  warnings.warn(\n"
     ]
    },
    {
     "name": "stdout",
     "output_type": "stream",
     "text": [
      "[5/143]\tC:1e-05, gamma:0.1, train score:0.9517716535433071, val score:0.5\n"
     ]
    },
    {
     "name": "stderr",
     "output_type": "stream",
     "text": [
      "/home/balakrishnan/.local/lib/python3.10/site-packages/sklearn/svm/_base.py:299: ConvergenceWarning: Solver terminated early (max_iter=10000).  Consider pre-processing your data with StandardScaler or MinMaxScaler.\n",
      "  warnings.warn(\n"
     ]
    },
    {
     "name": "stdout",
     "output_type": "stream",
     "text": [
      "[6/143]\tC:1e-05, gamma:1.0, train score:1.0, val score:0.5\n"
     ]
    },
    {
     "name": "stderr",
     "output_type": "stream",
     "text": [
      "/home/balakrishnan/.local/lib/python3.10/site-packages/sklearn/svm/_base.py:299: ConvergenceWarning: Solver terminated early (max_iter=10000).  Consider pre-processing your data with StandardScaler or MinMaxScaler.\n",
      "  warnings.warn(\n"
     ]
    },
    {
     "name": "stdout",
     "output_type": "stream",
     "text": [
      "[7/143]\tC:1e-05, gamma:10.0, train score:1.0, val score:0.5\n"
     ]
    },
    {
     "name": "stderr",
     "output_type": "stream",
     "text": [
      "/home/balakrishnan/.local/lib/python3.10/site-packages/sklearn/svm/_base.py:299: ConvergenceWarning: Solver terminated early (max_iter=10000).  Consider pre-processing your data with StandardScaler or MinMaxScaler.\n",
      "  warnings.warn(\n"
     ]
    },
    {
     "name": "stdout",
     "output_type": "stream",
     "text": [
      "[8/143]\tC:1e-05, gamma:100.0, train score:1.0, val score:0.5\n"
     ]
    },
    {
     "name": "stderr",
     "output_type": "stream",
     "text": [
      "/home/balakrishnan/.local/lib/python3.10/site-packages/sklearn/svm/_base.py:299: ConvergenceWarning: Solver terminated early (max_iter=10000).  Consider pre-processing your data with StandardScaler or MinMaxScaler.\n",
      "  warnings.warn(\n"
     ]
    },
    {
     "name": "stdout",
     "output_type": "stream",
     "text": [
      "[9/143]\tC:1e-05, gamma:1000.0, train score:0.960236220472441, val score:0.5\n"
     ]
    },
    {
     "name": "stderr",
     "output_type": "stream",
     "text": [
      "/home/balakrishnan/.local/lib/python3.10/site-packages/sklearn/svm/_base.py:299: ConvergenceWarning: Solver terminated early (max_iter=10000).  Consider pre-processing your data with StandardScaler or MinMaxScaler.\n",
      "  warnings.warn(\n"
     ]
    },
    {
     "name": "stdout",
     "output_type": "stream",
     "text": [
      "[10/143]\tC:1e-05, gamma:10000.0, train score:0.9043700787401575, val score:0.5\n"
     ]
    },
    {
     "name": "stderr",
     "output_type": "stream",
     "text": [
      "/home/balakrishnan/.local/lib/python3.10/site-packages/sklearn/svm/_base.py:299: ConvergenceWarning: Solver terminated early (max_iter=10000).  Consider pre-processing your data with StandardScaler or MinMaxScaler.\n",
      "  warnings.warn(\n"
     ]
    },
    {
     "name": "stdout",
     "output_type": "stream",
     "text": [
      "[11/143]\tC:1e-05, gamma:100000.0, train score:0.8951968503937008, val score:0.5\n"
     ]
    },
    {
     "name": "stderr",
     "output_type": "stream",
     "text": [
      "/home/balakrishnan/.local/lib/python3.10/site-packages/sklearn/svm/_base.py:299: ConvergenceWarning: Solver terminated early (max_iter=10000).  Consider pre-processing your data with StandardScaler or MinMaxScaler.\n",
      "  warnings.warn(\n"
     ]
    },
    {
     "name": "stdout",
     "output_type": "stream",
     "text": [
      "[12/143]\tC:1e-05, gamma:scale, train score:0.4671259842519685, val score:0.46\n"
     ]
    },
    {
     "name": "stderr",
     "output_type": "stream",
     "text": [
      "/home/balakrishnan/.local/lib/python3.10/site-packages/sklearn/svm/_base.py:299: ConvergenceWarning: Solver terminated early (max_iter=10000).  Consider pre-processing your data with StandardScaler or MinMaxScaler.\n",
      "  warnings.warn(\n"
     ]
    },
    {
     "name": "stdout",
     "output_type": "stream",
     "text": [
      "[13/143]\tC:1e-05, gamma:auto, train score:0.9954724409448819, val score:0.5\n"
     ]
    },
    {
     "name": "stderr",
     "output_type": "stream",
     "text": [
      "/home/balakrishnan/.local/lib/python3.10/site-packages/sklearn/svm/_base.py:299: ConvergenceWarning: Solver terminated early (max_iter=10000).  Consider pre-processing your data with StandardScaler or MinMaxScaler.\n",
      "  warnings.warn(\n"
     ]
    },
    {
     "name": "stdout",
     "output_type": "stream",
     "text": [
      "[14/143]\tC:0.0001, gamma:1e-05, train score:0.44448818897637793, val score:0.34\n"
     ]
    },
    {
     "name": "stderr",
     "output_type": "stream",
     "text": [
      "/home/balakrishnan/.local/lib/python3.10/site-packages/sklearn/svm/_base.py:299: ConvergenceWarning: Solver terminated early (max_iter=10000).  Consider pre-processing your data with StandardScaler or MinMaxScaler.\n",
      "  warnings.warn(\n"
     ]
    },
    {
     "name": "stdout",
     "output_type": "stream",
     "text": [
      "[15/143]\tC:0.0001, gamma:0.0001, train score:0.4372834645669291, val score:0.335\n"
     ]
    },
    {
     "name": "stderr",
     "output_type": "stream",
     "text": [
      "/home/balakrishnan/.local/lib/python3.10/site-packages/sklearn/svm/_base.py:299: ConvergenceWarning: Solver terminated early (max_iter=10000).  Consider pre-processing your data with StandardScaler or MinMaxScaler.\n",
      "  warnings.warn(\n"
     ]
    },
    {
     "name": "stdout",
     "output_type": "stream",
     "text": [
      "[16/143]\tC:0.0001, gamma:0.001, train score:0.5112204724409449, val score:0.49\n"
     ]
    },
    {
     "name": "stderr",
     "output_type": "stream",
     "text": [
      "/home/balakrishnan/.local/lib/python3.10/site-packages/sklearn/svm/_base.py:299: ConvergenceWarning: Solver terminated early (max_iter=10000).  Consider pre-processing your data with StandardScaler or MinMaxScaler.\n",
      "  warnings.warn(\n"
     ]
    },
    {
     "name": "stdout",
     "output_type": "stream",
     "text": [
      "[17/143]\tC:0.0001, gamma:0.01, train score:0.4732677165354331, val score:0.465\n"
     ]
    },
    {
     "name": "stderr",
     "output_type": "stream",
     "text": [
      "/home/balakrishnan/.local/lib/python3.10/site-packages/sklearn/svm/_base.py:299: ConvergenceWarning: Solver terminated early (max_iter=10000).  Consider pre-processing your data with StandardScaler or MinMaxScaler.\n",
      "  warnings.warn(\n"
     ]
    },
    {
     "name": "stdout",
     "output_type": "stream",
     "text": [
      "[18/143]\tC:0.0001, gamma:0.1, train score:0.9514173228346456, val score:0.5\n"
     ]
    },
    {
     "name": "stderr",
     "output_type": "stream",
     "text": [
      "/home/balakrishnan/.local/lib/python3.10/site-packages/sklearn/svm/_base.py:299: ConvergenceWarning: Solver terminated early (max_iter=10000).  Consider pre-processing your data with StandardScaler or MinMaxScaler.\n",
      "  warnings.warn(\n"
     ]
    },
    {
     "name": "stdout",
     "output_type": "stream",
     "text": [
      "[19/143]\tC:0.0001, gamma:1.0, train score:1.0, val score:0.5\n"
     ]
    },
    {
     "name": "stderr",
     "output_type": "stream",
     "text": [
      "/home/balakrishnan/.local/lib/python3.10/site-packages/sklearn/svm/_base.py:299: ConvergenceWarning: Solver terminated early (max_iter=10000).  Consider pre-processing your data with StandardScaler or MinMaxScaler.\n",
      "  warnings.warn(\n"
     ]
    },
    {
     "name": "stdout",
     "output_type": "stream",
     "text": [
      "[20/143]\tC:0.0001, gamma:10.0, train score:1.0, val score:0.5\n"
     ]
    },
    {
     "name": "stderr",
     "output_type": "stream",
     "text": [
      "/home/balakrishnan/.local/lib/python3.10/site-packages/sklearn/svm/_base.py:299: ConvergenceWarning: Solver terminated early (max_iter=10000).  Consider pre-processing your data with StandardScaler or MinMaxScaler.\n",
      "  warnings.warn(\n"
     ]
    },
    {
     "name": "stdout",
     "output_type": "stream",
     "text": [
      "[21/143]\tC:0.0001, gamma:100.0, train score:1.0, val score:0.5\n"
     ]
    },
    {
     "name": "stderr",
     "output_type": "stream",
     "text": [
      "/home/balakrishnan/.local/lib/python3.10/site-packages/sklearn/svm/_base.py:299: ConvergenceWarning: Solver terminated early (max_iter=10000).  Consider pre-processing your data with StandardScaler or MinMaxScaler.\n",
      "  warnings.warn(\n"
     ]
    },
    {
     "name": "stdout",
     "output_type": "stream",
     "text": [
      "[22/143]\tC:0.0001, gamma:1000.0, train score:0.9645669291338582, val score:0.5\n"
     ]
    },
    {
     "name": "stderr",
     "output_type": "stream",
     "text": [
      "/home/balakrishnan/.local/lib/python3.10/site-packages/sklearn/svm/_base.py:299: ConvergenceWarning: Solver terminated early (max_iter=10000).  Consider pre-processing your data with StandardScaler or MinMaxScaler.\n",
      "  warnings.warn(\n"
     ]
    },
    {
     "name": "stdout",
     "output_type": "stream",
     "text": [
      "[23/143]\tC:0.0001, gamma:10000.0, train score:0.9051181102362205, val score:0.5\n"
     ]
    },
    {
     "name": "stderr",
     "output_type": "stream",
     "text": [
      "/home/balakrishnan/.local/lib/python3.10/site-packages/sklearn/svm/_base.py:299: ConvergenceWarning: Solver terminated early (max_iter=10000).  Consider pre-processing your data with StandardScaler or MinMaxScaler.\n",
      "  warnings.warn(\n"
     ]
    },
    {
     "name": "stdout",
     "output_type": "stream",
     "text": [
      "[24/143]\tC:0.0001, gamma:100000.0, train score:0.8952755905511811, val score:0.5\n"
     ]
    },
    {
     "name": "stderr",
     "output_type": "stream",
     "text": [
      "/home/balakrishnan/.local/lib/python3.10/site-packages/sklearn/svm/_base.py:299: ConvergenceWarning: Solver terminated early (max_iter=10000).  Consider pre-processing your data with StandardScaler or MinMaxScaler.\n",
      "  warnings.warn(\n"
     ]
    },
    {
     "name": "stdout",
     "output_type": "stream",
     "text": [
      "[25/143]\tC:0.0001, gamma:scale, train score:0.46496062992125986, val score:0.465\n"
     ]
    },
    {
     "name": "stderr",
     "output_type": "stream",
     "text": [
      "/home/balakrishnan/.local/lib/python3.10/site-packages/sklearn/svm/_base.py:299: ConvergenceWarning: Solver terminated early (max_iter=10000).  Consider pre-processing your data with StandardScaler or MinMaxScaler.\n",
      "  warnings.warn(\n"
     ]
    },
    {
     "name": "stdout",
     "output_type": "stream",
     "text": [
      "[26/143]\tC:0.0001, gamma:auto, train score:0.9954724409448819, val score:0.5\n"
     ]
    },
    {
     "name": "stderr",
     "output_type": "stream",
     "text": [
      "/home/balakrishnan/.local/lib/python3.10/site-packages/sklearn/svm/_base.py:299: ConvergenceWarning: Solver terminated early (max_iter=10000).  Consider pre-processing your data with StandardScaler or MinMaxScaler.\n",
      "  warnings.warn(\n"
     ]
    },
    {
     "name": "stdout",
     "output_type": "stream",
     "text": [
      "[27/143]\tC:0.001, gamma:1e-05, train score:0.44448818897637793, val score:0.34\n"
     ]
    },
    {
     "name": "stderr",
     "output_type": "stream",
     "text": [
      "/home/balakrishnan/.local/lib/python3.10/site-packages/sklearn/svm/_base.py:299: ConvergenceWarning: Solver terminated early (max_iter=10000).  Consider pre-processing your data with StandardScaler or MinMaxScaler.\n",
      "  warnings.warn(\n"
     ]
    },
    {
     "name": "stdout",
     "output_type": "stream",
     "text": [
      "[28/143]\tC:0.001, gamma:0.0001, train score:0.4407874015748032, val score:0.335\n"
     ]
    },
    {
     "name": "stderr",
     "output_type": "stream",
     "text": [
      "/home/balakrishnan/.local/lib/python3.10/site-packages/sklearn/svm/_base.py:299: ConvergenceWarning: Solver terminated early (max_iter=10000).  Consider pre-processing your data with StandardScaler or MinMaxScaler.\n",
      "  warnings.warn(\n"
     ]
    },
    {
     "name": "stdout",
     "output_type": "stream",
     "text": [
      "[29/143]\tC:0.001, gamma:0.001, train score:0.5065354330708661, val score:0.5\n"
     ]
    },
    {
     "name": "stderr",
     "output_type": "stream",
     "text": [
      "/home/balakrishnan/.local/lib/python3.10/site-packages/sklearn/svm/_base.py:299: ConvergenceWarning: Solver terminated early (max_iter=10000).  Consider pre-processing your data with StandardScaler or MinMaxScaler.\n",
      "  warnings.warn(\n"
     ]
    },
    {
     "name": "stdout",
     "output_type": "stream",
     "text": [
      "[30/143]\tC:0.001, gamma:0.01, train score:0.47334645669291336, val score:0.475\n"
     ]
    },
    {
     "name": "stderr",
     "output_type": "stream",
     "text": [
      "/home/balakrishnan/.local/lib/python3.10/site-packages/sklearn/svm/_base.py:299: ConvergenceWarning: Solver terminated early (max_iter=10000).  Consider pre-processing your data with StandardScaler or MinMaxScaler.\n",
      "  warnings.warn(\n"
     ]
    },
    {
     "name": "stdout",
     "output_type": "stream",
     "text": [
      "[31/143]\tC:0.001, gamma:0.1, train score:0.942007874015748, val score:0.5\n"
     ]
    },
    {
     "name": "stderr",
     "output_type": "stream",
     "text": [
      "/home/balakrishnan/.local/lib/python3.10/site-packages/sklearn/svm/_base.py:299: ConvergenceWarning: Solver terminated early (max_iter=10000).  Consider pre-processing your data with StandardScaler or MinMaxScaler.\n",
      "  warnings.warn(\n"
     ]
    },
    {
     "name": "stdout",
     "output_type": "stream",
     "text": [
      "[32/143]\tC:0.001, gamma:1.0, train score:1.0, val score:0.5\n"
     ]
    },
    {
     "name": "stderr",
     "output_type": "stream",
     "text": [
      "/home/balakrishnan/.local/lib/python3.10/site-packages/sklearn/svm/_base.py:299: ConvergenceWarning: Solver terminated early (max_iter=10000).  Consider pre-processing your data with StandardScaler or MinMaxScaler.\n",
      "  warnings.warn(\n"
     ]
    },
    {
     "name": "stdout",
     "output_type": "stream",
     "text": [
      "[33/143]\tC:0.001, gamma:10.0, train score:1.0, val score:0.5\n"
     ]
    },
    {
     "name": "stderr",
     "output_type": "stream",
     "text": [
      "/home/balakrishnan/.local/lib/python3.10/site-packages/sklearn/svm/_base.py:299: ConvergenceWarning: Solver terminated early (max_iter=10000).  Consider pre-processing your data with StandardScaler or MinMaxScaler.\n",
      "  warnings.warn(\n"
     ]
    },
    {
     "name": "stdout",
     "output_type": "stream",
     "text": [
      "[34/143]\tC:0.001, gamma:100.0, train score:1.0, val score:0.5\n"
     ]
    },
    {
     "name": "stderr",
     "output_type": "stream",
     "text": [
      "/home/balakrishnan/.local/lib/python3.10/site-packages/sklearn/svm/_base.py:299: ConvergenceWarning: Solver terminated early (max_iter=10000).  Consider pre-processing your data with StandardScaler or MinMaxScaler.\n",
      "  warnings.warn(\n"
     ]
    },
    {
     "name": "stdout",
     "output_type": "stream",
     "text": [
      "[35/143]\tC:0.001, gamma:1000.0, train score:0.968503937007874, val score:0.5\n"
     ]
    },
    {
     "name": "stderr",
     "output_type": "stream",
     "text": [
      "/home/balakrishnan/.local/lib/python3.10/site-packages/sklearn/svm/_base.py:299: ConvergenceWarning: Solver terminated early (max_iter=10000).  Consider pre-processing your data with StandardScaler or MinMaxScaler.\n",
      "  warnings.warn(\n"
     ]
    },
    {
     "name": "stdout",
     "output_type": "stream",
     "text": [
      "[36/143]\tC:0.001, gamma:10000.0, train score:0.9054330708661418, val score:0.5\n"
     ]
    },
    {
     "name": "stderr",
     "output_type": "stream",
     "text": [
      "/home/balakrishnan/.local/lib/python3.10/site-packages/sklearn/svm/_base.py:299: ConvergenceWarning: Solver terminated early (max_iter=10000).  Consider pre-processing your data with StandardScaler or MinMaxScaler.\n",
      "  warnings.warn(\n"
     ]
    },
    {
     "name": "stdout",
     "output_type": "stream",
     "text": [
      "[37/143]\tC:0.001, gamma:100000.0, train score:0.8955118110236221, val score:0.5\n"
     ]
    },
    {
     "name": "stderr",
     "output_type": "stream",
     "text": [
      "/home/balakrishnan/.local/lib/python3.10/site-packages/sklearn/svm/_base.py:299: ConvergenceWarning: Solver terminated early (max_iter=10000).  Consider pre-processing your data with StandardScaler or MinMaxScaler.\n",
      "  warnings.warn(\n"
     ]
    },
    {
     "name": "stdout",
     "output_type": "stream",
     "text": [
      "[38/143]\tC:0.001, gamma:scale, train score:0.46885826771653544, val score:0.485\n"
     ]
    },
    {
     "name": "stderr",
     "output_type": "stream",
     "text": [
      "/home/balakrishnan/.local/lib/python3.10/site-packages/sklearn/svm/_base.py:299: ConvergenceWarning: Solver terminated early (max_iter=10000).  Consider pre-processing your data with StandardScaler or MinMaxScaler.\n",
      "  warnings.warn(\n"
     ]
    },
    {
     "name": "stdout",
     "output_type": "stream",
     "text": [
      "[39/143]\tC:0.001, gamma:auto, train score:0.9954330708661417, val score:0.5\n"
     ]
    },
    {
     "name": "stderr",
     "output_type": "stream",
     "text": [
      "/home/balakrishnan/.local/lib/python3.10/site-packages/sklearn/svm/_base.py:299: ConvergenceWarning: Solver terminated early (max_iter=10000).  Consider pre-processing your data with StandardScaler or MinMaxScaler.\n",
      "  warnings.warn(\n"
     ]
    },
    {
     "name": "stdout",
     "output_type": "stream",
     "text": [
      "[40/143]\tC:0.01, gamma:1e-05, train score:0.44448818897637793, val score:0.34\n"
     ]
    },
    {
     "name": "stderr",
     "output_type": "stream",
     "text": [
      "/home/balakrishnan/.local/lib/python3.10/site-packages/sklearn/svm/_base.py:299: ConvergenceWarning: Solver terminated early (max_iter=10000).  Consider pre-processing your data with StandardScaler or MinMaxScaler.\n",
      "  warnings.warn(\n"
     ]
    },
    {
     "name": "stdout",
     "output_type": "stream",
     "text": [
      "[41/143]\tC:0.01, gamma:0.0001, train score:0.4369291338582677, val score:0.325\n"
     ]
    },
    {
     "name": "stderr",
     "output_type": "stream",
     "text": [
      "/home/balakrishnan/.local/lib/python3.10/site-packages/sklearn/svm/_base.py:299: ConvergenceWarning: Solver terminated early (max_iter=10000).  Consider pre-processing your data with StandardScaler or MinMaxScaler.\n",
      "  warnings.warn(\n"
     ]
    },
    {
     "name": "stdout",
     "output_type": "stream",
     "text": [
      "[42/143]\tC:0.01, gamma:0.001, train score:0.5077952755905512, val score:0.5\n"
     ]
    },
    {
     "name": "stderr",
     "output_type": "stream",
     "text": [
      "/home/balakrishnan/.local/lib/python3.10/site-packages/sklearn/svm/_base.py:299: ConvergenceWarning: Solver terminated early (max_iter=10000).  Consider pre-processing your data with StandardScaler or MinMaxScaler.\n",
      "  warnings.warn(\n"
     ]
    },
    {
     "name": "stdout",
     "output_type": "stream",
     "text": [
      "[43/143]\tC:0.01, gamma:0.01, train score:0.4725984251968504, val score:0.5\n"
     ]
    },
    {
     "name": "stderr",
     "output_type": "stream",
     "text": [
      "/home/balakrishnan/.local/lib/python3.10/site-packages/sklearn/svm/_base.py:299: ConvergenceWarning: Solver terminated early (max_iter=10000).  Consider pre-processing your data with StandardScaler or MinMaxScaler.\n",
      "  warnings.warn(\n"
     ]
    },
    {
     "name": "stdout",
     "output_type": "stream",
     "text": [
      "[44/143]\tC:0.01, gamma:0.1, train score:0.9535039370078741, val score:0.5\n"
     ]
    },
    {
     "name": "stderr",
     "output_type": "stream",
     "text": [
      "/home/balakrishnan/.local/lib/python3.10/site-packages/sklearn/svm/_base.py:299: ConvergenceWarning: Solver terminated early (max_iter=10000).  Consider pre-processing your data with StandardScaler or MinMaxScaler.\n",
      "  warnings.warn(\n"
     ]
    },
    {
     "name": "stdout",
     "output_type": "stream",
     "text": [
      "[45/143]\tC:0.01, gamma:1.0, train score:1.0, val score:0.5\n"
     ]
    },
    {
     "name": "stderr",
     "output_type": "stream",
     "text": [
      "/home/balakrishnan/.local/lib/python3.10/site-packages/sklearn/svm/_base.py:299: ConvergenceWarning: Solver terminated early (max_iter=10000).  Consider pre-processing your data with StandardScaler or MinMaxScaler.\n",
      "  warnings.warn(\n"
     ]
    },
    {
     "name": "stdout",
     "output_type": "stream",
     "text": [
      "[46/143]\tC:0.01, gamma:10.0, train score:1.0, val score:0.5\n"
     ]
    },
    {
     "name": "stderr",
     "output_type": "stream",
     "text": [
      "/home/balakrishnan/.local/lib/python3.10/site-packages/sklearn/svm/_base.py:299: ConvergenceWarning: Solver terminated early (max_iter=10000).  Consider pre-processing your data with StandardScaler or MinMaxScaler.\n",
      "  warnings.warn(\n"
     ]
    },
    {
     "name": "stdout",
     "output_type": "stream",
     "text": [
      "[47/143]\tC:0.01, gamma:100.0, train score:1.0, val score:0.5\n"
     ]
    },
    {
     "name": "stderr",
     "output_type": "stream",
     "text": [
      "/home/balakrishnan/.local/lib/python3.10/site-packages/sklearn/svm/_base.py:299: ConvergenceWarning: Solver terminated early (max_iter=10000).  Consider pre-processing your data with StandardScaler or MinMaxScaler.\n",
      "  warnings.warn(\n"
     ]
    },
    {
     "name": "stdout",
     "output_type": "stream",
     "text": [
      "[48/143]\tC:0.01, gamma:1000.0, train score:0.9724409448818898, val score:0.5\n"
     ]
    },
    {
     "name": "stderr",
     "output_type": "stream",
     "text": [
      "/home/balakrishnan/.local/lib/python3.10/site-packages/sklearn/svm/_base.py:299: ConvergenceWarning: Solver terminated early (max_iter=10000).  Consider pre-processing your data with StandardScaler or MinMaxScaler.\n",
      "  warnings.warn(\n"
     ]
    },
    {
     "name": "stdout",
     "output_type": "stream",
     "text": [
      "[49/143]\tC:0.01, gamma:10000.0, train score:0.9068110236220472, val score:0.5\n"
     ]
    },
    {
     "name": "stderr",
     "output_type": "stream",
     "text": [
      "/home/balakrishnan/.local/lib/python3.10/site-packages/sklearn/svm/_base.py:299: ConvergenceWarning: Solver terminated early (max_iter=10000).  Consider pre-processing your data with StandardScaler or MinMaxScaler.\n",
      "  warnings.warn(\n"
     ]
    },
    {
     "name": "stdout",
     "output_type": "stream",
     "text": [
      "[50/143]\tC:0.01, gamma:100000.0, train score:0.8955511811023622, val score:0.5\n"
     ]
    },
    {
     "name": "stderr",
     "output_type": "stream",
     "text": [
      "/home/balakrishnan/.local/lib/python3.10/site-packages/sklearn/svm/_base.py:299: ConvergenceWarning: Solver terminated early (max_iter=10000).  Consider pre-processing your data with StandardScaler or MinMaxScaler.\n",
      "  warnings.warn(\n"
     ]
    },
    {
     "name": "stdout",
     "output_type": "stream",
     "text": [
      "[51/143]\tC:0.01, gamma:scale, train score:0.4630314960629921, val score:0.465\n"
     ]
    },
    {
     "name": "stderr",
     "output_type": "stream",
     "text": [
      "/home/balakrishnan/.local/lib/python3.10/site-packages/sklearn/svm/_base.py:299: ConvergenceWarning: Solver terminated early (max_iter=10000).  Consider pre-processing your data with StandardScaler or MinMaxScaler.\n",
      "  warnings.warn(\n"
     ]
    },
    {
     "name": "stdout",
     "output_type": "stream",
     "text": [
      "[52/143]\tC:0.01, gamma:auto, train score:0.9953149606299213, val score:0.5\n"
     ]
    },
    {
     "name": "stderr",
     "output_type": "stream",
     "text": [
      "/home/balakrishnan/.local/lib/python3.10/site-packages/sklearn/svm/_base.py:299: ConvergenceWarning: Solver terminated early (max_iter=10000).  Consider pre-processing your data with StandardScaler or MinMaxScaler.\n",
      "  warnings.warn(\n"
     ]
    },
    {
     "name": "stdout",
     "output_type": "stream",
     "text": [
      "[53/143]\tC:0.1, gamma:1e-05, train score:0.43905511811023623, val score:0.33\n"
     ]
    },
    {
     "name": "stderr",
     "output_type": "stream",
     "text": [
      "/home/balakrishnan/.local/lib/python3.10/site-packages/sklearn/svm/_base.py:299: ConvergenceWarning: Solver terminated early (max_iter=10000).  Consider pre-processing your data with StandardScaler or MinMaxScaler.\n",
      "  warnings.warn(\n"
     ]
    },
    {
     "name": "stdout",
     "output_type": "stream",
     "text": [
      "[54/143]\tC:0.1, gamma:0.0001, train score:0.43901574803149607, val score:0.335\n"
     ]
    },
    {
     "name": "stderr",
     "output_type": "stream",
     "text": [
      "/home/balakrishnan/.local/lib/python3.10/site-packages/sklearn/svm/_base.py:299: ConvergenceWarning: Solver terminated early (max_iter=10000).  Consider pre-processing your data with StandardScaler or MinMaxScaler.\n",
      "  warnings.warn(\n"
     ]
    },
    {
     "name": "stdout",
     "output_type": "stream",
     "text": [
      "[55/143]\tC:0.1, gamma:0.001, train score:0.4816535433070866, val score:0.455\n"
     ]
    },
    {
     "name": "stderr",
     "output_type": "stream",
     "text": [
      "/home/balakrishnan/.local/lib/python3.10/site-packages/sklearn/svm/_base.py:299: ConvergenceWarning: Solver terminated early (max_iter=10000).  Consider pre-processing your data with StandardScaler or MinMaxScaler.\n",
      "  warnings.warn(\n"
     ]
    },
    {
     "name": "stdout",
     "output_type": "stream",
     "text": [
      "[56/143]\tC:0.1, gamma:0.01, train score:0.49984251968503934, val score:0.5\n"
     ]
    },
    {
     "name": "stderr",
     "output_type": "stream",
     "text": [
      "/home/balakrishnan/.local/lib/python3.10/site-packages/sklearn/svm/_base.py:299: ConvergenceWarning: Solver terminated early (max_iter=10000).  Consider pre-processing your data with StandardScaler or MinMaxScaler.\n",
      "  warnings.warn(\n"
     ]
    },
    {
     "name": "stdout",
     "output_type": "stream",
     "text": [
      "[57/143]\tC:0.1, gamma:0.1, train score:0.9803149606299213, val score:0.5\n"
     ]
    },
    {
     "name": "stderr",
     "output_type": "stream",
     "text": [
      "/home/balakrishnan/.local/lib/python3.10/site-packages/sklearn/svm/_base.py:299: ConvergenceWarning: Solver terminated early (max_iter=10000).  Consider pre-processing your data with StandardScaler or MinMaxScaler.\n",
      "  warnings.warn(\n"
     ]
    },
    {
     "name": "stdout",
     "output_type": "stream",
     "text": [
      "[58/143]\tC:0.1, gamma:1.0, train score:1.0, val score:0.5\n"
     ]
    },
    {
     "name": "stderr",
     "output_type": "stream",
     "text": [
      "/home/balakrishnan/.local/lib/python3.10/site-packages/sklearn/svm/_base.py:299: ConvergenceWarning: Solver terminated early (max_iter=10000).  Consider pre-processing your data with StandardScaler or MinMaxScaler.\n",
      "  warnings.warn(\n"
     ]
    },
    {
     "name": "stdout",
     "output_type": "stream",
     "text": [
      "[59/143]\tC:0.1, gamma:10.0, train score:1.0, val score:0.5\n"
     ]
    },
    {
     "name": "stderr",
     "output_type": "stream",
     "text": [
      "/home/balakrishnan/.local/lib/python3.10/site-packages/sklearn/svm/_base.py:299: ConvergenceWarning: Solver terminated early (max_iter=10000).  Consider pre-processing your data with StandardScaler or MinMaxScaler.\n",
      "  warnings.warn(\n"
     ]
    },
    {
     "name": "stdout",
     "output_type": "stream",
     "text": [
      "[60/143]\tC:0.1, gamma:100.0, train score:1.0, val score:0.5\n"
     ]
    },
    {
     "name": "stderr",
     "output_type": "stream",
     "text": [
      "/home/balakrishnan/.local/lib/python3.10/site-packages/sklearn/svm/_base.py:299: ConvergenceWarning: Solver terminated early (max_iter=10000).  Consider pre-processing your data with StandardScaler or MinMaxScaler.\n",
      "  warnings.warn(\n"
     ]
    },
    {
     "name": "stdout",
     "output_type": "stream",
     "text": [
      "[61/143]\tC:0.1, gamma:1000.0, train score:0.9763385826771653, val score:0.5\n"
     ]
    },
    {
     "name": "stderr",
     "output_type": "stream",
     "text": [
      "/home/balakrishnan/.local/lib/python3.10/site-packages/sklearn/svm/_base.py:299: ConvergenceWarning: Solver terminated early (max_iter=10000).  Consider pre-processing your data with StandardScaler or MinMaxScaler.\n",
      "  warnings.warn(\n"
     ]
    },
    {
     "name": "stdout",
     "output_type": "stream",
     "text": [
      "[62/143]\tC:0.1, gamma:10000.0, train score:0.9079527559055118, val score:0.5\n"
     ]
    },
    {
     "name": "stderr",
     "output_type": "stream",
     "text": [
      "/home/balakrishnan/.local/lib/python3.10/site-packages/sklearn/svm/_base.py:299: ConvergenceWarning: Solver terminated early (max_iter=10000).  Consider pre-processing your data with StandardScaler or MinMaxScaler.\n",
      "  warnings.warn(\n"
     ]
    },
    {
     "name": "stdout",
     "output_type": "stream",
     "text": [
      "[63/143]\tC:0.1, gamma:100000.0, train score:0.8957086614173229, val score:0.5\n"
     ]
    },
    {
     "name": "stderr",
     "output_type": "stream",
     "text": [
      "/home/balakrishnan/.local/lib/python3.10/site-packages/sklearn/svm/_base.py:299: ConvergenceWarning: Solver terminated early (max_iter=10000).  Consider pre-processing your data with StandardScaler or MinMaxScaler.\n",
      "  warnings.warn(\n"
     ]
    },
    {
     "name": "stdout",
     "output_type": "stream",
     "text": [
      "[64/143]\tC:0.1, gamma:scale, train score:0.49145669291338584, val score:0.5\n"
     ]
    },
    {
     "name": "stderr",
     "output_type": "stream",
     "text": [
      "/home/balakrishnan/.local/lib/python3.10/site-packages/sklearn/svm/_base.py:299: ConvergenceWarning: Solver terminated early (max_iter=10000).  Consider pre-processing your data with StandardScaler or MinMaxScaler.\n",
      "  warnings.warn(\n"
     ]
    },
    {
     "name": "stdout",
     "output_type": "stream",
     "text": [
      "[65/143]\tC:0.1, gamma:auto, train score:1.0, val score:0.5\n"
     ]
    },
    {
     "name": "stderr",
     "output_type": "stream",
     "text": [
      "/home/balakrishnan/.local/lib/python3.10/site-packages/sklearn/svm/_base.py:299: ConvergenceWarning: Solver terminated early (max_iter=10000).  Consider pre-processing your data with StandardScaler or MinMaxScaler.\n",
      "  warnings.warn(\n"
     ]
    },
    {
     "name": "stdout",
     "output_type": "stream",
     "text": [
      "[66/143]\tC:1.0, gamma:1e-05, train score:0.4432283464566929, val score:0.34\n"
     ]
    },
    {
     "name": "stderr",
     "output_type": "stream",
     "text": [
      "/home/balakrishnan/.local/lib/python3.10/site-packages/sklearn/svm/_base.py:299: ConvergenceWarning: Solver terminated early (max_iter=10000).  Consider pre-processing your data with StandardScaler or MinMaxScaler.\n",
      "  warnings.warn(\n"
     ]
    },
    {
     "name": "stdout",
     "output_type": "stream",
     "text": [
      "[67/143]\tC:1.0, gamma:0.0001, train score:0.47562992125984255, val score:0.455\n"
     ]
    },
    {
     "name": "stderr",
     "output_type": "stream",
     "text": [
      "/home/balakrishnan/.local/lib/python3.10/site-packages/sklearn/svm/_base.py:299: ConvergenceWarning: Solver terminated early (max_iter=10000).  Consider pre-processing your data with StandardScaler or MinMaxScaler.\n",
      "  warnings.warn(\n"
     ]
    },
    {
     "name": "stdout",
     "output_type": "stream",
     "text": [
      "[68/143]\tC:1.0, gamma:0.001, train score:0.49866141732283464, val score:0.5\n"
     ]
    },
    {
     "name": "stderr",
     "output_type": "stream",
     "text": [
      "/home/balakrishnan/.local/lib/python3.10/site-packages/sklearn/svm/_base.py:299: ConvergenceWarning: Solver terminated early (max_iter=10000).  Consider pre-processing your data with StandardScaler or MinMaxScaler.\n",
      "  warnings.warn(\n"
     ]
    },
    {
     "name": "stdout",
     "output_type": "stream",
     "text": [
      "[69/143]\tC:1.0, gamma:0.01, train score:0.568228346456693, val score:0.5\n"
     ]
    },
    {
     "name": "stderr",
     "output_type": "stream",
     "text": [
      "/home/balakrishnan/.local/lib/python3.10/site-packages/sklearn/svm/_base.py:299: ConvergenceWarning: Solver terminated early (max_iter=10000).  Consider pre-processing your data with StandardScaler or MinMaxScaler.\n",
      "  warnings.warn(\n"
     ]
    },
    {
     "name": "stdout",
     "output_type": "stream",
     "text": [
      "[70/143]\tC:1.0, gamma:0.1, train score:1.0, val score:0.5\n"
     ]
    },
    {
     "name": "stderr",
     "output_type": "stream",
     "text": [
      "/home/balakrishnan/.local/lib/python3.10/site-packages/sklearn/svm/_base.py:299: ConvergenceWarning: Solver terminated early (max_iter=10000).  Consider pre-processing your data with StandardScaler or MinMaxScaler.\n",
      "  warnings.warn(\n"
     ]
    },
    {
     "name": "stdout",
     "output_type": "stream",
     "text": [
      "[71/143]\tC:1.0, gamma:1.0, train score:1.0, val score:0.5\n"
     ]
    },
    {
     "name": "stderr",
     "output_type": "stream",
     "text": [
      "/home/balakrishnan/.local/lib/python3.10/site-packages/sklearn/svm/_base.py:299: ConvergenceWarning: Solver terminated early (max_iter=10000).  Consider pre-processing your data with StandardScaler or MinMaxScaler.\n",
      "  warnings.warn(\n"
     ]
    },
    {
     "name": "stdout",
     "output_type": "stream",
     "text": [
      "[72/143]\tC:1.0, gamma:10.0, train score:1.0, val score:0.5\n"
     ]
    },
    {
     "name": "stderr",
     "output_type": "stream",
     "text": [
      "/home/balakrishnan/.local/lib/python3.10/site-packages/sklearn/svm/_base.py:299: ConvergenceWarning: Solver terminated early (max_iter=10000).  Consider pre-processing your data with StandardScaler or MinMaxScaler.\n",
      "  warnings.warn(\n"
     ]
    },
    {
     "name": "stdout",
     "output_type": "stream",
     "text": [
      "[73/143]\tC:1.0, gamma:100.0, train score:1.0, val score:0.5\n"
     ]
    },
    {
     "name": "stderr",
     "output_type": "stream",
     "text": [
      "/home/balakrishnan/.local/lib/python3.10/site-packages/sklearn/svm/_base.py:299: ConvergenceWarning: Solver terminated early (max_iter=10000).  Consider pre-processing your data with StandardScaler or MinMaxScaler.\n",
      "  warnings.warn(\n"
     ]
    },
    {
     "name": "stdout",
     "output_type": "stream",
     "text": [
      "[74/143]\tC:1.0, gamma:1000.0, train score:0.9818897637795275, val score:0.5\n"
     ]
    },
    {
     "name": "stderr",
     "output_type": "stream",
     "text": [
      "/home/balakrishnan/.local/lib/python3.10/site-packages/sklearn/svm/_base.py:299: ConvergenceWarning: Solver terminated early (max_iter=10000).  Consider pre-processing your data with StandardScaler or MinMaxScaler.\n",
      "  warnings.warn(\n"
     ]
    },
    {
     "name": "stdout",
     "output_type": "stream",
     "text": [
      "[75/143]\tC:1.0, gamma:10000.0, train score:0.9081889763779527, val score:0.5\n"
     ]
    },
    {
     "name": "stderr",
     "output_type": "stream",
     "text": [
      "/home/balakrishnan/.local/lib/python3.10/site-packages/sklearn/svm/_base.py:299: ConvergenceWarning: Solver terminated early (max_iter=10000).  Consider pre-processing your data with StandardScaler or MinMaxScaler.\n",
      "  warnings.warn(\n"
     ]
    },
    {
     "name": "stdout",
     "output_type": "stream",
     "text": [
      "[76/143]\tC:1.0, gamma:100000.0, train score:0.8958267716535433, val score:0.5\n"
     ]
    },
    {
     "name": "stderr",
     "output_type": "stream",
     "text": [
      "/home/balakrishnan/.local/lib/python3.10/site-packages/sklearn/svm/_base.py:299: ConvergenceWarning: Solver terminated early (max_iter=10000).  Consider pre-processing your data with StandardScaler or MinMaxScaler.\n",
      "  warnings.warn(\n"
     ]
    },
    {
     "name": "stdout",
     "output_type": "stream",
     "text": [
      "[77/143]\tC:1.0, gamma:scale, train score:0.5198031496062993, val score:0.5\n"
     ]
    },
    {
     "name": "stderr",
     "output_type": "stream",
     "text": [
      "/home/balakrishnan/.local/lib/python3.10/site-packages/sklearn/svm/_base.py:299: ConvergenceWarning: Solver terminated early (max_iter=10000).  Consider pre-processing your data with StandardScaler or MinMaxScaler.\n",
      "  warnings.warn(\n"
     ]
    },
    {
     "name": "stdout",
     "output_type": "stream",
     "text": [
      "[78/143]\tC:1.0, gamma:auto, train score:1.0, val score:0.5\n"
     ]
    },
    {
     "name": "stderr",
     "output_type": "stream",
     "text": [
      "/home/balakrishnan/.local/lib/python3.10/site-packages/sklearn/svm/_base.py:299: ConvergenceWarning: Solver terminated early (max_iter=10000).  Consider pre-processing your data with StandardScaler or MinMaxScaler.\n",
      "  warnings.warn(\n"
     ]
    },
    {
     "name": "stdout",
     "output_type": "stream",
     "text": [
      "[79/143]\tC:10.0, gamma:1e-05, train score:0.4541338582677165, val score:0.405\n"
     ]
    },
    {
     "name": "stderr",
     "output_type": "stream",
     "text": [
      "/home/balakrishnan/.local/lib/python3.10/site-packages/sklearn/svm/_base.py:299: ConvergenceWarning: Solver terminated early (max_iter=10000).  Consider pre-processing your data with StandardScaler or MinMaxScaler.\n",
      "  warnings.warn(\n"
     ]
    },
    {
     "name": "stdout",
     "output_type": "stream",
     "text": [
      "[80/143]\tC:10.0, gamma:0.0001, train score:0.5068897637795275, val score:0.5\n"
     ]
    },
    {
     "name": "stderr",
     "output_type": "stream",
     "text": [
      "/home/balakrishnan/.local/lib/python3.10/site-packages/sklearn/svm/_base.py:299: ConvergenceWarning: Solver terminated early (max_iter=10000).  Consider pre-processing your data with StandardScaler or MinMaxScaler.\n",
      "  warnings.warn(\n"
     ]
    },
    {
     "name": "stdout",
     "output_type": "stream",
     "text": [
      "[81/143]\tC:10.0, gamma:0.001, train score:0.5011023622047244, val score:0.5\n"
     ]
    },
    {
     "name": "stderr",
     "output_type": "stream",
     "text": [
      "/home/balakrishnan/.local/lib/python3.10/site-packages/sklearn/svm/_base.py:299: ConvergenceWarning: Solver terminated early (max_iter=10000).  Consider pre-processing your data with StandardScaler or MinMaxScaler.\n",
      "  warnings.warn(\n"
     ]
    },
    {
     "name": "stdout",
     "output_type": "stream",
     "text": [
      "[82/143]\tC:10.0, gamma:0.01, train score:0.8566929133858268, val score:0.5\n"
     ]
    },
    {
     "name": "stderr",
     "output_type": "stream",
     "text": [
      "/home/balakrishnan/.local/lib/python3.10/site-packages/sklearn/svm/_base.py:299: ConvergenceWarning: Solver terminated early (max_iter=10000).  Consider pre-processing your data with StandardScaler or MinMaxScaler.\n",
      "  warnings.warn(\n"
     ]
    },
    {
     "name": "stdout",
     "output_type": "stream",
     "text": [
      "[83/143]\tC:10.0, gamma:0.1, train score:1.0, val score:0.5\n"
     ]
    },
    {
     "name": "stderr",
     "output_type": "stream",
     "text": [
      "/home/balakrishnan/.local/lib/python3.10/site-packages/sklearn/svm/_base.py:299: ConvergenceWarning: Solver terminated early (max_iter=10000).  Consider pre-processing your data with StandardScaler or MinMaxScaler.\n",
      "  warnings.warn(\n"
     ]
    },
    {
     "name": "stdout",
     "output_type": "stream",
     "text": [
      "[84/143]\tC:10.0, gamma:1.0, train score:1.0, val score:0.5\n"
     ]
    },
    {
     "name": "stderr",
     "output_type": "stream",
     "text": [
      "/home/balakrishnan/.local/lib/python3.10/site-packages/sklearn/svm/_base.py:299: ConvergenceWarning: Solver terminated early (max_iter=10000).  Consider pre-processing your data with StandardScaler or MinMaxScaler.\n",
      "  warnings.warn(\n"
     ]
    },
    {
     "name": "stdout",
     "output_type": "stream",
     "text": [
      "[85/143]\tC:10.0, gamma:10.0, train score:1.0, val score:0.5\n"
     ]
    },
    {
     "name": "stderr",
     "output_type": "stream",
     "text": [
      "/home/balakrishnan/.local/lib/python3.10/site-packages/sklearn/svm/_base.py:299: ConvergenceWarning: Solver terminated early (max_iter=10000).  Consider pre-processing your data with StandardScaler or MinMaxScaler.\n",
      "  warnings.warn(\n"
     ]
    },
    {
     "name": "stdout",
     "output_type": "stream",
     "text": [
      "[86/143]\tC:10.0, gamma:100.0, train score:1.0, val score:0.5\n"
     ]
    },
    {
     "name": "stderr",
     "output_type": "stream",
     "text": [
      "/home/balakrishnan/.local/lib/python3.10/site-packages/sklearn/svm/_base.py:299: ConvergenceWarning: Solver terminated early (max_iter=10000).  Consider pre-processing your data with StandardScaler or MinMaxScaler.\n",
      "  warnings.warn(\n"
     ]
    },
    {
     "name": "stdout",
     "output_type": "stream",
     "text": [
      "[87/143]\tC:10.0, gamma:1000.0, train score:0.9183070866141733, val score:0.5\n"
     ]
    },
    {
     "name": "stderr",
     "output_type": "stream",
     "text": [
      "/home/balakrishnan/.local/lib/python3.10/site-packages/sklearn/svm/_base.py:299: ConvergenceWarning: Solver terminated early (max_iter=10000).  Consider pre-processing your data with StandardScaler or MinMaxScaler.\n",
      "  warnings.warn(\n"
     ]
    },
    {
     "name": "stdout",
     "output_type": "stream",
     "text": [
      "[88/143]\tC:10.0, gamma:10000.0, train score:0.907244094488189, val score:0.5\n"
     ]
    },
    {
     "name": "stderr",
     "output_type": "stream",
     "text": [
      "/home/balakrishnan/.local/lib/python3.10/site-packages/sklearn/svm/_base.py:299: ConvergenceWarning: Solver terminated early (max_iter=10000).  Consider pre-processing your data with StandardScaler or MinMaxScaler.\n",
      "  warnings.warn(\n"
     ]
    },
    {
     "name": "stdout",
     "output_type": "stream",
     "text": [
      "[89/143]\tC:10.0, gamma:100000.0, train score:0.895748031496063, val score:0.5\n"
     ]
    },
    {
     "name": "stderr",
     "output_type": "stream",
     "text": [
      "/home/balakrishnan/.local/lib/python3.10/site-packages/sklearn/svm/_base.py:299: ConvergenceWarning: Solver terminated early (max_iter=10000).  Consider pre-processing your data with StandardScaler or MinMaxScaler.\n",
      "  warnings.warn(\n"
     ]
    },
    {
     "name": "stdout",
     "output_type": "stream",
     "text": [
      "[90/143]\tC:10.0, gamma:scale, train score:0.7815748031496063, val score:0.5\n"
     ]
    },
    {
     "name": "stderr",
     "output_type": "stream",
     "text": [
      "/home/balakrishnan/.local/lib/python3.10/site-packages/sklearn/svm/_base.py:299: ConvergenceWarning: Solver terminated early (max_iter=10000).  Consider pre-processing your data with StandardScaler or MinMaxScaler.\n",
      "  warnings.warn(\n"
     ]
    },
    {
     "name": "stdout",
     "output_type": "stream",
     "text": [
      "[91/143]\tC:10.0, gamma:auto, train score:1.0, val score:0.5\n"
     ]
    },
    {
     "name": "stderr",
     "output_type": "stream",
     "text": [
      "/home/balakrishnan/.local/lib/python3.10/site-packages/sklearn/svm/_base.py:299: ConvergenceWarning: Solver terminated early (max_iter=10000).  Consider pre-processing your data with StandardScaler or MinMaxScaler.\n",
      "  warnings.warn(\n"
     ]
    },
    {
     "name": "stdout",
     "output_type": "stream",
     "text": [
      "[92/143]\tC:100.0, gamma:1e-05, train score:0.5053543307086614, val score:0.5\n"
     ]
    },
    {
     "name": "stderr",
     "output_type": "stream",
     "text": [
      "/home/balakrishnan/.local/lib/python3.10/site-packages/sklearn/svm/_base.py:299: ConvergenceWarning: Solver terminated early (max_iter=10000).  Consider pre-processing your data with StandardScaler or MinMaxScaler.\n",
      "  warnings.warn(\n"
     ]
    },
    {
     "name": "stdout",
     "output_type": "stream",
     "text": [
      "[93/143]\tC:100.0, gamma:0.0001, train score:0.5098425196850394, val score:0.5\n"
     ]
    },
    {
     "name": "stderr",
     "output_type": "stream",
     "text": [
      "/home/balakrishnan/.local/lib/python3.10/site-packages/sklearn/svm/_base.py:299: ConvergenceWarning: Solver terminated early (max_iter=10000).  Consider pre-processing your data with StandardScaler or MinMaxScaler.\n",
      "  warnings.warn(\n"
     ]
    },
    {
     "name": "stdout",
     "output_type": "stream",
     "text": [
      "[94/143]\tC:100.0, gamma:0.001, train score:0.5030708661417322, val score:0.395\n"
     ]
    },
    {
     "name": "stderr",
     "output_type": "stream",
     "text": [
      "/home/balakrishnan/.local/lib/python3.10/site-packages/sklearn/svm/_base.py:299: ConvergenceWarning: Solver terminated early (max_iter=10000).  Consider pre-processing your data with StandardScaler or MinMaxScaler.\n",
      "  warnings.warn(\n"
     ]
    },
    {
     "name": "stdout",
     "output_type": "stream",
     "text": [
      "[95/143]\tC:100.0, gamma:0.01, train score:0.882755905511811, val score:0.5\n"
     ]
    },
    {
     "name": "stderr",
     "output_type": "stream",
     "text": [
      "/home/balakrishnan/.local/lib/python3.10/site-packages/sklearn/svm/_base.py:299: ConvergenceWarning: Solver terminated early (max_iter=10000).  Consider pre-processing your data with StandardScaler or MinMaxScaler.\n",
      "  warnings.warn(\n"
     ]
    },
    {
     "name": "stdout",
     "output_type": "stream",
     "text": [
      "[96/143]\tC:100.0, gamma:0.1, train score:1.0, val score:0.5\n"
     ]
    },
    {
     "name": "stderr",
     "output_type": "stream",
     "text": [
      "/home/balakrishnan/.local/lib/python3.10/site-packages/sklearn/svm/_base.py:299: ConvergenceWarning: Solver terminated early (max_iter=10000).  Consider pre-processing your data with StandardScaler or MinMaxScaler.\n",
      "  warnings.warn(\n"
     ]
    },
    {
     "name": "stdout",
     "output_type": "stream",
     "text": [
      "[97/143]\tC:100.0, gamma:1.0, train score:1.0, val score:0.5\n"
     ]
    },
    {
     "name": "stderr",
     "output_type": "stream",
     "text": [
      "/home/balakrishnan/.local/lib/python3.10/site-packages/sklearn/svm/_base.py:299: ConvergenceWarning: Solver terminated early (max_iter=10000).  Consider pre-processing your data with StandardScaler or MinMaxScaler.\n",
      "  warnings.warn(\n"
     ]
    },
    {
     "name": "stdout",
     "output_type": "stream",
     "text": [
      "[98/143]\tC:100.0, gamma:10.0, train score:1.0, val score:0.5\n"
     ]
    },
    {
     "name": "stderr",
     "output_type": "stream",
     "text": [
      "/home/balakrishnan/.local/lib/python3.10/site-packages/sklearn/svm/_base.py:299: ConvergenceWarning: Solver terminated early (max_iter=10000).  Consider pre-processing your data with StandardScaler or MinMaxScaler.\n",
      "  warnings.warn(\n"
     ]
    },
    {
     "name": "stdout",
     "output_type": "stream",
     "text": [
      "[99/143]\tC:100.0, gamma:100.0, train score:1.0, val score:0.5\n"
     ]
    },
    {
     "name": "stderr",
     "output_type": "stream",
     "text": [
      "/home/balakrishnan/.local/lib/python3.10/site-packages/sklearn/svm/_base.py:299: ConvergenceWarning: Solver terminated early (max_iter=10000).  Consider pre-processing your data with StandardScaler or MinMaxScaler.\n",
      "  warnings.warn(\n"
     ]
    },
    {
     "name": "stdout",
     "output_type": "stream",
     "text": [
      "[100/143]\tC:100.0, gamma:1000.0, train score:0.9183070866141733, val score:0.5\n"
     ]
    },
    {
     "name": "stderr",
     "output_type": "stream",
     "text": [
      "/home/balakrishnan/.local/lib/python3.10/site-packages/sklearn/svm/_base.py:299: ConvergenceWarning: Solver terminated early (max_iter=10000).  Consider pre-processing your data with StandardScaler or MinMaxScaler.\n",
      "  warnings.warn(\n"
     ]
    },
    {
     "name": "stdout",
     "output_type": "stream",
     "text": [
      "[101/143]\tC:100.0, gamma:10000.0, train score:0.907244094488189, val score:0.5\n"
     ]
    },
    {
     "name": "stderr",
     "output_type": "stream",
     "text": [
      "/home/balakrishnan/.local/lib/python3.10/site-packages/sklearn/svm/_base.py:299: ConvergenceWarning: Solver terminated early (max_iter=10000).  Consider pre-processing your data with StandardScaler or MinMaxScaler.\n",
      "  warnings.warn(\n"
     ]
    },
    {
     "name": "stdout",
     "output_type": "stream",
     "text": [
      "[102/143]\tC:100.0, gamma:100000.0, train score:0.895748031496063, val score:0.5\n"
     ]
    },
    {
     "name": "stderr",
     "output_type": "stream",
     "text": [
      "/home/balakrishnan/.local/lib/python3.10/site-packages/sklearn/svm/_base.py:299: ConvergenceWarning: Solver terminated early (max_iter=10000).  Consider pre-processing your data with StandardScaler or MinMaxScaler.\n",
      "  warnings.warn(\n"
     ]
    },
    {
     "name": "stdout",
     "output_type": "stream",
     "text": [
      "[103/143]\tC:100.0, gamma:scale, train score:0.8297637795275591, val score:0.5\n"
     ]
    },
    {
     "name": "stderr",
     "output_type": "stream",
     "text": [
      "/home/balakrishnan/.local/lib/python3.10/site-packages/sklearn/svm/_base.py:299: ConvergenceWarning: Solver terminated early (max_iter=10000).  Consider pre-processing your data with StandardScaler or MinMaxScaler.\n",
      "  warnings.warn(\n"
     ]
    },
    {
     "name": "stdout",
     "output_type": "stream",
     "text": [
      "[104/143]\tC:100.0, gamma:auto, train score:1.0, val score:0.5\n"
     ]
    },
    {
     "name": "stderr",
     "output_type": "stream",
     "text": [
      "/home/balakrishnan/.local/lib/python3.10/site-packages/sklearn/svm/_base.py:299: ConvergenceWarning: Solver terminated early (max_iter=10000).  Consider pre-processing your data with StandardScaler or MinMaxScaler.\n",
      "  warnings.warn(\n"
     ]
    },
    {
     "name": "stdout",
     "output_type": "stream",
     "text": [
      "[105/143]\tC:1000.0, gamma:1e-05, train score:0.49696850393700787, val score:0.5\n"
     ]
    },
    {
     "name": "stderr",
     "output_type": "stream",
     "text": [
      "/home/balakrishnan/.local/lib/python3.10/site-packages/sklearn/svm/_base.py:299: ConvergenceWarning: Solver terminated early (max_iter=10000).  Consider pre-processing your data with StandardScaler or MinMaxScaler.\n",
      "  warnings.warn(\n"
     ]
    },
    {
     "name": "stdout",
     "output_type": "stream",
     "text": [
      "[106/143]\tC:1000.0, gamma:0.0001, train score:0.4925984251968504, val score:0.5\n"
     ]
    },
    {
     "name": "stderr",
     "output_type": "stream",
     "text": [
      "/home/balakrishnan/.local/lib/python3.10/site-packages/sklearn/svm/_base.py:299: ConvergenceWarning: Solver terminated early (max_iter=10000).  Consider pre-processing your data with StandardScaler or MinMaxScaler.\n",
      "  warnings.warn(\n"
     ]
    },
    {
     "name": "stdout",
     "output_type": "stream",
     "text": [
      "[107/143]\tC:1000.0, gamma:0.001, train score:0.5002755905511811, val score:0.5\n"
     ]
    },
    {
     "name": "stderr",
     "output_type": "stream",
     "text": [
      "/home/balakrishnan/.local/lib/python3.10/site-packages/sklearn/svm/_base.py:299: ConvergenceWarning: Solver terminated early (max_iter=10000).  Consider pre-processing your data with StandardScaler or MinMaxScaler.\n",
      "  warnings.warn(\n"
     ]
    },
    {
     "name": "stdout",
     "output_type": "stream",
     "text": [
      "[108/143]\tC:1000.0, gamma:0.01, train score:0.8989370078740158, val score:0.5\n"
     ]
    },
    {
     "name": "stderr",
     "output_type": "stream",
     "text": [
      "/home/balakrishnan/.local/lib/python3.10/site-packages/sklearn/svm/_base.py:299: ConvergenceWarning: Solver terminated early (max_iter=10000).  Consider pre-processing your data with StandardScaler or MinMaxScaler.\n",
      "  warnings.warn(\n"
     ]
    },
    {
     "name": "stdout",
     "output_type": "stream",
     "text": [
      "[109/143]\tC:1000.0, gamma:0.1, train score:1.0, val score:0.5\n"
     ]
    },
    {
     "name": "stderr",
     "output_type": "stream",
     "text": [
      "/home/balakrishnan/.local/lib/python3.10/site-packages/sklearn/svm/_base.py:299: ConvergenceWarning: Solver terminated early (max_iter=10000).  Consider pre-processing your data with StandardScaler or MinMaxScaler.\n",
      "  warnings.warn(\n"
     ]
    },
    {
     "name": "stdout",
     "output_type": "stream",
     "text": [
      "[110/143]\tC:1000.0, gamma:1.0, train score:1.0, val score:0.5\n"
     ]
    },
    {
     "name": "stderr",
     "output_type": "stream",
     "text": [
      "/home/balakrishnan/.local/lib/python3.10/site-packages/sklearn/svm/_base.py:299: ConvergenceWarning: Solver terminated early (max_iter=10000).  Consider pre-processing your data with StandardScaler or MinMaxScaler.\n",
      "  warnings.warn(\n"
     ]
    },
    {
     "name": "stdout",
     "output_type": "stream",
     "text": [
      "[111/143]\tC:1000.0, gamma:10.0, train score:1.0, val score:0.5\n"
     ]
    },
    {
     "name": "stderr",
     "output_type": "stream",
     "text": [
      "/home/balakrishnan/.local/lib/python3.10/site-packages/sklearn/svm/_base.py:299: ConvergenceWarning: Solver terminated early (max_iter=10000).  Consider pre-processing your data with StandardScaler or MinMaxScaler.\n",
      "  warnings.warn(\n"
     ]
    },
    {
     "name": "stdout",
     "output_type": "stream",
     "text": [
      "[112/143]\tC:1000.0, gamma:100.0, train score:1.0, val score:0.5\n"
     ]
    },
    {
     "name": "stderr",
     "output_type": "stream",
     "text": [
      "/home/balakrishnan/.local/lib/python3.10/site-packages/sklearn/svm/_base.py:299: ConvergenceWarning: Solver terminated early (max_iter=10000).  Consider pre-processing your data with StandardScaler or MinMaxScaler.\n",
      "  warnings.warn(\n"
     ]
    },
    {
     "name": "stdout",
     "output_type": "stream",
     "text": [
      "[113/143]\tC:1000.0, gamma:1000.0, train score:0.9183070866141733, val score:0.5\n"
     ]
    },
    {
     "name": "stderr",
     "output_type": "stream",
     "text": [
      "/home/balakrishnan/.local/lib/python3.10/site-packages/sklearn/svm/_base.py:299: ConvergenceWarning: Solver terminated early (max_iter=10000).  Consider pre-processing your data with StandardScaler or MinMaxScaler.\n",
      "  warnings.warn(\n"
     ]
    },
    {
     "name": "stdout",
     "output_type": "stream",
     "text": [
      "[114/143]\tC:1000.0, gamma:10000.0, train score:0.907244094488189, val score:0.5\n"
     ]
    },
    {
     "name": "stderr",
     "output_type": "stream",
     "text": [
      "/home/balakrishnan/.local/lib/python3.10/site-packages/sklearn/svm/_base.py:299: ConvergenceWarning: Solver terminated early (max_iter=10000).  Consider pre-processing your data with StandardScaler or MinMaxScaler.\n",
      "  warnings.warn(\n"
     ]
    },
    {
     "name": "stdout",
     "output_type": "stream",
     "text": [
      "[115/143]\tC:1000.0, gamma:100000.0, train score:0.895748031496063, val score:0.5\n"
     ]
    },
    {
     "name": "stderr",
     "output_type": "stream",
     "text": [
      "/home/balakrishnan/.local/lib/python3.10/site-packages/sklearn/svm/_base.py:299: ConvergenceWarning: Solver terminated early (max_iter=10000).  Consider pre-processing your data with StandardScaler or MinMaxScaler.\n",
      "  warnings.warn(\n"
     ]
    },
    {
     "name": "stdout",
     "output_type": "stream",
     "text": [
      "[116/143]\tC:1000.0, gamma:scale, train score:0.7315748031496063, val score:0.525\n"
     ]
    },
    {
     "name": "stderr",
     "output_type": "stream",
     "text": [
      "/home/balakrishnan/.local/lib/python3.10/site-packages/sklearn/svm/_base.py:299: ConvergenceWarning: Solver terminated early (max_iter=10000).  Consider pre-processing your data with StandardScaler or MinMaxScaler.\n",
      "  warnings.warn(\n"
     ]
    },
    {
     "name": "stdout",
     "output_type": "stream",
     "text": [
      "[117/143]\tC:1000.0, gamma:auto, train score:1.0, val score:0.5\n"
     ]
    },
    {
     "name": "stderr",
     "output_type": "stream",
     "text": [
      "/home/balakrishnan/.local/lib/python3.10/site-packages/sklearn/svm/_base.py:299: ConvergenceWarning: Solver terminated early (max_iter=10000).  Consider pre-processing your data with StandardScaler or MinMaxScaler.\n",
      "  warnings.warn(\n"
     ]
    },
    {
     "name": "stdout",
     "output_type": "stream",
     "text": [
      "[118/143]\tC:10000.0, gamma:1e-05, train score:0.4905511811023622, val score:0.315\n"
     ]
    },
    {
     "name": "stderr",
     "output_type": "stream",
     "text": [
      "/home/balakrishnan/.local/lib/python3.10/site-packages/sklearn/svm/_base.py:299: ConvergenceWarning: Solver terminated early (max_iter=10000).  Consider pre-processing your data with StandardScaler or MinMaxScaler.\n",
      "  warnings.warn(\n"
     ]
    },
    {
     "name": "stdout",
     "output_type": "stream",
     "text": [
      "[119/143]\tC:10000.0, gamma:0.0001, train score:0.49913385826771656, val score:0.5\n"
     ]
    },
    {
     "name": "stderr",
     "output_type": "stream",
     "text": [
      "/home/balakrishnan/.local/lib/python3.10/site-packages/sklearn/svm/_base.py:299: ConvergenceWarning: Solver terminated early (max_iter=10000).  Consider pre-processing your data with StandardScaler or MinMaxScaler.\n",
      "  warnings.warn(\n"
     ]
    },
    {
     "name": "stdout",
     "output_type": "stream",
     "text": [
      "[120/143]\tC:10000.0, gamma:0.001, train score:0.49350393700787404, val score:0.5\n"
     ]
    },
    {
     "name": "stderr",
     "output_type": "stream",
     "text": [
      "/home/balakrishnan/.local/lib/python3.10/site-packages/sklearn/svm/_base.py:299: ConvergenceWarning: Solver terminated early (max_iter=10000).  Consider pre-processing your data with StandardScaler or MinMaxScaler.\n",
      "  warnings.warn(\n"
     ]
    },
    {
     "name": "stdout",
     "output_type": "stream",
     "text": [
      "[121/143]\tC:10000.0, gamma:0.01, train score:0.8989370078740158, val score:0.5\n"
     ]
    },
    {
     "name": "stderr",
     "output_type": "stream",
     "text": [
      "/home/balakrishnan/.local/lib/python3.10/site-packages/sklearn/svm/_base.py:299: ConvergenceWarning: Solver terminated early (max_iter=10000).  Consider pre-processing your data with StandardScaler or MinMaxScaler.\n",
      "  warnings.warn(\n"
     ]
    },
    {
     "name": "stdout",
     "output_type": "stream",
     "text": [
      "[122/143]\tC:10000.0, gamma:0.1, train score:1.0, val score:0.5\n"
     ]
    },
    {
     "name": "stderr",
     "output_type": "stream",
     "text": [
      "/home/balakrishnan/.local/lib/python3.10/site-packages/sklearn/svm/_base.py:299: ConvergenceWarning: Solver terminated early (max_iter=10000).  Consider pre-processing your data with StandardScaler or MinMaxScaler.\n",
      "  warnings.warn(\n"
     ]
    },
    {
     "name": "stdout",
     "output_type": "stream",
     "text": [
      "[123/143]\tC:10000.0, gamma:1.0, train score:1.0, val score:0.5\n"
     ]
    },
    {
     "name": "stderr",
     "output_type": "stream",
     "text": [
      "/home/balakrishnan/.local/lib/python3.10/site-packages/sklearn/svm/_base.py:299: ConvergenceWarning: Solver terminated early (max_iter=10000).  Consider pre-processing your data with StandardScaler or MinMaxScaler.\n",
      "  warnings.warn(\n"
     ]
    },
    {
     "name": "stdout",
     "output_type": "stream",
     "text": [
      "[124/143]\tC:10000.0, gamma:10.0, train score:1.0, val score:0.5\n"
     ]
    },
    {
     "name": "stderr",
     "output_type": "stream",
     "text": [
      "/home/balakrishnan/.local/lib/python3.10/site-packages/sklearn/svm/_base.py:299: ConvergenceWarning: Solver terminated early (max_iter=10000).  Consider pre-processing your data with StandardScaler or MinMaxScaler.\n",
      "  warnings.warn(\n"
     ]
    },
    {
     "name": "stdout",
     "output_type": "stream",
     "text": [
      "[125/143]\tC:10000.0, gamma:100.0, train score:1.0, val score:0.5\n"
     ]
    },
    {
     "name": "stderr",
     "output_type": "stream",
     "text": [
      "/home/balakrishnan/.local/lib/python3.10/site-packages/sklearn/svm/_base.py:299: ConvergenceWarning: Solver terminated early (max_iter=10000).  Consider pre-processing your data with StandardScaler or MinMaxScaler.\n",
      "  warnings.warn(\n"
     ]
    },
    {
     "name": "stdout",
     "output_type": "stream",
     "text": [
      "[126/143]\tC:10000.0, gamma:1000.0, train score:0.9183070866141733, val score:0.5\n"
     ]
    },
    {
     "name": "stderr",
     "output_type": "stream",
     "text": [
      "/home/balakrishnan/.local/lib/python3.10/site-packages/sklearn/svm/_base.py:299: ConvergenceWarning: Solver terminated early (max_iter=10000).  Consider pre-processing your data with StandardScaler or MinMaxScaler.\n",
      "  warnings.warn(\n"
     ]
    },
    {
     "name": "stdout",
     "output_type": "stream",
     "text": [
      "[127/143]\tC:10000.0, gamma:10000.0, train score:0.907244094488189, val score:0.5\n"
     ]
    },
    {
     "name": "stderr",
     "output_type": "stream",
     "text": [
      "/home/balakrishnan/.local/lib/python3.10/site-packages/sklearn/svm/_base.py:299: ConvergenceWarning: Solver terminated early (max_iter=10000).  Consider pre-processing your data with StandardScaler or MinMaxScaler.\n",
      "  warnings.warn(\n"
     ]
    },
    {
     "name": "stdout",
     "output_type": "stream",
     "text": [
      "[128/143]\tC:10000.0, gamma:100000.0, train score:0.895748031496063, val score:0.5\n"
     ]
    },
    {
     "name": "stderr",
     "output_type": "stream",
     "text": [
      "/home/balakrishnan/.local/lib/python3.10/site-packages/sklearn/svm/_base.py:299: ConvergenceWarning: Solver terminated early (max_iter=10000).  Consider pre-processing your data with StandardScaler or MinMaxScaler.\n",
      "  warnings.warn(\n"
     ]
    },
    {
     "name": "stdout",
     "output_type": "stream",
     "text": [
      "[129/143]\tC:10000.0, gamma:scale, train score:0.7315748031496063, val score:0.525\n"
     ]
    },
    {
     "name": "stderr",
     "output_type": "stream",
     "text": [
      "/home/balakrishnan/.local/lib/python3.10/site-packages/sklearn/svm/_base.py:299: ConvergenceWarning: Solver terminated early (max_iter=10000).  Consider pre-processing your data with StandardScaler or MinMaxScaler.\n",
      "  warnings.warn(\n"
     ]
    },
    {
     "name": "stdout",
     "output_type": "stream",
     "text": [
      "[130/143]\tC:10000.0, gamma:auto, train score:1.0, val score:0.5\n"
     ]
    },
    {
     "name": "stderr",
     "output_type": "stream",
     "text": [
      "/home/balakrishnan/.local/lib/python3.10/site-packages/sklearn/svm/_base.py:299: ConvergenceWarning: Solver terminated early (max_iter=10000).  Consider pre-processing your data with StandardScaler or MinMaxScaler.\n",
      "  warnings.warn(\n"
     ]
    },
    {
     "name": "stdout",
     "output_type": "stream",
     "text": [
      "[131/143]\tC:100000.0, gamma:1e-05, train score:0.4972047244094488, val score:0.54\n"
     ]
    },
    {
     "name": "stderr",
     "output_type": "stream",
     "text": [
      "/home/balakrishnan/.local/lib/python3.10/site-packages/sklearn/svm/_base.py:299: ConvergenceWarning: Solver terminated early (max_iter=10000).  Consider pre-processing your data with StandardScaler or MinMaxScaler.\n",
      "  warnings.warn(\n"
     ]
    },
    {
     "name": "stdout",
     "output_type": "stream",
     "text": [
      "[132/143]\tC:100000.0, gamma:0.0001, train score:0.48744094488188977, val score:0.525\n"
     ]
    },
    {
     "name": "stderr",
     "output_type": "stream",
     "text": [
      "/home/balakrishnan/.local/lib/python3.10/site-packages/sklearn/svm/_base.py:299: ConvergenceWarning: Solver terminated early (max_iter=10000).  Consider pre-processing your data with StandardScaler or MinMaxScaler.\n",
      "  warnings.warn(\n"
     ]
    },
    {
     "name": "stdout",
     "output_type": "stream",
     "text": [
      "[133/143]\tC:100000.0, gamma:0.001, train score:0.49350393700787404, val score:0.5\n"
     ]
    },
    {
     "name": "stderr",
     "output_type": "stream",
     "text": [
      "/home/balakrishnan/.local/lib/python3.10/site-packages/sklearn/svm/_base.py:299: ConvergenceWarning: Solver terminated early (max_iter=10000).  Consider pre-processing your data with StandardScaler or MinMaxScaler.\n",
      "  warnings.warn(\n"
     ]
    },
    {
     "name": "stdout",
     "output_type": "stream",
     "text": [
      "[134/143]\tC:100000.0, gamma:0.01, train score:0.8989370078740158, val score:0.5\n"
     ]
    },
    {
     "name": "stderr",
     "output_type": "stream",
     "text": [
      "/home/balakrishnan/.local/lib/python3.10/site-packages/sklearn/svm/_base.py:299: ConvergenceWarning: Solver terminated early (max_iter=10000).  Consider pre-processing your data with StandardScaler or MinMaxScaler.\n",
      "  warnings.warn(\n"
     ]
    },
    {
     "name": "stdout",
     "output_type": "stream",
     "text": [
      "[135/143]\tC:100000.0, gamma:0.1, train score:1.0, val score:0.5\n"
     ]
    },
    {
     "name": "stderr",
     "output_type": "stream",
     "text": [
      "/home/balakrishnan/.local/lib/python3.10/site-packages/sklearn/svm/_base.py:299: ConvergenceWarning: Solver terminated early (max_iter=10000).  Consider pre-processing your data with StandardScaler or MinMaxScaler.\n",
      "  warnings.warn(\n"
     ]
    },
    {
     "name": "stdout",
     "output_type": "stream",
     "text": [
      "[136/143]\tC:100000.0, gamma:1.0, train score:1.0, val score:0.5\n"
     ]
    },
    {
     "name": "stderr",
     "output_type": "stream",
     "text": [
      "/home/balakrishnan/.local/lib/python3.10/site-packages/sklearn/svm/_base.py:299: ConvergenceWarning: Solver terminated early (max_iter=10000).  Consider pre-processing your data with StandardScaler or MinMaxScaler.\n",
      "  warnings.warn(\n"
     ]
    },
    {
     "name": "stdout",
     "output_type": "stream",
     "text": [
      "[137/143]\tC:100000.0, gamma:10.0, train score:1.0, val score:0.5\n"
     ]
    },
    {
     "name": "stderr",
     "output_type": "stream",
     "text": [
      "/home/balakrishnan/.local/lib/python3.10/site-packages/sklearn/svm/_base.py:299: ConvergenceWarning: Solver terminated early (max_iter=10000).  Consider pre-processing your data with StandardScaler or MinMaxScaler.\n",
      "  warnings.warn(\n"
     ]
    },
    {
     "name": "stdout",
     "output_type": "stream",
     "text": [
      "[138/143]\tC:100000.0, gamma:100.0, train score:1.0, val score:0.5\n"
     ]
    },
    {
     "name": "stderr",
     "output_type": "stream",
     "text": [
      "/home/balakrishnan/.local/lib/python3.10/site-packages/sklearn/svm/_base.py:299: ConvergenceWarning: Solver terminated early (max_iter=10000).  Consider pre-processing your data with StandardScaler or MinMaxScaler.\n",
      "  warnings.warn(\n"
     ]
    },
    {
     "name": "stdout",
     "output_type": "stream",
     "text": [
      "[139/143]\tC:100000.0, gamma:1000.0, train score:0.9183070866141733, val score:0.5\n"
     ]
    },
    {
     "name": "stderr",
     "output_type": "stream",
     "text": [
      "/home/balakrishnan/.local/lib/python3.10/site-packages/sklearn/svm/_base.py:299: ConvergenceWarning: Solver terminated early (max_iter=10000).  Consider pre-processing your data with StandardScaler or MinMaxScaler.\n",
      "  warnings.warn(\n"
     ]
    },
    {
     "name": "stdout",
     "output_type": "stream",
     "text": [
      "[140/143]\tC:100000.0, gamma:10000.0, train score:0.907244094488189, val score:0.5\n"
     ]
    },
    {
     "name": "stderr",
     "output_type": "stream",
     "text": [
      "/home/balakrishnan/.local/lib/python3.10/site-packages/sklearn/svm/_base.py:299: ConvergenceWarning: Solver terminated early (max_iter=10000).  Consider pre-processing your data with StandardScaler or MinMaxScaler.\n",
      "  warnings.warn(\n"
     ]
    },
    {
     "name": "stdout",
     "output_type": "stream",
     "text": [
      "[141/143]\tC:100000.0, gamma:100000.0, train score:0.895748031496063, val score:0.5\n"
     ]
    },
    {
     "name": "stderr",
     "output_type": "stream",
     "text": [
      "/home/balakrishnan/.local/lib/python3.10/site-packages/sklearn/svm/_base.py:299: ConvergenceWarning: Solver terminated early (max_iter=10000).  Consider pre-processing your data with StandardScaler or MinMaxScaler.\n",
      "  warnings.warn(\n"
     ]
    },
    {
     "name": "stdout",
     "output_type": "stream",
     "text": [
      "[142/143]\tC:100000.0, gamma:scale, train score:0.7315748031496063, val score:0.525\n"
     ]
    },
    {
     "name": "stderr",
     "output_type": "stream",
     "text": [
      "/home/balakrishnan/.local/lib/python3.10/site-packages/sklearn/svm/_base.py:299: ConvergenceWarning: Solver terminated early (max_iter=10000).  Consider pre-processing your data with StandardScaler or MinMaxScaler.\n",
      "  warnings.warn(\n"
     ]
    },
    {
     "name": "stdout",
     "output_type": "stream",
     "text": [
      "[143/143]\tC:100000.0, gamma:auto, train score:1.0, val score:0.5\n",
      "\n",
      "Best validation accuracy: 0.54, for C = 100000.0, gamma = 1e-05\n"
     ]
    }
   ],
   "source": [
    "if VALIDATE_SVM:\n",
    "    total_count = len(params_rbf['C']) * len(params_rbf['gamma'])\n",
    "    curr_count = 0\n",
    "    print(f'Cross-validating across {total_count} models.')\n",
    "    for C in params_rbf['C']:\n",
    "        for gamma in params_rbf['gamma']:\n",
    "            curr_count += 1\n",
    "            model_cv_rbf = SVC(kernel='rbf', C=C, gamma=gamma, max_iter=int(1e4))\n",
    "            model_cv_rbf.fit(X_train, Y_train.squeeze())\n",
    "            preds_train, preds_val = model_cv_rbf.predict(X_train), model_cv_rbf.predict(X_val)\n",
    "            score_train, score_val = accuracy_score(Y_train.squeeze(), preds_train), accuracy_score(Y_val.squeeze(), preds_val)\n",
    "            if score_val > best_params_rbf['score']:\n",
    "                best_params_rbf['C'] = C\n",
    "                best_params_rbf['gamma'] = gamma\n",
    "                best_params_rbf['score'] = score_val\n",
    "            print(f'[{curr_count}/{total_count}]\\tC:{C}, gamma:{gamma}, train score:{score_train}, val score:{score_val}')\n",
    "    print(f\"\\nBest validation accuracy: {best_params_rbf['score']}, for C = {best_params_rbf['C']}, gamma = {best_params_rbf['gamma']}\")"
   ]
  },
  {
   "cell_type": "code",
   "execution_count": 48,
   "metadata": {},
   "outputs": [],
   "source": [
    "import json\n",
    "\n",
    "if VALIDATE_SVM:\n",
    "    if best_params_rbf['score'] >= best_params_ntk['score']:\n",
    "        best_model_km = SVC(C=best_params_rbf['C'], kernel='rbf', gamma=best_params_rbf['gamma'])\n",
    "        best_config = {\n",
    "            'kernel': 'rbf',\n",
    "            'C': best_params_rbf['C'],\n",
    "            'gamma': best_params_rbf['gamma']\n",
    "        }\n",
    "        with open('configs/svm/orthants-single-empty.json', 'w') as f:\n",
    "            json.dump(best_config, f)\n",
    "    else:\n",
    "        best_model_km = SVC(C=best_params_ntk['C'], kernel=ntk)\n",
    "        best_config = {\n",
    "            'kernel': 'ntk',\n",
    "            'C': best_params_ntk['C']\n",
    "        }\n",
    "        with open('configs/svm/orthants-single-empty.json', 'w') as f:\n",
    "            json.dump(best_config, f)\n",
    "else:\n",
    "    with open('configs/svm/orthants-single-empty.json', 'r') as f:\n",
    "        best_config = json.load(f)\n",
    "    if best_config['kernel'] == 'rbf':\n",
    "        best_model_km = SVC(C=best_config['C'], gamma=best_config['gamma'])\n",
    "    else:\n",
    "        best_model_km = SVC(kernel=ntk, C=best_config['C'])"
   ]
  },
  {
   "cell_type": "code",
   "execution_count": 49,
   "metadata": {},
   "outputs": [
    {
     "data": {
      "text/html": [
       "<style>#sk-container-id-2 {color: black;background-color: white;}#sk-container-id-2 pre{padding: 0;}#sk-container-id-2 div.sk-toggleable {background-color: white;}#sk-container-id-2 label.sk-toggleable__label {cursor: pointer;display: block;width: 100%;margin-bottom: 0;padding: 0.3em;box-sizing: border-box;text-align: center;}#sk-container-id-2 label.sk-toggleable__label-arrow:before {content: \"▸\";float: left;margin-right: 0.25em;color: #696969;}#sk-container-id-2 label.sk-toggleable__label-arrow:hover:before {color: black;}#sk-container-id-2 div.sk-estimator:hover label.sk-toggleable__label-arrow:before {color: black;}#sk-container-id-2 div.sk-toggleable__content {max-height: 0;max-width: 0;overflow: hidden;text-align: left;background-color: #f0f8ff;}#sk-container-id-2 div.sk-toggleable__content pre {margin: 0.2em;color: black;border-radius: 0.25em;background-color: #f0f8ff;}#sk-container-id-2 input.sk-toggleable__control:checked~div.sk-toggleable__content {max-height: 200px;max-width: 100%;overflow: auto;}#sk-container-id-2 input.sk-toggleable__control:checked~label.sk-toggleable__label-arrow:before {content: \"▾\";}#sk-container-id-2 div.sk-estimator input.sk-toggleable__control:checked~label.sk-toggleable__label {background-color: #d4ebff;}#sk-container-id-2 div.sk-label input.sk-toggleable__control:checked~label.sk-toggleable__label {background-color: #d4ebff;}#sk-container-id-2 input.sk-hidden--visually {border: 0;clip: rect(1px 1px 1px 1px);clip: rect(1px, 1px, 1px, 1px);height: 1px;margin: -1px;overflow: hidden;padding: 0;position: absolute;width: 1px;}#sk-container-id-2 div.sk-estimator {font-family: monospace;background-color: #f0f8ff;border: 1px dotted black;border-radius: 0.25em;box-sizing: border-box;margin-bottom: 0.5em;}#sk-container-id-2 div.sk-estimator:hover {background-color: #d4ebff;}#sk-container-id-2 div.sk-parallel-item::after {content: \"\";width: 100%;border-bottom: 1px solid gray;flex-grow: 1;}#sk-container-id-2 div.sk-label:hover label.sk-toggleable__label {background-color: #d4ebff;}#sk-container-id-2 div.sk-serial::before {content: \"\";position: absolute;border-left: 1px solid gray;box-sizing: border-box;top: 0;bottom: 0;left: 50%;z-index: 0;}#sk-container-id-2 div.sk-serial {display: flex;flex-direction: column;align-items: center;background-color: white;padding-right: 0.2em;padding-left: 0.2em;position: relative;}#sk-container-id-2 div.sk-item {position: relative;z-index: 1;}#sk-container-id-2 div.sk-parallel {display: flex;align-items: stretch;justify-content: center;background-color: white;position: relative;}#sk-container-id-2 div.sk-item::before, #sk-container-id-2 div.sk-parallel-item::before {content: \"\";position: absolute;border-left: 1px solid gray;box-sizing: border-box;top: 0;bottom: 0;left: 50%;z-index: -1;}#sk-container-id-2 div.sk-parallel-item {display: flex;flex-direction: column;z-index: 1;position: relative;background-color: white;}#sk-container-id-2 div.sk-parallel-item:first-child::after {align-self: flex-end;width: 50%;}#sk-container-id-2 div.sk-parallel-item:last-child::after {align-self: flex-start;width: 50%;}#sk-container-id-2 div.sk-parallel-item:only-child::after {width: 0;}#sk-container-id-2 div.sk-dashed-wrapped {border: 1px dashed gray;margin: 0 0.4em 0.5em 0.4em;box-sizing: border-box;padding-bottom: 0.4em;background-color: white;}#sk-container-id-2 div.sk-label label {font-family: monospace;font-weight: bold;display: inline-block;line-height: 1.2em;}#sk-container-id-2 div.sk-label-container {text-align: center;}#sk-container-id-2 div.sk-container {/* jupyter's `normalize.less` sets `[hidden] { display: none; }` but bootstrap.min.css set `[hidden] { display: none !important; }` so we also need the `!important` here to be able to override the default hidden behavior on the sphinx rendered scikit-learn.org. See: https://github.com/scikit-learn/scikit-learn/issues/21755 */display: inline-block !important;position: relative;}#sk-container-id-2 div.sk-text-repr-fallback {display: none;}</style><div id=\"sk-container-id-2\" class=\"sk-top-container\"><div class=\"sk-text-repr-fallback\"><pre>SVC(C=100.0,\n",
       "    kernel=&lt;bound method NTK.get_ntk of &lt;scripts.ntk.NTK object at 0x7f2b05486200&gt;&gt;)</pre><b>In a Jupyter environment, please rerun this cell to show the HTML representation or trust the notebook. <br />On GitHub, the HTML representation is unable to render, please try loading this page with nbviewer.org.</b></div><div class=\"sk-container\" hidden><div class=\"sk-item\"><div class=\"sk-estimator sk-toggleable\"><input class=\"sk-toggleable__control sk-hidden--visually\" id=\"sk-estimator-id-2\" type=\"checkbox\" checked><label for=\"sk-estimator-id-2\" class=\"sk-toggleable__label sk-toggleable__label-arrow\">SVC</label><div class=\"sk-toggleable__content\"><pre>SVC(C=100.0,\n",
       "    kernel=&lt;bound method NTK.get_ntk of &lt;scripts.ntk.NTK object at 0x7f2b05486200&gt;&gt;)</pre></div></div></div></div></div>"
      ],
      "text/plain": [
       "SVC(C=100.0,\n",
       "    kernel=<bound method NTK.get_ntk of <scripts.ntk.NTK object at 0x7f2b05486200>>)"
      ]
     },
     "execution_count": 49,
     "metadata": {},
     "output_type": "execute_result"
    }
   ],
   "source": [
    "best_model_km.fit(X_train, Y_train.squeeze())"
   ]
  },
  {
   "cell_type": "code",
   "execution_count": 50,
   "metadata": {},
   "outputs": [
    {
     "data": {
      "text/plain": [
       "(0.7251968503937007, 0.81)"
      ]
     },
     "execution_count": 50,
     "metadata": {},
     "output_type": "execute_result"
    }
   ],
   "source": [
    "preds_train, preds_val = best_model_km.predict(X_train), best_model_km.predict(X_val)\n",
    "score_train, score_val = accuracy_score(Y_train.squeeze(), preds_train), accuracy_score(Y_val.squeeze(), preds_val)\n",
    "score_train, score_val"
   ]
  },
  {
   "cell_type": "code",
   "execution_count": 51,
   "metadata": {},
   "outputs": [],
   "source": [
    "scores_km = np.array([\n",
    "    accuracy_score(\n",
    "        best_model_km.predict(X_test[i]),\n",
    "        Y_test[i].squeeze()\n",
    "    ) for i in range(128)\n",
    "])"
   ]
  },
  {
   "cell_type": "code",
   "execution_count": 52,
   "metadata": {},
   "outputs": [
    {
     "data": {
      "text/plain": [
       "(0.7069140625, 0.81)"
      ]
     },
     "execution_count": 52,
     "metadata": {},
     "output_type": "execute_result"
    }
   ],
   "source": [
    "scores_km.mean(), scores_km[ZERO_ORTHANT_INDEX].mean()"
   ]
  },
  {
   "attachments": {},
   "cell_type": "markdown",
   "metadata": {},
   "source": [
    "## NN vs SVM"
   ]
  },
  {
   "cell_type": "code",
   "execution_count": 53,
   "metadata": {},
   "outputs": [
    {
     "data": {
      "text/plain": [
       "Text(0.5, 0.98, 'Accuracy per orthant')"
      ]
     },
     "execution_count": 53,
     "metadata": {},
     "output_type": "execute_result"
    },
    {
     "data": {
      "image/png": "[encoded data removed]",
      "text/plain": [
       "<Figure size 1300x600 with 2 Axes>"
      ]
     },
     "metadata": {},
     "output_type": "display_data"
    }
   ],
   "source": [
    "plt.figure(figsize=(13, 6))\n",
    "\n",
    "plt.subplot(121)\n",
    "plt.scatter(orthant_counts, scores_nn)\n",
    "plt.xlabel('Number of points')\n",
    "plt.ylabel('Binary accuracy')\n",
    "plt.ylim((0., 1.))\n",
    "plt.title('NN')\n",
    "\n",
    "plt.subplot(122)\n",
    "plt.scatter(orthant_counts, scores_km)\n",
    "plt.xlabel('Number of points')\n",
    "plt.ylabel('Binary accuracy')\n",
    "plt.ylim((0., 1.))\n",
    "plt.title('SVM')\n",
    "\n",
    "plt.suptitle('Accuracy per orthant')"
   ]
  },
  {
   "cell_type": "code",
   "execution_count": 69,
   "metadata": {},
   "outputs": [
    {
     "data": {
      "text/plain": [
       "Text(0.5, 0.98, 'Test accuracy vs orthant')"
      ]
     },
     "execution_count": 69,
     "metadata": {},
     "output_type": "execute_result"
    },
    {
     "data": {
      "image/png": "[encoded data removed]",
      "text/plain": [
       "<Figure size 1600x800 with 2 Axes>"
      ]
     },
     "metadata": {},
     "output_type": "display_data"
    }
   ],
   "source": [
    "c_arr = np.zeros(128)\n",
    "c_arr[ZERO_ORTHANT_INDEX] = 2\n",
    "for i in neighboring_orthants:\n",
    "    c_arr[i] = 1\n",
    "non_neighboring_orthants = list(set(range(128)) - set([ZERO_ORTHANT_INDEX]+neighboring_orthants))\n",
    "\n",
    "plt.figure(figsize=(16, 8))\n",
    "\n",
    "plt.subplot(121)\n",
    "plt.scatter([ZERO_ORTHANT_INDEX], [scores_nn[ZERO_ORTHANT_INDEX]], c='g', s=25, label='Empty')\n",
    "plt.scatter(neighboring_orthants, scores_nn[neighboring_orthants], c='r', s=15, label='Neighbors')\n",
    "plt.scatter(non_neighboring_orthants, scores_nn[non_neighboring_orthants], c='b', s=5, label='Non-neighbors')\n",
    "plt.legend()\n",
    "plt.ylim(-0.05, 1.05)\n",
    "plt.title('NN')\n",
    "\n",
    "plt.subplot(122)\n",
    "plt.scatter([ZERO_ORTHANT_INDEX], [scores_km[ZERO_ORTHANT_INDEX]], c='g', s=25, label='Empty')\n",
    "plt.scatter(neighboring_orthants, scores_km[neighboring_orthants], c='r', s=15, label='Neighbors')\n",
    "plt.scatter(non_neighboring_orthants, scores_km[non_neighboring_orthants], c='b', s=5, label='Non-neighbors')\n",
    "plt.legend()\n",
    "plt.ylim(-0.05, 1.05)\n",
    "plt.title(f\"SVM ({best_config['kernel']})\")\n",
    "\n",
    "plt.suptitle('Test accuracy vs orthant')"
   ]
  },
  {
   "cell_type": "code",
   "execution_count": null,
   "metadata": {},
   "outputs": [],
   "source": []
  }
 ],
 "metadata": {
  "kernelspec": {
   "display_name": "Python 3",
   "language": "python",
   "name": "python3"
  },
  "language_info": {
   "codemirror_mode": {
    "name": "ipython",
    "version": 3
   },
   "file_extension": ".py",
   "mimetype": "text/x-python",
   "name": "python",
   "nbconvert_exporter": "python",
   "pygments_lexer": "ipython3",
   "version": "3.10.6"
  },
  "orig_nbformat": 4,
  "vscode": {
   "interpreter": {
    "hash": "916dbcbb3f70747c44a77c7bcd40155683ae19c65e1c03b4aa3499c5328201f1"
   }
  }
 },
 "nbformat": 4,
 "nbformat_minor": 2
}
