{
 "cells": [
  {
   "attachments": {},
   "cell_type": "markdown",
   "metadata": {},
   "source": [
    "## FLAGS (IMPORTANT)"
   ]
  },
  {
   "cell_type": "code",
   "execution_count": 1,
   "metadata": {},
   "outputs": [],
   "source": [
    "VALIDATE_NN = False\n",
    "TRAIN = True\n",
    "VALIDATE_SVM = True\n",
    "\n",
    "# change code to use these flags and do the action otherwise load necessary stuff already saved"
   ]
  },
  {
   "attachments": {},
   "cell_type": "markdown",
   "metadata": {},
   "source": [
    "## Constants"
   ]
  },
  {
   "cell_type": "code",
   "execution_count": 2,
   "metadata": {},
   "outputs": [],
   "source": [
    "import torch\n",
    "import numpy as np\n",
    "import matplotlib.pyplot as plt\n",
    "from sklearn.model_selection import train_test_split"
   ]
  },
  {
   "cell_type": "code",
   "execution_count": 3,
   "metadata": {},
   "outputs": [],
   "source": [
    "HIGH_COUNT = 100\n",
    "LOW_FRAC = 1/64\n",
    "ZERO_FRAC = 0.5\n",
    "TEST_COUNT = 100"
   ]
  },
  {
   "cell_type": "code",
   "execution_count": 4,
   "metadata": {},
   "outputs": [
    {
     "data": {
      "text/plain": [
       "tensor([4., 4., 4., 4., 4., 4., 4.])"
      ]
     },
     "execution_count": 4,
     "metadata": {},
     "output_type": "execute_result"
    }
   ],
   "source": [
    "CENTRE = 4 * torch.ones(7)\n",
    "CENTRE"
   ]
  },
  {
   "cell_type": "code",
   "execution_count": 5,
   "metadata": {},
   "outputs": [],
   "source": [
    "LOW_RADIUS = 1.\n",
    "HIGH_RADIUS = 2."
   ]
  },
  {
   "attachments": {},
   "cell_type": "markdown",
   "metadata": {},
   "source": [
    "## Data"
   ]
  },
  {
   "cell_type": "code",
   "execution_count": 6,
   "metadata": {},
   "outputs": [],
   "source": [
    "from scripts.data.orthants import generate_train_data"
   ]
  },
  {
   "cell_type": "code",
   "execution_count": 7,
   "metadata": {},
   "outputs": [
    {
     "data": {
      "text/plain": [
       "(torch.Size([25400, 7]), torch.Size([25400, 1]))"
      ]
     },
     "execution_count": 7,
     "metadata": {},
     "output_type": "execute_result"
    }
   ],
   "source": [
    "X_training, Y_training, orthant_counts = generate_train_data(\n",
    "    low_count=HIGH_COUNT,\n",
    "    high_count=HIGH_COUNT,\n",
    "    low_spread=0,\n",
    "    high_spread=0,\n",
    "    low_frac=LOW_FRAC,\n",
    "    zero_frac=ZERO_FRAC,\n",
    "    random_state=7357\n",
    ")\n",
    "X_training.shape, Y_training.shape"
   ]
  },
  {
   "cell_type": "code",
   "execution_count": 8,
   "metadata": {},
   "outputs": [
    {
     "data": {
      "text/plain": [
       "80"
      ]
     },
     "execution_count": 8,
     "metadata": {},
     "output_type": "execute_result"
    }
   ],
   "source": [
    "for i in range(128):\n",
    "    if orthant_counts[i] == 0:\n",
    "        ZERO_ORTHANT_INDEX = i\n",
    "ZERO_ORTHANT_INDEX"
   ]
  },
  {
   "cell_type": "code",
   "execution_count": 9,
   "metadata": {},
   "outputs": [
    {
     "data": {
      "text/plain": [
       "(torch.Size([20320, 7]),\n",
       " torch.Size([5080, 7]),\n",
       " torch.Size([20320, 1]),\n",
       " torch.Size([5080, 1]))"
      ]
     },
     "execution_count": 9,
     "metadata": {},
     "output_type": "execute_result"
    }
   ],
   "source": [
    "X_train, X_val, Y_train, Y_val = train_test_split(X_training, Y_training, test_size=0.2, random_state=535)\n",
    "X_train.shape, X_val.shape, Y_train.shape, Y_val.shape"
   ]
  },
  {
   "cell_type": "code",
   "execution_count": 10,
   "metadata": {},
   "outputs": [
    {
     "data": {
      "text/plain": [
       "(torch.Size([128, 200, 7]), torch.Size([128, 200, 1]))"
      ]
     },
     "execution_count": 10,
     "metadata": {},
     "output_type": "execute_result"
    }
   ],
   "source": [
    "from scripts.data.orthants import generate_test_data\n",
    "\n",
    "X_test, Y_test = generate_test_data(TEST_COUNT, random_state=7753)\n",
    "X_test.shape, Y_test.shape"
   ]
  },
  {
   "cell_type": "code",
   "execution_count": 11,
   "metadata": {},
   "outputs": [],
   "source": [
    "from scripts.utils import make_dataloader\n",
    "\n",
    "train_dataloader, val_dataloader = make_dataloader(X_train, Y_train, 32, True), make_dataloader(X_val, Y_val, 32, True)"
   ]
  },
  {
   "cell_type": "code",
   "execution_count": 12,
   "metadata": {},
   "outputs": [],
   "source": [
    "X_total_0 = X_training[Y_training.squeeze()==0]\n",
    "X_total_1 = X_training[Y_training.squeeze()==1]"
   ]
  },
  {
   "cell_type": "code",
   "execution_count": 13,
   "metadata": {},
   "outputs": [],
   "source": [
    "from scripts.data.orthants import find_orthant\n",
    "\n",
    "def obtain_closest_point_orthant(\n",
    "    test_point: torch.Tensor,\n",
    "    pos_points: torch.Tensor,\n",
    "    neg_points: torch.Tensor\n",
    ") -> torch.Tensor:\n",
    "    pos_distances, neg_distances = torch.sqrt(torch.sum((test_point - pos_points)**2, dim=1)), torch.sqrt(torch.sum((test_point - neg_points)**2, dim=1))\n",
    "    return torch.tensor([find_orthant(pos_points[torch.argmin(pos_distances)]), find_orthant(neg_points[torch.argmin(neg_distances)])])"
   ]
  },
  {
   "cell_type": "code",
   "execution_count": 14,
   "metadata": {},
   "outputs": [],
   "source": [
    "import pandas as pd\n",
    "\n",
    "closest_orthants_0 = pd.DataFrame(torch.cat([\n",
    "    obtain_closest_point_orthant(x, X_total_0, X_total_1).reshape(1, -1) for x in X_test[ZERO_ORTHANT_INDEX][Y_test[ZERO_ORTHANT_INDEX].squeeze() == 0]\n",
    "]), columns=['closest_positive_orthant', 'closest_negative_orthant'])\n",
    "closest_orthants_1 = pd.DataFrame(torch.cat([\n",
    "    obtain_closest_point_orthant(x, X_total_0, X_total_1).reshape(1, -1) for x in X_test[ZERO_ORTHANT_INDEX][Y_test[ZERO_ORTHANT_INDEX].squeeze() == 1]\n",
    "]), columns=['closest_positive_orthant', 'closest_negative_orthant'])"
   ]
  },
  {
   "cell_type": "code",
   "execution_count": 15,
   "metadata": {},
   "outputs": [
    {
     "data": {
      "text/plain": [
       "(16     43\n",
       " 112    27\n",
       " 64     16\n",
       " 88     11\n",
       " 81      2\n",
       " 84      1\n",
       " Name: closest_positive_orthant, dtype: int64,\n",
       " 16     47\n",
       " 112    28\n",
       " 64     23\n",
       " 88      2\n",
       " Name: closest_negative_orthant, dtype: int64)"
      ]
     },
     "execution_count": 15,
     "metadata": {},
     "output_type": "execute_result"
    }
   ],
   "source": [
    "closest_orthants_0['closest_positive_orthant'].value_counts(), closest_orthants_0['closest_negative_orthant'].value_counts() "
   ]
  },
  {
   "cell_type": "code",
   "execution_count": 16,
   "metadata": {},
   "outputs": [
    {
     "data": {
      "text/plain": [
       "(112    31\n",
       " 16     31\n",
       " 64     21\n",
       " 88     14\n",
       " 84      3\n",
       " Name: closest_positive_orthant, dtype: int64,\n",
       " 16     33\n",
       " 112    32\n",
       " 64     22\n",
       " 88     12\n",
       " 84      1\n",
       " Name: closest_negative_orthant, dtype: int64)"
      ]
     },
     "execution_count": 16,
     "metadata": {},
     "output_type": "execute_result"
    }
   ],
   "source": [
    "closest_orthants_1['closest_positive_orthant'].value_counts(), closest_orthants_1['closest_negative_orthant'].value_counts() "
   ]
  },
  {
   "attachments": {},
   "cell_type": "markdown",
   "metadata": {},
   "source": [
    "## Neural network"
   ]
  },
  {
   "cell_type": "code",
   "execution_count": 17,
   "metadata": {},
   "outputs": [],
   "source": [
    "device = 'cpu'"
   ]
  },
  {
   "cell_type": "code",
   "execution_count": 18,
   "metadata": {},
   "outputs": [],
   "source": [
    "from scripts.models import SimpleNN\n",
    "from scripts.train import train_model\n",
    "from scripts.metrics import BinaryAccuracy"
   ]
  },
  {
   "cell_type": "code",
   "execution_count": 19,
   "metadata": {},
   "outputs": [],
   "source": [
    "depths = [1, 2, 3, 4, 5]\n",
    "widths = [32, 64, 128]\n",
    "etas = [1e-4, 1e-3, 1e-2]\n",
    "weight_decays = np.logspace(-5, 5, 11).tolist() \n",
    "weight_decays.append(0.0)"
   ]
  },
  {
   "cell_type": "code",
   "execution_count": 20,
   "metadata": {},
   "outputs": [],
   "source": [
    "import json\n",
    "\n",
    "if VALIDATE_NN:\n",
    "    best_depth = None\n",
    "    best_width = None\n",
    "    best_eta = None\n",
    "    best_weight_decay = None\n",
    "    best_score = -torch.inf\n",
    "else:\n",
    "    with open('configs/nn/orthants-single-empty.json', 'r') as f:\n",
    "        best_config = json.load(f)\n",
    "    best_depth = best_config['depth']\n",
    "    best_width = best_config['width']\n",
    "    best_eta = best_config['eta']\n",
    "    best_weight_decay = best_config['weight_decay']\n",
    "    best_score = best_config['score']"
   ]
  },
  {
   "cell_type": "code",
   "execution_count": 21,
   "metadata": {},
   "outputs": [
    {
     "name": "stdout",
     "output_type": "stream",
     "text": [
      "\n",
      "Best validation score after 10 epochs: 0.913194\n",
      "Best configuration: depth: 3, width: 32, lr: 0.001, lambda: 0.0\n"
     ]
    }
   ],
   "source": [
    "import json\n",
    "\n",
    "total_count = len(depths) * len(widths) * len(etas) * len(weight_decays)\n",
    "curr_count = 0\n",
    "EPOCHS = 10\n",
    "\n",
    "if VALIDATE_NN:\n",
    "    print(f'Cross-validating across {total_count} models.\\n')\n",
    "\n",
    "    for depth in depths:\n",
    "        for width in widths:\n",
    "            for eta in etas:\n",
    "                for weight_decay in weight_decays:\n",
    "                    model = SimpleNN(7, hidden_layers=depth, hidden_units=width).to(device)\n",
    "                    loss_fn = torch.nn.BCELoss()\n",
    "                    optimizer = torch.optim.Adam(params=model.parameters(), lr=eta, weight_decay=weight_decay)\n",
    "                    metric = BinaryAccuracy()\n",
    "\n",
    "                    history = train_model(\n",
    "                        model=model,\n",
    "                        train_dataloader=train_dataloader,\n",
    "                        val_dataloader=val_dataloader,\n",
    "                        loss_fn=loss_fn,\n",
    "                        optimizer=optimizer,\n",
    "                        metric=metric,\n",
    "                        epochs=EPOCHS,\n",
    "                        verbose=0,\n",
    "                        device=device\n",
    "                    )\n",
    "                    curr_count += 1\n",
    "                    score = history['val_score'][-1]\n",
    "                    print(f'[{curr_count}/{total_count}] Depth: {depth}, width: {width}, lr: {eta}, lambda: {weight_decay} ==> score: {score:.6f}')\n",
    "                    if score > best_score:\n",
    "                        best_score = score\n",
    "                        best_depth = depth\n",
    "                        best_width = width\n",
    "                        best_eta = eta\n",
    "                        best_weight_decay = weight_decay\n",
    "    best_config = {\n",
    "        'score': float(best_score),\n",
    "        'depth': best_depth,\n",
    "        'width': best_width,\n",
    "        'eta': best_eta,\n",
    "        'weight_decay': best_weight_decay\n",
    "    }\n",
    "    with open('configs/nn/orthants-single-empty.json', 'w') as f:\n",
    "        json.dump(best_config, f)\n",
    "\n",
    "print(f'\\nBest validation score after {EPOCHS} epochs: {best_score:.6f}')\n",
    "print(f'Best configuration: depth: {best_depth}, width: {best_width}, lr: {best_eta}, lambda: {best_weight_decay}')"
   ]
  },
  {
   "cell_type": "code",
   "execution_count": 22,
   "metadata": {},
   "outputs": [],
   "source": [
    "best_model_nn = SimpleNN(7, hidden_layers=best_depth, hidden_units=best_width).to(device)"
   ]
  },
  {
   "cell_type": "code",
   "execution_count": 23,
   "metadata": {},
   "outputs": [],
   "source": [
    "from scripts.utils import EarlyStopping\n",
    "\n",
    "loss_fn = torch.nn.BCELoss()\n",
    "optimizer = torch.optim.Adam(params=best_model_nn.parameters(), lr=best_eta, weight_decay=best_weight_decay)\n",
    "metric = BinaryAccuracy()\n",
    "early_stop = EarlyStopping(patience=20, min_delta=1e-4)"
   ]
  },
  {
   "cell_type": "code",
   "execution_count": 24,
   "metadata": {},
   "outputs": [
    {
     "name": "stdout",
     "output_type": "stream",
     "text": [
      "Training model for 500 epochs. Early stopping enabled.\n",
      "Epoch: 1 => Train loss: 0.693578, Train score: 0.501427, Val loss: 0.693330, Val score: 0.500590\n",
      "Epoch: 2 => Train loss: 0.681571, Train score: 0.540797, Val loss: 0.622075, Val score: 0.670532\n",
      "Epoch: 3 => Train loss: 0.535008, Train score: 0.725148, Val loss: 0.478971, Val score: 0.753472\n",
      "Epoch: 4 => Train loss: 0.462305, Train score: 0.776476, Val loss: 0.450873, Val score: 0.784722\n",
      "Epoch: 5 => Train loss: 0.446483, Train score: 0.786368, Val loss: 0.432159, Val score: 0.797694\n",
      "Epoch: 6 => Train loss: 0.437454, Train score: 0.791142, Val loss: 0.444064, Val score: 0.785574\n",
      "Epoch: 7 => Train loss: 0.437867, Train score: 0.790453, Val loss: 0.434202, Val score: 0.789439\n",
      "Epoch: 8 => Train loss: 0.429782, Train score: 0.795030, Val loss: 0.431354, Val score: 0.793370\n",
      "Epoch: 9 => Train loss: 0.425608, Train score: 0.798228, Val loss: 0.452398, Val score: 0.782757\n",
      "Epoch: 10 => Train loss: 0.426947, Train score: 0.797884, Val loss: 0.435196, Val score: 0.790946\n",
      "Epoch: 11 => Train loss: 0.422192, Train score: 0.799311, Val loss: 0.436438, Val score: 0.788456\n",
      "Epoch: 12 => Train loss: 0.422710, Train score: 0.799951, Val loss: 0.430379, Val score: 0.788063\n",
      "Epoch: 13 => Train loss: 0.421890, Train score: 0.799262, Val loss: 0.445811, Val score: 0.784788\n",
      "Epoch: 14 => Train loss: 0.416988, Train score: 0.802559, Val loss: 0.436210, Val score: 0.788325\n",
      "Epoch: 15 => Train loss: 0.419226, Train score: 0.800886, Val loss: 0.421445, Val score: 0.797759\n",
      "Epoch: 16 => Train loss: 0.419430, Train score: 0.801624, Val loss: 0.436648, Val score: 0.792060\n",
      "Epoch: 17 => Train loss: 0.417132, Train score: 0.801870, Val loss: 0.419921, Val score: 0.797694\n",
      "Epoch: 18 => Train loss: 0.415124, Train score: 0.803593, Val loss: 0.414329, Val score: 0.803328\n",
      "Epoch: 19 => Train loss: 0.413567, Train score: 0.804134, Val loss: 0.416895, Val score: 0.799594\n",
      "Epoch: 20 => Train loss: 0.410466, Train score: 0.804872, Val loss: 0.421079, Val score: 0.799004\n",
      "Epoch: 21 => Train loss: 0.408854, Train score: 0.809203, Val loss: 0.408909, Val score: 0.807259\n",
      "Epoch: 22 => Train loss: 0.401030, Train score: 0.814911, Val loss: 0.398243, Val score: 0.816955\n",
      "Epoch: 23 => Train loss: 0.391834, Train score: 0.817766, Val loss: 0.396549, Val score: 0.813614\n",
      "Epoch: 24 => Train loss: 0.379806, Train score: 0.823573, Val loss: 0.370668, Val score: 0.827503\n",
      "Epoch: 25 => Train loss: 0.364578, Train score: 0.833514, Val loss: 0.373081, Val score: 0.825210\n",
      "Epoch: 26 => Train loss: 0.344793, Train score: 0.846949, Val loss: 0.362605, Val score: 0.832220\n",
      "Epoch: 27 => Train loss: 0.323402, Train score: 0.861024, Val loss: 0.315063, Val score: 0.864256\n",
      "Epoch: 28 => Train loss: 0.291962, Train score: 0.883907, Val loss: 0.265605, Val score: 0.902385\n",
      "Epoch: 29 => Train loss: 0.264770, Train score: 0.897933, Val loss: 0.266079, Val score: 0.894130\n",
      "Epoch: 30 => Train loss: 0.250429, Train score: 0.906644, Val loss: 0.262145, Val score: 0.901336\n",
      "Epoch: 31 => Train loss: 0.238270, Train score: 0.913681, Val loss: 0.253397, Val score: 0.903498\n",
      "Epoch: 32 => Train loss: 0.238768, Train score: 0.912746, Val loss: 0.250281, Val score: 0.909591\n",
      "Epoch: 33 => Train loss: 0.231619, Train score: 0.916585, Val loss: 0.224046, Val score: 0.920925\n",
      "Epoch: 34 => Train loss: 0.227759, Train score: 0.917470, Val loss: 0.236266, Val score: 0.912343\n",
      "Epoch: 35 => Train loss: 0.225808, Train score: 0.917864, Val loss: 0.228900, Val score: 0.920925\n",
      "Epoch: 36 => Train loss: 0.224151, Train score: 0.918652, Val loss: 0.221277, Val score: 0.918829\n",
      "Epoch: 37 => Train loss: 0.223976, Train score: 0.918848, Val loss: 0.223528, Val score: 0.919615\n",
      "Epoch: 38 => Train loss: 0.218473, Train score: 0.921900, Val loss: 0.208396, Val score: 0.922956\n",
      "Epoch: 39 => Train loss: 0.214581, Train score: 0.924262, Val loss: 0.236578, Val score: 0.911819\n",
      "Epoch: 40 => Train loss: 0.215843, Train score: 0.922195, Val loss: 0.214534, Val score: 0.922235\n",
      "Epoch: 41 => Train loss: 0.215003, Train score: 0.921949, Val loss: 0.212716, Val score: 0.924004\n",
      "Epoch: 42 => Train loss: 0.212722, Train score: 0.924213, Val loss: 0.221657, Val score: 0.918239\n",
      "Epoch: 43 => Train loss: 0.215963, Train score: 0.922441, Val loss: 0.216165, Val score: 0.922497\n",
      "Epoch: 44 => Train loss: 0.215851, Train score: 0.922244, Val loss: 0.217620, Val score: 0.921908\n",
      "Epoch: 45 => Train loss: 0.211531, Train score: 0.924705, Val loss: 0.207990, Val score: 0.926559\n",
      "Epoch: 46 => Train loss: 0.208344, Train score: 0.926033, Val loss: 0.210346, Val score: 0.926297\n",
      "Epoch: 47 => Train loss: 0.212323, Train score: 0.923868, Val loss: 0.204805, Val score: 0.930097\n",
      "Epoch: 48 => Train loss: 0.211537, Train score: 0.923770, Val loss: 0.228445, Val score: 0.918829\n",
      "Epoch: 49 => Train loss: 0.211080, Train score: 0.924065, Val loss: 0.219156, Val score: 0.921056\n",
      "Epoch: 50 => Train loss: 0.206789, Train score: 0.926722, Val loss: 0.233089, Val score: 0.908150\n",
      "Epoch: 51 => Train loss: 0.203137, Train score: 0.927805, Val loss: 0.214433, Val score: 0.923153\n",
      "Epoch: 52 => Train loss: 0.209720, Train score: 0.923917, Val loss: 0.225017, Val score: 0.919811\n",
      "Epoch: 53 => Train loss: 0.204108, Train score: 0.927657, Val loss: 0.216648, Val score: 0.922956\n",
      "Epoch: 54 => Train loss: 0.203495, Train score: 0.927608, Val loss: 0.199629, Val score: 0.930949\n",
      "Epoch: 55 => Train loss: 0.205200, Train score: 0.927165, Val loss: 0.195658, Val score: 0.931538\n",
      "Epoch: 56 => Train loss: 0.206386, Train score: 0.927067, Val loss: 0.198423, Val score: 0.930752\n",
      "Epoch: 57 => Train loss: 0.202730, Train score: 0.928100, Val loss: 0.215222, Val score: 0.924201\n",
      "Epoch: 58 => Train loss: 0.205173, Train score: 0.926280, Val loss: 0.204356, Val score: 0.926887\n",
      "Epoch: 59 => Train loss: 0.203125, Train score: 0.927018, Val loss: 0.202890, Val score: 0.929442\n",
      "Epoch: 60 => Train loss: 0.204318, Train score: 0.927904, Val loss: 0.206440, Val score: 0.928852\n",
      "Epoch: 61 => Train loss: 0.203293, Train score: 0.927313, Val loss: 0.205565, Val score: 0.922890\n",
      "Epoch: 62 => Train loss: 0.203498, Train score: 0.926772, Val loss: 0.208433, Val score: 0.928066\n",
      "Epoch: 63 => Train loss: 0.201413, Train score: 0.929035, Val loss: 0.218660, Val score: 0.919877\n",
      "Epoch: 64 => Train loss: 0.201649, Train score: 0.927707, Val loss: 0.206951, Val score: 0.927018\n",
      "Epoch: 65 => Train loss: 0.203357, Train score: 0.928789, Val loss: 0.203783, Val score: 0.930031\n",
      "Epoch: 66 => Train loss: 0.197725, Train score: 0.930266, Val loss: 0.214085, Val score: 0.924790\n",
      "Epoch: 67 => Train loss: 0.203731, Train score: 0.926526, Val loss: 0.198794, Val score: 0.929507\n",
      "Epoch: 68 => Train loss: 0.202050, Train score: 0.928839, Val loss: 0.201459, Val score: 0.929704\n",
      "Epoch: 69 => Train loss: 0.197230, Train score: 0.930364, Val loss: 0.201673, Val score: 0.928001\n",
      "Epoch: 70 => Train loss: 0.198123, Train score: 0.930856, Val loss: 0.206128, Val score: 0.929049\n",
      "Epoch: 71 => Train loss: 0.197607, Train score: 0.930659, Val loss: 0.206671, Val score: 0.925773\n",
      "Epoch: 72 => Train loss: 0.197400, Train score: 0.929429, Val loss: 0.206827, Val score: 0.927083\n",
      "Epoch: 73 => Train loss: 0.196821, Train score: 0.929921, Val loss: 0.223311, Val score: 0.921908\n",
      "Epoch: 74 => Train loss: 0.198894, Train score: 0.928248, Val loss: 0.201898, Val score: 0.929638\n",
      "Epoch: 75 => Train loss: 0.196531, Train score: 0.931102, Val loss: 0.213513, Val score: 0.925839\n",
      "Training stopped.\n"
     ]
    }
   ],
   "source": [
    "if TRAIN:\n",
    "    history = train_model(\n",
    "        model=best_model_nn,\n",
    "        train_dataloader=train_dataloader,\n",
    "        val_dataloader=val_dataloader,\n",
    "        loss_fn=loss_fn,\n",
    "        optimizer=optimizer,\n",
    "        metric=metric,\n",
    "        epochs=500,\n",
    "        early_stopping=early_stop,\n",
    "        device=device,\n",
    "        return_models=True\n",
    "    )\n",
    "    torch.save(best_model_nn.state_dict(), 'models/orthants-single-empty.pth')\n",
    "else:\n",
    "    best_model_nn.load_state_dict(torch.load('models/orthants-single-empty.pth'))"
   ]
  },
  {
   "cell_type": "code",
   "execution_count": 25,
   "metadata": {},
   "outputs": [
    {
     "data": {
      "image/png": "[encoded data removed]",
      "text/plain": [
       "<Figure size 1200x600 with 2 Axes>"
      ]
     },
     "metadata": {},
     "output_type": "display_data"
    }
   ],
   "source": [
    "from scripts.utils import plot_train_history\n",
    "\n",
    "if TRAIN:\n",
    "    plot_train_history(history)"
   ]
  },
  {
   "cell_type": "code",
   "execution_count": 26,
   "metadata": {},
   "outputs": [
    {
     "data": {
      "image/png": "[encoded data removed]",
      "text/plain": [
       "<Figure size 1800x900 with 8 Axes>"
      ]
     },
     "metadata": {},
     "output_type": "display_data"
    }
   ],
   "source": [
    "from scripts.utils import plot_radial_visualization\n",
    "\n",
    "if TRAIN:\n",
    "    plot_radial_visualization(\n",
    "        models=history['models'],\n",
    "        mp4_save_file_name='radial_1empty',\n",
    "        orthant_counts=orthant_counts,\n",
    "        main_orthant=ZERO_ORTHANT_INDEX,\n",
    "        fps=4\n",
    "    )"
   ]
  },
  {
   "cell_type": "code",
   "execution_count": 27,
   "metadata": {},
   "outputs": [],
   "source": [
    "from scripts.test import predict\n",
    "\n",
    "scores_nn = torch.tensor([\n",
    "    metric(\n",
    "        predict(best_model_nn, X_test[i], device),\n",
    "        Y_test[i]\n",
    "    ) for i in range(128)\n",
    "])"
   ]
  },
  {
   "cell_type": "code",
   "execution_count": 28,
   "metadata": {},
   "outputs": [
    {
     "data": {
      "text/plain": [
       "(tensor(0.9256), tensor(0.9200))"
      ]
     },
     "execution_count": 28,
     "metadata": {},
     "output_type": "execute_result"
    }
   ],
   "source": [
    "scores_nn.mean(), scores_nn[ZERO_ORTHANT_INDEX].mean()"
   ]
  },
  {
   "attachments": {},
   "cell_type": "markdown",
   "metadata": {},
   "source": [
    "## SVM"
   ]
  },
  {
   "cell_type": "code",
   "execution_count": 29,
   "metadata": {},
   "outputs": [],
   "source": [
    "from sklearn.svm import SVC\n",
    "from sklearn.metrics import accuracy_score, make_scorer\n",
    "from scripts.ntk import NTK\n",
    "from sklearn.model_selection import GridSearchCV"
   ]
  },
  {
   "cell_type": "code",
   "execution_count": 30,
   "metadata": {},
   "outputs": [],
   "source": [
    "ntk = NTK(best_model_nn).get_ntk"
   ]
  },
  {
   "cell_type": "code",
   "execution_count": 31,
   "metadata": {},
   "outputs": [],
   "source": [
    "model_base_ntk = SVC(kernel=ntk, max_iter=int(1e4))\n",
    "params_ntk = {\n",
    "    'C': np.logspace(-5, 5, 11)\n",
    "}\n",
    "\n",
    "gammas = np.logspace(-5, 5, 11).tolist()\n",
    "gammas.append('scale')\n",
    "gammas.append('auto')\n",
    "model_base_rbf = SVC(kernel='rbf', max_iter=int(1e4))\n",
    "params_rbf = {\n",
    "    'C': np.logspace(-5, 5, 11),\n",
    "    'gamma': gammas\n",
    "}\n",
    "\n",
    "scorer = make_scorer(accuracy_score)"
   ]
  },
  {
   "cell_type": "code",
   "execution_count": 32,
   "metadata": {},
   "outputs": [
    {
     "name": "stdout",
     "output_type": "stream",
     "text": [
      "Fitting 5 folds for each of 11 candidates, totalling 55 fits\n",
      "[CV 5/5] END ...........................C=1e-05;, score=0.523 total time= 1.7min\n",
      "[CV 3/5] END ...........................C=1e-05;, score=0.537 total time= 1.7min\n",
      "[CV 1/5] END ...........................C=1e-05;, score=0.528 total time= 1.7min\n",
      "[CV 4/5] END ...........................C=1e-05;, score=0.527 total time= 1.7min\n",
      "[CV 2/5] END ...........................C=1e-05;, score=0.529 total time= 1.7min\n",
      "[CV 1/5] END ..........................C=0.0001;, score=0.573 total time=  58.6s\n",
      "[CV 5/5] END ..........................C=0.0001;, score=0.541 total time=  58.3s\n",
      "[CV 2/5] END ..........................C=0.0001;, score=0.563 total time= 1.0min\n",
      "[CV 3/5] END ..........................C=0.0001;, score=0.592 total time= 1.0min\n",
      "[CV 4/5] END ..........................C=0.0001;, score=0.562 total time= 1.0min\n",
      "[CV 1/5] END ...........................C=0.001;, score=0.699 total time= 1.5min\n",
      "[CV 3/5] END ...........................C=0.001;, score=0.688 total time= 1.5min\n",
      "[CV 2/5] END ...........................C=0.001;, score=0.697 total time= 1.6min\n",
      "[CV 4/5] END ...........................C=0.001;, score=0.692 total time= 1.6min\n",
      "[CV 5/5] END ...........................C=0.001;, score=0.679 total time= 1.6min\n"
     ]
    },
    {
     "name": "stderr",
     "output_type": "stream",
     "text": [
      "/home/balakrishnan/.local/lib/python3.10/site-packages/sklearn/svm/_base.py:299: ConvergenceWarning: Solver terminated early (max_iter=10000).  Consider pre-processing your data with StandardScaler or MinMaxScaler.\n",
      "  warnings.warn(\n",
      "/home/balakrishnan/.local/lib/python3.10/site-packages/sklearn/svm/_base.py:299: ConvergenceWarning: Solver terminated early (max_iter=10000).  Consider pre-processing your data with StandardScaler or MinMaxScaler.\n",
      "  warnings.warn(\n",
      "/home/balakrishnan/.local/lib/python3.10/site-packages/sklearn/svm/_base.py:299: ConvergenceWarning: Solver terminated early (max_iter=10000).  Consider pre-processing your data with StandardScaler or MinMaxScaler.\n",
      "  warnings.warn(\n",
      "/home/balakrishnan/.local/lib/python3.10/site-packages/sklearn/svm/_base.py:299: ConvergenceWarning: Solver terminated early (max_iter=10000).  Consider pre-processing your data with StandardScaler or MinMaxScaler.\n",
      "  warnings.warn(\n",
      "/home/balakrishnan/.local/lib/python3.10/site-packages/sklearn/svm/_base.py:299: ConvergenceWarning: Solver terminated early (max_iter=10000).  Consider pre-processing your data with StandardScaler or MinMaxScaler.\n",
      "  warnings.warn(\n"
     ]
    },
    {
     "name": "stdout",
     "output_type": "stream",
     "text": [
      "[CV 1/5] END ............................C=0.01;, score=0.875 total time=  56.8s\n",
      "[CV 2/5] END ............................C=0.01;, score=0.868 total time=  53.2s\n",
      "[CV 3/5] END ............................C=0.01;, score=0.863 total time=  57.6s\n",
      "[CV 5/5] END ............................C=0.01;, score=0.874 total time=  54.5s\n",
      "[CV 4/5] END ............................C=0.01;, score=0.873 total time=  56.4s\n"
     ]
    },
    {
     "name": "stderr",
     "output_type": "stream",
     "text": [
      "/home/balakrishnan/.local/lib/python3.10/site-packages/sklearn/svm/_base.py:299: ConvergenceWarning: Solver terminated early (max_iter=10000).  Consider pre-processing your data with StandardScaler or MinMaxScaler.\n",
      "  warnings.warn(\n",
      "/home/balakrishnan/.local/lib/python3.10/site-packages/sklearn/svm/_base.py:299: ConvergenceWarning: Solver terminated early (max_iter=10000).  Consider pre-processing your data with StandardScaler or MinMaxScaler.\n",
      "  warnings.warn(\n"
     ]
    },
    {
     "name": "stdout",
     "output_type": "stream",
     "text": [
      "[CV 1/5] END .............................C=0.1;, score=0.906 total time= 1.5min\n"
     ]
    },
    {
     "name": "stderr",
     "output_type": "stream",
     "text": [
      "/home/balakrishnan/.local/lib/python3.10/site-packages/sklearn/svm/_base.py:299: ConvergenceWarning: Solver terminated early (max_iter=10000).  Consider pre-processing your data with StandardScaler or MinMaxScaler.\n",
      "  warnings.warn(\n",
      "/home/balakrishnan/.local/lib/python3.10/site-packages/sklearn/svm/_base.py:299: ConvergenceWarning: Solver terminated early (max_iter=10000).  Consider pre-processing your data with StandardScaler or MinMaxScaler.\n",
      "  warnings.warn(\n",
      "/home/balakrishnan/.local/lib/python3.10/site-packages/sklearn/svm/_base.py:299: ConvergenceWarning: Solver terminated early (max_iter=10000).  Consider pre-processing your data with StandardScaler or MinMaxScaler.\n",
      "  warnings.warn(\n"
     ]
    },
    {
     "name": "stdout",
     "output_type": "stream",
     "text": [
      "[CV 2/5] END .............................C=0.1;, score=0.898 total time= 1.6min\n",
      "[CV 3/5] END .............................C=0.1;, score=0.892 total time= 1.6min\n",
      "[CV 4/5] END .............................C=0.1;, score=0.905 total time= 1.6min\n",
      "[CV 5/5] END .............................C=0.1;, score=0.909 total time= 1.7min\n"
     ]
    },
    {
     "name": "stderr",
     "output_type": "stream",
     "text": [
      "/home/balakrishnan/.local/lib/python3.10/site-packages/sklearn/svm/_base.py:299: ConvergenceWarning: Solver terminated early (max_iter=10000).  Consider pre-processing your data with StandardScaler or MinMaxScaler.\n",
      "  warnings.warn(\n",
      "/home/balakrishnan/.local/lib/python3.10/site-packages/sklearn/svm/_base.py:299: ConvergenceWarning: Solver terminated early (max_iter=10000).  Consider pre-processing your data with StandardScaler or MinMaxScaler.\n",
      "  warnings.warn(\n"
     ]
    },
    {
     "name": "stdout",
     "output_type": "stream",
     "text": [
      "[CV 1/5] END .............................C=1.0;, score=0.580 total time=  46.4s\n",
      "[CV 2/5] END .............................C=1.0;, score=0.564 total time=  47.5s\n"
     ]
    },
    {
     "name": "stderr",
     "output_type": "stream",
     "text": [
      "/home/balakrishnan/.local/lib/python3.10/site-packages/sklearn/svm/_base.py:299: ConvergenceWarning: Solver terminated early (max_iter=10000).  Consider pre-processing your data with StandardScaler or MinMaxScaler.\n",
      "  warnings.warn(\n",
      "/home/balakrishnan/.local/lib/python3.10/site-packages/sklearn/svm/_base.py:299: ConvergenceWarning: Solver terminated early (max_iter=10000).  Consider pre-processing your data with StandardScaler or MinMaxScaler.\n",
      "  warnings.warn(\n",
      "/home/balakrishnan/.local/lib/python3.10/site-packages/sklearn/svm/_base.py:299: ConvergenceWarning: Solver terminated early (max_iter=10000).  Consider pre-processing your data with StandardScaler or MinMaxScaler.\n",
      "  warnings.warn(\n"
     ]
    },
    {
     "name": "stdout",
     "output_type": "stream",
     "text": [
      "[CV 3/5] END .............................C=1.0;, score=0.567 total time= 1.0min\n",
      "[CV 5/5] END .............................C=1.0;, score=0.564 total time= 1.2min\n",
      "[CV 4/5] END .............................C=1.0;, score=0.667 total time= 1.3min\n"
     ]
    },
    {
     "name": "stderr",
     "output_type": "stream",
     "text": [
      "/home/balakrishnan/.local/lib/python3.10/site-packages/sklearn/svm/_base.py:299: ConvergenceWarning: Solver terminated early (max_iter=10000).  Consider pre-processing your data with StandardScaler or MinMaxScaler.\n",
      "  warnings.warn(\n",
      "/home/balakrishnan/.local/lib/python3.10/site-packages/sklearn/svm/_base.py:299: ConvergenceWarning: Solver terminated early (max_iter=10000).  Consider pre-processing your data with StandardScaler or MinMaxScaler.\n",
      "  warnings.warn(\n"
     ]
    },
    {
     "name": "stdout",
     "output_type": "stream",
     "text": [
      "[CV 1/5] END ............................C=10.0;, score=0.530 total time= 1.5min\n",
      "[CV 2/5] END ............................C=10.0;, score=0.527 total time= 1.6min\n"
     ]
    },
    {
     "name": "stderr",
     "output_type": "stream",
     "text": [
      "/home/balakrishnan/.local/lib/python3.10/site-packages/sklearn/svm/_base.py:299: ConvergenceWarning: Solver terminated early (max_iter=10000).  Consider pre-processing your data with StandardScaler or MinMaxScaler.\n",
      "  warnings.warn(\n",
      "/home/balakrishnan/.local/lib/python3.10/site-packages/sklearn/svm/_base.py:299: ConvergenceWarning: Solver terminated early (max_iter=10000).  Consider pre-processing your data with StandardScaler or MinMaxScaler.\n",
      "  warnings.warn(\n",
      "/home/balakrishnan/.local/lib/python3.10/site-packages/sklearn/svm/_base.py:299: ConvergenceWarning: Solver terminated early (max_iter=10000).  Consider pre-processing your data with StandardScaler or MinMaxScaler.\n",
      "  warnings.warn(\n"
     ]
    },
    {
     "name": "stdout",
     "output_type": "stream",
     "text": [
      "[CV 3/5] END ............................C=10.0;, score=0.537 total time= 1.5min\n",
      "[CV 4/5] END ............................C=10.0;, score=0.535 total time= 1.3min\n",
      "[CV 5/5] END ............................C=10.0;, score=0.532 total time= 1.2min\n"
     ]
    },
    {
     "name": "stderr",
     "output_type": "stream",
     "text": [
      "/home/balakrishnan/.local/lib/python3.10/site-packages/sklearn/svm/_base.py:299: ConvergenceWarning: Solver terminated early (max_iter=10000).  Consider pre-processing your data with StandardScaler or MinMaxScaler.\n",
      "  warnings.warn(\n",
      "/home/balakrishnan/.local/lib/python3.10/site-packages/sklearn/svm/_base.py:299: ConvergenceWarning: Solver terminated early (max_iter=10000).  Consider pre-processing your data with StandardScaler or MinMaxScaler.\n",
      "  warnings.warn(\n"
     ]
    },
    {
     "name": "stdout",
     "output_type": "stream",
     "text": [
      "[CV 1/5] END ...........................C=100.0;, score=0.528 total time=  50.3s\n",
      "[CV 2/5] END ...........................C=100.0;, score=0.527 total time=  46.7s\n"
     ]
    },
    {
     "name": "stderr",
     "output_type": "stream",
     "text": [
      "/home/balakrishnan/.local/lib/python3.10/site-packages/sklearn/svm/_base.py:299: ConvergenceWarning: Solver terminated early (max_iter=10000).  Consider pre-processing your data with StandardScaler or MinMaxScaler.\n",
      "  warnings.warn(\n",
      "/home/balakrishnan/.local/lib/python3.10/site-packages/sklearn/svm/_base.py:299: ConvergenceWarning: Solver terminated early (max_iter=10000).  Consider pre-processing your data with StandardScaler or MinMaxScaler.\n",
      "  warnings.warn(\n",
      "/home/balakrishnan/.local/lib/python3.10/site-packages/sklearn/svm/_base.py:299: ConvergenceWarning: Solver terminated early (max_iter=10000).  Consider pre-processing your data with StandardScaler or MinMaxScaler.\n",
      "  warnings.warn(\n",
      "/home/balakrishnan/.local/lib/python3.10/site-packages/sklearn/svm/_base.py:299: ConvergenceWarning: Solver terminated early (max_iter=10000).  Consider pre-processing your data with StandardScaler or MinMaxScaler.\n",
      "  warnings.warn(\n"
     ]
    },
    {
     "name": "stdout",
     "output_type": "stream",
     "text": [
      "[CV 4/5] END ...........................C=100.0;, score=0.537 total time= 1.5min\n",
      "[CV 3/5] END ...........................C=100.0;, score=0.540 total time= 1.6min\n",
      "[CV 5/5] END ...........................C=100.0;, score=0.522 total time= 1.5min\n"
     ]
    },
    {
     "name": "stderr",
     "output_type": "stream",
     "text": [
      "/home/balakrishnan/.local/lib/python3.10/site-packages/sklearn/svm/_base.py:299: ConvergenceWarning: Solver terminated early (max_iter=10000).  Consider pre-processing your data with StandardScaler or MinMaxScaler.\n",
      "  warnings.warn(\n"
     ]
    },
    {
     "name": "stdout",
     "output_type": "stream",
     "text": [
      "[CV 1/5] END ..........................C=1000.0;, score=0.535 total time= 1.4min\n",
      "[CV 2/5] END ..........................C=1000.0;, score=0.536 total time= 1.5min\n"
     ]
    },
    {
     "name": "stderr",
     "output_type": "stream",
     "text": [
      "/home/balakrishnan/.local/lib/python3.10/site-packages/sklearn/svm/_base.py:299: ConvergenceWarning: Solver terminated early (max_iter=10000).  Consider pre-processing your data with StandardScaler or MinMaxScaler.\n",
      "  warnings.warn(\n",
      "/home/balakrishnan/.local/lib/python3.10/site-packages/sklearn/svm/_base.py:299: ConvergenceWarning: Solver terminated early (max_iter=10000).  Consider pre-processing your data with StandardScaler or MinMaxScaler.\n",
      "  warnings.warn(\n",
      "/home/balakrishnan/.local/lib/python3.10/site-packages/sklearn/svm/_base.py:299: ConvergenceWarning: Solver terminated early (max_iter=10000).  Consider pre-processing your data with StandardScaler or MinMaxScaler.\n",
      "  warnings.warn(\n",
      "/home/balakrishnan/.local/lib/python3.10/site-packages/sklearn/svm/_base.py:299: ConvergenceWarning: Solver terminated early (max_iter=10000).  Consider pre-processing your data with StandardScaler or MinMaxScaler.\n",
      "  warnings.warn(\n",
      "/home/balakrishnan/.local/lib/python3.10/site-packages/sklearn/svm/_base.py:299: ConvergenceWarning: Solver terminated early (max_iter=10000).  Consider pre-processing your data with StandardScaler or MinMaxScaler.\n",
      "  warnings.warn(\n"
     ]
    },
    {
     "name": "stdout",
     "output_type": "stream",
     "text": [
      "[CV 3/5] END ..........................C=1000.0;, score=0.543 total time=  59.9s\n",
      "[CV 4/5] END ..........................C=1000.0;, score=0.594 total time=  59.3s\n",
      "[CV 5/5] END ..........................C=1000.0;, score=0.539 total time=  58.1s\n",
      "[CV 1/5] END .........................C=10000.0;, score=0.535 total time=  49.2s\n",
      "[CV 2/5] END .........................C=10000.0;, score=0.536 total time=  48.7s\n"
     ]
    },
    {
     "name": "stderr",
     "output_type": "stream",
     "text": [
      "/home/balakrishnan/.local/lib/python3.10/site-packages/sklearn/svm/_base.py:299: ConvergenceWarning: Solver terminated early (max_iter=10000).  Consider pre-processing your data with StandardScaler or MinMaxScaler.\n",
      "  warnings.warn(\n",
      "/home/balakrishnan/.local/lib/python3.10/site-packages/sklearn/svm/_base.py:299: ConvergenceWarning: Solver terminated early (max_iter=10000).  Consider pre-processing your data with StandardScaler or MinMaxScaler.\n",
      "  warnings.warn(\n",
      "/home/balakrishnan/.local/lib/python3.10/site-packages/sklearn/svm/_base.py:299: ConvergenceWarning: Solver terminated early (max_iter=10000).  Consider pre-processing your data with StandardScaler or MinMaxScaler.\n",
      "  warnings.warn(\n",
      "/home/balakrishnan/.local/lib/python3.10/site-packages/sklearn/svm/_base.py:299: ConvergenceWarning: Solver terminated early (max_iter=10000).  Consider pre-processing your data with StandardScaler or MinMaxScaler.\n",
      "  warnings.warn(\n",
      "/home/balakrishnan/.local/lib/python3.10/site-packages/sklearn/svm/_base.py:299: ConvergenceWarning: Solver terminated early (max_iter=10000).  Consider pre-processing your data with StandardScaler or MinMaxScaler.\n",
      "  warnings.warn(\n"
     ]
    },
    {
     "name": "stdout",
     "output_type": "stream",
     "text": [
      "[CV 4/5] END .........................C=10000.0;, score=0.594 total time= 1.5min\n",
      "[CV 1/5] END ........................C=100000.0;, score=0.535 total time= 1.5min\n",
      "[CV 3/5] END .........................C=10000.0;, score=0.543 total time= 1.6min\n",
      "[CV 5/5] END .........................C=10000.0;, score=0.539 total time= 1.6min\n",
      "[CV 2/5] END ........................C=100000.0;, score=0.536 total time= 1.5min\n"
     ]
    },
    {
     "name": "stderr",
     "output_type": "stream",
     "text": [
      "/home/balakrishnan/.local/lib/python3.10/site-packages/sklearn/svm/_base.py:299: ConvergenceWarning: Solver terminated early (max_iter=10000).  Consider pre-processing your data with StandardScaler or MinMaxScaler.\n",
      "  warnings.warn(\n",
      "/home/balakrishnan/.local/lib/python3.10/site-packages/sklearn/svm/_base.py:299: ConvergenceWarning: Solver terminated early (max_iter=10000).  Consider pre-processing your data with StandardScaler or MinMaxScaler.\n",
      "  warnings.warn(\n",
      "/home/balakrishnan/.local/lib/python3.10/site-packages/sklearn/svm/_base.py:299: ConvergenceWarning: Solver terminated early (max_iter=10000).  Consider pre-processing your data with StandardScaler or MinMaxScaler.\n",
      "  warnings.warn(\n"
     ]
    },
    {
     "name": "stdout",
     "output_type": "stream",
     "text": [
      "[CV 3/5] END ........................C=100000.0;, score=0.543 total time=  39.6s\n",
      "[CV 4/5] END ........................C=100000.0;, score=0.594 total time=  38.8s\n",
      "[CV 5/5] END ........................C=100000.0;, score=0.539 total time=  37.5s\n"
     ]
    }
   ],
   "source": [
    "if VALIDATE_SVM:\n",
    "    model_cv_ntk = GridSearchCV(\n",
    "        estimator=model_base_ntk,\n",
    "        param_grid=params_ntk,\n",
    "        scoring=scorer,\n",
    "        n_jobs=5,\n",
    "        refit=False,\n",
    "        verbose=3\n",
    "    )\n",
    "    model_cv_ntk.fit(X_train, Y_train.squeeze())\n",
    "    best_params_ntk = model_cv_ntk.best_params_\n",
    "    best_score_ntk = max(model_cv_ntk.cv_results_['mean_test_score'])\n",
    "    best_params_ntk, best_score_ntk"
   ]
  },
  {
   "cell_type": "code",
   "execution_count": 33,
   "metadata": {},
   "outputs": [
    {
     "name": "stdout",
     "output_type": "stream",
     "text": [
      "Fitting 5 folds for each of 143 candidates, totalling 715 fits\n",
      "[CV 4/5] END ..............C=1e-05, gamma=1e-05;, score=0.500 total time=  10.6s\n",
      "[CV 1/5] END ..............C=1e-05, gamma=1e-05;, score=0.500 total time=  10.6s\n",
      "[CV 3/5] END ..............C=1e-05, gamma=1e-05;, score=0.500 total time=  10.7s\n",
      "[CV 2/5] END ..............C=1e-05, gamma=1e-05;, score=0.500 total time=  10.7s\n",
      "[CV 5/5] END ..............C=1e-05, gamma=1e-05;, score=0.500 total time=  10.7s\n",
      "[CV 4/5] END .............C=1e-05, gamma=0.0001;, score=0.500 total time=  11.2s\n",
      "[CV 3/5] END .............C=1e-05, gamma=0.0001;, score=0.500 total time=  11.2s\n",
      "[CV 2/5] END .............C=1e-05, gamma=0.0001;, score=0.500 total time=  11.3s\n",
      "[CV 1/5] END .............C=1e-05, gamma=0.0001;, score=0.500 total time=  11.4s\n",
      "[CV 5/5] END .............C=1e-05, gamma=0.0001;, score=0.500 total time=  11.4s\n",
      "[CV 2/5] END ..............C=1e-05, gamma=0.001;, score=0.500 total time=  44.6s\n",
      "[CV 3/5] END ..............C=1e-05, gamma=0.001;, score=0.500 total time=  45.5s\n",
      "[CV 4/5] END ..............C=1e-05, gamma=0.001;, score=0.500 total time=  45.5s\n",
      "[CV 1/5] END ..............C=1e-05, gamma=0.001;, score=0.500 total time=  45.8s\n",
      "[CV 5/5] END ..............C=1e-05, gamma=0.001;, score=0.500 total time=  46.0s\n",
      "[CV 3/5] END ...............C=1e-05, gamma=0.01;, score=0.500 total time=  20.2s\n",
      "[CV 2/5] END ...............C=1e-05, gamma=0.01;, score=0.500 total time=  20.3s\n",
      "[CV 1/5] END ...............C=1e-05, gamma=0.01;, score=0.500 total time=  21.2s\n",
      "[CV 4/5] END ...............C=1e-05, gamma=0.01;, score=0.500 total time=  20.1s\n",
      "[CV 5/5] END ...............C=1e-05, gamma=0.01;, score=0.500 total time=  19.7s\n",
      "[CV 1/5] END ................C=1e-05, gamma=0.1;, score=0.500 total time=  14.1s\n",
      "[CV 2/5] END ................C=1e-05, gamma=0.1;, score=0.500 total time=  14.2s\n",
      "[CV 3/5] END ................C=1e-05, gamma=0.1;, score=0.500 total time=  14.2s\n",
      "[CV 4/5] END ................C=1e-05, gamma=0.1;, score=0.500 total time=  14.2s\n",
      "[CV 5/5] END ................C=1e-05, gamma=0.1;, score=0.500 total time=  14.2s\n",
      "[CV 1/5] END ................C=1e-05, gamma=1.0;, score=0.500 total time=  13.3s\n",
      "[CV 3/5] END ................C=1e-05, gamma=1.0;, score=0.500 total time=  13.3s\n",
      "[CV 4/5] END ................C=1e-05, gamma=1.0;, score=0.500 total time=  13.2s\n",
      "[CV 5/5] END ................C=1e-05, gamma=1.0;, score=0.500 total time=  13.2s\n",
      "[CV 2/5] END ................C=1e-05, gamma=1.0;, score=0.500 total time=  13.5s\n",
      "[CV 1/5] END ...............C=1e-05, gamma=10.0;, score=0.500 total time=  12.1s\n",
      "[CV 2/5] END ...............C=1e-05, gamma=10.0;, score=0.500 total time=  12.0s\n",
      "[CV 4/5] END ...............C=1e-05, gamma=10.0;, score=0.500 total time=  12.1s\n",
      "[CV 3/5] END ...............C=1e-05, gamma=10.0;, score=0.500 total time=  12.2s\n",
      "[CV 5/5] END ...............C=1e-05, gamma=10.0;, score=0.500 total time=  12.1s\n",
      "[CV 1/5] END ..............C=1e-05, gamma=100.0;, score=0.500 total time=  10.7s\n",
      "[CV 2/5] END ..............C=1e-05, gamma=100.0;, score=0.500 total time=  10.8s\n",
      "[CV 3/5] END ..............C=1e-05, gamma=100.0;, score=0.500 total time=  10.8s\n",
      "[CV 5/5] END ..............C=1e-05, gamma=100.0;, score=0.500 total time=  10.8s\n",
      "[CV 4/5] END ..............C=1e-05, gamma=100.0;, score=0.500 total time=  10.9s\n",
      "[CV 1/5] END .............C=1e-05, gamma=1000.0;, score=0.500 total time=   9.7s\n",
      "[CV 3/5] END .............C=1e-05, gamma=1000.0;, score=0.500 total time=   9.6s\n",
      "[CV 2/5] END .............C=1e-05, gamma=1000.0;, score=0.500 total time=   9.8s\n",
      "[CV 4/5] END .............C=1e-05, gamma=1000.0;, score=0.500 total time=   9.7s\n",
      "[CV 5/5] END .............C=1e-05, gamma=1000.0;, score=0.500 total time=   9.7s\n",
      "[CV 1/5] END ............C=1e-05, gamma=10000.0;, score=0.500 total time=   9.8s\n",
      "[CV 2/5] END ............C=1e-05, gamma=10000.0;, score=0.500 total time=   9.8s\n",
      "[CV 3/5] END ............C=1e-05, gamma=10000.0;, score=0.500 total time=   9.9s\n",
      "[CV 4/5] END ............C=1e-05, gamma=10000.0;, score=0.500 total time=  10.0s\n",
      "[CV 5/5] END ............C=1e-05, gamma=10000.0;, score=0.500 total time=  10.0s\n",
      "[CV 1/5] END ...........C=1e-05, gamma=100000.0;, score=0.500 total time=  35.5s\n",
      "[CV 2/5] END ...........C=1e-05, gamma=100000.0;, score=0.500 total time=  35.7s\n",
      "[CV 3/5] END ...........C=1e-05, gamma=100000.0;, score=0.500 total time=  36.9s\n",
      "[CV 4/5] END ...........C=1e-05, gamma=100000.0;, score=0.500 total time=  37.4s\n",
      "[CV 5/5] END ...........C=1e-05, gamma=100000.0;, score=0.500 total time=  38.4s\n",
      "[CV 2/5] END ..............C=1e-05, gamma=scale;, score=0.500 total time=  25.5s\n",
      "[CV 1/5] END ..............C=1e-05, gamma=scale;, score=0.500 total time=  26.0s\n",
      "[CV 3/5] END ..............C=1e-05, gamma=scale;, score=0.500 total time=  24.5s\n",
      "[CV 4/5] END ..............C=1e-05, gamma=scale;, score=0.500 total time=  24.2s\n",
      "[CV 5/5] END ..............C=1e-05, gamma=scale;, score=0.500 total time=  23.3s\n",
      "[CV 1/5] END ...............C=1e-05, gamma=auto;, score=0.500 total time=  14.0s\n",
      "[CV 2/5] END ...............C=1e-05, gamma=auto;, score=0.500 total time=  14.1s\n",
      "[CV 3/5] END ...............C=1e-05, gamma=auto;, score=0.500 total time=  14.0s\n",
      "[CV 4/5] END ...............C=1e-05, gamma=auto;, score=0.500 total time=  14.1s\n",
      "[CV 5/5] END ...............C=1e-05, gamma=auto;, score=0.500 total time=  14.2s\n",
      "[CV 1/5] END .............C=0.0001, gamma=1e-05;, score=0.500 total time=  12.4s\n",
      "[CV 2/5] END .............C=0.0001, gamma=1e-05;, score=0.500 total time=  12.4s\n",
      "[CV 3/5] END .............C=0.0001, gamma=1e-05;, score=0.500 total time=  12.5s\n",
      "[CV 4/5] END .............C=0.0001, gamma=1e-05;, score=0.500 total time=  12.5s\n",
      "[CV 5/5] END .............C=0.0001, gamma=1e-05;, score=0.500 total time=  12.6s\n",
      "[CV 1/5] END ............C=0.0001, gamma=0.0001;, score=0.500 total time=  11.7s\n",
      "[CV 2/5] END ............C=0.0001, gamma=0.0001;, score=0.500 total time=  11.7s\n",
      "[CV 3/5] END ............C=0.0001, gamma=0.0001;, score=0.500 total time=  11.5s\n",
      "[CV 4/5] END ............C=0.0001, gamma=0.0001;, score=0.500 total time=  11.6s\n",
      "[CV 5/5] END ............C=0.0001, gamma=0.0001;, score=0.500 total time=  11.7s\n",
      "[CV 1/5] END .............C=0.0001, gamma=0.001;, score=0.500 total time=  11.1s\n",
      "[CV 3/5] END .............C=0.0001, gamma=0.001;, score=0.500 total time=  11.0s\n",
      "[CV 2/5] END .............C=0.0001, gamma=0.001;, score=0.500 total time=  11.2s\n",
      "[CV 4/5] END .............C=0.0001, gamma=0.001;, score=0.500 total time=  11.0s\n",
      "[CV 5/5] END .............C=0.0001, gamma=0.001;, score=0.500 total time=  11.3s\n",
      "[CV 2/5] END ..............C=0.0001, gamma=0.01;, score=0.500 total time=  10.7s\n",
      "[CV 1/5] END ..............C=0.0001, gamma=0.01;, score=0.500 total time=  10.8s\n",
      "[CV 3/5] END ..............C=0.0001, gamma=0.01;, score=0.500 total time=  10.7s\n",
      "[CV 4/5] END ..............C=0.0001, gamma=0.01;, score=0.500 total time=  10.8s\n",
      "[CV 5/5] END ..............C=0.0001, gamma=0.01;, score=0.500 total time=  10.9s\n",
      "[CV 2/5] END ...............C=0.0001, gamma=0.1;, score=0.500 total time=  10.6s\n",
      "[CV 1/5] END ...............C=0.0001, gamma=0.1;, score=0.500 total time=  10.7s\n",
      "[CV 3/5] END ...............C=0.0001, gamma=0.1;, score=0.500 total time=  10.7s\n",
      "[CV 4/5] END ...............C=0.0001, gamma=0.1;, score=0.500 total time=  10.9s\n",
      "[CV 5/5] END ...............C=0.0001, gamma=0.1;, score=0.500 total time=  10.8s\n",
      "[CV 1/5] END ...............C=0.0001, gamma=1.0;, score=0.500 total time=  15.7s\n",
      "[CV 2/5] END ...............C=0.0001, gamma=1.0;, score=0.500 total time=  16.2s\n",
      "[CV 3/5] END ...............C=0.0001, gamma=1.0;, score=0.500 total time=  16.3s\n",
      "[CV 4/5] END ...............C=0.0001, gamma=1.0;, score=0.500 total time=  20.6s\n",
      "[CV 5/5] END ...............C=0.0001, gamma=1.0;, score=0.500 total time=  22.5s\n",
      "[CV 1/5] END ..............C=0.0001, gamma=10.0;, score=0.500 total time=  44.3s\n",
      "[CV 2/5] END ..............C=0.0001, gamma=10.0;, score=0.500 total time=  44.1s\n",
      "[CV 3/5] END ..............C=0.0001, gamma=10.0;, score=0.500 total time=  44.1s\n",
      "[CV 4/5] END ..............C=0.0001, gamma=10.0;, score=0.500 total time=  40.6s\n",
      "[CV 5/5] END ..............C=0.0001, gamma=10.0;, score=0.500 total time=  39.1s\n",
      "[CV 1/5] END .............C=0.0001, gamma=100.0;, score=0.500 total time=  14.8s\n",
      "[CV 3/5] END .............C=0.0001, gamma=100.0;, score=0.500 total time=  14.9s\n",
      "[CV 2/5] END .............C=0.0001, gamma=100.0;, score=0.500 total time=  15.1s\n",
      "[CV 4/5] END .............C=0.0001, gamma=100.0;, score=0.500 total time=  14.4s\n",
      "[CV 5/5] END .............C=0.0001, gamma=100.0;, score=0.500 total time=  14.3s\n",
      "[CV 1/5] END ............C=0.0001, gamma=1000.0;, score=0.500 total time=  11.6s\n",
      "[CV 2/5] END ............C=0.0001, gamma=1000.0;, score=0.500 total time=  11.7s\n",
      "[CV 3/5] END ............C=0.0001, gamma=1000.0;, score=0.500 total time=  11.7s\n",
      "[CV 4/5] END ............C=0.0001, gamma=1000.0;, score=0.500 total time=  11.5s\n",
      "[CV 5/5] END ............C=0.0001, gamma=1000.0;, score=0.500 total time=  11.5s\n",
      "[CV 1/5] END ...........C=0.0001, gamma=10000.0;, score=0.500 total time=  10.5s\n",
      "[CV 2/5] END ...........C=0.0001, gamma=10000.0;, score=0.500 total time=  10.6s\n",
      "[CV 3/5] END ...........C=0.0001, gamma=10000.0;, score=0.500 total time=  10.7s\n",
      "[CV 4/5] END ...........C=0.0001, gamma=10000.0;, score=0.500 total time=  10.9s\n",
      "[CV 5/5] END ...........C=0.0001, gamma=10000.0;, score=0.500 total time=  10.4s\n",
      "[CV 1/5] END ..........C=0.0001, gamma=100000.0;, score=0.500 total time=  10.0s\n",
      "[CV 2/5] END ..........C=0.0001, gamma=100000.0;, score=0.500 total time=  10.1s\n",
      "[CV 3/5] END ..........C=0.0001, gamma=100000.0;, score=0.500 total time=  10.0s\n",
      "[CV 4/5] END ..........C=0.0001, gamma=100000.0;, score=0.500 total time=  10.2s\n",
      "[CV 5/5] END ..........C=0.0001, gamma=100000.0;, score=0.500 total time=   9.9s\n",
      "[CV 1/5] END .............C=0.0001, gamma=scale;, score=0.500 total time=  11.2s\n",
      "[CV 3/5] END .............C=0.0001, gamma=scale;, score=0.500 total time=  11.0s\n",
      "[CV 2/5] END .............C=0.0001, gamma=scale;, score=0.500 total time=  11.1s\n",
      "[CV 5/5] END .............C=0.0001, gamma=scale;, score=0.500 total time=  10.9s\n",
      "[CV 4/5] END .............C=0.0001, gamma=scale;, score=0.500 total time=  11.2s\n",
      "[CV 1/5] END ..............C=0.0001, gamma=auto;, score=0.500 total time=  10.6s\n",
      "[CV 2/5] END ..............C=0.0001, gamma=auto;, score=0.500 total time=  10.5s\n",
      "[CV 3/5] END ..............C=0.0001, gamma=auto;, score=0.500 total time=  10.6s\n",
      "[CV 4/5] END ..............C=0.0001, gamma=auto;, score=0.500 total time=  10.6s\n",
      "[CV 5/5] END ..............C=0.0001, gamma=auto;, score=0.500 total time=  10.6s\n",
      "[CV 1/5] END ..............C=0.001, gamma=1e-05;, score=0.500 total time=  10.4s\n",
      "[CV 2/5] END ..............C=0.001, gamma=1e-05;, score=0.500 total time=  10.3s\n",
      "[CV 3/5] END ..............C=0.001, gamma=1e-05;, score=0.500 total time=  10.5s\n",
      "[CV 4/5] END ..............C=0.001, gamma=1e-05;, score=0.500 total time=  10.3s\n",
      "[CV 5/5] END ..............C=0.001, gamma=1e-05;, score=0.500 total time=  10.3s\n",
      "[CV 1/5] END .............C=0.001, gamma=0.0001;, score=0.500 total time=  14.8s\n",
      "[CV 2/5] END .............C=0.001, gamma=0.0001;, score=0.500 total time=  17.4s\n",
      "[CV 3/5] END .............C=0.001, gamma=0.0001;, score=0.500 total time=  18.3s\n",
      "[CV 5/5] END .............C=0.001, gamma=0.0001;, score=0.500 total time=  22.8s\n",
      "[CV 4/5] END .............C=0.001, gamma=0.0001;, score=0.500 total time=  23.0s\n",
      "[CV 1/5] END ..............C=0.001, gamma=0.001;, score=0.500 total time=  44.4s\n",
      "[CV 2/5] END ..............C=0.001, gamma=0.001;, score=0.500 total time=  42.4s\n",
      "[CV 3/5] END ..............C=0.001, gamma=0.001;, score=0.500 total time=  41.6s\n",
      "[CV 4/5] END ..............C=0.001, gamma=0.001;, score=0.500 total time=  37.9s\n",
      "[CV 5/5] END ..............C=0.001, gamma=0.001;, score=0.500 total time=  37.8s\n",
      "[CV 1/5] END ...............C=0.001, gamma=0.01;, score=0.500 total time=  15.9s\n",
      "[CV 2/5] END ...............C=0.001, gamma=0.01;, score=0.500 total time=  15.5s\n",
      "[CV 3/5] END ...............C=0.001, gamma=0.01;, score=0.500 total time=  15.4s\n",
      "[CV 4/5] END ...............C=0.001, gamma=0.01;, score=0.500 total time=  14.9s\n",
      "[CV 5/5] END ...............C=0.001, gamma=0.01;, score=0.500 total time=  15.1s\n",
      "[CV 1/5] END ................C=0.001, gamma=0.1;, score=0.500 total time=  13.3s\n",
      "[CV 2/5] END ................C=0.001, gamma=0.1;, score=0.500 total time=  13.2s\n",
      "[CV 3/5] END ................C=0.001, gamma=0.1;, score=0.500 total time=  13.1s\n",
      "[CV 4/5] END ................C=0.001, gamma=0.1;, score=0.500 total time=  13.1s\n",
      "[CV 5/5] END ................C=0.001, gamma=0.1;, score=0.500 total time=  12.9s\n",
      "[CV 1/5] END ................C=0.001, gamma=1.0;, score=0.500 total time=  11.9s\n",
      "[CV 2/5] END ................C=0.001, gamma=1.0;, score=0.500 total time=  11.8s\n",
      "[CV 3/5] END ................C=0.001, gamma=1.0;, score=0.500 total time=  11.9s\n",
      "[CV 5/5] END ................C=0.001, gamma=1.0;, score=0.500 total time=  11.6s\n",
      "[CV 4/5] END ................C=0.001, gamma=1.0;, score=0.500 total time=  11.8s\n",
      "[CV 1/5] END ...............C=0.001, gamma=10.0;, score=0.500 total time=  11.5s\n",
      "[CV 2/5] END ...............C=0.001, gamma=10.0;, score=0.500 total time=  11.4s\n",
      "[CV 3/5] END ...............C=0.001, gamma=10.0;, score=0.500 total time=  11.5s\n",
      "[CV 4/5] END ...............C=0.001, gamma=10.0;, score=0.500 total time=  11.3s\n",
      "[CV 5/5] END ...............C=0.001, gamma=10.0;, score=0.500 total time=  11.6s\n",
      "[CV 1/5] END ..............C=0.001, gamma=100.0;, score=0.500 total time=  10.3s\n",
      "[CV 2/5] END ..............C=0.001, gamma=100.0;, score=0.500 total time=  10.4s\n",
      "[CV 3/5] END ..............C=0.001, gamma=100.0;, score=0.500 total time=  10.3s\n",
      "[CV 4/5] END ..............C=0.001, gamma=100.0;, score=0.500 total time=  10.3s\n",
      "[CV 5/5] END ..............C=0.001, gamma=100.0;, score=0.500 total time=  10.3s\n",
      "[CV 1/5] END .............C=0.001, gamma=1000.0;, score=0.500 total time=   9.2s\n",
      "[CV 2/5] END .............C=0.001, gamma=1000.0;, score=0.500 total time=   9.2s\n",
      "[CV 3/5] END .............C=0.001, gamma=1000.0;, score=0.500 total time=   9.1s\n",
      "[CV 4/5] END .............C=0.001, gamma=1000.0;, score=0.500 total time=   9.3s\n",
      "[CV 5/5] END .............C=0.001, gamma=1000.0;, score=0.500 total time=   9.3s\n",
      "[CV 1/5] END ............C=0.001, gamma=10000.0;, score=0.500 total time=   9.4s\n",
      "[CV 2/5] END ............C=0.001, gamma=10000.0;, score=0.500 total time=   9.4s\n",
      "[CV 3/5] END ............C=0.001, gamma=10000.0;, score=0.500 total time=   9.4s\n",
      "[CV 4/5] END ............C=0.001, gamma=10000.0;, score=0.500 total time=   9.7s\n",
      "[CV 5/5] END ............C=0.001, gamma=10000.0;, score=0.500 total time=   9.9s\n",
      "[CV 1/5] END ...........C=0.001, gamma=100000.0;, score=0.500 total time=  25.4s\n",
      "[CV 2/5] END ...........C=0.001, gamma=100000.0;, score=0.500 total time=  27.6s\n",
      "[CV 3/5] END ...........C=0.001, gamma=100000.0;, score=0.500 total time=  27.8s\n",
      "[CV 4/5] END ...........C=0.001, gamma=100000.0;, score=0.500 total time=  34.5s\n",
      "[CV 5/5] END ...........C=0.001, gamma=100000.0;, score=0.500 total time=  36.1s\n",
      "[CV 1/5] END ..............C=0.001, gamma=scale;, score=0.500 total time=  33.6s\n",
      "[CV 3/5] END ..............C=0.001, gamma=scale;, score=0.500 total time=  31.4s\n",
      "[CV 2/5] END ..............C=0.001, gamma=scale;, score=0.500 total time=  31.8s\n",
      "[CV 4/5] END ..............C=0.001, gamma=scale;, score=0.500 total time=  25.6s\n",
      "[CV 5/5] END ..............C=0.001, gamma=scale;, score=0.500 total time=  24.2s\n",
      "[CV 1/5] END ...............C=0.001, gamma=auto;, score=0.500 total time=  14.6s\n",
      "[CV 2/5] END ...............C=0.001, gamma=auto;, score=0.500 total time=  14.3s\n",
      "[CV 3/5] END ...............C=0.001, gamma=auto;, score=0.500 total time=  14.5s\n",
      "[CV 4/5] END ...............C=0.001, gamma=auto;, score=0.500 total time=  14.1s\n",
      "[CV 5/5] END ...............C=0.001, gamma=auto;, score=0.500 total time=  13.9s\n",
      "[CV 1/5] END ...............C=0.01, gamma=1e-05;, score=0.500 total time=  12.8s\n",
      "[CV 2/5] END ...............C=0.01, gamma=1e-05;, score=0.500 total time=  12.7s\n",
      "[CV 3/5] END ...............C=0.01, gamma=1e-05;, score=0.500 total time=  12.7s\n",
      "[CV 4/5] END ...............C=0.01, gamma=1e-05;, score=0.500 total time=  12.4s\n",
      "[CV 5/5] END ...............C=0.01, gamma=1e-05;, score=0.500 total time=  12.4s\n",
      "[CV 1/5] END ..............C=0.01, gamma=0.0001;, score=0.500 total time=  11.8s\n",
      "[CV 2/5] END ..............C=0.01, gamma=0.0001;, score=0.500 total time=  11.9s\n",
      "[CV 3/5] END ..............C=0.01, gamma=0.0001;, score=0.500 total time=  11.7s\n",
      "[CV 4/5] END ..............C=0.01, gamma=0.0001;, score=0.500 total time=  11.6s\n",
      "[CV 5/5] END ..............C=0.01, gamma=0.0001;, score=0.500 total time=  11.6s\n",
      "[CV 1/5] END ...............C=0.01, gamma=0.001;, score=0.500 total time=  11.3s\n",
      "[CV 3/5] END ...............C=0.01, gamma=0.001;, score=0.500 total time=  11.2s\n",
      "[CV 2/5] END ...............C=0.01, gamma=0.001;, score=0.500 total time=  11.3s\n",
      "[CV 4/5] END ...............C=0.01, gamma=0.001;, score=0.500 total time=  11.0s\n",
      "[CV 5/5] END ...............C=0.01, gamma=0.001;, score=0.500 total time=  11.2s\n",
      "[CV 1/5] END ................C=0.01, gamma=0.01;, score=0.500 total time=  10.8s\n",
      "[CV 2/5] END ................C=0.01, gamma=0.01;, score=0.500 total time=  10.7s\n",
      "[CV 3/5] END ................C=0.01, gamma=0.01;, score=0.500 total time=  10.9s\n",
      "[CV 4/5] END ................C=0.01, gamma=0.01;, score=0.500 total time=  10.7s\n",
      "[CV 5/5] END ................C=0.01, gamma=0.01;, score=0.500 total time=  10.7s\n",
      "[CV 1/5] END .................C=0.01, gamma=0.1;, score=0.500 total time=  10.7s\n",
      "[CV 2/5] END .................C=0.01, gamma=0.1;, score=0.500 total time=  10.6s\n",
      "[CV 3/5] END .................C=0.01, gamma=0.1;, score=0.500 total time=  10.6s\n",
      "[CV 4/5] END .................C=0.01, gamma=0.1;, score=0.500 total time=  10.8s\n",
      "[CV 5/5] END .................C=0.01, gamma=0.1;, score=0.500 total time=  10.9s\n",
      "[CV 1/5] END .................C=0.01, gamma=1.0;, score=0.500 total time=  15.8s\n",
      "[CV 2/5] END .................C=0.01, gamma=1.0;, score=0.500 total time=  17.3s\n",
      "[CV 3/5] END .................C=0.01, gamma=1.0;, score=0.500 total time=  19.5s\n",
      "[CV 4/5] END .................C=0.01, gamma=1.0;, score=0.500 total time=  25.1s\n",
      "[CV 5/5] END .................C=0.01, gamma=1.0;, score=0.500 total time=  27.6s\n",
      "[CV 1/5] END ................C=0.01, gamma=10.0;, score=0.500 total time=  44.2s\n",
      "[CV 2/5] END ................C=0.01, gamma=10.0;, score=0.500 total time=  42.8s\n",
      "[CV 3/5] END ................C=0.01, gamma=10.0;, score=0.500 total time=  41.2s\n",
      "[CV 4/5] END ................C=0.01, gamma=10.0;, score=0.500 total time=  36.6s\n",
      "[CV 5/5] END ................C=0.01, gamma=10.0;, score=0.500 total time=  34.3s\n",
      "[CV 1/5] END ...............C=0.01, gamma=100.0;, score=0.500 total time=  14.8s\n",
      "[CV 2/5] END ...............C=0.01, gamma=100.0;, score=0.500 total time=  14.7s\n",
      "[CV 3/5] END ...............C=0.01, gamma=100.0;, score=0.500 total time=  14.5s\n",
      "[CV 4/5] END ...............C=0.01, gamma=100.0;, score=0.500 total time=  14.1s\n",
      "[CV 5/5] END ...............C=0.01, gamma=100.0;, score=0.500 total time=  13.8s\n",
      "[CV 1/5] END ..............C=0.01, gamma=1000.0;, score=0.500 total time=  11.7s\n",
      "[CV 2/5] END ..............C=0.01, gamma=1000.0;, score=0.500 total time=  11.8s\n",
      "[CV 3/5] END ..............C=0.01, gamma=1000.0;, score=0.500 total time=  11.7s\n",
      "[CV 4/5] END ..............C=0.01, gamma=1000.0;, score=0.500 total time=  11.4s\n",
      "[CV 5/5] END ..............C=0.01, gamma=1000.0;, score=0.500 total time=  11.4s\n",
      "[CV 1/5] END .............C=0.01, gamma=10000.0;, score=0.500 total time=  10.7s\n",
      "[CV 2/5] END .............C=0.01, gamma=10000.0;, score=0.500 total time=  10.7s\n",
      "[CV 3/5] END .............C=0.01, gamma=10000.0;, score=0.500 total time=  10.6s\n",
      "[CV 4/5] END .............C=0.01, gamma=10000.0;, score=0.500 total time=  10.6s\n",
      "[CV 5/5] END .............C=0.01, gamma=10000.0;, score=0.500 total time=  10.5s\n",
      "[CV 1/5] END ............C=0.01, gamma=100000.0;, score=0.500 total time=  10.2s\n",
      "[CV 2/5] END ............C=0.01, gamma=100000.0;, score=0.500 total time=  10.1s\n",
      "[CV 3/5] END ............C=0.01, gamma=100000.0;, score=0.500 total time=  10.1s\n",
      "[CV 4/5] END ............C=0.01, gamma=100000.0;, score=0.500 total time=   9.9s\n",
      "[CV 5/5] END ............C=0.01, gamma=100000.0;, score=0.500 total time=  10.0s\n",
      "[CV 1/5] END ...............C=0.01, gamma=scale;, score=0.500 total time=  11.3s\n",
      "[CV 2/5] END ...............C=0.01, gamma=scale;, score=0.500 total time=  11.2s\n",
      "[CV 3/5] END ...............C=0.01, gamma=scale;, score=0.500 total time=  11.3s\n",
      "[CV 4/5] END ...............C=0.01, gamma=scale;, score=0.500 total time=  11.2s\n",
      "[CV 5/5] END ...............C=0.01, gamma=scale;, score=0.500 total time=  11.2s\n",
      "[CV 1/5] END ................C=0.01, gamma=auto;, score=0.500 total time=  11.0s\n",
      "[CV 2/5] END ................C=0.01, gamma=auto;, score=0.500 total time=  10.9s\n",
      "[CV 3/5] END ................C=0.01, gamma=auto;, score=0.500 total time=  10.9s\n",
      "[CV 4/5] END ................C=0.01, gamma=auto;, score=0.500 total time=  11.0s\n",
      "[CV 5/5] END ................C=0.01, gamma=auto;, score=0.500 total time=  10.8s\n",
      "[CV 1/5] END ................C=0.1, gamma=1e-05;, score=0.500 total time=  10.8s\n",
      "[CV 2/5] END ................C=0.1, gamma=1e-05;, score=0.500 total time=  10.7s\n",
      "[CV 3/5] END ................C=0.1, gamma=1e-05;, score=0.500 total time=  10.8s\n",
      "[CV 4/5] END ................C=0.1, gamma=1e-05;, score=0.500 total time=  11.2s\n",
      "[CV 5/5] END ................C=0.1, gamma=1e-05;, score=0.500 total time=  10.9s\n",
      "[CV 1/5] END ...............C=0.1, gamma=0.0001;, score=0.500 total time=  44.8s\n",
      "[CV 2/5] END ...............C=0.1, gamma=0.0001;, score=0.500 total time=  47.0s\n",
      "[CV 3/5] END ...............C=0.1, gamma=0.0001;, score=0.500 total time=  49.3s\n",
      "[CV 4/5] END ...............C=0.1, gamma=0.0001;, score=0.500 total time=  55.9s\n",
      "[CV 5/5] END ...............C=0.1, gamma=0.0001;, score=0.500 total time=  56.3s\n",
      "[CV 1/5] END ................C=0.1, gamma=0.001;, score=0.499 total time=  34.6s\n",
      "[CV 2/5] END ................C=0.1, gamma=0.001;, score=0.486 total time=  33.6s\n",
      "[CV 3/5] END ................C=0.1, gamma=0.001;, score=0.501 total time=  31.6s\n",
      "[CV 5/5] END ................C=0.1, gamma=0.001;, score=0.491 total time=  24.9s\n",
      "[CV 4/5] END ................C=0.1, gamma=0.001;, score=0.514 total time=  25.7s\n",
      "[CV 1/5] END .................C=0.1, gamma=0.01;, score=0.477 total time=  16.7s\n",
      "[CV 2/5] END .................C=0.1, gamma=0.01;, score=0.493 total time=  15.8s\n",
      "[CV 3/5] END .................C=0.1, gamma=0.01;, score=0.492 total time=  15.5s\n",
      "[CV 4/5] END .................C=0.1, gamma=0.01;, score=0.486 total time=  14.2s\n",
      "[CV 5/5] END .................C=0.1, gamma=0.01;, score=0.487 total time=  14.2s\n",
      "[CV 1/5] END ..................C=0.1, gamma=0.1;, score=0.669 total time=  11.4s\n",
      "[CV 2/5] END ..................C=0.1, gamma=0.1;, score=0.651 total time=  11.4s\n",
      "[CV 3/5] END ..................C=0.1, gamma=0.1;, score=0.688 total time=  11.4s\n",
      "[CV 4/5] END ..................C=0.1, gamma=0.1;, score=0.678 total time=  11.4s\n",
      "[CV 5/5] END ..................C=0.1, gamma=0.1;, score=0.655 total time=  11.5s\n",
      "[CV 1/5] END ..................C=0.1, gamma=1.0;, score=1.000 total time=  10.6s\n",
      "[CV 2/5] END ..................C=0.1, gamma=1.0;, score=1.000 total time=  10.6s\n",
      "[CV 3/5] END ..................C=0.1, gamma=1.0;, score=0.999 total time=  10.6s\n",
      "[CV 4/5] END ..................C=0.1, gamma=1.0;, score=1.000 total time=  10.5s\n",
      "[CV 5/5] END ..................C=0.1, gamma=1.0;, score=1.000 total time=  10.4s\n",
      "[CV 1/5] END .................C=0.1, gamma=10.0;, score=0.736 total time=  11.4s\n",
      "[CV 2/5] END .................C=0.1, gamma=10.0;, score=0.718 total time=  11.7s\n",
      "[CV 3/5] END .................C=0.1, gamma=10.0;, score=0.837 total time=  12.3s\n",
      "[CV 4/5] END .................C=0.1, gamma=10.0;, score=0.744 total time=  12.3s\n",
      "[CV 5/5] END .................C=0.1, gamma=10.0;, score=0.682 total time=  12.2s\n",
      "[CV 1/5] END ................C=0.1, gamma=100.0;, score=0.500 total time=  29.0s\n",
      "[CV 2/5] END ................C=0.1, gamma=100.0;, score=0.500 total time=  30.7s\n",
      "[CV 3/5] END ................C=0.1, gamma=100.0;, score=0.500 total time=  35.3s\n",
      "[CV 5/5] END ................C=0.1, gamma=100.0;, score=0.500 total time=  39.0s\n",
      "[CV 4/5] END ................C=0.1, gamma=100.0;, score=0.500 total time=  39.6s\n",
      "[CV 1/5] END ...............C=0.1, gamma=1000.0;, score=0.500 total time=  37.1s\n",
      "[CV 2/5] END ...............C=0.1, gamma=1000.0;, score=0.500 total time=  35.2s\n",
      "[CV 3/5] END ...............C=0.1, gamma=1000.0;, score=0.500 total time=  31.2s\n",
      "[CV 4/5] END ...............C=0.1, gamma=1000.0;, score=0.500 total time=  27.7s\n",
      "[CV 5/5] END ...............C=0.1, gamma=1000.0;, score=0.500 total time=  27.7s\n",
      "[CV 1/5] END ..............C=0.1, gamma=10000.0;, score=0.500 total time=  13.5s\n",
      "[CV 2/5] END ..............C=0.1, gamma=10000.0;, score=0.500 total time=  13.5s\n",
      "[CV 3/5] END ..............C=0.1, gamma=10000.0;, score=0.500 total time=  13.5s\n",
      "[CV 4/5] END ..............C=0.1, gamma=10000.0;, score=0.500 total time=  13.1s\n",
      "[CV 5/5] END ..............C=0.1, gamma=10000.0;, score=0.500 total time=  13.1s\n",
      "[CV 1/5] END .............C=0.1, gamma=100000.0;, score=0.500 total time=  12.0s\n",
      "[CV 2/5] END .............C=0.1, gamma=100000.0;, score=0.500 total time=  11.7s\n",
      "[CV 3/5] END .............C=0.1, gamma=100000.0;, score=0.500 total time=  11.3s\n",
      "[CV 4/5] END .............C=0.1, gamma=100000.0;, score=0.500 total time=  11.3s\n",
      "[CV 5/5] END .............C=0.1, gamma=100000.0;, score=0.500 total time=  11.7s\n",
      "[CV 1/5] END ................C=0.1, gamma=scale;, score=0.479 total time=  11.9s\n",
      "[CV 2/5] END ................C=0.1, gamma=scale;, score=0.497 total time=  11.8s\n",
      "[CV 3/5] END ................C=0.1, gamma=scale;, score=0.493 total time=  11.8s\n",
      "[CV 4/5] END ................C=0.1, gamma=scale;, score=0.496 total time=  11.7s\n",
      "[CV 5/5] END ................C=0.1, gamma=scale;, score=0.486 total time=  11.8s\n",
      "[CV 1/5] END .................C=0.1, gamma=auto;, score=0.821 total time=  11.4s\n",
      "[CV 2/5] END .................C=0.1, gamma=auto;, score=0.808 total time=  11.3s\n",
      "[CV 3/5] END .................C=0.1, gamma=auto;, score=0.833 total time=  11.5s\n",
      "[CV 4/5] END .................C=0.1, gamma=auto;, score=0.832 total time=  11.4s\n",
      "[CV 5/5] END .................C=0.1, gamma=auto;, score=0.820 total time=  11.3s\n",
      "[CV 1/5] END ................C=1.0, gamma=1e-05;, score=0.500 total time=  11.0s\n",
      "[CV 2/5] END ................C=1.0, gamma=1e-05;, score=0.500 total time=  11.1s\n",
      "[CV 3/5] END ................C=1.0, gamma=1e-05;, score=0.500 total time=  11.0s\n",
      "[CV 4/5] END ................C=1.0, gamma=1e-05;, score=0.500 total time=  10.9s\n",
      "[CV 5/5] END ................C=1.0, gamma=1e-05;, score=0.500 total time=  10.9s\n",
      "[CV 1/5] END ...............C=1.0, gamma=0.0001;, score=0.493 total time=  11.3s\n",
      "[CV 2/5] END ...............C=1.0, gamma=0.0001;, score=0.488 total time=  11.4s\n",
      "[CV 3/5] END ...............C=1.0, gamma=0.0001;, score=0.496 total time=  11.4s\n",
      "[CV 4/5] END ...............C=1.0, gamma=0.0001;, score=0.499 total time=  11.2s\n",
      "[CV 5/5] END ...............C=1.0, gamma=0.0001;, score=0.513 total time=  11.4s\n",
      "[CV 1/5] END ................C=1.0, gamma=0.001;, score=0.534 total time=  28.1s\n",
      "[CV 2/5] END ................C=1.0, gamma=0.001;, score=0.516 total time=  28.9s\n",
      "[CV 3/5] END ................C=1.0, gamma=0.001;, score=0.531 total time=  35.2s\n",
      "[CV 4/5] END ................C=1.0, gamma=0.001;, score=0.570 total time=  37.9s\n",
      "[CV 5/5] END ................C=1.0, gamma=0.001;, score=0.539 total time=  40.1s\n"
     ]
    },
    {
     "name": "stderr",
     "output_type": "stream",
     "text": [
      "/home/balakrishnan/.local/lib/python3.10/site-packages/sklearn/svm/_base.py:299: ConvergenceWarning: Solver terminated early (max_iter=10000).  Consider pre-processing your data with StandardScaler or MinMaxScaler.\n",
      "  warnings.warn(\n",
      "/home/balakrishnan/.local/lib/python3.10/site-packages/sklearn/svm/_base.py:299: ConvergenceWarning: Solver terminated early (max_iter=10000).  Consider pre-processing your data with StandardScaler or MinMaxScaler.\n",
      "  warnings.warn(\n",
      "/home/balakrishnan/.local/lib/python3.10/site-packages/sklearn/svm/_base.py:299: ConvergenceWarning: Solver terminated early (max_iter=10000).  Consider pre-processing your data with StandardScaler or MinMaxScaler.\n",
      "  warnings.warn(\n"
     ]
    },
    {
     "name": "stdout",
     "output_type": "stream",
     "text": [
      "[CV 1/5] END .................C=1.0, gamma=0.01;, score=0.562 total time=  34.5s\n"
     ]
    },
    {
     "name": "stderr",
     "output_type": "stream",
     "text": [
      "/home/balakrishnan/.local/lib/python3.10/site-packages/sklearn/svm/_base.py:299: ConvergenceWarning: Solver terminated early (max_iter=10000).  Consider pre-processing your data with StandardScaler or MinMaxScaler.\n",
      "  warnings.warn(\n"
     ]
    },
    {
     "name": "stdout",
     "output_type": "stream",
     "text": [
      "[CV 2/5] END .................C=1.0, gamma=0.01;, score=0.580 total time=  33.7s\n"
     ]
    },
    {
     "name": "stderr",
     "output_type": "stream",
     "text": [
      "/home/balakrishnan/.local/lib/python3.10/site-packages/sklearn/svm/_base.py:299: ConvergenceWarning: Solver terminated early (max_iter=10000).  Consider pre-processing your data with StandardScaler or MinMaxScaler.\n",
      "  warnings.warn(\n"
     ]
    },
    {
     "name": "stdout",
     "output_type": "stream",
     "text": [
      "[CV 3/5] END .................C=1.0, gamma=0.01;, score=0.572 total time=  28.4s\n",
      "[CV 4/5] END .................C=1.0, gamma=0.01;, score=0.590 total time=  25.9s\n",
      "[CV 5/5] END .................C=1.0, gamma=0.01;, score=0.565 total time=  23.9s\n"
     ]
    },
    {
     "name": "stderr",
     "output_type": "stream",
     "text": [
      "/home/balakrishnan/.local/lib/python3.10/site-packages/sklearn/svm/_base.py:299: ConvergenceWarning: Solver terminated early (max_iter=10000).  Consider pre-processing your data with StandardScaler or MinMaxScaler.\n",
      "  warnings.warn(\n",
      "/home/balakrishnan/.local/lib/python3.10/site-packages/sklearn/svm/_base.py:299: ConvergenceWarning: Solver terminated early (max_iter=10000).  Consider pre-processing your data with StandardScaler or MinMaxScaler.\n",
      "  warnings.warn(\n"
     ]
    },
    {
     "name": "stdout",
     "output_type": "stream",
     "text": [
      "[CV 1/5] END ..................C=1.0, gamma=0.1;, score=1.000 total time=  11.2s\n",
      "[CV 2/5] END ..................C=1.0, gamma=0.1;, score=1.000 total time=  11.2s\n"
     ]
    },
    {
     "name": "stderr",
     "output_type": "stream",
     "text": [
      "/home/balakrishnan/.local/lib/python3.10/site-packages/sklearn/svm/_base.py:299: ConvergenceWarning: Solver terminated early (max_iter=10000).  Consider pre-processing your data with StandardScaler or MinMaxScaler.\n",
      "  warnings.warn(\n",
      "/home/balakrishnan/.local/lib/python3.10/site-packages/sklearn/svm/_base.py:299: ConvergenceWarning: Solver terminated early (max_iter=10000).  Consider pre-processing your data with StandardScaler or MinMaxScaler.\n",
      "  warnings.warn(\n",
      "/home/balakrishnan/.local/lib/python3.10/site-packages/sklearn/svm/_base.py:299: ConvergenceWarning: Solver terminated early (max_iter=10000).  Consider pre-processing your data with StandardScaler or MinMaxScaler.\n",
      "  warnings.warn(\n"
     ]
    },
    {
     "name": "stdout",
     "output_type": "stream",
     "text": [
      "[CV 3/5] END ..................C=1.0, gamma=0.1;, score=1.000 total time=  10.8s\n",
      "[CV 4/5] END ..................C=1.0, gamma=0.1;, score=1.000 total time=  10.6s\n",
      "[CV 5/5] END ..................C=1.0, gamma=0.1;, score=1.000 total time=  10.4s\n"
     ]
    },
    {
     "name": "stderr",
     "output_type": "stream",
     "text": [
      "/home/balakrishnan/.local/lib/python3.10/site-packages/sklearn/svm/_base.py:299: ConvergenceWarning: Solver terminated early (max_iter=10000).  Consider pre-processing your data with StandardScaler or MinMaxScaler.\n",
      "  warnings.warn(\n",
      "/home/balakrishnan/.local/lib/python3.10/site-packages/sklearn/svm/_base.py:299: ConvergenceWarning: Solver terminated early (max_iter=10000).  Consider pre-processing your data with StandardScaler or MinMaxScaler.\n",
      "  warnings.warn(\n"
     ]
    },
    {
     "name": "stdout",
     "output_type": "stream",
     "text": [
      "[CV 1/5] END ..................C=1.0, gamma=1.0;, score=1.000 total time=  11.7s\n",
      "[CV 2/5] END ..................C=1.0, gamma=1.0;, score=1.000 total time=  11.6s\n"
     ]
    },
    {
     "name": "stderr",
     "output_type": "stream",
     "text": [
      "/home/balakrishnan/.local/lib/python3.10/site-packages/sklearn/svm/_base.py:299: ConvergenceWarning: Solver terminated early (max_iter=10000).  Consider pre-processing your data with StandardScaler or MinMaxScaler.\n",
      "  warnings.warn(\n",
      "/home/balakrishnan/.local/lib/python3.10/site-packages/sklearn/svm/_base.py:299: ConvergenceWarning: Solver terminated early (max_iter=10000).  Consider pre-processing your data with StandardScaler or MinMaxScaler.\n",
      "  warnings.warn(\n",
      "/home/balakrishnan/.local/lib/python3.10/site-packages/sklearn/svm/_base.py:299: ConvergenceWarning: Solver terminated early (max_iter=10000).  Consider pre-processing your data with StandardScaler or MinMaxScaler.\n",
      "  warnings.warn(\n"
     ]
    },
    {
     "name": "stdout",
     "output_type": "stream",
     "text": [
      "[CV 3/5] END ..................C=1.0, gamma=1.0;, score=1.000 total time=  11.4s\n",
      "[CV 4/5] END ..................C=1.0, gamma=1.0;, score=1.000 total time=  11.3s\n",
      "[CV 5/5] END ..................C=1.0, gamma=1.0;, score=1.000 total time=  11.4s\n"
     ]
    },
    {
     "name": "stderr",
     "output_type": "stream",
     "text": [
      "/home/balakrishnan/.local/lib/python3.10/site-packages/sklearn/svm/_base.py:299: ConvergenceWarning: Solver terminated early (max_iter=10000).  Consider pre-processing your data with StandardScaler or MinMaxScaler.\n",
      "  warnings.warn(\n",
      "/home/balakrishnan/.local/lib/python3.10/site-packages/sklearn/svm/_base.py:299: ConvergenceWarning: Solver terminated early (max_iter=10000).  Consider pre-processing your data with StandardScaler or MinMaxScaler.\n",
      "  warnings.warn(\n",
      "/home/balakrishnan/.local/lib/python3.10/site-packages/sklearn/svm/_base.py:299: ConvergenceWarning: Solver terminated early (max_iter=10000).  Consider pre-processing your data with StandardScaler or MinMaxScaler.\n",
      "  warnings.warn(\n"
     ]
    },
    {
     "name": "stdout",
     "output_type": "stream",
     "text": [
      "[CV 1/5] END .................C=1.0, gamma=10.0;, score=0.833 total time=  13.2s\n"
     ]
    },
    {
     "name": "stderr",
     "output_type": "stream",
     "text": [
      "/home/balakrishnan/.local/lib/python3.10/site-packages/sklearn/svm/_base.py:299: ConvergenceWarning: Solver terminated early (max_iter=10000).  Consider pre-processing your data with StandardScaler or MinMaxScaler.\n",
      "  warnings.warn(\n"
     ]
    },
    {
     "name": "stdout",
     "output_type": "stream",
     "text": [
      "[CV 2/5] END .................C=1.0, gamma=10.0;, score=0.828 total time=  13.3s\n"
     ]
    },
    {
     "name": "stderr",
     "output_type": "stream",
     "text": [
      "/home/balakrishnan/.local/lib/python3.10/site-packages/sklearn/svm/_base.py:299: ConvergenceWarning: Solver terminated early (max_iter=10000).  Consider pre-processing your data with StandardScaler or MinMaxScaler.\n",
      "  warnings.warn(\n"
     ]
    },
    {
     "name": "stdout",
     "output_type": "stream",
     "text": [
      "[CV 3/5] END .................C=1.0, gamma=10.0;, score=0.845 total time=  13.0s\n",
      "[CV 4/5] END .................C=1.0, gamma=10.0;, score=0.829 total time=  13.0s\n",
      "[CV 5/5] END .................C=1.0, gamma=10.0;, score=0.838 total time=  13.1s\n"
     ]
    },
    {
     "name": "stderr",
     "output_type": "stream",
     "text": [
      "/home/balakrishnan/.local/lib/python3.10/site-packages/sklearn/svm/_base.py:299: ConvergenceWarning: Solver terminated early (max_iter=10000).  Consider pre-processing your data with StandardScaler or MinMaxScaler.\n",
      "  warnings.warn(\n",
      "/home/balakrishnan/.local/lib/python3.10/site-packages/sklearn/svm/_base.py:299: ConvergenceWarning: Solver terminated early (max_iter=10000).  Consider pre-processing your data with StandardScaler or MinMaxScaler.\n",
      "  warnings.warn(\n",
      "/home/balakrishnan/.local/lib/python3.10/site-packages/sklearn/svm/_base.py:299: ConvergenceWarning: Solver terminated early (max_iter=10000).  Consider pre-processing your data with StandardScaler or MinMaxScaler.\n",
      "  warnings.warn(\n",
      "/home/balakrishnan/.local/lib/python3.10/site-packages/sklearn/svm/_base.py:299: ConvergenceWarning: Solver terminated early (max_iter=10000).  Consider pre-processing your data with StandardScaler or MinMaxScaler.\n",
      "  warnings.warn(\n"
     ]
    },
    {
     "name": "stdout",
     "output_type": "stream",
     "text": [
      "[CV 1/5] END ................C=1.0, gamma=100.0;, score=0.613 total time=  11.9s\n",
      "[CV 2/5] END ................C=1.0, gamma=100.0;, score=0.615 total time=  11.6s\n"
     ]
    },
    {
     "name": "stderr",
     "output_type": "stream",
     "text": [
      "/home/balakrishnan/.local/lib/python3.10/site-packages/sklearn/svm/_base.py:299: ConvergenceWarning: Solver terminated early (max_iter=10000).  Consider pre-processing your data with StandardScaler or MinMaxScaler.\n",
      "  warnings.warn(\n"
     ]
    },
    {
     "name": "stdout",
     "output_type": "stream",
     "text": [
      "[CV 3/5] END ................C=1.0, gamma=100.0;, score=0.614 total time=  11.6s\n",
      "[CV 4/5] END ................C=1.0, gamma=100.0;, score=0.609 total time=  11.5s\n",
      "[CV 5/5] END ................C=1.0, gamma=100.0;, score=0.609 total time=  11.6s\n"
     ]
    },
    {
     "name": "stderr",
     "output_type": "stream",
     "text": [
      "/home/balakrishnan/.local/lib/python3.10/site-packages/sklearn/svm/_base.py:299: ConvergenceWarning: Solver terminated early (max_iter=10000).  Consider pre-processing your data with StandardScaler or MinMaxScaler.\n",
      "  warnings.warn(\n",
      "/home/balakrishnan/.local/lib/python3.10/site-packages/sklearn/svm/_base.py:299: ConvergenceWarning: Solver terminated early (max_iter=10000).  Consider pre-processing your data with StandardScaler or MinMaxScaler.\n",
      "  warnings.warn(\n",
      "/home/balakrishnan/.local/lib/python3.10/site-packages/sklearn/svm/_base.py:299: ConvergenceWarning: Solver terminated early (max_iter=10000).  Consider pre-processing your data with StandardScaler or MinMaxScaler.\n",
      "  warnings.warn(\n",
      "/home/balakrishnan/.local/lib/python3.10/site-packages/sklearn/svm/_base.py:299: ConvergenceWarning: Solver terminated early (max_iter=10000).  Consider pre-processing your data with StandardScaler or MinMaxScaler.\n",
      "  warnings.warn(\n"
     ]
    },
    {
     "name": "stdout",
     "output_type": "stream",
     "text": [
      "[CV 2/5] END ...............C=1.0, gamma=1000.0;, score=0.526 total time=  10.8s\n",
      "[CV 1/5] END ...............C=1.0, gamma=1000.0;, score=0.525 total time=  10.9s\n"
     ]
    },
    {
     "name": "stderr",
     "output_type": "stream",
     "text": [
      "/home/balakrishnan/.local/lib/python3.10/site-packages/sklearn/svm/_base.py:299: ConvergenceWarning: Solver terminated early (max_iter=10000).  Consider pre-processing your data with StandardScaler or MinMaxScaler.\n",
      "  warnings.warn(\n"
     ]
    },
    {
     "name": "stdout",
     "output_type": "stream",
     "text": [
      "[CV 3/5] END ...............C=1.0, gamma=1000.0;, score=0.523 total time=  10.7s\n",
      "[CV 4/5] END ...............C=1.0, gamma=1000.0;, score=0.521 total time=  10.6s\n",
      "[CV 5/5] END ...............C=1.0, gamma=1000.0;, score=0.522 total time=  10.7s\n"
     ]
    },
    {
     "name": "stderr",
     "output_type": "stream",
     "text": [
      "/home/balakrishnan/.local/lib/python3.10/site-packages/sklearn/svm/_base.py:299: ConvergenceWarning: Solver terminated early (max_iter=10000).  Consider pre-processing your data with StandardScaler or MinMaxScaler.\n",
      "  warnings.warn(\n",
      "/home/balakrishnan/.local/lib/python3.10/site-packages/sklearn/svm/_base.py:299: ConvergenceWarning: Solver terminated early (max_iter=10000).  Consider pre-processing your data with StandardScaler or MinMaxScaler.\n",
      "  warnings.warn(\n",
      "/home/balakrishnan/.local/lib/python3.10/site-packages/sklearn/svm/_base.py:299: ConvergenceWarning: Solver terminated early (max_iter=10000).  Consider pre-processing your data with StandardScaler or MinMaxScaler.\n",
      "  warnings.warn(\n"
     ]
    },
    {
     "name": "stdout",
     "output_type": "stream",
     "text": [
      "[CV 2/5] END ..............C=1.0, gamma=10000.0;, score=0.502 total time=  10.0s\n",
      "[CV 1/5] END ..............C=1.0, gamma=10000.0;, score=0.504 total time=  10.3s\n"
     ]
    },
    {
     "name": "stderr",
     "output_type": "stream",
     "text": [
      "/home/balakrishnan/.local/lib/python3.10/site-packages/sklearn/svm/_base.py:299: ConvergenceWarning: Solver terminated early (max_iter=10000).  Consider pre-processing your data with StandardScaler or MinMaxScaler.\n",
      "  warnings.warn(\n"
     ]
    },
    {
     "name": "stdout",
     "output_type": "stream",
     "text": [
      "[CV 3/5] END ..............C=1.0, gamma=10000.0;, score=0.506 total time=  10.4s\n",
      "[CV 4/5] END ..............C=1.0, gamma=10000.0;, score=0.505 total time=  10.4s\n",
      "[CV 5/5] END ..............C=1.0, gamma=10000.0;, score=0.501 total time=  10.4s\n"
     ]
    },
    {
     "name": "stderr",
     "output_type": "stream",
     "text": [
      "/home/balakrishnan/.local/lib/python3.10/site-packages/sklearn/svm/_base.py:299: ConvergenceWarning: Solver terminated early (max_iter=10000).  Consider pre-processing your data with StandardScaler or MinMaxScaler.\n",
      "  warnings.warn(\n",
      "/home/balakrishnan/.local/lib/python3.10/site-packages/sklearn/svm/_base.py:299: ConvergenceWarning: Solver terminated early (max_iter=10000).  Consider pre-processing your data with StandardScaler or MinMaxScaler.\n",
      "  warnings.warn(\n",
      "/home/balakrishnan/.local/lib/python3.10/site-packages/sklearn/svm/_base.py:299: ConvergenceWarning: Solver terminated early (max_iter=10000).  Consider pre-processing your data with StandardScaler or MinMaxScaler.\n",
      "  warnings.warn(\n",
      "/home/balakrishnan/.local/lib/python3.10/site-packages/sklearn/svm/_base.py:299: ConvergenceWarning: Solver terminated early (max_iter=10000).  Consider pre-processing your data with StandardScaler or MinMaxScaler.\n",
      "  warnings.warn(\n"
     ]
    },
    {
     "name": "stdout",
     "output_type": "stream",
     "text": [
      "[CV 1/5] END .............C=1.0, gamma=100000.0;, score=0.500 total time=  12.2s\n",
      "[CV 2/5] END .............C=1.0, gamma=100000.0;, score=0.500 total time=  13.6s\n"
     ]
    },
    {
     "name": "stderr",
     "output_type": "stream",
     "text": [
      "/home/balakrishnan/.local/lib/python3.10/site-packages/sklearn/svm/_base.py:299: ConvergenceWarning: Solver terminated early (max_iter=10000).  Consider pre-processing your data with StandardScaler or MinMaxScaler.\n",
      "  warnings.warn(\n"
     ]
    },
    {
     "name": "stdout",
     "output_type": "stream",
     "text": [
      "[CV 3/5] END .............C=1.0, gamma=100000.0;, score=0.500 total time=  20.1s\n",
      "[CV 4/5] END .............C=1.0, gamma=100000.0;, score=0.500 total time=  20.8s\n",
      "[CV 5/5] END .............C=1.0, gamma=100000.0;, score=0.500 total time=  25.3s\n"
     ]
    },
    {
     "name": "stderr",
     "output_type": "stream",
     "text": [
      "/home/balakrishnan/.local/lib/python3.10/site-packages/sklearn/svm/_base.py:299: ConvergenceWarning: Solver terminated early (max_iter=10000).  Consider pre-processing your data with StandardScaler or MinMaxScaler.\n",
      "  warnings.warn(\n",
      "/home/balakrishnan/.local/lib/python3.10/site-packages/sklearn/svm/_base.py:299: ConvergenceWarning: Solver terminated early (max_iter=10000).  Consider pre-processing your data with StandardScaler or MinMaxScaler.\n",
      "  warnings.warn(\n",
      "/home/balakrishnan/.local/lib/python3.10/site-packages/sklearn/svm/_base.py:299: ConvergenceWarning: Solver terminated early (max_iter=10000).  Consider pre-processing your data with StandardScaler or MinMaxScaler.\n",
      "  warnings.warn(\n"
     ]
    },
    {
     "name": "stdout",
     "output_type": "stream",
     "text": [
      "[CV 1/5] END ................C=1.0, gamma=scale;, score=0.565 total time=  48.4s\n"
     ]
    },
    {
     "name": "stderr",
     "output_type": "stream",
     "text": [
      "/home/balakrishnan/.local/lib/python3.10/site-packages/sklearn/svm/_base.py:299: ConvergenceWarning: Solver terminated early (max_iter=10000).  Consider pre-processing your data with StandardScaler or MinMaxScaler.\n",
      "  warnings.warn(\n"
     ]
    },
    {
     "name": "stdout",
     "output_type": "stream",
     "text": [
      "[CV 2/5] END ................C=1.0, gamma=scale;, score=0.587 total time=  47.6s\n"
     ]
    },
    {
     "name": "stderr",
     "output_type": "stream",
     "text": [
      "/home/balakrishnan/.local/lib/python3.10/site-packages/sklearn/svm/_base.py:299: ConvergenceWarning: Solver terminated early (max_iter=10000).  Consider pre-processing your data with StandardScaler or MinMaxScaler.\n",
      "  warnings.warn(\n"
     ]
    },
    {
     "name": "stdout",
     "output_type": "stream",
     "text": [
      "[CV 3/5] END ................C=1.0, gamma=scale;, score=0.574 total time=  42.2s\n",
      "[CV 4/5] END ................C=1.0, gamma=scale;, score=0.585 total time=  41.3s\n",
      "[CV 5/5] END ................C=1.0, gamma=scale;, score=0.578 total time=  37.7s\n"
     ]
    },
    {
     "name": "stderr",
     "output_type": "stream",
     "text": [
      "/home/balakrishnan/.local/lib/python3.10/site-packages/sklearn/svm/_base.py:299: ConvergenceWarning: Solver terminated early (max_iter=10000).  Consider pre-processing your data with StandardScaler or MinMaxScaler.\n",
      "  warnings.warn(\n",
      "/home/balakrishnan/.local/lib/python3.10/site-packages/sklearn/svm/_base.py:299: ConvergenceWarning: Solver terminated early (max_iter=10000).  Consider pre-processing your data with StandardScaler or MinMaxScaler.\n",
      "  warnings.warn(\n"
     ]
    },
    {
     "name": "stdout",
     "output_type": "stream",
     "text": [
      "[CV 1/5] END .................C=1.0, gamma=auto;, score=1.000 total time=  11.2s\n",
      "[CV 2/5] END .................C=1.0, gamma=auto;, score=1.000 total time=  10.7s\n"
     ]
    },
    {
     "name": "stderr",
     "output_type": "stream",
     "text": [
      "/home/balakrishnan/.local/lib/python3.10/site-packages/sklearn/svm/_base.py:299: ConvergenceWarning: Solver terminated early (max_iter=10000).  Consider pre-processing your data with StandardScaler or MinMaxScaler.\n",
      "  warnings.warn(\n",
      "/home/balakrishnan/.local/lib/python3.10/site-packages/sklearn/svm/_base.py:299: ConvergenceWarning: Solver terminated early (max_iter=10000).  Consider pre-processing your data with StandardScaler or MinMaxScaler.\n",
      "  warnings.warn(\n"
     ]
    },
    {
     "name": "stdout",
     "output_type": "stream",
     "text": [
      "[CV 3/5] END .................C=1.0, gamma=auto;, score=1.000 total time=  10.4s\n",
      "[CV 4/5] END .................C=1.0, gamma=auto;, score=1.000 total time=  10.4s\n"
     ]
    },
    {
     "name": "stderr",
     "output_type": "stream",
     "text": [
      "/home/balakrishnan/.local/lib/python3.10/site-packages/sklearn/svm/_base.py:299: ConvergenceWarning: Solver terminated early (max_iter=10000).  Consider pre-processing your data with StandardScaler or MinMaxScaler.\n",
      "  warnings.warn(\n"
     ]
    },
    {
     "name": "stdout",
     "output_type": "stream",
     "text": [
      "[CV 5/5] END .................C=1.0, gamma=auto;, score=1.000 total time=  10.2s\n",
      "[CV 1/5] END ...............C=10.0, gamma=1e-05;, score=0.493 total time=  14.0s\n",
      "[CV 2/5] END ...............C=10.0, gamma=1e-05;, score=0.487 total time=  14.0s\n",
      "[CV 4/5] END ...............C=10.0, gamma=1e-05;, score=0.498 total time=  13.4s\n",
      "[CV 3/5] END ...............C=10.0, gamma=1e-05;, score=0.497 total time=  13.7s\n",
      "[CV 5/5] END ...............C=10.0, gamma=1e-05;, score=0.504 total time=  13.4s\n",
      "[CV 1/5] END ..............C=10.0, gamma=0.0001;, score=0.492 total time=  12.5s\n",
      "[CV 2/5] END ..............C=10.0, gamma=0.0001;, score=0.491 total time=  12.2s\n",
      "[CV 3/5] END ..............C=10.0, gamma=0.0001;, score=0.476 total time=  12.1s\n",
      "[CV 4/5] END ..............C=10.0, gamma=0.0001;, score=0.473 total time=  12.1s\n",
      "[CV 5/5] END ..............C=10.0, gamma=0.0001;, score=0.490 total time=  12.0s\n"
     ]
    },
    {
     "name": "stderr",
     "output_type": "stream",
     "text": [
      "/home/balakrishnan/.local/lib/python3.10/site-packages/sklearn/svm/_base.py:299: ConvergenceWarning: Solver terminated early (max_iter=10000).  Consider pre-processing your data with StandardScaler or MinMaxScaler.\n",
      "  warnings.warn(\n",
      "/home/balakrishnan/.local/lib/python3.10/site-packages/sklearn/svm/_base.py:299: ConvergenceWarning: Solver terminated early (max_iter=10000).  Consider pre-processing your data with StandardScaler or MinMaxScaler.\n",
      "  warnings.warn(\n",
      "/home/balakrishnan/.local/lib/python3.10/site-packages/sklearn/svm/_base.py:299: ConvergenceWarning: Solver terminated early (max_iter=10000).  Consider pre-processing your data with StandardScaler or MinMaxScaler.\n",
      "  warnings.warn(\n",
      "/home/balakrishnan/.local/lib/python3.10/site-packages/sklearn/svm/_base.py:299: ConvergenceWarning: Solver terminated early (max_iter=10000).  Consider pre-processing your data with StandardScaler or MinMaxScaler.\n",
      "  warnings.warn(\n"
     ]
    },
    {
     "name": "stdout",
     "output_type": "stream",
     "text": [
      "[CV 1/5] END ...............C=10.0, gamma=0.001;, score=0.564 total time=  11.3s\n",
      "[CV 2/5] END ...............C=10.0, gamma=0.001;, score=0.592 total time=  11.2s\n"
     ]
    },
    {
     "name": "stderr",
     "output_type": "stream",
     "text": [
      "/home/balakrishnan/.local/lib/python3.10/site-packages/sklearn/svm/_base.py:299: ConvergenceWarning: Solver terminated early (max_iter=10000).  Consider pre-processing your data with StandardScaler or MinMaxScaler.\n",
      "  warnings.warn(\n"
     ]
    },
    {
     "name": "stdout",
     "output_type": "stream",
     "text": [
      "[CV 3/5] END ...............C=10.0, gamma=0.001;, score=0.576 total time=  11.2s\n",
      "[CV 4/5] END ...............C=10.0, gamma=0.001;, score=0.570 total time=  11.2s\n",
      "[CV 5/5] END ...............C=10.0, gamma=0.001;, score=0.572 total time=  11.2s\n"
     ]
    },
    {
     "name": "stderr",
     "output_type": "stream",
     "text": [
      "/home/balakrishnan/.local/lib/python3.10/site-packages/sklearn/svm/_base.py:299: ConvergenceWarning: Solver terminated early (max_iter=10000).  Consider pre-processing your data with StandardScaler or MinMaxScaler.\n",
      "  warnings.warn(\n",
      "/home/balakrishnan/.local/lib/python3.10/site-packages/sklearn/svm/_base.py:299: ConvergenceWarning: Solver terminated early (max_iter=10000).  Consider pre-processing your data with StandardScaler or MinMaxScaler.\n",
      "  warnings.warn(\n"
     ]
    },
    {
     "name": "stdout",
     "output_type": "stream",
     "text": [
      "[CV 1/5] END ................C=10.0, gamma=0.01;, score=0.834 total time=  10.5s\n",
      "[CV 2/5] END ................C=10.0, gamma=0.01;, score=0.833 total time=  10.3s\n"
     ]
    },
    {
     "name": "stderr",
     "output_type": "stream",
     "text": [
      "/home/balakrishnan/.local/lib/python3.10/site-packages/sklearn/svm/_base.py:299: ConvergenceWarning: Solver terminated early (max_iter=10000).  Consider pre-processing your data with StandardScaler or MinMaxScaler.\n",
      "  warnings.warn(\n",
      "/home/balakrishnan/.local/lib/python3.10/site-packages/sklearn/svm/_base.py:299: ConvergenceWarning: Solver terminated early (max_iter=10000).  Consider pre-processing your data with StandardScaler or MinMaxScaler.\n",
      "  warnings.warn(\n",
      "/home/balakrishnan/.local/lib/python3.10/site-packages/sklearn/svm/_base.py:299: ConvergenceWarning: Solver terminated early (max_iter=10000).  Consider pre-processing your data with StandardScaler or MinMaxScaler.\n",
      "  warnings.warn(\n"
     ]
    },
    {
     "name": "stdout",
     "output_type": "stream",
     "text": [
      "[CV 3/5] END ................C=10.0, gamma=0.01;, score=0.848 total time=  10.5s\n",
      "[CV 4/5] END ................C=10.0, gamma=0.01;, score=0.852 total time=  10.4s\n",
      "[CV 5/5] END ................C=10.0, gamma=0.01;, score=0.828 total time=  10.4s\n"
     ]
    },
    {
     "name": "stderr",
     "output_type": "stream",
     "text": [
      "/home/balakrishnan/.local/lib/python3.10/site-packages/sklearn/svm/_base.py:299: ConvergenceWarning: Solver terminated early (max_iter=10000).  Consider pre-processing your data with StandardScaler or MinMaxScaler.\n",
      "  warnings.warn(\n",
      "/home/balakrishnan/.local/lib/python3.10/site-packages/sklearn/svm/_base.py:299: ConvergenceWarning: Solver terminated early (max_iter=10000).  Consider pre-processing your data with StandardScaler or MinMaxScaler.\n",
      "  warnings.warn(\n"
     ]
    },
    {
     "name": "stdout",
     "output_type": "stream",
     "text": [
      "[CV 2/5] END .................C=10.0, gamma=0.1;, score=1.000 total time=   5.0s\n",
      "[CV 1/5] END .................C=10.0, gamma=0.1;, score=1.000 total time=   5.1s\n"
     ]
    },
    {
     "name": "stderr",
     "output_type": "stream",
     "text": [
      "/home/balakrishnan/.local/lib/python3.10/site-packages/sklearn/svm/_base.py:299: ConvergenceWarning: Solver terminated early (max_iter=10000).  Consider pre-processing your data with StandardScaler or MinMaxScaler.\n",
      "  warnings.warn(\n",
      "/home/balakrishnan/.local/lib/python3.10/site-packages/sklearn/svm/_base.py:299: ConvergenceWarning: Solver terminated early (max_iter=10000).  Consider pre-processing your data with StandardScaler or MinMaxScaler.\n",
      "  warnings.warn(\n"
     ]
    },
    {
     "name": "stdout",
     "output_type": "stream",
     "text": [
      "[CV 4/5] END .................C=10.0, gamma=0.1;, score=1.000 total time=   5.0s\n",
      "[CV 3/5] END .................C=10.0, gamma=0.1;, score=1.000 total time=   5.1s\n"
     ]
    },
    {
     "name": "stderr",
     "output_type": "stream",
     "text": [
      "/home/balakrishnan/.local/lib/python3.10/site-packages/sklearn/svm/_base.py:299: ConvergenceWarning: Solver terminated early (max_iter=10000).  Consider pre-processing your data with StandardScaler or MinMaxScaler.\n",
      "  warnings.warn(\n"
     ]
    },
    {
     "name": "stdout",
     "output_type": "stream",
     "text": [
      "[CV 5/5] END .................C=10.0, gamma=0.1;, score=1.000 total time=   5.0s\n"
     ]
    },
    {
     "name": "stderr",
     "output_type": "stream",
     "text": [
      "/home/balakrishnan/.local/lib/python3.10/site-packages/sklearn/svm/_base.py:299: ConvergenceWarning: Solver terminated early (max_iter=10000).  Consider pre-processing your data with StandardScaler or MinMaxScaler.\n",
      "  warnings.warn(\n",
      "/home/balakrishnan/.local/lib/python3.10/site-packages/sklearn/svm/_base.py:299: ConvergenceWarning: Solver terminated early (max_iter=10000).  Consider pre-processing your data with StandardScaler or MinMaxScaler.\n",
      "  warnings.warn(\n"
     ]
    },
    {
     "name": "stdout",
     "output_type": "stream",
     "text": [
      "[CV 1/5] END .................C=10.0, gamma=1.0;, score=1.000 total time=   9.1s\n",
      "[CV 2/5] END .................C=10.0, gamma=1.0;, score=1.000 total time=   9.2s\n"
     ]
    },
    {
     "name": "stderr",
     "output_type": "stream",
     "text": [
      "/home/balakrishnan/.local/lib/python3.10/site-packages/sklearn/svm/_base.py:299: ConvergenceWarning: Solver terminated early (max_iter=10000).  Consider pre-processing your data with StandardScaler or MinMaxScaler.\n",
      "  warnings.warn(\n",
      "/home/balakrishnan/.local/lib/python3.10/site-packages/sklearn/svm/_base.py:299: ConvergenceWarning: Solver terminated early (max_iter=10000).  Consider pre-processing your data with StandardScaler or MinMaxScaler.\n",
      "  warnings.warn(\n"
     ]
    },
    {
     "name": "stdout",
     "output_type": "stream",
     "text": [
      "[CV 3/5] END .................C=10.0, gamma=1.0;, score=1.000 total time=   9.3s\n"
     ]
    },
    {
     "name": "stderr",
     "output_type": "stream",
     "text": [
      "/home/balakrishnan/.local/lib/python3.10/site-packages/sklearn/svm/_base.py:299: ConvergenceWarning: Solver terminated early (max_iter=10000).  Consider pre-processing your data with StandardScaler or MinMaxScaler.\n",
      "  warnings.warn(\n"
     ]
    },
    {
     "name": "stdout",
     "output_type": "stream",
     "text": [
      "[CV 4/5] END .................C=10.0, gamma=1.0;, score=1.000 total time=   9.5s\n",
      "[CV 5/5] END .................C=10.0, gamma=1.0;, score=1.000 total time=   9.4s\n"
     ]
    },
    {
     "name": "stderr",
     "output_type": "stream",
     "text": [
      "/home/balakrishnan/.local/lib/python3.10/site-packages/sklearn/svm/_base.py:299: ConvergenceWarning: Solver terminated early (max_iter=10000).  Consider pre-processing your data with StandardScaler or MinMaxScaler.\n",
      "  warnings.warn(\n",
      "/home/balakrishnan/.local/lib/python3.10/site-packages/sklearn/svm/_base.py:299: ConvergenceWarning: Solver terminated early (max_iter=10000).  Consider pre-processing your data with StandardScaler or MinMaxScaler.\n",
      "  warnings.warn(\n"
     ]
    },
    {
     "name": "stdout",
     "output_type": "stream",
     "text": [
      "[CV 1/5] END ................C=10.0, gamma=10.0;, score=0.838 total time=  21.7s\n"
     ]
    },
    {
     "name": "stderr",
     "output_type": "stream",
     "text": [
      "/home/balakrishnan/.local/lib/python3.10/site-packages/sklearn/svm/_base.py:299: ConvergenceWarning: Solver terminated early (max_iter=10000).  Consider pre-processing your data with StandardScaler or MinMaxScaler.\n",
      "  warnings.warn(\n"
     ]
    },
    {
     "name": "stdout",
     "output_type": "stream",
     "text": [
      "[CV 2/5] END ................C=10.0, gamma=10.0;, score=0.834 total time=  22.4s\n"
     ]
    },
    {
     "name": "stderr",
     "output_type": "stream",
     "text": [
      "/home/balakrishnan/.local/lib/python3.10/site-packages/sklearn/svm/_base.py:299: ConvergenceWarning: Solver terminated early (max_iter=10000).  Consider pre-processing your data with StandardScaler or MinMaxScaler.\n",
      "  warnings.warn(\n",
      "/home/balakrishnan/.local/lib/python3.10/site-packages/sklearn/svm/_base.py:299: ConvergenceWarning: Solver terminated early (max_iter=10000).  Consider pre-processing your data with StandardScaler or MinMaxScaler.\n",
      "  warnings.warn(\n"
     ]
    },
    {
     "name": "stdout",
     "output_type": "stream",
     "text": [
      "[CV 3/5] END ................C=10.0, gamma=10.0;, score=0.852 total time=  31.3s\n",
      "[CV 4/5] END ................C=10.0, gamma=10.0;, score=0.833 total time=  33.0s\n",
      "[CV 5/5] END ................C=10.0, gamma=10.0;, score=0.843 total time=  37.4s\n"
     ]
    },
    {
     "name": "stderr",
     "output_type": "stream",
     "text": [
      "/home/balakrishnan/.local/lib/python3.10/site-packages/sklearn/svm/_base.py:299: ConvergenceWarning: Solver terminated early (max_iter=10000).  Consider pre-processing your data with StandardScaler or MinMaxScaler.\n",
      "  warnings.warn(\n",
      "/home/balakrishnan/.local/lib/python3.10/site-packages/sklearn/svm/_base.py:299: ConvergenceWarning: Solver terminated early (max_iter=10000).  Consider pre-processing your data with StandardScaler or MinMaxScaler.\n",
      "  warnings.warn(\n"
     ]
    },
    {
     "name": "stdout",
     "output_type": "stream",
     "text": [
      "[CV 1/5] END ...............C=10.0, gamma=100.0;, score=0.620 total time=  43.0s\n",
      "[CV 2/5] END ...............C=10.0, gamma=100.0;, score=0.623 total time=  42.3s\n"
     ]
    },
    {
     "name": "stderr",
     "output_type": "stream",
     "text": [
      "/home/balakrishnan/.local/lib/python3.10/site-packages/sklearn/svm/_base.py:299: ConvergenceWarning: Solver terminated early (max_iter=10000).  Consider pre-processing your data with StandardScaler or MinMaxScaler.\n",
      "  warnings.warn(\n",
      "/home/balakrishnan/.local/lib/python3.10/site-packages/sklearn/svm/_base.py:299: ConvergenceWarning: Solver terminated early (max_iter=10000).  Consider pre-processing your data with StandardScaler or MinMaxScaler.\n",
      "  warnings.warn(\n",
      "/home/balakrishnan/.local/lib/python3.10/site-packages/sklearn/svm/_base.py:299: ConvergenceWarning: Solver terminated early (max_iter=10000).  Consider pre-processing your data with StandardScaler or MinMaxScaler.\n",
      "  warnings.warn(\n"
     ]
    },
    {
     "name": "stdout",
     "output_type": "stream",
     "text": [
      "[CV 3/5] END ...............C=10.0, gamma=100.0;, score=0.621 total time=  35.1s\n",
      "[CV 4/5] END ...............C=10.0, gamma=100.0;, score=0.616 total time=  33.6s\n",
      "[CV 5/5] END ...............C=10.0, gamma=100.0;, score=0.616 total time=  29.8s\n"
     ]
    },
    {
     "name": "stderr",
     "output_type": "stream",
     "text": [
      "/home/balakrishnan/.local/lib/python3.10/site-packages/sklearn/svm/_base.py:299: ConvergenceWarning: Solver terminated early (max_iter=10000).  Consider pre-processing your data with StandardScaler or MinMaxScaler.\n",
      "  warnings.warn(\n",
      "/home/balakrishnan/.local/lib/python3.10/site-packages/sklearn/svm/_base.py:299: ConvergenceWarning: Solver terminated early (max_iter=10000).  Consider pre-processing your data with StandardScaler or MinMaxScaler.\n",
      "  warnings.warn(\n"
     ]
    },
    {
     "name": "stdout",
     "output_type": "stream",
     "text": [
      "[CV 2/5] END ..............C=10.0, gamma=1000.0;, score=0.532 total time=  15.3s\n",
      "[CV 1/5] END ..............C=10.0, gamma=1000.0;, score=0.531 total time=  15.4s\n"
     ]
    },
    {
     "name": "stderr",
     "output_type": "stream",
     "text": [
      "/home/balakrishnan/.local/lib/python3.10/site-packages/sklearn/svm/_base.py:299: ConvergenceWarning: Solver terminated early (max_iter=10000).  Consider pre-processing your data with StandardScaler or MinMaxScaler.\n",
      "  warnings.warn(\n",
      "/home/balakrishnan/.local/lib/python3.10/site-packages/sklearn/svm/_base.py:299: ConvergenceWarning: Solver terminated early (max_iter=10000).  Consider pre-processing your data with StandardScaler or MinMaxScaler.\n",
      "  warnings.warn(\n",
      "/home/balakrishnan/.local/lib/python3.10/site-packages/sklearn/svm/_base.py:299: ConvergenceWarning: Solver terminated early (max_iter=10000).  Consider pre-processing your data with StandardScaler or MinMaxScaler.\n",
      "  warnings.warn(\n"
     ]
    },
    {
     "name": "stdout",
     "output_type": "stream",
     "text": [
      "[CV 3/5] END ..............C=10.0, gamma=1000.0;, score=0.529 total time=  14.9s\n",
      "[CV 4/5] END ..............C=10.0, gamma=1000.0;, score=0.525 total time=  14.7s\n",
      "[CV 5/5] END ..............C=10.0, gamma=1000.0;, score=0.527 total time=  14.7s\n"
     ]
    },
    {
     "name": "stderr",
     "output_type": "stream",
     "text": [
      "/home/balakrishnan/.local/lib/python3.10/site-packages/sklearn/svm/_base.py:299: ConvergenceWarning: Solver terminated early (max_iter=10000).  Consider pre-processing your data with StandardScaler or MinMaxScaler.\n",
      "  warnings.warn(\n"
     ]
    },
    {
     "name": "stdout",
     "output_type": "stream",
     "text": [
      "[CV 2/5] END .............C=10.0, gamma=10000.0;, score=0.502 total time=  12.5s\n",
      "[CV 1/5] END .............C=10.0, gamma=10000.0;, score=0.505 total time=  13.2s\n"
     ]
    },
    {
     "name": "stderr",
     "output_type": "stream",
     "text": [
      "/home/balakrishnan/.local/lib/python3.10/site-packages/sklearn/svm/_base.py:299: ConvergenceWarning: Solver terminated early (max_iter=10000).  Consider pre-processing your data with StandardScaler or MinMaxScaler.\n",
      "  warnings.warn(\n",
      "/home/balakrishnan/.local/lib/python3.10/site-packages/sklearn/svm/_base.py:299: ConvergenceWarning: Solver terminated early (max_iter=10000).  Consider pre-processing your data with StandardScaler or MinMaxScaler.\n",
      "  warnings.warn(\n",
      "/home/balakrishnan/.local/lib/python3.10/site-packages/sklearn/svm/_base.py:299: ConvergenceWarning: Solver terminated early (max_iter=10000).  Consider pre-processing your data with StandardScaler or MinMaxScaler.\n",
      "  warnings.warn(\n"
     ]
    },
    {
     "name": "stdout",
     "output_type": "stream",
     "text": [
      "[CV 3/5] END .............C=10.0, gamma=10000.0;, score=0.507 total time=  12.6s\n",
      "[CV 4/5] END .............C=10.0, gamma=10000.0;, score=0.506 total time=  12.4s\n",
      "[CV 5/5] END .............C=10.0, gamma=10000.0;, score=0.501 total time=  12.0s\n"
     ]
    },
    {
     "name": "stderr",
     "output_type": "stream",
     "text": [
      "/home/balakrishnan/.local/lib/python3.10/site-packages/sklearn/svm/_base.py:299: ConvergenceWarning: Solver terminated early (max_iter=10000).  Consider pre-processing your data with StandardScaler or MinMaxScaler.\n",
      "  warnings.warn(\n",
      "/home/balakrishnan/.local/lib/python3.10/site-packages/sklearn/svm/_base.py:299: ConvergenceWarning: Solver terminated early (max_iter=10000).  Consider pre-processing your data with StandardScaler or MinMaxScaler.\n",
      "  warnings.warn(\n"
     ]
    },
    {
     "name": "stdout",
     "output_type": "stream",
     "text": [
      "[CV 1/5] END ............C=10.0, gamma=100000.0;, score=0.500 total time=  11.4s\n",
      "[CV 2/5] END ............C=10.0, gamma=100000.0;, score=0.500 total time=  11.3s\n"
     ]
    },
    {
     "name": "stderr",
     "output_type": "stream",
     "text": [
      "/home/balakrishnan/.local/lib/python3.10/site-packages/sklearn/svm/_base.py:299: ConvergenceWarning: Solver terminated early (max_iter=10000).  Consider pre-processing your data with StandardScaler or MinMaxScaler.\n",
      "  warnings.warn(\n",
      "/home/balakrishnan/.local/lib/python3.10/site-packages/sklearn/svm/_base.py:299: ConvergenceWarning: Solver terminated early (max_iter=10000).  Consider pre-processing your data with StandardScaler or MinMaxScaler.\n",
      "  warnings.warn(\n",
      "/home/balakrishnan/.local/lib/python3.10/site-packages/sklearn/svm/_base.py:299: ConvergenceWarning: Solver terminated early (max_iter=10000).  Consider pre-processing your data with StandardScaler or MinMaxScaler.\n",
      "  warnings.warn(\n"
     ]
    },
    {
     "name": "stdout",
     "output_type": "stream",
     "text": [
      "[CV 3/5] END ............C=10.0, gamma=100000.0;, score=0.500 total time=  11.0s\n",
      "[CV 4/5] END ............C=10.0, gamma=100000.0;, score=0.500 total time=  11.1s\n",
      "[CV 5/5] END ............C=10.0, gamma=100000.0;, score=0.500 total time=  11.0s\n"
     ]
    },
    {
     "name": "stderr",
     "output_type": "stream",
     "text": [
      "/home/balakrishnan/.local/lib/python3.10/site-packages/sklearn/svm/_base.py:299: ConvergenceWarning: Solver terminated early (max_iter=10000).  Consider pre-processing your data with StandardScaler or MinMaxScaler.\n",
      "  warnings.warn(\n",
      "/home/balakrishnan/.local/lib/python3.10/site-packages/sklearn/svm/_base.py:299: ConvergenceWarning: Solver terminated early (max_iter=10000).  Consider pre-processing your data with StandardScaler or MinMaxScaler.\n",
      "  warnings.warn(\n"
     ]
    },
    {
     "name": "stdout",
     "output_type": "stream",
     "text": [
      "[CV 1/5] END ...............C=10.0, gamma=scale;, score=0.751 total time=  10.5s\n",
      "[CV 2/5] END ...............C=10.0, gamma=scale;, score=0.769 total time=  10.6s\n"
     ]
    },
    {
     "name": "stderr",
     "output_type": "stream",
     "text": [
      "/home/balakrishnan/.local/lib/python3.10/site-packages/sklearn/svm/_base.py:299: ConvergenceWarning: Solver terminated early (max_iter=10000).  Consider pre-processing your data with StandardScaler or MinMaxScaler.\n",
      "  warnings.warn(\n",
      "/home/balakrishnan/.local/lib/python3.10/site-packages/sklearn/svm/_base.py:299: ConvergenceWarning: Solver terminated early (max_iter=10000).  Consider pre-processing your data with StandardScaler or MinMaxScaler.\n",
      "  warnings.warn(\n",
      "/home/balakrishnan/.local/lib/python3.10/site-packages/sklearn/svm/_base.py:299: ConvergenceWarning: Solver terminated early (max_iter=10000).  Consider pre-processing your data with StandardScaler or MinMaxScaler.\n",
      "  warnings.warn(\n"
     ]
    },
    {
     "name": "stdout",
     "output_type": "stream",
     "text": [
      "[CV 3/5] END ...............C=10.0, gamma=scale;, score=0.762 total time=  10.4s\n",
      "[CV 4/5] END ...............C=10.0, gamma=scale;, score=0.757 total time=  10.4s\n"
     ]
    },
    {
     "name": "stderr",
     "output_type": "stream",
     "text": [
      "/home/balakrishnan/.local/lib/python3.10/site-packages/sklearn/svm/_base.py:299: ConvergenceWarning: Solver terminated early (max_iter=10000).  Consider pre-processing your data with StandardScaler or MinMaxScaler.\n",
      "  warnings.warn(\n"
     ]
    },
    {
     "name": "stdout",
     "output_type": "stream",
     "text": [
      "[CV 5/5] END ...............C=10.0, gamma=scale;, score=0.766 total time=  10.4s\n",
      "[CV 1/5] END ................C=10.0, gamma=auto;, score=1.000 total time=   5.3s\n"
     ]
    },
    {
     "name": "stderr",
     "output_type": "stream",
     "text": [
      "/home/balakrishnan/.local/lib/python3.10/site-packages/sklearn/svm/_base.py:299: ConvergenceWarning: Solver terminated early (max_iter=10000).  Consider pre-processing your data with StandardScaler or MinMaxScaler.\n",
      "  warnings.warn(\n"
     ]
    },
    {
     "name": "stdout",
     "output_type": "stream",
     "text": [
      "[CV 2/5] END ................C=10.0, gamma=auto;, score=1.000 total time=   5.4s\n"
     ]
    },
    {
     "name": "stderr",
     "output_type": "stream",
     "text": [
      "/home/balakrishnan/.local/lib/python3.10/site-packages/sklearn/svm/_base.py:299: ConvergenceWarning: Solver terminated early (max_iter=10000).  Consider pre-processing your data with StandardScaler or MinMaxScaler.\n",
      "  warnings.warn(\n",
      "/home/balakrishnan/.local/lib/python3.10/site-packages/sklearn/svm/_base.py:299: ConvergenceWarning: Solver terminated early (max_iter=10000).  Consider pre-processing your data with StandardScaler or MinMaxScaler.\n",
      "  warnings.warn(\n"
     ]
    },
    {
     "name": "stdout",
     "output_type": "stream",
     "text": [
      "[CV 3/5] END ................C=10.0, gamma=auto;, score=1.000 total time=   5.3s\n",
      "[CV 4/5] END ................C=10.0, gamma=auto;, score=1.000 total time=   5.2s\n"
     ]
    },
    {
     "name": "stderr",
     "output_type": "stream",
     "text": [
      "/home/balakrishnan/.local/lib/python3.10/site-packages/sklearn/svm/_base.py:299: ConvergenceWarning: Solver terminated early (max_iter=10000).  Consider pre-processing your data with StandardScaler or MinMaxScaler.\n",
      "  warnings.warn(\n"
     ]
    },
    {
     "name": "stdout",
     "output_type": "stream",
     "text": [
      "[CV 5/5] END ................C=10.0, gamma=auto;, score=1.000 total time=   5.2s\n",
      "[CV 1/5] END ..............C=100.0, gamma=1e-05;, score=0.493 total time=  10.3s\n",
      "[CV 2/5] END ..............C=100.0, gamma=1e-05;, score=0.491 total time=  10.8s\n"
     ]
    },
    {
     "name": "stderr",
     "output_type": "stream",
     "text": [
      "/home/balakrishnan/.local/lib/python3.10/site-packages/sklearn/svm/_base.py:299: ConvergenceWarning: Solver terminated early (max_iter=10000).  Consider pre-processing your data with StandardScaler or MinMaxScaler.\n",
      "  warnings.warn(\n"
     ]
    },
    {
     "name": "stdout",
     "output_type": "stream",
     "text": [
      "[CV 3/5] END ..............C=100.0, gamma=1e-05;, score=0.475 total time=  10.7s\n",
      "[CV 4/5] END ..............C=100.0, gamma=1e-05;, score=0.465 total time=  10.9s\n",
      "[CV 5/5] END ..............C=100.0, gamma=1e-05;, score=0.484 total time=  11.2s\n"
     ]
    },
    {
     "name": "stderr",
     "output_type": "stream",
     "text": [
      "/home/balakrishnan/.local/lib/python3.10/site-packages/sklearn/svm/_base.py:299: ConvergenceWarning: Solver terminated early (max_iter=10000).  Consider pre-processing your data with StandardScaler or MinMaxScaler.\n",
      "  warnings.warn(\n",
      "/home/balakrishnan/.local/lib/python3.10/site-packages/sklearn/svm/_base.py:299: ConvergenceWarning: Solver terminated early (max_iter=10000).  Consider pre-processing your data with StandardScaler or MinMaxScaler.\n",
      "  warnings.warn(\n"
     ]
    },
    {
     "name": "stdout",
     "output_type": "stream",
     "text": [
      "[CV 1/5] END .............C=100.0, gamma=0.0001;, score=0.568 total time=  11.9s\n",
      "[CV 2/5] END .............C=100.0, gamma=0.0001;, score=0.594 total time=  12.1s\n"
     ]
    },
    {
     "name": "stderr",
     "output_type": "stream",
     "text": [
      "/home/balakrishnan/.local/lib/python3.10/site-packages/sklearn/svm/_base.py:299: ConvergenceWarning: Solver terminated early (max_iter=10000).  Consider pre-processing your data with StandardScaler or MinMaxScaler.\n",
      "  warnings.warn(\n",
      "/home/balakrishnan/.local/lib/python3.10/site-packages/sklearn/svm/_base.py:299: ConvergenceWarning: Solver terminated early (max_iter=10000).  Consider pre-processing your data with StandardScaler or MinMaxScaler.\n",
      "  warnings.warn(\n",
      "/home/balakrishnan/.local/lib/python3.10/site-packages/sklearn/svm/_base.py:299: ConvergenceWarning: Solver terminated early (max_iter=10000).  Consider pre-processing your data with StandardScaler or MinMaxScaler.\n",
      "  warnings.warn(\n"
     ]
    },
    {
     "name": "stdout",
     "output_type": "stream",
     "text": [
      "[CV 4/5] END .............C=100.0, gamma=0.0001;, score=0.596 total time=  12.0s\n",
      "[CV 3/5] END .............C=100.0, gamma=0.0001;, score=0.568 total time=  12.3s\n",
      "[CV 5/5] END .............C=100.0, gamma=0.0001;, score=0.580 total time=  12.5s\n"
     ]
    },
    {
     "name": "stderr",
     "output_type": "stream",
     "text": [
      "/home/balakrishnan/.local/lib/python3.10/site-packages/sklearn/svm/_base.py:299: ConvergenceWarning: Solver terminated early (max_iter=10000).  Consider pre-processing your data with StandardScaler or MinMaxScaler.\n",
      "  warnings.warn(\n",
      "/home/balakrishnan/.local/lib/python3.10/site-packages/sklearn/svm/_base.py:299: ConvergenceWarning: Solver terminated early (max_iter=10000).  Consider pre-processing your data with StandardScaler or MinMaxScaler.\n",
      "  warnings.warn(\n"
     ]
    },
    {
     "name": "stdout",
     "output_type": "stream",
     "text": [
      "[CV 1/5] END ..............C=100.0, gamma=0.001;, score=0.572 total time=  28.4s\n"
     ]
    },
    {
     "name": "stderr",
     "output_type": "stream",
     "text": [
      "/home/balakrishnan/.local/lib/python3.10/site-packages/sklearn/svm/_base.py:299: ConvergenceWarning: Solver terminated early (max_iter=10000).  Consider pre-processing your data with StandardScaler or MinMaxScaler.\n",
      "  warnings.warn(\n"
     ]
    },
    {
     "name": "stdout",
     "output_type": "stream",
     "text": [
      "[CV 2/5] END ..............C=100.0, gamma=0.001;, score=0.594 total time=  35.2s\n"
     ]
    },
    {
     "name": "stderr",
     "output_type": "stream",
     "text": [
      "/home/balakrishnan/.local/lib/python3.10/site-packages/sklearn/svm/_base.py:299: ConvergenceWarning: Solver terminated early (max_iter=10000).  Consider pre-processing your data with StandardScaler or MinMaxScaler.\n",
      "  warnings.warn(\n",
      "/home/balakrishnan/.local/lib/python3.10/site-packages/sklearn/svm/_base.py:299: ConvergenceWarning: Solver terminated early (max_iter=10000).  Consider pre-processing your data with StandardScaler or MinMaxScaler.\n",
      "  warnings.warn(\n"
     ]
    },
    {
     "name": "stdout",
     "output_type": "stream",
     "text": [
      "[CV 3/5] END ..............C=100.0, gamma=0.001;, score=0.584 total time=  42.6s\n",
      "[CV 4/5] END ..............C=100.0, gamma=0.001;, score=0.541 total time=  43.6s\n",
      "[CV 5/5] END ..............C=100.0, gamma=0.001;, score=0.574 total time=  46.3s\n"
     ]
    },
    {
     "name": "stderr",
     "output_type": "stream",
     "text": [
      "/home/balakrishnan/.local/lib/python3.10/site-packages/sklearn/svm/_base.py:299: ConvergenceWarning: Solver terminated early (max_iter=10000).  Consider pre-processing your data with StandardScaler or MinMaxScaler.\n",
      "  warnings.warn(\n"
     ]
    },
    {
     "name": "stdout",
     "output_type": "stream",
     "text": [
      "[CV 1/5] END ...............C=100.0, gamma=0.01;, score=0.902 total time=  26.6s\n"
     ]
    },
    {
     "name": "stderr",
     "output_type": "stream",
     "text": [
      "/home/balakrishnan/.local/lib/python3.10/site-packages/sklearn/svm/_base.py:299: ConvergenceWarning: Solver terminated early (max_iter=10000).  Consider pre-processing your data with StandardScaler or MinMaxScaler.\n",
      "  warnings.warn(\n"
     ]
    },
    {
     "name": "stdout",
     "output_type": "stream",
     "text": [
      "[CV 2/5] END ...............C=100.0, gamma=0.01;, score=0.908 total time=  20.6s\n"
     ]
    },
    {
     "name": "stderr",
     "output_type": "stream",
     "text": [
      "/home/balakrishnan/.local/lib/python3.10/site-packages/sklearn/svm/_base.py:299: ConvergenceWarning: Solver terminated early (max_iter=10000).  Consider pre-processing your data with StandardScaler or MinMaxScaler.\n",
      "  warnings.warn(\n",
      "/home/balakrishnan/.local/lib/python3.10/site-packages/sklearn/svm/_base.py:299: ConvergenceWarning: Solver terminated early (max_iter=10000).  Consider pre-processing your data with StandardScaler or MinMaxScaler.\n",
      "  warnings.warn(\n"
     ]
    },
    {
     "name": "stdout",
     "output_type": "stream",
     "text": [
      "[CV 3/5] END ...............C=100.0, gamma=0.01;, score=0.900 total time=  13.8s\n",
      "[CV 4/5] END ...............C=100.0, gamma=0.01;, score=0.863 total time=  13.3s\n"
     ]
    },
    {
     "name": "stderr",
     "output_type": "stream",
     "text": [
      "/home/balakrishnan/.local/lib/python3.10/site-packages/sklearn/svm/_base.py:299: ConvergenceWarning: Solver terminated early (max_iter=10000).  Consider pre-processing your data with StandardScaler or MinMaxScaler.\n",
      "  warnings.warn(\n",
      "/home/balakrishnan/.local/lib/python3.10/site-packages/sklearn/svm/_base.py:299: ConvergenceWarning: Solver terminated early (max_iter=10000).  Consider pre-processing your data with StandardScaler or MinMaxScaler.\n",
      "  warnings.warn(\n"
     ]
    },
    {
     "name": "stdout",
     "output_type": "stream",
     "text": [
      "[CV 1/5] END ................C=100.0, gamma=0.1;, score=1.000 total time=   7.6s\n",
      "[CV 5/5] END ...............C=100.0, gamma=0.01;, score=0.854 total time=  10.2s\n"
     ]
    },
    {
     "name": "stderr",
     "output_type": "stream",
     "text": [
      "/home/balakrishnan/.local/lib/python3.10/site-packages/sklearn/svm/_base.py:299: ConvergenceWarning: Solver terminated early (max_iter=10000).  Consider pre-processing your data with StandardScaler or MinMaxScaler.\n",
      "  warnings.warn(\n"
     ]
    },
    {
     "name": "stdout",
     "output_type": "stream",
     "text": [
      "[CV 2/5] END ................C=100.0, gamma=0.1;, score=1.000 total time=   7.5s\n"
     ]
    },
    {
     "name": "stderr",
     "output_type": "stream",
     "text": [
      "/home/balakrishnan/.local/lib/python3.10/site-packages/sklearn/svm/_base.py:299: ConvergenceWarning: Solver terminated early (max_iter=10000).  Consider pre-processing your data with StandardScaler or MinMaxScaler.\n",
      "  warnings.warn(\n",
      "/home/balakrishnan/.local/lib/python3.10/site-packages/sklearn/svm/_base.py:299: ConvergenceWarning: Solver terminated early (max_iter=10000).  Consider pre-processing your data with StandardScaler or MinMaxScaler.\n",
      "  warnings.warn(\n"
     ]
    },
    {
     "name": "stdout",
     "output_type": "stream",
     "text": [
      "[CV 3/5] END ................C=100.0, gamma=0.1;, score=1.000 total time=   7.4s\n",
      "[CV 4/5] END ................C=100.0, gamma=0.1;, score=1.000 total time=   7.4s\n"
     ]
    },
    {
     "name": "stderr",
     "output_type": "stream",
     "text": [
      "/home/balakrishnan/.local/lib/python3.10/site-packages/sklearn/svm/_base.py:299: ConvergenceWarning: Solver terminated early (max_iter=10000).  Consider pre-processing your data with StandardScaler or MinMaxScaler.\n",
      "  warnings.warn(\n"
     ]
    },
    {
     "name": "stdout",
     "output_type": "stream",
     "text": [
      "[CV 5/5] END ................C=100.0, gamma=0.1;, score=1.000 total time=   7.3s\n"
     ]
    },
    {
     "name": "stderr",
     "output_type": "stream",
     "text": [
      "/home/balakrishnan/.local/lib/python3.10/site-packages/sklearn/svm/_base.py:299: ConvergenceWarning: Solver terminated early (max_iter=10000).  Consider pre-processing your data with StandardScaler or MinMaxScaler.\n",
      "  warnings.warn(\n",
      "/home/balakrishnan/.local/lib/python3.10/site-packages/sklearn/svm/_base.py:299: ConvergenceWarning: Solver terminated early (max_iter=10000).  Consider pre-processing your data with StandardScaler or MinMaxScaler.\n",
      "  warnings.warn(\n"
     ]
    },
    {
     "name": "stdout",
     "output_type": "stream",
     "text": [
      "[CV 1/5] END ................C=100.0, gamma=1.0;, score=1.000 total time=  13.2s\n",
      "[CV 2/5] END ................C=100.0, gamma=1.0;, score=1.000 total time=  12.8s\n"
     ]
    },
    {
     "name": "stderr",
     "output_type": "stream",
     "text": [
      "/home/balakrishnan/.local/lib/python3.10/site-packages/sklearn/svm/_base.py:299: ConvergenceWarning: Solver terminated early (max_iter=10000).  Consider pre-processing your data with StandardScaler or MinMaxScaler.\n",
      "  warnings.warn(\n",
      "/home/balakrishnan/.local/lib/python3.10/site-packages/sklearn/svm/_base.py:299: ConvergenceWarning: Solver terminated early (max_iter=10000).  Consider pre-processing your data with StandardScaler or MinMaxScaler.\n",
      "  warnings.warn(\n"
     ]
    },
    {
     "name": "stdout",
     "output_type": "stream",
     "text": [
      "[CV 3/5] END ................C=100.0, gamma=1.0;, score=1.000 total time=  12.8s\n"
     ]
    },
    {
     "name": "stderr",
     "output_type": "stream",
     "text": [
      "/home/balakrishnan/.local/lib/python3.10/site-packages/sklearn/svm/_base.py:299: ConvergenceWarning: Solver terminated early (max_iter=10000).  Consider pre-processing your data with StandardScaler or MinMaxScaler.\n",
      "  warnings.warn(\n"
     ]
    },
    {
     "name": "stdout",
     "output_type": "stream",
     "text": [
      "[CV 4/5] END ................C=100.0, gamma=1.0;, score=1.000 total time=  13.0s\n",
      "[CV 5/5] END ................C=100.0, gamma=1.0;, score=1.000 total time=  12.9s\n"
     ]
    },
    {
     "name": "stderr",
     "output_type": "stream",
     "text": [
      "/home/balakrishnan/.local/lib/python3.10/site-packages/sklearn/svm/_base.py:299: ConvergenceWarning: Solver terminated early (max_iter=10000).  Consider pre-processing your data with StandardScaler or MinMaxScaler.\n",
      "  warnings.warn(\n",
      "/home/balakrishnan/.local/lib/python3.10/site-packages/sklearn/svm/_base.py:299: ConvergenceWarning: Solver terminated early (max_iter=10000).  Consider pre-processing your data with StandardScaler or MinMaxScaler.\n",
      "  warnings.warn(\n"
     ]
    },
    {
     "name": "stdout",
     "output_type": "stream",
     "text": [
      "[CV 1/5] END ...............C=100.0, gamma=10.0;, score=0.838 total time=  15.5s\n",
      "[CV 2/5] END ...............C=100.0, gamma=10.0;, score=0.834 total time=  14.8s\n"
     ]
    },
    {
     "name": "stderr",
     "output_type": "stream",
     "text": [
      "/home/balakrishnan/.local/lib/python3.10/site-packages/sklearn/svm/_base.py:299: ConvergenceWarning: Solver terminated early (max_iter=10000).  Consider pre-processing your data with StandardScaler or MinMaxScaler.\n",
      "  warnings.warn(\n",
      "/home/balakrishnan/.local/lib/python3.10/site-packages/sklearn/svm/_base.py:299: ConvergenceWarning: Solver terminated early (max_iter=10000).  Consider pre-processing your data with StandardScaler or MinMaxScaler.\n",
      "  warnings.warn(\n",
      "/home/balakrishnan/.local/lib/python3.10/site-packages/sklearn/svm/_base.py:299: ConvergenceWarning: Solver terminated early (max_iter=10000).  Consider pre-processing your data with StandardScaler or MinMaxScaler.\n",
      "  warnings.warn(\n"
     ]
    },
    {
     "name": "stdout",
     "output_type": "stream",
     "text": [
      "[CV 3/5] END ...............C=100.0, gamma=10.0;, score=0.852 total time=  14.6s\n",
      "[CV 4/5] END ...............C=100.0, gamma=10.0;, score=0.833 total time=  14.2s\n",
      "[CV 5/5] END ...............C=100.0, gamma=10.0;, score=0.843 total time=  14.6s\n"
     ]
    },
    {
     "name": "stderr",
     "output_type": "stream",
     "text": [
      "/home/balakrishnan/.local/lib/python3.10/site-packages/sklearn/svm/_base.py:299: ConvergenceWarning: Solver terminated early (max_iter=10000).  Consider pre-processing your data with StandardScaler or MinMaxScaler.\n",
      "  warnings.warn(\n",
      "/home/balakrishnan/.local/lib/python3.10/site-packages/sklearn/svm/_base.py:299: ConvergenceWarning: Solver terminated early (max_iter=10000).  Consider pre-processing your data with StandardScaler or MinMaxScaler.\n",
      "  warnings.warn(\n"
     ]
    },
    {
     "name": "stdout",
     "output_type": "stream",
     "text": [
      "[CV 1/5] END ..............C=100.0, gamma=100.0;, score=0.620 total time=  12.3s\n"
     ]
    },
    {
     "name": "stderr",
     "output_type": "stream",
     "text": [
      "/home/balakrishnan/.local/lib/python3.10/site-packages/sklearn/svm/_base.py:299: ConvergenceWarning: Solver terminated early (max_iter=10000).  Consider pre-processing your data with StandardScaler or MinMaxScaler.\n",
      "  warnings.warn(\n"
     ]
    },
    {
     "name": "stdout",
     "output_type": "stream",
     "text": [
      "[CV 2/5] END ..............C=100.0, gamma=100.0;, score=0.623 total time=  12.2s\n"
     ]
    },
    {
     "name": "stderr",
     "output_type": "stream",
     "text": [
      "/home/balakrishnan/.local/lib/python3.10/site-packages/sklearn/svm/_base.py:299: ConvergenceWarning: Solver terminated early (max_iter=10000).  Consider pre-processing your data with StandardScaler or MinMaxScaler.\n",
      "  warnings.warn(\n",
      "/home/balakrishnan/.local/lib/python3.10/site-packages/sklearn/svm/_base.py:299: ConvergenceWarning: Solver terminated early (max_iter=10000).  Consider pre-processing your data with StandardScaler or MinMaxScaler.\n",
      "  warnings.warn(\n"
     ]
    },
    {
     "name": "stdout",
     "output_type": "stream",
     "text": [
      "[CV 3/5] END ..............C=100.0, gamma=100.0;, score=0.621 total time=  12.0s\n",
      "[CV 4/5] END ..............C=100.0, gamma=100.0;, score=0.616 total time=  11.9s\n",
      "[CV 5/5] END ..............C=100.0, gamma=100.0;, score=0.616 total time=  11.7s\n"
     ]
    },
    {
     "name": "stderr",
     "output_type": "stream",
     "text": [
      "/home/balakrishnan/.local/lib/python3.10/site-packages/sklearn/svm/_base.py:299: ConvergenceWarning: Solver terminated early (max_iter=10000).  Consider pre-processing your data with StandardScaler or MinMaxScaler.\n",
      "  warnings.warn(\n",
      "/home/balakrishnan/.local/lib/python3.10/site-packages/sklearn/svm/_base.py:299: ConvergenceWarning: Solver terminated early (max_iter=10000).  Consider pre-processing your data with StandardScaler or MinMaxScaler.\n",
      "  warnings.warn(\n"
     ]
    },
    {
     "name": "stdout",
     "output_type": "stream",
     "text": [
      "[CV 1/5] END .............C=100.0, gamma=1000.0;, score=0.531 total time=  11.0s\n"
     ]
    },
    {
     "name": "stderr",
     "output_type": "stream",
     "text": [
      "/home/balakrishnan/.local/lib/python3.10/site-packages/sklearn/svm/_base.py:299: ConvergenceWarning: Solver terminated early (max_iter=10000).  Consider pre-processing your data with StandardScaler or MinMaxScaler.\n",
      "  warnings.warn(\n"
     ]
    },
    {
     "name": "stdout",
     "output_type": "stream",
     "text": [
      "[CV 2/5] END .............C=100.0, gamma=1000.0;, score=0.532 total time=  10.9s\n"
     ]
    },
    {
     "name": "stderr",
     "output_type": "stream",
     "text": [
      "/home/balakrishnan/.local/lib/python3.10/site-packages/sklearn/svm/_base.py:299: ConvergenceWarning: Solver terminated early (max_iter=10000).  Consider pre-processing your data with StandardScaler or MinMaxScaler.\n",
      "  warnings.warn(\n",
      "/home/balakrishnan/.local/lib/python3.10/site-packages/sklearn/svm/_base.py:299: ConvergenceWarning: Solver terminated early (max_iter=10000).  Consider pre-processing your data with StandardScaler or MinMaxScaler.\n",
      "  warnings.warn(\n"
     ]
    },
    {
     "name": "stdout",
     "output_type": "stream",
     "text": [
      "[CV 3/5] END .............C=100.0, gamma=1000.0;, score=0.529 total time=  11.1s\n",
      "[CV 4/5] END .............C=100.0, gamma=1000.0;, score=0.525 total time=  11.3s\n",
      "[CV 5/5] END .............C=100.0, gamma=1000.0;, score=0.527 total time=  11.2s\n"
     ]
    },
    {
     "name": "stderr",
     "output_type": "stream",
     "text": [
      "/home/balakrishnan/.local/lib/python3.10/site-packages/sklearn/svm/_base.py:299: ConvergenceWarning: Solver terminated early (max_iter=10000).  Consider pre-processing your data with StandardScaler or MinMaxScaler.\n",
      "  warnings.warn(\n"
     ]
    },
    {
     "name": "stdout",
     "output_type": "stream",
     "text": [
      "[CV 2/5] END ............C=100.0, gamma=10000.0;, score=0.502 total time=  10.5s\n",
      "[CV 1/5] END ............C=100.0, gamma=10000.0;, score=0.505 total time=  11.3s\n"
     ]
    },
    {
     "name": "stderr",
     "output_type": "stream",
     "text": [
      "/home/balakrishnan/.local/lib/python3.10/site-packages/sklearn/svm/_base.py:299: ConvergenceWarning: Solver terminated early (max_iter=10000).  Consider pre-processing your data with StandardScaler or MinMaxScaler.\n",
      "  warnings.warn(\n",
      "/home/balakrishnan/.local/lib/python3.10/site-packages/sklearn/svm/_base.py:299: ConvergenceWarning: Solver terminated early (max_iter=10000).  Consider pre-processing your data with StandardScaler or MinMaxScaler.\n",
      "  warnings.warn(\n",
      "/home/balakrishnan/.local/lib/python3.10/site-packages/sklearn/svm/_base.py:299: ConvergenceWarning: Solver terminated early (max_iter=10000).  Consider pre-processing your data with StandardScaler or MinMaxScaler.\n",
      "  warnings.warn(\n"
     ]
    },
    {
     "name": "stdout",
     "output_type": "stream",
     "text": [
      "[CV 3/5] END ............C=100.0, gamma=10000.0;, score=0.507 total time=  10.9s\n",
      "[CV 4/5] END ............C=100.0, gamma=10000.0;, score=0.506 total time=  11.0s\n",
      "[CV 5/5] END ............C=100.0, gamma=10000.0;, score=0.501 total time=  10.8s\n"
     ]
    },
    {
     "name": "stderr",
     "output_type": "stream",
     "text": [
      "/home/balakrishnan/.local/lib/python3.10/site-packages/sklearn/svm/_base.py:299: ConvergenceWarning: Solver terminated early (max_iter=10000).  Consider pre-processing your data with StandardScaler or MinMaxScaler.\n",
      "  warnings.warn(\n",
      "/home/balakrishnan/.local/lib/python3.10/site-packages/sklearn/svm/_base.py:299: ConvergenceWarning: Solver terminated early (max_iter=10000).  Consider pre-processing your data with StandardScaler or MinMaxScaler.\n",
      "  warnings.warn(\n"
     ]
    },
    {
     "name": "stdout",
     "output_type": "stream",
     "text": [
      "[CV 1/5] END ...........C=100.0, gamma=100000.0;, score=0.500 total time=  11.1s\n",
      "[CV 2/5] END ...........C=100.0, gamma=100000.0;, score=0.500 total time=  11.0s\n"
     ]
    },
    {
     "name": "stderr",
     "output_type": "stream",
     "text": [
      "/home/balakrishnan/.local/lib/python3.10/site-packages/sklearn/svm/_base.py:299: ConvergenceWarning: Solver terminated early (max_iter=10000).  Consider pre-processing your data with StandardScaler or MinMaxScaler.\n",
      "  warnings.warn(\n",
      "/home/balakrishnan/.local/lib/python3.10/site-packages/sklearn/svm/_base.py:299: ConvergenceWarning: Solver terminated early (max_iter=10000).  Consider pre-processing your data with StandardScaler or MinMaxScaler.\n",
      "  warnings.warn(\n",
      "/home/balakrishnan/.local/lib/python3.10/site-packages/sklearn/svm/_base.py:299: ConvergenceWarning: Solver terminated early (max_iter=10000).  Consider pre-processing your data with StandardScaler or MinMaxScaler.\n",
      "  warnings.warn(\n"
     ]
    },
    {
     "name": "stdout",
     "output_type": "stream",
     "text": [
      "[CV 3/5] END ...........C=100.0, gamma=100000.0;, score=0.500 total time=  11.6s\n",
      "[CV 4/5] END ...........C=100.0, gamma=100000.0;, score=0.500 total time=  12.5s\n",
      "[CV 5/5] END ...........C=100.0, gamma=100000.0;, score=0.500 total time=  12.7s\n"
     ]
    },
    {
     "name": "stderr",
     "output_type": "stream",
     "text": [
      "/home/balakrishnan/.local/lib/python3.10/site-packages/sklearn/svm/_base.py:299: ConvergenceWarning: Solver terminated early (max_iter=10000).  Consider pre-processing your data with StandardScaler or MinMaxScaler.\n",
      "  warnings.warn(\n",
      "/home/balakrishnan/.local/lib/python3.10/site-packages/sklearn/svm/_base.py:299: ConvergenceWarning: Solver terminated early (max_iter=10000).  Consider pre-processing your data with StandardScaler or MinMaxScaler.\n",
      "  warnings.warn(\n"
     ]
    },
    {
     "name": "stdout",
     "output_type": "stream",
     "text": [
      "[CV 1/5] END ..............C=100.0, gamma=scale;, score=0.807 total time=  18.3s\n",
      "[CV 2/5] END ..............C=100.0, gamma=scale;, score=0.860 total time=  18.5s\n"
     ]
    },
    {
     "name": "stderr",
     "output_type": "stream",
     "text": [
      "/home/balakrishnan/.local/lib/python3.10/site-packages/sklearn/svm/_base.py:299: ConvergenceWarning: Solver terminated early (max_iter=10000).  Consider pre-processing your data with StandardScaler or MinMaxScaler.\n",
      "  warnings.warn(\n",
      "/home/balakrishnan/.local/lib/python3.10/site-packages/sklearn/svm/_base.py:299: ConvergenceWarning: Solver terminated early (max_iter=10000).  Consider pre-processing your data with StandardScaler or MinMaxScaler.\n",
      "  warnings.warn(\n"
     ]
    },
    {
     "name": "stdout",
     "output_type": "stream",
     "text": [
      "[CV 3/5] END ..............C=100.0, gamma=scale;, score=0.837 total time=  30.4s\n"
     ]
    },
    {
     "name": "stderr",
     "output_type": "stream",
     "text": [
      "/home/balakrishnan/.local/lib/python3.10/site-packages/sklearn/svm/_base.py:299: ConvergenceWarning: Solver terminated early (max_iter=10000).  Consider pre-processing your data with StandardScaler or MinMaxScaler.\n",
      "  warnings.warn(\n"
     ]
    },
    {
     "name": "stdout",
     "output_type": "stream",
     "text": [
      "[CV 4/5] END ..............C=100.0, gamma=scale;, score=0.846 total time=  33.8s\n"
     ]
    },
    {
     "name": "stderr",
     "output_type": "stream",
     "text": [
      "/home/balakrishnan/.local/lib/python3.10/site-packages/sklearn/svm/_base.py:299: ConvergenceWarning: Solver terminated early (max_iter=10000).  Consider pre-processing your data with StandardScaler or MinMaxScaler.\n",
      "  warnings.warn(\n",
      "/home/balakrishnan/.local/lib/python3.10/site-packages/sklearn/svm/_base.py:299: ConvergenceWarning: Solver terminated early (max_iter=10000).  Consider pre-processing your data with StandardScaler or MinMaxScaler.\n",
      "  warnings.warn(\n"
     ]
    },
    {
     "name": "stdout",
     "output_type": "stream",
     "text": [
      "[CV 5/5] END ..............C=100.0, gamma=scale;, score=0.872 total time=  36.6s\n",
      "[CV 2/5] END ...............C=100.0, gamma=auto;, score=1.000 total time=  27.7s\n",
      "[CV 1/5] END ...............C=100.0, gamma=auto;, score=1.000 total time=  28.1s\n"
     ]
    },
    {
     "name": "stderr",
     "output_type": "stream",
     "text": [
      "/home/balakrishnan/.local/lib/python3.10/site-packages/sklearn/svm/_base.py:299: ConvergenceWarning: Solver terminated early (max_iter=10000).  Consider pre-processing your data with StandardScaler or MinMaxScaler.\n",
      "  warnings.warn(\n",
      "/home/balakrishnan/.local/lib/python3.10/site-packages/sklearn/svm/_base.py:299: ConvergenceWarning: Solver terminated early (max_iter=10000).  Consider pre-processing your data with StandardScaler or MinMaxScaler.\n",
      "  warnings.warn(\n"
     ]
    },
    {
     "name": "stdout",
     "output_type": "stream",
     "text": [
      "[CV 3/5] END ...............C=100.0, gamma=auto;, score=1.000 total time=  22.4s\n",
      "[CV 4/5] END ...............C=100.0, gamma=auto;, score=1.000 total time=  18.6s\n"
     ]
    },
    {
     "name": "stderr",
     "output_type": "stream",
     "text": [
      "/home/balakrishnan/.local/lib/python3.10/site-packages/sklearn/svm/_base.py:299: ConvergenceWarning: Solver terminated early (max_iter=10000).  Consider pre-processing your data with StandardScaler or MinMaxScaler.\n",
      "  warnings.warn(\n"
     ]
    },
    {
     "name": "stdout",
     "output_type": "stream",
     "text": [
      "[CV 5/5] END ...............C=100.0, gamma=auto;, score=1.000 total time=  16.0s\n"
     ]
    },
    {
     "name": "stderr",
     "output_type": "stream",
     "text": [
      "/home/balakrishnan/.local/lib/python3.10/site-packages/sklearn/svm/_base.py:299: ConvergenceWarning: Solver terminated early (max_iter=10000).  Consider pre-processing your data with StandardScaler or MinMaxScaler.\n",
      "  warnings.warn(\n",
      "/home/balakrishnan/.local/lib/python3.10/site-packages/sklearn/svm/_base.py:299: ConvergenceWarning: Solver terminated early (max_iter=10000).  Consider pre-processing your data with StandardScaler or MinMaxScaler.\n",
      "  warnings.warn(\n"
     ]
    },
    {
     "name": "stdout",
     "output_type": "stream",
     "text": [
      "[CV 1/5] END .............C=1000.0, gamma=1e-05;, score=0.493 total time=  21.6s\n",
      "[CV 2/5] END .............C=1000.0, gamma=1e-05;, score=0.491 total time=  21.7s\n"
     ]
    },
    {
     "name": "stderr",
     "output_type": "stream",
     "text": [
      "/home/balakrishnan/.local/lib/python3.10/site-packages/sklearn/svm/_base.py:299: ConvergenceWarning: Solver terminated early (max_iter=10000).  Consider pre-processing your data with StandardScaler or MinMaxScaler.\n",
      "  warnings.warn(\n",
      "/home/balakrishnan/.local/lib/python3.10/site-packages/sklearn/svm/_base.py:299: ConvergenceWarning: Solver terminated early (max_iter=10000).  Consider pre-processing your data with StandardScaler or MinMaxScaler.\n",
      "  warnings.warn(\n",
      "/home/balakrishnan/.local/lib/python3.10/site-packages/sklearn/svm/_base.py:299: ConvergenceWarning: Solver terminated early (max_iter=10000).  Consider pre-processing your data with StandardScaler or MinMaxScaler.\n",
      "  warnings.warn(\n"
     ]
    },
    {
     "name": "stdout",
     "output_type": "stream",
     "text": [
      "[CV 3/5] END .............C=1000.0, gamma=1e-05;, score=0.486 total time=  15.9s\n",
      "[CV 4/5] END .............C=1000.0, gamma=1e-05;, score=0.471 total time=  15.8s\n",
      "[CV 5/5] END .............C=1000.0, gamma=1e-05;, score=0.460 total time=  15.4s\n"
     ]
    },
    {
     "name": "stderr",
     "output_type": "stream",
     "text": [
      "/home/balakrishnan/.local/lib/python3.10/site-packages/sklearn/svm/_base.py:299: ConvergenceWarning: Solver terminated early (max_iter=10000).  Consider pre-processing your data with StandardScaler or MinMaxScaler.\n",
      "  warnings.warn(\n",
      "/home/balakrishnan/.local/lib/python3.10/site-packages/sklearn/svm/_base.py:299: ConvergenceWarning: Solver terminated early (max_iter=10000).  Consider pre-processing your data with StandardScaler or MinMaxScaler.\n",
      "  warnings.warn(\n"
     ]
    },
    {
     "name": "stdout",
     "output_type": "stream",
     "text": [
      "[CV 1/5] END ............C=1000.0, gamma=0.0001;, score=0.542 total time=  13.8s\n",
      "[CV 2/5] END ............C=1000.0, gamma=0.0001;, score=0.556 total time=  13.8s\n"
     ]
    },
    {
     "name": "stderr",
     "output_type": "stream",
     "text": [
      "/home/balakrishnan/.local/lib/python3.10/site-packages/sklearn/svm/_base.py:299: ConvergenceWarning: Solver terminated early (max_iter=10000).  Consider pre-processing your data with StandardScaler or MinMaxScaler.\n",
      "  warnings.warn(\n",
      "/home/balakrishnan/.local/lib/python3.10/site-packages/sklearn/svm/_base.py:299: ConvergenceWarning: Solver terminated early (max_iter=10000).  Consider pre-processing your data with StandardScaler or MinMaxScaler.\n",
      "  warnings.warn(\n",
      "/home/balakrishnan/.local/lib/python3.10/site-packages/sklearn/svm/_base.py:299: ConvergenceWarning: Solver terminated early (max_iter=10000).  Consider pre-processing your data with StandardScaler or MinMaxScaler.\n",
      "  warnings.warn(\n"
     ]
    },
    {
     "name": "stdout",
     "output_type": "stream",
     "text": [
      "[CV 3/5] END ............C=1000.0, gamma=0.0001;, score=0.583 total time=  12.8s\n",
      "[CV 4/5] END ............C=1000.0, gamma=0.0001;, score=0.572 total time=  12.7s\n",
      "[CV 5/5] END ............C=1000.0, gamma=0.0001;, score=0.585 total time=  12.4s\n"
     ]
    },
    {
     "name": "stderr",
     "output_type": "stream",
     "text": [
      "/home/balakrishnan/.local/lib/python3.10/site-packages/sklearn/svm/_base.py:299: ConvergenceWarning: Solver terminated early (max_iter=10000).  Consider pre-processing your data with StandardScaler or MinMaxScaler.\n",
      "  warnings.warn(\n",
      "/home/balakrishnan/.local/lib/python3.10/site-packages/sklearn/svm/_base.py:299: ConvergenceWarning: Solver terminated early (max_iter=10000).  Consider pre-processing your data with StandardScaler or MinMaxScaler.\n",
      "  warnings.warn(\n"
     ]
    },
    {
     "name": "stdout",
     "output_type": "stream",
     "text": [
      "[CV 1/5] END .............C=1000.0, gamma=0.001;, score=0.502 total time=  10.1s\n",
      "[CV 2/5] END .............C=1000.0, gamma=0.001;, score=0.497 total time=  10.0s\n"
     ]
    },
    {
     "name": "stderr",
     "output_type": "stream",
     "text": [
      "/home/balakrishnan/.local/lib/python3.10/site-packages/sklearn/svm/_base.py:299: ConvergenceWarning: Solver terminated early (max_iter=10000).  Consider pre-processing your data with StandardScaler or MinMaxScaler.\n",
      "  warnings.warn(\n",
      "/home/balakrishnan/.local/lib/python3.10/site-packages/sklearn/svm/_base.py:299: ConvergenceWarning: Solver terminated early (max_iter=10000).  Consider pre-processing your data with StandardScaler or MinMaxScaler.\n",
      "  warnings.warn(\n",
      "/home/balakrishnan/.local/lib/python3.10/site-packages/sklearn/svm/_base.py:299: ConvergenceWarning: Solver terminated early (max_iter=10000).  Consider pre-processing your data with StandardScaler or MinMaxScaler.\n",
      "  warnings.warn(\n"
     ]
    },
    {
     "name": "stdout",
     "output_type": "stream",
     "text": [
      "[CV 3/5] END .............C=1000.0, gamma=0.001;, score=0.498 total time=   9.7s\n",
      "[CV 4/5] END .............C=1000.0, gamma=0.001;, score=0.483 total time=   9.8s\n",
      "[CV 5/5] END .............C=1000.0, gamma=0.001;, score=0.497 total time=   9.7s\n"
     ]
    },
    {
     "name": "stderr",
     "output_type": "stream",
     "text": [
      "/home/balakrishnan/.local/lib/python3.10/site-packages/sklearn/svm/_base.py:299: ConvergenceWarning: Solver terminated early (max_iter=10000).  Consider pre-processing your data with StandardScaler or MinMaxScaler.\n",
      "  warnings.warn(\n",
      "/home/balakrishnan/.local/lib/python3.10/site-packages/sklearn/svm/_base.py:299: ConvergenceWarning: Solver terminated early (max_iter=10000).  Consider pre-processing your data with StandardScaler or MinMaxScaler.\n",
      "  warnings.warn(\n"
     ]
    },
    {
     "name": "stdout",
     "output_type": "stream",
     "text": [
      "[CV 1/5] END ..............C=1000.0, gamma=0.01;, score=0.877 total time=   6.7s\n",
      "[CV 2/5] END ..............C=1000.0, gamma=0.01;, score=0.799 total time=   6.6s\n"
     ]
    },
    {
     "name": "stderr",
     "output_type": "stream",
     "text": [
      "/home/balakrishnan/.local/lib/python3.10/site-packages/sklearn/svm/_base.py:299: ConvergenceWarning: Solver terminated early (max_iter=10000).  Consider pre-processing your data with StandardScaler or MinMaxScaler.\n",
      "  warnings.warn(\n",
      "/home/balakrishnan/.local/lib/python3.10/site-packages/sklearn/svm/_base.py:299: ConvergenceWarning: Solver terminated early (max_iter=10000).  Consider pre-processing your data with StandardScaler or MinMaxScaler.\n",
      "  warnings.warn(\n"
     ]
    },
    {
     "name": "stdout",
     "output_type": "stream",
     "text": [
      "[CV 3/5] END ..............C=1000.0, gamma=0.01;, score=0.883 total time=   6.9s\n"
     ]
    },
    {
     "name": "stderr",
     "output_type": "stream",
     "text": [
      "/home/balakrishnan/.local/lib/python3.10/site-packages/sklearn/svm/_base.py:299: ConvergenceWarning: Solver terminated early (max_iter=10000).  Consider pre-processing your data with StandardScaler or MinMaxScaler.\n",
      "  warnings.warn(\n"
     ]
    },
    {
     "name": "stdout",
     "output_type": "stream",
     "text": [
      "[CV 4/5] END ..............C=1000.0, gamma=0.01;, score=0.850 total time=   7.1s\n"
     ]
    },
    {
     "name": "stderr",
     "output_type": "stream",
     "text": [
      "/home/balakrishnan/.local/lib/python3.10/site-packages/sklearn/svm/_base.py:299: ConvergenceWarning: Solver terminated early (max_iter=10000).  Consider pre-processing your data with StandardScaler or MinMaxScaler.\n",
      "  warnings.warn(\n",
      "/home/balakrishnan/.local/lib/python3.10/site-packages/sklearn/svm/_base.py:299: ConvergenceWarning: Solver terminated early (max_iter=10000).  Consider pre-processing your data with StandardScaler or MinMaxScaler.\n",
      "  warnings.warn(\n"
     ]
    },
    {
     "name": "stdout",
     "output_type": "stream",
     "text": [
      "[CV 5/5] END ..............C=1000.0, gamma=0.01;, score=0.807 total time=   7.0s\n",
      "[CV 1/5] END ...............C=1000.0, gamma=0.1;, score=1.000 total time=   5.9s\n",
      "[CV 2/5] END ...............C=1000.0, gamma=0.1;, score=1.000 total time=   5.9s\n"
     ]
    },
    {
     "name": "stderr",
     "output_type": "stream",
     "text": [
      "/home/balakrishnan/.local/lib/python3.10/site-packages/sklearn/svm/_base.py:299: ConvergenceWarning: Solver terminated early (max_iter=10000).  Consider pre-processing your data with StandardScaler or MinMaxScaler.\n",
      "  warnings.warn(\n"
     ]
    },
    {
     "name": "stdout",
     "output_type": "stream",
     "text": [
      "[CV 3/5] END ...............C=1000.0, gamma=0.1;, score=1.000 total time=   5.6s\n"
     ]
    },
    {
     "name": "stderr",
     "output_type": "stream",
     "text": [
      "/home/balakrishnan/.local/lib/python3.10/site-packages/sklearn/svm/_base.py:299: ConvergenceWarning: Solver terminated early (max_iter=10000).  Consider pre-processing your data with StandardScaler or MinMaxScaler.\n",
      "  warnings.warn(\n",
      "/home/balakrishnan/.local/lib/python3.10/site-packages/sklearn/svm/_base.py:299: ConvergenceWarning: Solver terminated early (max_iter=10000).  Consider pre-processing your data with StandardScaler or MinMaxScaler.\n",
      "  warnings.warn(\n"
     ]
    },
    {
     "name": "stdout",
     "output_type": "stream",
     "text": [
      "[CV 4/5] END ...............C=1000.0, gamma=0.1;, score=1.000 total time=   5.4s\n",
      "[CV 5/5] END ...............C=1000.0, gamma=0.1;, score=1.000 total time=   5.3s\n"
     ]
    },
    {
     "name": "stderr",
     "output_type": "stream",
     "text": [
      "/home/balakrishnan/.local/lib/python3.10/site-packages/sklearn/svm/_base.py:299: ConvergenceWarning: Solver terminated early (max_iter=10000).  Consider pre-processing your data with StandardScaler or MinMaxScaler.\n",
      "  warnings.warn(\n",
      "/home/balakrishnan/.local/lib/python3.10/site-packages/sklearn/svm/_base.py:299: ConvergenceWarning: Solver terminated early (max_iter=10000).  Consider pre-processing your data with StandardScaler or MinMaxScaler.\n",
      "  warnings.warn(\n"
     ]
    },
    {
     "name": "stdout",
     "output_type": "stream",
     "text": [
      "[CV 2/5] END ...............C=1000.0, gamma=1.0;, score=1.000 total time=   9.4s\n",
      "[CV 1/5] END ...............C=1000.0, gamma=1.0;, score=1.000 total time=   9.5s\n"
     ]
    },
    {
     "name": "stderr",
     "output_type": "stream",
     "text": [
      "/home/balakrishnan/.local/lib/python3.10/site-packages/sklearn/svm/_base.py:299: ConvergenceWarning: Solver terminated early (max_iter=10000).  Consider pre-processing your data with StandardScaler or MinMaxScaler.\n",
      "  warnings.warn(\n",
      "/home/balakrishnan/.local/lib/python3.10/site-packages/sklearn/svm/_base.py:299: ConvergenceWarning: Solver terminated early (max_iter=10000).  Consider pre-processing your data with StandardScaler or MinMaxScaler.\n",
      "  warnings.warn(\n"
     ]
    },
    {
     "name": "stdout",
     "output_type": "stream",
     "text": [
      "[CV 3/5] END ...............C=1000.0, gamma=1.0;, score=1.000 total time=   9.2s\n"
     ]
    },
    {
     "name": "stderr",
     "output_type": "stream",
     "text": [
      "/home/balakrishnan/.local/lib/python3.10/site-packages/sklearn/svm/_base.py:299: ConvergenceWarning: Solver terminated early (max_iter=10000).  Consider pre-processing your data with StandardScaler or MinMaxScaler.\n",
      "  warnings.warn(\n"
     ]
    },
    {
     "name": "stdout",
     "output_type": "stream",
     "text": [
      "[CV 4/5] END ...............C=1000.0, gamma=1.0;, score=1.000 total time=   9.3s\n",
      "[CV 5/5] END ...............C=1000.0, gamma=1.0;, score=1.000 total time=   9.3s\n"
     ]
    },
    {
     "name": "stderr",
     "output_type": "stream",
     "text": [
      "/home/balakrishnan/.local/lib/python3.10/site-packages/sklearn/svm/_base.py:299: ConvergenceWarning: Solver terminated early (max_iter=10000).  Consider pre-processing your data with StandardScaler or MinMaxScaler.\n",
      "  warnings.warn(\n",
      "/home/balakrishnan/.local/lib/python3.10/site-packages/sklearn/svm/_base.py:299: ConvergenceWarning: Solver terminated early (max_iter=10000).  Consider pre-processing your data with StandardScaler or MinMaxScaler.\n",
      "  warnings.warn(\n"
     ]
    },
    {
     "name": "stdout",
     "output_type": "stream",
     "text": [
      "[CV 1/5] END ..............C=1000.0, gamma=10.0;, score=0.838 total time=  12.2s\n",
      "[CV 2/5] END ..............C=1000.0, gamma=10.0;, score=0.834 total time=  12.6s\n"
     ]
    },
    {
     "name": "stderr",
     "output_type": "stream",
     "text": [
      "/home/balakrishnan/.local/lib/python3.10/site-packages/sklearn/svm/_base.py:299: ConvergenceWarning: Solver terminated early (max_iter=10000).  Consider pre-processing your data with StandardScaler or MinMaxScaler.\n",
      "  warnings.warn(\n",
      "/home/balakrishnan/.local/lib/python3.10/site-packages/sklearn/svm/_base.py:299: ConvergenceWarning: Solver terminated early (max_iter=10000).  Consider pre-processing your data with StandardScaler or MinMaxScaler.\n",
      "  warnings.warn(\n",
      "/home/balakrishnan/.local/lib/python3.10/site-packages/sklearn/svm/_base.py:299: ConvergenceWarning: Solver terminated early (max_iter=10000).  Consider pre-processing your data with StandardScaler or MinMaxScaler.\n",
      "  warnings.warn(\n"
     ]
    },
    {
     "name": "stdout",
     "output_type": "stream",
     "text": [
      "[CV 3/5] END ..............C=1000.0, gamma=10.0;, score=0.852 total time=  12.4s\n",
      "[CV 4/5] END ..............C=1000.0, gamma=10.0;, score=0.833 total time=  12.2s\n",
      "[CV 5/5] END ..............C=1000.0, gamma=10.0;, score=0.843 total time=  12.1s\n"
     ]
    },
    {
     "name": "stderr",
     "output_type": "stream",
     "text": [
      "/home/balakrishnan/.local/lib/python3.10/site-packages/sklearn/svm/_base.py:299: ConvergenceWarning: Solver terminated early (max_iter=10000).  Consider pre-processing your data with StandardScaler or MinMaxScaler.\n",
      "  warnings.warn(\n",
      "/home/balakrishnan/.local/lib/python3.10/site-packages/sklearn/svm/_base.py:299: ConvergenceWarning: Solver terminated early (max_iter=10000).  Consider pre-processing your data with StandardScaler or MinMaxScaler.\n",
      "  warnings.warn(\n"
     ]
    },
    {
     "name": "stdout",
     "output_type": "stream",
     "text": [
      "[CV 1/5] END .............C=1000.0, gamma=100.0;, score=0.620 total time=  11.1s\n"
     ]
    },
    {
     "name": "stderr",
     "output_type": "stream",
     "text": [
      "/home/balakrishnan/.local/lib/python3.10/site-packages/sklearn/svm/_base.py:299: ConvergenceWarning: Solver terminated early (max_iter=10000).  Consider pre-processing your data with StandardScaler or MinMaxScaler.\n",
      "  warnings.warn(\n"
     ]
    },
    {
     "name": "stdout",
     "output_type": "stream",
     "text": [
      "[CV 2/5] END .............C=1000.0, gamma=100.0;, score=0.623 total time=  11.2s\n"
     ]
    },
    {
     "name": "stderr",
     "output_type": "stream",
     "text": [
      "/home/balakrishnan/.local/lib/python3.10/site-packages/sklearn/svm/_base.py:299: ConvergenceWarning: Solver terminated early (max_iter=10000).  Consider pre-processing your data with StandardScaler or MinMaxScaler.\n",
      "  warnings.warn(\n",
      "/home/balakrishnan/.local/lib/python3.10/site-packages/sklearn/svm/_base.py:299: ConvergenceWarning: Solver terminated early (max_iter=10000).  Consider pre-processing your data with StandardScaler or MinMaxScaler.\n",
      "  warnings.warn(\n"
     ]
    },
    {
     "name": "stdout",
     "output_type": "stream",
     "text": [
      "[CV 3/5] END .............C=1000.0, gamma=100.0;, score=0.621 total time=  11.3s\n",
      "[CV 4/5] END .............C=1000.0, gamma=100.0;, score=0.616 total time=  11.7s\n",
      "[CV 5/5] END .............C=1000.0, gamma=100.0;, score=0.616 total time=  11.6s\n"
     ]
    },
    {
     "name": "stderr",
     "output_type": "stream",
     "text": [
      "/home/balakrishnan/.local/lib/python3.10/site-packages/sklearn/svm/_base.py:299: ConvergenceWarning: Solver terminated early (max_iter=10000).  Consider pre-processing your data with StandardScaler or MinMaxScaler.\n",
      "  warnings.warn(\n",
      "/home/balakrishnan/.local/lib/python3.10/site-packages/sklearn/svm/_base.py:299: ConvergenceWarning: Solver terminated early (max_iter=10000).  Consider pre-processing your data with StandardScaler or MinMaxScaler.\n",
      "  warnings.warn(\n"
     ]
    },
    {
     "name": "stdout",
     "output_type": "stream",
     "text": [
      "[CV 1/5] END ............C=1000.0, gamma=1000.0;, score=0.531 total time=  27.3s\n"
     ]
    },
    {
     "name": "stderr",
     "output_type": "stream",
     "text": [
      "/home/balakrishnan/.local/lib/python3.10/site-packages/sklearn/svm/_base.py:299: ConvergenceWarning: Solver terminated early (max_iter=10000).  Consider pre-processing your data with StandardScaler or MinMaxScaler.\n",
      "  warnings.warn(\n"
     ]
    },
    {
     "name": "stdout",
     "output_type": "stream",
     "text": [
      "[CV 2/5] END ............C=1000.0, gamma=1000.0;, score=0.532 total time=  28.5s\n"
     ]
    },
    {
     "name": "stderr",
     "output_type": "stream",
     "text": [
      "/home/balakrishnan/.local/lib/python3.10/site-packages/sklearn/svm/_base.py:299: ConvergenceWarning: Solver terminated early (max_iter=10000).  Consider pre-processing your data with StandardScaler or MinMaxScaler.\n",
      "  warnings.warn(\n",
      "/home/balakrishnan/.local/lib/python3.10/site-packages/sklearn/svm/_base.py:299: ConvergenceWarning: Solver terminated early (max_iter=10000).  Consider pre-processing your data with StandardScaler or MinMaxScaler.\n",
      "  warnings.warn(\n"
     ]
    },
    {
     "name": "stdout",
     "output_type": "stream",
     "text": [
      "[CV 3/5] END ............C=1000.0, gamma=1000.0;, score=0.529 total time=  37.9s\n",
      "[CV 4/5] END ............C=1000.0, gamma=1000.0;, score=0.525 total time=  43.0s\n",
      "[CV 5/5] END ............C=1000.0, gamma=1000.0;, score=0.527 total time=  44.6s\n"
     ]
    },
    {
     "name": "stderr",
     "output_type": "stream",
     "text": [
      "/home/balakrishnan/.local/lib/python3.10/site-packages/sklearn/svm/_base.py:299: ConvergenceWarning: Solver terminated early (max_iter=10000).  Consider pre-processing your data with StandardScaler or MinMaxScaler.\n",
      "  warnings.warn(\n"
     ]
    },
    {
     "name": "stdout",
     "output_type": "stream",
     "text": [
      "[CV 2/5] END ...........C=1000.0, gamma=10000.0;, score=0.502 total time=  35.9s\n",
      "[CV 1/5] END ...........C=1000.0, gamma=10000.0;, score=0.505 total time=  37.8s\n"
     ]
    },
    {
     "name": "stderr",
     "output_type": "stream",
     "text": [
      "/home/balakrishnan/.local/lib/python3.10/site-packages/sklearn/svm/_base.py:299: ConvergenceWarning: Solver terminated early (max_iter=10000).  Consider pre-processing your data with StandardScaler or MinMaxScaler.\n",
      "  warnings.warn(\n",
      "/home/balakrishnan/.local/lib/python3.10/site-packages/sklearn/svm/_base.py:299: ConvergenceWarning: Solver terminated early (max_iter=10000).  Consider pre-processing your data with StandardScaler or MinMaxScaler.\n",
      "  warnings.warn(\n",
      "/home/balakrishnan/.local/lib/python3.10/site-packages/sklearn/svm/_base.py:299: ConvergenceWarning: Solver terminated early (max_iter=10000).  Consider pre-processing your data with StandardScaler or MinMaxScaler.\n",
      "  warnings.warn(\n"
     ]
    },
    {
     "name": "stdout",
     "output_type": "stream",
     "text": [
      "[CV 3/5] END ...........C=1000.0, gamma=10000.0;, score=0.507 total time=  28.0s\n",
      "[CV 4/5] END ...........C=1000.0, gamma=10000.0;, score=0.506 total time=  23.1s\n",
      "[CV 5/5] END ...........C=1000.0, gamma=10000.0;, score=0.501 total time=  21.6s\n"
     ]
    },
    {
     "name": "stderr",
     "output_type": "stream",
     "text": [
      "/home/balakrishnan/.local/lib/python3.10/site-packages/sklearn/svm/_base.py:299: ConvergenceWarning: Solver terminated early (max_iter=10000).  Consider pre-processing your data with StandardScaler or MinMaxScaler.\n",
      "  warnings.warn(\n",
      "/home/balakrishnan/.local/lib/python3.10/site-packages/sklearn/svm/_base.py:299: ConvergenceWarning: Solver terminated early (max_iter=10000).  Consider pre-processing your data with StandardScaler or MinMaxScaler.\n",
      "  warnings.warn(\n"
     ]
    },
    {
     "name": "stdout",
     "output_type": "stream",
     "text": [
      "[CV 1/5] END ..........C=1000.0, gamma=100000.0;, score=0.500 total time=  13.9s\n",
      "[CV 2/5] END ..........C=1000.0, gamma=100000.0;, score=0.500 total time=  13.9s\n"
     ]
    },
    {
     "name": "stderr",
     "output_type": "stream",
     "text": [
      "/home/balakrishnan/.local/lib/python3.10/site-packages/sklearn/svm/_base.py:299: ConvergenceWarning: Solver terminated early (max_iter=10000).  Consider pre-processing your data with StandardScaler or MinMaxScaler.\n",
      "  warnings.warn(\n",
      "/home/balakrishnan/.local/lib/python3.10/site-packages/sklearn/svm/_base.py:299: ConvergenceWarning: Solver terminated early (max_iter=10000).  Consider pre-processing your data with StandardScaler or MinMaxScaler.\n",
      "  warnings.warn(\n",
      "/home/balakrishnan/.local/lib/python3.10/site-packages/sklearn/svm/_base.py:299: ConvergenceWarning: Solver terminated early (max_iter=10000).  Consider pre-processing your data with StandardScaler or MinMaxScaler.\n",
      "  warnings.warn(\n"
     ]
    },
    {
     "name": "stdout",
     "output_type": "stream",
     "text": [
      "[CV 3/5] END ..........C=1000.0, gamma=100000.0;, score=0.500 total time=  13.3s\n",
      "[CV 4/5] END ..........C=1000.0, gamma=100000.0;, score=0.500 total time=  13.5s\n",
      "[CV 5/5] END ..........C=1000.0, gamma=100000.0;, score=0.500 total time=  13.5s\n"
     ]
    },
    {
     "name": "stderr",
     "output_type": "stream",
     "text": [
      "/home/balakrishnan/.local/lib/python3.10/site-packages/sklearn/svm/_base.py:299: ConvergenceWarning: Solver terminated early (max_iter=10000).  Consider pre-processing your data with StandardScaler or MinMaxScaler.\n",
      "  warnings.warn(\n",
      "/home/balakrishnan/.local/lib/python3.10/site-packages/sklearn/svm/_base.py:299: ConvergenceWarning: Solver terminated early (max_iter=10000).  Consider pre-processing your data with StandardScaler or MinMaxScaler.\n",
      "  warnings.warn(\n"
     ]
    },
    {
     "name": "stdout",
     "output_type": "stream",
     "text": [
      "[CV 1/5] END .............C=1000.0, gamma=scale;, score=0.807 total time=   8.8s\n",
      "[CV 2/5] END .............C=1000.0, gamma=scale;, score=0.775 total time=   8.8s\n"
     ]
    },
    {
     "name": "stderr",
     "output_type": "stream",
     "text": [
      "/home/balakrishnan/.local/lib/python3.10/site-packages/sklearn/svm/_base.py:299: ConvergenceWarning: Solver terminated early (max_iter=10000).  Consider pre-processing your data with StandardScaler or MinMaxScaler.\n",
      "  warnings.warn(\n"
     ]
    },
    {
     "name": "stdout",
     "output_type": "stream",
     "text": [
      "[CV 3/5] END .............C=1000.0, gamma=scale;, score=0.780 total time=   8.9s\n"
     ]
    },
    {
     "name": "stderr",
     "output_type": "stream",
     "text": [
      "/home/balakrishnan/.local/lib/python3.10/site-packages/sklearn/svm/_base.py:299: ConvergenceWarning: Solver terminated early (max_iter=10000).  Consider pre-processing your data with StandardScaler or MinMaxScaler.\n",
      "  warnings.warn(\n",
      "/home/balakrishnan/.local/lib/python3.10/site-packages/sklearn/svm/_base.py:299: ConvergenceWarning: Solver terminated early (max_iter=10000).  Consider pre-processing your data with StandardScaler or MinMaxScaler.\n",
      "  warnings.warn(\n"
     ]
    },
    {
     "name": "stdout",
     "output_type": "stream",
     "text": [
      "[CV 4/5] END .............C=1000.0, gamma=scale;, score=0.785 total time=   8.5s\n",
      "[CV 5/5] END .............C=1000.0, gamma=scale;, score=0.742 total time=   8.7s\n"
     ]
    },
    {
     "name": "stderr",
     "output_type": "stream",
     "text": [
      "/home/balakrishnan/.local/lib/python3.10/site-packages/sklearn/svm/_base.py:299: ConvergenceWarning: Solver terminated early (max_iter=10000).  Consider pre-processing your data with StandardScaler or MinMaxScaler.\n",
      "  warnings.warn(\n",
      "/home/balakrishnan/.local/lib/python3.10/site-packages/sklearn/svm/_base.py:299: ConvergenceWarning: Solver terminated early (max_iter=10000).  Consider pre-processing your data with StandardScaler or MinMaxScaler.\n",
      "  warnings.warn(\n"
     ]
    },
    {
     "name": "stdout",
     "output_type": "stream",
     "text": [
      "[CV 1/5] END ..............C=1000.0, gamma=auto;, score=1.000 total time=   6.7s\n",
      "[CV 2/5] END ..............C=1000.0, gamma=auto;, score=1.000 total time=   6.8s\n"
     ]
    },
    {
     "name": "stderr",
     "output_type": "stream",
     "text": [
      "/home/balakrishnan/.local/lib/python3.10/site-packages/sklearn/svm/_base.py:299: ConvergenceWarning: Solver terminated early (max_iter=10000).  Consider pre-processing your data with StandardScaler or MinMaxScaler.\n",
      "  warnings.warn(\n"
     ]
    },
    {
     "name": "stdout",
     "output_type": "stream",
     "text": [
      "[CV 3/5] END ..............C=1000.0, gamma=auto;, score=1.000 total time=   6.4s\n"
     ]
    },
    {
     "name": "stderr",
     "output_type": "stream",
     "text": [
      "/home/balakrishnan/.local/lib/python3.10/site-packages/sklearn/svm/_base.py:299: ConvergenceWarning: Solver terminated early (max_iter=10000).  Consider pre-processing your data with StandardScaler or MinMaxScaler.\n",
      "  warnings.warn(\n",
      "/home/balakrishnan/.local/lib/python3.10/site-packages/sklearn/svm/_base.py:299: ConvergenceWarning: Solver terminated early (max_iter=10000).  Consider pre-processing your data with StandardScaler or MinMaxScaler.\n",
      "  warnings.warn(\n"
     ]
    },
    {
     "name": "stdout",
     "output_type": "stream",
     "text": [
      "[CV 4/5] END ..............C=1000.0, gamma=auto;, score=1.000 total time=   6.2s\n",
      "[CV 5/5] END ..............C=1000.0, gamma=auto;, score=1.000 total time=   6.3s\n"
     ]
    },
    {
     "name": "stderr",
     "output_type": "stream",
     "text": [
      "/home/balakrishnan/.local/lib/python3.10/site-packages/sklearn/svm/_base.py:299: ConvergenceWarning: Solver terminated early (max_iter=10000).  Consider pre-processing your data with StandardScaler or MinMaxScaler.\n",
      "  warnings.warn(\n",
      "/home/balakrishnan/.local/lib/python3.10/site-packages/sklearn/svm/_base.py:299: ConvergenceWarning: Solver terminated early (max_iter=10000).  Consider pre-processing your data with StandardScaler or MinMaxScaler.\n",
      "  warnings.warn(\n"
     ]
    },
    {
     "name": "stdout",
     "output_type": "stream",
     "text": [
      "[CV 1/5] END ............C=10000.0, gamma=1e-05;, score=0.509 total time=  11.8s\n",
      "[CV 2/5] END ............C=10000.0, gamma=1e-05;, score=0.516 total time=  11.7s\n"
     ]
    },
    {
     "name": "stderr",
     "output_type": "stream",
     "text": [
      "/home/balakrishnan/.local/lib/python3.10/site-packages/sklearn/svm/_base.py:299: ConvergenceWarning: Solver terminated early (max_iter=10000).  Consider pre-processing your data with StandardScaler or MinMaxScaler.\n",
      "  warnings.warn(\n",
      "/home/balakrishnan/.local/lib/python3.10/site-packages/sklearn/svm/_base.py:299: ConvergenceWarning: Solver terminated early (max_iter=10000).  Consider pre-processing your data with StandardScaler or MinMaxScaler.\n",
      "  warnings.warn(\n",
      "/home/balakrishnan/.local/lib/python3.10/site-packages/sklearn/svm/_base.py:299: ConvergenceWarning: Solver terminated early (max_iter=10000).  Consider pre-processing your data with StandardScaler or MinMaxScaler.\n",
      "  warnings.warn(\n"
     ]
    },
    {
     "name": "stdout",
     "output_type": "stream",
     "text": [
      "[CV 3/5] END ............C=10000.0, gamma=1e-05;, score=0.514 total time=  11.4s\n",
      "[CV 4/5] END ............C=10000.0, gamma=1e-05;, score=0.510 total time=  11.1s\n",
      "[CV 5/5] END ............C=10000.0, gamma=1e-05;, score=0.526 total time=  11.2s\n"
     ]
    },
    {
     "name": "stderr",
     "output_type": "stream",
     "text": [
      "/home/balakrishnan/.local/lib/python3.10/site-packages/sklearn/svm/_base.py:299: ConvergenceWarning: Solver terminated early (max_iter=10000).  Consider pre-processing your data with StandardScaler or MinMaxScaler.\n",
      "  warnings.warn(\n",
      "/home/balakrishnan/.local/lib/python3.10/site-packages/sklearn/svm/_base.py:299: ConvergenceWarning: Solver terminated early (max_iter=10000).  Consider pre-processing your data with StandardScaler or MinMaxScaler.\n",
      "  warnings.warn(\n"
     ]
    },
    {
     "name": "stdout",
     "output_type": "stream",
     "text": [
      "[CV 1/5] END ...........C=10000.0, gamma=0.0001;, score=0.496 total time=   9.1s\n",
      "[CV 2/5] END ...........C=10000.0, gamma=0.0001;, score=0.513 total time=   9.3s\n"
     ]
    },
    {
     "name": "stderr",
     "output_type": "stream",
     "text": [
      "/home/balakrishnan/.local/lib/python3.10/site-packages/sklearn/svm/_base.py:299: ConvergenceWarning: Solver terminated early (max_iter=10000).  Consider pre-processing your data with StandardScaler or MinMaxScaler.\n",
      "  warnings.warn(\n",
      "/home/balakrishnan/.local/lib/python3.10/site-packages/sklearn/svm/_base.py:299: ConvergenceWarning: Solver terminated early (max_iter=10000).  Consider pre-processing your data with StandardScaler or MinMaxScaler.\n",
      "  warnings.warn(\n"
     ]
    },
    {
     "name": "stdout",
     "output_type": "stream",
     "text": [
      "[CV 3/5] END ...........C=10000.0, gamma=0.0001;, score=0.488 total time=   9.3s\n"
     ]
    },
    {
     "name": "stderr",
     "output_type": "stream",
     "text": [
      "/home/balakrishnan/.local/lib/python3.10/site-packages/sklearn/svm/_base.py:299: ConvergenceWarning: Solver terminated early (max_iter=10000).  Consider pre-processing your data with StandardScaler or MinMaxScaler.\n",
      "  warnings.warn(\n"
     ]
    },
    {
     "name": "stdout",
     "output_type": "stream",
     "text": [
      "[CV 4/5] END ...........C=10000.0, gamma=0.0001;, score=0.503 total time=   9.3s\n",
      "[CV 5/5] END ...........C=10000.0, gamma=0.0001;, score=0.484 total time=   9.2s\n"
     ]
    },
    {
     "name": "stderr",
     "output_type": "stream",
     "text": [
      "/home/balakrishnan/.local/lib/python3.10/site-packages/sklearn/svm/_base.py:299: ConvergenceWarning: Solver terminated early (max_iter=10000).  Consider pre-processing your data with StandardScaler or MinMaxScaler.\n",
      "  warnings.warn(\n",
      "/home/balakrishnan/.local/lib/python3.10/site-packages/sklearn/svm/_base.py:299: ConvergenceWarning: Solver terminated early (max_iter=10000).  Consider pre-processing your data with StandardScaler or MinMaxScaler.\n",
      "  warnings.warn(\n"
     ]
    },
    {
     "name": "stdout",
     "output_type": "stream",
     "text": [
      "[CV 1/5] END ............C=10000.0, gamma=0.001;, score=0.498 total time=   8.5s\n",
      "[CV 2/5] END ............C=10000.0, gamma=0.001;, score=0.507 total time=   8.3s\n"
     ]
    },
    {
     "name": "stderr",
     "output_type": "stream",
     "text": [
      "/home/balakrishnan/.local/lib/python3.10/site-packages/sklearn/svm/_base.py:299: ConvergenceWarning: Solver terminated early (max_iter=10000).  Consider pre-processing your data with StandardScaler or MinMaxScaler.\n",
      "  warnings.warn(\n",
      "/home/balakrishnan/.local/lib/python3.10/site-packages/sklearn/svm/_base.py:299: ConvergenceWarning: Solver terminated early (max_iter=10000).  Consider pre-processing your data with StandardScaler or MinMaxScaler.\n",
      "  warnings.warn(\n"
     ]
    },
    {
     "name": "stdout",
     "output_type": "stream",
     "text": [
      "[CV 3/5] END ............C=10000.0, gamma=0.001;, score=0.492 total time=   8.2s\n"
     ]
    },
    {
     "name": "stderr",
     "output_type": "stream",
     "text": [
      "/home/balakrishnan/.local/lib/python3.10/site-packages/sklearn/svm/_base.py:299: ConvergenceWarning: Solver terminated early (max_iter=10000).  Consider pre-processing your data with StandardScaler or MinMaxScaler.\n",
      "  warnings.warn(\n"
     ]
    },
    {
     "name": "stdout",
     "output_type": "stream",
     "text": [
      "[CV 4/5] END ............C=10000.0, gamma=0.001;, score=0.498 total time=   8.3s\n",
      "[CV 5/5] END ............C=10000.0, gamma=0.001;, score=0.507 total time=   8.2s\n"
     ]
    },
    {
     "name": "stderr",
     "output_type": "stream",
     "text": [
      "/home/balakrishnan/.local/lib/python3.10/site-packages/sklearn/svm/_base.py:299: ConvergenceWarning: Solver terminated early (max_iter=10000).  Consider pre-processing your data with StandardScaler or MinMaxScaler.\n",
      "  warnings.warn(\n",
      "/home/balakrishnan/.local/lib/python3.10/site-packages/sklearn/svm/_base.py:299: ConvergenceWarning: Solver terminated early (max_iter=10000).  Consider pre-processing your data with StandardScaler or MinMaxScaler.\n",
      "  warnings.warn(\n"
     ]
    },
    {
     "name": "stdout",
     "output_type": "stream",
     "text": [
      "[CV 2/5] END .............C=10000.0, gamma=0.01;, score=0.799 total time=   6.4s\n",
      "[CV 1/5] END .............C=10000.0, gamma=0.01;, score=0.877 total time=   6.6s\n"
     ]
    },
    {
     "name": "stderr",
     "output_type": "stream",
     "text": [
      "/home/balakrishnan/.local/lib/python3.10/site-packages/sklearn/svm/_base.py:299: ConvergenceWarning: Solver terminated early (max_iter=10000).  Consider pre-processing your data with StandardScaler or MinMaxScaler.\n",
      "  warnings.warn(\n"
     ]
    },
    {
     "name": "stdout",
     "output_type": "stream",
     "text": [
      "[CV 3/5] END .............C=10000.0, gamma=0.01;, score=0.883 total time=   6.6s\n"
     ]
    },
    {
     "name": "stderr",
     "output_type": "stream",
     "text": [
      "/home/balakrishnan/.local/lib/python3.10/site-packages/sklearn/svm/_base.py:299: ConvergenceWarning: Solver terminated early (max_iter=10000).  Consider pre-processing your data with StandardScaler or MinMaxScaler.\n",
      "  warnings.warn(\n",
      "/home/balakrishnan/.local/lib/python3.10/site-packages/sklearn/svm/_base.py:299: ConvergenceWarning: Solver terminated early (max_iter=10000).  Consider pre-processing your data with StandardScaler or MinMaxScaler.\n",
      "  warnings.warn(\n"
     ]
    },
    {
     "name": "stdout",
     "output_type": "stream",
     "text": [
      "[CV 4/5] END .............C=10000.0, gamma=0.01;, score=0.850 total time=   6.6s\n"
     ]
    },
    {
     "name": "stderr",
     "output_type": "stream",
     "text": [
      "/home/balakrishnan/.local/lib/python3.10/site-packages/sklearn/svm/_base.py:299: ConvergenceWarning: Solver terminated early (max_iter=10000).  Consider pre-processing your data with StandardScaler or MinMaxScaler.\n",
      "  warnings.warn(\n"
     ]
    },
    {
     "name": "stdout",
     "output_type": "stream",
     "text": [
      "[CV 5/5] END .............C=10000.0, gamma=0.01;, score=0.807 total time=   6.9s\n"
     ]
    },
    {
     "name": "stderr",
     "output_type": "stream",
     "text": [
      "/home/balakrishnan/.local/lib/python3.10/site-packages/sklearn/svm/_base.py:299: ConvergenceWarning: Solver terminated early (max_iter=10000).  Consider pre-processing your data with StandardScaler or MinMaxScaler.\n",
      "  warnings.warn(\n"
     ]
    },
    {
     "name": "stdout",
     "output_type": "stream",
     "text": [
      "[CV 1/5] END ..............C=10000.0, gamma=0.1;, score=1.000 total time=   5.6s\n",
      "[CV 2/5] END ..............C=10000.0, gamma=0.1;, score=1.000 total time=   5.6s\n"
     ]
    },
    {
     "name": "stderr",
     "output_type": "stream",
     "text": [
      "/home/balakrishnan/.local/lib/python3.10/site-packages/sklearn/svm/_base.py:299: ConvergenceWarning: Solver terminated early (max_iter=10000).  Consider pre-processing your data with StandardScaler or MinMaxScaler.\n",
      "  warnings.warn(\n"
     ]
    },
    {
     "name": "stdout",
     "output_type": "stream",
     "text": [
      "[CV 3/5] END ..............C=10000.0, gamma=0.1;, score=1.000 total time=   5.8s\n"
     ]
    },
    {
     "name": "stderr",
     "output_type": "stream",
     "text": [
      "/home/balakrishnan/.local/lib/python3.10/site-packages/sklearn/svm/_base.py:299: ConvergenceWarning: Solver terminated early (max_iter=10000).  Consider pre-processing your data with StandardScaler or MinMaxScaler.\n",
      "  warnings.warn(\n"
     ]
    },
    {
     "name": "stdout",
     "output_type": "stream",
     "text": [
      "[CV 4/5] END ..............C=10000.0, gamma=0.1;, score=1.000 total time=   6.5s\n"
     ]
    },
    {
     "name": "stderr",
     "output_type": "stream",
     "text": [
      "/home/balakrishnan/.local/lib/python3.10/site-packages/sklearn/svm/_base.py:299: ConvergenceWarning: Solver terminated early (max_iter=10000).  Consider pre-processing your data with StandardScaler or MinMaxScaler.\n",
      "  warnings.warn(\n"
     ]
    },
    {
     "name": "stdout",
     "output_type": "stream",
     "text": [
      "[CV 5/5] END ..............C=10000.0, gamma=0.1;, score=1.000 total time=   8.1s\n"
     ]
    },
    {
     "name": "stderr",
     "output_type": "stream",
     "text": [
      "/home/balakrishnan/.local/lib/python3.10/site-packages/sklearn/svm/_base.py:299: ConvergenceWarning: Solver terminated early (max_iter=10000).  Consider pre-processing your data with StandardScaler or MinMaxScaler.\n",
      "  warnings.warn(\n",
      "/home/balakrishnan/.local/lib/python3.10/site-packages/sklearn/svm/_base.py:299: ConvergenceWarning: Solver terminated early (max_iter=10000).  Consider pre-processing your data with StandardScaler or MinMaxScaler.\n",
      "  warnings.warn(\n"
     ]
    },
    {
     "name": "stdout",
     "output_type": "stream",
     "text": [
      "[CV 1/5] END ..............C=10000.0, gamma=1.0;, score=1.000 total time=  35.3s\n",
      "[CV 2/5] END ..............C=10000.0, gamma=1.0;, score=1.000 total time=  35.8s\n"
     ]
    },
    {
     "name": "stderr",
     "output_type": "stream",
     "text": [
      "/home/balakrishnan/.local/lib/python3.10/site-packages/sklearn/svm/_base.py:299: ConvergenceWarning: Solver terminated early (max_iter=10000).  Consider pre-processing your data with StandardScaler or MinMaxScaler.\n",
      "  warnings.warn(\n",
      "/home/balakrishnan/.local/lib/python3.10/site-packages/sklearn/svm/_base.py:299: ConvergenceWarning: Solver terminated early (max_iter=10000).  Consider pre-processing your data with StandardScaler or MinMaxScaler.\n",
      "  warnings.warn(\n"
     ]
    },
    {
     "name": "stdout",
     "output_type": "stream",
     "text": [
      "[CV 3/5] END ..............C=10000.0, gamma=1.0;, score=1.000 total time=  42.8s\n"
     ]
    },
    {
     "name": "stderr",
     "output_type": "stream",
     "text": [
      "/home/balakrishnan/.local/lib/python3.10/site-packages/sklearn/svm/_base.py:299: ConvergenceWarning: Solver terminated early (max_iter=10000).  Consider pre-processing your data with StandardScaler or MinMaxScaler.\n",
      "  warnings.warn(\n"
     ]
    },
    {
     "name": "stdout",
     "output_type": "stream",
     "text": [
      "[CV 4/5] END ..............C=10000.0, gamma=1.0;, score=1.000 total time=  46.7s\n",
      "[CV 5/5] END ..............C=10000.0, gamma=1.0;, score=1.000 total time=  45.8s\n"
     ]
    },
    {
     "name": "stderr",
     "output_type": "stream",
     "text": [
      "/home/balakrishnan/.local/lib/python3.10/site-packages/sklearn/svm/_base.py:299: ConvergenceWarning: Solver terminated early (max_iter=10000).  Consider pre-processing your data with StandardScaler or MinMaxScaler.\n",
      "  warnings.warn(\n",
      "/home/balakrishnan/.local/lib/python3.10/site-packages/sklearn/svm/_base.py:299: ConvergenceWarning: Solver terminated early (max_iter=10000).  Consider pre-processing your data with StandardScaler or MinMaxScaler.\n",
      "  warnings.warn(\n"
     ]
    },
    {
     "name": "stdout",
     "output_type": "stream",
     "text": [
      "[CV 1/5] END .............C=10000.0, gamma=10.0;, score=0.838 total time=  30.2s\n"
     ]
    },
    {
     "name": "stderr",
     "output_type": "stream",
     "text": [
      "/home/balakrishnan/.local/lib/python3.10/site-packages/sklearn/svm/_base.py:299: ConvergenceWarning: Solver terminated early (max_iter=10000).  Consider pre-processing your data with StandardScaler or MinMaxScaler.\n",
      "  warnings.warn(\n"
     ]
    },
    {
     "name": "stdout",
     "output_type": "stream",
     "text": [
      "[CV 2/5] END .............C=10000.0, gamma=10.0;, score=0.834 total time=  30.0s\n"
     ]
    },
    {
     "name": "stderr",
     "output_type": "stream",
     "text": [
      "/home/balakrishnan/.local/lib/python3.10/site-packages/sklearn/svm/_base.py:299: ConvergenceWarning: Solver terminated early (max_iter=10000).  Consider pre-processing your data with StandardScaler or MinMaxScaler.\n",
      "  warnings.warn(\n",
      "/home/balakrishnan/.local/lib/python3.10/site-packages/sklearn/svm/_base.py:299: ConvergenceWarning: Solver terminated early (max_iter=10000).  Consider pre-processing your data with StandardScaler or MinMaxScaler.\n",
      "  warnings.warn(\n"
     ]
    },
    {
     "name": "stdout",
     "output_type": "stream",
     "text": [
      "[CV 3/5] END .............C=10000.0, gamma=10.0;, score=0.852 total time=  23.2s\n",
      "[CV 4/5] END .............C=10000.0, gamma=10.0;, score=0.833 total time=  19.6s\n",
      "[CV 5/5] END .............C=10000.0, gamma=10.0;, score=0.843 total time=  19.1s\n"
     ]
    },
    {
     "name": "stderr",
     "output_type": "stream",
     "text": [
      "/home/balakrishnan/.local/lib/python3.10/site-packages/sklearn/svm/_base.py:299: ConvergenceWarning: Solver terminated early (max_iter=10000).  Consider pre-processing your data with StandardScaler or MinMaxScaler.\n",
      "  warnings.warn(\n",
      "/home/balakrishnan/.local/lib/python3.10/site-packages/sklearn/svm/_base.py:299: ConvergenceWarning: Solver terminated early (max_iter=10000).  Consider pre-processing your data with StandardScaler or MinMaxScaler.\n",
      "  warnings.warn(\n",
      "/home/balakrishnan/.local/lib/python3.10/site-packages/sklearn/svm/_base.py:299: ConvergenceWarning: Solver terminated early (max_iter=10000).  Consider pre-processing your data with StandardScaler or MinMaxScaler.\n",
      "  warnings.warn(\n"
     ]
    },
    {
     "name": "stdout",
     "output_type": "stream",
     "text": [
      "[CV 1/5] END ............C=10000.0, gamma=100.0;, score=0.620 total time=  15.2s\n",
      "[CV 2/5] END ............C=10000.0, gamma=100.0;, score=0.623 total time=  15.6s\n"
     ]
    },
    {
     "name": "stderr",
     "output_type": "stream",
     "text": [
      "/home/balakrishnan/.local/lib/python3.10/site-packages/sklearn/svm/_base.py:299: ConvergenceWarning: Solver terminated early (max_iter=10000).  Consider pre-processing your data with StandardScaler or MinMaxScaler.\n",
      "  warnings.warn(\n",
      "/home/balakrishnan/.local/lib/python3.10/site-packages/sklearn/svm/_base.py:299: ConvergenceWarning: Solver terminated early (max_iter=10000).  Consider pre-processing your data with StandardScaler or MinMaxScaler.\n",
      "  warnings.warn(\n"
     ]
    },
    {
     "name": "stdout",
     "output_type": "stream",
     "text": [
      "[CV 3/5] END ............C=10000.0, gamma=100.0;, score=0.621 total time=  15.1s\n",
      "[CV 4/5] END ............C=10000.0, gamma=100.0;, score=0.616 total time=  14.5s\n",
      "[CV 5/5] END ............C=10000.0, gamma=100.0;, score=0.616 total time=  14.3s\n"
     ]
    },
    {
     "name": "stderr",
     "output_type": "stream",
     "text": [
      "/home/balakrishnan/.local/lib/python3.10/site-packages/sklearn/svm/_base.py:299: ConvergenceWarning: Solver terminated early (max_iter=10000).  Consider pre-processing your data with StandardScaler or MinMaxScaler.\n",
      "  warnings.warn(\n",
      "/home/balakrishnan/.local/lib/python3.10/site-packages/sklearn/svm/_base.py:299: ConvergenceWarning: Solver terminated early (max_iter=10000).  Consider pre-processing your data with StandardScaler or MinMaxScaler.\n",
      "  warnings.warn(\n",
      "/home/balakrishnan/.local/lib/python3.10/site-packages/sklearn/svm/_base.py:299: ConvergenceWarning: Solver terminated early (max_iter=10000).  Consider pre-processing your data with StandardScaler or MinMaxScaler.\n",
      "  warnings.warn(\n"
     ]
    },
    {
     "name": "stdout",
     "output_type": "stream",
     "text": [
      "[CV 1/5] END ...........C=10000.0, gamma=1000.0;, score=0.531 total time=  13.1s\n",
      "[CV 2/5] END ...........C=10000.0, gamma=1000.0;, score=0.532 total time=  12.8s\n"
     ]
    },
    {
     "name": "stderr",
     "output_type": "stream",
     "text": [
      "/home/balakrishnan/.local/lib/python3.10/site-packages/sklearn/svm/_base.py:299: ConvergenceWarning: Solver terminated early (max_iter=10000).  Consider pre-processing your data with StandardScaler or MinMaxScaler.\n",
      "  warnings.warn(\n",
      "/home/balakrishnan/.local/lib/python3.10/site-packages/sklearn/svm/_base.py:299: ConvergenceWarning: Solver terminated early (max_iter=10000).  Consider pre-processing your data with StandardScaler or MinMaxScaler.\n",
      "  warnings.warn(\n"
     ]
    },
    {
     "name": "stdout",
     "output_type": "stream",
     "text": [
      "[CV 3/5] END ...........C=10000.0, gamma=1000.0;, score=0.529 total time=  12.4s\n",
      "[CV 4/5] END ...........C=10000.0, gamma=1000.0;, score=0.525 total time=  12.2s\n",
      "[CV 5/5] END ...........C=10000.0, gamma=1000.0;, score=0.527 total time=  12.3s\n"
     ]
    },
    {
     "name": "stderr",
     "output_type": "stream",
     "text": [
      "/home/balakrishnan/.local/lib/python3.10/site-packages/sklearn/svm/_base.py:299: ConvergenceWarning: Solver terminated early (max_iter=10000).  Consider pre-processing your data with StandardScaler or MinMaxScaler.\n",
      "  warnings.warn(\n",
      "/home/balakrishnan/.local/lib/python3.10/site-packages/sklearn/svm/_base.py:299: ConvergenceWarning: Solver terminated early (max_iter=10000).  Consider pre-processing your data with StandardScaler or MinMaxScaler.\n",
      "  warnings.warn(\n"
     ]
    },
    {
     "name": "stdout",
     "output_type": "stream",
     "text": [
      "[CV 2/5] END ..........C=10000.0, gamma=10000.0;, score=0.502 total time=  10.9s\n",
      "[CV 1/5] END ..........C=10000.0, gamma=10000.0;, score=0.505 total time=  11.7s\n"
     ]
    },
    {
     "name": "stderr",
     "output_type": "stream",
     "text": [
      "/home/balakrishnan/.local/lib/python3.10/site-packages/sklearn/svm/_base.py:299: ConvergenceWarning: Solver terminated early (max_iter=10000).  Consider pre-processing your data with StandardScaler or MinMaxScaler.\n",
      "  warnings.warn(\n",
      "/home/balakrishnan/.local/lib/python3.10/site-packages/sklearn/svm/_base.py:299: ConvergenceWarning: Solver terminated early (max_iter=10000).  Consider pre-processing your data with StandardScaler or MinMaxScaler.\n",
      "  warnings.warn(\n"
     ]
    },
    {
     "name": "stdout",
     "output_type": "stream",
     "text": [
      "[CV 3/5] END ..........C=10000.0, gamma=10000.0;, score=0.507 total time=  11.4s\n",
      "[CV 4/5] END ..........C=10000.0, gamma=10000.0;, score=0.506 total time=  11.4s\n",
      "[CV 5/5] END ..........C=10000.0, gamma=10000.0;, score=0.501 total time=  11.2s\n"
     ]
    },
    {
     "name": "stderr",
     "output_type": "stream",
     "text": [
      "/home/balakrishnan/.local/lib/python3.10/site-packages/sklearn/svm/_base.py:299: ConvergenceWarning: Solver terminated early (max_iter=10000).  Consider pre-processing your data with StandardScaler or MinMaxScaler.\n",
      "  warnings.warn(\n",
      "/home/balakrishnan/.local/lib/python3.10/site-packages/sklearn/svm/_base.py:299: ConvergenceWarning: Solver terminated early (max_iter=10000).  Consider pre-processing your data with StandardScaler or MinMaxScaler.\n",
      "  warnings.warn(\n",
      "/home/balakrishnan/.local/lib/python3.10/site-packages/sklearn/svm/_base.py:299: ConvergenceWarning: Solver terminated early (max_iter=10000).  Consider pre-processing your data with StandardScaler or MinMaxScaler.\n",
      "  warnings.warn(\n"
     ]
    },
    {
     "name": "stdout",
     "output_type": "stream",
     "text": [
      "[CV 1/5] END .........C=10000.0, gamma=100000.0;, score=0.500 total time=  11.1s\n",
      "[CV 2/5] END .........C=10000.0, gamma=100000.0;, score=0.500 total time=  11.1s\n"
     ]
    },
    {
     "name": "stderr",
     "output_type": "stream",
     "text": [
      "/home/balakrishnan/.local/lib/python3.10/site-packages/sklearn/svm/_base.py:299: ConvergenceWarning: Solver terminated early (max_iter=10000).  Consider pre-processing your data with StandardScaler or MinMaxScaler.\n",
      "  warnings.warn(\n",
      "/home/balakrishnan/.local/lib/python3.10/site-packages/sklearn/svm/_base.py:299: ConvergenceWarning: Solver terminated early (max_iter=10000).  Consider pre-processing your data with StandardScaler or MinMaxScaler.\n",
      "  warnings.warn(\n"
     ]
    },
    {
     "name": "stdout",
     "output_type": "stream",
     "text": [
      "[CV 3/5] END .........C=10000.0, gamma=100000.0;, score=0.500 total time=  10.9s\n",
      "[CV 4/5] END .........C=10000.0, gamma=100000.0;, score=0.500 total time=  11.2s\n",
      "[CV 5/5] END .........C=10000.0, gamma=100000.0;, score=0.500 total time=  11.2s\n"
     ]
    },
    {
     "name": "stderr",
     "output_type": "stream",
     "text": [
      "/home/balakrishnan/.local/lib/python3.10/site-packages/sklearn/svm/_base.py:299: ConvergenceWarning: Solver terminated early (max_iter=10000).  Consider pre-processing your data with StandardScaler or MinMaxScaler.\n",
      "  warnings.warn(\n",
      "/home/balakrishnan/.local/lib/python3.10/site-packages/sklearn/svm/_base.py:299: ConvergenceWarning: Solver terminated early (max_iter=10000).  Consider pre-processing your data with StandardScaler or MinMaxScaler.\n",
      "  warnings.warn(\n"
     ]
    },
    {
     "name": "stdout",
     "output_type": "stream",
     "text": [
      "[CV 1/5] END ............C=10000.0, gamma=scale;, score=0.807 total time=   6.5s\n",
      "[CV 2/5] END ............C=10000.0, gamma=scale;, score=0.775 total time=   6.6s\n"
     ]
    },
    {
     "name": "stderr",
     "output_type": "stream",
     "text": [
      "/home/balakrishnan/.local/lib/python3.10/site-packages/sklearn/svm/_base.py:299: ConvergenceWarning: Solver terminated early (max_iter=10000).  Consider pre-processing your data with StandardScaler or MinMaxScaler.\n",
      "  warnings.warn(\n"
     ]
    },
    {
     "name": "stdout",
     "output_type": "stream",
     "text": [
      "[CV 3/5] END ............C=10000.0, gamma=scale;, score=0.780 total time=   6.3s\n"
     ]
    },
    {
     "name": "stderr",
     "output_type": "stream",
     "text": [
      "/home/balakrishnan/.local/lib/python3.10/site-packages/sklearn/svm/_base.py:299: ConvergenceWarning: Solver terminated early (max_iter=10000).  Consider pre-processing your data with StandardScaler or MinMaxScaler.\n",
      "  warnings.warn(\n",
      "/home/balakrishnan/.local/lib/python3.10/site-packages/sklearn/svm/_base.py:299: ConvergenceWarning: Solver terminated early (max_iter=10000).  Consider pre-processing your data with StandardScaler or MinMaxScaler.\n",
      "  warnings.warn(\n"
     ]
    },
    {
     "name": "stdout",
     "output_type": "stream",
     "text": [
      "[CV 4/5] END ............C=10000.0, gamma=scale;, score=0.785 total time=   6.5s\n",
      "[CV 5/5] END ............C=10000.0, gamma=scale;, score=0.742 total time=   6.5s\n"
     ]
    },
    {
     "name": "stderr",
     "output_type": "stream",
     "text": [
      "/home/balakrishnan/.local/lib/python3.10/site-packages/sklearn/svm/_base.py:299: ConvergenceWarning: Solver terminated early (max_iter=10000).  Consider pre-processing your data with StandardScaler or MinMaxScaler.\n",
      "  warnings.warn(\n",
      "/home/balakrishnan/.local/lib/python3.10/site-packages/sklearn/svm/_base.py:299: ConvergenceWarning: Solver terminated early (max_iter=10000).  Consider pre-processing your data with StandardScaler or MinMaxScaler.\n",
      "  warnings.warn(\n"
     ]
    },
    {
     "name": "stdout",
     "output_type": "stream",
     "text": [
      "[CV 1/5] END .............C=10000.0, gamma=auto;, score=1.000 total time=   5.6s\n",
      "[CV 2/5] END .............C=10000.0, gamma=auto;, score=1.000 total time=   5.6s\n"
     ]
    },
    {
     "name": "stderr",
     "output_type": "stream",
     "text": [
      "/home/balakrishnan/.local/lib/python3.10/site-packages/sklearn/svm/_base.py:299: ConvergenceWarning: Solver terminated early (max_iter=10000).  Consider pre-processing your data with StandardScaler or MinMaxScaler.\n",
      "  warnings.warn(\n"
     ]
    },
    {
     "name": "stdout",
     "output_type": "stream",
     "text": [
      "[CV 3/5] END .............C=10000.0, gamma=auto;, score=1.000 total time=   6.0s\n"
     ]
    },
    {
     "name": "stderr",
     "output_type": "stream",
     "text": [
      "/home/balakrishnan/.local/lib/python3.10/site-packages/sklearn/svm/_base.py:299: ConvergenceWarning: Solver terminated early (max_iter=10000).  Consider pre-processing your data with StandardScaler or MinMaxScaler.\n",
      "  warnings.warn(\n",
      "/home/balakrishnan/.local/lib/python3.10/site-packages/sklearn/svm/_base.py:299: ConvergenceWarning: Solver terminated early (max_iter=10000).  Consider pre-processing your data with StandardScaler or MinMaxScaler.\n",
      "  warnings.warn(\n"
     ]
    },
    {
     "name": "stdout",
     "output_type": "stream",
     "text": [
      "[CV 4/5] END .............C=10000.0, gamma=auto;, score=1.000 total time=   6.1s\n",
      "[CV 5/5] END .............C=10000.0, gamma=auto;, score=1.000 total time=   6.2s\n"
     ]
    },
    {
     "name": "stderr",
     "output_type": "stream",
     "text": [
      "/home/balakrishnan/.local/lib/python3.10/site-packages/sklearn/svm/_base.py:299: ConvergenceWarning: Solver terminated early (max_iter=10000).  Consider pre-processing your data with StandardScaler or MinMaxScaler.\n",
      "  warnings.warn(\n",
      "/home/balakrishnan/.local/lib/python3.10/site-packages/sklearn/svm/_base.py:299: ConvergenceWarning: Solver terminated early (max_iter=10000).  Consider pre-processing your data with StandardScaler or MinMaxScaler.\n",
      "  warnings.warn(\n"
     ]
    },
    {
     "name": "stdout",
     "output_type": "stream",
     "text": [
      "[CV 2/5] END ...........C=100000.0, gamma=1e-05;, score=0.503 total time=  15.9s\n",
      "[CV 1/5] END ...........C=100000.0, gamma=1e-05;, score=0.492 total time=  16.1s\n"
     ]
    },
    {
     "name": "stderr",
     "output_type": "stream",
     "text": [
      "/home/balakrishnan/.local/lib/python3.10/site-packages/sklearn/svm/_base.py:299: ConvergenceWarning: Solver terminated early (max_iter=10000).  Consider pre-processing your data with StandardScaler or MinMaxScaler.\n",
      "  warnings.warn(\n"
     ]
    },
    {
     "name": "stdout",
     "output_type": "stream",
     "text": [
      "[CV 3/5] END ...........C=100000.0, gamma=1e-05;, score=0.515 total time=  24.9s\n"
     ]
    },
    {
     "name": "stderr",
     "output_type": "stream",
     "text": [
      "/home/balakrishnan/.local/lib/python3.10/site-packages/sklearn/svm/_base.py:299: ConvergenceWarning: Solver terminated early (max_iter=10000).  Consider pre-processing your data with StandardScaler or MinMaxScaler.\n",
      "  warnings.warn(\n",
      "/home/balakrishnan/.local/lib/python3.10/site-packages/sklearn/svm/_base.py:299: ConvergenceWarning: Solver terminated early (max_iter=10000).  Consider pre-processing your data with StandardScaler or MinMaxScaler.\n",
      "  warnings.warn(\n"
     ]
    },
    {
     "name": "stdout",
     "output_type": "stream",
     "text": [
      "[CV 4/5] END ...........C=100000.0, gamma=1e-05;, score=0.503 total time=  29.9s\n",
      "[CV 5/5] END ...........C=100000.0, gamma=1e-05;, score=0.491 total time=  32.5s\n"
     ]
    },
    {
     "name": "stderr",
     "output_type": "stream",
     "text": [
      "/home/balakrishnan/.local/lib/python3.10/site-packages/sklearn/svm/_base.py:299: ConvergenceWarning: Solver terminated early (max_iter=10000).  Consider pre-processing your data with StandardScaler or MinMaxScaler.\n",
      "  warnings.warn(\n",
      "/home/balakrishnan/.local/lib/python3.10/site-packages/sklearn/svm/_base.py:299: ConvergenceWarning: Solver terminated early (max_iter=10000).  Consider pre-processing your data with StandardScaler or MinMaxScaler.\n",
      "  warnings.warn(\n"
     ]
    },
    {
     "name": "stdout",
     "output_type": "stream",
     "text": [
      "[CV 1/5] END ..........C=100000.0, gamma=0.0001;, score=0.513 total time=  31.8s\n",
      "[CV 2/5] END ..........C=100000.0, gamma=0.0001;, score=0.478 total time=  34.7s\n"
     ]
    },
    {
     "name": "stderr",
     "output_type": "stream",
     "text": [
      "/home/balakrishnan/.local/lib/python3.10/site-packages/sklearn/svm/_base.py:299: ConvergenceWarning: Solver terminated early (max_iter=10000).  Consider pre-processing your data with StandardScaler or MinMaxScaler.\n",
      "  warnings.warn(\n"
     ]
    },
    {
     "name": "stdout",
     "output_type": "stream",
     "text": [
      "[CV 3/5] END ..........C=100000.0, gamma=0.0001;, score=0.502 total time=  30.1s\n"
     ]
    },
    {
     "name": "stderr",
     "output_type": "stream",
     "text": [
      "/home/balakrishnan/.local/lib/python3.10/site-packages/sklearn/svm/_base.py:299: ConvergenceWarning: Solver terminated early (max_iter=10000).  Consider pre-processing your data with StandardScaler or MinMaxScaler.\n",
      "  warnings.warn(\n",
      "/home/balakrishnan/.local/lib/python3.10/site-packages/sklearn/svm/_base.py:299: ConvergenceWarning: Solver terminated early (max_iter=10000).  Consider pre-processing your data with StandardScaler or MinMaxScaler.\n",
      "  warnings.warn(\n"
     ]
    },
    {
     "name": "stdout",
     "output_type": "stream",
     "text": [
      "[CV 4/5] END ..........C=100000.0, gamma=0.0001;, score=0.512 total time=  25.8s\n",
      "[CV 5/5] END ..........C=100000.0, gamma=0.0001;, score=0.494 total time=  23.4s\n"
     ]
    },
    {
     "name": "stderr",
     "output_type": "stream",
     "text": [
      "/home/balakrishnan/.local/lib/python3.10/site-packages/sklearn/svm/_base.py:299: ConvergenceWarning: Solver terminated early (max_iter=10000).  Consider pre-processing your data with StandardScaler or MinMaxScaler.\n",
      "  warnings.warn(\n",
      "/home/balakrishnan/.local/lib/python3.10/site-packages/sklearn/svm/_base.py:299: ConvergenceWarning: Solver terminated early (max_iter=10000).  Consider pre-processing your data with StandardScaler or MinMaxScaler.\n",
      "  warnings.warn(\n"
     ]
    },
    {
     "name": "stdout",
     "output_type": "stream",
     "text": [
      "[CV 1/5] END ...........C=100000.0, gamma=0.001;, score=0.504 total time=  19.0s\n",
      "[CV 2/5] END ...........C=100000.0, gamma=0.001;, score=0.507 total time=  16.8s\n"
     ]
    },
    {
     "name": "stderr",
     "output_type": "stream",
     "text": [
      "/home/balakrishnan/.local/lib/python3.10/site-packages/sklearn/svm/_base.py:299: ConvergenceWarning: Solver terminated early (max_iter=10000).  Consider pre-processing your data with StandardScaler or MinMaxScaler.\n",
      "  warnings.warn(\n"
     ]
    },
    {
     "name": "stdout",
     "output_type": "stream",
     "text": [
      "[CV 3/5] END ...........C=100000.0, gamma=0.001;, score=0.500 total time=  13.0s\n"
     ]
    },
    {
     "name": "stderr",
     "output_type": "stream",
     "text": [
      "/home/balakrishnan/.local/lib/python3.10/site-packages/sklearn/svm/_base.py:299: ConvergenceWarning: Solver terminated early (max_iter=10000).  Consider pre-processing your data with StandardScaler or MinMaxScaler.\n",
      "  warnings.warn(\n",
      "/home/balakrishnan/.local/lib/python3.10/site-packages/sklearn/svm/_base.py:299: ConvergenceWarning: Solver terminated early (max_iter=10000).  Consider pre-processing your data with StandardScaler or MinMaxScaler.\n",
      "  warnings.warn(\n"
     ]
    },
    {
     "name": "stdout",
     "output_type": "stream",
     "text": [
      "[CV 4/5] END ...........C=100000.0, gamma=0.001;, score=0.493 total time=  12.4s\n",
      "[CV 5/5] END ...........C=100000.0, gamma=0.001;, score=0.507 total time=  12.1s\n"
     ]
    },
    {
     "name": "stderr",
     "output_type": "stream",
     "text": [
      "/home/balakrishnan/.local/lib/python3.10/site-packages/sklearn/svm/_base.py:299: ConvergenceWarning: Solver terminated early (max_iter=10000).  Consider pre-processing your data with StandardScaler or MinMaxScaler.\n",
      "  warnings.warn(\n",
      "/home/balakrishnan/.local/lib/python3.10/site-packages/sklearn/svm/_base.py:299: ConvergenceWarning: Solver terminated early (max_iter=10000).  Consider pre-processing your data with StandardScaler or MinMaxScaler.\n",
      "  warnings.warn(\n"
     ]
    },
    {
     "name": "stdout",
     "output_type": "stream",
     "text": [
      "[CV 1/5] END ............C=100000.0, gamma=0.01;, score=0.877 total time=   9.1s\n",
      "[CV 2/5] END ............C=100000.0, gamma=0.01;, score=0.799 total time=   8.9s\n"
     ]
    },
    {
     "name": "stderr",
     "output_type": "stream",
     "text": [
      "/home/balakrishnan/.local/lib/python3.10/site-packages/sklearn/svm/_base.py:299: ConvergenceWarning: Solver terminated early (max_iter=10000).  Consider pre-processing your data with StandardScaler or MinMaxScaler.\n",
      "  warnings.warn(\n"
     ]
    },
    {
     "name": "stdout",
     "output_type": "stream",
     "text": [
      "[CV 3/5] END ............C=100000.0, gamma=0.01;, score=0.883 total time=   8.6s\n"
     ]
    },
    {
     "name": "stderr",
     "output_type": "stream",
     "text": [
      "/home/balakrishnan/.local/lib/python3.10/site-packages/sklearn/svm/_base.py:299: ConvergenceWarning: Solver terminated early (max_iter=10000).  Consider pre-processing your data with StandardScaler or MinMaxScaler.\n",
      "  warnings.warn(\n",
      "/home/balakrishnan/.local/lib/python3.10/site-packages/sklearn/svm/_base.py:299: ConvergenceWarning: Solver terminated early (max_iter=10000).  Consider pre-processing your data with StandardScaler or MinMaxScaler.\n",
      "  warnings.warn(\n"
     ]
    },
    {
     "name": "stdout",
     "output_type": "stream",
     "text": [
      "[CV 4/5] END ............C=100000.0, gamma=0.01;, score=0.850 total time=   8.7s\n",
      "[CV 5/5] END ............C=100000.0, gamma=0.01;, score=0.807 total time=   8.4s\n"
     ]
    },
    {
     "name": "stderr",
     "output_type": "stream",
     "text": [
      "/home/balakrishnan/.local/lib/python3.10/site-packages/sklearn/svm/_base.py:299: ConvergenceWarning: Solver terminated early (max_iter=10000).  Consider pre-processing your data with StandardScaler or MinMaxScaler.\n",
      "  warnings.warn(\n",
      "/home/balakrishnan/.local/lib/python3.10/site-packages/sklearn/svm/_base.py:299: ConvergenceWarning: Solver terminated early (max_iter=10000).  Consider pre-processing your data with StandardScaler or MinMaxScaler.\n",
      "  warnings.warn(\n"
     ]
    },
    {
     "name": "stdout",
     "output_type": "stream",
     "text": [
      "[CV 1/5] END .............C=100000.0, gamma=0.1;, score=1.000 total time=   7.0s\n",
      "[CV 2/5] END .............C=100000.0, gamma=0.1;, score=1.000 total time=   6.9s\n"
     ]
    },
    {
     "name": "stderr",
     "output_type": "stream",
     "text": [
      "/home/balakrishnan/.local/lib/python3.10/site-packages/sklearn/svm/_base.py:299: ConvergenceWarning: Solver terminated early (max_iter=10000).  Consider pre-processing your data with StandardScaler or MinMaxScaler.\n",
      "  warnings.warn(\n"
     ]
    },
    {
     "name": "stdout",
     "output_type": "stream",
     "text": [
      "[CV 3/5] END .............C=100000.0, gamma=0.1;, score=1.000 total time=   7.1s\n"
     ]
    },
    {
     "name": "stderr",
     "output_type": "stream",
     "text": [
      "/home/balakrishnan/.local/lib/python3.10/site-packages/sklearn/svm/_base.py:299: ConvergenceWarning: Solver terminated early (max_iter=10000).  Consider pre-processing your data with StandardScaler or MinMaxScaler.\n",
      "  warnings.warn(\n",
      "/home/balakrishnan/.local/lib/python3.10/site-packages/sklearn/svm/_base.py:299: ConvergenceWarning: Solver terminated early (max_iter=10000).  Consider pre-processing your data with StandardScaler or MinMaxScaler.\n",
      "  warnings.warn(\n"
     ]
    },
    {
     "name": "stdout",
     "output_type": "stream",
     "text": [
      "[CV 4/5] END .............C=100000.0, gamma=0.1;, score=1.000 total time=   6.5s\n",
      "[CV 5/5] END .............C=100000.0, gamma=0.1;, score=1.000 total time=   6.4s\n"
     ]
    },
    {
     "name": "stderr",
     "output_type": "stream",
     "text": [
      "/home/balakrishnan/.local/lib/python3.10/site-packages/sklearn/svm/_base.py:299: ConvergenceWarning: Solver terminated early (max_iter=10000).  Consider pre-processing your data with StandardScaler or MinMaxScaler.\n",
      "  warnings.warn(\n",
      "/home/balakrishnan/.local/lib/python3.10/site-packages/sklearn/svm/_base.py:299: ConvergenceWarning: Solver terminated early (max_iter=10000).  Consider pre-processing your data with StandardScaler or MinMaxScaler.\n",
      "  warnings.warn(\n"
     ]
    },
    {
     "name": "stdout",
     "output_type": "stream",
     "text": [
      "[CV 1/5] END .............C=100000.0, gamma=1.0;, score=1.000 total time=  10.8s\n",
      "[CV 2/5] END .............C=100000.0, gamma=1.0;, score=1.000 total time=  10.7s\n"
     ]
    },
    {
     "name": "stderr",
     "output_type": "stream",
     "text": [
      "/home/balakrishnan/.local/lib/python3.10/site-packages/sklearn/svm/_base.py:299: ConvergenceWarning: Solver terminated early (max_iter=10000).  Consider pre-processing your data with StandardScaler or MinMaxScaler.\n",
      "  warnings.warn(\n",
      "/home/balakrishnan/.local/lib/python3.10/site-packages/sklearn/svm/_base.py:299: ConvergenceWarning: Solver terminated early (max_iter=10000).  Consider pre-processing your data with StandardScaler or MinMaxScaler.\n",
      "  warnings.warn(\n"
     ]
    },
    {
     "name": "stdout",
     "output_type": "stream",
     "text": [
      "[CV 3/5] END .............C=100000.0, gamma=1.0;, score=1.000 total time=  10.3s\n"
     ]
    },
    {
     "name": "stderr",
     "output_type": "stream",
     "text": [
      "/home/balakrishnan/.local/lib/python3.10/site-packages/sklearn/svm/_base.py:299: ConvergenceWarning: Solver terminated early (max_iter=10000).  Consider pre-processing your data with StandardScaler or MinMaxScaler.\n",
      "  warnings.warn(\n"
     ]
    },
    {
     "name": "stdout",
     "output_type": "stream",
     "text": [
      "[CV 4/5] END .............C=100000.0, gamma=1.0;, score=1.000 total time=  10.1s\n",
      "[CV 5/5] END .............C=100000.0, gamma=1.0;, score=1.000 total time=  10.1s\n"
     ]
    },
    {
     "name": "stderr",
     "output_type": "stream",
     "text": [
      "/home/balakrishnan/.local/lib/python3.10/site-packages/sklearn/svm/_base.py:299: ConvergenceWarning: Solver terminated early (max_iter=10000).  Consider pre-processing your data with StandardScaler or MinMaxScaler.\n",
      "  warnings.warn(\n",
      "/home/balakrishnan/.local/lib/python3.10/site-packages/sklearn/svm/_base.py:299: ConvergenceWarning: Solver terminated early (max_iter=10000).  Consider pre-processing your data with StandardScaler or MinMaxScaler.\n",
      "  warnings.warn(\n"
     ]
    },
    {
     "name": "stdout",
     "output_type": "stream",
     "text": [
      "[CV 1/5] END ............C=100000.0, gamma=10.0;, score=0.838 total time=  12.5s\n"
     ]
    },
    {
     "name": "stderr",
     "output_type": "stream",
     "text": [
      "/home/balakrishnan/.local/lib/python3.10/site-packages/sklearn/svm/_base.py:299: ConvergenceWarning: Solver terminated early (max_iter=10000).  Consider pre-processing your data with StandardScaler or MinMaxScaler.\n",
      "  warnings.warn(\n"
     ]
    },
    {
     "name": "stdout",
     "output_type": "stream",
     "text": [
      "[CV 2/5] END ............C=100000.0, gamma=10.0;, score=0.834 total time=  12.5s\n"
     ]
    },
    {
     "name": "stderr",
     "output_type": "stream",
     "text": [
      "/home/balakrishnan/.local/lib/python3.10/site-packages/sklearn/svm/_base.py:299: ConvergenceWarning: Solver terminated early (max_iter=10000).  Consider pre-processing your data with StandardScaler or MinMaxScaler.\n",
      "  warnings.warn(\n",
      "/home/balakrishnan/.local/lib/python3.10/site-packages/sklearn/svm/_base.py:299: ConvergenceWarning: Solver terminated early (max_iter=10000).  Consider pre-processing your data with StandardScaler or MinMaxScaler.\n",
      "  warnings.warn(\n"
     ]
    },
    {
     "name": "stdout",
     "output_type": "stream",
     "text": [
      "[CV 3/5] END ............C=100000.0, gamma=10.0;, score=0.852 total time=  12.5s\n",
      "[CV 4/5] END ............C=100000.0, gamma=10.0;, score=0.833 total time=  12.3s\n",
      "[CV 5/5] END ............C=100000.0, gamma=10.0;, score=0.843 total time=  12.3s\n"
     ]
    },
    {
     "name": "stderr",
     "output_type": "stream",
     "text": [
      "/home/balakrishnan/.local/lib/python3.10/site-packages/sklearn/svm/_base.py:299: ConvergenceWarning: Solver terminated early (max_iter=10000).  Consider pre-processing your data with StandardScaler or MinMaxScaler.\n",
      "  warnings.warn(\n",
      "/home/balakrishnan/.local/lib/python3.10/site-packages/sklearn/svm/_base.py:299: ConvergenceWarning: Solver terminated early (max_iter=10000).  Consider pre-processing your data with StandardScaler or MinMaxScaler.\n",
      "  warnings.warn(\n"
     ]
    },
    {
     "name": "stdout",
     "output_type": "stream",
     "text": [
      "[CV 1/5] END ...........C=100000.0, gamma=100.0;, score=0.620 total time=  10.8s\n"
     ]
    },
    {
     "name": "stderr",
     "output_type": "stream",
     "text": [
      "/home/balakrishnan/.local/lib/python3.10/site-packages/sklearn/svm/_base.py:299: ConvergenceWarning: Solver terminated early (max_iter=10000).  Consider pre-processing your data with StandardScaler or MinMaxScaler.\n",
      "  warnings.warn(\n"
     ]
    },
    {
     "name": "stdout",
     "output_type": "stream",
     "text": [
      "[CV 2/5] END ...........C=100000.0, gamma=100.0;, score=0.623 total time=  10.9s\n"
     ]
    },
    {
     "name": "stderr",
     "output_type": "stream",
     "text": [
      "/home/balakrishnan/.local/lib/python3.10/site-packages/sklearn/svm/_base.py:299: ConvergenceWarning: Solver terminated early (max_iter=10000).  Consider pre-processing your data with StandardScaler or MinMaxScaler.\n",
      "  warnings.warn(\n",
      "/home/balakrishnan/.local/lib/python3.10/site-packages/sklearn/svm/_base.py:299: ConvergenceWarning: Solver terminated early (max_iter=10000).  Consider pre-processing your data with StandardScaler or MinMaxScaler.\n",
      "  warnings.warn(\n"
     ]
    },
    {
     "name": "stdout",
     "output_type": "stream",
     "text": [
      "[CV 3/5] END ...........C=100000.0, gamma=100.0;, score=0.621 total time=  10.9s\n",
      "[CV 4/5] END ...........C=100000.0, gamma=100.0;, score=0.616 total time=  10.8s\n",
      "[CV 5/5] END ...........C=100000.0, gamma=100.0;, score=0.616 total time=  10.7s\n"
     ]
    },
    {
     "name": "stderr",
     "output_type": "stream",
     "text": [
      "/home/balakrishnan/.local/lib/python3.10/site-packages/sklearn/svm/_base.py:299: ConvergenceWarning: Solver terminated early (max_iter=10000).  Consider pre-processing your data with StandardScaler or MinMaxScaler.\n",
      "  warnings.warn(\n",
      "/home/balakrishnan/.local/lib/python3.10/site-packages/sklearn/svm/_base.py:299: ConvergenceWarning: Solver terminated early (max_iter=10000).  Consider pre-processing your data with StandardScaler or MinMaxScaler.\n",
      "  warnings.warn(\n"
     ]
    },
    {
     "name": "stdout",
     "output_type": "stream",
     "text": [
      "[CV 1/5] END ..........C=100000.0, gamma=1000.0;, score=0.531 total time=  10.1s\n"
     ]
    },
    {
     "name": "stderr",
     "output_type": "stream",
     "text": [
      "/home/balakrishnan/.local/lib/python3.10/site-packages/sklearn/svm/_base.py:299: ConvergenceWarning: Solver terminated early (max_iter=10000).  Consider pre-processing your data with StandardScaler or MinMaxScaler.\n",
      "  warnings.warn(\n"
     ]
    },
    {
     "name": "stdout",
     "output_type": "stream",
     "text": [
      "[CV 2/5] END ..........C=100000.0, gamma=1000.0;, score=0.532 total time=  10.2s\n"
     ]
    },
    {
     "name": "stderr",
     "output_type": "stream",
     "text": [
      "/home/balakrishnan/.local/lib/python3.10/site-packages/sklearn/svm/_base.py:299: ConvergenceWarning: Solver terminated early (max_iter=10000).  Consider pre-processing your data with StandardScaler or MinMaxScaler.\n",
      "  warnings.warn(\n",
      "/home/balakrishnan/.local/lib/python3.10/site-packages/sklearn/svm/_base.py:299: ConvergenceWarning: Solver terminated early (max_iter=10000).  Consider pre-processing your data with StandardScaler or MinMaxScaler.\n",
      "  warnings.warn(\n"
     ]
    },
    {
     "name": "stdout",
     "output_type": "stream",
     "text": [
      "[CV 3/5] END ..........C=100000.0, gamma=1000.0;, score=0.529 total time=  10.3s\n",
      "[CV 4/5] END ..........C=100000.0, gamma=1000.0;, score=0.525 total time=  10.2s\n",
      "[CV 5/5] END ..........C=100000.0, gamma=1000.0;, score=0.527 total time=  10.1s\n"
     ]
    },
    {
     "name": "stderr",
     "output_type": "stream",
     "text": [
      "/home/balakrishnan/.local/lib/python3.10/site-packages/sklearn/svm/_base.py:299: ConvergenceWarning: Solver terminated early (max_iter=10000).  Consider pre-processing your data with StandardScaler or MinMaxScaler.\n",
      "  warnings.warn(\n"
     ]
    },
    {
     "name": "stdout",
     "output_type": "stream",
     "text": [
      "[CV 1/5] END .........C=100000.0, gamma=10000.0;, score=0.505 total time=  10.4s\n",
      "[CV 2/5] END .........C=100000.0, gamma=10000.0;, score=0.502 total time=  10.0s\n"
     ]
    },
    {
     "name": "stderr",
     "output_type": "stream",
     "text": [
      "/home/balakrishnan/.local/lib/python3.10/site-packages/sklearn/svm/_base.py:299: ConvergenceWarning: Solver terminated early (max_iter=10000).  Consider pre-processing your data with StandardScaler or MinMaxScaler.\n",
      "  warnings.warn(\n",
      "/home/balakrishnan/.local/lib/python3.10/site-packages/sklearn/svm/_base.py:299: ConvergenceWarning: Solver terminated early (max_iter=10000).  Consider pre-processing your data with StandardScaler or MinMaxScaler.\n",
      "  warnings.warn(\n",
      "/home/balakrishnan/.local/lib/python3.10/site-packages/sklearn/svm/_base.py:299: ConvergenceWarning: Solver terminated early (max_iter=10000).  Consider pre-processing your data with StandardScaler or MinMaxScaler.\n",
      "  warnings.warn(\n"
     ]
    },
    {
     "name": "stdout",
     "output_type": "stream",
     "text": [
      "[CV 3/5] END .........C=100000.0, gamma=10000.0;, score=0.507 total time=  11.5s\n",
      "[CV 4/5] END .........C=100000.0, gamma=10000.0;, score=0.506 total time=  11.9s\n",
      "[CV 5/5] END .........C=100000.0, gamma=10000.0;, score=0.501 total time=  11.9s\n"
     ]
    },
    {
     "name": "stderr",
     "output_type": "stream",
     "text": [
      "/home/balakrishnan/.local/lib/python3.10/site-packages/sklearn/svm/_base.py:299: ConvergenceWarning: Solver terminated early (max_iter=10000).  Consider pre-processing your data with StandardScaler or MinMaxScaler.\n",
      "  warnings.warn(\n",
      "/home/balakrishnan/.local/lib/python3.10/site-packages/sklearn/svm/_base.py:299: ConvergenceWarning: Solver terminated early (max_iter=10000).  Consider pre-processing your data with StandardScaler or MinMaxScaler.\n",
      "  warnings.warn(\n"
     ]
    },
    {
     "name": "stdout",
     "output_type": "stream",
     "text": [
      "[CV 1/5] END ........C=100000.0, gamma=100000.0;, score=0.500 total time=  35.7s\n",
      "[CV 2/5] END ........C=100000.0, gamma=100000.0;, score=0.500 total time=  37.3s\n"
     ]
    },
    {
     "name": "stderr",
     "output_type": "stream",
     "text": [
      "/home/balakrishnan/.local/lib/python3.10/site-packages/sklearn/svm/_base.py:299: ConvergenceWarning: Solver terminated early (max_iter=10000).  Consider pre-processing your data with StandardScaler or MinMaxScaler.\n",
      "  warnings.warn(\n",
      "/home/balakrishnan/.local/lib/python3.10/site-packages/sklearn/svm/_base.py:299: ConvergenceWarning: Solver terminated early (max_iter=10000).  Consider pre-processing your data with StandardScaler or MinMaxScaler.\n",
      "  warnings.warn(\n",
      "/home/balakrishnan/.local/lib/python3.10/site-packages/sklearn/svm/_base.py:299: ConvergenceWarning: Solver terminated early (max_iter=10000).  Consider pre-processing your data with StandardScaler or MinMaxScaler.\n",
      "  warnings.warn(\n"
     ]
    },
    {
     "name": "stdout",
     "output_type": "stream",
     "text": [
      "[CV 3/5] END ........C=100000.0, gamma=100000.0;, score=0.500 total time=  48.0s\n",
      "[CV 4/5] END ........C=100000.0, gamma=100000.0;, score=0.500 total time=  48.0s\n",
      "[CV 5/5] END ........C=100000.0, gamma=100000.0;, score=0.500 total time=  48.0s\n"
     ]
    },
    {
     "name": "stderr",
     "output_type": "stream",
     "text": [
      "/home/balakrishnan/.local/lib/python3.10/site-packages/sklearn/svm/_base.py:299: ConvergenceWarning: Solver terminated early (max_iter=10000).  Consider pre-processing your data with StandardScaler or MinMaxScaler.\n",
      "  warnings.warn(\n",
      "/home/balakrishnan/.local/lib/python3.10/site-packages/sklearn/svm/_base.py:299: ConvergenceWarning: Solver terminated early (max_iter=10000).  Consider pre-processing your data with StandardScaler or MinMaxScaler.\n",
      "  warnings.warn(\n"
     ]
    },
    {
     "name": "stdout",
     "output_type": "stream",
     "text": [
      "[CV 1/5] END ...........C=100000.0, gamma=scale;, score=0.807 total time=  21.1s\n",
      "[CV 2/5] END ...........C=100000.0, gamma=scale;, score=0.775 total time=  19.8s\n"
     ]
    },
    {
     "name": "stderr",
     "output_type": "stream",
     "text": [
      "/home/balakrishnan/.local/lib/python3.10/site-packages/sklearn/svm/_base.py:299: ConvergenceWarning: Solver terminated early (max_iter=10000).  Consider pre-processing your data with StandardScaler or MinMaxScaler.\n",
      "  warnings.warn(\n",
      "/home/balakrishnan/.local/lib/python3.10/site-packages/sklearn/svm/_base.py:299: ConvergenceWarning: Solver terminated early (max_iter=10000).  Consider pre-processing your data with StandardScaler or MinMaxScaler.\n",
      "  warnings.warn(\n",
      "/home/balakrishnan/.local/lib/python3.10/site-packages/sklearn/svm/_base.py:299: ConvergenceWarning: Solver terminated early (max_iter=10000).  Consider pre-processing your data with StandardScaler or MinMaxScaler.\n",
      "  warnings.warn(\n"
     ]
    },
    {
     "name": "stdout",
     "output_type": "stream",
     "text": [
      "[CV 3/5] END ...........C=100000.0, gamma=scale;, score=0.780 total time=  10.6s\n",
      "[CV 4/5] END ...........C=100000.0, gamma=scale;, score=0.785 total time=  10.4s\n",
      "[CV 5/5] END ...........C=100000.0, gamma=scale;, score=0.742 total time=  10.4s\n"
     ]
    },
    {
     "name": "stderr",
     "output_type": "stream",
     "text": [
      "/home/balakrishnan/.local/lib/python3.10/site-packages/sklearn/svm/_base.py:299: ConvergenceWarning: Solver terminated early (max_iter=10000).  Consider pre-processing your data with StandardScaler or MinMaxScaler.\n",
      "  warnings.warn(\n",
      "/home/balakrishnan/.local/lib/python3.10/site-packages/sklearn/svm/_base.py:299: ConvergenceWarning: Solver terminated early (max_iter=10000).  Consider pre-processing your data with StandardScaler or MinMaxScaler.\n",
      "  warnings.warn(\n"
     ]
    },
    {
     "name": "stdout",
     "output_type": "stream",
     "text": [
      "[CV 1/5] END ............C=100000.0, gamma=auto;, score=1.000 total time=   8.8s\n",
      "[CV 2/5] END ............C=100000.0, gamma=auto;, score=1.000 total time=   8.8s\n"
     ]
    },
    {
     "name": "stderr",
     "output_type": "stream",
     "text": [
      "/home/balakrishnan/.local/lib/python3.10/site-packages/sklearn/svm/_base.py:299: ConvergenceWarning: Solver terminated early (max_iter=10000).  Consider pre-processing your data with StandardScaler or MinMaxScaler.\n",
      "  warnings.warn(\n",
      "/home/balakrishnan/.local/lib/python3.10/site-packages/sklearn/svm/_base.py:299: ConvergenceWarning: Solver terminated early (max_iter=10000).  Consider pre-processing your data with StandardScaler or MinMaxScaler.\n",
      "  warnings.warn(\n",
      "/home/balakrishnan/.local/lib/python3.10/site-packages/sklearn/svm/_base.py:299: ConvergenceWarning: Solver terminated early (max_iter=10000).  Consider pre-processing your data with StandardScaler or MinMaxScaler.\n",
      "  warnings.warn(\n"
     ]
    },
    {
     "name": "stdout",
     "output_type": "stream",
     "text": [
      "[CV 3/5] END ............C=100000.0, gamma=auto;, score=1.000 total time=   6.6s\n",
      "[CV 4/5] END ............C=100000.0, gamma=auto;, score=1.000 total time=   6.1s\n",
      "[CV 5/5] END ............C=100000.0, gamma=auto;, score=1.000 total time=   6.0s\n"
     ]
    }
   ],
   "source": [
    "if VALIDATE_SVM:\n",
    "    model_cv_rbf = GridSearchCV(\n",
    "        estimator=model_base_rbf,\n",
    "        param_grid=params_rbf,\n",
    "        scoring=scorer,\n",
    "        n_jobs=5,\n",
    "        refit=False,\n",
    "        verbose=3\n",
    "    )\n",
    "    model_cv_rbf.fit(X_train, Y_train.squeeze())\n",
    "    best_params_rbf = model_cv_rbf.best_params_\n",
    "    best_score_rbf = max(model_cv_rbf.cv_results_['mean_test_score'])\n",
    "    best_params_rbf, best_score_rbf"
   ]
  },
  {
   "cell_type": "code",
   "execution_count": 34,
   "metadata": {},
   "outputs": [],
   "source": [
    "import json\n",
    "\n",
    "if VALIDATE_SVM:\n",
    "    if best_score_rbf >= best_score_ntk:\n",
    "        best_model_km = SVC(C=best_params_rbf['C'], kernel='rbf', gamma=best_params_rbf['gamma'])\n",
    "        best_config = {\n",
    "            'kernel': 'rbf',\n",
    "            'C': best_params_rbf['C'],\n",
    "            'gamma': best_params_rbf['gamma']\n",
    "        }\n",
    "        with open('configs/svm/orthants-single-empty.json', 'w') as f:\n",
    "            json.dump(best_config, f)\n",
    "    else:\n",
    "        best_model_km = SVC(C=best_params_ntk['C'], kernel=ntk)\n",
    "        best_config = {\n",
    "            'kernel': 'ntk',\n",
    "            'C': best_params_ntk['C']\n",
    "        }\n",
    "        with open('configs/svm/orthants-single-empty.json', 'w') as f:\n",
    "            json.dump(best_config, f)\n",
    "else:\n",
    "    with open('configs/svm/orthants-single-empty.json', 'r') as f:\n",
    "        best_config = json.load(f)\n",
    "    if best_config['kernel'] == 'rbf':\n",
    "        best_model_km = SVC(C=best_config['C'], gamma=best_config['gamma'])\n",
    "    else:\n",
    "        best_model_km = SVC(kernel=ntk, C=best_config['C'])"
   ]
  },
  {
   "cell_type": "code",
   "execution_count": 35,
   "metadata": {},
   "outputs": [
    {
     "data": {
      "text/html": [
       "<style>#sk-container-id-1 {color: black;background-color: white;}#sk-container-id-1 pre{padding: 0;}#sk-container-id-1 div.sk-toggleable {background-color: white;}#sk-container-id-1 label.sk-toggleable__label {cursor: pointer;display: block;width: 100%;margin-bottom: 0;padding: 0.3em;box-sizing: border-box;text-align: center;}#sk-container-id-1 label.sk-toggleable__label-arrow:before {content: \"▸\";float: left;margin-right: 0.25em;color: #696969;}#sk-container-id-1 label.sk-toggleable__label-arrow:hover:before {color: black;}#sk-container-id-1 div.sk-estimator:hover label.sk-toggleable__label-arrow:before {color: black;}#sk-container-id-1 div.sk-toggleable__content {max-height: 0;max-width: 0;overflow: hidden;text-align: left;background-color: #f0f8ff;}#sk-container-id-1 div.sk-toggleable__content pre {margin: 0.2em;color: black;border-radius: 0.25em;background-color: #f0f8ff;}#sk-container-id-1 input.sk-toggleable__control:checked~div.sk-toggleable__content {max-height: 200px;max-width: 100%;overflow: auto;}#sk-container-id-1 input.sk-toggleable__control:checked~label.sk-toggleable__label-arrow:before {content: \"▾\";}#sk-container-id-1 div.sk-estimator input.sk-toggleable__control:checked~label.sk-toggleable__label {background-color: #d4ebff;}#sk-container-id-1 div.sk-label input.sk-toggleable__control:checked~label.sk-toggleable__label {background-color: #d4ebff;}#sk-container-id-1 input.sk-hidden--visually {border: 0;clip: rect(1px 1px 1px 1px);clip: rect(1px, 1px, 1px, 1px);height: 1px;margin: -1px;overflow: hidden;padding: 0;position: absolute;width: 1px;}#sk-container-id-1 div.sk-estimator {font-family: monospace;background-color: #f0f8ff;border: 1px dotted black;border-radius: 0.25em;box-sizing: border-box;margin-bottom: 0.5em;}#sk-container-id-1 div.sk-estimator:hover {background-color: #d4ebff;}#sk-container-id-1 div.sk-parallel-item::after {content: \"\";width: 100%;border-bottom: 1px solid gray;flex-grow: 1;}#sk-container-id-1 div.sk-label:hover label.sk-toggleable__label {background-color: #d4ebff;}#sk-container-id-1 div.sk-serial::before {content: \"\";position: absolute;border-left: 1px solid gray;box-sizing: border-box;top: 0;bottom: 0;left: 50%;z-index: 0;}#sk-container-id-1 div.sk-serial {display: flex;flex-direction: column;align-items: center;background-color: white;padding-right: 0.2em;padding-left: 0.2em;position: relative;}#sk-container-id-1 div.sk-item {position: relative;z-index: 1;}#sk-container-id-1 div.sk-parallel {display: flex;align-items: stretch;justify-content: center;background-color: white;position: relative;}#sk-container-id-1 div.sk-item::before, #sk-container-id-1 div.sk-parallel-item::before {content: \"\";position: absolute;border-left: 1px solid gray;box-sizing: border-box;top: 0;bottom: 0;left: 50%;z-index: -1;}#sk-container-id-1 div.sk-parallel-item {display: flex;flex-direction: column;z-index: 1;position: relative;background-color: white;}#sk-container-id-1 div.sk-parallel-item:first-child::after {align-self: flex-end;width: 50%;}#sk-container-id-1 div.sk-parallel-item:last-child::after {align-self: flex-start;width: 50%;}#sk-container-id-1 div.sk-parallel-item:only-child::after {width: 0;}#sk-container-id-1 div.sk-dashed-wrapped {border: 1px dashed gray;margin: 0 0.4em 0.5em 0.4em;box-sizing: border-box;padding-bottom: 0.4em;background-color: white;}#sk-container-id-1 div.sk-label label {font-family: monospace;font-weight: bold;display: inline-block;line-height: 1.2em;}#sk-container-id-1 div.sk-label-container {text-align: center;}#sk-container-id-1 div.sk-container {/* jupyter's `normalize.less` sets `[hidden] { display: none; }` but bootstrap.min.css set `[hidden] { display: none !important; }` so we also need the `!important` here to be able to override the default hidden behavior on the sphinx rendered scikit-learn.org. See: https://github.com/scikit-learn/scikit-learn/issues/21755 */display: inline-block !important;position: relative;}#sk-container-id-1 div.sk-text-repr-fallback {display: none;}</style><div id=\"sk-container-id-1\" class=\"sk-top-container\"><div class=\"sk-text-repr-fallback\"><pre>SVC(gamma=0.1)</pre><b>In a Jupyter environment, please rerun this cell to show the HTML representation or trust the notebook. <br />On GitHub, the HTML representation is unable to render, please try loading this page with nbviewer.org.</b></div><div class=\"sk-container\" hidden><div class=\"sk-item\"><div class=\"sk-estimator sk-toggleable\"><input class=\"sk-toggleable__control sk-hidden--visually\" id=\"sk-estimator-id-1\" type=\"checkbox\" checked><label for=\"sk-estimator-id-1\" class=\"sk-toggleable__label sk-toggleable__label-arrow\">SVC</label><div class=\"sk-toggleable__content\"><pre>SVC(gamma=0.1)</pre></div></div></div></div></div>"
      ],
      "text/plain": [
       "SVC(gamma=0.1)"
      ]
     },
     "execution_count": 35,
     "metadata": {},
     "output_type": "execute_result"
    }
   ],
   "source": [
    "best_model_km.fit(X_train, Y_train.squeeze())"
   ]
  },
  {
   "cell_type": "code",
   "execution_count": 36,
   "metadata": {},
   "outputs": [
    {
     "data": {
      "text/plain": [
       "(1.0, 1.0)"
      ]
     },
     "execution_count": 36,
     "metadata": {},
     "output_type": "execute_result"
    }
   ],
   "source": [
    "preds_train, preds_val = best_model_km.predict(X_train), best_model_km.predict(X_val)\n",
    "score_train, score_val = accuracy_score(Y_train.squeeze(), preds_train), accuracy_score(Y_val.squeeze(), preds_val)\n",
    "score_train, score_val"
   ]
  },
  {
   "cell_type": "code",
   "execution_count": 37,
   "metadata": {},
   "outputs": [],
   "source": [
    "scores_km = np.array([\n",
    "    accuracy_score(\n",
    "        best_model_km.predict(X_test[i]),\n",
    "        Y_test[i].squeeze()\n",
    "    ) for i in range(128)\n",
    "])"
   ]
  },
  {
   "cell_type": "code",
   "execution_count": 38,
   "metadata": {},
   "outputs": [
    {
     "data": {
      "text/plain": [
       "(0.99609375, 0.5)"
      ]
     },
     "execution_count": 38,
     "metadata": {},
     "output_type": "execute_result"
    }
   ],
   "source": [
    "scores_km.mean(), scores_km[ZERO_ORTHANT_INDEX].mean()"
   ]
  },
  {
   "attachments": {},
   "cell_type": "markdown",
   "metadata": {},
   "source": [
    "## NN vs SVM"
   ]
  },
  {
   "cell_type": "code",
   "execution_count": 39,
   "metadata": {},
   "outputs": [
    {
     "data": {
      "text/plain": [
       "Text(0.5, 0.98, 'Accuracy per orthant')"
      ]
     },
     "execution_count": 39,
     "metadata": {},
     "output_type": "execute_result"
    },
    {
     "data": {
      "image/png": "[encoded data removed]",
      "text/plain": [
       "<Figure size 1300x600 with 2 Axes>"
      ]
     },
     "metadata": {},
     "output_type": "display_data"
    }
   ],
   "source": [
    "plt.figure(figsize=(13, 6))\n",
    "\n",
    "plt.subplot(121)\n",
    "plt.scatter(orthant_counts, scores_nn)\n",
    "plt.xlabel('Number of points')\n",
    "plt.ylabel('Binary accuracy')\n",
    "plt.ylim((0., 1.))\n",
    "plt.title('NN')\n",
    "\n",
    "plt.subplot(122)\n",
    "plt.scatter(orthant_counts, scores_km)\n",
    "plt.xlabel('Number of points')\n",
    "plt.ylabel('Binary accuracy')\n",
    "plt.ylim((0., 1.))\n",
    "plt.title('SVM')\n",
    "\n",
    "plt.suptitle('Accuracy per orthant')"
   ]
  },
  {
   "cell_type": "code",
   "execution_count": null,
   "metadata": {},
   "outputs": [],
   "source": []
  }
 ],
 "metadata": {
  "kernelspec": {
   "display_name": "Python 3",
   "language": "python",
   "name": "python3"
  },
  "language_info": {
   "codemirror_mode": {
    "name": "ipython",
    "version": 3
   },
   "file_extension": ".py",
   "mimetype": "text/x-python",
   "name": "python",
   "nbconvert_exporter": "python",
   "pygments_lexer": "ipython3",
   "version": "3.10.6"
  },
  "orig_nbformat": 4,
  "vscode": {
   "interpreter": {
    "hash": "916dbcbb3f70747c44a77c7bcd40155683ae19c65e1c03b4aa3499c5328201f1"
   }
  }
 },
 "nbformat": 4,
 "nbformat_minor": 2
}
