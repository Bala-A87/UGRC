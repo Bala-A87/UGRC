{
 "cells": [
  {
   "cell_type": "code",
   "execution_count": 1,
   "metadata": {},
   "outputs": [],
   "source": [
    "import torch\n",
    "import matplotlib.pyplot as plt"
   ]
  },
  {
   "attachments": {},
   "cell_type": "markdown",
   "metadata": {},
   "source": [
    "## Data"
   ]
  },
  {
   "cell_type": "code",
   "execution_count": 2,
   "metadata": {},
   "outputs": [],
   "source": [
    "LOW_RADIUS = 1.\n",
    "HIGH_RADIUS = 2.\n",
    "NUM_SAMPLES = 1000"
   ]
  },
  {
   "cell_type": "code",
   "execution_count": 3,
   "metadata": {},
   "outputs": [],
   "source": [
    "theta_0 = torch.rand(NUM_SAMPLES, 1) * 2 * torch.pi\n",
    "theta_1 = torch.rand(NUM_SAMPLES, 1) * 2 * torch.pi"
   ]
  },
  {
   "cell_type": "code",
   "execution_count": 4,
   "metadata": {},
   "outputs": [],
   "source": [
    "X1_0 = torch.cos(theta_0) * LOW_RADIUS\n",
    "X2_0 = torch.sin(theta_0) * LOW_RADIUS\n",
    "Y_0 = torch.zeros(len(X1_0), 1)\n",
    "X1_1 = torch.cos(theta_1) * HIGH_RADIUS\n",
    "X2_1 = torch.sin(theta_1) * HIGH_RADIUS\n",
    "Y_1 = torch.ones(len(X1_1), 1)"
   ]
  },
  {
   "cell_type": "code",
   "execution_count": 5,
   "metadata": {},
   "outputs": [
    {
     "data": {
      "text/plain": [
       "(torch.Size([2000, 2]), torch.Size([2000, 1]))"
      ]
     },
     "execution_count": 5,
     "metadata": {},
     "output_type": "execute_result"
    }
   ],
   "source": [
    "X = torch.cat([\n",
    "    torch.cat([X1_0, X2_0], dim=1),\n",
    "    torch.cat([X1_1, X2_1], dim=1)\n",
    "], dim=0)\n",
    "Y = torch.cat([Y_0, Y_1], dim=0)\n",
    "X.shape, Y.shape"
   ]
  },
  {
   "cell_type": "code",
   "execution_count": 6,
   "metadata": {},
   "outputs": [
    {
     "data": {
      "text/plain": [
       "(torch.Size([1500, 2]),\n",
       " torch.Size([500, 2]),\n",
       " torch.Size([1500, 1]),\n",
       " torch.Size([500, 1]))"
      ]
     },
     "execution_count": 6,
     "metadata": {},
     "output_type": "execute_result"
    }
   ],
   "source": [
    "from sklearn.model_selection import train_test_split\n",
    "\n",
    "X_train, X_test, Y_train, Y_test = train_test_split(X, Y, test_size=0.25)\n",
    "X_train.shape, X_test.shape, Y_train.shape, Y_test.shape"
   ]
  },
  {
   "attachments": {},
   "cell_type": "markdown",
   "metadata": {},
   "source": [
    "## Model"
   ]
  },
  {
   "cell_type": "code",
   "execution_count": 7,
   "metadata": {},
   "outputs": [],
   "source": [
    "device = 'cpu'"
   ]
  },
  {
   "cell_type": "code",
   "execution_count": 8,
   "metadata": {},
   "outputs": [],
   "source": [
    "from torch import nn\n",
    "\n",
    "class SimpleNN(nn.Module):\n",
    "    def __init__(self) -> None:\n",
    "        super().__init__()\n",
    "        self.layers = nn.Sequential(\n",
    "            nn.Linear(in_features=2, out_features=32),\n",
    "            nn.ReLU(),\n",
    "            nn.Linear(in_features=32, out_features=32),\n",
    "            nn.ReLU(),\n",
    "            nn.Linear(in_features=32, out_features=1),\n",
    "            nn.Sigmoid()\n",
    "        )\n",
    "    \n",
    "    def forward(self, x):\n",
    "        return self.layers(x)"
   ]
  },
  {
   "cell_type": "code",
   "execution_count": 9,
   "metadata": {},
   "outputs": [],
   "source": [
    "from scripts.metrics import BinaryAccuracy\n",
    "\n",
    "model = SimpleNN().to(device)\n",
    "loss_fn = torch.nn.BCELoss()\n",
    "optimizer = torch.optim.Adam(params=model.parameters(), lr=1e-4)\n",
    "metric = BinaryAccuracy()"
   ]
  },
  {
   "cell_type": "code",
   "execution_count": 10,
   "metadata": {},
   "outputs": [],
   "source": [
    "epochs = 100"
   ]
  },
  {
   "cell_type": "code",
   "execution_count": 11,
   "metadata": {},
   "outputs": [],
   "source": [
    "from scripts.utils import make_dataloader\n",
    "\n",
    "train_dataloader = make_dataloader(X_train, Y_train, batch_size=32, shuffle=True)"
   ]
  },
  {
   "cell_type": "code",
   "execution_count": 12,
   "metadata": {},
   "outputs": [],
   "source": [
    "XLIM = (-2.5, 2.5)\n",
    "YLIM = (-2.5, 2.5)\n",
    "XSTEP = 100\n",
    "YSTEP = 100"
   ]
  },
  {
   "cell_type": "code",
   "execution_count": 13,
   "metadata": {},
   "outputs": [],
   "source": [
    "from typing import Tuple\n",
    "from scripts.test import predict\n",
    "\n",
    "def get_decision_surface(\n",
    "    model: torch.nn.Module,\n",
    "    xlim: Tuple[float, float] = XLIM,\n",
    "    ylim: Tuple[float, float] = XLIM,\n",
    "    xstep: float = XSTEP,\n",
    "    ystep: float = YSTEP\n",
    ") -> Tuple[torch.Tensor, torch.Tensor, torch.Tensor]:\n",
    "    x_range = torch.linspace(xlim[0], xlim[1], xstep)\n",
    "    y_range = torch.linspace(ylim[0], ylim[1], ystep)\n",
    "    X_grid, Y_grid = torch.meshgrid(x_range, y_range, indexing='xy')\n",
    "    X_all, Y_all = X_grid.reshape(-1, 1), Y_grid.reshape(-1, 1)\n",
    "    input_all = torch.cat([X_all, Y_all], dim=1)\n",
    "    output_all = torch.round(predict(model=model, x=input_all, device=device))\n",
    "    Z_grid = torch.reshape(output_all, X_grid.shape)\n",
    "\n",
    "    return X_grid, Y_grid, Z_grid"
   ]
  },
  {
   "cell_type": "code",
   "execution_count": 14,
   "metadata": {},
   "outputs": [],
   "source": [
    "from matplotlib.animation import FuncAnimation, PillowWriter"
   ]
  },
  {
   "cell_type": "code",
   "execution_count": 15,
   "metadata": {},
   "outputs": [
    {
     "name": "stdout",
     "output_type": "stream",
     "text": [
      "Epoch 1 => Train loss: 0.678342, Train score: 0.514533\n",
      "Epoch 2 => Train loss: 0.671043, Train score: 0.561075\n",
      "Epoch 3 => Train loss: 0.664402, Train score: 0.567249\n",
      "Epoch 4 => Train loss: 0.657454, Train score: 0.553191\n",
      "Epoch 5 => Train loss: 0.650225, Train score: 0.521467\n",
      "Epoch 6 => Train loss: 0.642720, Train score: 0.496771\n",
      "Epoch 7 => Train loss: 0.634679, Train score: 0.496865\n",
      "Epoch 8 => Train loss: 0.625579, Train score: 0.496960\n",
      "Epoch 9 => Train loss: 0.615844, Train score: 0.496581\n",
      "Epoch 10 => Train loss: 0.604571, Train score: 0.496865\n",
      "Epoch 11 => Train loss: 0.592293, Train score: 0.496581\n",
      "Epoch 12 => Train loss: 0.580120, Train score: 0.496581\n",
      "Epoch 13 => Train loss: 0.568072, Train score: 0.496676\n",
      "Epoch 14 => Train loss: 0.555828, Train score: 0.509593\n",
      "Epoch 15 => Train loss: 0.543367, Train score: 0.582067\n",
      "Epoch 16 => Train loss: 0.530309, Train score: 0.693199\n",
      "Epoch 17 => Train loss: 0.516364, Train score: 0.835486\n",
      "Epoch 18 => Train loss: 0.502095, Train score: 0.894757\n",
      "Epoch 19 => Train loss: 0.486567, Train score: 0.929426\n",
      "Epoch 20 => Train loss: 0.470479, Train score: 0.952698\n",
      "Epoch 21 => Train loss: 0.453660, Train score: 0.990691\n",
      "Epoch 22 => Train loss: 0.436852, Train score: 1.000000\n",
      "Epoch 23 => Train loss: 0.419848, Train score: 1.000000\n",
      "Epoch 24 => Train loss: 0.403109, Train score: 1.000000\n",
      "Epoch 25 => Train loss: 0.386636, Train score: 1.000000\n",
      "Epoch 26 => Train loss: 0.369828, Train score: 1.000000\n",
      "Epoch 27 => Train loss: 0.353354, Train score: 1.000000\n",
      "Epoch 28 => Train loss: 0.337036, Train score: 1.000000\n",
      "Epoch 29 => Train loss: 0.320867, Train score: 1.000000\n",
      "Epoch 30 => Train loss: 0.304934, Train score: 1.000000\n",
      "Epoch 31 => Train loss: 0.289614, Train score: 1.000000\n",
      "Epoch 32 => Train loss: 0.274834, Train score: 1.000000\n",
      "Epoch 33 => Train loss: 0.260454, Train score: 1.000000\n",
      "Epoch 34 => Train loss: 0.246537, Train score: 1.000000\n",
      "Epoch 35 => Train loss: 0.232990, Train score: 1.000000\n",
      "Epoch 36 => Train loss: 0.220129, Train score: 1.000000\n",
      "Epoch 37 => Train loss: 0.207972, Train score: 1.000000\n",
      "Epoch 38 => Train loss: 0.196532, Train score: 1.000000\n",
      "Epoch 39 => Train loss: 0.185428, Train score: 1.000000\n",
      "Epoch 40 => Train loss: 0.175060, Train score: 1.000000\n",
      "Epoch 41 => Train loss: 0.165034, Train score: 1.000000\n",
      "Epoch 42 => Train loss: 0.155576, Train score: 1.000000\n",
      "Epoch 43 => Train loss: 0.146763, Train score: 1.000000\n",
      "Epoch 44 => Train loss: 0.138294, Train score: 1.000000\n",
      "Epoch 45 => Train loss: 0.130247, Train score: 1.000000\n",
      "Epoch 46 => Train loss: 0.122833, Train score: 1.000000\n",
      "Epoch 47 => Train loss: 0.115635, Train score: 1.000000\n",
      "Epoch 48 => Train loss: 0.109025, Train score: 1.000000\n",
      "Epoch 49 => Train loss: 0.102844, Train score: 1.000000\n",
      "Epoch 50 => Train loss: 0.096898, Train score: 1.000000\n",
      "Epoch 51 => Train loss: 0.091349, Train score: 1.000000\n",
      "Epoch 52 => Train loss: 0.086153, Train score: 1.000000\n",
      "Epoch 53 => Train loss: 0.081323, Train score: 1.000000\n",
      "Epoch 54 => Train loss: 0.076704, Train score: 1.000000\n",
      "Epoch 55 => Train loss: 0.072411, Train score: 1.000000\n",
      "Epoch 56 => Train loss: 0.068351, Train score: 1.000000\n",
      "Epoch 57 => Train loss: 0.064545, Train score: 1.000000\n",
      "Epoch 58 => Train loss: 0.060982, Train score: 1.000000\n",
      "Epoch 59 => Train loss: 0.057608, Train score: 1.000000\n",
      "Epoch 60 => Train loss: 0.054418, Train score: 1.000000\n",
      "Epoch 61 => Train loss: 0.051434, Train score: 1.000000\n",
      "Epoch 62 => Train loss: 0.048644, Train score: 1.000000\n",
      "Epoch 63 => Train loss: 0.046051, Train score: 1.000000\n",
      "Epoch 64 => Train loss: 0.043576, Train score: 1.000000\n",
      "Epoch 65 => Train loss: 0.041287, Train score: 1.000000\n",
      "Epoch 66 => Train loss: 0.039159, Train score: 1.000000\n",
      "Epoch 67 => Train loss: 0.037124, Train score: 1.000000\n",
      "Epoch 68 => Train loss: 0.035237, Train score: 1.000000\n",
      "Epoch 69 => Train loss: 0.033451, Train score: 1.000000\n",
      "Epoch 70 => Train loss: 0.031760, Train score: 1.000000\n",
      "Epoch 71 => Train loss: 0.030200, Train score: 1.000000\n",
      "Epoch 72 => Train loss: 0.028701, Train score: 1.000000\n",
      "Epoch 73 => Train loss: 0.027304, Train score: 1.000000\n",
      "Epoch 74 => Train loss: 0.025969, Train score: 1.000000\n",
      "Epoch 75 => Train loss: 0.024736, Train score: 1.000000\n",
      "Epoch 76 => Train loss: 0.023556, Train score: 1.000000\n",
      "Epoch 77 => Train loss: 0.022439, Train score: 1.000000\n",
      "Epoch 78 => Train loss: 0.021389, Train score: 1.000000\n",
      "Epoch 79 => Train loss: 0.020403, Train score: 1.000000\n",
      "Epoch 80 => Train loss: 0.019458, Train score: 1.000000\n",
      "Epoch 81 => Train loss: 0.018566, Train score: 1.000000\n",
      "Epoch 82 => Train loss: 0.017740, Train score: 1.000000\n",
      "Epoch 83 => Train loss: 0.016933, Train score: 1.000000\n",
      "Epoch 84 => Train loss: 0.016183, Train score: 1.000000\n",
      "Epoch 85 => Train loss: 0.015460, Train score: 1.000000\n",
      "Epoch 86 => Train loss: 0.014795, Train score: 1.000000\n",
      "Epoch 87 => Train loss: 0.014149, Train score: 1.000000\n",
      "Epoch 88 => Train loss: 0.013534, Train score: 1.000000\n",
      "Epoch 89 => Train loss: 0.012958, Train score: 1.000000\n",
      "Epoch 90 => Train loss: 0.012402, Train score: 1.000000\n",
      "Epoch 91 => Train loss: 0.011881, Train score: 1.000000\n",
      "Epoch 92 => Train loss: 0.011378, Train score: 1.000000\n",
      "Epoch 93 => Train loss: 0.010903, Train score: 1.000000\n",
      "Epoch 94 => Train loss: 0.010457, Train score: 1.000000\n",
      "Epoch 95 => Train loss: 0.010025, Train score: 1.000000\n",
      "Epoch 96 => Train loss: 0.009615, Train score: 1.000000\n",
      "Epoch 97 => Train loss: 0.009229, Train score: 1.000000\n",
      "Epoch 98 => Train loss: 0.008855, Train score: 1.000000\n",
      "Epoch 99 => Train loss: 0.008502, Train score: 1.000000\n",
      "Epoch 100 => Train loss: 0.008165, Train score: 1.000000\n"
     ]
    }
   ],
   "source": [
    "history = {\n",
    "    'epochs': [],\n",
    "    'train_loss': [],\n",
    "    'train_score': [],\n",
    "    'models': []\n",
    "}\n",
    "\n",
    "for epoch in range(epochs):\n",
    "    train_loss, train_score = 0., 0.\n",
    "    for (X, y) in train_dataloader:\n",
    "        X, y = X.to(device), y.to(device)\n",
    "\n",
    "        model.train()\n",
    "        preds = model(X)\n",
    "        loss = loss_fn(preds, y)\n",
    "        optimizer.zero_grad()\n",
    "        loss.backward()\n",
    "        optimizer.step()\n",
    "\n",
    "        train_loss += loss\n",
    "        train_score += metric(preds, y)\n",
    "\n",
    "    train_loss /= len(train_dataloader)\n",
    "    train_score /= len(train_dataloader)\n",
    "    history['epochs'].append(epoch+1)\n",
    "    history['train_loss'].append(train_loss.detach().cpu().numpy())\n",
    "    history['train_score'].append(train_score.detach().cpu().numpy())\n",
    "    curr_model = SimpleNN().to(device)\n",
    "    curr_model.load_state_dict(model.state_dict())\n",
    "    history['models'].append(curr_model)\n",
    "    print(f'Epoch {epoch+1} => Train loss: {train_loss:.6f}, Train score: {train_score:.6f}')\n"
   ]
  },
  {
   "cell_type": "code",
   "execution_count": 16,
   "metadata": {},
   "outputs": [
    {
     "data": {
      "text/plain": [
       "Text(0.5, 1.0, 'Training score')"
      ]
     },
     "execution_count": 16,
     "metadata": {},
     "output_type": "execute_result"
    },
    {
     "data": {
      "image/png": "[encoded data removed]",
      "text/plain": [
       "<Figure size 1200x600 with 2 Axes>"
      ]
     },
     "metadata": {},
     "output_type": "display_data"
    }
   ],
   "source": [
    "plt.figure(figsize=(12, 6))\n",
    "\n",
    "plt.subplot(121)\n",
    "plt.plot(history['epochs'], history['train_loss'])\n",
    "plt.title('Training loss')\n",
    "\n",
    "plt.subplot(122)\n",
    "plt.plot(history['epochs'], history['train_score'])\n",
    "plt.title('Training score')"
   ]
  },
  {
   "cell_type": "code",
   "execution_count": 17,
   "metadata": {},
   "outputs": [
    {
     "data": {
      "text/plain": [
       "(tensor(1.), tensor(1.))"
      ]
     },
     "execution_count": 17,
     "metadata": {},
     "output_type": "execute_result"
    }
   ],
   "source": [
    "from scripts.test import predict\n",
    "\n",
    "preds_train, preds_test = predict(model=model, x=X_train, device=device), predict(model=model, x=X_test, device=device)\n",
    "score_train, score_test = metric(preds_train, Y_train), metric(preds_test, Y_test)\n",
    "score_train, score_test"
   ]
  },
  {
   "cell_type": "code",
   "execution_count": 19,
   "metadata": {},
   "outputs": [
    {
     "data": {
      "image/png": "[encoded data removed]",
      "text/plain": [
       "<Figure size 640x480 with 1 Axes>"
      ]
     },
     "metadata": {},
     "output_type": "display_data"
    }
   ],
   "source": [
    "import numpy as np\n",
    "\n",
    "fig, ax = plt.subplots()\n",
    "ax.set_xlim(XLIM)\n",
    "ax.set_ylim(YLIM)\n",
    "ax.scatter(X_train[:, 0], X_train[:, 1], s=20, c=Y_train, cmap='PiYG')\n",
    "\n",
    "def animate(i):\n",
    "    model = history['models'][i]\n",
    "    X_grid, Y_grid, Z_grid = get_decision_surface(model)\n",
    "    ax.clear()\n",
    "    ax.scatter(X_train[:, 0], X_train[:, 1], s=20, c=Y_train, cmap='PiYG')\n",
    "    sc = ax.scatter(X_grid, Y_grid, s=8, c=Z_grid, cmap='PiYG', alpha=0.25)\n",
    "    ax.set_title('Epoch ' + str(i+1))\n",
    "    fig.tight_layout()\n",
    "    return sc\n",
    "\n",
    "def init_animate():\n",
    "    return animate(0)\n",
    "\n",
    "ani = FuncAnimation(fig=fig, func=animate, frames=range(epochs), interval=50, repeat=True)\n",
    "plt.show()\n",
    "writer = PillowWriter(fps=20, metadata=dict(artist='Me'), bitrate=1800)\n",
    "\n",
    "ani.save('animations/2DCirclesTrain.gif', writer=writer)"
   ]
  }
 ],
 "metadata": {
  "kernelspec": {
   "display_name": "Python 3",
   "language": "python",
   "name": "python3"
  },
  "language_info": {
   "codemirror_mode": {
    "name": "ipython",
    "version": 3
   },
   "file_extension": ".py",
   "mimetype": "text/x-python",
   "name": "python",
   "nbconvert_exporter": "python",
   "pygments_lexer": "ipython3",
   "version": "3.10.6"
  },
  "orig_nbformat": 4,
  "vscode": {
   "interpreter": {
    "hash": "916dbcbb3f70747c44a77c7bcd40155683ae19c65e1c03b4aa3499c5328201f1"
   }
  }
 },
 "nbformat": 4,
 "nbformat_minor": 2
}
